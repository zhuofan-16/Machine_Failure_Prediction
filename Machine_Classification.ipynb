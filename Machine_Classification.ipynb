{
 "cells": [
  {
   "cell_type": "markdown",
   "source": [
    "# Machine Failure Prediction using Machine Learning\n",
    "Author: Chen ZhuoFan (P2100746) | Singapore Polytechnic\n",
    "\n",
    "Globalisation is the process of interaction and integration among people,companies and governments worldwide.It has accelerated since the 18th century and have enabled the trade of goods and services at a bigger scale.\n",
    "\n",
    "The production of goods need to be done more effectively.In today's world, many goods are manufacturing by machines in a pipeline to ensure high efficiency and precision at the same time. However,machines may malfunction with time.These malfunctioning machines may result in defects in goods which is not favourable. Manual checking can be time-consuming and cost-inefficient.\n",
    "\n",
    "Machine Learning is defined by Mitchell (1997) as the study of computer algorithms that improve automatically through experience. [3] Machine learning comes to our sight in the recent decades with its ease and high performance. It has the capacity to learn and identify patterns from data and make decision.\n",
    "\n",
    "In this experiment ,we will make use of machine learning model to assist us in predicting malfunctioning machines so that repairs or replacements can be done in time to reduce disruption and loss.\n"
   ],
   "metadata": {
    "collapsed": false,
    "pycharm": {
     "name": "#%% md\n"
    }
   }
  },
  {
   "cell_type": "markdown",
   "source": [
    "## Problem Statement\n",
    "\n",
    "How can we make use of machine learning to predict malfunctioning machines in the factories?"
   ],
   "metadata": {
    "collapsed": false,
    "pycharm": {
     "name": "#%% md\n"
    }
   }
  },
  {
   "cell_type": "markdown",
   "source": [
    "## Importing Libraries"
   ],
   "metadata": {
    "collapsed": false,
    "pycharm": {
     "name": "#%% md\n"
    }
   }
  },
  {
   "cell_type": "code",
   "execution_count": 1,
   "outputs": [
    {
     "name": "stdout",
     "output_type": "stream",
     "text": [
      "Requirement already satisfied: numpy in c:\\users\\zhuof\\pycharmprojects\\classificationca1\\venv\\lib\\site-packages (1.22.3)\n",
      "Requirement already satisfied: matplotlib in c:\\users\\zhuof\\pycharmprojects\\classificationca1\\venv\\lib\\site-packages (3.5.2)\n",
      "Requirement already satisfied: pandas in c:\\users\\zhuof\\pycharmprojects\\classificationca1\\venv\\lib\\site-packages (1.4.2)\n",
      "Requirement already satisfied: seaborn in c:\\users\\zhuof\\pycharmprojects\\classificationca1\\venv\\lib\\site-packages (0.11.2)\n",
      "Requirement already satisfied: sklearn in c:\\users\\zhuof\\pycharmprojects\\classificationca1\\venv\\lib\\site-packages (0.0)\n",
      "Requirement already satisfied: yellowbrick in c:\\users\\zhuof\\pycharmprojects\\classificationca1\\venv\\lib\\site-packages (1.4)\n",
      "Requirement already satisfied: phik in c:\\users\\zhuof\\pycharmprojects\\classificationca1\\venv\\lib\\site-packages (0.12.2)\n",
      "Requirement already satisfied: statsmodels in c:\\users\\zhuof\\pycharmprojects\\classificationca1\\venv\\lib\\site-packages (0.13.2)\n",
      "Requirement already satisfied: pyampute in c:\\users\\zhuof\\pycharmprojects\\classificationca1\\venv\\lib\\site-packages (0.0.2)\n",
      "Requirement already satisfied: xgboost in c:\\users\\zhuof\\pycharmprojects\\classificationca1\\venv\\lib\\site-packages (1.6.1)\n",
      "Requirement already satisfied: imblearn in c:\\users\\zhuof\\pycharmprojects\\classificationca1\\venv\\lib\\site-packages (0.0)\n",
      "Requirement already satisfied: fonttools>=4.22.0 in c:\\users\\zhuof\\pycharmprojects\\classificationca1\\venv\\lib\\site-packages (from matplotlib) (4.33.3)\n",
      "Requirement already satisfied: pillow>=6.2.0 in c:\\users\\zhuof\\pycharmprojects\\classificationca1\\venv\\lib\\site-packages (from matplotlib) (9.1.0)\n",
      "Requirement already satisfied: kiwisolver>=1.0.1 in c:\\users\\zhuof\\pycharmprojects\\classificationca1\\venv\\lib\\site-packages (from matplotlib) (1.4.2)\n",
      "Requirement already satisfied: pyparsing>=2.2.1 in c:\\users\\zhuof\\pycharmprojects\\classificationca1\\venv\\lib\\site-packages (from matplotlib) (3.0.9)\n",
      "Requirement already satisfied: cycler>=0.10 in c:\\users\\zhuof\\pycharmprojects\\classificationca1\\venv\\lib\\site-packages (from matplotlib) (0.11.0)\n",
      "Requirement already satisfied: python-dateutil>=2.7 in c:\\users\\zhuof\\pycharmprojects\\classificationca1\\venv\\lib\\site-packages (from matplotlib) (2.8.2)\n",
      "Requirement already satisfied: packaging>=20.0 in c:\\users\\zhuof\\pycharmprojects\\classificationca1\\venv\\lib\\site-packages (from matplotlib) (21.3)\n",
      "Requirement already satisfied: pytz>=2020.1 in c:\\users\\zhuof\\pycharmprojects\\classificationca1\\venv\\lib\\site-packages (from pandas) (2022.1)\n",
      "Requirement already satisfied: scipy>=1.0 in c:\\users\\zhuof\\pycharmprojects\\classificationca1\\venv\\lib\\site-packages (from seaborn) (1.8.0)\n",
      "Requirement already satisfied: scikit-learn in c:\\users\\zhuof\\pycharmprojects\\classificationca1\\venv\\lib\\site-packages (from sklearn) (1.1.0)\n",
      "Requirement already satisfied: joblib>=0.14.1 in c:\\users\\zhuof\\pycharmprojects\\classificationca1\\venv\\lib\\site-packages (from phik) (1.1.0)\n",
      "Requirement already satisfied: patsy>=0.5.2 in c:\\users\\zhuof\\pycharmprojects\\classificationca1\\venv\\lib\\site-packages (from statsmodels) (0.5.2)\n",
      "Requirement already satisfied: imbalanced-learn in c:\\users\\zhuof\\pycharmprojects\\classificationca1\\venv\\lib\\site-packages (from imblearn) (0.9.0)\n",
      "Requirement already satisfied: six in c:\\users\\zhuof\\pycharmprojects\\classificationca1\\venv\\lib\\site-packages (from patsy>=0.5.2->statsmodels) (1.16.0)\n",
      "Requirement already satisfied: threadpoolctl>=2.0.0 in c:\\users\\zhuof\\pycharmprojects\\classificationca1\\venv\\lib\\site-packages (from scikit-learn->sklearn) (3.1.0)\n"
     ]
    },
    {
     "name": "stderr",
     "output_type": "stream",
     "text": [
      "WARNING: You are using pip version 21.3.1; however, version 22.1 is available.\n",
      "You should consider upgrading via the 'C:\\Users\\zhuof\\PycharmProjects\\classificationCA1\\venv\\Scripts\\python.exe -m pip install --upgrade pip' command.\n"
     ]
    }
   ],
   "source": [
    "!pip install numpy matplotlib pandas seaborn sklearn yellowbrick phik statsmodels pyampute xgboost imblearn"
   ],
   "metadata": {
    "collapsed": false,
    "pycharm": {
     "name": "#%%\n"
    }
   }
  },
  {
   "cell_type": "code",
   "execution_count": 2,
   "outputs": [],
   "source": [
    "import numpy as np\n",
    "import matplotlib.pyplot as plt\n",
    "import pandas as pd\n",
    "import seaborn as sns\n",
    "\n",
    "sns.set_style(\"whitegrid\")\n",
    "\n",
    "\n",
    "\n",
    "# Model Evaluation\n",
    "from sklearn.model_selection import train_test_split, cross_validate, StratifiedKFold\n",
    "from sklearn.metrics import classification_report, plot_precision_recall_curve, plot_roc_curve, confusion_matrix\n",
    "from yellowbrick.model_selection import learning_curve\n",
    "\n",
    "# Missing Value\n",
    "from pyampute.exploration.mcar_statistical_tests import MCARTest\n",
    "from sklearn.impute import KNNImputer\n",
    "\n",
    "\n",
    "\n",
    "# Data Preprocessing\n",
    "import phik\n",
    "from sklearn.pipeline import Pipeline\n",
    "from sklearn.compose import ColumnTransformer\n",
    "from sklearn.preprocessing import  OneHotEncoder\n",
    "from sklearn.preprocessing import  MinMaxScaler\n",
    "\n",
    "\n",
    "# Models\n",
    "from sklearn.dummy import DummyClassifier\n",
    "from sklearn.neighbors import KNeighborsClassifier\n",
    "from sklearn.linear_model import LogisticRegression\n",
    "from sklearn.svm import SVC\n",
    "from sklearn.tree import DecisionTreeClassifier\n",
    "from sklearn.ensemble import RandomForestClassifier, GradientBoostingClassifier, AdaBoostClassifier\n",
    "from sklearn.naive_bayes import GaussianNB\n",
    "import xgboost as xgb\n",
    "\n",
    "\n",
    "# Feature Importance\n",
    "from sklearn.inspection import permutation_importance\n",
    "\n",
    "# Hyperparameter Tuning\n",
    "from sklearn.model_selection import  GridSearchCV\n",
    "from sklearn.metrics import recall_score\n",
    "\n",
    "# Feature Selection\n",
    "from sklearn.feature_selection import SequentialFeatureSelector\n",
    "from sklearn.feature_selection import SelectFromModel, RFE, SelectKBest,chi2\n",
    "\n",
    "\n",
    "# Random State\n",
    "random_state = 0"
   ],
   "metadata": {
    "collapsed": false,
    "pycharm": {
     "name": "#%%\n"
    }
   }
  },
  {
   "cell_type": "markdown",
   "source": [
    "## Data Ingestion"
   ],
   "metadata": {
    "collapsed": false,
    "pycharm": {
     "name": "#%% md\n"
    }
   }
  },
  {
   "cell_type": "code",
   "execution_count": 3,
   "outputs": [
    {
     "data": {
      "text/plain": "          Product ID Quality  Ambient T (C)  Process T (C)  \\\nUnique ID                                                    \n1             K12965       M          24.95          35.45   \n2             Z62710       L          25.05          35.55   \n3             T20224       L          24.95          35.35   \n4             Z33024       L          25.05          35.45   \n5             Z52839       L          25.05          35.55   \n...              ...     ...            ...            ...   \n19996         T87335       M          25.75          35.35   \n19997         Z59525       H          25.85          35.35   \n19998         T83921       M          25.95            NaN   \n19999         K42424       H          25.95          35.65   \n20000         Z10048       M          25.95          35.65   \n\n           Rotation Speed (rpm)  Torque (Nm)  Tool Wear (min)  Machine Status  \nUnique ID                                                                      \n1                        1551.0         42.8                0               0  \n2                        1408.0         46.3                3               0  \n3                        1498.0         49.4                5               0  \n4                        1433.0         39.5                7               0  \n5                        1408.0         40.0                9               0  \n...                         ...          ...              ...             ...  \n19996                       NaN         29.5               14               0  \n19997                    1632.0         31.8               17               0  \n19998                       NaN         33.4               22               0  \n19999                    1408.0         48.5               25               0  \n20000                    1500.0         40.2               30               0  \n\n[20000 rows x 8 columns]",
      "text/html": "<div>\n<style scoped>\n    .dataframe tbody tr th:only-of-type {\n        vertical-align: middle;\n    }\n\n    .dataframe tbody tr th {\n        vertical-align: top;\n    }\n\n    .dataframe thead th {\n        text-align: right;\n    }\n</style>\n<table border=\"1\" class=\"dataframe\">\n  <thead>\n    <tr style=\"text-align: right;\">\n      <th></th>\n      <th>Product ID</th>\n      <th>Quality</th>\n      <th>Ambient T (C)</th>\n      <th>Process T (C)</th>\n      <th>Rotation Speed (rpm)</th>\n      <th>Torque (Nm)</th>\n      <th>Tool Wear (min)</th>\n      <th>Machine Status</th>\n    </tr>\n    <tr>\n      <th>Unique ID</th>\n      <th></th>\n      <th></th>\n      <th></th>\n      <th></th>\n      <th></th>\n      <th></th>\n      <th></th>\n      <th></th>\n    </tr>\n  </thead>\n  <tbody>\n    <tr>\n      <th>1</th>\n      <td>K12965</td>\n      <td>M</td>\n      <td>24.95</td>\n      <td>35.45</td>\n      <td>1551.0</td>\n      <td>42.8</td>\n      <td>0</td>\n      <td>0</td>\n    </tr>\n    <tr>\n      <th>2</th>\n      <td>Z62710</td>\n      <td>L</td>\n      <td>25.05</td>\n      <td>35.55</td>\n      <td>1408.0</td>\n      <td>46.3</td>\n      <td>3</td>\n      <td>0</td>\n    </tr>\n    <tr>\n      <th>3</th>\n      <td>T20224</td>\n      <td>L</td>\n      <td>24.95</td>\n      <td>35.35</td>\n      <td>1498.0</td>\n      <td>49.4</td>\n      <td>5</td>\n      <td>0</td>\n    </tr>\n    <tr>\n      <th>4</th>\n      <td>Z33024</td>\n      <td>L</td>\n      <td>25.05</td>\n      <td>35.45</td>\n      <td>1433.0</td>\n      <td>39.5</td>\n      <td>7</td>\n      <td>0</td>\n    </tr>\n    <tr>\n      <th>5</th>\n      <td>Z52839</td>\n      <td>L</td>\n      <td>25.05</td>\n      <td>35.55</td>\n      <td>1408.0</td>\n      <td>40.0</td>\n      <td>9</td>\n      <td>0</td>\n    </tr>\n    <tr>\n      <th>...</th>\n      <td>...</td>\n      <td>...</td>\n      <td>...</td>\n      <td>...</td>\n      <td>...</td>\n      <td>...</td>\n      <td>...</td>\n      <td>...</td>\n    </tr>\n    <tr>\n      <th>19996</th>\n      <td>T87335</td>\n      <td>M</td>\n      <td>25.75</td>\n      <td>35.35</td>\n      <td>NaN</td>\n      <td>29.5</td>\n      <td>14</td>\n      <td>0</td>\n    </tr>\n    <tr>\n      <th>19997</th>\n      <td>Z59525</td>\n      <td>H</td>\n      <td>25.85</td>\n      <td>35.35</td>\n      <td>1632.0</td>\n      <td>31.8</td>\n      <td>17</td>\n      <td>0</td>\n    </tr>\n    <tr>\n      <th>19998</th>\n      <td>T83921</td>\n      <td>M</td>\n      <td>25.95</td>\n      <td>NaN</td>\n      <td>NaN</td>\n      <td>33.4</td>\n      <td>22</td>\n      <td>0</td>\n    </tr>\n    <tr>\n      <th>19999</th>\n      <td>K42424</td>\n      <td>H</td>\n      <td>25.95</td>\n      <td>35.65</td>\n      <td>1408.0</td>\n      <td>48.5</td>\n      <td>25</td>\n      <td>0</td>\n    </tr>\n    <tr>\n      <th>20000</th>\n      <td>Z10048</td>\n      <td>M</td>\n      <td>25.95</td>\n      <td>35.65</td>\n      <td>1500.0</td>\n      <td>40.2</td>\n      <td>30</td>\n      <td>0</td>\n    </tr>\n  </tbody>\n</table>\n<p>20000 rows × 8 columns</p>\n</div>"
     },
     "execution_count": 3,
     "metadata": {},
     "output_type": "execute_result"
    }
   ],
   "source": [
    "machineDf=pd.read_csv(\"./factory_data (classification).csv\",index_col='Unique ID')\n",
    "machineDf"
   ],
   "metadata": {
    "collapsed": false,
    "pycharm": {
     "name": "#%%\n"
    }
   }
  },
  {
   "cell_type": "markdown",
   "source": [
    "## Data Exploration\n",
    "\n",
    "### Data Structure"
   ],
   "metadata": {
    "collapsed": false,
    "pycharm": {
     "name": "#%% md\n"
    }
   }
  },
  {
   "cell_type": "code",
   "execution_count": 4,
   "outputs": [
    {
     "name": "stdout",
     "output_type": "stream",
     "text": [
      "<class 'pandas.core.frame.DataFrame'>\n",
      "Int64Index: 20000 entries, 1 to 20000\n",
      "Data columns (total 8 columns):\n",
      " #   Column                Non-Null Count  Dtype  \n",
      "---  ------                --------------  -----  \n",
      " 0   Product ID            20000 non-null  object \n",
      " 1   Quality               19009 non-null  object \n",
      " 2   Ambient T (C)         20000 non-null  float64\n",
      " 3   Process T (C)         19600 non-null  float64\n",
      " 4   Rotation Speed (rpm)  18812 non-null  float64\n",
      " 5   Torque (Nm)           20000 non-null  float64\n",
      " 6   Tool Wear (min)       20000 non-null  int64  \n",
      " 7   Machine Status        20000 non-null  int64  \n",
      "dtypes: float64(4), int64(2), object(2)\n",
      "memory usage: 1.4+ MB\n"
     ]
    }
   ],
   "source": [
    "machineDf.info()"
   ],
   "metadata": {
    "collapsed": false,
    "pycharm": {
     "name": "#%%\n"
    }
   }
  },
  {
   "cell_type": "markdown",
   "source": [
    "### Managing Missing Data"
   ],
   "metadata": {
    "collapsed": false,
    "pycharm": {
     "name": "#%% md\n"
    }
   }
  },
  {
   "cell_type": "markdown",
   "source": [],
   "metadata": {
    "collapsed": false,
    "pycharm": {
     "name": "#%% md\n"
    }
   }
  },
  {
   "cell_type": "code",
   "execution_count": 5,
   "outputs": [
    {
     "data": {
      "text/plain": "                         0\nRotation Speed (rpm)  1188\nQuality                991\nProcess T (C)          400\nProduct ID               0\nAmbient T (C)            0\nTorque (Nm)              0\nTool Wear (min)          0\nMachine Status           0",
      "text/html": "<div>\n<style scoped>\n    .dataframe tbody tr th:only-of-type {\n        vertical-align: middle;\n    }\n\n    .dataframe tbody tr th {\n        vertical-align: top;\n    }\n\n    .dataframe thead th {\n        text-align: right;\n    }\n</style>\n<table border=\"1\" class=\"dataframe\">\n  <thead>\n    <tr style=\"text-align: right;\">\n      <th></th>\n      <th>0</th>\n    </tr>\n  </thead>\n  <tbody>\n    <tr>\n      <th>Rotation Speed (rpm)</th>\n      <td>1188</td>\n    </tr>\n    <tr>\n      <th>Quality</th>\n      <td>991</td>\n    </tr>\n    <tr>\n      <th>Process T (C)</th>\n      <td>400</td>\n    </tr>\n    <tr>\n      <th>Product ID</th>\n      <td>0</td>\n    </tr>\n    <tr>\n      <th>Ambient T (C)</th>\n      <td>0</td>\n    </tr>\n    <tr>\n      <th>Torque (Nm)</th>\n      <td>0</td>\n    </tr>\n    <tr>\n      <th>Tool Wear (min)</th>\n      <td>0</td>\n    </tr>\n    <tr>\n      <th>Machine Status</th>\n      <td>0</td>\n    </tr>\n  </tbody>\n</table>\n</div>"
     },
     "execution_count": 5,
     "metadata": {},
     "output_type": "execute_result"
    }
   ],
   "source": [
    "pd.DataFrame(machineDf.isna().sum().sort_values(ascending=False))"
   ],
   "metadata": {
    "collapsed": false,
    "pycharm": {
     "name": "#%%\n"
    }
   }
  },
  {
   "cell_type": "code",
   "execution_count": 6,
   "outputs": [
    {
     "data": {
      "text/plain": "          Product ID Quality  Ambient T (C)  Process T (C)  \\\nUnique ID                                                    \n7             K40563       L          24.95            NaN   \n11            K30974     NaN          25.25          35.75   \n15            T39889     NaN          25.45          36.05   \n20            T81915       M          25.75            NaN   \n21            S64787       H          25.75          36.15   \n...              ...     ...            ...            ...   \n19982         Z53954       L          25.65            NaN   \n19987         S13645       M          25.75          35.55   \n19992         T72209       M          25.85          35.35   \n19996         T87335       M          25.75          35.35   \n19998         T83921       M          25.95            NaN   \n\n           Rotation Speed (rpm)  Torque (Nm)  Tool Wear (min)  Machine Status  \nUnique ID                                                                      \n7                           NaN         42.4               14               0  \n11                       1782.0         23.9               24               0  \n15                       2035.0         19.6               40               0  \n20                       1632.0         32.5               55               0  \n21                          NaN         42.7               58               0  \n...                         ...          ...              ...             ...  \n19982                    1353.0         47.0              190               0  \n19987                       NaN         42.3              207               0  \n19992                       NaN         26.1                5               0  \n19996                       NaN         29.5               14               0  \n19998                       NaN         33.4               22               0  \n\n[2471 rows x 8 columns]",
      "text/html": "<div>\n<style scoped>\n    .dataframe tbody tr th:only-of-type {\n        vertical-align: middle;\n    }\n\n    .dataframe tbody tr th {\n        vertical-align: top;\n    }\n\n    .dataframe thead th {\n        text-align: right;\n    }\n</style>\n<table border=\"1\" class=\"dataframe\">\n  <thead>\n    <tr style=\"text-align: right;\">\n      <th></th>\n      <th>Product ID</th>\n      <th>Quality</th>\n      <th>Ambient T (C)</th>\n      <th>Process T (C)</th>\n      <th>Rotation Speed (rpm)</th>\n      <th>Torque (Nm)</th>\n      <th>Tool Wear (min)</th>\n      <th>Machine Status</th>\n    </tr>\n    <tr>\n      <th>Unique ID</th>\n      <th></th>\n      <th></th>\n      <th></th>\n      <th></th>\n      <th></th>\n      <th></th>\n      <th></th>\n      <th></th>\n    </tr>\n  </thead>\n  <tbody>\n    <tr>\n      <th>7</th>\n      <td>K40563</td>\n      <td>L</td>\n      <td>24.95</td>\n      <td>NaN</td>\n      <td>NaN</td>\n      <td>42.4</td>\n      <td>14</td>\n      <td>0</td>\n    </tr>\n    <tr>\n      <th>11</th>\n      <td>K30974</td>\n      <td>NaN</td>\n      <td>25.25</td>\n      <td>35.75</td>\n      <td>1782.0</td>\n      <td>23.9</td>\n      <td>24</td>\n      <td>0</td>\n    </tr>\n    <tr>\n      <th>15</th>\n      <td>T39889</td>\n      <td>NaN</td>\n      <td>25.45</td>\n      <td>36.05</td>\n      <td>2035.0</td>\n      <td>19.6</td>\n      <td>40</td>\n      <td>0</td>\n    </tr>\n    <tr>\n      <th>20</th>\n      <td>T81915</td>\n      <td>M</td>\n      <td>25.75</td>\n      <td>NaN</td>\n      <td>1632.0</td>\n      <td>32.5</td>\n      <td>55</td>\n      <td>0</td>\n    </tr>\n    <tr>\n      <th>21</th>\n      <td>S64787</td>\n      <td>H</td>\n      <td>25.75</td>\n      <td>36.15</td>\n      <td>NaN</td>\n      <td>42.7</td>\n      <td>58</td>\n      <td>0</td>\n    </tr>\n    <tr>\n      <th>...</th>\n      <td>...</td>\n      <td>...</td>\n      <td>...</td>\n      <td>...</td>\n      <td>...</td>\n      <td>...</td>\n      <td>...</td>\n      <td>...</td>\n    </tr>\n    <tr>\n      <th>19982</th>\n      <td>Z53954</td>\n      <td>L</td>\n      <td>25.65</td>\n      <td>NaN</td>\n      <td>1353.0</td>\n      <td>47.0</td>\n      <td>190</td>\n      <td>0</td>\n    </tr>\n    <tr>\n      <th>19987</th>\n      <td>S13645</td>\n      <td>M</td>\n      <td>25.75</td>\n      <td>35.55</td>\n      <td>NaN</td>\n      <td>42.3</td>\n      <td>207</td>\n      <td>0</td>\n    </tr>\n    <tr>\n      <th>19992</th>\n      <td>T72209</td>\n      <td>M</td>\n      <td>25.85</td>\n      <td>35.35</td>\n      <td>NaN</td>\n      <td>26.1</td>\n      <td>5</td>\n      <td>0</td>\n    </tr>\n    <tr>\n      <th>19996</th>\n      <td>T87335</td>\n      <td>M</td>\n      <td>25.75</td>\n      <td>35.35</td>\n      <td>NaN</td>\n      <td>29.5</td>\n      <td>14</td>\n      <td>0</td>\n    </tr>\n    <tr>\n      <th>19998</th>\n      <td>T83921</td>\n      <td>M</td>\n      <td>25.95</td>\n      <td>NaN</td>\n      <td>NaN</td>\n      <td>33.4</td>\n      <td>22</td>\n      <td>0</td>\n    </tr>\n  </tbody>\n</table>\n<p>2471 rows × 8 columns</p>\n</div>"
     },
     "execution_count": 6,
     "metadata": {},
     "output_type": "execute_result"
    }
   ],
   "source": [
    "machineDf[machineDf.isnull().any(axis=1)]"
   ],
   "metadata": {
    "collapsed": false,
    "pycharm": {
     "name": "#%%\n"
    }
   }
  },
  {
   "cell_type": "code",
   "execution_count": 7,
   "outputs": [
    {
     "data": {
      "text/plain": "<AxesSubplot:title={'center':'Number of missing value in features'}>"
     },
     "execution_count": 7,
     "metadata": {},
     "output_type": "execute_result"
    },
    {
     "data": {
      "text/plain": "<Figure size 432x288 with 1 Axes>",
      "image/png": "[encoded data removed]"
     },
     "metadata": {
      "needs_background": "light"
     },
     "output_type": "display_data"
    }
   ],
   "source": [
    "machineDf.isna().sum().sort_values().plot.barh(title='Number of missing value in features')"
   ],
   "metadata": {
    "collapsed": false,
    "pycharm": {
     "name": "#%%\n"
    }
   }
  },
  {
   "cell_type": "code",
   "execution_count": 8,
   "outputs": [
    {
     "data": {
      "text/plain": "<Figure size 432x288 with 1 Axes>",
      "image/png": "[encoded data removed]"
     },
     "metadata": {
      "needs_background": "light"
     },
     "output_type": "display_data"
    }
   ],
   "source": [
    "import seaborn as sns\n",
    "sns.heatmap(machineDf.isnull(), cbar=False)\n",
    "plt.show()"
   ],
   "metadata": {
    "collapsed": false,
    "pycharm": {
     "name": "#%%\n"
    }
   }
  },
  {
   "cell_type": "code",
   "execution_count": 9,
   "outputs": [
    {
     "data": {
      "text/plain": "<AxesSubplot:>"
     },
     "execution_count": 9,
     "metadata": {},
     "output_type": "execute_result"
    },
    {
     "data": {
      "text/plain": "<Figure size 1800x720 with 2 Axes>",
      "image/png": "[encoded data removed]"
     },
     "metadata": {
      "needs_background": "light"
     },
     "output_type": "display_data"
    }
   ],
   "source": [
    "import missingno as msno\n",
    "msno.matrix(machineDf)"
   ],
   "metadata": {
    "collapsed": false,
    "pycharm": {
     "name": "#%%\n"
    }
   }
  },
  {
   "cell_type": "code",
   "execution_count": 10,
   "outputs": [
    {
     "data": {
      "text/plain": "<AxesSubplot:>"
     },
     "execution_count": 10,
     "metadata": {},
     "output_type": "execute_result"
    },
    {
     "data": {
      "text/plain": "<Figure size 1440x864 with 2 Axes>",
      "image/png": "[encoded data removed]"
     },
     "metadata": {
      "needs_background": "light"
     },
     "output_type": "display_data"
    }
   ],
   "source": [
    "msno.heatmap(machineDf)"
   ],
   "metadata": {
    "collapsed": false,
    "pycharm": {
     "name": "#%%\n"
    }
   }
  },
  {
   "cell_type": "markdown",
   "source": [
    "### Target Label"
   ],
   "metadata": {
    "collapsed": false,
    "pycharm": {
     "name": "#%% md\n"
    }
   }
  },
  {
   "cell_type": "code",
   "execution_count": 11,
   "outputs": [
    {
     "data": {
      "text/plain": "Text(0.5, 1.0, 'Distribution of target label')"
     },
     "execution_count": 11,
     "metadata": {},
     "output_type": "execute_result"
    },
    {
     "data": {
      "text/plain": "<Figure size 432x288 with 1 Axes>",
      "image/png": "[encoded data removed]"
     },
     "metadata": {
      "needs_background": "light"
     },
     "output_type": "display_data"
    }
   ],
   "source": [
    "sns.countplot(data=machineDf,x='Machine Status').set_title(\"Distribution of target label\")"
   ],
   "metadata": {
    "collapsed": false,
    "pycharm": {
     "name": "#%%\n"
    }
   }
  },
  {
   "cell_type": "markdown",
   "source": [
    "### Qualitative Features"
   ],
   "metadata": {
    "collapsed": false,
    "pycharm": {
     "name": "#%% md\n"
    }
   }
  },
  {
   "cell_type": "code",
   "execution_count": 12,
   "outputs": [],
   "source": [
    "qualitativeVariable=['Product ID', 'Quality']"
   ],
   "metadata": {
    "collapsed": false,
    "pycharm": {
     "name": "#%%\n"
    }
   }
  },
  {
   "cell_type": "markdown",
   "source": [
    "### Qualitative Features"
   ],
   "metadata": {
    "collapsed": false,
    "pycharm": {
     "name": "#%% md\n"
    }
   }
  },
  {
   "cell_type": "code",
   "execution_count": 13,
   "outputs": [],
   "source": [
    "quantitativeVariable=['Ambient T (C)', 'Process T (C)',\n",
    "       'Rotation Speed (rpm)', 'Torque (Nm)', 'Tool Wear (min)']"
   ],
   "metadata": {
    "collapsed": false,
    "pycharm": {
     "name": "#%%\n"
    }
   }
  },
  {
   "cell_type": "markdown",
   "source": [
    "### Univariate Analysis"
   ],
   "metadata": {
    "collapsed": false,
    "pycharm": {
     "name": "#%% md\n"
    }
   }
  },
  {
   "cell_type": "code",
   "execution_count": 14,
   "outputs": [
    {
     "data": {
      "text/plain": "       Ambient T (C)  Process T (C)  Rotation Speed (rpm)   Torque (Nm)  \\\ncount   20000.000000   19600.000000          18812.000000  20000.000000   \nmean       26.904930      36.904291           1538.795397     39.986910   \nstd         2.000834       1.483647            178.674963      9.968684   \nmin        22.150000      32.550000           1168.000000      3.800000   \n25%        25.250000      35.750000           1423.000000     33.200000   \n50%        26.950000      36.950000           1503.000000     40.100000   \n75%        28.450000      37.950000           1613.000000     46.800000   \nmax        31.450000      40.750000           2886.000000     76.600000   \n\n       Tool Wear (min)  \ncount     20000.000000  \nmean        107.951000  \nstd          63.652555  \nmin           0.000000  \n25%          53.000000  \n50%         108.000000  \n75%         162.000000  \nmax         253.000000  ",
      "text/html": "<div>\n<style scoped>\n    .dataframe tbody tr th:only-of-type {\n        vertical-align: middle;\n    }\n\n    .dataframe tbody tr th {\n        vertical-align: top;\n    }\n\n    .dataframe thead th {\n        text-align: right;\n    }\n</style>\n<table border=\"1\" class=\"dataframe\">\n  <thead>\n    <tr style=\"text-align: right;\">\n      <th></th>\n      <th>Ambient T (C)</th>\n      <th>Process T (C)</th>\n      <th>Rotation Speed (rpm)</th>\n      <th>Torque (Nm)</th>\n      <th>Tool Wear (min)</th>\n    </tr>\n  </thead>\n  <tbody>\n    <tr>\n      <th>count</th>\n      <td>20000.000000</td>\n      <td>19600.000000</td>\n      <td>18812.000000</td>\n      <td>20000.000000</td>\n      <td>20000.000000</td>\n    </tr>\n    <tr>\n      <th>mean</th>\n      <td>26.904930</td>\n      <td>36.904291</td>\n      <td>1538.795397</td>\n      <td>39.986910</td>\n      <td>107.951000</td>\n    </tr>\n    <tr>\n      <th>std</th>\n      <td>2.000834</td>\n      <td>1.483647</td>\n      <td>178.674963</td>\n      <td>9.968684</td>\n      <td>63.652555</td>\n    </tr>\n    <tr>\n      <th>min</th>\n      <td>22.150000</td>\n      <td>32.550000</td>\n      <td>1168.000000</td>\n      <td>3.800000</td>\n      <td>0.000000</td>\n    </tr>\n    <tr>\n      <th>25%</th>\n      <td>25.250000</td>\n      <td>35.750000</td>\n      <td>1423.000000</td>\n      <td>33.200000</td>\n      <td>53.000000</td>\n    </tr>\n    <tr>\n      <th>50%</th>\n      <td>26.950000</td>\n      <td>36.950000</td>\n      <td>1503.000000</td>\n      <td>40.100000</td>\n      <td>108.000000</td>\n    </tr>\n    <tr>\n      <th>75%</th>\n      <td>28.450000</td>\n      <td>37.950000</td>\n      <td>1613.000000</td>\n      <td>46.800000</td>\n      <td>162.000000</td>\n    </tr>\n    <tr>\n      <th>max</th>\n      <td>31.450000</td>\n      <td>40.750000</td>\n      <td>2886.000000</td>\n      <td>76.600000</td>\n      <td>253.000000</td>\n    </tr>\n  </tbody>\n</table>\n</div>"
     },
     "execution_count": 14,
     "metadata": {},
     "output_type": "execute_result"
    }
   ],
   "source": [
    "machineDf[quantitativeVariable].describe()"
   ],
   "metadata": {
    "collapsed": false,
    "pycharm": {
     "name": "#%%\n"
    }
   }
  },
  {
   "cell_type": "code",
   "execution_count": 15,
   "outputs": [
    {
     "data": {
      "text/plain": "                        count unique     top   freq  \\\nMachine Status          20000      2       0  19322   \nQuality                 19009      3       L  11390   \nProcess T (C)         19600.0   83.0   37.45  575.0   \nAmbient T (C)         20000.0   94.0   27.55  495.0   \nTool Wear (min)         20000    246       0    240   \nTorque (Nm)           20000.0  577.0    40.2  104.0   \nRotation Speed (rpm)  18812.0  941.0  1452.0   93.0   \nProduct ID              20000  19408  K34631      3   \n\n                     Proportion of Most Frequent Value  \nMachine Status                                   96.61  \nQuality                                          56.95  \nProcess T (C)                                    2.875  \nAmbient T (C)                                    2.475  \nTool Wear (min)                                    1.2  \nTorque (Nm)                                       0.52  \nRotation Speed (rpm)                             0.465  \nProduct ID                                       0.015  ",
      "text/html": "<div>\n<style scoped>\n    .dataframe tbody tr th:only-of-type {\n        vertical-align: middle;\n    }\n\n    .dataframe tbody tr th {\n        vertical-align: top;\n    }\n\n    .dataframe thead th {\n        text-align: right;\n    }\n</style>\n<table border=\"1\" class=\"dataframe\">\n  <thead>\n    <tr style=\"text-align: right;\">\n      <th></th>\n      <th>count</th>\n      <th>unique</th>\n      <th>top</th>\n      <th>freq</th>\n      <th>Proportion of Most Frequent Value</th>\n    </tr>\n  </thead>\n  <tbody>\n    <tr>\n      <th>Machine Status</th>\n      <td>20000</td>\n      <td>2</td>\n      <td>0</td>\n      <td>19322</td>\n      <td>96.61</td>\n    </tr>\n    <tr>\n      <th>Quality</th>\n      <td>19009</td>\n      <td>3</td>\n      <td>L</td>\n      <td>11390</td>\n      <td>56.95</td>\n    </tr>\n    <tr>\n      <th>Process T (C)</th>\n      <td>19600.0</td>\n      <td>83.0</td>\n      <td>37.45</td>\n      <td>575.0</td>\n      <td>2.875</td>\n    </tr>\n    <tr>\n      <th>Ambient T (C)</th>\n      <td>20000.0</td>\n      <td>94.0</td>\n      <td>27.55</td>\n      <td>495.0</td>\n      <td>2.475</td>\n    </tr>\n    <tr>\n      <th>Tool Wear (min)</th>\n      <td>20000</td>\n      <td>246</td>\n      <td>0</td>\n      <td>240</td>\n      <td>1.2</td>\n    </tr>\n    <tr>\n      <th>Torque (Nm)</th>\n      <td>20000.0</td>\n      <td>577.0</td>\n      <td>40.2</td>\n      <td>104.0</td>\n      <td>0.52</td>\n    </tr>\n    <tr>\n      <th>Rotation Speed (rpm)</th>\n      <td>18812.0</td>\n      <td>941.0</td>\n      <td>1452.0</td>\n      <td>93.0</td>\n      <td>0.465</td>\n    </tr>\n    <tr>\n      <th>Product ID</th>\n      <td>20000</td>\n      <td>19408</td>\n      <td>K34631</td>\n      <td>3</td>\n      <td>0.015</td>\n    </tr>\n  </tbody>\n</table>\n</div>"
     },
     "execution_count": 15,
     "metadata": {},
     "output_type": "execute_result"
    }
   ],
   "source": [
    "descriptive_stats = machineDf.astype('category').describe().T\n",
    "descriptive_stats[\"Proportion of Most Frequent Value\"] = descriptive_stats[\"freq\"] / len(machineDf.astype('category')) * 100\n",
    "descriptive_stats.sort_values(\"Proportion of Most Frequent Value\", ascending=False)"
   ],
   "metadata": {
    "collapsed": false,
    "pycharm": {
     "name": "#%%\n"
    }
   }
  },
  {
   "cell_type": "code",
   "execution_count": 16,
   "outputs": [
    {
     "data": {
      "text/plain": "<AxesSubplot:xlabel='Quality', ylabel='count'>"
     },
     "execution_count": 16,
     "metadata": {},
     "output_type": "execute_result"
    },
    {
     "data": {
      "text/plain": "<Figure size 432x288 with 1 Axes>",
      "image/png": "[encoded data removed]"
     },
     "metadata": {
      "needs_background": "light"
     },
     "output_type": "display_data"
    }
   ],
   "source": [
    "sns.countplot(x='Quality',data=machineDf,)"
   ],
   "metadata": {
    "collapsed": false,
    "pycharm": {
     "name": "#%%\n"
    }
   }
  },
  {
   "cell_type": "code",
   "execution_count": 17,
   "outputs": [
    {
     "data": {
      "text/plain": "array([[<AxesSubplot:title={'center':'Ambient T (C)'}>,\n        <AxesSubplot:title={'center':'Process T (C)'}>],\n       [<AxesSubplot:title={'center':'Rotation Speed (rpm)'}>,\n        <AxesSubplot:title={'center':'Torque (Nm)'}>],\n       [<AxesSubplot:title={'center':'Tool Wear (min)'}>, <AxesSubplot:>]],\n      dtype=object)"
     },
     "execution_count": 17,
     "metadata": {},
     "output_type": "execute_result"
    },
    {
     "data": {
      "text/plain": "<Figure size 720x576 with 6 Axes>",
      "image/png": "[encoded data removed]"
     },
     "metadata": {
      "needs_background": "light"
     },
     "output_type": "display_data"
    }
   ],
   "source": [
    "machineDf[quantitativeVariable].hist(figsize=(10,8))"
   ],
   "metadata": {
    "collapsed": false,
    "pycharm": {
     "name": "#%%\n"
    }
   }
  },
  {
   "cell_type": "code",
   "execution_count": 18,
   "outputs": [
    {
     "name": "stderr",
     "output_type": "stream",
     "text": [
      "C:\\Users\\zhuof\\AppData\\Local\\Temp\\ipykernel_6008\\68958518.py:4: UserWarning: Matplotlib is currently using module://matplotlib_inline.backend_inline, which is a non-GUI backend, so cannot show the figure.\n",
      "  fig.show()\n"
     ]
    },
    {
     "name": "stdout",
     "output_type": "stream",
     "text": [
      "Error in callback <function flush_figures at 0x000001CC01CBB790> (for post_execute):\n"
     ]
    },
    {
     "name": "stderr",
     "output_type": "stream",
     "text": [
      "\n",
      "KeyboardInterrupt\n",
      "\n"
     ]
    }
   ],
   "source": [
    "fig, ax = plt.subplots(len(quantitativeVariable), 1, figsize=(8, 15), tight_layout=True)\n",
    "for idx, feature in enumerate(quantitativeVariable):\n",
    "    sns.boxplot(data=machineDf, x=feature, ax = ax[idx])\n",
    "fig.show()"
   ],
   "metadata": {
    "collapsed": false,
    "pycharm": {
     "name": "#%%\n"
    }
   }
  },
  {
   "cell_type": "code",
   "execution_count": 19,
   "outputs": [
    {
     "data": {
      "text/plain": "       Ambient T (C)  Process T (C)  Rotation Speed (rpm)  Torque (Nm)  \\\ncount     771.000000     757.000000            771.000000   771.000000   \nmean       27.163230      37.031242           2103.333333    18.846174   \nstd         2.062808       1.507887            216.956317     3.588364   \nmin        22.450000      32.850000           1899.000000     3.800000   \n25%        25.350000      35.950000           1950.500000    16.800000   \n50%        27.450000      37.250000           2016.000000    19.700000   \n75%        28.750000      38.050000           2182.000000    21.500000   \nmax        31.250000      40.650000           2886.000000    25.000000   \n\n       Tool Wear (min)  Machine Status  \ncount       771.000000      771.000000  \nmean        107.712062        0.084306  \nstd          65.390417        0.278027  \nmin           0.000000        0.000000  \n25%          45.000000        0.000000  \n50%         110.000000        0.000000  \n75%         165.000000        0.000000  \nmax         244.000000        1.000000  ",
      "text/html": "<div>\n<style scoped>\n    .dataframe tbody tr th:only-of-type {\n        vertical-align: middle;\n    }\n\n    .dataframe tbody tr th {\n        vertical-align: top;\n    }\n\n    .dataframe thead th {\n        text-align: right;\n    }\n</style>\n<table border=\"1\" class=\"dataframe\">\n  <thead>\n    <tr style=\"text-align: right;\">\n      <th></th>\n      <th>Ambient T (C)</th>\n      <th>Process T (C)</th>\n      <th>Rotation Speed (rpm)</th>\n      <th>Torque (Nm)</th>\n      <th>Tool Wear (min)</th>\n      <th>Machine Status</th>\n    </tr>\n  </thead>\n  <tbody>\n    <tr>\n      <th>count</th>\n      <td>771.000000</td>\n      <td>757.000000</td>\n      <td>771.000000</td>\n      <td>771.000000</td>\n      <td>771.000000</td>\n      <td>771.000000</td>\n    </tr>\n    <tr>\n      <th>mean</th>\n      <td>27.163230</td>\n      <td>37.031242</td>\n      <td>2103.333333</td>\n      <td>18.846174</td>\n      <td>107.712062</td>\n      <td>0.084306</td>\n    </tr>\n    <tr>\n      <th>std</th>\n      <td>2.062808</td>\n      <td>1.507887</td>\n      <td>216.956317</td>\n      <td>3.588364</td>\n      <td>65.390417</td>\n      <td>0.278027</td>\n    </tr>\n    <tr>\n      <th>min</th>\n      <td>22.450000</td>\n      <td>32.850000</td>\n      <td>1899.000000</td>\n      <td>3.800000</td>\n      <td>0.000000</td>\n      <td>0.000000</td>\n    </tr>\n    <tr>\n      <th>25%</th>\n      <td>25.350000</td>\n      <td>35.950000</td>\n      <td>1950.500000</td>\n      <td>16.800000</td>\n      <td>45.000000</td>\n      <td>0.000000</td>\n    </tr>\n    <tr>\n      <th>50%</th>\n      <td>27.450000</td>\n      <td>37.250000</td>\n      <td>2016.000000</td>\n      <td>19.700000</td>\n      <td>110.000000</td>\n      <td>0.000000</td>\n    </tr>\n    <tr>\n      <th>75%</th>\n      <td>28.750000</td>\n      <td>38.050000</td>\n      <td>2182.000000</td>\n      <td>21.500000</td>\n      <td>165.000000</td>\n      <td>0.000000</td>\n    </tr>\n    <tr>\n      <th>max</th>\n      <td>31.250000</td>\n      <td>40.650000</td>\n      <td>2886.000000</td>\n      <td>25.000000</td>\n      <td>244.000000</td>\n      <td>1.000000</td>\n    </tr>\n  </tbody>\n</table>\n</div>"
     },
     "execution_count": 19,
     "metadata": {},
     "output_type": "execute_result"
    }
   ],
   "source": [
    "Q1 = machineDf['Rotation Speed (rpm)'].quantile(0.25)\n",
    "Q3 = machineDf['Rotation Speed (rpm)'].quantile(0.75)\n",
    "IQR = Q3 - Q1\n",
    "machineDf[machineDf['Rotation Speed (rpm)'] >Q3 + 1.5 * IQR].describe()"
   ],
   "metadata": {
    "collapsed": false,
    "pycharm": {
     "name": "#%%\n"
    }
   }
  },
  {
   "cell_type": "code",
   "execution_count": 20,
   "outputs": [
    {
     "data": {
      "text/plain": "Text(0.5, 1.0, 'Relationship between Torque and Rotation Speed')"
     },
     "execution_count": 20,
     "metadata": {},
     "output_type": "execute_result"
    },
    {
     "data": {
      "text/plain": "<Figure size 432x288 with 1 Axes>",
      "image/png": "[encoded data removed]"
     },
     "metadata": {
      "needs_background": "light"
     },
     "output_type": "display_data"
    }
   ],
   "source": [
    "sns.scatterplot(x='Rotation Speed (rpm)',y='Torque (Nm)',data=machineDf).set_title('Relationship between Torque and Rotation Speed')"
   ],
   "metadata": {
    "collapsed": false,
    "pycharm": {
     "name": "#%%\n"
    }
   }
  },
  {
   "cell_type": "markdown",
   "source": [
    "### Bivariate Analysis"
   ],
   "metadata": {
    "collapsed": false,
    "pycharm": {
     "name": "#%% md\n"
    }
   }
  },
  {
   "cell_type": "code",
   "execution_count": 21,
   "outputs": [
    {
     "name": "stderr",
     "output_type": "stream",
     "text": [
      "\n",
      "KeyboardInterrupt\n",
      "\n"
     ]
    },
    {
     "name": "stdout",
     "output_type": "stream",
     "text": [
      "Error in callback <function flush_figures at 0x000001CC01CBB790> (for post_execute):\n"
     ]
    },
    {
     "name": "stderr",
     "output_type": "stream",
     "text": [
      "\n",
      "KeyboardInterrupt\n",
      "\n"
     ]
    }
   ],
   "source": [
    "fig, ax = plt.subplots(len(quantitativeVariable), 1, figsize=(8, 15), tight_layout=True)\n",
    "for idx, feature in enumerate(quantitativeVariable):\n",
    "\n",
    "    sns.histplot(data=machineDf,common_norm = False,stat='density', x=feature, hue=\"Machine Status\",ax=ax[idx],kde=True)\n",
    "fig.show()"
   ],
   "metadata": {
    "collapsed": false,
    "pycharm": {
     "name": "#%%\n"
    }
   }
  },
  {
   "cell_type": "code",
   "execution_count": null,
   "outputs": [],
   "source": [
    "\n",
    "sns.histplot(data=machineDf,common_norm = False,stat='density', x='Quality', hue=\"Machine Status\")\n"
   ],
   "metadata": {
    "collapsed": false,
    "pycharm": {
     "name": "#%%\n"
    }
   }
  },
  {
   "cell_type": "code",
   "execution_count": null,
   "outputs": [],
   "source": [
    "sns.countplot(data=machineDf[machineDf['Machine Status']>0],x='Quality')"
   ],
   "metadata": {
    "collapsed": false,
    "pycharm": {
     "name": "#%%\n"
    }
   }
  },
  {
   "cell_type": "code",
   "execution_count": null,
   "outputs": [],
   "source": [
    "sns.pairplot(machineDf, hue=\"Machine Status\")"
   ],
   "metadata": {
    "collapsed": false,
    "pycharm": {
     "name": "#%%\n"
    }
   }
  },
  {
   "cell_type": "code",
   "execution_count": null,
   "outputs": [],
   "source": [
    "corr_matrix = machineDf.phik_matrix()\n",
    "\n",
    "sns.heatmap(corr_matrix, annot = True, linewidths=.5,center = 0,cmap=\"crest\").set_title('Correlation Matrix')"
   ],
   "metadata": {
    "collapsed": false,
    "pycharm": {
     "name": "#%%\n"
    }
   }
  },
  {
   "cell_type": "code",
   "execution_count": 22,
   "outputs": [],
   "source": [
    "machineDf=machineDf.drop('Product ID',axis=1)"
   ],
   "metadata": {
    "collapsed": false,
    "pycharm": {
     "name": "#%%\n"
    }
   }
  },
  {
   "cell_type": "markdown",
   "source": [
    "## Data-Processing"
   ],
   "metadata": {
    "collapsed": false,
    "pycharm": {
     "name": "#%% md\n"
    }
   }
  },
  {
   "cell_type": "markdown",
   "source": [],
   "metadata": {
    "collapsed": false,
    "pycharm": {
     "name": "#%% md\n"
    }
   }
  },
  {
   "cell_type": "markdown",
   "source": [
    "### Missing data imputation"
   ],
   "metadata": {
    "collapsed": false,
    "pycharm": {
     "name": "#%% md\n"
    }
   }
  },
  {
   "cell_type": "code",
   "execution_count": null,
   "outputs": [],
   "source": [
    "# from sklearn.preprocessing import LabelEncoder\n",
    "# from sklearn.experimental import enable_iterative_imputer\n",
    "# from sklearn.impute import IterativeImputer\n",
    "# from sklearn.ensemble import RandomForestRegressor, RandomForestClassifier\n",
    "#\n",
    "#\n",
    "# categorical = ['Quality']\n",
    "# numerical = ['Ambient T (C)', 'Process T (C)',\n",
    "#        'Rotation Speed (rpm)', 'Torque (Nm)', 'Tool Wear (min)']\n",
    "#\n",
    "# machineDf[categorical] = machineDf[categorical].apply(lambda series: pd.Series(\n",
    "#     LabelEncoder().fit_transform(series[series.notnull()]),\n",
    "#     index=series[series.notnull()].index\n",
    "# ))\n",
    "#\n",
    "#\n",
    "#\n",
    "# data_preprocessing = ColumnTransformer([\n",
    "#     ('Preprocess Numerical Features', LabelEncoder(), categorical)\n",
    "# ])\n",
    "# ImputerPip=Pipeline([\n",
    "#      ('Encoder',data_preprocessing),\n",
    "#      ('Model',RandomForestClassifier)\n",
    "# ])\n",
    "#\n",
    "# imp_num = IterativeImputer(estimator=RandomForestRegressor(n_jobs=-1),\n",
    "#                            initial_strategy='mean',\n",
    "#                            max_iter=15, random_state=0)\n",
    "# imp_cat = IterativeImputer(estimator=RandomForestClassifier(n_jobs=-1),\n",
    "#                            initial_strategy='most_frequent',\n",
    "#                            max_iter=15, random_state=0)\n",
    "#\n",
    "# machineDf[numerical] = imp_num.fit_transform(machineDf[numerical])\n",
    "#\n",
    "# machineDf[categorical] = imp_cat.fit_transform(machineDf[categorical])\n"
   ],
   "metadata": {
    "collapsed": false,
    "pycharm": {
     "name": "#%%\n"
    }
   }
  },
  {
   "cell_type": "markdown",
   "source": [
    "## Training and testing data"
   ],
   "metadata": {
    "collapsed": false,
    "pycharm": {
     "name": "#%% md\n"
    }
   }
  },
  {
   "cell_type": "code",
   "execution_count": 33,
   "outputs": [
    {
     "data": {
      "text/plain": "          Quality  Ambient T (C)  Process T (C)  Rotation Speed (rpm)  \\\nUnique ID                                                               \n12792           H          27.35          36.55                1416.0   \n6583            L          28.35          37.35                1528.0   \n16874           L          27.95          38.35                1478.0   \n11392           L          25.85          37.15                2737.0   \n4411            L          29.35          37.05                1586.0   \n...           ...            ...            ...                   ...   \n5303            L          30.75          39.95                1491.0   \n15452           L          29.95          39.65                1361.0   \n18260           L          26.05          37.45                1471.0   \n8028            L          27.45          38.75                   NaN   \n10500           L          24.45          36.05                1515.0   \n\n           Torque (Nm)  Tool Wear (min)  \nUnique ID                                \n12792             43.3               66  \n6583              35.7              198  \n16874             39.5               75  \n11392              8.8              142  \n4411              32.2               64  \n...                ...              ...  \n5303              37.2              195  \n15452             48.8              120  \n18260             38.4              146  \n8028              44.9              224  \n10500             35.1              213  \n\n[16000 rows x 6 columns]",
      "text/html": "<div>\n<style scoped>\n    .dataframe tbody tr th:only-of-type {\n        vertical-align: middle;\n    }\n\n    .dataframe tbody tr th {\n        vertical-align: top;\n    }\n\n    .dataframe thead th {\n        text-align: right;\n    }\n</style>\n<table border=\"1\" class=\"dataframe\">\n  <thead>\n    <tr style=\"text-align: right;\">\n      <th></th>\n      <th>Quality</th>\n      <th>Ambient T (C)</th>\n      <th>Process T (C)</th>\n      <th>Rotation Speed (rpm)</th>\n      <th>Torque (Nm)</th>\n      <th>Tool Wear (min)</th>\n    </tr>\n    <tr>\n      <th>Unique ID</th>\n      <th></th>\n      <th></th>\n      <th></th>\n      <th></th>\n      <th></th>\n      <th></th>\n    </tr>\n  </thead>\n  <tbody>\n    <tr>\n      <th>12792</th>\n      <td>H</td>\n      <td>27.35</td>\n      <td>36.55</td>\n      <td>1416.0</td>\n      <td>43.3</td>\n      <td>66</td>\n    </tr>\n    <tr>\n      <th>6583</th>\n      <td>L</td>\n      <td>28.35</td>\n      <td>37.35</td>\n      <td>1528.0</td>\n      <td>35.7</td>\n      <td>198</td>\n    </tr>\n    <tr>\n      <th>16874</th>\n      <td>L</td>\n      <td>27.95</td>\n      <td>38.35</td>\n      <td>1478.0</td>\n      <td>39.5</td>\n      <td>75</td>\n    </tr>\n    <tr>\n      <th>11392</th>\n      <td>L</td>\n      <td>25.85</td>\n      <td>37.15</td>\n      <td>2737.0</td>\n      <td>8.8</td>\n      <td>142</td>\n    </tr>\n    <tr>\n      <th>4411</th>\n      <td>L</td>\n      <td>29.35</td>\n      <td>37.05</td>\n      <td>1586.0</td>\n      <td>32.2</td>\n      <td>64</td>\n    </tr>\n    <tr>\n      <th>...</th>\n      <td>...</td>\n      <td>...</td>\n      <td>...</td>\n      <td>...</td>\n      <td>...</td>\n      <td>...</td>\n    </tr>\n    <tr>\n      <th>5303</th>\n      <td>L</td>\n      <td>30.75</td>\n      <td>39.95</td>\n      <td>1491.0</td>\n      <td>37.2</td>\n      <td>195</td>\n    </tr>\n    <tr>\n      <th>15452</th>\n      <td>L</td>\n      <td>29.95</td>\n      <td>39.65</td>\n      <td>1361.0</td>\n      <td>48.8</td>\n      <td>120</td>\n    </tr>\n    <tr>\n      <th>18260</th>\n      <td>L</td>\n      <td>26.05</td>\n      <td>37.45</td>\n      <td>1471.0</td>\n      <td>38.4</td>\n      <td>146</td>\n    </tr>\n    <tr>\n      <th>8028</th>\n      <td>L</td>\n      <td>27.45</td>\n      <td>38.75</td>\n      <td>NaN</td>\n      <td>44.9</td>\n      <td>224</td>\n    </tr>\n    <tr>\n      <th>10500</th>\n      <td>L</td>\n      <td>24.45</td>\n      <td>36.05</td>\n      <td>1515.0</td>\n      <td>35.1</td>\n      <td>213</td>\n    </tr>\n  </tbody>\n</table>\n<p>16000 rows × 6 columns</p>\n</div>"
     },
     "execution_count": 33,
     "metadata": {},
     "output_type": "execute_result"
    }
   ],
   "source": [
    "x_train, x_test, y_train, y_test = train_test_split(machineDf. loc[:, machineDf. columns != 'Machine Status'],machineDf['Machine Status'], random_state = 42, stratify=machineDf['Machine Status'], test_size = .20)\n",
    "x_train"
   ],
   "metadata": {
    "collapsed": false,
    "pycharm": {
     "name": "#%%\n"
    }
   }
  },
  {
   "cell_type": "code",
   "execution_count": 39,
   "outputs": [],
   "source": [
    "from imblearn.pipeline import make_pipeline\n",
    "from sklearn.preprocessing import StandardScaler\n",
    "from imblearn.over_sampling import SMOTENC, SMOTE"
   ],
   "metadata": {
    "collapsed": false,
    "pycharm": {
     "name": "#%%\n"
    }
   }
  },
  {
   "cell_type": "markdown",
   "source": [
    "## Feature Scaling"
   ],
   "metadata": {
    "collapsed": false,
    "pycharm": {
     "name": "#%% md\n"
    }
   }
  },
  {
   "cell_type": "code",
   "execution_count": 70,
   "outputs": [],
   "source": [
    "\n",
    "\n",
    "\n",
    "quantitativeTransformer=Pipeline([\n",
    "     ('Normaliser',MinMaxScaler())\n",
    "])\n",
    "categorical_transformers = Pipeline([\n",
    "    ('One Hot Encoder', OneHotEncoder(handle_unknown='ignore'))\n",
    "])\n",
    "data_preprocessing = ColumnTransformer([\n",
    "    ('Preprocess Numerical Features', quantitativeTransformer, quantitativeVariable),\n",
    "       ('Preprocess Categorical Features', categorical_transformers, ['Quality'])\n",
    "])"
   ],
   "metadata": {
    "collapsed": false,
    "pycharm": {
     "name": "#%%\n"
    }
   }
  },
  {
   "cell_type": "code",
   "execution_count": 48,
   "outputs": [],
   "source": [
    "from sklearn.base import BaseEstimator, TransformerMixin\n",
    "\n",
    "\n",
    "class ColumnSelector(BaseEstimator, TransformerMixin):\n",
    "\n",
    "    def __init__(self, dtype):\n",
    "        self.dtype = dtype\n",
    "\n",
    "    def fit(self, X, y=None):\n",
    "        \"\"\" Get either categorical or numerical columns on fit.\n",
    "        Store as attribute for future reference\"\"\"\n",
    "        X = X if isinstance(X, pd.DataFrame) else pd.DataFrame(X)\n",
    "        if self.dtype == 'numerical':\n",
    "            self.cols = X.select_dtypes(exclude='O').columns.tolist()\n",
    "        elif self.dtype == 'categorical':\n",
    "            self.cols = X.select_dtypes(include='O').columns.tolist()\n",
    "        self.col_idx = [machineDf.columns.get_loc(col) for col in self.cols]\n",
    "        return self\n",
    "\n",
    "    def transform(self, X):\n",
    "        \"\"\" Subset columns of chosen data type and return np.array\"\"\"\n",
    "        X = X.values if isinstance(X, pd.DataFrame) else X\n",
    "        return X[:, self.col_idx]"
   ],
   "metadata": {
    "collapsed": false,
    "pycharm": {
     "name": "#%%\n"
    }
   }
  },
  {
   "cell_type": "code",
   "execution_count": 60,
   "outputs": [],
   "source": [
    "from sklearn.pipeline import FeatureUnion\n",
    "from sklearn.preprocessing import LabelEncoder, OrdinalEncoder\n",
    "from sklearn.experimental import enable_iterative_imputer\n",
    "from sklearn.impute import IterativeImputer\n",
    "from sklearn.ensemble import RandomForestRegressor, RandomForestClassifier\n",
    "categorical = ['Quality']\n",
    "numerical = ['Ambient T (C)', 'Process T (C)',\n",
    "       'Rotation Speed (rpm)', 'Torque (Nm)', 'Tool Wear (min)']\n",
    "\n",
    "\n",
    "\n",
    "num_imp=Pipeline([\n",
    " ('num_selector', ColumnSelector('numerical')),\n",
    " ('Imputation',IterativeImputer(estimator=RandomForestRegressor(n_jobs=-1),\n",
    "                           initial_strategy='mean',\n",
    "                           max_iter=20, random_state=0)),\n",
    "])\n",
    "\n",
    "cat_imp=Pipeline([\n",
    "     ('cat_selector', ColumnSelector('categorical')),\n",
    "     ('One Hot Encoder1', OrdinalEncoder ()),\n",
    "     ('Imputation',IterativeImputer(estimator=RandomForestClassifier(n_jobs=-1),\n",
    "                           initial_strategy='mean',\n",
    "                           max_iter=15, random_state=0)),\n",
    "])\n",
    "\n",
    "\n",
    "preproc = FeatureUnion([\n",
    "    ('num_pipe', num_imp),\n",
    "    ('cat_pipe', cat_imp)\n",
    "])"
   ],
   "metadata": {
    "collapsed": false,
    "pycharm": {
     "name": "#%%\n"
    }
   }
  },
  {
   "cell_type": "markdown",
   "source": [
    "### Oversampling :SMOTE NC"
   ],
   "metadata": {
    "collapsed": false,
    "pycharm": {
     "name": "#%% md\n"
    }
   }
  },
  {
   "cell_type": "code",
   "execution_count": 67,
   "outputs": [],
   "source": [
    "from imblearn.pipeline import Pipeline as imbpipeline\n",
    "colselect=[col in qualitativeVariable for col in machineDf. loc[:, machineDf. columns != 'Machine Status'].columns]\n",
    "oversampling=imbpipeline([\n",
    "    ('s',SMOTENC(categorical_features=colselect))\n",
    "])\n"
   ],
   "metadata": {
    "collapsed": false,
    "pycharm": {
     "name": "#%%\n"
    }
   }
  },
  {
   "cell_type": "markdown",
   "source": [
    "## Feature Selection"
   ],
   "metadata": {
    "collapsed": false,
    "pycharm": {
     "name": "#%% md\n"
    }
   }
  },
  {
   "cell_type": "code",
   "execution_count": null,
   "outputs": [],
   "source": [
    "# selectionRecord=pd.DataFrame({'no':[],'score':[]})\n",
    "# for i in range(1,9):\n",
    "#     Final = Pipeline([\n",
    "#     ('Data Preprocessing', data_preprocessing),\n",
    "#     ('Kbest',SelectKBest(chi2,k=i)),\n",
    "#     ('Model',   xgb.XGBClassifier())\n",
    "# ])\n",
    "#     selectionRecord=pd.concat([selectionRecord,pd.DataFrame({'no':[i],'score':[cross_validate(Final,x_train,y_train,cv=StratifiedKFold(n_splits = 5, shuffle = True, random_state = 0,),scoring=['recall'],n_jobs=-1,return_estimator=True,return_train_score=True)['test_recall'].mean()]})],ignore_index=True)\n",
    "#\n",
    "#\n",
    "# sns.lineplot(x='no',y='score',data=selectionRecord).set_title('Number of feature selected')"
   ],
   "metadata": {
    "collapsed": false,
    "pycharm": {
     "name": "#%%\n"
    }
   }
  },
  {
   "cell_type": "code",
   "execution_count": null,
   "outputs": [],
   "source": [
    "# from mlxtend.plotting import plot_sequential_feature_selection as plot_sfs\n",
    "# from mlxtend.feature_selection import SequentialFeatureSelector as SFS\n",
    "# Final = Pipeline([\n",
    "#     ('Data Preprocessing', data_preprocessing),\n",
    "#     ('Model',   xgb.XGBClassifier())\n",
    "# ])\n",
    "# sfs1 = SFS(xgb.XGBClassifier(),\n",
    "#            k_features=(1, 8),\n",
    "#            forward=True,\n",
    "#            floating=False,\n",
    "#            verbose=2,\n",
    "#            scoring='recall',\n",
    "#            cv=StratifiedKFold(n_splits = 5, shuffle = True, random_state = 0,))\n",
    "# sfs1.fit(pd.DataFrame(data_preprocessing.fit_transform(x_train,y_train)),y_train)\n",
    "# print('best combination (ACC: %.3f): %s\\n' % (sfs1.k_score_, sfs1.k_feature_idx_))\n",
    "# print('all subsets:\\n', sfs1.subsets_)\n",
    "# plot_sfs(sfs1.get_metric_dict(), kind='std_err');"
   ],
   "metadata": {
    "collapsed": false,
    "pycharm": {
     "name": "#%%\n"
    }
   }
  },
  {
   "cell_type": "code",
   "execution_count": null,
   "outputs": [],
   "source": [
    "# pd.DataFrame({'Methods':['Chi-Square','Forward Sequential Feature Selector'],'Type':['Filter','Wrapper'],'Best number of feature':[selectionRecord.score.idxmax()+1,pd.DataFrame(sfs1.get_metric_dict()).T.avg_score.astype('f8').idxmax()],'Score':[selectionRecord.score[selectionRecord.score.idxmax()],   pd.DataFrame(sfs1.get_metric_dict()).T.avg_score[pd.DataFrame(sfs1.get_metric_dict()).T.avg_score.astype('f8').idxmax()] ]})"
   ],
   "metadata": {
    "collapsed": false,
    "pycharm": {
     "name": "#%%\n"
    }
   }
  },
  {
   "cell_type": "code",
   "execution_count": 72,
   "outputs": [],
   "source": [
    "class customSelector():\n",
    "    def __init__(self):\n",
    "        super().__init__()\n",
    "\n",
    "    def fit_transform(self, X, y=None):\n",
    "        return self.transform(X=X, y=y)\n",
    "\n",
    "    def transform(self, X, y=None):\n",
    "        return pd.DataFrame(X)[[0,1,2,3,4,5,6]]\n",
    "\n",
    "    def fit(self, X, y=None):\n",
    "        return self"
   ],
   "metadata": {
    "collapsed": false,
    "pycharm": {
     "name": "#%%\n"
    }
   }
  },
  {
   "cell_type": "markdown",
   "source": [
    "## Evaluation Methodology"
   ],
   "metadata": {
    "collapsed": false,
    "pycharm": {
     "name": "#%% md\n"
    }
   }
  },
  {
   "cell_type": "code",
   "execution_count": 31,
   "outputs": [],
   "source": [
    "def scoreModel(clf,x,y,algName=None,record=pd.DataFrame({'name':[],'train_accuracy':[],'test_accuracy':[],'test_recall':[],'train_recall':[]})):\n",
    "    '''\n",
    "    This function is used for model evaluation . This function use scikit-learn library to carry out cross validation using StratifiedKFold. The scoring metrics are accuracy and balanced accuracy\n",
    "\n",
    "    :param clf: Classifier 分类器\n",
    "    :param x:Train Data X(Data)  训练数据 （数据）\n",
    "    :param y:Train Data Y(Result)  训练数据（结果）\n",
    "    :param algName: Name of Algorithm used for recording 算法名字\n",
    "    :param record: History record dataframe 在历史记录上叠加结果\n",
    "    :return:\n",
    "    This function return 3 variable: 这个函数返回三个参数\n",
    "    record: Dataframe with current and past record(if there is any)\n",
    "    current: Dataframe with current record\n",
    "    lr: Learning curve\n",
    "    '''\n",
    "    score=cross_validate(clf,x,y,cv=StratifiedKFold(n_splits = 5, shuffle = True, random_state = 0,),scoring=['accuracy','recall'],n_jobs=-1,return_estimator=True,return_train_score=True)\n",
    "    current=pd.DataFrame({'name':[algName],'train_accuracy':score['train_accuracy'].mean(),'test_accuracy':score['test_accuracy'].mean(),'test_recall':score['test_recall'].mean(),'train_recall':score['train_recall'].mean()})\n",
    "    record=pd.concat([record,current],ignore_index=True)\n",
    "    lr = learning_curve(clf, x, y, scoring = 'recall', cv = StratifiedKFold(n_splits = 5, shuffle = True, random_state = 0,), n_jobs=-1)\n",
    "    return record,current,lr"
   ],
   "metadata": {
    "collapsed": false,
    "pycharm": {
     "name": "#%%\n"
    }
   }
  },
  {
   "cell_type": "code",
   "execution_count": null,
   "outputs": [],
   "source": [
    "baseline = Pipeline([\n",
    "    ('Imputation',preproc),\n",
    "    ('Oversampling',oversampling),\n",
    "])\n",
    "\n",
    "baseline.fit_transform(x_train,y_train)"
   ],
   "metadata": {
    "collapsed": false,
    "pycharm": {
     "name": "#%%\n",
     "is_executing": true
    }
   }
  },
  {
   "cell_type": "code",
   "execution_count": 73,
   "outputs": [
    {
     "ename": "PicklingError",
     "evalue": "Could not pickle the task to send it to the workers.",
     "output_type": "error",
     "traceback": [
      "\u001B[1;31m---------------------------------------------------------------------------\u001B[0m",
      "\u001B[1;31m_RemoteTraceback\u001B[0m                          Traceback (most recent call last)",
      "\u001B[1;31m_RemoteTraceback\u001B[0m: \n\"\"\"\nTraceback (most recent call last):\n  File \"C:\\Users\\zhuof\\PycharmProjects\\classificationCA1\\venv\\lib\\site-packages\\joblib\\externals\\loky\\backend\\queues.py\", line 153, in _feed\n    obj_ = dumps(obj, reducers=reducers)\n  File \"C:\\Users\\zhuof\\PycharmProjects\\classificationCA1\\venv\\lib\\site-packages\\joblib\\externals\\loky\\backend\\reduction.py\", line 271, in dumps\n    dump(obj, buf, reducers=reducers, protocol=protocol)\n  File \"C:\\Users\\zhuof\\PycharmProjects\\classificationCA1\\venv\\lib\\site-packages\\joblib\\externals\\loky\\backend\\reduction.py\", line 264, in dump\n    _LokyPickler(file, reducers=reducers, protocol=protocol).dump(obj)\n  File \"C:\\Users\\zhuof\\PycharmProjects\\classificationCA1\\venv\\lib\\site-packages\\joblib\\externals\\cloudpickle\\cloudpickle_fast.py\", line 602, in dump\n    return Pickler.dump(self, obj)\n_pickle.PicklingError: Can't pickle <class 'imblearn.pipeline.Pipeline'>: import of module 'imblearn.pipeline' failed\n\"\"\"",
      "\nThe above exception was the direct cause of the following exception:\n",
      "\u001B[1;31mPicklingError\u001B[0m                             Traceback (most recent call last)",
      "Input \u001B[1;32mIn [73]\u001B[0m, in \u001B[0;36m<cell line: 12>\u001B[1;34m()\u001B[0m\n\u001B[0;32m      4\u001B[0m \u001B[38;5;28;01mfrom\u001B[39;00m \u001B[38;5;21;01mimblearn\u001B[39;00m\u001B[38;5;21;01m.\u001B[39;00m\u001B[38;5;21;01mover_sampling\u001B[39;00m \u001B[38;5;28;01mimport\u001B[39;00m SMOTENC, SMOTE\n\u001B[0;32m      5\u001B[0m baseline \u001B[38;5;241m=\u001B[39m Pipeline([\n\u001B[0;32m      6\u001B[0m     (\u001B[38;5;124m'\u001B[39m\u001B[38;5;124mImputation\u001B[39m\u001B[38;5;124m'\u001B[39m,preproc),\n\u001B[0;32m      7\u001B[0m     (\u001B[38;5;124m'\u001B[39m\u001B[38;5;124mOversampling\u001B[39m\u001B[38;5;124m'\u001B[39m,oversampling),\n\u001B[1;32m   (...)\u001B[0m\n\u001B[0;32m     10\u001B[0m     (\u001B[38;5;124m'\u001B[39m\u001B[38;5;124mModel\u001B[39m\u001B[38;5;124m'\u001B[39m, DummyClassifier())\n\u001B[0;32m     11\u001B[0m ])\n\u001B[1;32m---> 12\u001B[0m record,current,lr\u001B[38;5;241m=\u001B[39m\u001B[43mscoreModel\u001B[49m\u001B[43m(\u001B[49m\u001B[43mbaseline\u001B[49m\u001B[43m,\u001B[49m\u001B[43mx_train\u001B[49m\u001B[43m,\u001B[49m\u001B[43my_train\u001B[49m\u001B[43m,\u001B[49m\u001B[38;5;124;43m\"\u001B[39;49m\u001B[38;5;124;43mDummy Baseline Classifier\u001B[39;49m\u001B[38;5;124;43m\"\u001B[39;49m\u001B[43m)\u001B[49m\n\u001B[0;32m     13\u001B[0m current\n",
      "Input \u001B[1;32mIn [31]\u001B[0m, in \u001B[0;36mscoreModel\u001B[1;34m(clf, x, y, algName, record)\u001B[0m\n\u001B[0;32m      1\u001B[0m \u001B[38;5;28;01mdef\u001B[39;00m \u001B[38;5;21mscoreModel\u001B[39m(clf,x,y,algName\u001B[38;5;241m=\u001B[39m\u001B[38;5;28;01mNone\u001B[39;00m,record\u001B[38;5;241m=\u001B[39mpd\u001B[38;5;241m.\u001B[39mDataFrame({\u001B[38;5;124m'\u001B[39m\u001B[38;5;124mname\u001B[39m\u001B[38;5;124m'\u001B[39m:[],\u001B[38;5;124m'\u001B[39m\u001B[38;5;124mtrain_accuracy\u001B[39m\u001B[38;5;124m'\u001B[39m:[],\u001B[38;5;124m'\u001B[39m\u001B[38;5;124mtest_accuracy\u001B[39m\u001B[38;5;124m'\u001B[39m:[],\u001B[38;5;124m'\u001B[39m\u001B[38;5;124mtest_recall\u001B[39m\u001B[38;5;124m'\u001B[39m:[],\u001B[38;5;124m'\u001B[39m\u001B[38;5;124mtrain_recall\u001B[39m\u001B[38;5;124m'\u001B[39m:[]})):\n\u001B[0;32m      2\u001B[0m     \u001B[38;5;124;03m'''\u001B[39;00m\n\u001B[0;32m      3\u001B[0m \u001B[38;5;124;03m    This function is used for model evaluation . This function use scikit-learn library to carry out cross validation using StratifiedKFold. The scoring metrics are accuracy and balanced accuracy\u001B[39;00m\n\u001B[0;32m      4\u001B[0m \n\u001B[1;32m   (...)\u001B[0m\n\u001B[0;32m     14\u001B[0m \u001B[38;5;124;03m    lr: Learning curve\u001B[39;00m\n\u001B[0;32m     15\u001B[0m \u001B[38;5;124;03m    '''\u001B[39;00m\n\u001B[1;32m---> 16\u001B[0m     score\u001B[38;5;241m=\u001B[39m\u001B[43mcross_validate\u001B[49m\u001B[43m(\u001B[49m\u001B[43mclf\u001B[49m\u001B[43m,\u001B[49m\u001B[43mx\u001B[49m\u001B[43m,\u001B[49m\u001B[43my\u001B[49m\u001B[43m,\u001B[49m\u001B[43mcv\u001B[49m\u001B[38;5;241;43m=\u001B[39;49m\u001B[43mStratifiedKFold\u001B[49m\u001B[43m(\u001B[49m\u001B[43mn_splits\u001B[49m\u001B[43m \u001B[49m\u001B[38;5;241;43m=\u001B[39;49m\u001B[43m \u001B[49m\u001B[38;5;241;43m5\u001B[39;49m\u001B[43m,\u001B[49m\u001B[43m \u001B[49m\u001B[43mshuffle\u001B[49m\u001B[43m \u001B[49m\u001B[38;5;241;43m=\u001B[39;49m\u001B[43m \u001B[49m\u001B[38;5;28;43;01mTrue\u001B[39;49;00m\u001B[43m,\u001B[49m\u001B[43m \u001B[49m\u001B[43mrandom_state\u001B[49m\u001B[43m \u001B[49m\u001B[38;5;241;43m=\u001B[39;49m\u001B[43m \u001B[49m\u001B[38;5;241;43m0\u001B[39;49m\u001B[43m,\u001B[49m\u001B[43m)\u001B[49m\u001B[43m,\u001B[49m\u001B[43mscoring\u001B[49m\u001B[38;5;241;43m=\u001B[39;49m\u001B[43m[\u001B[49m\u001B[38;5;124;43m'\u001B[39;49m\u001B[38;5;124;43maccuracy\u001B[39;49m\u001B[38;5;124;43m'\u001B[39;49m\u001B[43m,\u001B[49m\u001B[38;5;124;43m'\u001B[39;49m\u001B[38;5;124;43mrecall\u001B[39;49m\u001B[38;5;124;43m'\u001B[39;49m\u001B[43m]\u001B[49m\u001B[43m,\u001B[49m\u001B[43mn_jobs\u001B[49m\u001B[38;5;241;43m=\u001B[39;49m\u001B[38;5;241;43m-\u001B[39;49m\u001B[38;5;241;43m1\u001B[39;49m\u001B[43m,\u001B[49m\u001B[43mreturn_estimator\u001B[49m\u001B[38;5;241;43m=\u001B[39;49m\u001B[38;5;28;43;01mTrue\u001B[39;49;00m\u001B[43m,\u001B[49m\u001B[43mreturn_train_score\u001B[49m\u001B[38;5;241;43m=\u001B[39;49m\u001B[38;5;28;43;01mTrue\u001B[39;49;00m\u001B[43m)\u001B[49m\n\u001B[0;32m     17\u001B[0m     current\u001B[38;5;241m=\u001B[39mpd\u001B[38;5;241m.\u001B[39mDataFrame({\u001B[38;5;124m'\u001B[39m\u001B[38;5;124mname\u001B[39m\u001B[38;5;124m'\u001B[39m:[algName],\u001B[38;5;124m'\u001B[39m\u001B[38;5;124mtrain_accuracy\u001B[39m\u001B[38;5;124m'\u001B[39m:score[\u001B[38;5;124m'\u001B[39m\u001B[38;5;124mtrain_accuracy\u001B[39m\u001B[38;5;124m'\u001B[39m]\u001B[38;5;241m.\u001B[39mmean(),\u001B[38;5;124m'\u001B[39m\u001B[38;5;124mtest_accuracy\u001B[39m\u001B[38;5;124m'\u001B[39m:score[\u001B[38;5;124m'\u001B[39m\u001B[38;5;124mtest_accuracy\u001B[39m\u001B[38;5;124m'\u001B[39m]\u001B[38;5;241m.\u001B[39mmean(),\u001B[38;5;124m'\u001B[39m\u001B[38;5;124mtest_recall\u001B[39m\u001B[38;5;124m'\u001B[39m:score[\u001B[38;5;124m'\u001B[39m\u001B[38;5;124mtest_recall\u001B[39m\u001B[38;5;124m'\u001B[39m]\u001B[38;5;241m.\u001B[39mmean(),\u001B[38;5;124m'\u001B[39m\u001B[38;5;124mtrain_recall\u001B[39m\u001B[38;5;124m'\u001B[39m:score[\u001B[38;5;124m'\u001B[39m\u001B[38;5;124mtrain_recall\u001B[39m\u001B[38;5;124m'\u001B[39m]\u001B[38;5;241m.\u001B[39mmean()})\n\u001B[0;32m     18\u001B[0m     record\u001B[38;5;241m=\u001B[39mpd\u001B[38;5;241m.\u001B[39mconcat([record,current],ignore_index\u001B[38;5;241m=\u001B[39m\u001B[38;5;28;01mTrue\u001B[39;00m)\n",
      "File \u001B[1;32m~\\PycharmProjects\\classificationCA1\\venv\\lib\\site-packages\\sklearn\\model_selection\\_validation.py:266\u001B[0m, in \u001B[0;36mcross_validate\u001B[1;34m(estimator, X, y, groups, scoring, cv, n_jobs, verbose, fit_params, pre_dispatch, return_train_score, return_estimator, error_score)\u001B[0m\n\u001B[0;32m    263\u001B[0m \u001B[38;5;66;03m# We clone the estimator to make sure that all the folds are\u001B[39;00m\n\u001B[0;32m    264\u001B[0m \u001B[38;5;66;03m# independent, and that it is pickle-able.\u001B[39;00m\n\u001B[0;32m    265\u001B[0m parallel \u001B[38;5;241m=\u001B[39m Parallel(n_jobs\u001B[38;5;241m=\u001B[39mn_jobs, verbose\u001B[38;5;241m=\u001B[39mverbose, pre_dispatch\u001B[38;5;241m=\u001B[39mpre_dispatch)\n\u001B[1;32m--> 266\u001B[0m results \u001B[38;5;241m=\u001B[39m \u001B[43mparallel\u001B[49m\u001B[43m(\u001B[49m\n\u001B[0;32m    267\u001B[0m \u001B[43m    \u001B[49m\u001B[43mdelayed\u001B[49m\u001B[43m(\u001B[49m\u001B[43m_fit_and_score\u001B[49m\u001B[43m)\u001B[49m\u001B[43m(\u001B[49m\n\u001B[0;32m    268\u001B[0m \u001B[43m        \u001B[49m\u001B[43mclone\u001B[49m\u001B[43m(\u001B[49m\u001B[43mestimator\u001B[49m\u001B[43m)\u001B[49m\u001B[43m,\u001B[49m\n\u001B[0;32m    269\u001B[0m \u001B[43m        \u001B[49m\u001B[43mX\u001B[49m\u001B[43m,\u001B[49m\n\u001B[0;32m    270\u001B[0m \u001B[43m        \u001B[49m\u001B[43my\u001B[49m\u001B[43m,\u001B[49m\n\u001B[0;32m    271\u001B[0m \u001B[43m        \u001B[49m\u001B[43mscorers\u001B[49m\u001B[43m,\u001B[49m\n\u001B[0;32m    272\u001B[0m \u001B[43m        \u001B[49m\u001B[43mtrain\u001B[49m\u001B[43m,\u001B[49m\n\u001B[0;32m    273\u001B[0m \u001B[43m        \u001B[49m\u001B[43mtest\u001B[49m\u001B[43m,\u001B[49m\n\u001B[0;32m    274\u001B[0m \u001B[43m        \u001B[49m\u001B[43mverbose\u001B[49m\u001B[43m,\u001B[49m\n\u001B[0;32m    275\u001B[0m \u001B[43m        \u001B[49m\u001B[38;5;28;43;01mNone\u001B[39;49;00m\u001B[43m,\u001B[49m\n\u001B[0;32m    276\u001B[0m \u001B[43m        \u001B[49m\u001B[43mfit_params\u001B[49m\u001B[43m,\u001B[49m\n\u001B[0;32m    277\u001B[0m \u001B[43m        \u001B[49m\u001B[43mreturn_train_score\u001B[49m\u001B[38;5;241;43m=\u001B[39;49m\u001B[43mreturn_train_score\u001B[49m\u001B[43m,\u001B[49m\n\u001B[0;32m    278\u001B[0m \u001B[43m        \u001B[49m\u001B[43mreturn_times\u001B[49m\u001B[38;5;241;43m=\u001B[39;49m\u001B[38;5;28;43;01mTrue\u001B[39;49;00m\u001B[43m,\u001B[49m\n\u001B[0;32m    279\u001B[0m \u001B[43m        \u001B[49m\u001B[43mreturn_estimator\u001B[49m\u001B[38;5;241;43m=\u001B[39;49m\u001B[43mreturn_estimator\u001B[49m\u001B[43m,\u001B[49m\n\u001B[0;32m    280\u001B[0m \u001B[43m        \u001B[49m\u001B[43merror_score\u001B[49m\u001B[38;5;241;43m=\u001B[39;49m\u001B[43merror_score\u001B[49m\u001B[43m,\u001B[49m\n\u001B[0;32m    281\u001B[0m \u001B[43m    \u001B[49m\u001B[43m)\u001B[49m\n\u001B[0;32m    282\u001B[0m \u001B[43m    \u001B[49m\u001B[38;5;28;43;01mfor\u001B[39;49;00m\u001B[43m \u001B[49m\u001B[43mtrain\u001B[49m\u001B[43m,\u001B[49m\u001B[43m \u001B[49m\u001B[43mtest\u001B[49m\u001B[43m \u001B[49m\u001B[38;5;129;43;01min\u001B[39;49;00m\u001B[43m \u001B[49m\u001B[43mcv\u001B[49m\u001B[38;5;241;43m.\u001B[39;49m\u001B[43msplit\u001B[49m\u001B[43m(\u001B[49m\u001B[43mX\u001B[49m\u001B[43m,\u001B[49m\u001B[43m \u001B[49m\u001B[43my\u001B[49m\u001B[43m,\u001B[49m\u001B[43m \u001B[49m\u001B[43mgroups\u001B[49m\u001B[43m)\u001B[49m\n\u001B[0;32m    283\u001B[0m \u001B[43m\u001B[49m\u001B[43m)\u001B[49m\n\u001B[0;32m    285\u001B[0m _warn_or_raise_about_fit_failures(results, error_score)\n\u001B[0;32m    287\u001B[0m \u001B[38;5;66;03m# For callabe scoring, the return type is only know after calling. If the\u001B[39;00m\n\u001B[0;32m    288\u001B[0m \u001B[38;5;66;03m# return type is a dictionary, the error scores can now be inserted with\u001B[39;00m\n\u001B[0;32m    289\u001B[0m \u001B[38;5;66;03m# the correct key.\u001B[39;00m\n",
      "File \u001B[1;32m~\\PycharmProjects\\classificationCA1\\venv\\lib\\site-packages\\joblib\\parallel.py:1056\u001B[0m, in \u001B[0;36mParallel.__call__\u001B[1;34m(self, iterable)\u001B[0m\n\u001B[0;32m   1053\u001B[0m     \u001B[38;5;28mself\u001B[39m\u001B[38;5;241m.\u001B[39m_iterating \u001B[38;5;241m=\u001B[39m \u001B[38;5;28;01mFalse\u001B[39;00m\n\u001B[0;32m   1055\u001B[0m \u001B[38;5;28;01mwith\u001B[39;00m \u001B[38;5;28mself\u001B[39m\u001B[38;5;241m.\u001B[39m_backend\u001B[38;5;241m.\u001B[39mretrieval_context():\n\u001B[1;32m-> 1056\u001B[0m     \u001B[38;5;28;43mself\u001B[39;49m\u001B[38;5;241;43m.\u001B[39;49m\u001B[43mretrieve\u001B[49m\u001B[43m(\u001B[49m\u001B[43m)\u001B[49m\n\u001B[0;32m   1057\u001B[0m \u001B[38;5;66;03m# Make sure that we get a last message telling us we are done\u001B[39;00m\n\u001B[0;32m   1058\u001B[0m elapsed_time \u001B[38;5;241m=\u001B[39m time\u001B[38;5;241m.\u001B[39mtime() \u001B[38;5;241m-\u001B[39m \u001B[38;5;28mself\u001B[39m\u001B[38;5;241m.\u001B[39m_start_time\n",
      "File \u001B[1;32m~\\PycharmProjects\\classificationCA1\\venv\\lib\\site-packages\\joblib\\parallel.py:935\u001B[0m, in \u001B[0;36mParallel.retrieve\u001B[1;34m(self)\u001B[0m\n\u001B[0;32m    933\u001B[0m \u001B[38;5;28;01mtry\u001B[39;00m:\n\u001B[0;32m    934\u001B[0m     \u001B[38;5;28;01mif\u001B[39;00m \u001B[38;5;28mgetattr\u001B[39m(\u001B[38;5;28mself\u001B[39m\u001B[38;5;241m.\u001B[39m_backend, \u001B[38;5;124m'\u001B[39m\u001B[38;5;124msupports_timeout\u001B[39m\u001B[38;5;124m'\u001B[39m, \u001B[38;5;28;01mFalse\u001B[39;00m):\n\u001B[1;32m--> 935\u001B[0m         \u001B[38;5;28mself\u001B[39m\u001B[38;5;241m.\u001B[39m_output\u001B[38;5;241m.\u001B[39mextend(\u001B[43mjob\u001B[49m\u001B[38;5;241;43m.\u001B[39;49m\u001B[43mget\u001B[49m\u001B[43m(\u001B[49m\u001B[43mtimeout\u001B[49m\u001B[38;5;241;43m=\u001B[39;49m\u001B[38;5;28;43mself\u001B[39;49m\u001B[38;5;241;43m.\u001B[39;49m\u001B[43mtimeout\u001B[49m\u001B[43m)\u001B[49m)\n\u001B[0;32m    936\u001B[0m     \u001B[38;5;28;01melse\u001B[39;00m:\n\u001B[0;32m    937\u001B[0m         \u001B[38;5;28mself\u001B[39m\u001B[38;5;241m.\u001B[39m_output\u001B[38;5;241m.\u001B[39mextend(job\u001B[38;5;241m.\u001B[39mget())\n",
      "File \u001B[1;32m~\\PycharmProjects\\classificationCA1\\venv\\lib\\site-packages\\joblib\\_parallel_backends.py:542\u001B[0m, in \u001B[0;36mLokyBackend.wrap_future_result\u001B[1;34m(future, timeout)\u001B[0m\n\u001B[0;32m    539\u001B[0m \u001B[38;5;124;03m\"\"\"Wrapper for Future.result to implement the same behaviour as\u001B[39;00m\n\u001B[0;32m    540\u001B[0m \u001B[38;5;124;03mAsyncResults.get from multiprocessing.\"\"\"\u001B[39;00m\n\u001B[0;32m    541\u001B[0m \u001B[38;5;28;01mtry\u001B[39;00m:\n\u001B[1;32m--> 542\u001B[0m     \u001B[38;5;28;01mreturn\u001B[39;00m \u001B[43mfuture\u001B[49m\u001B[38;5;241;43m.\u001B[39;49m\u001B[43mresult\u001B[49m\u001B[43m(\u001B[49m\u001B[43mtimeout\u001B[49m\u001B[38;5;241;43m=\u001B[39;49m\u001B[43mtimeout\u001B[49m\u001B[43m)\u001B[49m\n\u001B[0;32m    543\u001B[0m \u001B[38;5;28;01mexcept\u001B[39;00m CfTimeoutError \u001B[38;5;28;01mas\u001B[39;00m e:\n\u001B[0;32m    544\u001B[0m     \u001B[38;5;28;01mraise\u001B[39;00m \u001B[38;5;167;01mTimeoutError\u001B[39;00m \u001B[38;5;28;01mfrom\u001B[39;00m \u001B[38;5;21;01me\u001B[39;00m\n",
      "File \u001B[1;32m~\\AppData\\Local\\Programs\\Python\\Python39\\lib\\concurrent\\futures\\_base.py:446\u001B[0m, in \u001B[0;36mFuture.result\u001B[1;34m(self, timeout)\u001B[0m\n\u001B[0;32m    444\u001B[0m     \u001B[38;5;28;01mraise\u001B[39;00m CancelledError()\n\u001B[0;32m    445\u001B[0m \u001B[38;5;28;01melif\u001B[39;00m \u001B[38;5;28mself\u001B[39m\u001B[38;5;241m.\u001B[39m_state \u001B[38;5;241m==\u001B[39m FINISHED:\n\u001B[1;32m--> 446\u001B[0m     \u001B[38;5;28;01mreturn\u001B[39;00m \u001B[38;5;28;43mself\u001B[39;49m\u001B[38;5;241;43m.\u001B[39;49m\u001B[43m__get_result\u001B[49m\u001B[43m(\u001B[49m\u001B[43m)\u001B[49m\n\u001B[0;32m    447\u001B[0m \u001B[38;5;28;01melse\u001B[39;00m:\n\u001B[0;32m    448\u001B[0m     \u001B[38;5;28;01mraise\u001B[39;00m \u001B[38;5;167;01mTimeoutError\u001B[39;00m()\n",
      "File \u001B[1;32m~\\AppData\\Local\\Programs\\Python\\Python39\\lib\\concurrent\\futures\\_base.py:391\u001B[0m, in \u001B[0;36mFuture.__get_result\u001B[1;34m(self)\u001B[0m\n\u001B[0;32m    389\u001B[0m \u001B[38;5;28;01mif\u001B[39;00m \u001B[38;5;28mself\u001B[39m\u001B[38;5;241m.\u001B[39m_exception:\n\u001B[0;32m    390\u001B[0m     \u001B[38;5;28;01mtry\u001B[39;00m:\n\u001B[1;32m--> 391\u001B[0m         \u001B[38;5;28;01mraise\u001B[39;00m \u001B[38;5;28mself\u001B[39m\u001B[38;5;241m.\u001B[39m_exception\n\u001B[0;32m    392\u001B[0m     \u001B[38;5;28;01mfinally\u001B[39;00m:\n\u001B[0;32m    393\u001B[0m         \u001B[38;5;66;03m# Break a reference cycle with the exception in self._exception\u001B[39;00m\n\u001B[0;32m    394\u001B[0m         \u001B[38;5;28mself\u001B[39m \u001B[38;5;241m=\u001B[39m \u001B[38;5;28;01mNone\u001B[39;00m\n",
      "\u001B[1;31mPicklingError\u001B[0m: Could not pickle the task to send it to the workers."
     ]
    }
   ],
   "source": [
    "from sklearn.feature_selection import chi2\n",
    "from imblearn.pipeline import make_pipeline\n",
    "from sklearn.preprocessing import StandardScaler\n",
    "from imblearn.over_sampling import SMOTENC, SMOTE\n",
    "baseline = Pipeline([\n",
    "    ('Imputation',preproc),\n",
    "    ('Oversampling',oversampling),\n",
    "    ('Data Preprocessing', data_preprocessing),\n",
    "    ('Custom Selector',customSelector()),\n",
    "    ('Model', DummyClassifier())\n",
    "])\n",
    "record,current,lr=scoreModel(baseline,x_train,y_train,\"Dummy Baseline Classifier\")\n",
    "current"
   ],
   "metadata": {
    "collapsed": false,
    "pycharm": {
     "name": "#%%\n"
    }
   }
  },
  {
   "cell_type": "code",
   "execution_count": 42,
   "outputs": [
    {
     "ename": "NameError",
     "evalue": "name 'data_preprocessing' is not defined",
     "output_type": "error",
     "traceback": [
      "\u001B[1;31m---------------------------------------------------------------------------\u001B[0m",
      "\u001B[1;31mNameError\u001B[0m                                 Traceback (most recent call last)",
      "Input \u001B[1;32mIn [42]\u001B[0m, in \u001B[0;36m<cell line: 4>\u001B[1;34m()\u001B[0m\n\u001B[0;32m      2\u001B[0m \u001B[38;5;28;01mfrom\u001B[39;00m \u001B[38;5;21;01msklearn\u001B[39;00m\u001B[38;5;21;01m.\u001B[39;00m\u001B[38;5;21;01mpreprocessing\u001B[39;00m \u001B[38;5;28;01mimport\u001B[39;00m StandardScaler\n\u001B[0;32m      3\u001B[0m \u001B[38;5;28;01mfrom\u001B[39;00m \u001B[38;5;21;01mimblearn\u001B[39;00m\u001B[38;5;21;01m.\u001B[39;00m\u001B[38;5;21;01mover_sampling\u001B[39;00m \u001B[38;5;28;01mimport\u001B[39;00m SMOTENC, SMOTE\n\u001B[0;32m      4\u001B[0m lg \u001B[38;5;241m=\u001B[39m Pipeline([\n\u001B[1;32m----> 5\u001B[0m     (\u001B[38;5;124m'\u001B[39m\u001B[38;5;124mData Preprocessing\u001B[39m\u001B[38;5;124m'\u001B[39m, \u001B[43mdata_preprocessing\u001B[49m),\n\u001B[0;32m      6\u001B[0m        (\u001B[38;5;124m'\u001B[39m\u001B[38;5;124mCustom Selector\u001B[39m\u001B[38;5;124m'\u001B[39m,customSelector()),\n\u001B[0;32m      7\u001B[0m     (\u001B[38;5;124m'\u001B[39m\u001B[38;5;124mModel\u001B[39m\u001B[38;5;124m'\u001B[39m, LogisticRegression())\n\u001B[0;32m      8\u001B[0m ])\n\u001B[0;32m      9\u001B[0m record,current,lr\u001B[38;5;241m=\u001B[39mscoreModel(lg,x_over_train,y_over_train,\u001B[38;5;124m\"\u001B[39m\u001B[38;5;124mLogistic Regression\u001B[39m\u001B[38;5;124m\"\u001B[39m,record)\n\u001B[0;32m     10\u001B[0m current\n",
      "\u001B[1;31mNameError\u001B[0m: name 'data_preprocessing' is not defined"
     ]
    }
   ],
   "source": [
    "from imblearn.pipeline import make_pipeline\n",
    "from sklearn.preprocessing import StandardScaler\n",
    "from imblearn.over_sampling import SMOTENC, SMOTE\n",
    "lg = Pipeline([\n",
    "    ('Data Preprocessing', data_preprocessing),\n",
    "       ('Custom Selector',customSelector()),\n",
    "    ('Model', LogisticRegression())\n",
    "])\n",
    "record,current,lr=scoreModel(lg,x_over_train,y_over_train,\"Logistic Regression\",record)\n",
    "current"
   ],
   "metadata": {
    "collapsed": false,
    "pycharm": {
     "name": "#%%\n"
    }
   }
  },
  {
   "cell_type": "code",
   "execution_count": null,
   "outputs": [],
   "source": [
    "\n",
    "DeciTree = Pipeline([\n",
    "    ('Data Preprocessing', data_preprocessing),\n",
    "    ('Custom Selector',customSelector()),\n",
    "    ('model', DecisionTreeClassifier(ccp_alpha=0.03527))\n",
    "])\n",
    "\n",
    "\n",
    "record,current,lr=scoreModel(DeciTree,x_over_train,y_over_train,\"Decision Tree Classifier\",record=record)\n",
    "current"
   ],
   "metadata": {
    "collapsed": false,
    "pycharm": {
     "name": "#%%\n"
    }
   }
  },
  {
   "cell_type": "code",
   "execution_count": null,
   "outputs": [],
   "source": [
    "\n",
    "\n",
    "from sklearn.model_selection import validation_curve\n",
    "pr=np.arange(0.00827,0.1,0.01)\n",
    "train_score,test_score = validation_curve(DeciTree,x_over_train,y_over_train,param_name='model__ccp_alpha',param_range=pr,cv=StratifiedKFold(n_splits = 5, shuffle = True, random_state = 0,),scoring='recall')\n",
    "train_score =  np.mean(train_score,axis=1)\n",
    "test_score = np.mean(test_score,axis=1)\n",
    "plt.plot(pr,train_score,'o-',color = 'r',label = 'training')\n",
    "plt.plot(pr,test_score,'o-',color = 'g',label = 'testing')\n",
    "plt.legend(loc='best')\n",
    "plt.xlabel('number of tree')\n",
    "plt.ylabel('accuracy')\n",
    "plt.show()\n",
    "\n"
   ],
   "metadata": {
    "collapsed": false,
    "pycharm": {
     "name": "#%%\n"
    }
   }
  },
  {
   "cell_type": "code",
   "execution_count": null,
   "outputs": [],
   "source": [
    "test_score"
   ],
   "metadata": {
    "collapsed": false,
    "pycharm": {
     "name": "#%%\n"
    }
   }
  },
  {
   "cell_type": "code",
   "execution_count": null,
   "outputs": [],
   "source": [
    "parameter={'model__max_depth':np.arange(1,10),'model__ccp_alpha':np.arange(0.00827,0.05,0.01)}\n",
    "pd.DataFrame(GridSearchCV(DeciTree,param_grid=parameter,scoring='recall').fit(x_over_train,y_over_train).cv_results_)\n"
   ],
   "metadata": {
    "collapsed": false,
    "pycharm": {
     "name": "#%%\n"
    }
   }
  },
  {
   "cell_type": "code",
   "execution_count": null,
   "outputs": [],
   "source": [
    "randomFor = Pipeline([\n",
    "    ('Data Preprocessing', data_preprocessing),\n",
    "    ('Custom Selector',customSelector()),\n",
    "    ('model', RandomForestClassifier())\n",
    "])\n",
    "# parameter={'model__max_depth':np.arange(1,9),'model__ccp_alpha':np.arange(0.00827,0.03,0.001)}\n",
    "# pd.DataFrame(GridSearchCV(randomFor,param_grid=parameter,scoring='recall').fit(x_train,y_train).cv_results_)\n",
    "\n",
    "record,current,lr=scoreModel(randomFor,x_over_train,y_over_train,\"Random Forest Classifier\",record=record)\n",
    "current"
   ],
   "metadata": {
    "collapsed": false,
    "pycharm": {
     "name": "#%%\n"
    }
   }
  },
  {
   "cell_type": "code",
   "execution_count": null,
   "outputs": [],
   "source": [
    "parameter={'model__max_depth':np.arange(1,10),'model__ccp_alpha':np.arange(0.00827,0.05,0.01)}\n",
    "pd.DataFrame(GridSearchCV(randomFor,param_grid=parameter,scoring='recall').fit(x_over_train,y_over_train).cv_results_)\n"
   ],
   "metadata": {
    "collapsed": false,
    "pycharm": {
     "name": "#%%\n"
    }
   }
  },
  {
   "cell_type": "code",
   "execution_count": null,
   "outputs": [],
   "source": [
    "svm = Pipeline([\n",
    "    ('Data Preprocessing', data_preprocessing),\n",
    "    ('Custom Selector',customSelector()),\n",
    "    ('model', SVC())\n",
    "])\n",
    "# parameters = {'model__kernel':('linear', 'rbf'), 'model__C':np.arange(1,10),}\n",
    "# pd.DataFrame(GridSearchCV(svm,param_grid=parameters,scoring='recall',n_jobs=-1).fit(x_train,y_train).cv_results_)\n",
    "\n",
    "record,current,lr=scoreModel(svm,x_over_train,y_over_train,\"SVM Classifier\",record=record)\n",
    "current"
   ],
   "metadata": {
    "collapsed": false,
    "pycharm": {
     "name": "#%%\n"
    }
   }
  },
  {
   "cell_type": "code",
   "execution_count": null,
   "outputs": [],
   "source": [
    "parameter={'model__C':np.arange(1,10),'model__gamma':np.arange(0.1,1,0.1)}\n",
    "pd.DataFrame(GridSearchCV(svm,param_grid=parameter,scoring='recall').fit(x_over_train,y_over_train).cv_results_)"
   ],
   "metadata": {
    "collapsed": false,
    "pycharm": {
     "name": "#%%\n"
    }
   }
  },
  {
   "cell_type": "code",
   "execution_count": null,
   "outputs": [],
   "source": [
    "lgbmC = Pipeline([\n",
    "    ('Data Preprocessing', data_preprocessing),\n",
    "    ('Custom Selector',customSelector()),\n",
    "    ('model', AdaBoostClassifier())\n",
    "])\n",
    "\n",
    "\n",
    "# parameter={'model__n_estimators':np.arange(1,13),'model__learning_rate':np.arange(0.1,2,0.01)}\n",
    "#\n",
    "# pd.DataFrame(GridSearchCV(lgbmC,param_grid=parameter,scoring='recall',n_jobs=-1).fit(x_train,y_train).cv_results_)\n",
    "\n",
    "record,current,lr=scoreModel(lgbmC,x_over_train,y_over_train,\"Adaptive Boosting Classifier\",record=record)\n",
    "current"
   ],
   "metadata": {
    "collapsed": false,
    "pycharm": {
     "name": "#%%\n"
    }
   }
  },
  {
   "cell_type": "code",
   "execution_count": null,
   "outputs": [],
   "source": [
    "\n",
    "xgboost = Pipeline([\n",
    "    ('Data Preprocessing', data_preprocessing),\n",
    "    ('Custom Selector',customSelector()),\n",
    "    ('Model', xgb.XGBClassifier())\n",
    "])\n",
    "record,current,lr=scoreModel(xgboost,x_over_train,y_over_train,\"eXtreme Gradient Boosting Classifier\",record)\n",
    "current"
   ],
   "metadata": {
    "collapsed": false,
    "pycharm": {
     "name": "#%%\n"
    }
   }
  },
  {
   "cell_type": "code",
   "execution_count": null,
   "outputs": [],
   "source": [
    "parameter={'Model__max_depth':np.arange(1,10),'Model__n_estimators':np.arange(1,16)}\n",
    "pd.DataFrame(GridSearchCV(xgboost,param_grid=parameter,scoring='recall').fit(x_over_train,y_over_train).cv_results_)\n"
   ],
   "metadata": {
    "collapsed": false,
    "pycharm": {
     "name": "#%%\n"
    }
   }
  },
  {
   "cell_type": "code",
   "execution_count": null,
   "outputs": [],
   "source": [
    "knnClassifier = Pipeline([\n",
    "    ('Data Preprocessing', data_preprocessing),\n",
    "    ('Custom Selector',customSelector()),\n",
    "    ('Model', KNeighborsClassifier())\n",
    "])\n",
    "record,current,lr=scoreModel(knnClassifier,x_over_train,y_over_train,\"K-Nearest Neighbour Classifier\",record=record)\n",
    "current"
   ],
   "metadata": {
    "collapsed": false,
    "pycharm": {
     "name": "#%%\n"
    }
   }
  },
  {
   "cell_type": "code",
   "execution_count": null,
   "outputs": [],
   "source": [
    "parameter={'Model__n_neighbors':np.arange(1,10)}\n",
    "pd.DataFrame(GridSearchCV(knnClassifier,param_grid=parameter,scoring='recall').fit(x_over_train,y_over_train).cv_results_)\n"
   ],
   "metadata": {
    "collapsed": false,
    "pycharm": {
     "name": "#%%\n"
    }
   }
  },
  {
   "cell_type": "code",
   "execution_count": null,
   "outputs": [],
   "source": [
    "record"
   ],
   "metadata": {
    "collapsed": false,
    "pycharm": {
     "name": "#%%\n"
    }
   }
  }
 ],
 "metadata": {
  "kernelspec": {
   "display_name": "Python 3",
   "language": "python",
   "name": "python3"
  },
  "language_info": {
   "codemirror_mode": {
    "name": "ipython",
    "version": 2
   },
   "file_extension": ".py",
   "mimetype": "text/x-python",
   "name": "python",
   "nbconvert_exporter": "python",
   "pygments_lexer": "ipython2",
   "version": "2.7.6"
  }
 },
 "nbformat": 4,
 "nbformat_minor": 0
}