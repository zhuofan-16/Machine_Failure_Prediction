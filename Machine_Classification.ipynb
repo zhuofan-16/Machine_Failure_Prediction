{
 "cells": [
  {
   "cell_type": "markdown",
   "metadata": {
    "pycharm": {
     "name": "#%% md\n"
    }
   },
   "source": [
    "# Machine Failure Prediction using Machine Learning\n",
    "Author: Chen ZhuoFan (P2100746) | Singapore Polytechnic\n",
    "\n",
    "Globalisation is the process of interaction and integration among people,companies and governments worldwide.It has accelerated since the 18th century and have enabled the trade of goods and services at a bigger scale.\n",
    "\n",
    "The production of goods need to be done more effectively.In today's world, many goods are manufacturing by machines in a pipeline to ensure high efficiency and precision at the same time. However,machines may malfunction with time.These malfunctioning machines may result in defects in goods which is not favourable. Manual checking can be time-consuming and cost-inefficient.\n",
    "\n",
    "Machine Learning is defined by Mitchell (1997) as the study of computer algorithms that improve automatically through experience. [3] Machine learning comes to our sight in the recent decades with its ease and high performance. It has the capacity to learn and identify patterns from data and make decision.\n",
    "\n",
    "In this experiment ,we will make use of machine learning model to assist us in predicting malfunctioning machines so that repairs or replacements can be done in time to reduce disruption and loss.\n"
   ]
  },
  {
   "cell_type": "markdown",
   "metadata": {
    "pycharm": {
     "name": "#%% md\n"
    }
   },
   "source": [
    "## Problem Statement\n",
    "\n",
    "How can we make use of machine learning to predict malfunctioning machines in the factories?"
   ]
  },
  {
   "cell_type": "markdown",
   "metadata": {
    "pycharm": {
     "name": "#%% md\n"
    }
   },
   "source": [
    "## Importing Libraries"
   ]
  },
  {
   "cell_type": "code",
   "execution_count": 1,
   "metadata": {
    "pycharm": {
     "name": "#%%\n"
    }
   },
   "outputs": [
    {
     "name": "stdout",
     "output_type": "stream",
     "text": [
      "Requirement already satisfied: numpy in ./.local/lib/python3.8/site-packages (1.22.3)\n",
      "Requirement already satisfied: matplotlib in ./.local/lib/python3.8/site-packages (3.5.2)\n",
      "Requirement already satisfied: pandas in ./.local/lib/python3.8/site-packages (1.4.2)\n",
      "Requirement already satisfied: seaborn in ./.local/lib/python3.8/site-packages (0.11.2)\n",
      "Requirement already satisfied: scikit-learn==1.0.2 in ./.local/lib/python3.8/site-packages (1.0.2)\n",
      "Requirement already satisfied: yellowbrick in ./.local/lib/python3.8/site-packages (1.4)\n",
      "Requirement already satisfied: phik in ./.local/lib/python3.8/site-packages (0.12.2)\n",
      "Requirement already satisfied: statsmodels in ./.local/lib/python3.8/site-packages (0.13.2)\n",
      "Requirement already satisfied: pyampute in ./.local/lib/python3.8/site-packages (0.0.2)\n",
      "Requirement already satisfied: xgboost in ./.local/lib/python3.8/site-packages (1.6.1)\n",
      "Requirement already satisfied: imblearn in ./.local/lib/python3.8/site-packages (0.0)\n",
      "Requirement already satisfied: missingno in ./.local/lib/python3.8/site-packages (0.5.1)\n",
      "Requirement already satisfied: mlxtend in ./.local/lib/python3.8/site-packages (0.19.0)\n",
      "Requirement already satisfied: packaging>=20.0 in ./.local/lib/python3.8/site-packages (from matplotlib) (21.3)\n",
      "Requirement already satisfied: pyparsing>=2.2.1 in ./.local/lib/python3.8/site-packages (from matplotlib) (3.0.9)\n",
      "Requirement already satisfied: fonttools>=4.22.0 in ./.local/lib/python3.8/site-packages (from matplotlib) (4.33.3)\n",
      "Requirement already satisfied: cycler>=0.10 in ./.local/lib/python3.8/site-packages (from matplotlib) (0.11.0)\n",
      "Requirement already satisfied: pillow>=6.2.0 in ./.local/lib/python3.8/site-packages (from matplotlib) (9.1.0)\n",
      "Requirement already satisfied: python-dateutil>=2.7 in ./.local/lib/python3.8/site-packages (from matplotlib) (2.8.2)\n",
      "Requirement already satisfied: kiwisolver>=1.0.1 in ./.local/lib/python3.8/site-packages (from matplotlib) (1.4.2)\n",
      "Requirement already satisfied: pytz>=2020.1 in ./.local/lib/python3.8/site-packages (from pandas) (2022.1)\n",
      "Requirement already satisfied: scipy>=1.0 in ./.local/lib/python3.8/site-packages (from seaborn) (1.8.0)\n",
      "Requirement already satisfied: joblib>=0.11 in ./.local/lib/python3.8/site-packages (from scikit-learn==1.0.2) (1.1.0)\n",
      "Requirement already satisfied: threadpoolctl>=2.0.0 in ./.local/lib/python3.8/site-packages (from scikit-learn==1.0.2) (3.1.0)\n",
      "Requirement already satisfied: patsy>=0.5.2 in ./.local/lib/python3.8/site-packages (from statsmodels) (0.5.2)\n",
      "Requirement already satisfied: imbalanced-learn in ./.local/lib/python3.8/site-packages (from imblearn) (0.9.0)\n",
      "Requirement already satisfied: setuptools in /usr/lib/python3/dist-packages (from mlxtend) (45.2.0)\n",
      "Requirement already satisfied: six>=1.5 in /usr/lib/python3/dist-packages (from python-dateutil>=2.7->matplotlib) (1.14.0)\n"
     ]
    }
   ],
   "source": [
    "!pip install numpy matplotlib pandas seaborn scikit-learn==1.0.2 yellowbrick phik statsmodels pyampute xgboost imblearn missingno mlxtend --user "
   ]
  },
  {
   "cell_type": "code",
   "execution_count": 2,
   "metadata": {
    "pycharm": {
     "name": "#%%\n"
    }
   },
   "outputs": [],
   "source": [
    "import numpy as np\n",
    "import matplotlib.pyplot as plt\n",
    "import pandas as pd\n",
    "import seaborn as sns\n",
    "\n",
    "sns.set_style(\"whitegrid\")\n",
    "\n",
    "\n",
    "\n",
    "# Model Evaluation\n",
    "from sklearn.model_selection import train_test_split, cross_validate, StratifiedKFold\n",
    "from sklearn.metrics import classification_report, plot_precision_recall_curve, plot_roc_curve, confusion_matrix\n",
    "from yellowbrick.model_selection import learning_curve\n",
    "\n",
    "# Missing Value\n",
    "from pyampute.exploration.mcar_statistical_tests import MCARTest\n",
    "from sklearn.impute import KNNImputer\n",
    "\n",
    "\n",
    "\n",
    "# Data Preprocessing\n",
    "import phik\n",
    "from sklearn.pipeline import Pipeline\n",
    "from sklearn.compose import ColumnTransformer\n",
    "from sklearn.preprocessing import  OneHotEncoder,QuantileTransformer\n",
    "from sklearn.preprocessing import  MinMaxScaler\n",
    "\n",
    "\n",
    "# Models\n",
    "from sklearn.dummy import DummyClassifier\n",
    "from sklearn.neighbors import KNeighborsClassifier\n",
    "from sklearn.linear_model import LogisticRegression\n",
    "from sklearn.svm import SVC\n",
    "from sklearn.tree import DecisionTreeClassifier\n",
    "from sklearn.ensemble import RandomForestClassifier, GradientBoostingClassifier, AdaBoostClassifier\n",
    "from sklearn.naive_bayes import GaussianNB\n",
    "import xgboost as xgb\n",
    "\n",
    "\n",
    "# Feature Importance\n",
    "from sklearn.inspection import permutation_importance\n",
    "\n",
    "# Hyperparameter Tuning\n",
    "from sklearn.model_selection import  GridSearchCV\n",
    "from sklearn.metrics import recall_score\n",
    "\n",
    "# Feature Selection\n",
    "from sklearn.feature_selection import SequentialFeatureSelector\n",
    "from sklearn.feature_selection import SelectFromModel, RFE, SelectKBest,chi2\n",
    "\n",
    "import joblib\n",
    "# Random State\n",
    "random_state = 0"
   ]
  },
  {
   "cell_type": "code",
   "execution_count": 3,
   "metadata": {},
   "outputs": [],
   "source": [
    "from sklearn.utils._testing import ignore_warnings\n",
    "from sklearn.exceptions import ConvergenceWarning"
   ]
  },
  {
   "cell_type": "markdown",
   "metadata": {
    "pycharm": {
     "name": "#%% md\n"
    }
   },
   "source": [
    "## Data Ingestion"
   ]
  },
  {
   "cell_type": "code",
   "execution_count": 4,
   "metadata": {
    "pycharm": {
     "name": "#%%\n"
    }
   },
   "outputs": [
    {
     "data": {
      "text/html": [
       "<div>\n",
       "<style scoped>\n",
       "    .dataframe tbody tr th:only-of-type {\n",
       "        vertical-align: middle;\n",
       "    }\n",
       "\n",
       "    .dataframe tbody tr th {\n",
       "        vertical-align: top;\n",
       "    }\n",
       "\n",
       "    .dataframe thead th {\n",
       "        text-align: right;\n",
       "    }\n",
       "</style>\n",
       "<table border=\"1\" class=\"dataframe\">\n",
       "  <thead>\n",
       "    <tr style=\"text-align: right;\">\n",
       "      <th></th>\n",
       "      <th>Product ID</th>\n",
       "      <th>Quality</th>\n",
       "      <th>Ambient T (C)</th>\n",
       "      <th>Process T (C)</th>\n",
       "      <th>Rotation Speed (rpm)</th>\n",
       "      <th>Torque (Nm)</th>\n",
       "      <th>Tool Wear (min)</th>\n",
       "      <th>Machine Status</th>\n",
       "    </tr>\n",
       "    <tr>\n",
       "      <th>Unique ID</th>\n",
       "      <th></th>\n",
       "      <th></th>\n",
       "      <th></th>\n",
       "      <th></th>\n",
       "      <th></th>\n",
       "      <th></th>\n",
       "      <th></th>\n",
       "      <th></th>\n",
       "    </tr>\n",
       "  </thead>\n",
       "  <tbody>\n",
       "    <tr>\n",
       "      <th>1</th>\n",
       "      <td>K12965</td>\n",
       "      <td>M</td>\n",
       "      <td>24.95</td>\n",
       "      <td>35.45</td>\n",
       "      <td>1551.0</td>\n",
       "      <td>42.8</td>\n",
       "      <td>0</td>\n",
       "      <td>0</td>\n",
       "    </tr>\n",
       "    <tr>\n",
       "      <th>2</th>\n",
       "      <td>Z62710</td>\n",
       "      <td>L</td>\n",
       "      <td>25.05</td>\n",
       "      <td>35.55</td>\n",
       "      <td>1408.0</td>\n",
       "      <td>46.3</td>\n",
       "      <td>3</td>\n",
       "      <td>0</td>\n",
       "    </tr>\n",
       "    <tr>\n",
       "      <th>3</th>\n",
       "      <td>T20224</td>\n",
       "      <td>L</td>\n",
       "      <td>24.95</td>\n",
       "      <td>35.35</td>\n",
       "      <td>1498.0</td>\n",
       "      <td>49.4</td>\n",
       "      <td>5</td>\n",
       "      <td>0</td>\n",
       "    </tr>\n",
       "    <tr>\n",
       "      <th>4</th>\n",
       "      <td>Z33024</td>\n",
       "      <td>L</td>\n",
       "      <td>25.05</td>\n",
       "      <td>35.45</td>\n",
       "      <td>1433.0</td>\n",
       "      <td>39.5</td>\n",
       "      <td>7</td>\n",
       "      <td>0</td>\n",
       "    </tr>\n",
       "    <tr>\n",
       "      <th>5</th>\n",
       "      <td>Z52839</td>\n",
       "      <td>L</td>\n",
       "      <td>25.05</td>\n",
       "      <td>35.55</td>\n",
       "      <td>1408.0</td>\n",
       "      <td>40.0</td>\n",
       "      <td>9</td>\n",
       "      <td>0</td>\n",
       "    </tr>\n",
       "    <tr>\n",
       "      <th>...</th>\n",
       "      <td>...</td>\n",
       "      <td>...</td>\n",
       "      <td>...</td>\n",
       "      <td>...</td>\n",
       "      <td>...</td>\n",
       "      <td>...</td>\n",
       "      <td>...</td>\n",
       "      <td>...</td>\n",
       "    </tr>\n",
       "    <tr>\n",
       "      <th>19996</th>\n",
       "      <td>T87335</td>\n",
       "      <td>M</td>\n",
       "      <td>25.75</td>\n",
       "      <td>35.35</td>\n",
       "      <td>NaN</td>\n",
       "      <td>29.5</td>\n",
       "      <td>14</td>\n",
       "      <td>0</td>\n",
       "    </tr>\n",
       "    <tr>\n",
       "      <th>19997</th>\n",
       "      <td>Z59525</td>\n",
       "      <td>H</td>\n",
       "      <td>25.85</td>\n",
       "      <td>35.35</td>\n",
       "      <td>1632.0</td>\n",
       "      <td>31.8</td>\n",
       "      <td>17</td>\n",
       "      <td>0</td>\n",
       "    </tr>\n",
       "    <tr>\n",
       "      <th>19998</th>\n",
       "      <td>T83921</td>\n",
       "      <td>M</td>\n",
       "      <td>25.95</td>\n",
       "      <td>NaN</td>\n",
       "      <td>NaN</td>\n",
       "      <td>33.4</td>\n",
       "      <td>22</td>\n",
       "      <td>0</td>\n",
       "    </tr>\n",
       "    <tr>\n",
       "      <th>19999</th>\n",
       "      <td>K42424</td>\n",
       "      <td>H</td>\n",
       "      <td>25.95</td>\n",
       "      <td>35.65</td>\n",
       "      <td>1408.0</td>\n",
       "      <td>48.5</td>\n",
       "      <td>25</td>\n",
       "      <td>0</td>\n",
       "    </tr>\n",
       "    <tr>\n",
       "      <th>20000</th>\n",
       "      <td>Z10048</td>\n",
       "      <td>M</td>\n",
       "      <td>25.95</td>\n",
       "      <td>35.65</td>\n",
       "      <td>1500.0</td>\n",
       "      <td>40.2</td>\n",
       "      <td>30</td>\n",
       "      <td>0</td>\n",
       "    </tr>\n",
       "  </tbody>\n",
       "</table>\n",
       "<p>20000 rows × 8 columns</p>\n",
       "</div>"
      ],
      "text/plain": [
       "          Product ID Quality  Ambient T (C)  Process T (C)  \\\n",
       "Unique ID                                                    \n",
       "1             K12965       M          24.95          35.45   \n",
       "2             Z62710       L          25.05          35.55   \n",
       "3             T20224       L          24.95          35.35   \n",
       "4             Z33024       L          25.05          35.45   \n",
       "5             Z52839       L          25.05          35.55   \n",
       "...              ...     ...            ...            ...   \n",
       "19996         T87335       M          25.75          35.35   \n",
       "19997         Z59525       H          25.85          35.35   \n",
       "19998         T83921       M          25.95            NaN   \n",
       "19999         K42424       H          25.95          35.65   \n",
       "20000         Z10048       M          25.95          35.65   \n",
       "\n",
       "           Rotation Speed (rpm)  Torque (Nm)  Tool Wear (min)  Machine Status  \n",
       "Unique ID                                                                      \n",
       "1                        1551.0         42.8                0               0  \n",
       "2                        1408.0         46.3                3               0  \n",
       "3                        1498.0         49.4                5               0  \n",
       "4                        1433.0         39.5                7               0  \n",
       "5                        1408.0         40.0                9               0  \n",
       "...                         ...          ...              ...             ...  \n",
       "19996                       NaN         29.5               14               0  \n",
       "19997                    1632.0         31.8               17               0  \n",
       "19998                       NaN         33.4               22               0  \n",
       "19999                    1408.0         48.5               25               0  \n",
       "20000                    1500.0         40.2               30               0  \n",
       "\n",
       "[20000 rows x 8 columns]"
      ]
     },
     "execution_count": 4,
     "metadata": {},
     "output_type": "execute_result"
    }
   ],
   "source": [
    "machineDf=pd.read_csv(\"./factory_data (classification).csv\",index_col='Unique ID')\n",
    "machineDf"
   ]
  },
  {
   "cell_type": "markdown",
   "metadata": {
    "pycharm": {
     "name": "#%% md\n"
    }
   },
   "source": [
    "## Data Exploration\n",
    "\n",
    "### Data Structure"
   ]
  },
  {
   "cell_type": "code",
   "execution_count": 5,
   "metadata": {
    "pycharm": {
     "name": "#%%\n"
    }
   },
   "outputs": [
    {
     "name": "stdout",
     "output_type": "stream",
     "text": [
      "<class 'pandas.core.frame.DataFrame'>\n",
      "Int64Index: 20000 entries, 1 to 20000\n",
      "Data columns (total 8 columns):\n",
      " #   Column                Non-Null Count  Dtype  \n",
      "---  ------                --------------  -----  \n",
      " 0   Product ID            20000 non-null  object \n",
      " 1   Quality               19009 non-null  object \n",
      " 2   Ambient T (C)         20000 non-null  float64\n",
      " 3   Process T (C)         19600 non-null  float64\n",
      " 4   Rotation Speed (rpm)  18812 non-null  float64\n",
      " 5   Torque (Nm)           20000 non-null  float64\n",
      " 6   Tool Wear (min)       20000 non-null  int64  \n",
      " 7   Machine Status        20000 non-null  int64  \n",
      "dtypes: float64(4), int64(2), object(2)\n",
      "memory usage: 1.4+ MB\n"
     ]
    }
   ],
   "source": [
    "machineDf.info()"
   ]
  },
  {
   "cell_type": "markdown",
   "metadata": {
    "pycharm": {
     "name": "#%% md\n"
    }
   },
   "source": [
    "### Managing Missing Data"
   ]
  },
  {
   "cell_type": "markdown",
   "metadata": {
    "pycharm": {
     "name": "#%% md\n"
    }
   },
   "source": []
  },
  {
   "cell_type": "code",
   "execution_count": 6,
   "metadata": {
    "pycharm": {
     "name": "#%%\n"
    }
   },
   "outputs": [
    {
     "data": {
      "text/html": [
       "<div>\n",
       "<style scoped>\n",
       "    .dataframe tbody tr th:only-of-type {\n",
       "        vertical-align: middle;\n",
       "    }\n",
       "\n",
       "    .dataframe tbody tr th {\n",
       "        vertical-align: top;\n",
       "    }\n",
       "\n",
       "    .dataframe thead th {\n",
       "        text-align: right;\n",
       "    }\n",
       "</style>\n",
       "<table border=\"1\" class=\"dataframe\">\n",
       "  <thead>\n",
       "    <tr style=\"text-align: right;\">\n",
       "      <th></th>\n",
       "      <th>0</th>\n",
       "    </tr>\n",
       "  </thead>\n",
       "  <tbody>\n",
       "    <tr>\n",
       "      <th>Rotation Speed (rpm)</th>\n",
       "      <td>1188</td>\n",
       "    </tr>\n",
       "    <tr>\n",
       "      <th>Quality</th>\n",
       "      <td>991</td>\n",
       "    </tr>\n",
       "    <tr>\n",
       "      <th>Process T (C)</th>\n",
       "      <td>400</td>\n",
       "    </tr>\n",
       "    <tr>\n",
       "      <th>Product ID</th>\n",
       "      <td>0</td>\n",
       "    </tr>\n",
       "    <tr>\n",
       "      <th>Ambient T (C)</th>\n",
       "      <td>0</td>\n",
       "    </tr>\n",
       "    <tr>\n",
       "      <th>Torque (Nm)</th>\n",
       "      <td>0</td>\n",
       "    </tr>\n",
       "    <tr>\n",
       "      <th>Tool Wear (min)</th>\n",
       "      <td>0</td>\n",
       "    </tr>\n",
       "    <tr>\n",
       "      <th>Machine Status</th>\n",
       "      <td>0</td>\n",
       "    </tr>\n",
       "  </tbody>\n",
       "</table>\n",
       "</div>"
      ],
      "text/plain": [
       "                         0\n",
       "Rotation Speed (rpm)  1188\n",
       "Quality                991\n",
       "Process T (C)          400\n",
       "Product ID               0\n",
       "Ambient T (C)            0\n",
       "Torque (Nm)              0\n",
       "Tool Wear (min)          0\n",
       "Machine Status           0"
      ]
     },
     "execution_count": 6,
     "metadata": {},
     "output_type": "execute_result"
    }
   ],
   "source": [
    "pd.DataFrame(machineDf.isna().sum().sort_values(ascending=False))"
   ]
  },
  {
   "cell_type": "code",
   "execution_count": 7,
   "metadata": {
    "pycharm": {
     "name": "#%%\n"
    }
   },
   "outputs": [
    {
     "data": {
      "text/html": [
       "<div>\n",
       "<style scoped>\n",
       "    .dataframe tbody tr th:only-of-type {\n",
       "        vertical-align: middle;\n",
       "    }\n",
       "\n",
       "    .dataframe tbody tr th {\n",
       "        vertical-align: top;\n",
       "    }\n",
       "\n",
       "    .dataframe thead th {\n",
       "        text-align: right;\n",
       "    }\n",
       "</style>\n",
       "<table border=\"1\" class=\"dataframe\">\n",
       "  <thead>\n",
       "    <tr style=\"text-align: right;\">\n",
       "      <th></th>\n",
       "      <th>Product ID</th>\n",
       "      <th>Quality</th>\n",
       "      <th>Ambient T (C)</th>\n",
       "      <th>Process T (C)</th>\n",
       "      <th>Rotation Speed (rpm)</th>\n",
       "      <th>Torque (Nm)</th>\n",
       "      <th>Tool Wear (min)</th>\n",
       "      <th>Machine Status</th>\n",
       "    </tr>\n",
       "    <tr>\n",
       "      <th>Unique ID</th>\n",
       "      <th></th>\n",
       "      <th></th>\n",
       "      <th></th>\n",
       "      <th></th>\n",
       "      <th></th>\n",
       "      <th></th>\n",
       "      <th></th>\n",
       "      <th></th>\n",
       "    </tr>\n",
       "  </thead>\n",
       "  <tbody>\n",
       "    <tr>\n",
       "      <th>7</th>\n",
       "      <td>K40563</td>\n",
       "      <td>L</td>\n",
       "      <td>24.95</td>\n",
       "      <td>NaN</td>\n",
       "      <td>NaN</td>\n",
       "      <td>42.4</td>\n",
       "      <td>14</td>\n",
       "      <td>0</td>\n",
       "    </tr>\n",
       "    <tr>\n",
       "      <th>11</th>\n",
       "      <td>K30974</td>\n",
       "      <td>NaN</td>\n",
       "      <td>25.25</td>\n",
       "      <td>35.75</td>\n",
       "      <td>1782.0</td>\n",
       "      <td>23.9</td>\n",
       "      <td>24</td>\n",
       "      <td>0</td>\n",
       "    </tr>\n",
       "    <tr>\n",
       "      <th>15</th>\n",
       "      <td>T39889</td>\n",
       "      <td>NaN</td>\n",
       "      <td>25.45</td>\n",
       "      <td>36.05</td>\n",
       "      <td>2035.0</td>\n",
       "      <td>19.6</td>\n",
       "      <td>40</td>\n",
       "      <td>0</td>\n",
       "    </tr>\n",
       "    <tr>\n",
       "      <th>20</th>\n",
       "      <td>T81915</td>\n",
       "      <td>M</td>\n",
       "      <td>25.75</td>\n",
       "      <td>NaN</td>\n",
       "      <td>1632.0</td>\n",
       "      <td>32.5</td>\n",
       "      <td>55</td>\n",
       "      <td>0</td>\n",
       "    </tr>\n",
       "    <tr>\n",
       "      <th>21</th>\n",
       "      <td>S64787</td>\n",
       "      <td>H</td>\n",
       "      <td>25.75</td>\n",
       "      <td>36.15</td>\n",
       "      <td>NaN</td>\n",
       "      <td>42.7</td>\n",
       "      <td>58</td>\n",
       "      <td>0</td>\n",
       "    </tr>\n",
       "    <tr>\n",
       "      <th>...</th>\n",
       "      <td>...</td>\n",
       "      <td>...</td>\n",
       "      <td>...</td>\n",
       "      <td>...</td>\n",
       "      <td>...</td>\n",
       "      <td>...</td>\n",
       "      <td>...</td>\n",
       "      <td>...</td>\n",
       "    </tr>\n",
       "    <tr>\n",
       "      <th>19982</th>\n",
       "      <td>Z53954</td>\n",
       "      <td>L</td>\n",
       "      <td>25.65</td>\n",
       "      <td>NaN</td>\n",
       "      <td>1353.0</td>\n",
       "      <td>47.0</td>\n",
       "      <td>190</td>\n",
       "      <td>0</td>\n",
       "    </tr>\n",
       "    <tr>\n",
       "      <th>19987</th>\n",
       "      <td>S13645</td>\n",
       "      <td>M</td>\n",
       "      <td>25.75</td>\n",
       "      <td>35.55</td>\n",
       "      <td>NaN</td>\n",
       "      <td>42.3</td>\n",
       "      <td>207</td>\n",
       "      <td>0</td>\n",
       "    </tr>\n",
       "    <tr>\n",
       "      <th>19992</th>\n",
       "      <td>T72209</td>\n",
       "      <td>M</td>\n",
       "      <td>25.85</td>\n",
       "      <td>35.35</td>\n",
       "      <td>NaN</td>\n",
       "      <td>26.1</td>\n",
       "      <td>5</td>\n",
       "      <td>0</td>\n",
       "    </tr>\n",
       "    <tr>\n",
       "      <th>19996</th>\n",
       "      <td>T87335</td>\n",
       "      <td>M</td>\n",
       "      <td>25.75</td>\n",
       "      <td>35.35</td>\n",
       "      <td>NaN</td>\n",
       "      <td>29.5</td>\n",
       "      <td>14</td>\n",
       "      <td>0</td>\n",
       "    </tr>\n",
       "    <tr>\n",
       "      <th>19998</th>\n",
       "      <td>T83921</td>\n",
       "      <td>M</td>\n",
       "      <td>25.95</td>\n",
       "      <td>NaN</td>\n",
       "      <td>NaN</td>\n",
       "      <td>33.4</td>\n",
       "      <td>22</td>\n",
       "      <td>0</td>\n",
       "    </tr>\n",
       "  </tbody>\n",
       "</table>\n",
       "<p>2471 rows × 8 columns</p>\n",
       "</div>"
      ],
      "text/plain": [
       "          Product ID Quality  Ambient T (C)  Process T (C)  \\\n",
       "Unique ID                                                    \n",
       "7             K40563       L          24.95            NaN   \n",
       "11            K30974     NaN          25.25          35.75   \n",
       "15            T39889     NaN          25.45          36.05   \n",
       "20            T81915       M          25.75            NaN   \n",
       "21            S64787       H          25.75          36.15   \n",
       "...              ...     ...            ...            ...   \n",
       "19982         Z53954       L          25.65            NaN   \n",
       "19987         S13645       M          25.75          35.55   \n",
       "19992         T72209       M          25.85          35.35   \n",
       "19996         T87335       M          25.75          35.35   \n",
       "19998         T83921       M          25.95            NaN   \n",
       "\n",
       "           Rotation Speed (rpm)  Torque (Nm)  Tool Wear (min)  Machine Status  \n",
       "Unique ID                                                                      \n",
       "7                           NaN         42.4               14               0  \n",
       "11                       1782.0         23.9               24               0  \n",
       "15                       2035.0         19.6               40               0  \n",
       "20                       1632.0         32.5               55               0  \n",
       "21                          NaN         42.7               58               0  \n",
       "...                         ...          ...              ...             ...  \n",
       "19982                    1353.0         47.0              190               0  \n",
       "19987                       NaN         42.3              207               0  \n",
       "19992                       NaN         26.1                5               0  \n",
       "19996                       NaN         29.5               14               0  \n",
       "19998                       NaN         33.4               22               0  \n",
       "\n",
       "[2471 rows x 8 columns]"
      ]
     },
     "execution_count": 7,
     "metadata": {},
     "output_type": "execute_result"
    }
   ],
   "source": [
    "machineDf[machineDf.isnull().any(axis=1)]"
   ]
  },
  {
   "cell_type": "code",
   "execution_count": 8,
   "metadata": {
    "pycharm": {
     "name": "#%%\n"
    }
   },
   "outputs": [
    {
     "data": {
      "text/plain": [
       "<AxesSubplot:title={'center':'Number of missing value in features'}>"
      ]
     },
     "execution_count": 8,
     "metadata": {},
     "output_type": "execute_result"
    },
    {
     "name": "stderr",
     "output_type": "stream",
     "text": [
      "findfont: Font family ['sans-serif'] not found. Falling back to DejaVu Sans.\n",
      "findfont: Generic family 'sans-serif' not found because none of the following families were found: Arial, Liberation Sans, Bitstream Vera Sans, sans-serif\n",
      "findfont: Font family ['sans-serif'] not found. Falling back to DejaVu Sans.\n",
      "findfont: Generic family 'sans-serif' not found because none of the following families were found: Arial, Liberation Sans, Bitstream Vera Sans, sans-serif\n"
     ]
    },
    {
     "data": {
      "image/png": "[encoded data removed]",
      "text/plain": [
       "<Figure size 432x288 with 1 Axes>"
      ]
     },
     "metadata": {
      "needs_background": "light"
     },
     "output_type": "display_data"
    }
   ],
   "source": [
    "machineDf.isna().sum().sort_values().plot.barh(title='Number of missing value in features')"
   ]
  },
  {
   "cell_type": "code",
   "execution_count": 9,
   "metadata": {
    "pycharm": {
     "name": "#%%\n"
    }
   },
   "outputs": [
    {
     "name": "stderr",
     "output_type": "stream",
     "text": [
      "findfont: Font family ['sans-serif'] not found. Falling back to DejaVu Sans.\n",
      "findfont: Generic family 'sans-serif' not found because none of the following families were found: Arial, Liberation Sans, Bitstream Vera Sans, sans-serif\n"
     ]
    },
    {
     "data": {
      "image/png": "[encoded data removed]",
      "text/plain": [
       "<Figure size 432x288 with 1 Axes>"
      ]
     },
     "metadata": {
      "needs_background": "light"
     },
     "output_type": "display_data"
    }
   ],
   "source": [
    "import seaborn as sns\n",
    "sns.heatmap(machineDf.isnull(), cbar=False)\n",
    "plt.show()"
   ]
  },
  {
   "cell_type": "code",
   "execution_count": 10,
   "metadata": {
    "pycharm": {
     "name": "#%%\n"
    }
   },
   "outputs": [
    {
     "data": {
      "text/plain": [
       "<AxesSubplot:>"
      ]
     },
     "execution_count": 10,
     "metadata": {},
     "output_type": "execute_result"
    },
    {
     "name": "stderr",
     "output_type": "stream",
     "text": [
      "findfont: Font family ['sans-serif'] not found. Falling back to DejaVu Sans.\n",
      "findfont: Generic family 'sans-serif' not found because none of the following families were found: Arial, Liberation Sans, Bitstream Vera Sans, sans-serif\n",
      "findfont: Font family ['sans-serif'] not found. Falling back to DejaVu Sans.\n",
      "findfont: Generic family 'sans-serif' not found because none of the following families were found: Arial, Liberation Sans, Bitstream Vera Sans, sans-serif\n",
      "findfont: Font family ['sans-serif'] not found. Falling back to DejaVu Sans.\n",
      "findfont: Generic family 'sans-serif' not found because none of the following families were found: Arial, Liberation Sans, Bitstream Vera Sans, sans-serif\n"
     ]
    },
    {
     "data": {
      "image/png": "[encoded data removed]",
      "text/plain": [
       "<Figure size 1800x720 with 2 Axes>"
      ]
     },
     "metadata": {
      "needs_background": "light"
     },
     "output_type": "display_data"
    }
   ],
   "source": [
    "import missingno as msno\n",
    "msno.matrix(machineDf)"
   ]
  },
  {
   "cell_type": "code",
   "execution_count": 11,
   "metadata": {
    "pycharm": {
     "name": "#%%\n"
    }
   },
   "outputs": [
    {
     "data": {
      "text/plain": [
       "<AxesSubplot:>"
      ]
     },
     "execution_count": 11,
     "metadata": {},
     "output_type": "execute_result"
    },
    {
     "data": {
      "image/png": "[encoded data removed]",
      "text/plain": [
       "<Figure size 1440x864 with 2 Axes>"
      ]
     },
     "metadata": {
      "needs_background": "light"
     },
     "output_type": "display_data"
    }
   ],
   "source": [
    "msno.heatmap(machineDf)"
   ]
  },
  {
   "cell_type": "markdown",
   "metadata": {
    "pycharm": {
     "name": "#%% md\n"
    }
   },
   "source": [
    "### Target Label"
   ]
  },
  {
   "cell_type": "code",
   "execution_count": 12,
   "metadata": {
    "pycharm": {
     "name": "#%%\n"
    }
   },
   "outputs": [
    {
     "data": {
      "text/plain": [
       "Text(0.5, 1.0, 'Distribution of target label')"
      ]
     },
     "execution_count": 12,
     "metadata": {},
     "output_type": "execute_result"
    },
    {
     "data": {
      "image/png": "[encoded data removed]",
      "text/plain": [
       "<Figure size 432x288 with 1 Axes>"
      ]
     },
     "metadata": {
      "needs_background": "light"
     },
     "output_type": "display_data"
    }
   ],
   "source": [
    "sns.countplot(data=machineDf,x='Machine Status').set_title(\"Distribution of target label\")"
   ]
  },
  {
   "cell_type": "markdown",
   "metadata": {
    "pycharm": {
     "name": "#%% md\n"
    }
   },
   "source": [
    "### Qualitative Features"
   ]
  },
  {
   "cell_type": "code",
   "execution_count": 13,
   "metadata": {
    "pycharm": {
     "name": "#%%\n"
    }
   },
   "outputs": [],
   "source": [
    "qualitativeVariable=['Product ID', 'Quality']"
   ]
  },
  {
   "cell_type": "markdown",
   "metadata": {
    "pycharm": {
     "name": "#%% md\n"
    }
   },
   "source": [
    "### Qualitative Features"
   ]
  },
  {
   "cell_type": "code",
   "execution_count": 14,
   "metadata": {
    "pycharm": {
     "name": "#%%\n"
    }
   },
   "outputs": [],
   "source": [
    "quantitativeVariable=['Ambient T (C)', 'Process T (C)',\n",
    "       'Rotation Speed (rpm)', 'Torque (Nm)', 'Tool Wear (min)']"
   ]
  },
  {
   "cell_type": "markdown",
   "metadata": {
    "pycharm": {
     "name": "#%% md\n"
    }
   },
   "source": [
    "### Univariate Analysis"
   ]
  },
  {
   "cell_type": "code",
   "execution_count": 15,
   "metadata": {
    "pycharm": {
     "name": "#%%\n"
    }
   },
   "outputs": [
    {
     "data": {
      "text/html": [
       "<div>\n",
       "<style scoped>\n",
       "    .dataframe tbody tr th:only-of-type {\n",
       "        vertical-align: middle;\n",
       "    }\n",
       "\n",
       "    .dataframe tbody tr th {\n",
       "        vertical-align: top;\n",
       "    }\n",
       "\n",
       "    .dataframe thead th {\n",
       "        text-align: right;\n",
       "    }\n",
       "</style>\n",
       "<table border=\"1\" class=\"dataframe\">\n",
       "  <thead>\n",
       "    <tr style=\"text-align: right;\">\n",
       "      <th></th>\n",
       "      <th>Ambient T (C)</th>\n",
       "      <th>Process T (C)</th>\n",
       "      <th>Rotation Speed (rpm)</th>\n",
       "      <th>Torque (Nm)</th>\n",
       "      <th>Tool Wear (min)</th>\n",
       "    </tr>\n",
       "  </thead>\n",
       "  <tbody>\n",
       "    <tr>\n",
       "      <th>count</th>\n",
       "      <td>20000.000000</td>\n",
       "      <td>19600.000000</td>\n",
       "      <td>18812.000000</td>\n",
       "      <td>20000.000000</td>\n",
       "      <td>20000.000000</td>\n",
       "    </tr>\n",
       "    <tr>\n",
       "      <th>mean</th>\n",
       "      <td>26.904930</td>\n",
       "      <td>36.904291</td>\n",
       "      <td>1538.795397</td>\n",
       "      <td>39.986910</td>\n",
       "      <td>107.951000</td>\n",
       "    </tr>\n",
       "    <tr>\n",
       "      <th>std</th>\n",
       "      <td>2.000834</td>\n",
       "      <td>1.483647</td>\n",
       "      <td>178.674963</td>\n",
       "      <td>9.968684</td>\n",
       "      <td>63.652555</td>\n",
       "    </tr>\n",
       "    <tr>\n",
       "      <th>min</th>\n",
       "      <td>22.150000</td>\n",
       "      <td>32.550000</td>\n",
       "      <td>1168.000000</td>\n",
       "      <td>3.800000</td>\n",
       "      <td>0.000000</td>\n",
       "    </tr>\n",
       "    <tr>\n",
       "      <th>25%</th>\n",
       "      <td>25.250000</td>\n",
       "      <td>35.750000</td>\n",
       "      <td>1423.000000</td>\n",
       "      <td>33.200000</td>\n",
       "      <td>53.000000</td>\n",
       "    </tr>\n",
       "    <tr>\n",
       "      <th>50%</th>\n",
       "      <td>26.950000</td>\n",
       "      <td>36.950000</td>\n",
       "      <td>1503.000000</td>\n",
       "      <td>40.100000</td>\n",
       "      <td>108.000000</td>\n",
       "    </tr>\n",
       "    <tr>\n",
       "      <th>75%</th>\n",
       "      <td>28.450000</td>\n",
       "      <td>37.950000</td>\n",
       "      <td>1613.000000</td>\n",
       "      <td>46.800000</td>\n",
       "      <td>162.000000</td>\n",
       "    </tr>\n",
       "    <tr>\n",
       "      <th>max</th>\n",
       "      <td>31.450000</td>\n",
       "      <td>40.750000</td>\n",
       "      <td>2886.000000</td>\n",
       "      <td>76.600000</td>\n",
       "      <td>253.000000</td>\n",
       "    </tr>\n",
       "  </tbody>\n",
       "</table>\n",
       "</div>"
      ],
      "text/plain": [
       "       Ambient T (C)  Process T (C)  Rotation Speed (rpm)   Torque (Nm)  \\\n",
       "count   20000.000000   19600.000000          18812.000000  20000.000000   \n",
       "mean       26.904930      36.904291           1538.795397     39.986910   \n",
       "std         2.000834       1.483647            178.674963      9.968684   \n",
       "min        22.150000      32.550000           1168.000000      3.800000   \n",
       "25%        25.250000      35.750000           1423.000000     33.200000   \n",
       "50%        26.950000      36.950000           1503.000000     40.100000   \n",
       "75%        28.450000      37.950000           1613.000000     46.800000   \n",
       "max        31.450000      40.750000           2886.000000     76.600000   \n",
       "\n",
       "       Tool Wear (min)  \n",
       "count     20000.000000  \n",
       "mean        107.951000  \n",
       "std          63.652555  \n",
       "min           0.000000  \n",
       "25%          53.000000  \n",
       "50%         108.000000  \n",
       "75%         162.000000  \n",
       "max         253.000000  "
      ]
     },
     "execution_count": 15,
     "metadata": {},
     "output_type": "execute_result"
    }
   ],
   "source": [
    "machineDf[quantitativeVariable].describe()"
   ]
  },
  {
   "cell_type": "code",
   "execution_count": 16,
   "metadata": {
    "pycharm": {
     "name": "#%%\n"
    }
   },
   "outputs": [
    {
     "data": {
      "text/html": [
       "<div>\n",
       "<style scoped>\n",
       "    .dataframe tbody tr th:only-of-type {\n",
       "        vertical-align: middle;\n",
       "    }\n",
       "\n",
       "    .dataframe tbody tr th {\n",
       "        vertical-align: top;\n",
       "    }\n",
       "\n",
       "    .dataframe thead th {\n",
       "        text-align: right;\n",
       "    }\n",
       "</style>\n",
       "<table border=\"1\" class=\"dataframe\">\n",
       "  <thead>\n",
       "    <tr style=\"text-align: right;\">\n",
       "      <th></th>\n",
       "      <th>count</th>\n",
       "      <th>unique</th>\n",
       "      <th>top</th>\n",
       "      <th>freq</th>\n",
       "      <th>Proportion of Most Frequent Value</th>\n",
       "    </tr>\n",
       "  </thead>\n",
       "  <tbody>\n",
       "    <tr>\n",
       "      <th>Machine Status</th>\n",
       "      <td>20000</td>\n",
       "      <td>2</td>\n",
       "      <td>0</td>\n",
       "      <td>19322</td>\n",
       "      <td>96.61</td>\n",
       "    </tr>\n",
       "    <tr>\n",
       "      <th>Quality</th>\n",
       "      <td>19009</td>\n",
       "      <td>3</td>\n",
       "      <td>L</td>\n",
       "      <td>11390</td>\n",
       "      <td>56.95</td>\n",
       "    </tr>\n",
       "    <tr>\n",
       "      <th>Process T (C)</th>\n",
       "      <td>19600.0</td>\n",
       "      <td>83.0</td>\n",
       "      <td>37.45</td>\n",
       "      <td>575.0</td>\n",
       "      <td>2.875</td>\n",
       "    </tr>\n",
       "    <tr>\n",
       "      <th>Ambient T (C)</th>\n",
       "      <td>20000.0</td>\n",
       "      <td>94.0</td>\n",
       "      <td>27.55</td>\n",
       "      <td>495.0</td>\n",
       "      <td>2.475</td>\n",
       "    </tr>\n",
       "    <tr>\n",
       "      <th>Tool Wear (min)</th>\n",
       "      <td>20000</td>\n",
       "      <td>246</td>\n",
       "      <td>0</td>\n",
       "      <td>240</td>\n",
       "      <td>1.2</td>\n",
       "    </tr>\n",
       "    <tr>\n",
       "      <th>Torque (Nm)</th>\n",
       "      <td>20000.0</td>\n",
       "      <td>577.0</td>\n",
       "      <td>40.2</td>\n",
       "      <td>104.0</td>\n",
       "      <td>0.52</td>\n",
       "    </tr>\n",
       "    <tr>\n",
       "      <th>Rotation Speed (rpm)</th>\n",
       "      <td>18812.0</td>\n",
       "      <td>941.0</td>\n",
       "      <td>1452.0</td>\n",
       "      <td>93.0</td>\n",
       "      <td>0.465</td>\n",
       "    </tr>\n",
       "    <tr>\n",
       "      <th>Product ID</th>\n",
       "      <td>20000</td>\n",
       "      <td>19408</td>\n",
       "      <td>K34631</td>\n",
       "      <td>3</td>\n",
       "      <td>0.015</td>\n",
       "    </tr>\n",
       "  </tbody>\n",
       "</table>\n",
       "</div>"
      ],
      "text/plain": [
       "                        count unique     top   freq  \\\n",
       "Machine Status          20000      2       0  19322   \n",
       "Quality                 19009      3       L  11390   \n",
       "Process T (C)         19600.0   83.0   37.45  575.0   \n",
       "Ambient T (C)         20000.0   94.0   27.55  495.0   \n",
       "Tool Wear (min)         20000    246       0    240   \n",
       "Torque (Nm)           20000.0  577.0    40.2  104.0   \n",
       "Rotation Speed (rpm)  18812.0  941.0  1452.0   93.0   \n",
       "Product ID              20000  19408  K34631      3   \n",
       "\n",
       "                     Proportion of Most Frequent Value  \n",
       "Machine Status                                   96.61  \n",
       "Quality                                          56.95  \n",
       "Process T (C)                                    2.875  \n",
       "Ambient T (C)                                    2.475  \n",
       "Tool Wear (min)                                    1.2  \n",
       "Torque (Nm)                                       0.52  \n",
       "Rotation Speed (rpm)                             0.465  \n",
       "Product ID                                       0.015  "
      ]
     },
     "execution_count": 16,
     "metadata": {},
     "output_type": "execute_result"
    }
   ],
   "source": [
    "descriptive_stats = machineDf.astype('category').describe().T\n",
    "descriptive_stats[\"Proportion of Most Frequent Value\"] = descriptive_stats[\"freq\"] / len(machineDf.astype('category')) * 100\n",
    "descriptive_stats.sort_values(\"Proportion of Most Frequent Value\", ascending=False)"
   ]
  },
  {
   "cell_type": "code",
   "execution_count": 17,
   "metadata": {
    "pycharm": {
     "name": "#%%\n"
    }
   },
   "outputs": [
    {
     "data": {
      "text/plain": [
       "<AxesSubplot:xlabel='Quality', ylabel='count'>"
      ]
     },
     "execution_count": 17,
     "metadata": {},
     "output_type": "execute_result"
    },
    {
     "data": {
      "image/png": "[encoded data removed]",
      "text/plain": [
       "<Figure size 432x288 with 1 Axes>"
      ]
     },
     "metadata": {
      "needs_background": "light"
     },
     "output_type": "display_data"
    }
   ],
   "source": [
    "sns.countplot(x='Quality',data=machineDf,)"
   ]
  },
  {
   "cell_type": "code",
   "execution_count": 18,
   "metadata": {
    "pycharm": {
     "name": "#%%\n"
    }
   },
   "outputs": [
    {
     "data": {
      "text/plain": [
       "array([[<AxesSubplot:title={'center':'Ambient T (C)'}>,\n",
       "        <AxesSubplot:title={'center':'Process T (C)'}>],\n",
       "       [<AxesSubplot:title={'center':'Rotation Speed (rpm)'}>,\n",
       "        <AxesSubplot:title={'center':'Torque (Nm)'}>],\n",
       "       [<AxesSubplot:title={'center':'Tool Wear (min)'}>, <AxesSubplot:>]],\n",
       "      dtype=object)"
      ]
     },
     "execution_count": 18,
     "metadata": {},
     "output_type": "execute_result"
    },
    {
     "data": {
      "image/png": "[encoded data removed]",
      "text/plain": [
       "<Figure size 720x576 with 6 Axes>"
      ]
     },
     "metadata": {
      "needs_background": "light"
     },
     "output_type": "display_data"
    }
   ],
   "source": [
    "machineDf[quantitativeVariable].hist(figsize=(10,8))"
   ]
  },
  {
   "cell_type": "code",
   "execution_count": 19,
   "metadata": {
    "pycharm": {
     "name": "#%%\n"
    }
   },
   "outputs": [
    {
     "data": {
      "image/png": "[encoded data removed]",
      "text/plain": [
       "<Figure size 576x1080 with 5 Axes>"
      ]
     },
     "metadata": {
      "needs_background": "light"
     },
     "output_type": "display_data"
    }
   ],
   "source": [
    "fig, ax = plt.subplots(len(quantitativeVariable), 1, figsize=(8, 15), tight_layout=True)\n",
    "for idx, feature in enumerate(quantitativeVariable):\n",
    "    sns.boxplot(data=machineDf, x=feature, ax = ax[idx])\n",
    "fig.show()"
   ]
  },
  {
   "cell_type": "code",
   "execution_count": 20,
   "metadata": {
    "pycharm": {
     "name": "#%%\n"
    }
   },
   "outputs": [
    {
     "data": {
      "text/html": [
       "<div>\n",
       "<style scoped>\n",
       "    .dataframe tbody tr th:only-of-type {\n",
       "        vertical-align: middle;\n",
       "    }\n",
       "\n",
       "    .dataframe tbody tr th {\n",
       "        vertical-align: top;\n",
       "    }\n",
       "\n",
       "    .dataframe thead th {\n",
       "        text-align: right;\n",
       "    }\n",
       "</style>\n",
       "<table border=\"1\" class=\"dataframe\">\n",
       "  <thead>\n",
       "    <tr style=\"text-align: right;\">\n",
       "      <th></th>\n",
       "      <th>Ambient T (C)</th>\n",
       "      <th>Process T (C)</th>\n",
       "      <th>Rotation Speed (rpm)</th>\n",
       "      <th>Torque (Nm)</th>\n",
       "      <th>Tool Wear (min)</th>\n",
       "      <th>Machine Status</th>\n",
       "    </tr>\n",
       "  </thead>\n",
       "  <tbody>\n",
       "    <tr>\n",
       "      <th>count</th>\n",
       "      <td>771.000000</td>\n",
       "      <td>757.000000</td>\n",
       "      <td>771.000000</td>\n",
       "      <td>771.000000</td>\n",
       "      <td>771.000000</td>\n",
       "      <td>771.000000</td>\n",
       "    </tr>\n",
       "    <tr>\n",
       "      <th>mean</th>\n",
       "      <td>27.163230</td>\n",
       "      <td>37.031242</td>\n",
       "      <td>2103.333333</td>\n",
       "      <td>18.846174</td>\n",
       "      <td>107.712062</td>\n",
       "      <td>0.084306</td>\n",
       "    </tr>\n",
       "    <tr>\n",
       "      <th>std</th>\n",
       "      <td>2.062808</td>\n",
       "      <td>1.507887</td>\n",
       "      <td>216.956317</td>\n",
       "      <td>3.588364</td>\n",
       "      <td>65.390417</td>\n",
       "      <td>0.278027</td>\n",
       "    </tr>\n",
       "    <tr>\n",
       "      <th>min</th>\n",
       "      <td>22.450000</td>\n",
       "      <td>32.850000</td>\n",
       "      <td>1899.000000</td>\n",
       "      <td>3.800000</td>\n",
       "      <td>0.000000</td>\n",
       "      <td>0.000000</td>\n",
       "    </tr>\n",
       "    <tr>\n",
       "      <th>25%</th>\n",
       "      <td>25.350000</td>\n",
       "      <td>35.950000</td>\n",
       "      <td>1950.500000</td>\n",
       "      <td>16.800000</td>\n",
       "      <td>45.000000</td>\n",
       "      <td>0.000000</td>\n",
       "    </tr>\n",
       "    <tr>\n",
       "      <th>50%</th>\n",
       "      <td>27.450000</td>\n",
       "      <td>37.250000</td>\n",
       "      <td>2016.000000</td>\n",
       "      <td>19.700000</td>\n",
       "      <td>110.000000</td>\n",
       "      <td>0.000000</td>\n",
       "    </tr>\n",
       "    <tr>\n",
       "      <th>75%</th>\n",
       "      <td>28.750000</td>\n",
       "      <td>38.050000</td>\n",
       "      <td>2182.000000</td>\n",
       "      <td>21.500000</td>\n",
       "      <td>165.000000</td>\n",
       "      <td>0.000000</td>\n",
       "    </tr>\n",
       "    <tr>\n",
       "      <th>max</th>\n",
       "      <td>31.250000</td>\n",
       "      <td>40.650000</td>\n",
       "      <td>2886.000000</td>\n",
       "      <td>25.000000</td>\n",
       "      <td>244.000000</td>\n",
       "      <td>1.000000</td>\n",
       "    </tr>\n",
       "  </tbody>\n",
       "</table>\n",
       "</div>"
      ],
      "text/plain": [
       "       Ambient T (C)  Process T (C)  Rotation Speed (rpm)  Torque (Nm)  \\\n",
       "count     771.000000     757.000000            771.000000   771.000000   \n",
       "mean       27.163230      37.031242           2103.333333    18.846174   \n",
       "std         2.062808       1.507887            216.956317     3.588364   \n",
       "min        22.450000      32.850000           1899.000000     3.800000   \n",
       "25%        25.350000      35.950000           1950.500000    16.800000   \n",
       "50%        27.450000      37.250000           2016.000000    19.700000   \n",
       "75%        28.750000      38.050000           2182.000000    21.500000   \n",
       "max        31.250000      40.650000           2886.000000    25.000000   \n",
       "\n",
       "       Tool Wear (min)  Machine Status  \n",
       "count       771.000000      771.000000  \n",
       "mean        107.712062        0.084306  \n",
       "std          65.390417        0.278027  \n",
       "min           0.000000        0.000000  \n",
       "25%          45.000000        0.000000  \n",
       "50%         110.000000        0.000000  \n",
       "75%         165.000000        0.000000  \n",
       "max         244.000000        1.000000  "
      ]
     },
     "execution_count": 20,
     "metadata": {},
     "output_type": "execute_result"
    }
   ],
   "source": [
    "Q1 = machineDf['Rotation Speed (rpm)'].quantile(0.25)\n",
    "Q3 = machineDf['Rotation Speed (rpm)'].quantile(0.75)\n",
    "IQR = Q3 - Q1\n",
    "machineDf[machineDf['Rotation Speed (rpm)'] >Q3 + 1.5 * IQR].describe()"
   ]
  },
  {
   "cell_type": "code",
   "execution_count": 21,
   "metadata": {
    "pycharm": {
     "name": "#%%\n"
    }
   },
   "outputs": [
    {
     "data": {
      "text/plain": [
       "Text(0.5, 1.0, 'Relationship between Torque and Rotation Speed')"
      ]
     },
     "execution_count": 21,
     "metadata": {},
     "output_type": "execute_result"
    },
    {
     "data": {
      "image/png": "[encoded data removed]",
      "text/plain": [
       "<Figure size 432x288 with 1 Axes>"
      ]
     },
     "metadata": {
      "needs_background": "light"
     },
     "output_type": "display_data"
    }
   ],
   "source": [
    "sns.scatterplot(x='Rotation Speed (rpm)',y='Torque (Nm)',data=machineDf).set_title('Relationship between Torque and Rotation Speed')"
   ]
  },
  {
   "cell_type": "markdown",
   "metadata": {
    "pycharm": {
     "name": "#%% md\n"
    }
   },
   "source": [
    "### Bivariate Analysis"
   ]
  },
  {
   "cell_type": "code",
   "execution_count": 22,
   "metadata": {
    "pycharm": {
     "name": "#%%\n"
    }
   },
   "outputs": [],
   "source": [
    "# fig, ax = plt.subplots(len(quantitativeVariable), 1, figsize=(8, 15), tight_layout=True)\n",
    "# for idx, feature in enumerate(quantitativeVariable):\n",
    "\n",
    "#     sns.histplot(data=machineDf,common_norm = False,stat='density', x=feature, hue=\"Machine Status\",ax=ax[idx],kde=True)\n",
    "# fig.show()"
   ]
  },
  {
   "cell_type": "code",
   "execution_count": 23,
   "metadata": {
    "pycharm": {
     "name": "#%%\n"
    }
   },
   "outputs": [],
   "source": [
    "\n",
    "# sns.histplot(data=machineDf,common_norm = False,stat='density', x='Quality', hue=\"Machine Status\")\n"
   ]
  },
  {
   "cell_type": "code",
   "execution_count": 24,
   "metadata": {
    "pycharm": {
     "name": "#%%\n"
    }
   },
   "outputs": [
    {
     "data": {
      "text/plain": [
       "<AxesSubplot:xlabel='Quality', ylabel='count'>"
      ]
     },
     "execution_count": 24,
     "metadata": {},
     "output_type": "execute_result"
    },
    {
     "data": {
      "image/png": "[encoded data removed]",
      "text/plain": [
       "<Figure size 432x288 with 1 Axes>"
      ]
     },
     "metadata": {
      "needs_background": "light"
     },
     "output_type": "display_data"
    }
   ],
   "source": [
    "sns.countplot(data=machineDf[machineDf['Machine Status']>0],x='Quality')"
   ]
  },
  {
   "cell_type": "code",
   "execution_count": 25,
   "metadata": {
    "pycharm": {
     "name": "#%%\n"
    }
   },
   "outputs": [],
   "source": [
    "# sns.pairplot(machineDf, hue=\"Machine Status\")"
   ]
  },
  {
   "cell_type": "code",
   "execution_count": 26,
   "metadata": {
    "pycharm": {
     "name": "#%%\n"
    }
   },
   "outputs": [
    {
     "name": "stdout",
     "output_type": "stream",
     "text": [
      "interval columns not set, guessing: ['Ambient T (C)', 'Process T (C)', 'Rotation Speed (rpm)', 'Torque (Nm)', 'Tool Wear (min)', 'Machine Status']\n"
     ]
    },
    {
     "name": "stderr",
     "output_type": "stream",
     "text": [
      "/home/chzuofa/.local/lib/python3.8/site-packages/phik/data_quality.py:59: UserWarning: The number of unique values of variable Product ID is large: 19408. Are you sure this is not an interval variable? Analysis for pairs of variables including Product ID can be slow.\n",
      "  warnings.warn(\n"
     ]
    },
    {
     "data": {
      "text/plain": [
       "Text(0.5, 1.0, 'Correlation Matrix')"
      ]
     },
     "execution_count": 26,
     "metadata": {},
     "output_type": "execute_result"
    },
    {
     "data": {
      "image/png": "[encoded data removed]",
      "text/plain": [
       "<Figure size 432x288 with 2 Axes>"
      ]
     },
     "metadata": {
      "needs_background": "light"
     },
     "output_type": "display_data"
    }
   ],
   "source": [
    "corr_matrix = machineDf.phik_matrix()\n",
    "\n",
    "sns.heatmap(corr_matrix, annot = True, linewidths=.5,center = 0).set_title('Correlation Matrix')"
   ]
  },
  {
   "cell_type": "code",
   "execution_count": 27,
   "metadata": {
    "pycharm": {
     "name": "#%%\n"
    }
   },
   "outputs": [],
   "source": [
    "machineDf=machineDf.drop(['Product ID','Rotation Speed (rpm)'],axis=1)"
   ]
  },
  {
   "cell_type": "markdown",
   "metadata": {
    "pycharm": {
     "name": "#%% md\n"
    }
   },
   "source": [
    "## Data-Processing"
   ]
  },
  {
   "cell_type": "markdown",
   "metadata": {
    "pycharm": {
     "name": "#%% md\n"
    }
   },
   "source": []
  },
  {
   "cell_type": "markdown",
   "metadata": {
    "pycharm": {
     "name": "#%% md\n"
    }
   },
   "source": [
    "### Missing data imputation"
   ]
  },
  {
   "cell_type": "markdown",
   "metadata": {
    "pycharm": {
     "name": "#%% md\n"
    }
   },
   "source": [
    "## Training and testing data"
   ]
  },
  {
   "cell_type": "code",
   "execution_count": 28,
   "metadata": {
    "pycharm": {
     "name": "#%%\n"
    }
   },
   "outputs": [
    {
     "data": {
      "text/html": [
       "<div>\n",
       "<style scoped>\n",
       "    .dataframe tbody tr th:only-of-type {\n",
       "        vertical-align: middle;\n",
       "    }\n",
       "\n",
       "    .dataframe tbody tr th {\n",
       "        vertical-align: top;\n",
       "    }\n",
       "\n",
       "    .dataframe thead th {\n",
       "        text-align: right;\n",
       "    }\n",
       "</style>\n",
       "<table border=\"1\" class=\"dataframe\">\n",
       "  <thead>\n",
       "    <tr style=\"text-align: right;\">\n",
       "      <th></th>\n",
       "      <th>Quality</th>\n",
       "      <th>Ambient T (C)</th>\n",
       "      <th>Process T (C)</th>\n",
       "      <th>Torque (Nm)</th>\n",
       "      <th>Tool Wear (min)</th>\n",
       "    </tr>\n",
       "    <tr>\n",
       "      <th>Unique ID</th>\n",
       "      <th></th>\n",
       "      <th></th>\n",
       "      <th></th>\n",
       "      <th></th>\n",
       "      <th></th>\n",
       "    </tr>\n",
       "  </thead>\n",
       "  <tbody>\n",
       "    <tr>\n",
       "      <th>12792</th>\n",
       "      <td>H</td>\n",
       "      <td>27.35</td>\n",
       "      <td>36.55</td>\n",
       "      <td>43.3</td>\n",
       "      <td>66</td>\n",
       "    </tr>\n",
       "    <tr>\n",
       "      <th>6583</th>\n",
       "      <td>L</td>\n",
       "      <td>28.35</td>\n",
       "      <td>37.35</td>\n",
       "      <td>35.7</td>\n",
       "      <td>198</td>\n",
       "    </tr>\n",
       "    <tr>\n",
       "      <th>16874</th>\n",
       "      <td>L</td>\n",
       "      <td>27.95</td>\n",
       "      <td>38.35</td>\n",
       "      <td>39.5</td>\n",
       "      <td>75</td>\n",
       "    </tr>\n",
       "    <tr>\n",
       "      <th>11392</th>\n",
       "      <td>L</td>\n",
       "      <td>25.85</td>\n",
       "      <td>37.15</td>\n",
       "      <td>8.8</td>\n",
       "      <td>142</td>\n",
       "    </tr>\n",
       "    <tr>\n",
       "      <th>4411</th>\n",
       "      <td>L</td>\n",
       "      <td>29.35</td>\n",
       "      <td>37.05</td>\n",
       "      <td>32.2</td>\n",
       "      <td>64</td>\n",
       "    </tr>\n",
       "    <tr>\n",
       "      <th>...</th>\n",
       "      <td>...</td>\n",
       "      <td>...</td>\n",
       "      <td>...</td>\n",
       "      <td>...</td>\n",
       "      <td>...</td>\n",
       "    </tr>\n",
       "    <tr>\n",
       "      <th>5303</th>\n",
       "      <td>L</td>\n",
       "      <td>30.75</td>\n",
       "      <td>39.95</td>\n",
       "      <td>37.2</td>\n",
       "      <td>195</td>\n",
       "    </tr>\n",
       "    <tr>\n",
       "      <th>15452</th>\n",
       "      <td>L</td>\n",
       "      <td>29.95</td>\n",
       "      <td>39.65</td>\n",
       "      <td>48.8</td>\n",
       "      <td>120</td>\n",
       "    </tr>\n",
       "    <tr>\n",
       "      <th>18260</th>\n",
       "      <td>L</td>\n",
       "      <td>26.05</td>\n",
       "      <td>37.45</td>\n",
       "      <td>38.4</td>\n",
       "      <td>146</td>\n",
       "    </tr>\n",
       "    <tr>\n",
       "      <th>8028</th>\n",
       "      <td>L</td>\n",
       "      <td>27.45</td>\n",
       "      <td>38.75</td>\n",
       "      <td>44.9</td>\n",
       "      <td>224</td>\n",
       "    </tr>\n",
       "    <tr>\n",
       "      <th>10500</th>\n",
       "      <td>L</td>\n",
       "      <td>24.45</td>\n",
       "      <td>36.05</td>\n",
       "      <td>35.1</td>\n",
       "      <td>213</td>\n",
       "    </tr>\n",
       "  </tbody>\n",
       "</table>\n",
       "<p>16000 rows × 5 columns</p>\n",
       "</div>"
      ],
      "text/plain": [
       "          Quality  Ambient T (C)  Process T (C)  Torque (Nm)  Tool Wear (min)\n",
       "Unique ID                                                                    \n",
       "12792           H          27.35          36.55         43.3               66\n",
       "6583            L          28.35          37.35         35.7              198\n",
       "16874           L          27.95          38.35         39.5               75\n",
       "11392           L          25.85          37.15          8.8              142\n",
       "4411            L          29.35          37.05         32.2               64\n",
       "...           ...            ...            ...          ...              ...\n",
       "5303            L          30.75          39.95         37.2              195\n",
       "15452           L          29.95          39.65         48.8              120\n",
       "18260           L          26.05          37.45         38.4              146\n",
       "8028            L          27.45          38.75         44.9              224\n",
       "10500           L          24.45          36.05         35.1              213\n",
       "\n",
       "[16000 rows x 5 columns]"
      ]
     },
     "execution_count": 28,
     "metadata": {},
     "output_type": "execute_result"
    }
   ],
   "source": [
    "x_train, x_test, y_train, y_test = train_test_split(machineDf. loc[:, machineDf. columns != 'Machine Status'],machineDf['Machine Status'], random_state = 42, stratify=machineDf['Machine Status'], test_size = .20)\n",
    "x_train"
   ]
  },
  {
   "cell_type": "code",
   "execution_count": 29,
   "metadata": {
    "pycharm": {
     "name": "#%%\n"
    }
   },
   "outputs": [],
   "source": [
    "from imblearn.pipeline import make_pipeline\n",
    "from sklearn.preprocessing import StandardScaler\n",
    "from imblearn.over_sampling import SMOTENC, SMOTE"
   ]
  },
  {
   "cell_type": "markdown",
   "metadata": {
    "pycharm": {
     "name": "#%% md\n"
    }
   },
   "source": [
    "## Feature Scaling"
   ]
  },
  {
   "cell_type": "code",
   "execution_count": 30,
   "metadata": {
    "pycharm": {
     "name": "#%%\n"
    }
   },
   "outputs": [],
   "source": [
    "quantitativeVariable=['Ambient T (C)', 'Process T (C)', 'Torque (Nm)', 'Tool Wear (min)']\n",
    "\n",
    "\n",
    "quantitativeTransformer=Pipeline([\n",
    "     ('Normaliser',MinMaxScaler())\n",
    "])\n",
    "categorical_transformers = Pipeline([\n",
    "    ('One Hot Encoder', OneHotEncoder(handle_unknown='ignore'))\n",
    "])\n",
    "data_preprocessing = ColumnTransformer([\n",
    "    ('Preprocess Numerical Features', quantitativeTransformer, [0,1,2,3]),\n",
    "       ('Preprocess Categorical Features', categorical_transformers, [4])\n",
    "])"
   ]
  },
  {
   "cell_type": "code",
   "execution_count": 31,
   "metadata": {
    "pycharm": {
     "name": "#%%\n"
    }
   },
   "outputs": [],
   "source": [
    "from sklearn.base import BaseEstimator, TransformerMixin\n",
    "\n",
    "\n",
    "class ColumnSelector(BaseEstimator, TransformerMixin):\n",
    "\n",
    "    def __init__(self, dtype):\n",
    "        self.dtype = dtype\n",
    "\n",
    "    def fit(self, X, y=None):\n",
    "        \"\"\" Get either categorical or numerical columns on fit.\n",
    "        Store as attribute for future reference\"\"\"\n",
    "        X = X if isinstance(X, pd.DataFrame) else pd.DataFrame(X)\n",
    "        if self.dtype == 'numerical':\n",
    "            self.cols = X.select_dtypes(exclude='O').columns.tolist()\n",
    "        elif self.dtype == 'categorical':\n",
    "            self.cols = X.select_dtypes(include='O').columns.tolist()\n",
    "        self.col_idx = [machineDf.columns.get_loc(col) for col in self.cols]\n",
    "        return self\n",
    "\n",
    "    def transform(self, X):\n",
    "        \"\"\" Subset columns of chosen data type and return np.array\"\"\"\n",
    "        X = X.values if isinstance(X, pd.DataFrame) else X\n",
    "        return X[:, self.col_idx]"
   ]
  },
  {
   "cell_type": "code",
   "execution_count": 32,
   "metadata": {
    "pycharm": {
     "name": "#%%\n"
    }
   },
   "outputs": [],
   "source": [
    "from sklearn.pipeline import FeatureUnion\n",
    "from sklearn.preprocessing import LabelEncoder, OrdinalEncoder\n",
    "from sklearn.experimental import enable_iterative_imputer\n",
    "from sklearn.impute import IterativeImputer\n",
    "from sklearn.ensemble import RandomForestRegressor, RandomForestClassifier\n",
    "categorical = ['Quality']\n",
    "numerical = ['Ambient T (C)', 'Process T (C)', 'Torque (Nm)', 'Tool Wear (min)']\n",
    "\n",
    "\n",
    "\n",
    "num_imp=Pipeline([\n",
    " ('num_selector', ColumnSelector('numerical')),\n",
    " ('Imputation',IterativeImputer(estimator=RandomForestRegressor(n_jobs=-1),\n",
    "                           initial_strategy='mean',\n",
    "                           max_iter=3,skip_complete=True ,random_state=0)),\n",
    "])\n",
    "\n",
    "cat_imp=Pipeline([\n",
    "     ('cat_selector', ColumnSelector('categorical')),\n",
    "     ('One Hot Encoder1', OrdinalEncoder ()),\n",
    "     ('Imputation',IterativeImputer(estimator=RandomForestClassifier(n_jobs=-1),\n",
    "                           initial_strategy='most_frequent',\n",
    "                           max_iter=3,skip_complete=True,random_state=0)),\n",
    "])\n",
    "\n",
    "\n",
    "preproc = FeatureUnion([\n",
    "    ('num_pipe', num_imp),\n",
    "    ('cat_pipe', cat_imp)\n",
    "])"
   ]
  },
  {
   "cell_type": "markdown",
   "metadata": {
    "pycharm": {
     "name": "#%% md\n"
    }
   },
   "source": [
    "### Oversampling :SMOTE NC"
   ]
  },
  {
   "cell_type": "code",
   "execution_count": 33,
   "metadata": {
    "pycharm": {
     "name": "#%%\n"
    }
   },
   "outputs": [],
   "source": [
    "from imblearn.pipeline import Pipeline as imbpipeline\n",
    "colselect=[col in qualitativeVariable for col in machineDf. loc[:, machineDf. columns != 'Machine Status'].columns]\n",
    "\n",
    "colselect.reverse()\n"
   ]
  },
  {
   "cell_type": "code",
   "execution_count": 34,
   "metadata": {},
   "outputs": [],
   "source": [
    "class DfConverter():\n",
    "    def __init__(self):\n",
    "        super().__init__()\n",
    "\n",
    "    def fit_transform(self, X, y=None):\n",
    "        return self.transform(X=X, y=y)\n",
    "\n",
    "    def transform(self, X, y=None):\n",
    "        df = pd.DataFrame(X)     \n",
    "        return df\n",
    "\n",
    "    def fit(self, X, y=None):\n",
    "        return self\n"
   ]
  },
  {
   "cell_type": "code",
   "execution_count": 35,
   "metadata": {
    "pycharm": {
     "name": "#%%\n"
    }
   },
   "outputs": [],
   "source": [
    "class customSelector():\n",
    "    def __init__(self):\n",
    "        super().__init__()\n",
    "\n",
    "    def fit_transform(self, X, y=None):\n",
    "        return self.transform(X=X, y=y)\n",
    "\n",
    "    def transform(self, X, y=None):\n",
    "        return pd.DataFrame(X)[[0,1,2,3,4,5,6]]\n",
    "\n",
    "    def fit(self, X, y=None):\n",
    "        return self"
   ]
  },
  {
   "cell_type": "markdown",
   "metadata": {
    "pycharm": {
     "name": "#%% md\n"
    }
   },
   "source": [
    "## Feature Selection"
   ]
  },
  {
   "cell_type": "code",
   "execution_count": 36,
   "metadata": {
    "pycharm": {
     "name": "#%%\n"
    }
   },
   "outputs": [],
   "source": [
    "# selectionRecord=pd.DataFrame({'no':[],'score':[]})\n",
    "# for i in range(1,8):\n",
    "#     Final = imbpipeline([\n",
    "#     ('Imputation',preproc),\n",
    "#     ('DF Converter',DfConverter()),\n",
    "#     ('SMOTE NC Oversampling',SMOTENC(categorical_features=colselect,n_jobs=-1)),\n",
    "#     ('DF Converter1',DfConverter()),\n",
    "#     ('Data Preprocessing', data_preprocessing),\n",
    "#     ('Kbest',SelectKBest(chi2,k=i)),\n",
    "#     ('Model',   xgb.XGBClassifier())\n",
    "# ])\n",
    "#     selectionRecord=pd.concat([selectionRecord,pd.DataFrame({'no':[i],'score':[cross_validate(Final,x_train,y_train,cv=StratifiedKFold(n_splits = 5, shuffle = True, random_state = 0,),scoring=['recall'],n_jobs=-1,return_estimator=True,return_train_score=True)['test_recall'].mean()]})],ignore_index=True)\n",
    "\n",
    "\n",
    "# sns.lineplot(x='no',y='score',data=selectionRecord).set_title('Number of feature selected')"
   ]
  },
  {
   "cell_type": "markdown",
   "metadata": {
    "pycharm": {
     "name": "#%% md\n"
    }
   },
   "source": [
    "## Evaluation Methodology"
   ]
  },
  {
   "cell_type": "code",
   "execution_count": 37,
   "metadata": {
    "pycharm": {
     "name": "#%%\n"
    }
   },
   "outputs": [],
   "source": [
    "def scoreModel(clf,x,y,algName=None,record=pd.DataFrame({'name':[],'train_accuracy':[],'test_accuracy':[],'test_recall':[],'train_recall':[]})):\n",
    "    '''\n",
    "    This function is used for model evaluation . This function use scikit-learn library to carry out cross validation using StratifiedKFold. The scoring metrics are accuracy and balanced accuracy\n",
    "\n",
    "    :param clf: Classifier 分类器\n",
    "    :param x:Train Data X(Data)  训练数据 （数据）\n",
    "    :param y:Train Data Y(Result)  训练数据（结果）\n",
    "    :param algName: Name of Algorithm used for recording 算法名字\n",
    "    :param record: History record dataframe 在历史记录上叠加结果\n",
    "    :return:\n",
    "    This function return 3 variable: 这个函数返回三个参数\n",
    "    record: Dataframe with current and past record(if there is any)\n",
    "    current: Dataframe with current record\n",
    "    lr: Learning curve\n",
    "    '''\n",
    "    score=cross_validate(clf,x,y,cv=StratifiedKFold(n_splits = 5,shuffle = True, random_state = 0),scoring=['accuracy','recall'],n_jobs=-1,return_estimator=True,return_train_score=True)\n",
    "    current=pd.DataFrame({'name':[algName],'train_accuracy':score['train_accuracy'].mean(),'test_accuracy':score['test_accuracy'].mean(),'test_recall':score['test_recall'].mean(),'train_recall':score['train_recall'].mean()})\n",
    "    record=pd.concat([record,current],ignore_index=True)\n",
    "    lr = learning_curve(clf, x, y, scoring = 'recall', cv = StratifiedKFold(n_splits = 5,shuffle = True, random_state = 0), n_jobs=-1)\n",
    "    return record,current,lr"
   ]
  },
  {
   "cell_type": "code",
   "execution_count": 38,
   "metadata": {
    "pycharm": {
     "is_executing": true,
     "name": "#%%\n"
    }
   },
   "outputs": [
    {
     "data": {
      "image/png": "[encoded data removed]",
      "text/plain": [
       "<Figure size 432x288 with 1 Axes>"
      ]
     },
     "metadata": {
      "needs_background": "light"
     },
     "output_type": "display_data"
    },
    {
     "data": {
      "text/html": [
       "<div>\n",
       "<style scoped>\n",
       "    .dataframe tbody tr th:only-of-type {\n",
       "        vertical-align: middle;\n",
       "    }\n",
       "\n",
       "    .dataframe tbody tr th {\n",
       "        vertical-align: top;\n",
       "    }\n",
       "\n",
       "    .dataframe thead th {\n",
       "        text-align: right;\n",
       "    }\n",
       "</style>\n",
       "<table border=\"1\" class=\"dataframe\">\n",
       "  <thead>\n",
       "    <tr style=\"text-align: right;\">\n",
       "      <th></th>\n",
       "      <th>name</th>\n",
       "      <th>train_accuracy</th>\n",
       "      <th>test_accuracy</th>\n",
       "      <th>test_recall</th>\n",
       "      <th>train_recall</th>\n",
       "    </tr>\n",
       "  </thead>\n",
       "  <tbody>\n",
       "    <tr>\n",
       "      <th>0</th>\n",
       "      <td>Dummy Baseline Classifier</td>\n",
       "      <td>0.966125</td>\n",
       "      <td>0.966125</td>\n",
       "      <td>0.0</td>\n",
       "      <td>0.0</td>\n",
       "    </tr>\n",
       "  </tbody>\n",
       "</table>\n",
       "</div>"
      ],
      "text/plain": [
       "                        name  train_accuracy  test_accuracy  test_recall  \\\n",
       "0  Dummy Baseline Classifier        0.966125       0.966125          0.0   \n",
       "\n",
       "   train_recall  \n",
       "0           0.0  "
      ]
     },
     "execution_count": 38,
     "metadata": {},
     "output_type": "execute_result"
    }
   ],
   "source": [
    "\n",
    "from imblearn.over_sampling import SMOTENC\n",
    "baseline = imbpipeline([\n",
    "\n",
    "('Imputation',preproc),\n",
    "    ('DF Converter',DfConverter()),\n",
    "    ('SMOTE NC Oversampling',SMOTENC(categorical_features=colselect,n_jobs=-1)),\n",
    "    ('DF Converter1',DfConverter()),\n",
    "    ('Data Preprocessing', data_preprocessing),\n",
    "    ('Model', DummyClassifier())\n",
    "])\n",
    "record,current,lr=scoreModel(baseline,x_train,y_train,\"Dummy Baseline Classifier\")\n",
    "current"
   ]
  },
  {
   "cell_type": "code",
   "execution_count": 39,
   "metadata": {
    "pycharm": {
     "is_executing": true,
     "name": "#%%\n"
    }
   },
   "outputs": [
    {
     "data": {
      "image/png": "[encoded data removed]",
      "text/plain": [
       "<Figure size 432x288 with 1 Axes>"
      ]
     },
     "metadata": {
      "needs_background": "light"
     },
     "output_type": "display_data"
    },
    {
     "data": {
      "text/html": [
       "<div>\n",
       "<style scoped>\n",
       "    .dataframe tbody tr th:only-of-type {\n",
       "        vertical-align: middle;\n",
       "    }\n",
       "\n",
       "    .dataframe tbody tr th {\n",
       "        vertical-align: top;\n",
       "    }\n",
       "\n",
       "    .dataframe thead th {\n",
       "        text-align: right;\n",
       "    }\n",
       "</style>\n",
       "<table border=\"1\" class=\"dataframe\">\n",
       "  <thead>\n",
       "    <tr style=\"text-align: right;\">\n",
       "      <th></th>\n",
       "      <th>name</th>\n",
       "      <th>train_accuracy</th>\n",
       "      <th>test_accuracy</th>\n",
       "      <th>test_recall</th>\n",
       "      <th>train_recall</th>\n",
       "    </tr>\n",
       "  </thead>\n",
       "  <tbody>\n",
       "    <tr>\n",
       "      <th>0</th>\n",
       "      <td>Decision Tree Classifier</td>\n",
       "      <td>0.879125</td>\n",
       "      <td>0.873938</td>\n",
       "      <td>0.898607</td>\n",
       "      <td>0.945572</td>\n",
       "    </tr>\n",
       "  </tbody>\n",
       "</table>\n",
       "</div>"
      ],
      "text/plain": [
       "                       name  train_accuracy  test_accuracy  test_recall  \\\n",
       "0  Decision Tree Classifier        0.879125       0.873938     0.898607   \n",
       "\n",
       "   train_recall  \n",
       "0      0.945572  "
      ]
     },
     "execution_count": 39,
     "metadata": {},
     "output_type": "execute_result"
    }
   ],
   "source": [
    "\n",
    "DeciTree = imbpipeline([\n",
    "('Imputation',preproc),\n",
    "    ('DF Converter',DfConverter()),\n",
    "    ('SMOTE NC Oversampling',SMOTENC(categorical_features=colselect,n_jobs=-1)),\n",
    "    ('DF Converter1',DfConverter()),\n",
    "    ('Data Preprocessing', data_preprocessing),\n",
    "    ('model', DecisionTreeClassifier(max_depth=9,ccp_alpha=0.000224,max_leaf_nodes=13))\n",
    "])\n",
    "\n",
    "\n",
    "record,current,lr=scoreModel(DeciTree,x_train,y_train,\"Decision Tree Classifier\",record=record)\n",
    "current"
   ]
  },
  {
   "cell_type": "code",
   "execution_count": 40,
   "metadata": {
    "pycharm": {
     "is_executing": true,
     "name": "#%%\n"
    }
   },
   "outputs": [],
   "source": [
    "# parameter={'model__max_depth':np.arange(1,10),'model__ccp_alpha':np.arange(0.00827,0.05,0.01)}\n",
    "# pd.DataFrame(GridSearchCV(DeciTree,param_grid=parameter,scoring='recall').fit(x_train,y_train).cv_results_)\n"
   ]
  },
  {
   "cell_type": "code",
   "execution_count": 41,
   "metadata": {
    "pycharm": {
     "is_executing": true,
     "name": "#%%\n"
    }
   },
   "outputs": [],
   "source": [
    "\n",
    "\n",
    "# from sklearn.model_selection import validation_curve\n",
    "# pr=np.arange(5,20,1)\n",
    "# train_score,test_score = validation_curve(DeciTree,x_train,y_train,param_name='model__max_depth',param_range=pr,cv=StratifiedKFold(n_splits = 5, shuffle = True, random_state = 0,),scoring='recall')\n",
    "# train_score =  np.mean(train_score,axis=1)\n",
    "# test_score = np.mean(test_score,axis=1)\n",
    "# plt.plot(pr,train_score,'o-',color = 'r',label = 'training')\n",
    "# plt.plot(pr,test_score,'o-',color = 'g',label = 'testing')\n",
    "# plt.legend(loc='best')\n",
    "# plt.xlabel('number of tree')\n",
    "# plt.ylabel('accuracy')\n",
    "# plt.show()\n",
    "\n"
   ]
  },
  {
   "cell_type": "code",
   "execution_count": 42,
   "metadata": {
    "pycharm": {
     "is_executing": true,
     "name": "#%%\n"
    }
   },
   "outputs": [],
   "source": [
    "# test_score"
   ]
  },
  {
   "cell_type": "code",
   "execution_count": 43,
   "metadata": {
    "pycharm": {
     "is_executing": true,
     "name": "#%%\n"
    }
   },
   "outputs": [
    {
     "data": {
      "image/png": "[encoded data removed]",
      "text/plain": [
       "<Figure size 432x288 with 1 Axes>"
      ]
     },
     "metadata": {
      "needs_background": "light"
     },
     "output_type": "display_data"
    },
    {
     "data": {
      "text/html": [
       "<div>\n",
       "<style scoped>\n",
       "    .dataframe tbody tr th:only-of-type {\n",
       "        vertical-align: middle;\n",
       "    }\n",
       "\n",
       "    .dataframe tbody tr th {\n",
       "        vertical-align: top;\n",
       "    }\n",
       "\n",
       "    .dataframe thead th {\n",
       "        text-align: right;\n",
       "    }\n",
       "</style>\n",
       "<table border=\"1\" class=\"dataframe\">\n",
       "  <thead>\n",
       "    <tr style=\"text-align: right;\">\n",
       "      <th></th>\n",
       "      <th>name</th>\n",
       "      <th>train_accuracy</th>\n",
       "      <th>test_accuracy</th>\n",
       "      <th>test_recall</th>\n",
       "      <th>train_recall</th>\n",
       "    </tr>\n",
       "  </thead>\n",
       "  <tbody>\n",
       "    <tr>\n",
       "      <th>0</th>\n",
       "      <td>Random Forest Classifier</td>\n",
       "      <td>0.934688</td>\n",
       "      <td>0.926125</td>\n",
       "      <td>0.867125</td>\n",
       "      <td>0.942808</td>\n",
       "    </tr>\n",
       "  </tbody>\n",
       "</table>\n",
       "</div>"
      ],
      "text/plain": [
       "                       name  train_accuracy  test_accuracy  test_recall  \\\n",
       "0  Random Forest Classifier        0.934688       0.926125     0.867125   \n",
       "\n",
       "   train_recall  \n",
       "0      0.942808  "
      ]
     },
     "execution_count": 43,
     "metadata": {},
     "output_type": "execute_result"
    }
   ],
   "source": [
    "randomFor = imbpipeline([\n",
    "    ('Imputation',preproc),\n",
    "    ('DF Converter',DfConverter()),\n",
    "    ('SMOTE NC Oversampling',SMOTENC(categorical_features=colselect,n_jobs=-1)),\n",
    "    ('DF Converter1',DfConverter()),\n",
    "    ('Data Preprocessing', data_preprocessing),\n",
    "    ('model', RandomForestClassifier(max_depth=9,ccp_alpha=0.000224,n_estimators=20,n_jobs=-1))\n",
    "])\n",
    "# parameter={'model__max_depth':np.arange(1,9),'model__ccp_alpha':np.arange(0.00827,0.03,0.001)}\n",
    "# pd.DataFrame(GridSearchCV(randomFor,param_grid=parameter,scoring='recall').fit(x_train,y_train).cv_results_)\n",
    "\n",
    "record,current,lr=scoreModel(randomFor,x_train,y_train,\"Random Forest Classifier\",record=record)\n",
    "current"
   ]
  },
  {
   "cell_type": "code",
   "execution_count": 44,
   "metadata": {
    "pycharm": {
     "is_executing": true,
     "name": "#%%\n"
    }
   },
   "outputs": [],
   "source": [
    "# parameter={'model__max_depth':np.arange(1,10),'model__ccp_alpha':np.arange(0.00827,0.05,0.01)}\n",
    "# pd.DataFrame(GridSearchCV(randomFor,param_grid=parameter,scoring='recall').fit(x_train,y_train).cv_results_)\n"
   ]
  },
  {
   "cell_type": "code",
   "execution_count": 45,
   "metadata": {
    "pycharm": {
     "is_executing": true,
     "name": "#%%\n"
    }
   },
   "outputs": [
    {
     "name": "stderr",
     "output_type": "stream",
     "text": [
      "/home/chzuofa/.local/lib/python3.8/site-packages/sklearn/impute/_iterative.py:699: ConvergenceWarning: [IterativeImputer] Early stopping criterion not reached.\n",
      "  warnings.warn(\n",
      "/home/chzuofa/.local/lib/python3.8/site-packages/sklearn/impute/_iterative.py:699: ConvergenceWarning: [IterativeImputer] Early stopping criterion not reached.\n",
      "  warnings.warn(\n",
      "/home/chzuofa/.local/lib/python3.8/site-packages/sklearn/impute/_iterative.py:699: ConvergenceWarning: [IterativeImputer] Early stopping criterion not reached.\n",
      "  warnings.warn(\n",
      "/home/chzuofa/.local/lib/python3.8/site-packages/sklearn/impute/_iterative.py:699: ConvergenceWarning: [IterativeImputer] Early stopping criterion not reached.\n",
      "  warnings.warn(\n",
      "/home/chzuofa/.local/lib/python3.8/site-packages/sklearn/impute/_iterative.py:699: ConvergenceWarning: [IterativeImputer] Early stopping criterion not reached.\n",
      "  warnings.warn(\n",
      "/home/chzuofa/.local/lib/python3.8/site-packages/sklearn/impute/_iterative.py:699: ConvergenceWarning: [IterativeImputer] Early stopping criterion not reached.\n",
      "  warnings.warn(\n",
      "/home/chzuofa/.local/lib/python3.8/site-packages/sklearn/impute/_iterative.py:699: ConvergenceWarning: [IterativeImputer] Early stopping criterion not reached.\n",
      "  warnings.warn(\n",
      "/home/chzuofa/.local/lib/python3.8/site-packages/sklearn/impute/_iterative.py:699: ConvergenceWarning: [IterativeImputer] Early stopping criterion not reached.\n",
      "  warnings.warn(\n"
     ]
    },
    {
     "data": {
      "image/png": "[encoded data removed]",
      "text/plain": [
       "<Figure size 432x288 with 1 Axes>"
      ]
     },
     "metadata": {
      "needs_background": "light"
     },
     "output_type": "display_data"
    },
    {
     "data": {
      "text/html": [
       "<div>\n",
       "<style scoped>\n",
       "    .dataframe tbody tr th:only-of-type {\n",
       "        vertical-align: middle;\n",
       "    }\n",
       "\n",
       "    .dataframe tbody tr th {\n",
       "        vertical-align: top;\n",
       "    }\n",
       "\n",
       "    .dataframe thead th {\n",
       "        text-align: right;\n",
       "    }\n",
       "</style>\n",
       "<table border=\"1\" class=\"dataframe\">\n",
       "  <thead>\n",
       "    <tr style=\"text-align: right;\">\n",
       "      <th></th>\n",
       "      <th>name</th>\n",
       "      <th>train_accuracy</th>\n",
       "      <th>test_accuracy</th>\n",
       "      <th>test_recall</th>\n",
       "      <th>train_recall</th>\n",
       "    </tr>\n",
       "  </thead>\n",
       "  <tbody>\n",
       "    <tr>\n",
       "      <th>0</th>\n",
       "      <td>SVM Classifier</td>\n",
       "      <td>0.894484</td>\n",
       "      <td>0.894438</td>\n",
       "      <td>0.887428</td>\n",
       "      <td>0.900827</td>\n",
       "    </tr>\n",
       "  </tbody>\n",
       "</table>\n",
       "</div>"
      ],
      "text/plain": [
       "             name  train_accuracy  test_accuracy  test_recall  train_recall\n",
       "0  SVM Classifier        0.894484       0.894438     0.887428      0.900827"
      ]
     },
     "execution_count": 45,
     "metadata": {},
     "output_type": "execute_result"
    }
   ],
   "source": [
    "svm = imbpipeline([\n",
    "    ('Imputation',preproc),\n",
    "    ('DF Converter',DfConverter()),\n",
    "    ('SMOTE NC Oversampling',SMOTENC(categorical_features=colselect,n_jobs=-1)),\n",
    "    ('DF Converter1',DfConverter()),\n",
    "    ('Data Preprocessing', data_preprocessing),\n",
    "    ('model', SVC(gamma=0.5,C=6))\n",
    "])\n",
    "# parameters = {'model__kernel':('linear', 'rbf'), 'model__C':np.arange(1,10),}\n",
    "# pd.DataFrame(GridSearchCV(svm,param_grid=parameters,scoring='recall',n_jobs=-1).fit(x_train,y_train).cv_results_)\n",
    "\n",
    "record,current,lr=scoreModel(svm,x_train,y_train,\"SVM Classifier\",record=record)\n",
    "current"
   ]
  },
  {
   "cell_type": "code",
   "execution_count": 46,
   "metadata": {
    "pycharm": {
     "is_executing": true,
     "name": "#%%\n"
    }
   },
   "outputs": [],
   "source": [
    "# parameter={'model__C':np.arange(1,10),'model__gamma':np.arange(0.1,1,0.1)}\n",
    "# pd.DataFrame(GridSearchCV(svm,param_grid=parameter,scoring='recall').fit(x_train,y_train).cv_results_)"
   ]
  },
  {
   "cell_type": "code",
   "execution_count": 47,
   "metadata": {
    "pycharm": {
     "is_executing": true,
     "name": "#%%\n"
    }
   },
   "outputs": [
    {
     "data": {
      "image/png": "[encoded data removed]",
      "text/plain": [
       "<Figure size 432x288 with 1 Axes>"
      ]
     },
     "metadata": {
      "needs_background": "light"
     },
     "output_type": "display_data"
    },
    {
     "data": {
      "text/html": [
       "<div>\n",
       "<style scoped>\n",
       "    .dataframe tbody tr th:only-of-type {\n",
       "        vertical-align: middle;\n",
       "    }\n",
       "\n",
       "    .dataframe tbody tr th {\n",
       "        vertical-align: top;\n",
       "    }\n",
       "\n",
       "    .dataframe thead th {\n",
       "        text-align: right;\n",
       "    }\n",
       "</style>\n",
       "<table border=\"1\" class=\"dataframe\">\n",
       "  <thead>\n",
       "    <tr style=\"text-align: right;\">\n",
       "      <th></th>\n",
       "      <th>name</th>\n",
       "      <th>train_accuracy</th>\n",
       "      <th>test_accuracy</th>\n",
       "      <th>test_recall</th>\n",
       "      <th>train_recall</th>\n",
       "    </tr>\n",
       "  </thead>\n",
       "  <tbody>\n",
       "    <tr>\n",
       "      <th>0</th>\n",
       "      <td>Adaptive Boosting Classifier</td>\n",
       "      <td>0.910922</td>\n",
       "      <td>0.9085</td>\n",
       "      <td>0.848675</td>\n",
       "      <td>0.872228</td>\n",
       "    </tr>\n",
       "  </tbody>\n",
       "</table>\n",
       "</div>"
      ],
      "text/plain": [
       "                           name  train_accuracy  test_accuracy  test_recall  \\\n",
       "0  Adaptive Boosting Classifier        0.910922         0.9085     0.848675   \n",
       "\n",
       "   train_recall  \n",
       "0      0.872228  "
      ]
     },
     "execution_count": 47,
     "metadata": {},
     "output_type": "execute_result"
    }
   ],
   "source": [
    "lgbmC = imbpipeline([\n",
    "    ('Imputation',preproc),\n",
    "    ('DF Converter',DfConverter()),\n",
    "    ('SMOTE NC Oversampling',SMOTENC(categorical_features=colselect,n_jobs=-1)),\n",
    "    ('DF Converter1',DfConverter()),\n",
    "    ('Data Preprocessing', data_preprocessing),\n",
    "\n",
    "    ('model', AdaBoostClassifier())\n",
    "])\n",
    "\n",
    "\n",
    "# parameter={'model__n_estimators':np.arange(1,13),'model__learning_rate':np.arange(0.1,2,0.01)}\n",
    "#\n",
    "# pd.DataFrame(GridSearchCV(lgbmC,param_grid=parameter,scoring='recall',n_jobs=-1).fit(x_train,y_train).cv_results_)\n",
    "\n",
    "record,current,lr=scoreModel(lgbmC,x_train,y_train,\"Adaptive Boosting Classifier\",record=record)\n",
    "current"
   ]
  },
  {
   "cell_type": "code",
   "execution_count": 48,
   "metadata": {
    "pycharm": {
     "is_executing": true,
     "name": "#%%\n"
    }
   },
   "outputs": [
    {
     "data": {
      "image/png": "[encoded data removed]",
      "text/plain": [
       "<Figure size 432x288 with 1 Axes>"
      ]
     },
     "metadata": {
      "needs_background": "light"
     },
     "output_type": "display_data"
    },
    {
     "data": {
      "text/html": [
       "<div>\n",
       "<style scoped>\n",
       "    .dataframe tbody tr th:only-of-type {\n",
       "        vertical-align: middle;\n",
       "    }\n",
       "\n",
       "    .dataframe tbody tr th {\n",
       "        vertical-align: top;\n",
       "    }\n",
       "\n",
       "    .dataframe thead th {\n",
       "        text-align: right;\n",
       "    }\n",
       "</style>\n",
       "<table border=\"1\" class=\"dataframe\">\n",
       "  <thead>\n",
       "    <tr style=\"text-align: right;\">\n",
       "      <th></th>\n",
       "      <th>name</th>\n",
       "      <th>train_accuracy</th>\n",
       "      <th>test_accuracy</th>\n",
       "      <th>test_recall</th>\n",
       "      <th>train_recall</th>\n",
       "    </tr>\n",
       "  </thead>\n",
       "  <tbody>\n",
       "    <tr>\n",
       "      <th>0</th>\n",
       "      <td>eXtreme Gradient Boosting Classifier</td>\n",
       "      <td>0.928719</td>\n",
       "      <td>0.924375</td>\n",
       "      <td>0.870897</td>\n",
       "      <td>0.926203</td>\n",
       "    </tr>\n",
       "  </tbody>\n",
       "</table>\n",
       "</div>"
      ],
      "text/plain": [
       "                                   name  train_accuracy  test_accuracy  \\\n",
       "0  eXtreme Gradient Boosting Classifier        0.928719       0.924375   \n",
       "\n",
       "   test_recall  train_recall  \n",
       "0     0.870897      0.926203  "
      ]
     },
     "execution_count": 48,
     "metadata": {},
     "output_type": "execute_result"
    }
   ],
   "source": [
    "\n",
    "xgboost = imbpipeline([\n",
    "    ('Imputation',preproc),\n",
    "    ('DF Converter',DfConverter()),\n",
    "    ('SMOTE NC Oversampling',SMOTENC(categorical_features=colselect,n_jobs=-1)),\n",
    "    ('DF Converter1',DfConverter()),\n",
    "    ('Data Preprocessing', data_preprocessing),\n",
    "\n",
    "    ('Model', xgb.XGBClassifier(tree_method='hist',max_depth=2))\n",
    "])\n",
    "record,current,lr=scoreModel(xgboost,x_train,y_train,\"eXtreme Gradient Boosting Classifier\",record)\n",
    "current"
   ]
  },
  {
   "cell_type": "code",
   "execution_count": 49,
   "metadata": {
    "pycharm": {
     "is_executing": true,
     "name": "#%%\n"
    }
   },
   "outputs": [],
   "source": [
    "# parameter={'Model__max_depth':np.arange(1,10),'Model__n_estimators':np.arange(1,16)}\n",
    "# pd.DataFrame(GridSearchCV(xgboost,param_grid=parameter,scoring='recall').fit(x_train,y_train).cv_results_)\n"
   ]
  },
  {
   "cell_type": "code",
   "execution_count": 50,
   "metadata": {
    "pycharm": {
     "is_executing": true,
     "name": "#%%\n"
    }
   },
   "outputs": [
    {
     "name": "stderr",
     "output_type": "stream",
     "text": [
      "/home/chzuofa/.local/lib/python3.8/site-packages/sklearn/impute/_iterative.py:699: ConvergenceWarning: [IterativeImputer] Early stopping criterion not reached.\n",
      "  warnings.warn(\n",
      "/home/chzuofa/.local/lib/python3.8/site-packages/sklearn/impute/_iterative.py:699: ConvergenceWarning: [IterativeImputer] Early stopping criterion not reached.\n",
      "  warnings.warn(\n",
      "/home/chzuofa/.local/lib/python3.8/site-packages/sklearn/impute/_iterative.py:699: ConvergenceWarning: [IterativeImputer] Early stopping criterion not reached.\n",
      "  warnings.warn(\n",
      "/home/chzuofa/.local/lib/python3.8/site-packages/sklearn/impute/_iterative.py:699: ConvergenceWarning: [IterativeImputer] Early stopping criterion not reached.\n",
      "  warnings.warn(\n",
      "/home/chzuofa/.local/lib/python3.8/site-packages/sklearn/impute/_iterative.py:699: ConvergenceWarning: [IterativeImputer] Early stopping criterion not reached.\n",
      "  warnings.warn(\n",
      "/home/chzuofa/.local/lib/python3.8/site-packages/sklearn/impute/_iterative.py:699: ConvergenceWarning: [IterativeImputer] Early stopping criterion not reached.\n",
      "  warnings.warn(\n",
      "/home/chzuofa/.local/lib/python3.8/site-packages/sklearn/impute/_iterative.py:699: ConvergenceWarning: [IterativeImputer] Early stopping criterion not reached.\n",
      "  warnings.warn(\n",
      "/home/chzuofa/.local/lib/python3.8/site-packages/sklearn/impute/_iterative.py:699: ConvergenceWarning: [IterativeImputer] Early stopping criterion not reached.\n",
      "  warnings.warn(\n",
      "/home/chzuofa/.local/lib/python3.8/site-packages/sklearn/impute/_iterative.py:699: ConvergenceWarning: [IterativeImputer] Early stopping criterion not reached.\n",
      "  warnings.warn(\n",
      "/home/chzuofa/.local/lib/python3.8/site-packages/sklearn/impute/_iterative.py:699: ConvergenceWarning: [IterativeImputer] Early stopping criterion not reached.\n",
      "  warnings.warn(\n",
      "/home/chzuofa/.local/lib/python3.8/site-packages/sklearn/impute/_iterative.py:699: ConvergenceWarning: [IterativeImputer] Early stopping criterion not reached.\n",
      "  warnings.warn(\n",
      "/home/chzuofa/.local/lib/python3.8/site-packages/sklearn/impute/_iterative.py:699: ConvergenceWarning: [IterativeImputer] Early stopping criterion not reached.\n",
      "  warnings.warn(\n",
      "/home/chzuofa/.local/lib/python3.8/site-packages/joblib/externals/loky/process_executor.py:702: UserWarning: A worker stopped while some jobs were given to the executor. This can be caused by a too short worker timeout or by a memory leak.\n",
      "  warnings.warn(\n"
     ]
    },
    {
     "data": {
      "image/png": "[encoded data removed]",
      "text/plain": [
       "<Figure size 432x288 with 1 Axes>"
      ]
     },
     "metadata": {
      "needs_background": "light"
     },
     "output_type": "display_data"
    },
    {
     "data": {
      "text/html": [
       "<div>\n",
       "<style scoped>\n",
       "    .dataframe tbody tr th:only-of-type {\n",
       "        vertical-align: middle;\n",
       "    }\n",
       "\n",
       "    .dataframe tbody tr th {\n",
       "        vertical-align: top;\n",
       "    }\n",
       "\n",
       "    .dataframe thead th {\n",
       "        text-align: right;\n",
       "    }\n",
       "</style>\n",
       "<table border=\"1\" class=\"dataframe\">\n",
       "  <thead>\n",
       "    <tr style=\"text-align: right;\">\n",
       "      <th></th>\n",
       "      <th>name</th>\n",
       "      <th>train_accuracy</th>\n",
       "      <th>test_accuracy</th>\n",
       "      <th>test_recall</th>\n",
       "      <th>train_recall</th>\n",
       "    </tr>\n",
       "  </thead>\n",
       "  <tbody>\n",
       "    <tr>\n",
       "      <th>0</th>\n",
       "      <td>K-Nearest Neighbour Classifier</td>\n",
       "      <td>0.965437</td>\n",
       "      <td>0.949062</td>\n",
       "      <td>0.776622</td>\n",
       "      <td>0.925738</td>\n",
       "    </tr>\n",
       "  </tbody>\n",
       "</table>\n",
       "</div>"
      ],
      "text/plain": [
       "                             name  train_accuracy  test_accuracy  test_recall  \\\n",
       "0  K-Nearest Neighbour Classifier        0.965437       0.949062     0.776622   \n",
       "\n",
       "   train_recall  \n",
       "0      0.925738  "
      ]
     },
     "execution_count": 50,
     "metadata": {},
     "output_type": "execute_result"
    }
   ],
   "source": [
    "knnClassifier = imbpipeline([\n",
    "    ('Imputation',preproc),\n",
    "    ('DF Converter',DfConverter()),\n",
    "    ('SMOTE NC Oversampling',SMOTENC(categorical_features=colselect,n_jobs=-1)),\n",
    "    ('DF Converter1',DfConverter()),\n",
    "    ('Data Preprocessing', data_preprocessing),\n",
    "    ('Model', KNeighborsClassifier(n_neighbors=6))\n",
    "])\n",
    "record,current,lr=scoreModel(knnClassifier,x_train,y_train,\"K-Nearest Neighbour Classifier\",record=record)\n",
    "current"
   ]
  },
  {
   "cell_type": "code",
   "execution_count": 51,
   "metadata": {
    "pycharm": {
     "is_executing": true,
     "name": "#%%\n"
    }
   },
   "outputs": [],
   "source": [
    "# parameter={'Model__n_neighbors':np.arange(1,20)}\n",
    "# pd.DataFrame(GridSearchCV(knnClassifier,param_grid=parameter,scoring='recall').fit(x_train,y_train).cv_results_)\n"
   ]
  },
  {
   "cell_type": "code",
   "execution_count": 52,
   "metadata": {
    "pycharm": {
     "is_executing": true,
     "name": "#%%\n"
    }
   },
   "outputs": [
    {
     "data": {
      "text/html": [
       "<div>\n",
       "<style scoped>\n",
       "    .dataframe tbody tr th:only-of-type {\n",
       "        vertical-align: middle;\n",
       "    }\n",
       "\n",
       "    .dataframe tbody tr th {\n",
       "        vertical-align: top;\n",
       "    }\n",
       "\n",
       "    .dataframe thead th {\n",
       "        text-align: right;\n",
       "    }\n",
       "</style>\n",
       "<table border=\"1\" class=\"dataframe\">\n",
       "  <thead>\n",
       "    <tr style=\"text-align: right;\">\n",
       "      <th></th>\n",
       "      <th>name</th>\n",
       "      <th>train_accuracy</th>\n",
       "      <th>test_accuracy</th>\n",
       "      <th>test_recall</th>\n",
       "      <th>train_recall</th>\n",
       "    </tr>\n",
       "  </thead>\n",
       "  <tbody>\n",
       "    <tr>\n",
       "      <th>0</th>\n",
       "      <td>Dummy Baseline Classifier</td>\n",
       "      <td>0.966125</td>\n",
       "      <td>0.966125</td>\n",
       "      <td>0.000000</td>\n",
       "      <td>0.000000</td>\n",
       "    </tr>\n",
       "    <tr>\n",
       "      <th>1</th>\n",
       "      <td>Decision Tree Classifier</td>\n",
       "      <td>0.879125</td>\n",
       "      <td>0.873938</td>\n",
       "      <td>0.898607</td>\n",
       "      <td>0.945572</td>\n",
       "    </tr>\n",
       "    <tr>\n",
       "      <th>2</th>\n",
       "      <td>Random Forest Classifier</td>\n",
       "      <td>0.934688</td>\n",
       "      <td>0.926125</td>\n",
       "      <td>0.867125</td>\n",
       "      <td>0.942808</td>\n",
       "    </tr>\n",
       "    <tr>\n",
       "      <th>3</th>\n",
       "      <td>SVM Classifier</td>\n",
       "      <td>0.894484</td>\n",
       "      <td>0.894438</td>\n",
       "      <td>0.887428</td>\n",
       "      <td>0.900827</td>\n",
       "    </tr>\n",
       "    <tr>\n",
       "      <th>4</th>\n",
       "      <td>Adaptive Boosting Classifier</td>\n",
       "      <td>0.910922</td>\n",
       "      <td>0.908500</td>\n",
       "      <td>0.848675</td>\n",
       "      <td>0.872228</td>\n",
       "    </tr>\n",
       "    <tr>\n",
       "      <th>5</th>\n",
       "      <td>eXtreme Gradient Boosting Classifier</td>\n",
       "      <td>0.928719</td>\n",
       "      <td>0.924375</td>\n",
       "      <td>0.870897</td>\n",
       "      <td>0.926203</td>\n",
       "    </tr>\n",
       "    <tr>\n",
       "      <th>6</th>\n",
       "      <td>K-Nearest Neighbour Classifier</td>\n",
       "      <td>0.965437</td>\n",
       "      <td>0.949062</td>\n",
       "      <td>0.776622</td>\n",
       "      <td>0.925738</td>\n",
       "    </tr>\n",
       "  </tbody>\n",
       "</table>\n",
       "</div>"
      ],
      "text/plain": [
       "                                   name  train_accuracy  test_accuracy  \\\n",
       "0             Dummy Baseline Classifier        0.966125       0.966125   \n",
       "1              Decision Tree Classifier        0.879125       0.873938   \n",
       "2              Random Forest Classifier        0.934688       0.926125   \n",
       "3                        SVM Classifier        0.894484       0.894438   \n",
       "4          Adaptive Boosting Classifier        0.910922       0.908500   \n",
       "5  eXtreme Gradient Boosting Classifier        0.928719       0.924375   \n",
       "6        K-Nearest Neighbour Classifier        0.965437       0.949062   \n",
       "\n",
       "   test_recall  train_recall  \n",
       "0     0.000000      0.000000  \n",
       "1     0.898607      0.945572  \n",
       "2     0.867125      0.942808  \n",
       "3     0.887428      0.900827  \n",
       "4     0.848675      0.872228  \n",
       "5     0.870897      0.926203  \n",
       "6     0.776622      0.925738  "
      ]
     },
     "execution_count": 52,
     "metadata": {},
     "output_type": "execute_result"
    }
   ],
   "source": [
    "record"
   ]
  },
  {
   "cell_type": "code",
   "execution_count": null,
   "metadata": {},
   "outputs": [],
   "source": []
  },
  {
   "cell_type": "code",
   "execution_count": null,
   "metadata": {},
   "outputs": [],
   "source": []
  }
 ],
 "metadata": {
  "kernelspec": {
   "display_name": "Python 3 (ipykernel)",
   "language": "python",
   "name": "python3"
  },
  "language_info": {
   "codemirror_mode": {
    "name": "ipython",
    "version": 3
   },
   "file_extension": ".py",
   "mimetype": "text/x-python",
   "name": "python",
   "nbconvert_exporter": "python",
   "pygments_lexer": "ipython3",
   "version": "3.8.10"
  }
 },
 "nbformat": 4,
 "nbformat_minor": 1
}
