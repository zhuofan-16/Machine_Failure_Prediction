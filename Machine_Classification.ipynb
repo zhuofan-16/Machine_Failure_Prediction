{
 "cells": [
  {
   "cell_type": "markdown",
   "metadata": {
    "pycharm": {
     "name": "#%% md\n"
    }
   },
   "source": [
    "# Machine Failure Prediction using Machine Learning\n",
    "Author: Chen ZhuoFan (P2100746) | Singapore Polytechnic\n",
    "\n",
    "Globalisation is the process of interaction and integration among people,companies and governments worldwide.It has accelerated since the 18th century and have enabled the trade of goods and services at a bigger scale.\n",
    "\n",
    "The production of goods need to be done more effectively.In today's world, many goods are manufacturing by machines in a pipeline to ensure high efficiency and precision at the same time. However,machines may malfunction with time.These malfunctioning machines may result in defects in goods which is not favourable. Manual checking can be time-consuming and cost-inefficient.\n",
    "\n",
    "Machine Learning is defined by Mitchell (1997) as the study of computer algorithms that improve automatically through experience. [3] Machine learning comes to our sight in the recent decades with its ease and high performance. It has the capacity to learn and identify patterns from data and make decision.\n",
    "\n",
    "In this experiment ,we will make use of machine learning model to assist us in predicting malfunctioning machines so that repairs or replacements can be done in time to reduce disruption and loss.\n"
   ]
  },
  {
   "cell_type": "markdown",
   "metadata": {
    "pycharm": {
     "name": "#%% md\n"
    }
   },
   "source": [
    "## Problem Statement\n",
    "\n",
    "How can we make use of machine learning to predict malfunctioning machines in the factories?"
   ]
  },
  {
   "cell_type": "markdown",
   "metadata": {
    "pycharm": {
     "name": "#%% md\n"
    }
   },
   "source": [
    "## Importing Libraries"
   ]
  },
  {
   "cell_type": "code",
   "execution_count": 1,
   "metadata": {
    "pycharm": {
     "name": "#%%\n"
    }
   },
   "outputs": [
    {
     "name": "stdout",
     "output_type": "stream",
     "text": [
      "Requirement already satisfied: numpy in ./.local/lib/python3.8/site-packages (1.22.3)\n",
      "Requirement already satisfied: matplotlib in ./.local/lib/python3.8/site-packages (3.5.2)\n",
      "Requirement already satisfied: pandas in ./.local/lib/python3.8/site-packages (1.4.2)\n",
      "Requirement already satisfied: seaborn in ./.local/lib/python3.8/site-packages (0.11.2)\n",
      "Requirement already satisfied: scikit-learn==1.0.2 in ./.local/lib/python3.8/site-packages (1.0.2)\n",
      "Requirement already satisfied: yellowbrick in ./.local/lib/python3.8/site-packages (1.4)\n",
      "Requirement already satisfied: phik in ./.local/lib/python3.8/site-packages (0.12.2)\n",
      "Requirement already satisfied: statsmodels in ./.local/lib/python3.8/site-packages (0.13.2)\n",
      "Requirement already satisfied: pyampute in ./.local/lib/python3.8/site-packages (0.0.2)\n",
      "Requirement already satisfied: xgboost in ./.local/lib/python3.8/site-packages (1.6.1)\n",
      "Requirement already satisfied: imblearn in ./.local/lib/python3.8/site-packages (0.0)\n",
      "Requirement already satisfied: missingno in ./.local/lib/python3.8/site-packages (0.5.1)\n",
      "Requirement already satisfied: cycler>=0.10 in ./.local/lib/python3.8/site-packages (from matplotlib) (0.11.0)\n",
      "Requirement already satisfied: pyparsing>=2.2.1 in ./.local/lib/python3.8/site-packages (from matplotlib) (3.0.9)\n",
      "Requirement already satisfied: packaging>=20.0 in ./.local/lib/python3.8/site-packages (from matplotlib) (21.3)\n",
      "Requirement already satisfied: fonttools>=4.22.0 in ./.local/lib/python3.8/site-packages (from matplotlib) (4.33.3)\n",
      "Requirement already satisfied: pillow>=6.2.0 in ./.local/lib/python3.8/site-packages (from matplotlib) (9.1.0)\n",
      "Requirement already satisfied: kiwisolver>=1.0.1 in ./.local/lib/python3.8/site-packages (from matplotlib) (1.4.2)\n",
      "Requirement already satisfied: python-dateutil>=2.7 in ./.local/lib/python3.8/site-packages (from matplotlib) (2.8.2)\n",
      "Requirement already satisfied: pytz>=2020.1 in ./.local/lib/python3.8/site-packages (from pandas) (2022.1)\n",
      "Requirement already satisfied: scipy>=1.0 in ./.local/lib/python3.8/site-packages (from seaborn) (1.8.0)\n",
      "Requirement already satisfied: joblib>=0.11 in ./.local/lib/python3.8/site-packages (from scikit-learn==1.0.2) (1.1.0)\n",
      "Requirement already satisfied: threadpoolctl>=2.0.0 in ./.local/lib/python3.8/site-packages (from scikit-learn==1.0.2) (3.1.0)\n",
      "Requirement already satisfied: patsy>=0.5.2 in ./.local/lib/python3.8/site-packages (from statsmodels) (0.5.2)\n",
      "Requirement already satisfied: imbalanced-learn in ./.local/lib/python3.8/site-packages (from imblearn) (0.9.0)\n",
      "Requirement already satisfied: six>=1.5 in /usr/lib/python3/dist-packages (from python-dateutil>=2.7->matplotlib) (1.14.0)\n"
     ]
    }
   ],
   "source": [
    "!pip install numpy matplotlib pandas seaborn scikit-learn==1.0.2 yellowbrick phik statsmodels pyampute xgboost imblearn missingno"
   ]
  },
  {
   "cell_type": "code",
   "execution_count": 2,
   "metadata": {
    "pycharm": {
     "name": "#%%\n"
    }
   },
   "outputs": [],
   "source": [
    "import numpy as np\n",
    "import matplotlib.pyplot as plt\n",
    "import pandas as pd\n",
    "import seaborn as sns\n",
    "\n",
    "sns.set_style(\"whitegrid\")\n",
    "\n",
    "\n",
    "\n",
    "# Model Evaluation\n",
    "from sklearn.model_selection import train_test_split, cross_validate, StratifiedKFold\n",
    "from sklearn.metrics import classification_report, plot_precision_recall_curve, plot_roc_curve, confusion_matrix\n",
    "from yellowbrick.model_selection import learning_curve\n",
    "\n",
    "# Missing Value\n",
    "from pyampute.exploration.mcar_statistical_tests import MCARTest\n",
    "from sklearn.impute import KNNImputer\n",
    "\n",
    "\n",
    "\n",
    "# Data Preprocessing\n",
    "import phik\n",
    "from sklearn.pipeline import Pipeline\n",
    "from sklearn.compose import ColumnTransformer\n",
    "from sklearn.preprocessing import  OneHotEncoder\n",
    "from sklearn.preprocessing import  MinMaxScaler\n",
    "\n",
    "\n",
    "# Models\n",
    "from sklearn.dummy import DummyClassifier\n",
    "from sklearn.neighbors import KNeighborsClassifier\n",
    "from sklearn.linear_model import LogisticRegression\n",
    "from sklearn.svm import SVC\n",
    "from sklearn.tree import DecisionTreeClassifier\n",
    "from sklearn.ensemble import RandomForestClassifier, GradientBoostingClassifier, AdaBoostClassifier\n",
    "from sklearn.naive_bayes import GaussianNB\n",
    "import xgboost as xgb\n",
    "\n",
    "\n",
    "# Feature Importance\n",
    "from sklearn.inspection import permutation_importance\n",
    "\n",
    "# Hyperparameter Tuning\n",
    "from sklearn.model_selection import  GridSearchCV\n",
    "from sklearn.metrics import recall_score\n",
    "\n",
    "# Feature Selection\n",
    "from sklearn.feature_selection import SequentialFeatureSelector\n",
    "from sklearn.feature_selection import SelectFromModel, RFE, SelectKBest,chi2\n",
    "\n",
    "import joblib\n",
    "# Random State\n",
    "random_state = 0"
   ]
  },
  {
   "cell_type": "markdown",
   "metadata": {
    "pycharm": {
     "name": "#%% md\n"
    }
   },
   "source": [
    "## Data Ingestion"
   ]
  },
  {
   "cell_type": "code",
   "execution_count": 3,
   "metadata": {
    "pycharm": {
     "name": "#%%\n"
    }
   },
   "outputs": [
    {
     "data": {
      "text/html": [
       "<div>\n",
       "<style scoped>\n",
       "    .dataframe tbody tr th:only-of-type {\n",
       "        vertical-align: middle;\n",
       "    }\n",
       "\n",
       "    .dataframe tbody tr th {\n",
       "        vertical-align: top;\n",
       "    }\n",
       "\n",
       "    .dataframe thead th {\n",
       "        text-align: right;\n",
       "    }\n",
       "</style>\n",
       "<table border=\"1\" class=\"dataframe\">\n",
       "  <thead>\n",
       "    <tr style=\"text-align: right;\">\n",
       "      <th></th>\n",
       "      <th>Product ID</th>\n",
       "      <th>Quality</th>\n",
       "      <th>Ambient T (C)</th>\n",
       "      <th>Process T (C)</th>\n",
       "      <th>Rotation Speed (rpm)</th>\n",
       "      <th>Torque (Nm)</th>\n",
       "      <th>Tool Wear (min)</th>\n",
       "      <th>Machine Status</th>\n",
       "    </tr>\n",
       "    <tr>\n",
       "      <th>Unique ID</th>\n",
       "      <th></th>\n",
       "      <th></th>\n",
       "      <th></th>\n",
       "      <th></th>\n",
       "      <th></th>\n",
       "      <th></th>\n",
       "      <th></th>\n",
       "      <th></th>\n",
       "    </tr>\n",
       "  </thead>\n",
       "  <tbody>\n",
       "    <tr>\n",
       "      <th>1</th>\n",
       "      <td>K12965</td>\n",
       "      <td>M</td>\n",
       "      <td>24.95</td>\n",
       "      <td>35.45</td>\n",
       "      <td>1551.0</td>\n",
       "      <td>42.8</td>\n",
       "      <td>0</td>\n",
       "      <td>0</td>\n",
       "    </tr>\n",
       "    <tr>\n",
       "      <th>2</th>\n",
       "      <td>Z62710</td>\n",
       "      <td>L</td>\n",
       "      <td>25.05</td>\n",
       "      <td>35.55</td>\n",
       "      <td>1408.0</td>\n",
       "      <td>46.3</td>\n",
       "      <td>3</td>\n",
       "      <td>0</td>\n",
       "    </tr>\n",
       "    <tr>\n",
       "      <th>3</th>\n",
       "      <td>T20224</td>\n",
       "      <td>L</td>\n",
       "      <td>24.95</td>\n",
       "      <td>35.35</td>\n",
       "      <td>1498.0</td>\n",
       "      <td>49.4</td>\n",
       "      <td>5</td>\n",
       "      <td>0</td>\n",
       "    </tr>\n",
       "    <tr>\n",
       "      <th>4</th>\n",
       "      <td>Z33024</td>\n",
       "      <td>L</td>\n",
       "      <td>25.05</td>\n",
       "      <td>35.45</td>\n",
       "      <td>1433.0</td>\n",
       "      <td>39.5</td>\n",
       "      <td>7</td>\n",
       "      <td>0</td>\n",
       "    </tr>\n",
       "    <tr>\n",
       "      <th>5</th>\n",
       "      <td>Z52839</td>\n",
       "      <td>L</td>\n",
       "      <td>25.05</td>\n",
       "      <td>35.55</td>\n",
       "      <td>1408.0</td>\n",
       "      <td>40.0</td>\n",
       "      <td>9</td>\n",
       "      <td>0</td>\n",
       "    </tr>\n",
       "    <tr>\n",
       "      <th>...</th>\n",
       "      <td>...</td>\n",
       "      <td>...</td>\n",
       "      <td>...</td>\n",
       "      <td>...</td>\n",
       "      <td>...</td>\n",
       "      <td>...</td>\n",
       "      <td>...</td>\n",
       "      <td>...</td>\n",
       "    </tr>\n",
       "    <tr>\n",
       "      <th>19996</th>\n",
       "      <td>T87335</td>\n",
       "      <td>M</td>\n",
       "      <td>25.75</td>\n",
       "      <td>35.35</td>\n",
       "      <td>NaN</td>\n",
       "      <td>29.5</td>\n",
       "      <td>14</td>\n",
       "      <td>0</td>\n",
       "    </tr>\n",
       "    <tr>\n",
       "      <th>19997</th>\n",
       "      <td>Z59525</td>\n",
       "      <td>H</td>\n",
       "      <td>25.85</td>\n",
       "      <td>35.35</td>\n",
       "      <td>1632.0</td>\n",
       "      <td>31.8</td>\n",
       "      <td>17</td>\n",
       "      <td>0</td>\n",
       "    </tr>\n",
       "    <tr>\n",
       "      <th>19998</th>\n",
       "      <td>T83921</td>\n",
       "      <td>M</td>\n",
       "      <td>25.95</td>\n",
       "      <td>NaN</td>\n",
       "      <td>NaN</td>\n",
       "      <td>33.4</td>\n",
       "      <td>22</td>\n",
       "      <td>0</td>\n",
       "    </tr>\n",
       "    <tr>\n",
       "      <th>19999</th>\n",
       "      <td>K42424</td>\n",
       "      <td>H</td>\n",
       "      <td>25.95</td>\n",
       "      <td>35.65</td>\n",
       "      <td>1408.0</td>\n",
       "      <td>48.5</td>\n",
       "      <td>25</td>\n",
       "      <td>0</td>\n",
       "    </tr>\n",
       "    <tr>\n",
       "      <th>20000</th>\n",
       "      <td>Z10048</td>\n",
       "      <td>M</td>\n",
       "      <td>25.95</td>\n",
       "      <td>35.65</td>\n",
       "      <td>1500.0</td>\n",
       "      <td>40.2</td>\n",
       "      <td>30</td>\n",
       "      <td>0</td>\n",
       "    </tr>\n",
       "  </tbody>\n",
       "</table>\n",
       "<p>20000 rows × 8 columns</p>\n",
       "</div>"
      ],
      "text/plain": [
       "          Product ID Quality  Ambient T (C)  Process T (C)  \\\n",
       "Unique ID                                                    \n",
       "1             K12965       M          24.95          35.45   \n",
       "2             Z62710       L          25.05          35.55   \n",
       "3             T20224       L          24.95          35.35   \n",
       "4             Z33024       L          25.05          35.45   \n",
       "5             Z52839       L          25.05          35.55   \n",
       "...              ...     ...            ...            ...   \n",
       "19996         T87335       M          25.75          35.35   \n",
       "19997         Z59525       H          25.85          35.35   \n",
       "19998         T83921       M          25.95            NaN   \n",
       "19999         K42424       H          25.95          35.65   \n",
       "20000         Z10048       M          25.95          35.65   \n",
       "\n",
       "           Rotation Speed (rpm)  Torque (Nm)  Tool Wear (min)  Machine Status  \n",
       "Unique ID                                                                      \n",
       "1                        1551.0         42.8                0               0  \n",
       "2                        1408.0         46.3                3               0  \n",
       "3                        1498.0         49.4                5               0  \n",
       "4                        1433.0         39.5                7               0  \n",
       "5                        1408.0         40.0                9               0  \n",
       "...                         ...          ...              ...             ...  \n",
       "19996                       NaN         29.5               14               0  \n",
       "19997                    1632.0         31.8               17               0  \n",
       "19998                       NaN         33.4               22               0  \n",
       "19999                    1408.0         48.5               25               0  \n",
       "20000                    1500.0         40.2               30               0  \n",
       "\n",
       "[20000 rows x 8 columns]"
      ]
     },
     "execution_count": 3,
     "metadata": {},
     "output_type": "execute_result"
    }
   ],
   "source": [
    "machineDf=pd.read_csv(\"./factory_data (classification).csv\",index_col='Unique ID')\n",
    "machineDf"
   ]
  },
  {
   "cell_type": "markdown",
   "metadata": {
    "pycharm": {
     "name": "#%% md\n"
    }
   },
   "source": [
    "## Data Exploration\n",
    "\n",
    "### Data Structure"
   ]
  },
  {
   "cell_type": "code",
   "execution_count": 4,
   "metadata": {
    "pycharm": {
     "name": "#%%\n"
    }
   },
   "outputs": [
    {
     "name": "stdout",
     "output_type": "stream",
     "text": [
      "<class 'pandas.core.frame.DataFrame'>\n",
      "Int64Index: 20000 entries, 1 to 20000\n",
      "Data columns (total 8 columns):\n",
      " #   Column                Non-Null Count  Dtype  \n",
      "---  ------                --------------  -----  \n",
      " 0   Product ID            20000 non-null  object \n",
      " 1   Quality               19009 non-null  object \n",
      " 2   Ambient T (C)         20000 non-null  float64\n",
      " 3   Process T (C)         19600 non-null  float64\n",
      " 4   Rotation Speed (rpm)  18812 non-null  float64\n",
      " 5   Torque (Nm)           20000 non-null  float64\n",
      " 6   Tool Wear (min)       20000 non-null  int64  \n",
      " 7   Machine Status        20000 non-null  int64  \n",
      "dtypes: float64(4), int64(2), object(2)\n",
      "memory usage: 1.4+ MB\n"
     ]
    }
   ],
   "source": [
    "machineDf.info()"
   ]
  },
  {
   "cell_type": "markdown",
   "metadata": {
    "pycharm": {
     "name": "#%% md\n"
    }
   },
   "source": [
    "### Managing Missing Data"
   ]
  },
  {
   "cell_type": "markdown",
   "metadata": {
    "pycharm": {
     "name": "#%% md\n"
    }
   },
   "source": []
  },
  {
   "cell_type": "code",
   "execution_count": 5,
   "metadata": {
    "pycharm": {
     "name": "#%%\n"
    }
   },
   "outputs": [
    {
     "data": {
      "text/html": [
       "<div>\n",
       "<style scoped>\n",
       "    .dataframe tbody tr th:only-of-type {\n",
       "        vertical-align: middle;\n",
       "    }\n",
       "\n",
       "    .dataframe tbody tr th {\n",
       "        vertical-align: top;\n",
       "    }\n",
       "\n",
       "    .dataframe thead th {\n",
       "        text-align: right;\n",
       "    }\n",
       "</style>\n",
       "<table border=\"1\" class=\"dataframe\">\n",
       "  <thead>\n",
       "    <tr style=\"text-align: right;\">\n",
       "      <th></th>\n",
       "      <th>0</th>\n",
       "    </tr>\n",
       "  </thead>\n",
       "  <tbody>\n",
       "    <tr>\n",
       "      <th>Rotation Speed (rpm)</th>\n",
       "      <td>1188</td>\n",
       "    </tr>\n",
       "    <tr>\n",
       "      <th>Quality</th>\n",
       "      <td>991</td>\n",
       "    </tr>\n",
       "    <tr>\n",
       "      <th>Process T (C)</th>\n",
       "      <td>400</td>\n",
       "    </tr>\n",
       "    <tr>\n",
       "      <th>Product ID</th>\n",
       "      <td>0</td>\n",
       "    </tr>\n",
       "    <tr>\n",
       "      <th>Ambient T (C)</th>\n",
       "      <td>0</td>\n",
       "    </tr>\n",
       "    <tr>\n",
       "      <th>Torque (Nm)</th>\n",
       "      <td>0</td>\n",
       "    </tr>\n",
       "    <tr>\n",
       "      <th>Tool Wear (min)</th>\n",
       "      <td>0</td>\n",
       "    </tr>\n",
       "    <tr>\n",
       "      <th>Machine Status</th>\n",
       "      <td>0</td>\n",
       "    </tr>\n",
       "  </tbody>\n",
       "</table>\n",
       "</div>"
      ],
      "text/plain": [
       "                         0\n",
       "Rotation Speed (rpm)  1188\n",
       "Quality                991\n",
       "Process T (C)          400\n",
       "Product ID               0\n",
       "Ambient T (C)            0\n",
       "Torque (Nm)              0\n",
       "Tool Wear (min)          0\n",
       "Machine Status           0"
      ]
     },
     "execution_count": 5,
     "metadata": {},
     "output_type": "execute_result"
    }
   ],
   "source": [
    "pd.DataFrame(machineDf.isna().sum().sort_values(ascending=False))"
   ]
  },
  {
   "cell_type": "code",
   "execution_count": 6,
   "metadata": {
    "pycharm": {
     "name": "#%%\n"
    }
   },
   "outputs": [
    {
     "data": {
      "text/html": [
       "<div>\n",
       "<style scoped>\n",
       "    .dataframe tbody tr th:only-of-type {\n",
       "        vertical-align: middle;\n",
       "    }\n",
       "\n",
       "    .dataframe tbody tr th {\n",
       "        vertical-align: top;\n",
       "    }\n",
       "\n",
       "    .dataframe thead th {\n",
       "        text-align: right;\n",
       "    }\n",
       "</style>\n",
       "<table border=\"1\" class=\"dataframe\">\n",
       "  <thead>\n",
       "    <tr style=\"text-align: right;\">\n",
       "      <th></th>\n",
       "      <th>Product ID</th>\n",
       "      <th>Quality</th>\n",
       "      <th>Ambient T (C)</th>\n",
       "      <th>Process T (C)</th>\n",
       "      <th>Rotation Speed (rpm)</th>\n",
       "      <th>Torque (Nm)</th>\n",
       "      <th>Tool Wear (min)</th>\n",
       "      <th>Machine Status</th>\n",
       "    </tr>\n",
       "    <tr>\n",
       "      <th>Unique ID</th>\n",
       "      <th></th>\n",
       "      <th></th>\n",
       "      <th></th>\n",
       "      <th></th>\n",
       "      <th></th>\n",
       "      <th></th>\n",
       "      <th></th>\n",
       "      <th></th>\n",
       "    </tr>\n",
       "  </thead>\n",
       "  <tbody>\n",
       "    <tr>\n",
       "      <th>7</th>\n",
       "      <td>K40563</td>\n",
       "      <td>L</td>\n",
       "      <td>24.95</td>\n",
       "      <td>NaN</td>\n",
       "      <td>NaN</td>\n",
       "      <td>42.4</td>\n",
       "      <td>14</td>\n",
       "      <td>0</td>\n",
       "    </tr>\n",
       "    <tr>\n",
       "      <th>11</th>\n",
       "      <td>K30974</td>\n",
       "      <td>NaN</td>\n",
       "      <td>25.25</td>\n",
       "      <td>35.75</td>\n",
       "      <td>1782.0</td>\n",
       "      <td>23.9</td>\n",
       "      <td>24</td>\n",
       "      <td>0</td>\n",
       "    </tr>\n",
       "    <tr>\n",
       "      <th>15</th>\n",
       "      <td>T39889</td>\n",
       "      <td>NaN</td>\n",
       "      <td>25.45</td>\n",
       "      <td>36.05</td>\n",
       "      <td>2035.0</td>\n",
       "      <td>19.6</td>\n",
       "      <td>40</td>\n",
       "      <td>0</td>\n",
       "    </tr>\n",
       "    <tr>\n",
       "      <th>20</th>\n",
       "      <td>T81915</td>\n",
       "      <td>M</td>\n",
       "      <td>25.75</td>\n",
       "      <td>NaN</td>\n",
       "      <td>1632.0</td>\n",
       "      <td>32.5</td>\n",
       "      <td>55</td>\n",
       "      <td>0</td>\n",
       "    </tr>\n",
       "    <tr>\n",
       "      <th>21</th>\n",
       "      <td>S64787</td>\n",
       "      <td>H</td>\n",
       "      <td>25.75</td>\n",
       "      <td>36.15</td>\n",
       "      <td>NaN</td>\n",
       "      <td>42.7</td>\n",
       "      <td>58</td>\n",
       "      <td>0</td>\n",
       "    </tr>\n",
       "    <tr>\n",
       "      <th>...</th>\n",
       "      <td>...</td>\n",
       "      <td>...</td>\n",
       "      <td>...</td>\n",
       "      <td>...</td>\n",
       "      <td>...</td>\n",
       "      <td>...</td>\n",
       "      <td>...</td>\n",
       "      <td>...</td>\n",
       "    </tr>\n",
       "    <tr>\n",
       "      <th>19982</th>\n",
       "      <td>Z53954</td>\n",
       "      <td>L</td>\n",
       "      <td>25.65</td>\n",
       "      <td>NaN</td>\n",
       "      <td>1353.0</td>\n",
       "      <td>47.0</td>\n",
       "      <td>190</td>\n",
       "      <td>0</td>\n",
       "    </tr>\n",
       "    <tr>\n",
       "      <th>19987</th>\n",
       "      <td>S13645</td>\n",
       "      <td>M</td>\n",
       "      <td>25.75</td>\n",
       "      <td>35.55</td>\n",
       "      <td>NaN</td>\n",
       "      <td>42.3</td>\n",
       "      <td>207</td>\n",
       "      <td>0</td>\n",
       "    </tr>\n",
       "    <tr>\n",
       "      <th>19992</th>\n",
       "      <td>T72209</td>\n",
       "      <td>M</td>\n",
       "      <td>25.85</td>\n",
       "      <td>35.35</td>\n",
       "      <td>NaN</td>\n",
       "      <td>26.1</td>\n",
       "      <td>5</td>\n",
       "      <td>0</td>\n",
       "    </tr>\n",
       "    <tr>\n",
       "      <th>19996</th>\n",
       "      <td>T87335</td>\n",
       "      <td>M</td>\n",
       "      <td>25.75</td>\n",
       "      <td>35.35</td>\n",
       "      <td>NaN</td>\n",
       "      <td>29.5</td>\n",
       "      <td>14</td>\n",
       "      <td>0</td>\n",
       "    </tr>\n",
       "    <tr>\n",
       "      <th>19998</th>\n",
       "      <td>T83921</td>\n",
       "      <td>M</td>\n",
       "      <td>25.95</td>\n",
       "      <td>NaN</td>\n",
       "      <td>NaN</td>\n",
       "      <td>33.4</td>\n",
       "      <td>22</td>\n",
       "      <td>0</td>\n",
       "    </tr>\n",
       "  </tbody>\n",
       "</table>\n",
       "<p>2471 rows × 8 columns</p>\n",
       "</div>"
      ],
      "text/plain": [
       "          Product ID Quality  Ambient T (C)  Process T (C)  \\\n",
       "Unique ID                                                    \n",
       "7             K40563       L          24.95            NaN   \n",
       "11            K30974     NaN          25.25          35.75   \n",
       "15            T39889     NaN          25.45          36.05   \n",
       "20            T81915       M          25.75            NaN   \n",
       "21            S64787       H          25.75          36.15   \n",
       "...              ...     ...            ...            ...   \n",
       "19982         Z53954       L          25.65            NaN   \n",
       "19987         S13645       M          25.75          35.55   \n",
       "19992         T72209       M          25.85          35.35   \n",
       "19996         T87335       M          25.75          35.35   \n",
       "19998         T83921       M          25.95            NaN   \n",
       "\n",
       "           Rotation Speed (rpm)  Torque (Nm)  Tool Wear (min)  Machine Status  \n",
       "Unique ID                                                                      \n",
       "7                           NaN         42.4               14               0  \n",
       "11                       1782.0         23.9               24               0  \n",
       "15                       2035.0         19.6               40               0  \n",
       "20                       1632.0         32.5               55               0  \n",
       "21                          NaN         42.7               58               0  \n",
       "...                         ...          ...              ...             ...  \n",
       "19982                    1353.0         47.0              190               0  \n",
       "19987                       NaN         42.3              207               0  \n",
       "19992                       NaN         26.1                5               0  \n",
       "19996                       NaN         29.5               14               0  \n",
       "19998                       NaN         33.4               22               0  \n",
       "\n",
       "[2471 rows x 8 columns]"
      ]
     },
     "execution_count": 6,
     "metadata": {},
     "output_type": "execute_result"
    }
   ],
   "source": [
    "machineDf[machineDf.isnull().any(axis=1)]"
   ]
  },
  {
   "cell_type": "code",
   "execution_count": 7,
   "metadata": {
    "pycharm": {
     "name": "#%%\n"
    }
   },
   "outputs": [
    {
     "data": {
      "text/plain": [
       "<AxesSubplot:title={'center':'Number of missing value in features'}>"
      ]
     },
     "execution_count": 7,
     "metadata": {},
     "output_type": "execute_result"
    },
    {
     "name": "stderr",
     "output_type": "stream",
     "text": [
      "findfont: Font family ['sans-serif'] not found. Falling back to DejaVu Sans.\n",
      "findfont: Generic family 'sans-serif' not found because none of the following families were found: Arial, Liberation Sans, Bitstream Vera Sans, sans-serif\n",
      "findfont: Font family ['sans-serif'] not found. Falling back to DejaVu Sans.\n",
      "findfont: Generic family 'sans-serif' not found because none of the following families were found: Arial, Liberation Sans, Bitstream Vera Sans, sans-serif\n"
     ]
    },
    {
     "data": {
      "image/png": "[encoded data removed]",
      "text/plain": [
       "<Figure size 432x288 with 1 Axes>"
      ]
     },
     "metadata": {
      "needs_background": "light"
     },
     "output_type": "display_data"
    }
   ],
   "source": [
    "machineDf.isna().sum().sort_values().plot.barh(title='Number of missing value in features')"
   ]
  },
  {
   "cell_type": "code",
   "execution_count": 8,
   "metadata": {
    "pycharm": {
     "name": "#%%\n"
    }
   },
   "outputs": [
    {
     "name": "stderr",
     "output_type": "stream",
     "text": [
      "findfont: Font family ['sans-serif'] not found. Falling back to DejaVu Sans.\n",
      "findfont: Generic family 'sans-serif' not found because none of the following families were found: Arial, Liberation Sans, Bitstream Vera Sans, sans-serif\n"
     ]
    },
    {
     "data": {
      "image/png": "[encoded data removed]",
      "text/plain": [
       "<Figure size 432x288 with 1 Axes>"
      ]
     },
     "metadata": {
      "needs_background": "light"
     },
     "output_type": "display_data"
    }
   ],
   "source": [
    "import seaborn as sns\n",
    "sns.heatmap(machineDf.isnull(), cbar=False)\n",
    "plt.show()"
   ]
  },
  {
   "cell_type": "code",
   "execution_count": 9,
   "metadata": {
    "pycharm": {
     "name": "#%%\n"
    }
   },
   "outputs": [
    {
     "data": {
      "text/plain": [
       "<AxesSubplot:>"
      ]
     },
     "execution_count": 9,
     "metadata": {},
     "output_type": "execute_result"
    },
    {
     "name": "stderr",
     "output_type": "stream",
     "text": [
      "findfont: Font family ['sans-serif'] not found. Falling back to DejaVu Sans.\n",
      "findfont: Generic family 'sans-serif' not found because none of the following families were found: Arial, Liberation Sans, Bitstream Vera Sans, sans-serif\n",
      "findfont: Font family ['sans-serif'] not found. Falling back to DejaVu Sans.\n",
      "findfont: Generic family 'sans-serif' not found because none of the following families were found: Arial, Liberation Sans, Bitstream Vera Sans, sans-serif\n",
      "findfont: Font family ['sans-serif'] not found. Falling back to DejaVu Sans.\n",
      "findfont: Generic family 'sans-serif' not found because none of the following families were found: Arial, Liberation Sans, Bitstream Vera Sans, sans-serif\n"
     ]
    },
    {
     "data": {
      "image/png": "[encoded data removed]",
      "text/plain": [
       "<Figure size 1800x720 with 2 Axes>"
      ]
     },
     "metadata": {
      "needs_background": "light"
     },
     "output_type": "display_data"
    }
   ],
   "source": [
    "import missingno as msno\n",
    "msno.matrix(machineDf)"
   ]
  },
  {
   "cell_type": "code",
   "execution_count": 10,
   "metadata": {
    "pycharm": {
     "name": "#%%\n"
    }
   },
   "outputs": [
    {
     "data": {
      "text/plain": [
       "<AxesSubplot:>"
      ]
     },
     "execution_count": 10,
     "metadata": {},
     "output_type": "execute_result"
    },
    {
     "data": {
      "image/png": "[encoded data removed]",
      "text/plain": [
       "<Figure size 1440x864 with 2 Axes>"
      ]
     },
     "metadata": {
      "needs_background": "light"
     },
     "output_type": "display_data"
    }
   ],
   "source": [
    "msno.heatmap(machineDf)"
   ]
  },
  {
   "cell_type": "markdown",
   "metadata": {
    "pycharm": {
     "name": "#%% md\n"
    }
   },
   "source": [
    "### Target Label"
   ]
  },
  {
   "cell_type": "code",
   "execution_count": 11,
   "metadata": {
    "pycharm": {
     "name": "#%%\n"
    }
   },
   "outputs": [
    {
     "data": {
      "text/plain": [
       "Text(0.5, 1.0, 'Distribution of target label')"
      ]
     },
     "execution_count": 11,
     "metadata": {},
     "output_type": "execute_result"
    },
    {
     "data": {
      "image/png": "[encoded data removed]",
      "text/plain": [
       "<Figure size 432x288 with 1 Axes>"
      ]
     },
     "metadata": {
      "needs_background": "light"
     },
     "output_type": "display_data"
    }
   ],
   "source": [
    "sns.countplot(data=machineDf,x='Machine Status').set_title(\"Distribution of target label\")"
   ]
  },
  {
   "cell_type": "markdown",
   "metadata": {
    "pycharm": {
     "name": "#%% md\n"
    }
   },
   "source": [
    "### Qualitative Features"
   ]
  },
  {
   "cell_type": "code",
   "execution_count": 12,
   "metadata": {
    "pycharm": {
     "name": "#%%\n"
    }
   },
   "outputs": [],
   "source": [
    "qualitativeVariable=['Product ID', 'Quality']"
   ]
  },
  {
   "cell_type": "markdown",
   "metadata": {
    "pycharm": {
     "name": "#%% md\n"
    }
   },
   "source": [
    "### Qualitative Features"
   ]
  },
  {
   "cell_type": "code",
   "execution_count": 13,
   "metadata": {
    "pycharm": {
     "name": "#%%\n"
    }
   },
   "outputs": [],
   "source": [
    "quantitativeVariable=['Ambient T (C)', 'Process T (C)',\n",
    "       'Rotation Speed (rpm)', 'Torque (Nm)', 'Tool Wear (min)']"
   ]
  },
  {
   "cell_type": "markdown",
   "metadata": {
    "pycharm": {
     "name": "#%% md\n"
    }
   },
   "source": [
    "### Univariate Analysis"
   ]
  },
  {
   "cell_type": "code",
   "execution_count": 14,
   "metadata": {
    "pycharm": {
     "name": "#%%\n"
    }
   },
   "outputs": [
    {
     "data": {
      "text/html": [
       "<div>\n",
       "<style scoped>\n",
       "    .dataframe tbody tr th:only-of-type {\n",
       "        vertical-align: middle;\n",
       "    }\n",
       "\n",
       "    .dataframe tbody tr th {\n",
       "        vertical-align: top;\n",
       "    }\n",
       "\n",
       "    .dataframe thead th {\n",
       "        text-align: right;\n",
       "    }\n",
       "</style>\n",
       "<table border=\"1\" class=\"dataframe\">\n",
       "  <thead>\n",
       "    <tr style=\"text-align: right;\">\n",
       "      <th></th>\n",
       "      <th>Ambient T (C)</th>\n",
       "      <th>Process T (C)</th>\n",
       "      <th>Rotation Speed (rpm)</th>\n",
       "      <th>Torque (Nm)</th>\n",
       "      <th>Tool Wear (min)</th>\n",
       "    </tr>\n",
       "  </thead>\n",
       "  <tbody>\n",
       "    <tr>\n",
       "      <th>count</th>\n",
       "      <td>20000.000000</td>\n",
       "      <td>19600.000000</td>\n",
       "      <td>18812.000000</td>\n",
       "      <td>20000.000000</td>\n",
       "      <td>20000.000000</td>\n",
       "    </tr>\n",
       "    <tr>\n",
       "      <th>mean</th>\n",
       "      <td>26.904930</td>\n",
       "      <td>36.904291</td>\n",
       "      <td>1538.795397</td>\n",
       "      <td>39.986910</td>\n",
       "      <td>107.951000</td>\n",
       "    </tr>\n",
       "    <tr>\n",
       "      <th>std</th>\n",
       "      <td>2.000834</td>\n",
       "      <td>1.483647</td>\n",
       "      <td>178.674963</td>\n",
       "      <td>9.968684</td>\n",
       "      <td>63.652555</td>\n",
       "    </tr>\n",
       "    <tr>\n",
       "      <th>min</th>\n",
       "      <td>22.150000</td>\n",
       "      <td>32.550000</td>\n",
       "      <td>1168.000000</td>\n",
       "      <td>3.800000</td>\n",
       "      <td>0.000000</td>\n",
       "    </tr>\n",
       "    <tr>\n",
       "      <th>25%</th>\n",
       "      <td>25.250000</td>\n",
       "      <td>35.750000</td>\n",
       "      <td>1423.000000</td>\n",
       "      <td>33.200000</td>\n",
       "      <td>53.000000</td>\n",
       "    </tr>\n",
       "    <tr>\n",
       "      <th>50%</th>\n",
       "      <td>26.950000</td>\n",
       "      <td>36.950000</td>\n",
       "      <td>1503.000000</td>\n",
       "      <td>40.100000</td>\n",
       "      <td>108.000000</td>\n",
       "    </tr>\n",
       "    <tr>\n",
       "      <th>75%</th>\n",
       "      <td>28.450000</td>\n",
       "      <td>37.950000</td>\n",
       "      <td>1613.000000</td>\n",
       "      <td>46.800000</td>\n",
       "      <td>162.000000</td>\n",
       "    </tr>\n",
       "    <tr>\n",
       "      <th>max</th>\n",
       "      <td>31.450000</td>\n",
       "      <td>40.750000</td>\n",
       "      <td>2886.000000</td>\n",
       "      <td>76.600000</td>\n",
       "      <td>253.000000</td>\n",
       "    </tr>\n",
       "  </tbody>\n",
       "</table>\n",
       "</div>"
      ],
      "text/plain": [
       "       Ambient T (C)  Process T (C)  Rotation Speed (rpm)   Torque (Nm)  \\\n",
       "count   20000.000000   19600.000000          18812.000000  20000.000000   \n",
       "mean       26.904930      36.904291           1538.795397     39.986910   \n",
       "std         2.000834       1.483647            178.674963      9.968684   \n",
       "min        22.150000      32.550000           1168.000000      3.800000   \n",
       "25%        25.250000      35.750000           1423.000000     33.200000   \n",
       "50%        26.950000      36.950000           1503.000000     40.100000   \n",
       "75%        28.450000      37.950000           1613.000000     46.800000   \n",
       "max        31.450000      40.750000           2886.000000     76.600000   \n",
       "\n",
       "       Tool Wear (min)  \n",
       "count     20000.000000  \n",
       "mean        107.951000  \n",
       "std          63.652555  \n",
       "min           0.000000  \n",
       "25%          53.000000  \n",
       "50%         108.000000  \n",
       "75%         162.000000  \n",
       "max         253.000000  "
      ]
     },
     "execution_count": 14,
     "metadata": {},
     "output_type": "execute_result"
    }
   ],
   "source": [
    "machineDf[quantitativeVariable].describe()"
   ]
  },
  {
   "cell_type": "code",
   "execution_count": 15,
   "metadata": {
    "pycharm": {
     "name": "#%%\n"
    }
   },
   "outputs": [
    {
     "data": {
      "text/html": [
       "<div>\n",
       "<style scoped>\n",
       "    .dataframe tbody tr th:only-of-type {\n",
       "        vertical-align: middle;\n",
       "    }\n",
       "\n",
       "    .dataframe tbody tr th {\n",
       "        vertical-align: top;\n",
       "    }\n",
       "\n",
       "    .dataframe thead th {\n",
       "        text-align: right;\n",
       "    }\n",
       "</style>\n",
       "<table border=\"1\" class=\"dataframe\">\n",
       "  <thead>\n",
       "    <tr style=\"text-align: right;\">\n",
       "      <th></th>\n",
       "      <th>count</th>\n",
       "      <th>unique</th>\n",
       "      <th>top</th>\n",
       "      <th>freq</th>\n",
       "      <th>Proportion of Most Frequent Value</th>\n",
       "    </tr>\n",
       "  </thead>\n",
       "  <tbody>\n",
       "    <tr>\n",
       "      <th>Machine Status</th>\n",
       "      <td>20000</td>\n",
       "      <td>2</td>\n",
       "      <td>0</td>\n",
       "      <td>19322</td>\n",
       "      <td>96.61</td>\n",
       "    </tr>\n",
       "    <tr>\n",
       "      <th>Quality</th>\n",
       "      <td>19009</td>\n",
       "      <td>3</td>\n",
       "      <td>L</td>\n",
       "      <td>11390</td>\n",
       "      <td>56.95</td>\n",
       "    </tr>\n",
       "    <tr>\n",
       "      <th>Process T (C)</th>\n",
       "      <td>19600.0</td>\n",
       "      <td>83.0</td>\n",
       "      <td>37.45</td>\n",
       "      <td>575.0</td>\n",
       "      <td>2.875</td>\n",
       "    </tr>\n",
       "    <tr>\n",
       "      <th>Ambient T (C)</th>\n",
       "      <td>20000.0</td>\n",
       "      <td>94.0</td>\n",
       "      <td>27.55</td>\n",
       "      <td>495.0</td>\n",
       "      <td>2.475</td>\n",
       "    </tr>\n",
       "    <tr>\n",
       "      <th>Tool Wear (min)</th>\n",
       "      <td>20000</td>\n",
       "      <td>246</td>\n",
       "      <td>0</td>\n",
       "      <td>240</td>\n",
       "      <td>1.2</td>\n",
       "    </tr>\n",
       "    <tr>\n",
       "      <th>Torque (Nm)</th>\n",
       "      <td>20000.0</td>\n",
       "      <td>577.0</td>\n",
       "      <td>40.2</td>\n",
       "      <td>104.0</td>\n",
       "      <td>0.52</td>\n",
       "    </tr>\n",
       "    <tr>\n",
       "      <th>Rotation Speed (rpm)</th>\n",
       "      <td>18812.0</td>\n",
       "      <td>941.0</td>\n",
       "      <td>1452.0</td>\n",
       "      <td>93.0</td>\n",
       "      <td>0.465</td>\n",
       "    </tr>\n",
       "    <tr>\n",
       "      <th>Product ID</th>\n",
       "      <td>20000</td>\n",
       "      <td>19408</td>\n",
       "      <td>K34631</td>\n",
       "      <td>3</td>\n",
       "      <td>0.015</td>\n",
       "    </tr>\n",
       "  </tbody>\n",
       "</table>\n",
       "</div>"
      ],
      "text/plain": [
       "                        count unique     top   freq  \\\n",
       "Machine Status          20000      2       0  19322   \n",
       "Quality                 19009      3       L  11390   \n",
       "Process T (C)         19600.0   83.0   37.45  575.0   \n",
       "Ambient T (C)         20000.0   94.0   27.55  495.0   \n",
       "Tool Wear (min)         20000    246       0    240   \n",
       "Torque (Nm)           20000.0  577.0    40.2  104.0   \n",
       "Rotation Speed (rpm)  18812.0  941.0  1452.0   93.0   \n",
       "Product ID              20000  19408  K34631      3   \n",
       "\n",
       "                     Proportion of Most Frequent Value  \n",
       "Machine Status                                   96.61  \n",
       "Quality                                          56.95  \n",
       "Process T (C)                                    2.875  \n",
       "Ambient T (C)                                    2.475  \n",
       "Tool Wear (min)                                    1.2  \n",
       "Torque (Nm)                                       0.52  \n",
       "Rotation Speed (rpm)                             0.465  \n",
       "Product ID                                       0.015  "
      ]
     },
     "execution_count": 15,
     "metadata": {},
     "output_type": "execute_result"
    }
   ],
   "source": [
    "descriptive_stats = machineDf.astype('category').describe().T\n",
    "descriptive_stats[\"Proportion of Most Frequent Value\"] = descriptive_stats[\"freq\"] / len(machineDf.astype('category')) * 100\n",
    "descriptive_stats.sort_values(\"Proportion of Most Frequent Value\", ascending=False)"
   ]
  },
  {
   "cell_type": "code",
   "execution_count": 16,
   "metadata": {
    "pycharm": {
     "name": "#%%\n"
    }
   },
   "outputs": [
    {
     "data": {
      "text/plain": [
       "<AxesSubplot:xlabel='Quality', ylabel='count'>"
      ]
     },
     "execution_count": 16,
     "metadata": {},
     "output_type": "execute_result"
    },
    {
     "data": {
      "image/png": "[encoded data removed]",
      "text/plain": [
       "<Figure size 432x288 with 1 Axes>"
      ]
     },
     "metadata": {
      "needs_background": "light"
     },
     "output_type": "display_data"
    }
   ],
   "source": [
    "sns.countplot(x='Quality',data=machineDf,)"
   ]
  },
  {
   "cell_type": "code",
   "execution_count": 17,
   "metadata": {
    "pycharm": {
     "name": "#%%\n"
    }
   },
   "outputs": [
    {
     "data": {
      "text/plain": [
       "array([[<AxesSubplot:title={'center':'Ambient T (C)'}>,\n",
       "        <AxesSubplot:title={'center':'Process T (C)'}>],\n",
       "       [<AxesSubplot:title={'center':'Rotation Speed (rpm)'}>,\n",
       "        <AxesSubplot:title={'center':'Torque (Nm)'}>],\n",
       "       [<AxesSubplot:title={'center':'Tool Wear (min)'}>, <AxesSubplot:>]],\n",
       "      dtype=object)"
      ]
     },
     "execution_count": 17,
     "metadata": {},
     "output_type": "execute_result"
    },
    {
     "data": {
      "image/png": "[encoded data removed]",
      "text/plain": [
       "<Figure size 720x576 with 6 Axes>"
      ]
     },
     "metadata": {
      "needs_background": "light"
     },
     "output_type": "display_data"
    }
   ],
   "source": [
    "machineDf[quantitativeVariable].hist(figsize=(10,8))"
   ]
  },
  {
   "cell_type": "code",
   "execution_count": 18,
   "metadata": {
    "pycharm": {
     "name": "#%%\n"
    }
   },
   "outputs": [
    {
     "data": {
      "image/png": "[encoded data removed]",
      "text/plain": [
       "<Figure size 576x1080 with 5 Axes>"
      ]
     },
     "metadata": {
      "needs_background": "light"
     },
     "output_type": "display_data"
    }
   ],
   "source": [
    "fig, ax = plt.subplots(len(quantitativeVariable), 1, figsize=(8, 15), tight_layout=True)\n",
    "for idx, feature in enumerate(quantitativeVariable):\n",
    "    sns.boxplot(data=machineDf, x=feature, ax = ax[idx])\n",
    "fig.show()"
   ]
  },
  {
   "cell_type": "code",
   "execution_count": 19,
   "metadata": {
    "pycharm": {
     "name": "#%%\n"
    }
   },
   "outputs": [
    {
     "data": {
      "text/html": [
       "<div>\n",
       "<style scoped>\n",
       "    .dataframe tbody tr th:only-of-type {\n",
       "        vertical-align: middle;\n",
       "    }\n",
       "\n",
       "    .dataframe tbody tr th {\n",
       "        vertical-align: top;\n",
       "    }\n",
       "\n",
       "    .dataframe thead th {\n",
       "        text-align: right;\n",
       "    }\n",
       "</style>\n",
       "<table border=\"1\" class=\"dataframe\">\n",
       "  <thead>\n",
       "    <tr style=\"text-align: right;\">\n",
       "      <th></th>\n",
       "      <th>Ambient T (C)</th>\n",
       "      <th>Process T (C)</th>\n",
       "      <th>Rotation Speed (rpm)</th>\n",
       "      <th>Torque (Nm)</th>\n",
       "      <th>Tool Wear (min)</th>\n",
       "      <th>Machine Status</th>\n",
       "    </tr>\n",
       "  </thead>\n",
       "  <tbody>\n",
       "    <tr>\n",
       "      <th>count</th>\n",
       "      <td>771.000000</td>\n",
       "      <td>757.000000</td>\n",
       "      <td>771.000000</td>\n",
       "      <td>771.000000</td>\n",
       "      <td>771.000000</td>\n",
       "      <td>771.000000</td>\n",
       "    </tr>\n",
       "    <tr>\n",
       "      <th>mean</th>\n",
       "      <td>27.163230</td>\n",
       "      <td>37.031242</td>\n",
       "      <td>2103.333333</td>\n",
       "      <td>18.846174</td>\n",
       "      <td>107.712062</td>\n",
       "      <td>0.084306</td>\n",
       "    </tr>\n",
       "    <tr>\n",
       "      <th>std</th>\n",
       "      <td>2.062808</td>\n",
       "      <td>1.507887</td>\n",
       "      <td>216.956317</td>\n",
       "      <td>3.588364</td>\n",
       "      <td>65.390417</td>\n",
       "      <td>0.278027</td>\n",
       "    </tr>\n",
       "    <tr>\n",
       "      <th>min</th>\n",
       "      <td>22.450000</td>\n",
       "      <td>32.850000</td>\n",
       "      <td>1899.000000</td>\n",
       "      <td>3.800000</td>\n",
       "      <td>0.000000</td>\n",
       "      <td>0.000000</td>\n",
       "    </tr>\n",
       "    <tr>\n",
       "      <th>25%</th>\n",
       "      <td>25.350000</td>\n",
       "      <td>35.950000</td>\n",
       "      <td>1950.500000</td>\n",
       "      <td>16.800000</td>\n",
       "      <td>45.000000</td>\n",
       "      <td>0.000000</td>\n",
       "    </tr>\n",
       "    <tr>\n",
       "      <th>50%</th>\n",
       "      <td>27.450000</td>\n",
       "      <td>37.250000</td>\n",
       "      <td>2016.000000</td>\n",
       "      <td>19.700000</td>\n",
       "      <td>110.000000</td>\n",
       "      <td>0.000000</td>\n",
       "    </tr>\n",
       "    <tr>\n",
       "      <th>75%</th>\n",
       "      <td>28.750000</td>\n",
       "      <td>38.050000</td>\n",
       "      <td>2182.000000</td>\n",
       "      <td>21.500000</td>\n",
       "      <td>165.000000</td>\n",
       "      <td>0.000000</td>\n",
       "    </tr>\n",
       "    <tr>\n",
       "      <th>max</th>\n",
       "      <td>31.250000</td>\n",
       "      <td>40.650000</td>\n",
       "      <td>2886.000000</td>\n",
       "      <td>25.000000</td>\n",
       "      <td>244.000000</td>\n",
       "      <td>1.000000</td>\n",
       "    </tr>\n",
       "  </tbody>\n",
       "</table>\n",
       "</div>"
      ],
      "text/plain": [
       "       Ambient T (C)  Process T (C)  Rotation Speed (rpm)  Torque (Nm)  \\\n",
       "count     771.000000     757.000000            771.000000   771.000000   \n",
       "mean       27.163230      37.031242           2103.333333    18.846174   \n",
       "std         2.062808       1.507887            216.956317     3.588364   \n",
       "min        22.450000      32.850000           1899.000000     3.800000   \n",
       "25%        25.350000      35.950000           1950.500000    16.800000   \n",
       "50%        27.450000      37.250000           2016.000000    19.700000   \n",
       "75%        28.750000      38.050000           2182.000000    21.500000   \n",
       "max        31.250000      40.650000           2886.000000    25.000000   \n",
       "\n",
       "       Tool Wear (min)  Machine Status  \n",
       "count       771.000000      771.000000  \n",
       "mean        107.712062        0.084306  \n",
       "std          65.390417        0.278027  \n",
       "min           0.000000        0.000000  \n",
       "25%          45.000000        0.000000  \n",
       "50%         110.000000        0.000000  \n",
       "75%         165.000000        0.000000  \n",
       "max         244.000000        1.000000  "
      ]
     },
     "execution_count": 19,
     "metadata": {},
     "output_type": "execute_result"
    }
   ],
   "source": [
    "Q1 = machineDf['Rotation Speed (rpm)'].quantile(0.25)\n",
    "Q3 = machineDf['Rotation Speed (rpm)'].quantile(0.75)\n",
    "IQR = Q3 - Q1\n",
    "machineDf[machineDf['Rotation Speed (rpm)'] >Q3 + 1.5 * IQR].describe()"
   ]
  },
  {
   "cell_type": "code",
   "execution_count": 20,
   "metadata": {
    "pycharm": {
     "name": "#%%\n"
    }
   },
   "outputs": [
    {
     "data": {
      "text/plain": [
       "Text(0.5, 1.0, 'Relationship between Torque and Rotation Speed')"
      ]
     },
     "execution_count": 20,
     "metadata": {},
     "output_type": "execute_result"
    },
    {
     "data": {
      "image/png": "[encoded data removed]",
      "text/plain": [
       "<Figure size 432x288 with 1 Axes>"
      ]
     },
     "metadata": {
      "needs_background": "light"
     },
     "output_type": "display_data"
    }
   ],
   "source": [
    "sns.scatterplot(x='Rotation Speed (rpm)',y='Torque (Nm)',data=machineDf).set_title('Relationship between Torque and Rotation Speed')"
   ]
  },
  {
   "cell_type": "markdown",
   "metadata": {
    "pycharm": {
     "name": "#%% md\n"
    }
   },
   "source": [
    "### Bivariate Analysis"
   ]
  },
  {
   "cell_type": "code",
   "execution_count": 21,
   "metadata": {
    "pycharm": {
     "name": "#%%\n"
    }
   },
   "outputs": [],
   "source": [
    "# fig, ax = plt.subplots(len(quantitativeVariable), 1, figsize=(8, 15), tight_layout=True)\n",
    "# for idx, feature in enumerate(quantitativeVariable):\n",
    "\n",
    "#     sns.histplot(data=machineDf,common_norm = False,stat='density', x=feature, hue=\"Machine Status\",ax=ax[idx],kde=True)\n",
    "# fig.show()"
   ]
  },
  {
   "cell_type": "code",
   "execution_count": 22,
   "metadata": {
    "pycharm": {
     "name": "#%%\n"
    }
   },
   "outputs": [],
   "source": [
    "\n",
    "# sns.histplot(data=machineDf,common_norm = False,stat='density', x='Quality', hue=\"Machine Status\")\n"
   ]
  },
  {
   "cell_type": "code",
   "execution_count": 23,
   "metadata": {
    "pycharm": {
     "name": "#%%\n"
    }
   },
   "outputs": [
    {
     "data": {
      "text/plain": [
       "<AxesSubplot:xlabel='Quality', ylabel='count'>"
      ]
     },
     "execution_count": 23,
     "metadata": {},
     "output_type": "execute_result"
    },
    {
     "data": {
      "image/png": "[encoded data removed]",
      "text/plain": [
       "<Figure size 432x288 with 1 Axes>"
      ]
     },
     "metadata": {
      "needs_background": "light"
     },
     "output_type": "display_data"
    }
   ],
   "source": [
    "sns.countplot(data=machineDf[machineDf['Machine Status']>0],x='Quality')"
   ]
  },
  {
   "cell_type": "code",
   "execution_count": 24,
   "metadata": {
    "pycharm": {
     "name": "#%%\n"
    }
   },
   "outputs": [],
   "source": [
    "# sns.pairplot(machineDf, hue=\"Machine Status\")"
   ]
  },
  {
   "cell_type": "code",
   "execution_count": 25,
   "metadata": {
    "pycharm": {
     "name": "#%%\n"
    }
   },
   "outputs": [],
   "source": [
    "# corr_matrix = machineDf.phik_matrix()\n",
    "\n",
    "# sns.heatmap(corr_matrix, annot = True, linewidths=.5,center = 0,cmap=\"crest\").set_title('Correlation Matrix')"
   ]
  },
  {
   "cell_type": "code",
   "execution_count": 26,
   "metadata": {
    "pycharm": {
     "name": "#%%\n"
    }
   },
   "outputs": [],
   "source": [
    "machineDf=machineDf.drop('Product ID',axis=1)"
   ]
  },
  {
   "cell_type": "markdown",
   "metadata": {
    "pycharm": {
     "name": "#%% md\n"
    }
   },
   "source": [
    "## Data-Processing"
   ]
  },
  {
   "cell_type": "markdown",
   "metadata": {
    "pycharm": {
     "name": "#%% md\n"
    }
   },
   "source": []
  },
  {
   "cell_type": "markdown",
   "metadata": {
    "pycharm": {
     "name": "#%% md\n"
    }
   },
   "source": [
    "### Missing data imputation"
   ]
  },
  {
   "cell_type": "markdown",
   "metadata": {
    "pycharm": {
     "name": "#%% md\n"
    }
   },
   "source": [
    "## Training and testing data"
   ]
  },
  {
   "cell_type": "code",
   "execution_count": 27,
   "metadata": {
    "pycharm": {
     "name": "#%%\n"
    }
   },
   "outputs": [
    {
     "data": {
      "text/html": [
       "<div>\n",
       "<style scoped>\n",
       "    .dataframe tbody tr th:only-of-type {\n",
       "        vertical-align: middle;\n",
       "    }\n",
       "\n",
       "    .dataframe tbody tr th {\n",
       "        vertical-align: top;\n",
       "    }\n",
       "\n",
       "    .dataframe thead th {\n",
       "        text-align: right;\n",
       "    }\n",
       "</style>\n",
       "<table border=\"1\" class=\"dataframe\">\n",
       "  <thead>\n",
       "    <tr style=\"text-align: right;\">\n",
       "      <th></th>\n",
       "      <th>Quality</th>\n",
       "      <th>Ambient T (C)</th>\n",
       "      <th>Process T (C)</th>\n",
       "      <th>Rotation Speed (rpm)</th>\n",
       "      <th>Torque (Nm)</th>\n",
       "      <th>Tool Wear (min)</th>\n",
       "    </tr>\n",
       "    <tr>\n",
       "      <th>Unique ID</th>\n",
       "      <th></th>\n",
       "      <th></th>\n",
       "      <th></th>\n",
       "      <th></th>\n",
       "      <th></th>\n",
       "      <th></th>\n",
       "    </tr>\n",
       "  </thead>\n",
       "  <tbody>\n",
       "    <tr>\n",
       "      <th>12792</th>\n",
       "      <td>H</td>\n",
       "      <td>27.35</td>\n",
       "      <td>36.55</td>\n",
       "      <td>1416.0</td>\n",
       "      <td>43.3</td>\n",
       "      <td>66</td>\n",
       "    </tr>\n",
       "    <tr>\n",
       "      <th>6583</th>\n",
       "      <td>L</td>\n",
       "      <td>28.35</td>\n",
       "      <td>37.35</td>\n",
       "      <td>1528.0</td>\n",
       "      <td>35.7</td>\n",
       "      <td>198</td>\n",
       "    </tr>\n",
       "    <tr>\n",
       "      <th>16874</th>\n",
       "      <td>L</td>\n",
       "      <td>27.95</td>\n",
       "      <td>38.35</td>\n",
       "      <td>1478.0</td>\n",
       "      <td>39.5</td>\n",
       "      <td>75</td>\n",
       "    </tr>\n",
       "    <tr>\n",
       "      <th>11392</th>\n",
       "      <td>L</td>\n",
       "      <td>25.85</td>\n",
       "      <td>37.15</td>\n",
       "      <td>2737.0</td>\n",
       "      <td>8.8</td>\n",
       "      <td>142</td>\n",
       "    </tr>\n",
       "    <tr>\n",
       "      <th>4411</th>\n",
       "      <td>L</td>\n",
       "      <td>29.35</td>\n",
       "      <td>37.05</td>\n",
       "      <td>1586.0</td>\n",
       "      <td>32.2</td>\n",
       "      <td>64</td>\n",
       "    </tr>\n",
       "    <tr>\n",
       "      <th>...</th>\n",
       "      <td>...</td>\n",
       "      <td>...</td>\n",
       "      <td>...</td>\n",
       "      <td>...</td>\n",
       "      <td>...</td>\n",
       "      <td>...</td>\n",
       "    </tr>\n",
       "    <tr>\n",
       "      <th>5303</th>\n",
       "      <td>L</td>\n",
       "      <td>30.75</td>\n",
       "      <td>39.95</td>\n",
       "      <td>1491.0</td>\n",
       "      <td>37.2</td>\n",
       "      <td>195</td>\n",
       "    </tr>\n",
       "    <tr>\n",
       "      <th>15452</th>\n",
       "      <td>L</td>\n",
       "      <td>29.95</td>\n",
       "      <td>39.65</td>\n",
       "      <td>1361.0</td>\n",
       "      <td>48.8</td>\n",
       "      <td>120</td>\n",
       "    </tr>\n",
       "    <tr>\n",
       "      <th>18260</th>\n",
       "      <td>L</td>\n",
       "      <td>26.05</td>\n",
       "      <td>37.45</td>\n",
       "      <td>1471.0</td>\n",
       "      <td>38.4</td>\n",
       "      <td>146</td>\n",
       "    </tr>\n",
       "    <tr>\n",
       "      <th>8028</th>\n",
       "      <td>L</td>\n",
       "      <td>27.45</td>\n",
       "      <td>38.75</td>\n",
       "      <td>NaN</td>\n",
       "      <td>44.9</td>\n",
       "      <td>224</td>\n",
       "    </tr>\n",
       "    <tr>\n",
       "      <th>10500</th>\n",
       "      <td>L</td>\n",
       "      <td>24.45</td>\n",
       "      <td>36.05</td>\n",
       "      <td>1515.0</td>\n",
       "      <td>35.1</td>\n",
       "      <td>213</td>\n",
       "    </tr>\n",
       "  </tbody>\n",
       "</table>\n",
       "<p>16000 rows × 6 columns</p>\n",
       "</div>"
      ],
      "text/plain": [
       "          Quality  Ambient T (C)  Process T (C)  Rotation Speed (rpm)  \\\n",
       "Unique ID                                                               \n",
       "12792           H          27.35          36.55                1416.0   \n",
       "6583            L          28.35          37.35                1528.0   \n",
       "16874           L          27.95          38.35                1478.0   \n",
       "11392           L          25.85          37.15                2737.0   \n",
       "4411            L          29.35          37.05                1586.0   \n",
       "...           ...            ...            ...                   ...   \n",
       "5303            L          30.75          39.95                1491.0   \n",
       "15452           L          29.95          39.65                1361.0   \n",
       "18260           L          26.05          37.45                1471.0   \n",
       "8028            L          27.45          38.75                   NaN   \n",
       "10500           L          24.45          36.05                1515.0   \n",
       "\n",
       "           Torque (Nm)  Tool Wear (min)  \n",
       "Unique ID                                \n",
       "12792             43.3               66  \n",
       "6583              35.7              198  \n",
       "16874             39.5               75  \n",
       "11392              8.8              142  \n",
       "4411              32.2               64  \n",
       "...                ...              ...  \n",
       "5303              37.2              195  \n",
       "15452             48.8              120  \n",
       "18260             38.4              146  \n",
       "8028              44.9              224  \n",
       "10500             35.1              213  \n",
       "\n",
       "[16000 rows x 6 columns]"
      ]
     },
     "execution_count": 27,
     "metadata": {},
     "output_type": "execute_result"
    }
   ],
   "source": [
    "x_train, x_test, y_train, y_test = train_test_split(machineDf. loc[:, machineDf. columns != 'Machine Status'],machineDf['Machine Status'], random_state = 42, stratify=machineDf['Machine Status'], test_size = .20)\n",
    "x_train"
   ]
  },
  {
   "cell_type": "code",
   "execution_count": 28,
   "metadata": {
    "pycharm": {
     "name": "#%%\n"
    }
   },
   "outputs": [],
   "source": [
    "from imblearn.pipeline import make_pipeline\n",
    "from sklearn.preprocessing import StandardScaler\n",
    "from imblearn.over_sampling import SMOTENC, SMOTE"
   ]
  },
  {
   "cell_type": "markdown",
   "metadata": {
    "pycharm": {
     "name": "#%% md\n"
    }
   },
   "source": [
    "## Feature Scaling"
   ]
  },
  {
   "cell_type": "code",
   "execution_count": 29,
   "metadata": {
    "pycharm": {
     "name": "#%%\n"
    }
   },
   "outputs": [],
   "source": [
    "\n",
    "\n",
    "\n",
    "quantitativeTransformer=Pipeline([\n",
    "     ('Normaliser',MinMaxScaler())\n",
    "])\n",
    "categorical_transformers = Pipeline([\n",
    "    ('One Hot Encoder', OneHotEncoder(handle_unknown='ignore'))\n",
    "])\n",
    "data_preprocessing = ColumnTransformer([\n",
    "    ('Preprocess Numerical Features', quantitativeTransformer, [0,1,2,3,4]),\n",
    "       ('Preprocess Categorical Features', categorical_transformers, [5])\n",
    "])"
   ]
  },
  {
   "cell_type": "code",
   "execution_count": null,
   "metadata": {
    "pycharm": {
     "name": "#%%\n"
    }
   },
   "outputs": [],
   "source": [
    "from sklearn.base import BaseEstimator, TransformerMixin\n",
    "\n",
    "\n",
    "class ColumnSelector(BaseEstimator, TransformerMixin):\n",
    "\n",
    "    def __init__(self, dtype):\n",
    "        self.dtype = dtype\n",
    "\n",
    "    def fit(self, X, y=None):\n",
    "        \"\"\" Get either categorical or numerical columns on fit.\n",
    "        Store as attribute for future reference\"\"\"\n",
    "        X = X if isinstance(X, pd.DataFrame) else pd.DataFrame(X)\n",
    "        if self.dtype == 'numerical':\n",
    "            self.cols = X.select_dtypes(exclude='O').columns.tolist()\n",
    "        elif self.dtype == 'categorical':\n",
    "            self.cols = X.select_dtypes(include='O').columns.tolist()\n",
    "        self.col_idx = [machineDf.columns.get_loc(col) for col in self.cols]\n",
    "        return self\n",
    "\n",
    "    def transform(self, X):\n",
    "        \"\"\" Subset columns of chosen data type and return np.array\"\"\"\n",
    "        X = X.values if isinstance(X, pd.DataFrame) else X\n",
    "        return X[:, self.col_idx]"
   ]
  },
  {
   "cell_type": "code",
   "execution_count": null,
   "metadata": {
    "pycharm": {
     "name": "#%%\n"
    }
   },
   "outputs": [],
   "source": [
    "from sklearn.pipeline import FeatureUnion\n",
    "from sklearn.preprocessing import LabelEncoder, OrdinalEncoder\n",
    "from sklearn.experimental import enable_iterative_imputer\n",
    "from sklearn.impute import IterativeImputer\n",
    "from sklearn.ensemble import RandomForestRegressor, RandomForestClassifier\n",
    "categorical = ['Quality']\n",
    "numerical = ['Ambient T (C)', 'Process T (C)',\n",
    "       'Rotation Speed (rpm)', 'Torque (Nm)', 'Tool Wear (min)']\n",
    "\n",
    "\n",
    "\n",
    "num_imp=Pipeline([\n",
    " ('num_selector', ColumnSelector('numerical')),\n",
    " ('Imputation',IterativeImputer(estimator=RandomForestRegressor(n_jobs=-1),\n",
    "                           initial_strategy='mean'\n",
    "                           max_iter=3,skip_complete=True ,random_state=0)),\n",
    "])\n",
    "\n",
    "cat_imp=Pipeline([\n",
    "     ('cat_selector', ColumnSelector('categorical')),\n",
    "     ('One Hot Encoder1', OrdinalEncoder ()),\n",
    "     ('Imputation',IterativeImputer(estimator=RandomForestClassifier(n_jobs=-1),\n",
    "                           initial_strategy='most_frequent',\n",
    "                           max_iter=3,skip_complete=True,random_state=0)),\n",
    "])\n",
    "\n",
    "\n",
    "preproc = FeatureUnion([\n",
    "    ('num_pipe', num_imp),\n",
    "    ('cat_pipe', cat_imp)\n",
    "])"
   ]
  },
  {
   "cell_type": "markdown",
   "metadata": {
    "pycharm": {
     "name": "#%% md\n"
    }
   },
   "source": [
    "### Oversampling :SMOTE NC"
   ]
  },
  {
   "cell_type": "code",
   "execution_count": 32,
   "metadata": {
    "pycharm": {
     "name": "#%%\n"
    }
   },
   "outputs": [],
   "source": [
    "from imblearn.pipeline import Pipeline as imbpipeline\n",
    "colselect=[col in qualitativeVariable for col in machineDf. loc[:, machineDf. columns != 'Machine Status'].columns]\n",
    "\n",
    "colselect.reverse()\n"
   ]
  },
  {
   "cell_type": "code",
   "execution_count": null,
   "metadata": {},
   "outputs": [],
   "source": [
    "class DfConverter():\n",
    "    def __init__(self):\n",
    "        super().__init__()\n",
    "\n",
    "    def fit_transform(self, X, y=None):\n",
    "        return self.transform(X=X, y=y)\n",
    "\n",
    "    def transform(self, X, y=None):\n",
    "        df = pd.DataFrame(X)\n",
    "        return df\n",
    "\n",
    "    def fit(self, X, y=None):\n",
    "        return self\n"
   ]
  },
  {
   "cell_type": "code",
   "execution_count": null,
   "metadata": {
    "pycharm": {
     "name": "#%%\n"
    }
   },
   "outputs": [],
   "source": [
    "class customSelector():\n",
    "    def __init__(self):\n",
    "        super().__init__()\n",
    "\n",
    "    def fit_transform(self, X, y=None):\n",
    "        return self.transform(X=X, y=y)\n",
    "\n",
    "    def transform(self, X, y=None):\n",
    "        return pd.DataFrame(X)[[0,1,2,3,4,5,6]]\n",
    "\n",
    "    def fit(self, X, y=None):\n",
    "        return self"
   ]
  },
  {
   "cell_type": "markdown",
   "metadata": {
    "pycharm": {
     "name": "#%% md\n"
    }
   },
   "source": [
    "## Feature Selection"
   ]
  },
  {
   "cell_type": "code",
   "execution_count": null,
   "metadata": {
    "pycharm": {
     "name": "#%%\n"
    }
   },
   "outputs": [],
   "source": [
    "selectionRecord=pd.DataFrame({'no':[],'score':[]})\n",
    "for i in range(1,9):\n",
    "    Final = imbpipeline([\n",
    "    ('Imputation',preproc),\n",
    "    ('DF Converter',DfConverter()),\n",
    "    ('SMOTE NC Oversampling',SMOTENC(categorical_features=colselect,n_jobs=1)),\n",
    "    ('DF Converter1',DfConverter()),\n",
    "    ('Data Preprocessing', data_preprocessing),\n",
    "    ('Kbest',SelectKBest(chi2,k=i)),\n",
    "    ('Model',   xgb.XGBClassifier())\n",
    "])\n",
    "    selectionRecord=pd.concat([selectionRecord,pd.DataFrame({'no':[i],'score':[cross_validate(Final,x_train,y_train,cv=StratifiedKFold(n_splits = 5, shuffle = True, random_state = 0,),scoring=['recall'],n_jobs=-1,return_estimator=True,return_train_score=True)['test_recall'].mean()]})],ignore_index=True)\n",
    "\n",
    "\n",
    "sns.lineplot(x='no',y='score',data=selectionRecord).set_title('Number of feature selected')"
   ]
  },
  {
   "cell_type": "code",
   "execution_count": 34,
   "metadata": {
    "pycharm": {
     "name": "#%%\n"
    }
   },
   "outputs": [],
   "source": [
    "from mlxtend.plotting import plot_sequential_feature_selection as plot_sfs\n",
    "from mlxtend.feature_selection import SequentialFeatureSelector as SFS\n",
    "Final = imbpipeline([\n",
    "    ('Imputation',preproc),\n",
    "    ('DF Converter',DfConverter()),\n",
    "    ('SMOTE NC Oversampling',SMOTENC(categorical_features=colselect,n_jobs=1)),\n",
    "    ('DF Converter1',DfConverter()),\n",
    "    ('Data Preprocessing', data_preprocessing),\n",
    "    ('Model',   xgb.XGBClassifier())\n",
    "])\n",
    "sfs1 = SFS(xgb.XGBClassifier(),\n",
    "           k_features=(1, 8),\n",
    "           forward=True,\n",
    "           floating=False,\n",
    "           verbose=2,\n",
    "           scoring='recall',\n",
    "           cv=StratifiedKFold(n_splits = 5, shuffle = True, random_state = 0,))\n",
    "sfs1.fit(pd.DataFrame(data_preprocessing.fit_transform(x_train,y_train)),y_train)\n",
    "print('best combination (ACC: %.3f): %s\\n' % (sfs1.k_score_, sfs1.k_feature_idx_))\n",
    "print('all subsets:\\n', sfs1.subsets_)\n",
    "plot_sfs(sfs1.get_metric_dict(), kind='std_err');"
   ]
  },
  {
   "cell_type": "code",
   "execution_count": 35,
   "metadata": {
    "pycharm": {
     "name": "#%%\n"
    }
   },
   "outputs": [],
   "source": [
    "# pd.DataFrame({'Methods':['Chi-Square','Forward Sequential Feature Selector'],'Type':['Filter','Wrapper'],'Best number of feature':[selectionRecord.score.idxmax()+1,pd.DataFrame(sfs1.get_metric_dict()).T.avg_score.astype('f8').idxmax()],'Score':[selectionRecord.score[selectionRecord.score.idxmax()],   pd.DataFrame(sfs1.get_metric_dict()).T.avg_score[pd.DataFrame(sfs1.get_metric_dict()).T.avg_score.astype('f8').idxmax()] ]})"
   ]
  },
  {
   "cell_type": "markdown",
   "metadata": {
    "pycharm": {
     "name": "#%% md\n"
    }
   },
   "source": [
    "## Evaluation Methodology"
   ]
  },
  {
   "cell_type": "code",
   "execution_count": 91,
   "metadata": {
    "pycharm": {
     "name": "#%%\n"
    }
   },
   "outputs": [],
   "source": [
    "def scoreModel(clf,x,y,algName=None,record=pd.DataFrame({'name':[],'train_accuracy':[],'test_accuracy':[],'test_recall':[],'train_recall':[]})):\n",
    "    '''\n",
    "    This function is used for model evaluation . This function use scikit-learn library to carry out cross validation using StratifiedKFold. The scoring metrics are accuracy and balanced accuracy\n",
    "\n",
    "    :param clf: Classifier 分类器\n",
    "    :param x:Train Data X(Data)  训练数据 （数据）\n",
    "    :param y:Train Data Y(Result)  训练数据（结果）\n",
    "    :param algName: Name of Algorithm used for recording 算法名字\n",
    "    :param record: History record dataframe 在历史记录上叠加结果\n",
    "    :return:\n",
    "    This function return 3 variable: 这个函数返回三个参数\n",
    "    record: Dataframe with current and past record(if there is any)\n",
    "    current: Dataframe with current record\n",
    "    lr: Learning curve\n",
    "    '''\n",
    "    score=cross_validate(clf,x,y,cv=StratifiedKFold(n_splits = 5, shuffle = True, random_state = 0,),scoring=['accuracy','recall'],n_jobs=-1,return_estimator=True,return_train_score=True)\n",
    "    current=pd.DataFrame({'name':[algName],'train_accuracy':score['train_accuracy'].mean(),'test_accuracy':score['test_accuracy'].mean(),'test_recall':score['test_recall'].mean(),'train_recall':score['train_recall'].mean()})\n",
    "    record=pd.concat([record,current],ignore_index=True)\n",
    "    lr = learning_curve(clf, x, y, scoring = 'recall', cv = StratifiedKFold(n_splits = 5, shuffle = True, random_state = 0,), n_jobs=-1)\n",
    "    return record,current,lr"
   ]
  },
  {
   "cell_type": "code",
   "execution_count": 39,
   "metadata": {},
   "outputs": [
    {
     "data": {
      "text/html": [
       "<div>\n",
       "<style scoped>\n",
       "    .dataframe tbody tr th:only-of-type {\n",
       "        vertical-align: middle;\n",
       "    }\n",
       "\n",
       "    .dataframe tbody tr th {\n",
       "        vertical-align: top;\n",
       "    }\n",
       "\n",
       "    .dataframe thead th {\n",
       "        text-align: right;\n",
       "    }\n",
       "</style>\n",
       "<table border=\"1\" class=\"dataframe\">\n",
       "  <thead>\n",
       "    <tr style=\"text-align: right;\">\n",
       "      <th></th>\n",
       "      <th>Quality</th>\n",
       "      <th>Ambient T (C)</th>\n",
       "      <th>Process T (C)</th>\n",
       "      <th>Rotation Speed (rpm)</th>\n",
       "      <th>Torque (Nm)</th>\n",
       "      <th>Tool Wear (min)</th>\n",
       "    </tr>\n",
       "    <tr>\n",
       "      <th>Unique ID</th>\n",
       "      <th></th>\n",
       "      <th></th>\n",
       "      <th></th>\n",
       "      <th></th>\n",
       "      <th></th>\n",
       "      <th></th>\n",
       "    </tr>\n",
       "  </thead>\n",
       "  <tbody>\n",
       "    <tr>\n",
       "      <th>12792</th>\n",
       "      <td>H</td>\n",
       "      <td>27.35</td>\n",
       "      <td>36.55</td>\n",
       "      <td>1416.0</td>\n",
       "      <td>43.3</td>\n",
       "      <td>66</td>\n",
       "    </tr>\n",
       "    <tr>\n",
       "      <th>6583</th>\n",
       "      <td>L</td>\n",
       "      <td>28.35</td>\n",
       "      <td>37.35</td>\n",
       "      <td>1528.0</td>\n",
       "      <td>35.7</td>\n",
       "      <td>198</td>\n",
       "    </tr>\n",
       "    <tr>\n",
       "      <th>16874</th>\n",
       "      <td>L</td>\n",
       "      <td>27.95</td>\n",
       "      <td>38.35</td>\n",
       "      <td>1478.0</td>\n",
       "      <td>39.5</td>\n",
       "      <td>75</td>\n",
       "    </tr>\n",
       "    <tr>\n",
       "      <th>11392</th>\n",
       "      <td>L</td>\n",
       "      <td>25.85</td>\n",
       "      <td>37.15</td>\n",
       "      <td>2737.0</td>\n",
       "      <td>8.8</td>\n",
       "      <td>142</td>\n",
       "    </tr>\n",
       "    <tr>\n",
       "      <th>4411</th>\n",
       "      <td>L</td>\n",
       "      <td>29.35</td>\n",
       "      <td>37.05</td>\n",
       "      <td>1586.0</td>\n",
       "      <td>32.2</td>\n",
       "      <td>64</td>\n",
       "    </tr>\n",
       "    <tr>\n",
       "      <th>...</th>\n",
       "      <td>...</td>\n",
       "      <td>...</td>\n",
       "      <td>...</td>\n",
       "      <td>...</td>\n",
       "      <td>...</td>\n",
       "      <td>...</td>\n",
       "    </tr>\n",
       "    <tr>\n",
       "      <th>5303</th>\n",
       "      <td>L</td>\n",
       "      <td>30.75</td>\n",
       "      <td>39.95</td>\n",
       "      <td>1491.0</td>\n",
       "      <td>37.2</td>\n",
       "      <td>195</td>\n",
       "    </tr>\n",
       "    <tr>\n",
       "      <th>15452</th>\n",
       "      <td>L</td>\n",
       "      <td>29.95</td>\n",
       "      <td>39.65</td>\n",
       "      <td>1361.0</td>\n",
       "      <td>48.8</td>\n",
       "      <td>120</td>\n",
       "    </tr>\n",
       "    <tr>\n",
       "      <th>18260</th>\n",
       "      <td>L</td>\n",
       "      <td>26.05</td>\n",
       "      <td>37.45</td>\n",
       "      <td>1471.0</td>\n",
       "      <td>38.4</td>\n",
       "      <td>146</td>\n",
       "    </tr>\n",
       "    <tr>\n",
       "      <th>8028</th>\n",
       "      <td>L</td>\n",
       "      <td>27.45</td>\n",
       "      <td>38.75</td>\n",
       "      <td>NaN</td>\n",
       "      <td>44.9</td>\n",
       "      <td>224</td>\n",
       "    </tr>\n",
       "    <tr>\n",
       "      <th>10500</th>\n",
       "      <td>L</td>\n",
       "      <td>24.45</td>\n",
       "      <td>36.05</td>\n",
       "      <td>1515.0</td>\n",
       "      <td>35.1</td>\n",
       "      <td>213</td>\n",
       "    </tr>\n",
       "  </tbody>\n",
       "</table>\n",
       "<p>16000 rows × 6 columns</p>\n",
       "</div>"
      ],
      "text/plain": [
       "          Quality  Ambient T (C)  Process T (C)  Rotation Speed (rpm)  \\\n",
       "Unique ID                                                               \n",
       "12792           H          27.35          36.55                1416.0   \n",
       "6583            L          28.35          37.35                1528.0   \n",
       "16874           L          27.95          38.35                1478.0   \n",
       "11392           L          25.85          37.15                2737.0   \n",
       "4411            L          29.35          37.05                1586.0   \n",
       "...           ...            ...            ...                   ...   \n",
       "5303            L          30.75          39.95                1491.0   \n",
       "15452           L          29.95          39.65                1361.0   \n",
       "18260           L          26.05          37.45                1471.0   \n",
       "8028            L          27.45          38.75                   NaN   \n",
       "10500           L          24.45          36.05                1515.0   \n",
       "\n",
       "           Torque (Nm)  Tool Wear (min)  \n",
       "Unique ID                                \n",
       "12792             43.3               66  \n",
       "6583              35.7              198  \n",
       "16874             39.5               75  \n",
       "11392              8.8              142  \n",
       "4411              32.2               64  \n",
       "...                ...              ...  \n",
       "5303              37.2              195  \n",
       "15452             48.8              120  \n",
       "18260             38.4              146  \n",
       "8028              44.9              224  \n",
       "10500             35.1              213  \n",
       "\n",
       "[16000 rows x 6 columns]"
      ]
     },
     "execution_count": 39,
     "metadata": {},
     "output_type": "execute_result"
    }
   ],
   "source": [
    "x_train"
   ]
  },
  {
   "cell_type": "code",
   "execution_count": 90,
   "metadata": {},
   "outputs": [
    {
     "name": "stdout",
     "output_type": "stream",
     "text": [
      "go\n"
     ]
    },
    {
     "name": "stderr",
     "output_type": "stream",
     "text": [
      "/home/chzuofa/.local/lib/python3.8/site-packages/sklearn/impute/_iterative.py:699: ConvergenceWarning: [IterativeImputer] Early stopping criterion not reached.\n",
      "  warnings.warn(\n"
     ]
    },
    {
     "data": {
      "text/html": [
       "<div>\n",
       "<style scoped>\n",
       "    .dataframe tbody tr th:only-of-type {\n",
       "        vertical-align: middle;\n",
       "    }\n",
       "\n",
       "    .dataframe tbody tr th {\n",
       "        vertical-align: top;\n",
       "    }\n",
       "\n",
       "    .dataframe thead th {\n",
       "        text-align: right;\n",
       "    }\n",
       "</style>\n",
       "<table border=\"1\" class=\"dataframe\">\n",
       "  <thead>\n",
       "    <tr style=\"text-align: right;\">\n",
       "      <th></th>\n",
       "      <th>0</th>\n",
       "      <th>1</th>\n",
       "      <th>2</th>\n",
       "      <th>3</th>\n",
       "      <th>4</th>\n",
       "      <th>5</th>\n",
       "    </tr>\n",
       "  </thead>\n",
       "  <tbody>\n",
       "    <tr>\n",
       "      <th>0</th>\n",
       "      <td>27.35</td>\n",
       "      <td>36.55</td>\n",
       "      <td>1416.00</td>\n",
       "      <td>43.3</td>\n",
       "      <td>66.0</td>\n",
       "      <td>0.0</td>\n",
       "    </tr>\n",
       "    <tr>\n",
       "      <th>1</th>\n",
       "      <td>28.35</td>\n",
       "      <td>37.35</td>\n",
       "      <td>1528.00</td>\n",
       "      <td>35.7</td>\n",
       "      <td>198.0</td>\n",
       "      <td>1.0</td>\n",
       "    </tr>\n",
       "    <tr>\n",
       "      <th>2</th>\n",
       "      <td>27.95</td>\n",
       "      <td>38.35</td>\n",
       "      <td>1478.00</td>\n",
       "      <td>39.5</td>\n",
       "      <td>75.0</td>\n",
       "      <td>1.0</td>\n",
       "    </tr>\n",
       "    <tr>\n",
       "      <th>3</th>\n",
       "      <td>25.85</td>\n",
       "      <td>37.15</td>\n",
       "      <td>2737.00</td>\n",
       "      <td>8.8</td>\n",
       "      <td>142.0</td>\n",
       "      <td>1.0</td>\n",
       "    </tr>\n",
       "    <tr>\n",
       "      <th>4</th>\n",
       "      <td>29.35</td>\n",
       "      <td>37.05</td>\n",
       "      <td>1586.00</td>\n",
       "      <td>32.2</td>\n",
       "      <td>64.0</td>\n",
       "      <td>1.0</td>\n",
       "    </tr>\n",
       "    <tr>\n",
       "      <th>...</th>\n",
       "      <td>...</td>\n",
       "      <td>...</td>\n",
       "      <td>...</td>\n",
       "      <td>...</td>\n",
       "      <td>...</td>\n",
       "      <td>...</td>\n",
       "    </tr>\n",
       "    <tr>\n",
       "      <th>15995</th>\n",
       "      <td>30.75</td>\n",
       "      <td>39.95</td>\n",
       "      <td>1491.00</td>\n",
       "      <td>37.2</td>\n",
       "      <td>195.0</td>\n",
       "      <td>1.0</td>\n",
       "    </tr>\n",
       "    <tr>\n",
       "      <th>15996</th>\n",
       "      <td>29.95</td>\n",
       "      <td>39.65</td>\n",
       "      <td>1361.00</td>\n",
       "      <td>48.8</td>\n",
       "      <td>120.0</td>\n",
       "      <td>1.0</td>\n",
       "    </tr>\n",
       "    <tr>\n",
       "      <th>15997</th>\n",
       "      <td>26.05</td>\n",
       "      <td>37.45</td>\n",
       "      <td>1471.00</td>\n",
       "      <td>38.4</td>\n",
       "      <td>146.0</td>\n",
       "      <td>1.0</td>\n",
       "    </tr>\n",
       "    <tr>\n",
       "      <th>15998</th>\n",
       "      <td>27.45</td>\n",
       "      <td>38.75</td>\n",
       "      <td>1458.35</td>\n",
       "      <td>44.9</td>\n",
       "      <td>224.0</td>\n",
       "      <td>1.0</td>\n",
       "    </tr>\n",
       "    <tr>\n",
       "      <th>15999</th>\n",
       "      <td>24.45</td>\n",
       "      <td>36.05</td>\n",
       "      <td>1515.00</td>\n",
       "      <td>35.1</td>\n",
       "      <td>213.0</td>\n",
       "      <td>1.0</td>\n",
       "    </tr>\n",
       "  </tbody>\n",
       "</table>\n",
       "<p>16000 rows × 6 columns</p>\n",
       "</div>"
      ],
      "text/plain": [
       "           0      1        2     3      4    5\n",
       "0      27.35  36.55  1416.00  43.3   66.0  0.0\n",
       "1      28.35  37.35  1528.00  35.7  198.0  1.0\n",
       "2      27.95  38.35  1478.00  39.5   75.0  1.0\n",
       "3      25.85  37.15  2737.00   8.8  142.0  1.0\n",
       "4      29.35  37.05  1586.00  32.2   64.0  1.0\n",
       "...      ...    ...      ...   ...    ...  ...\n",
       "15995  30.75  39.95  1491.00  37.2  195.0  1.0\n",
       "15996  29.95  39.65  1361.00  48.8  120.0  1.0\n",
       "15997  26.05  37.45  1471.00  38.4  146.0  1.0\n",
       "15998  27.45  38.75  1458.35  44.9  224.0  1.0\n",
       "15999  24.45  36.05  1515.00  35.1  213.0  1.0\n",
       "\n",
       "[16000 rows x 6 columns]"
      ]
     },
     "execution_count": 90,
     "metadata": {},
     "output_type": "execute_result"
    }
   ],
   "source": [
    "test = imbpipeline([\n",
    "\n",
    "    ('Imputation',preproc),\n",
    "    ('DF Converter',DfConverter()),\n",
    "])\n",
    "test.fit_transform(x_train,y_train)"
   ]
  },
  {
   "cell_type": "code",
   "execution_count": 92,
   "metadata": {
    "pycharm": {
     "is_executing": true,
     "name": "#%%\n"
    }
   },
   "outputs": [
    {
     "data": {
      "image/png": "[encoded data removed]",
      "text/plain": [
       "<Figure size 432x288 with 1 Axes>"
      ]
     },
     "metadata": {
      "needs_background": "light"
     },
     "output_type": "display_data"
    },
    {
     "data": {
      "text/html": [
       "<div>\n",
       "<style scoped>\n",
       "    .dataframe tbody tr th:only-of-type {\n",
       "        vertical-align: middle;\n",
       "    }\n",
       "\n",
       "    .dataframe tbody tr th {\n",
       "        vertical-align: top;\n",
       "    }\n",
       "\n",
       "    .dataframe thead th {\n",
       "        text-align: right;\n",
       "    }\n",
       "</style>\n",
       "<table border=\"1\" class=\"dataframe\">\n",
       "  <thead>\n",
       "    <tr style=\"text-align: right;\">\n",
       "      <th></th>\n",
       "      <th>name</th>\n",
       "      <th>train_accuracy</th>\n",
       "      <th>test_accuracy</th>\n",
       "      <th>test_recall</th>\n",
       "      <th>train_recall</th>\n",
       "    </tr>\n",
       "  </thead>\n",
       "  <tbody>\n",
       "    <tr>\n",
       "      <th>0</th>\n",
       "      <td>Dummy Baseline Classifier</td>\n",
       "      <td>0.966125</td>\n",
       "      <td>0.966125</td>\n",
       "      <td>0.0</td>\n",
       "      <td>0.0</td>\n",
       "    </tr>\n",
       "  </tbody>\n",
       "</table>\n",
       "</div>"
      ],
      "text/plain": [
       "                        name  train_accuracy  test_accuracy  test_recall  \\\n",
       "0  Dummy Baseline Classifier        0.966125       0.966125          0.0   \n",
       "\n",
       "   train_recall  \n",
       "0           0.0  "
      ]
     },
     "execution_count": 92,
     "metadata": {},
     "output_type": "execute_result"
    }
   ],
   "source": [
    "\n",
    "from imblearn.over_sampling import SMOTENC\n",
    "baseline = imbpipeline([\n",
    "\n",
    "    ('Imputation',preproc),\n",
    "    ('DF Converter',DfConverter()),\n",
    "    ('SMOTE NC Oversampling',SMOTENC(categorical_features=colselect,n_jobs=1)),\n",
    "    ('DF Converter1',DfConverter()),\n",
    "    ('Data Preprocessing', data_preprocessing),\n",
    "    ('Model', DummyClassifier())\n",
    "])\n",
    "record,current,lr=scoreModel(baseline,x_train,y_train,\"Dummy Baseline Classifier\")\n",
    "current"
   ]
  },
  {
   "cell_type": "code",
   "execution_count": 121,
   "metadata": {
    "pycharm": {
     "is_executing": true,
     "name": "#%%\n"
    }
   },
   "outputs": [
    {
     "name": "stderr",
     "output_type": "stream",
     "text": [
      "/home/chzuofa/.local/lib/python3.8/site-packages/sklearn/impute/_iterative.py:699: ConvergenceWarning: [IterativeImputer] Early stopping criterion not reached.\n",
      "  warnings.warn(\n",
      "/home/chzuofa/.local/lib/python3.8/site-packages/sklearn/impute/_iterative.py:699: ConvergenceWarning: [IterativeImputer] Early stopping criterion not reached.\n",
      "  warnings.warn(\n",
      "/home/chzuofa/.local/lib/python3.8/site-packages/sklearn/impute/_iterative.py:699: ConvergenceWarning: [IterativeImputer] Early stopping criterion not reached.\n",
      "  warnings.warn(\n",
      "/home/chzuofa/.local/lib/python3.8/site-packages/sklearn/impute/_iterative.py:699: ConvergenceWarning: [IterativeImputer] Early stopping criterion not reached.\n",
      "  warnings.warn(\n",
      "/home/chzuofa/.local/lib/python3.8/site-packages/sklearn/impute/_iterative.py:699: ConvergenceWarning: [IterativeImputer] Early stopping criterion not reached.\n",
      "  warnings.warn(\n",
      "/home/chzuofa/.local/lib/python3.8/site-packages/sklearn/impute/_iterative.py:699: ConvergenceWarning: [IterativeImputer] Early stopping criterion not reached.\n",
      "  warnings.warn(\n",
      "/home/chzuofa/.local/lib/python3.8/site-packages/sklearn/impute/_iterative.py:699: ConvergenceWarning: [IterativeImputer] Early stopping criterion not reached.\n",
      "  warnings.warn(\n"
     ]
    },
    {
     "name": "stdout",
     "output_type": "stream",
     "text": [
      "[IterativeImputer] Completing matrix with shape (7040, 5)\n",
      "[IterativeImputer] Change: 1088.0336429542365, scaled tolerance: 2.886 \n",
      "[IterativeImputer] Change: 40.62300000000011, scaled tolerance: 2.886 \n",
      "[IterativeImputer] Change: 22.460000000000036, scaled tolerance: 2.886 \n",
      "[IterativeImputer] Change: 21.910000000000082, scaled tolerance: 2.886 \n",
      "[IterativeImputer] Change: 33.539999999999964, scaled tolerance: 2.886 \n",
      "go\n",
      "go\n",
      "[IterativeImputer] Completing matrix with shape (3200, 5)\n",
      "go\n",
      "go\n",
      "[IterativeImputer] Completing matrix with shape (7040, 5)\n",
      "go\n",
      "go\n",
      "[IterativeImputer] Completing matrix with shape (9920, 5)\n",
      "[IterativeImputer] Change: 1095.6348257372656, scaled tolerance: 2.886 \n",
      "[IterativeImputer] Change: 27.35300000000013, scaled tolerance: 2.886 \n",
      "[IterativeImputer] Change: 23.5300000000002, scaled tolerance: 2.886 \n",
      "[IterativeImputer] Change: 28.149999999999864, scaled tolerance: 2.886 \n",
      "[IterativeImputer] Change: 21.934999999999846, scaled tolerance: 2.886 \n",
      "go\n",
      "go\n",
      "[IterativeImputer] Completing matrix with shape (3200, 5)\n",
      "go\n",
      "go\n",
      "[IterativeImputer] Completing matrix with shape (9920, 5)\n",
      "go\n",
      "go\n",
      "[IterativeImputer] Completing matrix with shape (9920, 5)\n",
      "[IterativeImputer] Change: 1140.154259695736, scaled tolerance: 2.874 \n",
      "[IterativeImputer] Change: 28.73099999999981, scaled tolerance: 2.874 \n",
      "[IterativeImputer] Change: 26.74000000000001, scaled tolerance: 2.874 \n",
      "[IterativeImputer] Change: 25.589999999999918, scaled tolerance: 2.874 \n",
      "[IterativeImputer] Change: 29.279999999999973, scaled tolerance: 2.874 \n",
      "go\n",
      "go\n",
      "[IterativeImputer] Completing matrix with shape (3200, 5)\n",
      "go\n",
      "go\n",
      "[IterativeImputer] Completing matrix with shape (9920, 5)\n",
      "go\n",
      "go\n",
      "go\n",
      "go\n",
      "go\n",
      "go\n",
      "go\n",
      "go\n",
      "go\n",
      "go\n",
      "go\n",
      "go\n",
      "go\n",
      "go\n",
      "go\n",
      "go\n",
      "go\n",
      "go\n",
      "go\n",
      "go\n",
      "go\n",
      "go\n",
      "go\n",
      "go\n",
      "go\n",
      "go\n",
      "go\n",
      "go\n",
      "go\n",
      "go\n",
      "go\n",
      "go\n",
      "go\n",
      "go\n",
      "go\n",
      "go\n",
      "go\n",
      "go\n",
      "go\n",
      "go\n",
      "go\n",
      "go\n",
      "go\n",
      "go\n",
      "go\n",
      "go\n",
      "go\n",
      "go\n",
      "go\n",
      "go\n",
      "go\n",
      "go\n",
      "go\n",
      "go\n",
      "go\n",
      "go\n",
      "go\n",
      "go\n",
      "go\n",
      "go\n",
      "go\n",
      "go\n",
      "go\n",
      "go\n",
      "go\n",
      "go\n",
      "go\n",
      "go\n",
      "[IterativeImputer] Completing matrix with shape (9920, 5)\n",
      "[IterativeImputer] Change: 965.1666266866569, scaled tolerance: 2.886 \n",
      "[IterativeImputer] Change: 35.89000000000011, scaled tolerance: 2.886 \n",
      "go\n",
      "go\n",
      "[IterativeImputer] Completing matrix with shape (3200, 5)\n",
      "go\n",
      "go\n",
      "[IterativeImputer] Completing matrix with shape (9920, 5)\n",
      "go\n",
      "go\n",
      "[IterativeImputer] Completing matrix with shape (7040, 5)\n",
      "[IterativeImputer] Change: 1096.1260244602145, scaled tolerance: 2.886 \n",
      "[IterativeImputer] Change: 28.63200000000012, scaled tolerance: 2.886 \n",
      "go\n",
      "go\n",
      "[IterativeImputer] Completing matrix with shape (3200, 5)\n",
      "go\n",
      "go\n",
      "[IterativeImputer] Completing matrix with shape (7040, 5)\n",
      "go\n",
      "go\n",
      "[IterativeImputer] Completing matrix with shape (1280, 5)\n",
      "[IterativeImputer] Change: 1059.029831365936, scaled tolerance: 2.709 \n",
      "[IterativeImputer] Change: 28.06999999999971, scaled tolerance: 2.709 \n",
      "go\n",
      "go\n",
      "[IterativeImputer] Completing matrix with shape (3200, 5)\n",
      "go\n",
      "go\n",
      "[IterativeImputer] Completing matrix with shape (1280, 5)\n",
      "go\n",
      "go\n",
      "[IterativeImputer] Completing matrix with shape (12800, 5)\n",
      "[IterativeImputer] Change: 962.530946607988, scaled tolerance: 2.886 \n",
      "[IterativeImputer] Change: 30.329999999999927, scaled tolerance: 2.886 \n",
      "[IterativeImputer] Change: 31.170000000000073, scaled tolerance: 2.886 \n",
      "go\n",
      "go\n",
      "[IterativeImputer] Completing matrix with shape (3200, 5)\n",
      "go\n",
      "go\n",
      "[IterativeImputer] Completing matrix with shape (12800, 5)\n",
      "go\n",
      "go\n",
      "[IterativeImputer] Completing matrix with shape (4160, 5)\n",
      "[IterativeImputer] Change: 1085.3188505747125, scaled tolerance: 2.861 \n",
      "[IterativeImputer] Change: 28.039999999999964, scaled tolerance: 2.861 \n",
      "go\n",
      "go\n",
      "[IterativeImputer] Completing matrix with shape (3200, 5)\n",
      "go\n",
      "go\n",
      "[IterativeImputer] Completing matrix with shape (4160, 5)\n",
      "go\n",
      "go\n",
      "[IterativeImputer] Completing matrix with shape (4160, 5)\n",
      "[IterativeImputer] Change: 1074.8776433121018, scaled tolerance: 2.861 \n",
      "[IterativeImputer] Change: 22.060000000000173, scaled tolerance: 2.861 \n",
      "go\n",
      "go\n",
      "[IterativeImputer] Completing matrix with shape (3200, 5)\n",
      "go\n",
      "go\n",
      "[IterativeImputer] Completing matrix with shape (4160, 5)\n",
      "go\n",
      "go\n",
      "[IterativeImputer] Completing matrix with shape (4160, 5)\n",
      "[IterativeImputer] Change: 1085.4944785276073, scaled tolerance: 2.861 \n",
      "[IterativeImputer] Change: 22.860000000000127, scaled tolerance: 2.861 \n",
      "go\n",
      "go\n",
      "[IterativeImputer] Completing matrix with shape (3200, 5)\n",
      "go\n",
      "go\n",
      "[IterativeImputer] Completing matrix with shape (4160, 5)\n",
      "go\n",
      "go\n",
      "[IterativeImputer] Completing matrix with shape (12800, 5)\n",
      "[IterativeImputer] Change: 1082.2934912718201, scaled tolerance: 2.886 \n",
      "[IterativeImputer] Change: 24.279999999999973, scaled tolerance: 2.886 \n",
      "[IterativeImputer] Change: 39.62999999999988, scaled tolerance: 2.886 \n",
      "go\n",
      "go\n",
      "[IterativeImputer] Completing matrix with shape (3200, 5)\n",
      "go\n",
      "go\n",
      "[IterativeImputer] Completing matrix with shape (12800, 5)\n",
      "go\n",
      "go\n"
     ]
    },
    {
     "name": "stderr",
     "output_type": "stream",
     "text": [
      "/home/chzuofa/.local/lib/python3.8/site-packages/sklearn/impute/_iterative.py:699: ConvergenceWarning: [IterativeImputer] Early stopping criterion not reached.\n",
      "  warnings.warn(\n",
      "/home/chzuofa/.local/lib/python3.8/site-packages/sklearn/impute/_iterative.py:699: ConvergenceWarning: [IterativeImputer] Early stopping criterion not reached.\n",
      "  warnings.warn(\n",
      "/home/chzuofa/.local/lib/python3.8/site-packages/sklearn/impute/_iterative.py:699: ConvergenceWarning: [IterativeImputer] Early stopping criterion not reached.\n",
      "  warnings.warn(\n",
      "/home/chzuofa/.local/lib/python3.8/site-packages/sklearn/impute/_iterative.py:699: ConvergenceWarning: [IterativeImputer] Early stopping criterion not reached.\n",
      "  warnings.warn(\n",
      "/home/chzuofa/.local/lib/python3.8/site-packages/joblib/externals/loky/process_executor.py:702: UserWarning: A worker stopped while some jobs were given to the executor. This can be caused by a too short worker timeout or by a memory leak.\n",
      "  warnings.warn(\n",
      "/home/chzuofa/.local/lib/python3.8/site-packages/sklearn/impute/_iterative.py:699: ConvergenceWarning: [IterativeImputer] Early stopping criterion not reached.\n",
      "  warnings.warn(\n",
      "/home/chzuofa/.local/lib/python3.8/site-packages/sklearn/impute/_iterative.py:699: ConvergenceWarning: [IterativeImputer] Early stopping criterion not reached.\n",
      "  warnings.warn(\n",
      "/home/chzuofa/.local/lib/python3.8/site-packages/sklearn/impute/_iterative.py:699: ConvergenceWarning: [IterativeImputer] Early stopping criterion not reached.\n",
      "  warnings.warn(\n"
     ]
    },
    {
     "name": "stdout",
     "output_type": "stream",
     "text": [
      "[IterativeImputer] Completing matrix with shape (12800, 5)\n",
      "[IterativeImputer] Change: 1080.0234912718201, scaled tolerance: 2.886 \n",
      "[IterativeImputer] Change: 36.2259999999999, scaled tolerance: 2.886 \n",
      "go\n",
      "go\n",
      "[IterativeImputer] Completing matrix with shape (3200, 5)\n",
      "go\n",
      "go\n",
      "[IterativeImputer] Completing matrix with shape (12800, 5)\n",
      "go\n",
      "go\n",
      "[IterativeImputer] Completing matrix with shape (7040, 5)\n",
      "[IterativeImputer] Change: 1086.1498824947275, scaled tolerance: 2.874 \n",
      "[IterativeImputer] Change: 35.86999999999989, scaled tolerance: 2.874 \n",
      "go\n",
      "go\n",
      "[IterativeImputer] Completing matrix with shape (3200, 5)\n",
      "go\n",
      "go\n",
      "[IterativeImputer] Completing matrix with shape (7040, 5)\n",
      "go\n",
      "go\n",
      "[IterativeImputer] Completing matrix with shape (12800, 5)\n",
      "[IterativeImputer] Change: 1087.3569465648854, scaled tolerance: 2.886 \n",
      "[IterativeImputer] Change: 25.920000000000073, scaled tolerance: 2.886 \n",
      "[IterativeImputer] Change: 28.25999999999999, scaled tolerance: 2.886 \n",
      "go\n",
      "go\n",
      "[IterativeImputer] Completing matrix with shape (3200, 5)\n",
      "go\n",
      "go\n",
      "[IterativeImputer] Completing matrix with shape (12800, 5)\n",
      "go\n",
      "go\n",
      "go\n",
      "go\n",
      "go\n",
      "go\n",
      "go\n",
      "go\n",
      "go\n",
      "go\n",
      "go\n",
      "go\n",
      "go\n",
      "go\n",
      "go\n",
      "go\n",
      "go\n",
      "go\n",
      "go\n",
      "go\n",
      "go\n",
      "go\n",
      "go\n",
      "go\n",
      "go\n",
      "go\n",
      "go\n",
      "go\n",
      "go\n",
      "go\n",
      "go\n",
      "go\n",
      "go\n",
      "go\n",
      "go\n",
      "go\n",
      "go\n",
      "go\n",
      "go\n",
      "go\n",
      "go\n",
      "go\n",
      "go\n",
      "go\n",
      "go\n",
      "go\n",
      "go\n",
      "go\n",
      "go\n",
      "go\n",
      "go\n",
      "go\n",
      "go\n",
      "go\n",
      "go\n",
      "go\n",
      "go\n",
      "go\n",
      "go\n",
      "go\n",
      "go\n",
      "go\n",
      "go\n",
      "go\n",
      "go\n",
      "go\n",
      "go\n",
      "go\n",
      "go\n",
      "go\n",
      "go\n",
      "go\n",
      "go\n",
      "go\n",
      "go\n",
      "go\n",
      "go\n",
      "go\n",
      "go\n",
      "go\n",
      "[IterativeImputer] Completing matrix with shape (12800, 5)\n",
      "[IterativeImputer] Change: 1086.1769465648856, scaled tolerance: 2.886 \n",
      "[IterativeImputer] Change: 55.43699999999998, scaled tolerance: 2.886 \n",
      "go\n",
      "go\n",
      "[IterativeImputer] Completing matrix with shape (3200, 5)\n",
      "go\n",
      "go\n",
      "[IterativeImputer] Completing matrix with shape (12800, 5)\n",
      "go\n",
      "go\n",
      "[IterativeImputer] Completing matrix with shape (12800, 5)\n",
      "[IterativeImputer] Change: 967.490946607988, scaled tolerance: 2.886 \n",
      "[IterativeImputer] Change: 35.702000000000055, scaled tolerance: 2.886 \n",
      "go\n",
      "go\n",
      "[IterativeImputer] Completing matrix with shape (3200, 5)\n",
      "go\n",
      "go\n",
      "[IterativeImputer] Completing matrix with shape (12800, 5)\n",
      "go\n",
      "go\n",
      "[IterativeImputer] Completing matrix with shape (4160, 5)\n",
      "[IterativeImputer] Change: 1074.6276433121018, scaled tolerance: 2.861 \n",
      "[IterativeImputer] Change: 24.839999999999918, scaled tolerance: 2.861 \n",
      "go\n",
      "go\n",
      "[IterativeImputer] Completing matrix with shape (3200, 5)\n",
      "go\n",
      "go\n",
      "[IterativeImputer] Completing matrix with shape (4160, 5)\n",
      "go\n",
      "go\n",
      "[IterativeImputer] Completing matrix with shape (7040, 5)\n",
      "[IterativeImputer] Change: 1093.4498824947273, scaled tolerance: 2.874 \n",
      "[IterativeImputer] Change: 30.62199999999995, scaled tolerance: 2.874 \n",
      "go\n",
      "go\n",
      "[IterativeImputer] Completing matrix with shape (3200, 5)\n",
      "go\n",
      "go\n",
      "[IterativeImputer] Completing matrix with shape (7040, 5)\n",
      "go\n",
      "go\n",
      "[IterativeImputer] Completing matrix with shape (1280, 5)\n",
      "[IterativeImputer] Change: 657.8640882597836, scaled tolerance: 2.737 \n",
      "go\n",
      "go\n",
      "[IterativeImputer] Completing matrix with shape (3200, 5)\n",
      "go\n",
      "go\n",
      "[IterativeImputer] Completing matrix with shape (1280, 5)\n",
      "go\n",
      "go\n",
      "[IterativeImputer] Completing matrix with shape (9920, 5)\n",
      "[IterativeImputer] Change: 1098.859116069513, scaled tolerance: 2.886 \n",
      "go\n",
      "go\n",
      "[IterativeImputer] Completing matrix with shape (3200, 5)\n",
      "go\n",
      "go\n",
      "[IterativeImputer] Completing matrix with shape (9920, 5)\n",
      "go\n",
      "go\n",
      "[IterativeImputer] Completing matrix with shape (9920, 5)\n",
      "[IterativeImputer] Change: 1097.1163110539844, scaled tolerance: 2.886 \n",
      "go\n",
      "go\n",
      "[IterativeImputer] Completing matrix with shape (3200, 5)\n",
      "go\n",
      "go\n",
      "[IterativeImputer] Completing matrix with shape (9920, 5)\n",
      "go\n",
      "go\n",
      "[IterativeImputer] Completing matrix with shape (12800, 5)\n",
      "[IterativeImputer] Change: 1084.7569465648855, scaled tolerance: 2.886 \n",
      "[IterativeImputer] Change: 44.534, scaled tolerance: 2.886 \n",
      "[IterativeImputer] Change: 24.210000000000036, scaled tolerance: 2.886 \n",
      "[IterativeImputer] Change: 23.00999999999999, scaled tolerance: 2.886 \n",
      "[IterativeImputer] Change: 24.0, scaled tolerance: 2.886 \n",
      "go\n",
      "go\n",
      "[IterativeImputer] Completing matrix with shape (3200, 5)\n",
      "go\n",
      "go\n",
      "[IterativeImputer] Completing matrix with shape (12800, 5)\n",
      "go\n",
      "go\n",
      "[IterativeImputer] Completing matrix with shape (12800, 5)\n",
      "[IterativeImputer] Change: 961.3609466079879, scaled tolerance: 2.886 \n",
      "[IterativeImputer] Change: 30.629999999999654, scaled tolerance: 2.886 \n",
      "[IterativeImputer] Change: 35.76999999999998, scaled tolerance: 2.886 \n",
      "[IterativeImputer] Change: 22.819999999999936, scaled tolerance: 2.886 \n",
      "[IterativeImputer] Change: 20.089999999999918, scaled tolerance: 2.886 \n",
      "go\n",
      "go\n",
      "[IterativeImputer] Completing matrix with shape (3200, 5)\n",
      "go\n",
      "go\n",
      "[IterativeImputer] Completing matrix with shape (12800, 5)\n",
      "go\n",
      "go\n",
      "[IterativeImputer] Completing matrix with shape (4160, 5)\n",
      "[IterativeImputer] Change: 1079.347643312102, scaled tolerance: 2.861 \n",
      "[IterativeImputer] Change: 23.019999999999982, scaled tolerance: 2.861 \n",
      "[IterativeImputer] Change: 22.230000000000018, scaled tolerance: 2.861 \n",
      "[IterativeImputer] Change: 20.87000000000012, scaled tolerance: 2.861 \n",
      "[IterativeImputer] Change: 21.079999999999927, scaled tolerance: 2.861 \n",
      "go\n",
      "go\n",
      "[IterativeImputer] Completing matrix with shape (3200, 5)\n",
      "go\n",
      "go\n",
      "[IterativeImputer] Completing matrix with shape (4160, 5)\n",
      "go\n",
      "go\n",
      "[IterativeImputer] Completing matrix with shape (7040, 5)\n",
      "[IterativeImputer] Change: 1095.5598824947274, scaled tolerance: 2.874 \n",
      "[IterativeImputer] Change: 35.27999999999997, scaled tolerance: 2.874 \n",
      "[IterativeImputer] Change: 23.589999999999918, scaled tolerance: 2.874 \n",
      "[IterativeImputer] Change: 21.99000000000001, scaled tolerance: 2.874 \n",
      "[IterativeImputer] Change: 26.090000000000146, scaled tolerance: 2.874 \n",
      "go\n",
      "go\n",
      "[IterativeImputer] Completing matrix with shape (3200, 5)\n",
      "go\n",
      "go\n",
      "[IterativeImputer] Completing matrix with shape (7040, 5)\n",
      "go\n",
      "go\n",
      "go\n",
      "go\n",
      "go\n",
      "go\n",
      "go\n",
      "go\n",
      "go\n",
      "go\n",
      "go\n",
      "go\n",
      "go\n",
      "go\n",
      "go\n",
      "go\n",
      "go\n",
      "go\n",
      "go\n",
      "go\n",
      "go\n",
      "go\n",
      "go\n",
      "go\n",
      "go\n",
      "go\n",
      "go\n",
      "go\n",
      "go\n",
      "go\n",
      "go\n",
      "go\n",
      "[IterativeImputer] Completing matrix with shape (12800, 5)\n",
      "[IterativeImputer] Change: 1091.9369465648854, scaled tolerance: 2.886 \n",
      "[IterativeImputer] Change: 37.44000000000015, scaled tolerance: 2.886 \n",
      "go\n",
      "go\n",
      "[IterativeImputer] Completing matrix with shape (3200, 5)\n",
      "go\n",
      "go\n",
      "[IterativeImputer] Completing matrix with shape (12800, 5)\n",
      "go\n",
      "go\n",
      "[IterativeImputer] Completing matrix with shape (1280, 5)\n",
      "[IterativeImputer] Change: 1110.4901677852351, scaled tolerance: 2.737 \n",
      "[IterativeImputer] Change: 28.399999999999864, scaled tolerance: 2.737 \n",
      "go\n",
      "go\n",
      "[IterativeImputer] Completing matrix with shape (3200, 5)\n",
      "go\n",
      "go\n",
      "[IterativeImputer] Completing matrix with shape (1280, 5)\n",
      "go\n",
      "go\n",
      "[IterativeImputer] Completing matrix with shape (9920, 5)\n",
      "[IterativeImputer] Change: 1100.0191160695128, scaled tolerance: 2.886 \n",
      "[IterativeImputer] Change: 40.043, scaled tolerance: 2.886 \n",
      "go\n",
      "go\n",
      "[IterativeImputer] Completing matrix with shape (3200, 5)\n",
      "go\n",
      "go\n",
      "[IterativeImputer] Completing matrix with shape (9920, 5)\n",
      "go\n",
      "go\n",
      "[IterativeImputer] Completing matrix with shape (7040, 5)\n",
      "[IterativeImputer] Change: 1093.6109030704397, scaled tolerance: 2.886 \n",
      "[IterativeImputer] Change: 32.400000000000105, scaled tolerance: 2.886 \n",
      "go\n",
      "go\n",
      "[IterativeImputer] Completing matrix with shape (3200, 5)\n",
      "go\n",
      "go\n",
      "[IterativeImputer] Completing matrix with shape (7040, 5)\n",
      "go\n",
      "go\n",
      "[IterativeImputer] Completing matrix with shape (12800, 5)\n",
      "[IterativeImputer] Change: 1105.6773063190235, scaled tolerance: 2.874 \n",
      "[IterativeImputer] Change: 41.71699999999987, scaled tolerance: 2.874 \n",
      "go\n",
      "go\n",
      "[IterativeImputer] Completing matrix with shape (3200, 5)\n",
      "go\n",
      "go\n",
      "[IterativeImputer] Completing matrix with shape (12800, 5)\n",
      "go\n",
      "go\n",
      "[IterativeImputer] Completing matrix with shape (1280, 5)\n",
      "[IterativeImputer] Change: 673.8040882597836, scaled tolerance: 2.737 \n",
      "[IterativeImputer] Change: 16.940000000000055, scaled tolerance: 2.737 \n",
      "[IterativeImputer] Change: 20.339999999999918, scaled tolerance: 2.737 \n",
      "go\n",
      "go\n",
      "[IterativeImputer] Completing matrix with shape (3200, 5)\n",
      "go\n",
      "go\n",
      "[IterativeImputer] Completing matrix with shape (1280, 5)\n",
      "go\n",
      "go\n",
      "[IterativeImputer] Completing matrix with shape (9920, 5)\n",
      "[IterativeImputer] Change: 1094.7891160695128, scaled tolerance: 2.886 \n",
      "[IterativeImputer] Change: 26.87000000000012, scaled tolerance: 2.886 \n",
      "[IterativeImputer] Change: 28.399999999999864, scaled tolerance: 2.886 \n",
      "go\n",
      "go\n",
      "[IterativeImputer] Completing matrix with shape (3200, 5)\n",
      "go\n",
      "go\n",
      "[IterativeImputer] Completing matrix with shape (9920, 5)\n",
      "go\n",
      "go\n",
      "[IterativeImputer] Completing matrix with shape (7040, 5)\n",
      "[IterativeImputer] Change: 1090.4109030704394, scaled tolerance: 2.886 \n",
      "[IterativeImputer] Change: 26.99000000000001, scaled tolerance: 2.886 \n",
      "[IterativeImputer] Change: 22.019999999999982, scaled tolerance: 2.886 \n",
      "go\n",
      "go\n",
      "[IterativeImputer] Completing matrix with shape (3200, 5)\n",
      "go\n",
      "go\n",
      "[IterativeImputer] Completing matrix with shape (7040, 5)\n",
      "go\n",
      "go\n"
     ]
    },
    {
     "name": "stderr",
     "output_type": "stream",
     "text": [
      "/home/chzuofa/.local/lib/python3.8/site-packages/sklearn/impute/_iterative.py:699: ConvergenceWarning: [IterativeImputer] Early stopping criterion not reached.\n",
      "  warnings.warn(\n",
      "/home/chzuofa/.local/lib/python3.8/site-packages/sklearn/impute/_iterative.py:699: ConvergenceWarning: [IterativeImputer] Early stopping criterion not reached.\n",
      "  warnings.warn(\n",
      "/home/chzuofa/.local/lib/python3.8/site-packages/sklearn/impute/_iterative.py:699: ConvergenceWarning: [IterativeImputer] Early stopping criterion not reached.\n",
      "  warnings.warn(\n",
      "/home/chzuofa/.local/lib/python3.8/site-packages/sklearn/impute/_iterative.py:699: ConvergenceWarning: [IterativeImputer] Early stopping criterion not reached.\n",
      "  warnings.warn(\n",
      "/home/chzuofa/.local/lib/python3.8/site-packages/sklearn/impute/_iterative.py:699: ConvergenceWarning: [IterativeImputer] Early stopping criterion not reached.\n",
      "  warnings.warn(\n",
      "/home/chzuofa/.local/lib/python3.8/site-packages/sklearn/impute/_iterative.py:699: ConvergenceWarning: [IterativeImputer] Early stopping criterion not reached.\n",
      "  warnings.warn(\n",
      "/home/chzuofa/.local/lib/python3.8/site-packages/sklearn/impute/_iterative.py:699: ConvergenceWarning: [IterativeImputer] Early stopping criterion not reached.\n",
      "  warnings.warn(\n",
      "/home/chzuofa/.local/lib/python3.8/site-packages/sklearn/impute/_iterative.py:699: ConvergenceWarning: [IterativeImputer] Early stopping criterion not reached.\n",
      "  warnings.warn(\n",
      "/home/chzuofa/.local/lib/python3.8/site-packages/sklearn/impute/_iterative.py:699: ConvergenceWarning: [IterativeImputer] Early stopping criterion not reached.\n",
      "  warnings.warn(\n",
      "/home/chzuofa/.local/lib/python3.8/site-packages/sklearn/impute/_iterative.py:699: ConvergenceWarning: [IterativeImputer] Early stopping criterion not reached.\n",
      "  warnings.warn(\n",
      "/home/chzuofa/.local/lib/python3.8/site-packages/sklearn/impute/_iterative.py:699: ConvergenceWarning: [IterativeImputer] Early stopping criterion not reached.\n",
      "  warnings.warn(\n",
      "/home/chzuofa/.local/lib/python3.8/site-packages/sklearn/impute/_iterative.py:699: ConvergenceWarning: [IterativeImputer] Early stopping criterion not reached.\n",
      "  warnings.warn(\n",
      "/home/chzuofa/.local/lib/python3.8/site-packages/sklearn/impute/_iterative.py:699: ConvergenceWarning: [IterativeImputer] Early stopping criterion not reached.\n",
      "  warnings.warn(\n",
      "/home/chzuofa/.local/lib/python3.8/site-packages/sklearn/impute/_iterative.py:699: ConvergenceWarning: [IterativeImputer] Early stopping criterion not reached.\n",
      "  warnings.warn(\n",
      "/home/chzuofa/.local/lib/python3.8/site-packages/sklearn/impute/_iterative.py:699: ConvergenceWarning: [IterativeImputer] Early stopping criterion not reached.\n",
      "  warnings.warn(\n",
      "/home/chzuofa/.local/lib/python3.8/site-packages/sklearn/impute/_iterative.py:699: ConvergenceWarning: [IterativeImputer] Early stopping criterion not reached.\n",
      "  warnings.warn(\n",
      "/home/chzuofa/.local/lib/python3.8/site-packages/sklearn/impute/_iterative.py:699: ConvergenceWarning: [IterativeImputer] Early stopping criterion not reached.\n",
      "  warnings.warn(\n",
      "/home/chzuofa/.local/lib/python3.8/site-packages/sklearn/impute/_iterative.py:699: ConvergenceWarning: [IterativeImputer] Early stopping criterion not reached.\n",
      "  warnings.warn(\n",
      "/home/chzuofa/.local/lib/python3.8/site-packages/sklearn/impute/_iterative.py:699: ConvergenceWarning: [IterativeImputer] Early stopping criterion not reached.\n",
      "  warnings.warn(\n",
      "/home/chzuofa/.local/lib/python3.8/site-packages/sklearn/impute/_iterative.py:699: ConvergenceWarning: [IterativeImputer] Early stopping criterion not reached.\n",
      "  warnings.warn(\n",
      "/home/chzuofa/.local/lib/python3.8/site-packages/sklearn/impute/_iterative.py:699: ConvergenceWarning: [IterativeImputer] Early stopping criterion not reached.\n",
      "  warnings.warn(\n",
      "/home/chzuofa/.local/lib/python3.8/site-packages/sklearn/impute/_iterative.py:699: ConvergenceWarning: [IterativeImputer] Early stopping criterion not reached.\n",
      "  warnings.warn(\n",
      "/home/chzuofa/.local/lib/python3.8/site-packages/sklearn/impute/_iterative.py:699: ConvergenceWarning: [IterativeImputer] Early stopping criterion not reached.\n",
      "  warnings.warn(\n",
      "/home/chzuofa/.local/lib/python3.8/site-packages/sklearn/impute/_iterative.py:699: ConvergenceWarning: [IterativeImputer] Early stopping criterion not reached.\n",
      "  warnings.warn(\n",
      "/home/chzuofa/.local/lib/python3.8/site-packages/sklearn/impute/_iterative.py:699: ConvergenceWarning: [IterativeImputer] Early stopping criterion not reached.\n",
      "  warnings.warn(\n",
      "/home/chzuofa/.local/lib/python3.8/site-packages/sklearn/impute/_iterative.py:699: ConvergenceWarning: [IterativeImputer] Early stopping criterion not reached.\n",
      "  warnings.warn(\n",
      "/home/chzuofa/.local/lib/python3.8/site-packages/sklearn/impute/_iterative.py:699: ConvergenceWarning: [IterativeImputer] Early stopping criterion not reached.\n",
      "  warnings.warn(\n",
      "/home/chzuofa/.local/lib/python3.8/site-packages/sklearn/impute/_iterative.py:699: ConvergenceWarning: [IterativeImputer] Early stopping criterion not reached.\n",
      "  warnings.warn(\n",
      "/home/chzuofa/.local/lib/python3.8/site-packages/sklearn/impute/_iterative.py:699: ConvergenceWarning: [IterativeImputer] Early stopping criterion not reached.\n",
      "  warnings.warn(\n",
      "/home/chzuofa/.local/lib/python3.8/site-packages/sklearn/impute/_iterative.py:699: ConvergenceWarning: [IterativeImputer] Early stopping criterion not reached.\n",
      "  warnings.warn(\n",
      "/home/chzuofa/.local/lib/python3.8/site-packages/sklearn/impute/_iterative.py:699: ConvergenceWarning: [IterativeImputer] Early stopping criterion not reached.\n",
      "  warnings.warn(\n",
      "/home/chzuofa/.local/lib/python3.8/site-packages/sklearn/impute/_iterative.py:699: ConvergenceWarning: [IterativeImputer] Early stopping criterion not reached.\n",
      "  warnings.warn(\n"
     ]
    },
    {
     "data": {
      "image/png": "[encoded data removed]",
      "text/plain": [
       "<Figure size 432x288 with 1 Axes>"
      ]
     },
     "metadata": {
      "needs_background": "light"
     },
     "output_type": "display_data"
    },
    {
     "data": {
      "text/html": [
       "<div>\n",
       "<style scoped>\n",
       "    .dataframe tbody tr th:only-of-type {\n",
       "        vertical-align: middle;\n",
       "    }\n",
       "\n",
       "    .dataframe tbody tr th {\n",
       "        vertical-align: top;\n",
       "    }\n",
       "\n",
       "    .dataframe thead th {\n",
       "        text-align: right;\n",
       "    }\n",
       "</style>\n",
       "<table border=\"1\" class=\"dataframe\">\n",
       "  <thead>\n",
       "    <tr style=\"text-align: right;\">\n",
       "      <th></th>\n",
       "      <th>name</th>\n",
       "      <th>train_accuracy</th>\n",
       "      <th>test_accuracy</th>\n",
       "      <th>test_recall</th>\n",
       "      <th>train_recall</th>\n",
       "    </tr>\n",
       "  </thead>\n",
       "  <tbody>\n",
       "    <tr>\n",
       "      <th>0</th>\n",
       "      <td>Logistic Regression</td>\n",
       "      <td>0.824375</td>\n",
       "      <td>0.825062</td>\n",
       "      <td>0.787937</td>\n",
       "      <td>0.790129</td>\n",
       "    </tr>\n",
       "  </tbody>\n",
       "</table>\n",
       "</div>"
      ],
      "text/plain": [
       "                  name  train_accuracy  test_accuracy  test_recall  \\\n",
       "0  Logistic Regression        0.824375       0.825062     0.787937   \n",
       "\n",
       "   train_recall  \n",
       "0      0.790129  "
      ]
     },
     "execution_count": 121,
     "metadata": {},
     "output_type": "execute_result"
    }
   ],
   "source": [
    "from imblearn.pipeline import make_pipeline\n",
    "from sklearn.preprocessing import StandardScaler\n",
    "from imblearn.over_sampling import SMOTENC, SMOTE\n",
    "lg = imbpipeline([\n",
    "    \n",
    "    ('Imputation',preproc),\n",
    "    ('DF Converter',DfConverter()),\n",
    "    ('SMOTE NC Oversampling',SMOTENC(categorical_features=colselect,n_jobs=-1)),\n",
    "    ('DF Converter1',DfConverter()),\n",
    "    ('Data Preprocessing', data_preprocessing),\n",
    "    ('Model', LogisticRegression())\n",
    "])\n",
    "record,current,lr=scoreModel(lg,x_train,y_train,\"Logistic Regression\",record)\n",
    "current"
   ]
  },
  {
   "cell_type": "code",
   "execution_count": null,
   "metadata": {
    "pycharm": {
     "is_executing": true,
     "name": "#%%\n"
    }
   },
   "outputs": [],
   "source": [
    "\n",
    "DeciTree = imbpipeline([\n",
    "('Imputation',preproc),\n",
    "    ('DF Converter',DfConverter()),\n",
    "    ('SMOTE NC Oversampling',SMOTENC(categorical_features=colselect,n_jobs=-1)),\n",
    "    ('DF Converter1',DfConverter()),\n",
    "    ('Data Preprocessing', data_preprocessing),\n",
    "    ('Custom Selector',customSelector()),\n",
    "    ('model', DecisionTreeClassifier(ccp_alpha=0.03527))\n",
    "])\n",
    "\n",
    "\n",
    "record,current,lr=scoreModel(DeciTree,x_train,y_train,\"Decision Tree Classifier\",record=record)\n",
    "current"
   ]
  },
  {
   "cell_type": "code",
   "execution_count": null,
   "metadata": {
    "pycharm": {
     "is_executing": true,
     "name": "#%%\n"
    }
   },
   "outputs": [],
   "source": [
    "\n",
    "\n",
    "from sklearn.model_selection import validation_curve\n",
    "pr=np.arange(0.00827,0.1,0.01)\n",
    "train_score,test_score = validation_curve(DeciTree,x_over_train,y_over_train,param_name='model__ccp_alpha',param_range=pr,cv=StratifiedKFold(n_splits = 5, shuffle = True, random_state = 0,),scoring='recall')\n",
    "train_score =  np.mean(train_score,axis=1)\n",
    "test_score = np.mean(test_score,axis=1)\n",
    "plt.plot(pr,train_score,'o-',color = 'r',label = 'training')\n",
    "plt.plot(pr,test_score,'o-',color = 'g',label = 'testing')\n",
    "plt.legend(loc='best')\n",
    "plt.xlabel('number of tree')\n",
    "plt.ylabel('accuracy')\n",
    "plt.show()\n",
    "\n"
   ]
  },
  {
   "cell_type": "code",
   "execution_count": null,
   "metadata": {
    "pycharm": {
     "is_executing": true,
     "name": "#%%\n"
    }
   },
   "outputs": [],
   "source": [
    "test_score"
   ]
  },
  {
   "cell_type": "code",
   "execution_count": null,
   "metadata": {
    "pycharm": {
     "is_executing": true,
     "name": "#%%\n"
    }
   },
   "outputs": [],
   "source": [
    "parameter={'model__max_depth':np.arange(1,10),'model__ccp_alpha':np.arange(0.00827,0.05,0.01)}\n",
    "pd.DataFrame(GridSearchCV(DeciTree,param_grid=parameter,scoring='recall').fit(x_train,y_train).cv_results_)\n"
   ]
  },
  {
   "cell_type": "code",
   "execution_count": null,
   "metadata": {
    "pycharm": {
     "is_executing": true,
     "name": "#%%\n"
    }
   },
   "outputs": [],
   "source": [
    "randomFor = imbpipeline([\n",
    "    ('Imputation',preproc),\n",
    "    ('DF Converter',DfConverter()),\n",
    "    ('SMOTE NC Oversampling',SMOTENC(categorical_features=colselect,n_jobs=-1)),\n",
    "    ('DF Converter1',DfConverter()),\n",
    "    ('Data Preprocessing', data_preprocessing),\n",
    "    ('Custom Selector',customSelector()),\n",
    "    ('model', RandomForestClassifier())\n",
    "])\n",
    "# parameter={'model__max_depth':np.arange(1,9),'model__ccp_alpha':np.arange(0.00827,0.03,0.001)}\n",
    "# pd.DataFrame(GridSearchCV(randomFor,param_grid=parameter,scoring='recall').fit(x_train,y_train).cv_results_)\n",
    "\n",
    "record,current,lr=scoreModel(randomFor,x_train,y_train,\"Random Forest Classifier\",record=record)\n",
    "current"
   ]
  },
  {
   "cell_type": "code",
   "execution_count": null,
   "metadata": {
    "pycharm": {
     "is_executing": true,
     "name": "#%%\n"
    }
   },
   "outputs": [],
   "source": [
    "parameter={'model__max_depth':np.arange(1,10),'model__ccp_alpha':np.arange(0.00827,0.05,0.01)}\n",
    "pd.DataFrame(GridSearchCV(randomFor,param_grid=parameter,scoring='recall').fit(x_train,y_train).cv_results_)\n"
   ]
  },
  {
   "cell_type": "code",
   "execution_count": null,
   "metadata": {
    "pycharm": {
     "is_executing": true,
     "name": "#%%\n"
    }
   },
   "outputs": [],
   "source": [
    "svm = imbpipeline([\n",
    "    ('Imputation',preproc),\n",
    "    ('DF Converter',DfConverter()),\n",
    "    ('SMOTE NC Oversampling',SMOTENC(categorical_features=colselect,n_jobs=-1)),\n",
    "    ('DF Converter1',DfConverter()),\n",
    "    ('Data Preprocessing', data_preprocessing),\n",
    "    ('Custom Selector',customSelector()),\n",
    "    ('model', SVC())\n",
    "])\n",
    "# parameters = {'model__kernel':('linear', 'rbf'), 'model__C':np.arange(1,10),}\n",
    "# pd.DataFrame(GridSearchCV(svm,param_grid=parameters,scoring='recall',n_jobs=-1).fit(x_train,y_train).cv_results_)\n",
    "\n",
    "record,current,lr=scoreModel(svm,x_train,y_train,\"SVM Classifier\",record=record)\n",
    "current"
   ]
  },
  {
   "cell_type": "code",
   "execution_count": null,
   "metadata": {
    "pycharm": {
     "is_executing": true,
     "name": "#%%\n"
    }
   },
   "outputs": [],
   "source": [
    "parameter={'model__C':np.arange(1,10),'model__gamma':np.arange(0.1,1,0.1)}\n",
    "pd.DataFrame(GridSearchCV(svm,param_grid=parameter,scoring='recall').fit(x_train,y_train).cv_results_)"
   ]
  },
  {
   "cell_type": "code",
   "execution_count": null,
   "metadata": {
    "pycharm": {
     "is_executing": true,
     "name": "#%%\n"
    }
   },
   "outputs": [],
   "source": [
    "lgbmC = imbpipeline([\n",
    "    ('Imputation',preproc),\n",
    "    ('DF Converter',DfConverter()),\n",
    "    ('SMOTE NC Oversampling',SMOTENC(categorical_features=colselect,n_jobs=-1)),\n",
    "    ('DF Converter1',DfConverter()),\n",
    "    ('Data Preprocessing', data_preprocessing),\n",
    "    ('Custom Selector',customSelector()),\n",
    "    ('model', AdaBoostClassifier())\n",
    "])\n",
    "\n",
    "\n",
    "# parameter={'model__n_estimators':np.arange(1,13),'model__learning_rate':np.arange(0.1,2,0.01)}\n",
    "#\n",
    "# pd.DataFrame(GridSearchCV(lgbmC,param_grid=parameter,scoring='recall',n_jobs=-1).fit(x_train,y_train).cv_results_)\n",
    "\n",
    "record,current,lr=scoreModel(lgbmC,x_train,y_train,\"Adaptive Boosting Classifier\",record=record)\n",
    "current"
   ]
  },
  {
   "cell_type": "code",
   "execution_count": 124,
   "metadata": {
    "pycharm": {
     "is_executing": true,
     "name": "#%%\n"
    }
   },
   "outputs": [
    {
     "name": "stdout",
     "output_type": "stream",
     "text": [
      "[IterativeImputer] Completing matrix with shape (9920, 5)\n",
      "[IterativeImputer] Change: 957.3466266866567, scaled tolerance: 2.886 \n",
      "[IterativeImputer] Change: 30.963000000000065, scaled tolerance: 2.886 \n",
      "go\n",
      "go\n",
      "[IterativeImputer] Completing matrix with shape (3200, 5)\n",
      "go\n",
      "go\n",
      "[IterativeImputer] Completing matrix with shape (9920, 5)\n",
      "go\n",
      "go\n",
      "[IterativeImputer] Completing matrix with shape (12800, 5)\n",
      "[IterativeImputer] Change: 1093.7602561543579, scaled tolerance: 2.886 \n",
      "[IterativeImputer] Change: 41.273, scaled tolerance: 2.886 \n",
      "go\n",
      "go\n",
      "[IterativeImputer] Completing matrix with shape (3200, 5)\n",
      "go\n",
      "go\n",
      "[IterativeImputer] Completing matrix with shape (12800, 5)\n",
      "go\n",
      "go\n",
      "[IterativeImputer] Completing matrix with shape (12800, 5)\n",
      "[IterativeImputer] Change: 1082.6234912718205, scaled tolerance: 2.886 \n",
      "go\n",
      "go\n",
      "[IterativeImputer] Completing matrix with shape (3200, 5)\n",
      "go\n",
      "go\n",
      "[IterativeImputer] Completing matrix with shape (12800, 5)\n",
      "go\n",
      "go\n",
      "[IterativeImputer] Completing matrix with shape (4160, 5)\n",
      "[IterativeImputer] Change: 1083.418850574713, scaled tolerance: 2.861 \n",
      "go\n",
      "go\n",
      "[IterativeImputer] Completing matrix with shape (3200, 5)\n",
      "go\n",
      "go\n",
      "[IterativeImputer] Completing matrix with shape (4160, 5)\n",
      "go\n",
      "go\n",
      "[IterativeImputer] Completing matrix with shape (4160, 5)\n",
      "[IterativeImputer] Change: 1087.6508691206543, scaled tolerance: 2.861 \n",
      "go\n",
      "go\n",
      "[IterativeImputer] Completing matrix with shape (3200, 5)\n",
      "go\n",
      "go\n",
      "[IterativeImputer] Completing matrix with shape (4160, 5)\n",
      "go\n",
      "go\n",
      "[IterativeImputer] Completing matrix with shape (7040, 5)\n",
      "[IterativeImputer] Change: 1087.4009030704397, scaled tolerance: 2.886 \n",
      "go\n",
      "go\n",
      "[IterativeImputer] Completing matrix with shape (3200, 5)\n",
      "go\n",
      "go\n",
      "[IterativeImputer] Completing matrix with shape (7040, 5)\n",
      "go\n",
      "go\n",
      "[IterativeImputer] Completing matrix with shape (12800, 5)\n",
      "[IterativeImputer] Change: 1079.9934912718204, scaled tolerance: 2.886 \n",
      "[IterativeImputer] Change: 44.82799999999999, scaled tolerance: 2.886 \n",
      "[IterativeImputer] Change: 23.800000000000182, scaled tolerance: 2.886 \n",
      "[IterativeImputer] Change: 25.139999999999873, scaled tolerance: 2.886 \n",
      "[IterativeImputer] Change: 21.929999999999836, scaled tolerance: 2.886 \n",
      "go\n",
      "go\n",
      "[IterativeImputer] Completing matrix with shape (3200, 5)\n",
      "go\n",
      "go\n",
      "[IterativeImputer] Completing matrix with shape (12800, 5)\n",
      "go\n",
      "go\n",
      "[IterativeImputer] Completing matrix with shape (1280, 5)\n",
      "[IterativeImputer] Change: 1110.5601677852349, scaled tolerance: 2.737 \n",
      "[IterativeImputer] Change: 32.34399999999983, scaled tolerance: 2.737 \n",
      "[IterativeImputer] Change: 24.269999999999982, scaled tolerance: 2.737 \n",
      "[IterativeImputer] Change: 19.200000000000045, scaled tolerance: 2.737 \n",
      "[IterativeImputer] Change: 29.420000000000073, scaled tolerance: 2.737 \n",
      "go\n",
      "go\n",
      "[IterativeImputer] Completing matrix with shape (3200, 5)\n",
      "go\n",
      "go\n",
      "[IterativeImputer] Completing matrix with shape (1280, 5)\n",
      "go\n",
      "go\n",
      "[IterativeImputer] Completing matrix with shape (9920, 5)\n",
      "[IterativeImputer] Change: 1101.319116069513, scaled tolerance: 2.886 \n",
      "[IterativeImputer] Change: 30.25, scaled tolerance: 2.886 \n",
      "[IterativeImputer] Change: 23.339999999999918, scaled tolerance: 2.886 \n",
      "[IterativeImputer] Change: 26.279999999999973, scaled tolerance: 2.886 \n",
      "[IterativeImputer] Change: 36.42000000000007, scaled tolerance: 2.886 \n",
      "go\n",
      "go\n",
      "[IterativeImputer] Completing matrix with shape (3200, 5)\n",
      "go\n",
      "go\n",
      "[IterativeImputer] Completing matrix with shape (9920, 5)\n",
      "go\n",
      "go\n",
      "[IterativeImputer] Completing matrix with shape (9920, 5)\n",
      "[IterativeImputer] Change: 1100.7163110539843, scaled tolerance: 2.886 \n",
      "[IterativeImputer] Change: 26.3900000000001, scaled tolerance: 2.886 \n",
      "[IterativeImputer] Change: 28.015, scaled tolerance: 2.886 \n",
      "[IterativeImputer] Change: 27.63000000000011, scaled tolerance: 2.886 \n",
      "[IterativeImputer] Change: 26.74000000000001, scaled tolerance: 2.886 \n",
      "go\n",
      "go\n",
      "[IterativeImputer] Completing matrix with shape (3200, 5)\n",
      "go\n",
      "go\n",
      "[IterativeImputer] Completing matrix with shape (9920, 5)\n",
      "go\n",
      "go\n",
      "go\n",
      "go\n",
      "go\n",
      "go\n",
      "go\n",
      "go\n",
      "go\n",
      "go\n",
      "go\n",
      "go\n",
      "go\n",
      "go\n",
      "go\n",
      "go\n",
      "go\n",
      "go\n",
      "go\n",
      "go\n",
      "go\n",
      "go\n",
      "go\n",
      "go\n",
      "go\n",
      "go\n",
      "go\n",
      "go\n",
      "go\n",
      "go\n",
      "go\n",
      "go\n",
      "go\n",
      "go\n",
      "go\n",
      "go\n",
      "go\n",
      "go\n",
      "go\n",
      "go\n",
      "go\n",
      "go\n",
      "go\n",
      "go\n",
      "[IterativeImputer] Completing matrix with shape (4160, 5)\n",
      "[IterativeImputer] Change: 654.5389206430211, scaled tolerance: 2.737 \n",
      "[IterativeImputer] Change: 37.289999999999964, scaled tolerance: 2.737 \n",
      "go\n",
      "go\n",
      "[IterativeImputer] Completing matrix with shape (3200, 5)\n",
      "go\n",
      "go\n",
      "[IterativeImputer] Completing matrix with shape (4160, 5)\n",
      "go\n",
      "go\n",
      "[IterativeImputer] Completing matrix with shape (1280, 5)\n",
      "[IterativeImputer] Change: 1089.45855704698, scaled tolerance: 2.737 \n",
      "[IterativeImputer] Change: 22.809999999999945, scaled tolerance: 2.737 \n",
      "go\n",
      "go\n",
      "[IterativeImputer] Completing matrix with shape (3200, 5)\n",
      "go\n",
      "go\n",
      "[IterativeImputer] Completing matrix with shape (1280, 5)\n",
      "go\n",
      "go\n",
      "[IterativeImputer] Completing matrix with shape (9920, 5)\n",
      "[IterativeImputer] Change: 1097.1448257372654, scaled tolerance: 2.886 \n",
      "[IterativeImputer] Change: 30.189999999999827, scaled tolerance: 2.886 \n",
      "go\n",
      "go\n",
      "[IterativeImputer] Completing matrix with shape (3200, 5)\n",
      "go\n",
      "go\n",
      "[IterativeImputer] Completing matrix with shape (9920, 5)\n",
      "go\n",
      "go\n",
      "[IterativeImputer] Completing matrix with shape (9920, 5)\n",
      "[IterativeImputer] Change: 1130.694259695736, scaled tolerance: 2.874 \n",
      "[IterativeImputer] Change: 32.336000000000006, scaled tolerance: 2.874 \n",
      "go\n",
      "go\n",
      "[IterativeImputer] Completing matrix with shape (3200, 5)\n",
      "go\n",
      "go\n",
      "[IterativeImputer] Completing matrix with shape (9920, 5)\n",
      "go\n",
      "go\n",
      "[IterativeImputer] Completing matrix with shape (12800, 5)\n",
      "[IterativeImputer] Change: 1114.8873063190235, scaled tolerance: 2.874 \n",
      "[IterativeImputer] Change: 28.13000000000011, scaled tolerance: 2.874 \n",
      "[IterativeImputer] Change: 25.459000000000103, scaled tolerance: 2.874 \n",
      "go\n",
      "go\n",
      "[IterativeImputer] Completing matrix with shape (3200, 5)\n",
      "go\n",
      "go\n",
      "[IterativeImputer] Completing matrix with shape (12800, 5)\n",
      "go\n",
      "go\n",
      "[IterativeImputer] Completing matrix with shape (12800, 5)\n",
      "[IterativeImputer] Change: 968.3409466079879, scaled tolerance: 2.886 \n",
      "[IterativeImputer] Change: 22.0670000000001, scaled tolerance: 2.886 \n",
      "[IterativeImputer] Change: 24.49000000000001, scaled tolerance: 2.886 \n",
      "go\n",
      "go\n",
      "[IterativeImputer] Completing matrix with shape (3200, 5)\n",
      "go\n",
      "go\n",
      "[IterativeImputer] Completing matrix with shape (12800, 5)\n",
      "go\n",
      "go\n",
      "[IterativeImputer] Completing matrix with shape (4160, 5)\n",
      "[IterativeImputer] Change: 1078.7776433121019, scaled tolerance: 2.861 \n",
      "[IterativeImputer] Change: 24.440000000000055, scaled tolerance: 2.861 \n",
      "[IterativeImputer] Change: 26.460000000000036, scaled tolerance: 2.861 \n",
      "go\n",
      "go\n",
      "[IterativeImputer] Completing matrix with shape (3200, 5)\n",
      "go\n",
      "go\n",
      "[IterativeImputer] Completing matrix with shape (4160, 5)\n",
      "go\n",
      "go\n",
      "[IterativeImputer] Completing matrix with shape (7040, 5)\n",
      "[IterativeImputer] Change: 1100.8098824947274, scaled tolerance: 2.874 \n",
      "[IterativeImputer] Change: 19.059999999999945, scaled tolerance: 2.874 \n",
      "[IterativeImputer] Change: 25.329999999999927, scaled tolerance: 2.874 \n",
      "go\n",
      "go\n",
      "[IterativeImputer] Completing matrix with shape (3200, 5)\n",
      "go\n",
      "go\n",
      "[IterativeImputer] Completing matrix with shape (7040, 5)\n",
      "go\n",
      "go\n",
      "[IterativeImputer] Completing matrix with shape (12800, 5)\n",
      "[IterativeImputer] Change: 1088.6569465648856, scaled tolerance: 2.886 \n",
      "[IterativeImputer] Change: 29.787999999999883, scaled tolerance: 2.886 \n",
      "[IterativeImputer] Change: 34.45899999999998, scaled tolerance: 2.886 \n",
      "go\n",
      "go\n",
      "[IterativeImputer] Completing matrix with shape (3200, 5)\n",
      "go\n",
      "go\n",
      "[IterativeImputer] Completing matrix with shape (12800, 5)\n",
      "go\n",
      "go\n",
      "[IterativeImputer] Completing matrix with shape (1280, 5)\n",
      "[IterativeImputer] Change: 1103.4901677852351, scaled tolerance: 2.737 \n",
      "[IterativeImputer] Change: 29.8599999999999, scaled tolerance: 2.737 \n",
      "[IterativeImputer] Change: 24.029999999999973, scaled tolerance: 2.737 \n",
      "go\n",
      "go\n",
      "[IterativeImputer] Completing matrix with shape (3200, 5)\n",
      "go\n",
      "go\n",
      "[IterativeImputer] Completing matrix with shape (1280, 5)\n",
      "go\n",
      "go\n",
      "[IterativeImputer] Completing matrix with shape (9920, 5)\n",
      "[IterativeImputer] Change: 1100.8691160695128, scaled tolerance: 2.886 \n",
      "[IterativeImputer] Change: 25.71600000000015, scaled tolerance: 2.886 \n",
      "[IterativeImputer] Change: 21.470000000000027, scaled tolerance: 2.886 \n",
      "go\n",
      "go\n",
      "[IterativeImputer] Completing matrix with shape (3200, 5)\n",
      "go\n",
      "go\n"
     ]
    },
    {
     "data": {
      "image/png": "[encoded data removed]",
      "text/plain": [
       "<Figure size 432x288 with 1 Axes>"
      ]
     },
     "metadata": {
      "needs_background": "light"
     },
     "output_type": "display_data"
    },
    {
     "data": {
      "text/html": [
       "<div>\n",
       "<style scoped>\n",
       "    .dataframe tbody tr th:only-of-type {\n",
       "        vertical-align: middle;\n",
       "    }\n",
       "\n",
       "    .dataframe tbody tr th {\n",
       "        vertical-align: top;\n",
       "    }\n",
       "\n",
       "    .dataframe thead th {\n",
       "        text-align: right;\n",
       "    }\n",
       "</style>\n",
       "<table border=\"1\" class=\"dataframe\">\n",
       "  <thead>\n",
       "    <tr style=\"text-align: right;\">\n",
       "      <th></th>\n",
       "      <th>name</th>\n",
       "      <th>train_accuracy</th>\n",
       "      <th>test_accuracy</th>\n",
       "      <th>test_recall</th>\n",
       "      <th>train_recall</th>\n",
       "    </tr>\n",
       "  </thead>\n",
       "  <tbody>\n",
       "    <tr>\n",
       "      <th>0</th>\n",
       "      <td>eXtreme Gradient Boosting Classifier</td>\n",
       "      <td>0.998797</td>\n",
       "      <td>0.986375</td>\n",
       "      <td>0.868943</td>\n",
       "      <td>0.987085</td>\n",
       "    </tr>\n",
       "  </tbody>\n",
       "</table>\n",
       "</div>"
      ],
      "text/plain": [
       "                                   name  train_accuracy  test_accuracy  \\\n",
       "0  eXtreme Gradient Boosting Classifier        0.998797       0.986375   \n",
       "\n",
       "   test_recall  train_recall  \n",
       "0     0.868943      0.987085  "
      ]
     },
     "execution_count": 124,
     "metadata": {},
     "output_type": "execute_result"
    }
   ],
   "source": [
    "\n",
    "xgboost = imbpipeline([\n",
    "    ('Imputation',preproc),\n",
    "    ('DF Converter',DfConverter()),\n",
    "    ('SMOTE NC Oversampling',SMOTENC(categorical_features=colselect,n_jobs=-1)),\n",
    "    ('DF Converter1',DfConverter()),\n",
    "    ('Data Preprocessing', data_preprocessing),\n",
    "    ('Custom Selector',customSelector()),\n",
    "    ('Model', xgb.XGBClassifier())\n",
    "])\n",
    "record,current,lr=scoreModel(xgboost,x_train,y_train,\"eXtreme Gradient Boosting Classifier\",record)\n",
    "current"
   ]
  },
  {
   "cell_type": "code",
   "execution_count": null,
   "metadata": {
    "pycharm": {
     "is_executing": true,
     "name": "#%%\n"
    }
   },
   "outputs": [],
   "source": [
    "parameter={'Model__max_depth':np.arange(1,10),'Model__n_estimators':np.arange(1,16)}\n",
    "pd.DataFrame(GridSearchCV(xgboost,param_grid=parameter,scoring='recall').fit(x_train,y_train).cv_results_)\n"
   ]
  },
  {
   "cell_type": "code",
   "execution_count": null,
   "metadata": {
    "pycharm": {
     "is_executing": true,
     "name": "#%%\n"
    }
   },
   "outputs": [],
   "source": [
    "knnClassifier = imbpipeline([\n",
    "    ('Imputation',preproc),\n",
    "    ('DF Converter',DfConverter()),\n",
    "    ('SMOTE NC Oversampling',SMOTENC(categorical_features=colselect,n_jobs=-1)),\n",
    "    ('DF Converter1',DfConverter()),\n",
    "    ('Data Preprocessing', data_preprocessing),\n",
    "    ('Custom Selector',customSelector()),\n",
    "    ('Model', KNeighborsClassifier())\n",
    "])\n",
    "record,current,lr=scoreModel(knnClassifier,x_train,y_train,\"K-Nearest Neighbour Classifier\",record=record)\n",
    "current"
   ]
  },
  {
   "cell_type": "code",
   "execution_count": null,
   "metadata": {
    "pycharm": {
     "is_executing": true,
     "name": "#%%\n"
    }
   },
   "outputs": [],
   "source": [
    "parameter={'Model__n_neighbors':np.arange(1,10)}\n",
    "pd.DataFrame(GridSearchCV(knnClassifier,param_grid=parameter,scoring='recall').fit(x_train,y_train).cv_results_)\n"
   ]
  },
  {
   "cell_type": "code",
   "execution_count": null,
   "metadata": {
    "pycharm": {
     "is_executing": true,
     "name": "#%%\n"
    }
   },
   "outputs": [],
   "source": [
    "record"
   ]
  }
 ],
 "metadata": {
  "kernelspec": {
   "display_name": "Python 3 (ipykernel)",
   "language": "python",
   "name": "python3"
  },
  "language_info": {
   "codemirror_mode": {
    "name": "ipython",
    "version": 3
   },
   "file_extension": ".py",
   "mimetype": "text/x-python",
   "name": "python",
   "nbconvert_exporter": "python",
   "pygments_lexer": "ipython3",
   "version": "3.8.10"
  }
 },
 "nbformat": 4,
 "nbformat_minor": 1
}
