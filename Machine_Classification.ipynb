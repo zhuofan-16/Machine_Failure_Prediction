{
 "cells": [
  {
   "cell_type": "markdown",
   "id": "f21ad0f5",
   "metadata": {
    "papermill": {
     "duration": 0.013461,
     "end_time": "2022-05-19T05:23:51.974863",
     "exception": false,
     "start_time": "2022-05-19T05:23:51.961402",
     "status": "completed"
    },
    "pycharm": {
     "name": "#%% md\n"
    },
    "tags": []
   },
   "source": [
    "## Machine Failure Prediction using Machine Learning\n",
    "Author: Chen ZhuoFan (P2100746) | Singapore Polytechnic\n",
    "\n",
    "Globalisation is the process of interaction and integration among people,companies and governments worldwide.It has accelerated since the 18th century and have enabled the trade of goods and services at a bigger scale.\n",
    "\n",
    "The production of goods need to be done more effectively.In today's world, many goods are manufacturing by machines in a pipeline to ensure high efficiency and precision at the same time. However,machines may malfunction with time.These malfunctioning machines may result in defects in goods which is not favourable. Manual checking can be time-consuming and cost-inefficient.\n",
    "\n",
    "Machine Learning is defined by Mitchell (1997) as the study of computer algorithms that improve automatically through experience. [3] Machine learning comes to our sight in the recent decades with its ease and high performance. It has the capacity to learn and identify patterns from data and make decision.\n",
    "\n",
    "In this experiment ,we will make use of machine learning model to assist us in predicting malfunctioning machines so that repairs or replacements can be done in time to reduce disruption and loss.\n"
   ]
  },
  {
   "cell_type": "markdown",
   "id": "56bb6c75",
   "metadata": {
    "papermill": {
     "duration": 0.01239,
     "end_time": "2022-05-19T05:23:51.999753",
     "exception": false,
     "start_time": "2022-05-19T05:23:51.987363",
     "status": "completed"
    },
    "pycharm": {
     "name": "#%% md\n"
    },
    "tags": []
   },
   "source": [
    "## Problem Statement\n",
    "\n",
    "How can we make use of machine learning to predict malfunctioning machines in the factories?"
   ]
  },
  {
   "cell_type": "markdown",
   "id": "291729b7",
   "metadata": {
    "papermill": {
     "duration": 0.012439,
     "end_time": "2022-05-19T05:23:52.024396",
     "exception": false,
     "start_time": "2022-05-19T05:23:52.011957",
     "status": "completed"
    },
    "pycharm": {
     "name": "#%% md\n"
    },
    "tags": []
   },
   "source": [
    "## Importing Libraries"
   ]
  },
  {
   "cell_type": "code",
   "execution_count": 1,
   "id": "f55fb142",
   "metadata": {
    "execution": {
     "iopub.execute_input": "2022-05-19T05:23:52.050075Z",
     "iopub.status.busy": "2022-05-19T05:23:52.049514Z",
     "iopub.status.idle": "2022-05-19T05:23:53.866435Z",
     "shell.execute_reply": "2022-05-19T05:23:53.865746Z"
    },
    "papermill": {
     "duration": 1.831987,
     "end_time": "2022-05-19T05:23:53.868471",
     "exception": false,
     "start_time": "2022-05-19T05:23:52.036484",
     "status": "completed"
    },
    "pycharm": {
     "name": "#%%\n"
    },
    "tags": []
   },
   "outputs": [
    {
     "name": "stdout",
     "output_type": "stream",
     "text": [
      "Requirement already satisfied: numpy in /opt/hostedtoolcache/Python/3.8.12/x64/lib/python3.8/site-packages (1.22.3)\r\n",
      "Requirement already satisfied: matplotlib in /opt/hostedtoolcache/Python/3.8.12/x64/lib/python3.8/site-packages (3.5.2)\r\n",
      "Requirement already satisfied: pandas in /opt/hostedtoolcache/Python/3.8.12/x64/lib/python3.8/site-packages (1.4.2)\r\n",
      "Requirement already satisfied: seaborn in /opt/hostedtoolcache/Python/3.8.12/x64/lib/python3.8/site-packages (0.11.2)\r\n",
      "Requirement already satisfied: scikit-learn==1.0.2 in /opt/hostedtoolcache/Python/3.8.12/x64/lib/python3.8/site-packages (1.0.2)\r\n",
      "Requirement already satisfied: yellowbrick in /opt/hostedtoolcache/Python/3.8.12/x64/lib/python3.8/site-packages (1.4)\r\n",
      "Requirement already satisfied: phik in /opt/hostedtoolcache/Python/3.8.12/x64/lib/python3.8/site-packages (0.12.2)\r\n",
      "Requirement already satisfied: statsmodels in /opt/hostedtoolcache/Python/3.8.12/x64/lib/python3.8/site-packages (0.13.2)\r\n",
      "Requirement already satisfied: pyampute in /opt/hostedtoolcache/Python/3.8.12/x64/lib/python3.8/site-packages (0.0.2)\r\n",
      "Requirement already satisfied: xgboost in /opt/hostedtoolcache/Python/3.8.12/x64/lib/python3.8/site-packages (1.6.1)\r\n",
      "Requirement already satisfied: imblearn in /opt/hostedtoolcache/Python/3.8.12/x64/lib/python3.8/site-packages (0.0)\r\n",
      "Requirement already satisfied: missingno in /opt/hostedtoolcache/Python/3.8.12/x64/lib/python3.8/site-packages (0.5.1)\r\n"
     ]
    },
    {
     "name": "stdout",
     "output_type": "stream",
     "text": [
      "Collecting mlxtend\r\n"
     ]
    },
    {
     "name": "stdout",
     "output_type": "stream",
     "text": [
      "  Downloading mlxtend-0.19.0-py2.py3-none-any.whl (1.3 MB)\r\n",
      "\u001b[?25l     \u001b[90m━━━━━━━━━━━━━━━━━━━━━━━━━━━━━━━━━━━━━━━━\u001b[0m \u001b[32m0.0/1.3 MB\u001b[0m \u001b[31m?\u001b[0m eta \u001b[36m-:--:--\u001b[0m"
     ]
    },
    {
     "name": "stdout",
     "output_type": "stream",
     "text": [
      "\r",
      "\u001b[2K     \u001b[91m━━━━━━\u001b[0m\u001b[91m╸\u001b[0m\u001b[90m━━━━━━━━━━━━━━━━━━━━━━━━━━━━━━━━━\u001b[0m \u001b[32m0.2/1.3 MB\u001b[0m \u001b[31m7.4 MB/s\u001b[0m eta \u001b[36m0:00:01\u001b[0m"
     ]
    },
    {
     "name": "stdout",
     "output_type": "stream",
     "text": [
      "\r",
      "\u001b[2K     \u001b[91m━━━━━━━━━━━━━━━━━━━━━━━━━━━━━━━━━━━━━━━\u001b[0m\u001b[91m╸\u001b[0m \u001b[32m1.3/1.3 MB\u001b[0m \u001b[31m21.1 MB/s\u001b[0m eta \u001b[36m0:00:01\u001b[0m\r",
      "\u001b[2K     \u001b[90m━━━━━━━━━━━━━━━━━━━━━━━━━━━━━━━━━━━━━━━━\u001b[0m \u001b[32m1.3/1.3 MB\u001b[0m \u001b[31m19.0 MB/s\u001b[0m eta \u001b[36m0:00:00\u001b[0m\r\n",
      "\u001b[?25h"
     ]
    },
    {
     "name": "stdout",
     "output_type": "stream",
     "text": [
      "Requirement already satisfied: joblib>=0.11 in /opt/hostedtoolcache/Python/3.8.12/x64/lib/python3.8/site-packages (from scikit-learn==1.0.2) (1.1.0)\r\n",
      "Requirement already satisfied: threadpoolctl>=2.0.0 in /opt/hostedtoolcache/Python/3.8.12/x64/lib/python3.8/site-packages (from scikit-learn==1.0.2) (3.1.0)\r\n",
      "Requirement already satisfied: scipy>=1.1.0 in /opt/hostedtoolcache/Python/3.8.12/x64/lib/python3.8/site-packages (from scikit-learn==1.0.2) (1.8.1)\r\n",
      "Requirement already satisfied: python-dateutil>=2.7 in /opt/hostedtoolcache/Python/3.8.12/x64/lib/python3.8/site-packages (from matplotlib) (2.8.2)\r\n",
      "Requirement already satisfied: pillow>=6.2.0 in /opt/hostedtoolcache/Python/3.8.12/x64/lib/python3.8/site-packages (from matplotlib) (9.1.1)\r\n",
      "Requirement already satisfied: kiwisolver>=1.0.1 in /opt/hostedtoolcache/Python/3.8.12/x64/lib/python3.8/site-packages (from matplotlib) (1.4.2)\r\n",
      "Requirement already satisfied: fonttools>=4.22.0 in /opt/hostedtoolcache/Python/3.8.12/x64/lib/python3.8/site-packages (from matplotlib) (4.33.3)\r\n",
      "Requirement already satisfied: cycler>=0.10 in /opt/hostedtoolcache/Python/3.8.12/x64/lib/python3.8/site-packages (from matplotlib) (0.11.0)\r\n",
      "Requirement already satisfied: packaging>=20.0 in /opt/hostedtoolcache/Python/3.8.12/x64/lib/python3.8/site-packages (from matplotlib) (21.3)\r\n",
      "Requirement already satisfied: pyparsing>=2.2.1 in /opt/hostedtoolcache/Python/3.8.12/x64/lib/python3.8/site-packages (from matplotlib) (3.0.9)\r\n",
      "Requirement already satisfied: pytz>=2020.1 in /opt/hostedtoolcache/Python/3.8.12/x64/lib/python3.8/site-packages (from pandas) (2022.1)\r\n"
     ]
    },
    {
     "name": "stdout",
     "output_type": "stream",
     "text": [
      "Requirement already satisfied: patsy>=0.5.2 in /opt/hostedtoolcache/Python/3.8.12/x64/lib/python3.8/site-packages (from statsmodels) (0.5.2)\r\n",
      "Requirement already satisfied: imbalanced-learn in /opt/hostedtoolcache/Python/3.8.12/x64/lib/python3.8/site-packages (from imblearn) (0.9.0)\r\n",
      "Requirement already satisfied: setuptools in /opt/hostedtoolcache/Python/3.8.12/x64/lib/python3.8/site-packages (from mlxtend) (56.0.0)\r\n"
     ]
    },
    {
     "name": "stdout",
     "output_type": "stream",
     "text": [
      "Requirement already satisfied: six in /opt/hostedtoolcache/Python/3.8.12/x64/lib/python3.8/site-packages (from patsy>=0.5.2->statsmodels) (1.16.0)\r\n"
     ]
    },
    {
     "name": "stdout",
     "output_type": "stream",
     "text": [
      "Installing collected packages: mlxtend\r\n"
     ]
    },
    {
     "name": "stdout",
     "output_type": "stream",
     "text": [
      "Successfully installed mlxtend-0.19.0\r\n"
     ]
    }
   ],
   "source": [
    "!pip install numpy matplotlib pandas seaborn scikit-learn==1.0.2 yellowbrick phik statsmodels pyampute xgboost imblearn missingno mlxtend --user "
   ]
  },
  {
   "cell_type": "code",
   "execution_count": 2,
   "id": "7f67b533",
   "metadata": {
    "execution": {
     "iopub.execute_input": "2022-05-19T05:23:53.896156Z",
     "iopub.status.busy": "2022-05-19T05:23:53.895783Z",
     "iopub.status.idle": "2022-05-19T05:23:55.457028Z",
     "shell.execute_reply": "2022-05-19T05:23:55.456408Z"
    },
    "papermill": {
     "duration": 1.577222,
     "end_time": "2022-05-19T05:23:55.458904",
     "exception": false,
     "start_time": "2022-05-19T05:23:53.881682",
     "status": "completed"
    },
    "pycharm": {
     "name": "#%%\n"
    },
    "tags": []
   },
   "outputs": [],
   "source": [
    "import numpy as np\n",
    "import matplotlib.pyplot as plt\n",
    "import pandas as pd\n",
    "import seaborn as sns\n",
    "\n",
    "sns.set_style(\"whitegrid\")\n",
    "\n",
    "\n",
    "\n",
    "# Model Evaluation\n",
    "from sklearn.model_selection import train_test_split, cross_validate, StratifiedKFold\n",
    "from sklearn.metrics import classification_report, plot_precision_recall_curve, plot_roc_curve, confusion_matrix\n",
    "from yellowbrick.model_selection import learning_curve\n",
    "\n",
    "# Missing Value\n",
    "from pyampute.exploration.mcar_statistical_tests import MCARTest\n",
    "from sklearn.impute import KNNImputer\n",
    "\n",
    "\n",
    "\n",
    "# Data Preprocessing\n",
    "import phik\n",
    "from sklearn.pipeline import Pipeline\n",
    "from sklearn.compose import ColumnTransformer\n",
    "from sklearn.preprocessing import  OneHotEncoder,QuantileTransformer\n",
    "from sklearn.preprocessing import  MinMaxScaler\n",
    "\n",
    "\n",
    "# Models\n",
    "from sklearn.dummy import DummyClassifier\n",
    "from sklearn.neighbors import KNeighborsClassifier\n",
    "from sklearn.linear_model import LogisticRegression\n",
    "from sklearn.svm import SVC\n",
    "from sklearn.tree import DecisionTreeClassifier\n",
    "from sklearn.ensemble import RandomForestClassifier, GradientBoostingClassifier, AdaBoostClassifier\n",
    "from sklearn.naive_bayes import GaussianNB\n",
    "import xgboost as xgb\n",
    "\n",
    "\n",
    "# Feature Importance\n",
    "from sklearn.inspection import permutation_importance\n",
    "\n",
    "# Hyperparameter Tuning\n",
    "from sklearn.model_selection import  GridSearchCV\n",
    "from sklearn.metrics import recall_score\n",
    "\n",
    "# Feature Selection\n",
    "from sklearn.feature_selection import SequentialFeatureSelector\n",
    "from sklearn.feature_selection import SelectFromModel, RFE, SelectKBest,chi2\n",
    "\n",
    "import joblib\n",
    "# Random State\n",
    "random_state = 0"
   ]
  },
  {
   "cell_type": "code",
   "execution_count": 3,
   "id": "af441b51",
   "metadata": {
    "execution": {
     "iopub.execute_input": "2022-05-19T05:23:55.486205Z",
     "iopub.status.busy": "2022-05-19T05:23:55.485781Z",
     "iopub.status.idle": "2022-05-19T05:23:55.489749Z",
     "shell.execute_reply": "2022-05-19T05:23:55.489252Z"
    },
    "papermill": {
     "duration": 0.018986,
     "end_time": "2022-05-19T05:23:55.491045",
     "exception": false,
     "start_time": "2022-05-19T05:23:55.472059",
     "status": "completed"
    },
    "tags": []
   },
   "outputs": [],
   "source": [
    "from sklearn.utils._testing import ignore_warnings\n",
    "from sklearn.exceptions import ConvergenceWarning"
   ]
  },
  {
   "cell_type": "markdown",
   "id": "b866318e",
   "metadata": {
    "papermill": {
     "duration": 0.012694,
     "end_time": "2022-05-19T05:23:55.516390",
     "exception": false,
     "start_time": "2022-05-19T05:23:55.503696",
     "status": "completed"
    },
    "pycharm": {
     "name": "#%% md\n"
    },
    "tags": []
   },
   "source": [
    "## Data Ingestion"
   ]
  },
  {
   "cell_type": "code",
   "execution_count": 4,
   "id": "b6c8a6da",
   "metadata": {
    "execution": {
     "iopub.execute_input": "2022-05-19T05:23:55.567010Z",
     "iopub.status.busy": "2022-05-19T05:23:55.566486Z",
     "iopub.status.idle": "2022-05-19T05:23:55.604676Z",
     "shell.execute_reply": "2022-05-19T05:23:55.604120Z"
    },
    "papermill": {
     "duration": 0.053241,
     "end_time": "2022-05-19T05:23:55.606130",
     "exception": false,
     "start_time": "2022-05-19T05:23:55.552889",
     "status": "completed"
    },
    "pycharm": {
     "name": "#%%\n"
    },
    "tags": []
   },
   "outputs": [
    {
     "data": {
      "text/html": [
       "<div>\n",
       "<style scoped>\n",
       "    .dataframe tbody tr th:only-of-type {\n",
       "        vertical-align: middle;\n",
       "    }\n",
       "\n",
       "    .dataframe tbody tr th {\n",
       "        vertical-align: top;\n",
       "    }\n",
       "\n",
       "    .dataframe thead th {\n",
       "        text-align: right;\n",
       "    }\n",
       "</style>\n",
       "<table border=\"1\" class=\"dataframe\">\n",
       "  <thead>\n",
       "    <tr style=\"text-align: right;\">\n",
       "      <th></th>\n",
       "      <th>Product ID</th>\n",
       "      <th>Quality</th>\n",
       "      <th>Ambient T (C)</th>\n",
       "      <th>Process T (C)</th>\n",
       "      <th>Rotation Speed (rpm)</th>\n",
       "      <th>Torque (Nm)</th>\n",
       "      <th>Tool Wear (min)</th>\n",
       "      <th>Machine Status</th>\n",
       "    </tr>\n",
       "    <tr>\n",
       "      <th>Unique ID</th>\n",
       "      <th></th>\n",
       "      <th></th>\n",
       "      <th></th>\n",
       "      <th></th>\n",
       "      <th></th>\n",
       "      <th></th>\n",
       "      <th></th>\n",
       "      <th></th>\n",
       "    </tr>\n",
       "  </thead>\n",
       "  <tbody>\n",
       "    <tr>\n",
       "      <th>1</th>\n",
       "      <td>K12965</td>\n",
       "      <td>M</td>\n",
       "      <td>24.95</td>\n",
       "      <td>35.45</td>\n",
       "      <td>1551.0</td>\n",
       "      <td>42.8</td>\n",
       "      <td>0</td>\n",
       "      <td>0</td>\n",
       "    </tr>\n",
       "    <tr>\n",
       "      <th>2</th>\n",
       "      <td>Z62710</td>\n",
       "      <td>L</td>\n",
       "      <td>25.05</td>\n",
       "      <td>35.55</td>\n",
       "      <td>1408.0</td>\n",
       "      <td>46.3</td>\n",
       "      <td>3</td>\n",
       "      <td>0</td>\n",
       "    </tr>\n",
       "    <tr>\n",
       "      <th>3</th>\n",
       "      <td>T20224</td>\n",
       "      <td>L</td>\n",
       "      <td>24.95</td>\n",
       "      <td>35.35</td>\n",
       "      <td>1498.0</td>\n",
       "      <td>49.4</td>\n",
       "      <td>5</td>\n",
       "      <td>0</td>\n",
       "    </tr>\n",
       "    <tr>\n",
       "      <th>4</th>\n",
       "      <td>Z33024</td>\n",
       "      <td>L</td>\n",
       "      <td>25.05</td>\n",
       "      <td>35.45</td>\n",
       "      <td>1433.0</td>\n",
       "      <td>39.5</td>\n",
       "      <td>7</td>\n",
       "      <td>0</td>\n",
       "    </tr>\n",
       "    <tr>\n",
       "      <th>5</th>\n",
       "      <td>Z52839</td>\n",
       "      <td>L</td>\n",
       "      <td>25.05</td>\n",
       "      <td>35.55</td>\n",
       "      <td>1408.0</td>\n",
       "      <td>40.0</td>\n",
       "      <td>9</td>\n",
       "      <td>0</td>\n",
       "    </tr>\n",
       "    <tr>\n",
       "      <th>...</th>\n",
       "      <td>...</td>\n",
       "      <td>...</td>\n",
       "      <td>...</td>\n",
       "      <td>...</td>\n",
       "      <td>...</td>\n",
       "      <td>...</td>\n",
       "      <td>...</td>\n",
       "      <td>...</td>\n",
       "    </tr>\n",
       "    <tr>\n",
       "      <th>19996</th>\n",
       "      <td>T87335</td>\n",
       "      <td>M</td>\n",
       "      <td>25.75</td>\n",
       "      <td>35.35</td>\n",
       "      <td>NaN</td>\n",
       "      <td>29.5</td>\n",
       "      <td>14</td>\n",
       "      <td>0</td>\n",
       "    </tr>\n",
       "    <tr>\n",
       "      <th>19997</th>\n",
       "      <td>Z59525</td>\n",
       "      <td>H</td>\n",
       "      <td>25.85</td>\n",
       "      <td>35.35</td>\n",
       "      <td>1632.0</td>\n",
       "      <td>31.8</td>\n",
       "      <td>17</td>\n",
       "      <td>0</td>\n",
       "    </tr>\n",
       "    <tr>\n",
       "      <th>19998</th>\n",
       "      <td>T83921</td>\n",
       "      <td>M</td>\n",
       "      <td>25.95</td>\n",
       "      <td>NaN</td>\n",
       "      <td>NaN</td>\n",
       "      <td>33.4</td>\n",
       "      <td>22</td>\n",
       "      <td>0</td>\n",
       "    </tr>\n",
       "    <tr>\n",
       "      <th>19999</th>\n",
       "      <td>K42424</td>\n",
       "      <td>H</td>\n",
       "      <td>25.95</td>\n",
       "      <td>35.65</td>\n",
       "      <td>1408.0</td>\n",
       "      <td>48.5</td>\n",
       "      <td>25</td>\n",
       "      <td>0</td>\n",
       "    </tr>\n",
       "    <tr>\n",
       "      <th>20000</th>\n",
       "      <td>Z10048</td>\n",
       "      <td>M</td>\n",
       "      <td>25.95</td>\n",
       "      <td>35.65</td>\n",
       "      <td>1500.0</td>\n",
       "      <td>40.2</td>\n",
       "      <td>30</td>\n",
       "      <td>0</td>\n",
       "    </tr>\n",
       "  </tbody>\n",
       "</table>\n",
       "<p>20000 rows × 8 columns</p>\n",
       "</div>"
      ],
      "text/plain": [
       "          Product ID Quality  Ambient T (C)  Process T (C)  \\\n",
       "Unique ID                                                    \n",
       "1             K12965       M          24.95          35.45   \n",
       "2             Z62710       L          25.05          35.55   \n",
       "3             T20224       L          24.95          35.35   \n",
       "4             Z33024       L          25.05          35.45   \n",
       "5             Z52839       L          25.05          35.55   \n",
       "...              ...     ...            ...            ...   \n",
       "19996         T87335       M          25.75          35.35   \n",
       "19997         Z59525       H          25.85          35.35   \n",
       "19998         T83921       M          25.95            NaN   \n",
       "19999         K42424       H          25.95          35.65   \n",
       "20000         Z10048       M          25.95          35.65   \n",
       "\n",
       "           Rotation Speed (rpm)  Torque (Nm)  Tool Wear (min)  Machine Status  \n",
       "Unique ID                                                                      \n",
       "1                        1551.0         42.8                0               0  \n",
       "2                        1408.0         46.3                3               0  \n",
       "3                        1498.0         49.4                5               0  \n",
       "4                        1433.0         39.5                7               0  \n",
       "5                        1408.0         40.0                9               0  \n",
       "...                         ...          ...              ...             ...  \n",
       "19996                       NaN         29.5               14               0  \n",
       "19997                    1632.0         31.8               17               0  \n",
       "19998                       NaN         33.4               22               0  \n",
       "19999                    1408.0         48.5               25               0  \n",
       "20000                    1500.0         40.2               30               0  \n",
       "\n",
       "[20000 rows x 8 columns]"
      ]
     },
     "execution_count": 4,
     "metadata": {},
     "output_type": "execute_result"
    }
   ],
   "source": [
    "machineDf=pd.read_csv(\"./factory_data (classification).csv\",index_col='Unique ID')\n",
    "machineDf"
   ]
  },
  {
   "cell_type": "markdown",
   "id": "45c0525e",
   "metadata": {
    "papermill": {
     "duration": 0.013088,
     "end_time": "2022-05-19T05:23:55.632444",
     "exception": false,
     "start_time": "2022-05-19T05:23:55.619356",
     "status": "completed"
    },
    "pycharm": {
     "name": "#%% md\n"
    },
    "tags": []
   },
   "source": [
    "## Data Exploration\n",
    "\n",
    "### Data Structure"
   ]
  },
  {
   "cell_type": "code",
   "execution_count": 5,
   "id": "652959ef",
   "metadata": {
    "execution": {
     "iopub.execute_input": "2022-05-19T05:23:55.659850Z",
     "iopub.status.busy": "2022-05-19T05:23:55.659326Z",
     "iopub.status.idle": "2022-05-19T05:23:55.674327Z",
     "shell.execute_reply": "2022-05-19T05:23:55.673742Z"
    },
    "papermill": {
     "duration": 0.030321,
     "end_time": "2022-05-19T05:23:55.675764",
     "exception": false,
     "start_time": "2022-05-19T05:23:55.645443",
     "status": "completed"
    },
    "pycharm": {
     "name": "#%%\n"
    },
    "tags": []
   },
   "outputs": [
    {
     "name": "stdout",
     "output_type": "stream",
     "text": [
      "<class 'pandas.core.frame.DataFrame'>\n",
      "Int64Index: 20000 entries, 1 to 20000\n",
      "Data columns (total 8 columns):\n",
      " #   Column                Non-Null Count  Dtype  \n",
      "---  ------                --------------  -----  \n",
      " 0   Product ID            20000 non-null  object \n",
      " 1   Quality               19009 non-null  object \n",
      " 2   Ambient T (C)         20000 non-null  float64\n",
      " 3   Process T (C)         19600 non-null  float64\n",
      " 4   Rotation Speed (rpm)  18812 non-null  float64\n",
      " 5   Torque (Nm)           20000 non-null  float64\n",
      " 6   Tool Wear (min)       20000 non-null  int64  \n",
      " 7   Machine Status        20000 non-null  int64  \n",
      "dtypes: float64(4), int64(2), object(2)\n",
      "memory usage: 1.4+ MB\n"
     ]
    }
   ],
   "source": [
    "machineDf.info()"
   ]
  },
  {
   "cell_type": "markdown",
   "id": "726177bc",
   "metadata": {
    "papermill": {
     "duration": 0.01325,
     "end_time": "2022-05-19T05:23:55.702144",
     "exception": false,
     "start_time": "2022-05-19T05:23:55.688894",
     "status": "completed"
    },
    "pycharm": {
     "name": "#%% md\n"
    },
    "tags": []
   },
   "source": [
    "### Managing Missing Data"
   ]
  },
  {
   "cell_type": "markdown",
   "id": "4e588419",
   "metadata": {
    "papermill": {
     "duration": 0.013114,
     "end_time": "2022-05-19T05:23:55.728373",
     "exception": false,
     "start_time": "2022-05-19T05:23:55.715259",
     "status": "completed"
    },
    "pycharm": {
     "name": "#%% md\n"
    },
    "tags": []
   },
   "source": []
  },
  {
   "cell_type": "code",
   "execution_count": 6,
   "id": "991302fb",
   "metadata": {
    "execution": {
     "iopub.execute_input": "2022-05-19T05:23:55.756078Z",
     "iopub.status.busy": "2022-05-19T05:23:55.755633Z",
     "iopub.status.idle": "2022-05-19T05:23:55.767455Z",
     "shell.execute_reply": "2022-05-19T05:23:55.766939Z"
    },
    "papermill": {
     "duration": 0.0271,
     "end_time": "2022-05-19T05:23:55.768738",
     "exception": false,
     "start_time": "2022-05-19T05:23:55.741638",
     "status": "completed"
    },
    "pycharm": {
     "name": "#%%\n"
    },
    "tags": []
   },
   "outputs": [
    {
     "data": {
      "text/html": [
       "<div>\n",
       "<style scoped>\n",
       "    .dataframe tbody tr th:only-of-type {\n",
       "        vertical-align: middle;\n",
       "    }\n",
       "\n",
       "    .dataframe tbody tr th {\n",
       "        vertical-align: top;\n",
       "    }\n",
       "\n",
       "    .dataframe thead th {\n",
       "        text-align: right;\n",
       "    }\n",
       "</style>\n",
       "<table border=\"1\" class=\"dataframe\">\n",
       "  <thead>\n",
       "    <tr style=\"text-align: right;\">\n",
       "      <th></th>\n",
       "      <th>0</th>\n",
       "    </tr>\n",
       "  </thead>\n",
       "  <tbody>\n",
       "    <tr>\n",
       "      <th>Rotation Speed (rpm)</th>\n",
       "      <td>1188</td>\n",
       "    </tr>\n",
       "    <tr>\n",
       "      <th>Quality</th>\n",
       "      <td>991</td>\n",
       "    </tr>\n",
       "    <tr>\n",
       "      <th>Process T (C)</th>\n",
       "      <td>400</td>\n",
       "    </tr>\n",
       "    <tr>\n",
       "      <th>Product ID</th>\n",
       "      <td>0</td>\n",
       "    </tr>\n",
       "    <tr>\n",
       "      <th>Ambient T (C)</th>\n",
       "      <td>0</td>\n",
       "    </tr>\n",
       "    <tr>\n",
       "      <th>Torque (Nm)</th>\n",
       "      <td>0</td>\n",
       "    </tr>\n",
       "    <tr>\n",
       "      <th>Tool Wear (min)</th>\n",
       "      <td>0</td>\n",
       "    </tr>\n",
       "    <tr>\n",
       "      <th>Machine Status</th>\n",
       "      <td>0</td>\n",
       "    </tr>\n",
       "  </tbody>\n",
       "</table>\n",
       "</div>"
      ],
      "text/plain": [
       "                         0\n",
       "Rotation Speed (rpm)  1188\n",
       "Quality                991\n",
       "Process T (C)          400\n",
       "Product ID               0\n",
       "Ambient T (C)            0\n",
       "Torque (Nm)              0\n",
       "Tool Wear (min)          0\n",
       "Machine Status           0"
      ]
     },
     "execution_count": 6,
     "metadata": {},
     "output_type": "execute_result"
    }
   ],
   "source": [
    "pd.DataFrame(machineDf.isna().sum().sort_values(ascending=False))"
   ]
  },
  {
   "cell_type": "code",
   "execution_count": 7,
   "id": "ab1d7b2a",
   "metadata": {
    "execution": {
     "iopub.execute_input": "2022-05-19T05:23:55.796362Z",
     "iopub.status.busy": "2022-05-19T05:23:55.795943Z",
     "iopub.status.idle": "2022-05-19T05:23:55.814668Z",
     "shell.execute_reply": "2022-05-19T05:23:55.814128Z"
    },
    "papermill": {
     "duration": 0.033913,
     "end_time": "2022-05-19T05:23:55.815960",
     "exception": false,
     "start_time": "2022-05-19T05:23:55.782047",
     "status": "completed"
    },
    "pycharm": {
     "name": "#%%\n"
    },
    "tags": []
   },
   "outputs": [
    {
     "data": {
      "text/html": [
       "<div>\n",
       "<style scoped>\n",
       "    .dataframe tbody tr th:only-of-type {\n",
       "        vertical-align: middle;\n",
       "    }\n",
       "\n",
       "    .dataframe tbody tr th {\n",
       "        vertical-align: top;\n",
       "    }\n",
       "\n",
       "    .dataframe thead th {\n",
       "        text-align: right;\n",
       "    }\n",
       "</style>\n",
       "<table border=\"1\" class=\"dataframe\">\n",
       "  <thead>\n",
       "    <tr style=\"text-align: right;\">\n",
       "      <th></th>\n",
       "      <th>Product ID</th>\n",
       "      <th>Quality</th>\n",
       "      <th>Ambient T (C)</th>\n",
       "      <th>Process T (C)</th>\n",
       "      <th>Rotation Speed (rpm)</th>\n",
       "      <th>Torque (Nm)</th>\n",
       "      <th>Tool Wear (min)</th>\n",
       "      <th>Machine Status</th>\n",
       "    </tr>\n",
       "    <tr>\n",
       "      <th>Unique ID</th>\n",
       "      <th></th>\n",
       "      <th></th>\n",
       "      <th></th>\n",
       "      <th></th>\n",
       "      <th></th>\n",
       "      <th></th>\n",
       "      <th></th>\n",
       "      <th></th>\n",
       "    </tr>\n",
       "  </thead>\n",
       "  <tbody>\n",
       "    <tr>\n",
       "      <th>7</th>\n",
       "      <td>K40563</td>\n",
       "      <td>L</td>\n",
       "      <td>24.95</td>\n",
       "      <td>NaN</td>\n",
       "      <td>NaN</td>\n",
       "      <td>42.4</td>\n",
       "      <td>14</td>\n",
       "      <td>0</td>\n",
       "    </tr>\n",
       "    <tr>\n",
       "      <th>11</th>\n",
       "      <td>K30974</td>\n",
       "      <td>NaN</td>\n",
       "      <td>25.25</td>\n",
       "      <td>35.75</td>\n",
       "      <td>1782.0</td>\n",
       "      <td>23.9</td>\n",
       "      <td>24</td>\n",
       "      <td>0</td>\n",
       "    </tr>\n",
       "    <tr>\n",
       "      <th>15</th>\n",
       "      <td>T39889</td>\n",
       "      <td>NaN</td>\n",
       "      <td>25.45</td>\n",
       "      <td>36.05</td>\n",
       "      <td>2035.0</td>\n",
       "      <td>19.6</td>\n",
       "      <td>40</td>\n",
       "      <td>0</td>\n",
       "    </tr>\n",
       "    <tr>\n",
       "      <th>20</th>\n",
       "      <td>T81915</td>\n",
       "      <td>M</td>\n",
       "      <td>25.75</td>\n",
       "      <td>NaN</td>\n",
       "      <td>1632.0</td>\n",
       "      <td>32.5</td>\n",
       "      <td>55</td>\n",
       "      <td>0</td>\n",
       "    </tr>\n",
       "    <tr>\n",
       "      <th>21</th>\n",
       "      <td>S64787</td>\n",
       "      <td>H</td>\n",
       "      <td>25.75</td>\n",
       "      <td>36.15</td>\n",
       "      <td>NaN</td>\n",
       "      <td>42.7</td>\n",
       "      <td>58</td>\n",
       "      <td>0</td>\n",
       "    </tr>\n",
       "    <tr>\n",
       "      <th>...</th>\n",
       "      <td>...</td>\n",
       "      <td>...</td>\n",
       "      <td>...</td>\n",
       "      <td>...</td>\n",
       "      <td>...</td>\n",
       "      <td>...</td>\n",
       "      <td>...</td>\n",
       "      <td>...</td>\n",
       "    </tr>\n",
       "    <tr>\n",
       "      <th>19982</th>\n",
       "      <td>Z53954</td>\n",
       "      <td>L</td>\n",
       "      <td>25.65</td>\n",
       "      <td>NaN</td>\n",
       "      <td>1353.0</td>\n",
       "      <td>47.0</td>\n",
       "      <td>190</td>\n",
       "      <td>0</td>\n",
       "    </tr>\n",
       "    <tr>\n",
       "      <th>19987</th>\n",
       "      <td>S13645</td>\n",
       "      <td>M</td>\n",
       "      <td>25.75</td>\n",
       "      <td>35.55</td>\n",
       "      <td>NaN</td>\n",
       "      <td>42.3</td>\n",
       "      <td>207</td>\n",
       "      <td>0</td>\n",
       "    </tr>\n",
       "    <tr>\n",
       "      <th>19992</th>\n",
       "      <td>T72209</td>\n",
       "      <td>M</td>\n",
       "      <td>25.85</td>\n",
       "      <td>35.35</td>\n",
       "      <td>NaN</td>\n",
       "      <td>26.1</td>\n",
       "      <td>5</td>\n",
       "      <td>0</td>\n",
       "    </tr>\n",
       "    <tr>\n",
       "      <th>19996</th>\n",
       "      <td>T87335</td>\n",
       "      <td>M</td>\n",
       "      <td>25.75</td>\n",
       "      <td>35.35</td>\n",
       "      <td>NaN</td>\n",
       "      <td>29.5</td>\n",
       "      <td>14</td>\n",
       "      <td>0</td>\n",
       "    </tr>\n",
       "    <tr>\n",
       "      <th>19998</th>\n",
       "      <td>T83921</td>\n",
       "      <td>M</td>\n",
       "      <td>25.95</td>\n",
       "      <td>NaN</td>\n",
       "      <td>NaN</td>\n",
       "      <td>33.4</td>\n",
       "      <td>22</td>\n",
       "      <td>0</td>\n",
       "    </tr>\n",
       "  </tbody>\n",
       "</table>\n",
       "<p>2471 rows × 8 columns</p>\n",
       "</div>"
      ],
      "text/plain": [
       "          Product ID Quality  Ambient T (C)  Process T (C)  \\\n",
       "Unique ID                                                    \n",
       "7             K40563       L          24.95            NaN   \n",
       "11            K30974     NaN          25.25          35.75   \n",
       "15            T39889     NaN          25.45          36.05   \n",
       "20            T81915       M          25.75            NaN   \n",
       "21            S64787       H          25.75          36.15   \n",
       "...              ...     ...            ...            ...   \n",
       "19982         Z53954       L          25.65            NaN   \n",
       "19987         S13645       M          25.75          35.55   \n",
       "19992         T72209       M          25.85          35.35   \n",
       "19996         T87335       M          25.75          35.35   \n",
       "19998         T83921       M          25.95            NaN   \n",
       "\n",
       "           Rotation Speed (rpm)  Torque (Nm)  Tool Wear (min)  Machine Status  \n",
       "Unique ID                                                                      \n",
       "7                           NaN         42.4               14               0  \n",
       "11                       1782.0         23.9               24               0  \n",
       "15                       2035.0         19.6               40               0  \n",
       "20                       1632.0         32.5               55               0  \n",
       "21                          NaN         42.7               58               0  \n",
       "...                         ...          ...              ...             ...  \n",
       "19982                    1353.0         47.0              190               0  \n",
       "19987                       NaN         42.3              207               0  \n",
       "19992                       NaN         26.1                5               0  \n",
       "19996                       NaN         29.5               14               0  \n",
       "19998                       NaN         33.4               22               0  \n",
       "\n",
       "[2471 rows x 8 columns]"
      ]
     },
     "execution_count": 7,
     "metadata": {},
     "output_type": "execute_result"
    }
   ],
   "source": [
    "machineDf[machineDf.isnull().any(axis=1)]"
   ]
  },
  {
   "cell_type": "code",
   "execution_count": 8,
   "id": "ef584e68",
   "metadata": {
    "execution": {
     "iopub.execute_input": "2022-05-19T05:23:55.844494Z",
     "iopub.status.busy": "2022-05-19T05:23:55.843954Z",
     "iopub.status.idle": "2022-05-19T05:23:56.059273Z",
     "shell.execute_reply": "2022-05-19T05:23:56.058696Z"
    },
    "papermill": {
     "duration": 0.231441,
     "end_time": "2022-05-19T05:23:56.060982",
     "exception": false,
     "start_time": "2022-05-19T05:23:55.829541",
     "status": "completed"
    },
    "pycharm": {
     "name": "#%%\n"
    },
    "tags": []
   },
   "outputs": [
    {
     "data": {
      "text/plain": [
       "<AxesSubplot:title={'center':'Number of missing value in features'}>"
      ]
     },
     "execution_count": 8,
     "metadata": {},
     "output_type": "execute_result"
    },
    {
     "data": {
      "image/png": "[encoded data removed]",
      "text/plain": [
       "<Figure size 432x288 with 1 Axes>"
      ]
     },
     "metadata": {
      "needs_background": "light"
     },
     "output_type": "display_data"
    }
   ],
   "source": [
    "machineDf.isna().sum().sort_values().plot.barh(title='Number of missing value in features')"
   ]
  },
  {
   "cell_type": "code",
   "execution_count": 9,
   "id": "d341b660",
   "metadata": {
    "execution": {
     "iopub.execute_input": "2022-05-19T05:23:56.090772Z",
     "iopub.status.busy": "2022-05-19T05:23:56.090318Z",
     "iopub.status.idle": "2022-05-19T05:23:56.391376Z",
     "shell.execute_reply": "2022-05-19T05:23:56.390830Z"
    },
    "papermill": {
     "duration": 0.317442,
     "end_time": "2022-05-19T05:23:56.392759",
     "exception": false,
     "start_time": "2022-05-19T05:23:56.075317",
     "status": "completed"
    },
    "pycharm": {
     "name": "#%%\n"
    },
    "tags": []
   },
   "outputs": [
    {
     "data": {
      "image/png": "[encoded data removed]",
      "text/plain": [
       "<Figure size 432x288 with 1 Axes>"
      ]
     },
     "metadata": {
      "needs_background": "light"
     },
     "output_type": "display_data"
    }
   ],
   "source": [
    "import seaborn as sns\n",
    "sns.heatmap(machineDf.isnull(), cbar=False)\n",
    "plt.show()"
   ]
  },
  {
   "cell_type": "code",
   "execution_count": 10,
   "id": "9a77455d",
   "metadata": {
    "execution": {
     "iopub.execute_input": "2022-05-19T05:23:56.423417Z",
     "iopub.status.busy": "2022-05-19T05:23:56.422874Z",
     "iopub.status.idle": "2022-05-19T05:23:56.677351Z",
     "shell.execute_reply": "2022-05-19T05:23:56.676821Z"
    },
    "papermill": {
     "duration": 0.271073,
     "end_time": "2022-05-19T05:23:56.678734",
     "exception": false,
     "start_time": "2022-05-19T05:23:56.407661",
     "status": "completed"
    },
    "pycharm": {
     "name": "#%%\n"
    },
    "tags": []
   },
   "outputs": [
    {
     "data": {
      "text/plain": [
       "<AxesSubplot:>"
      ]
     },
     "execution_count": 10,
     "metadata": {},
     "output_type": "execute_result"
    },
    {
     "data": {
      "image/png": "[encoded data removed]",
      "text/plain": [
       "<Figure size 1800x720 with 2 Axes>"
      ]
     },
     "metadata": {
      "needs_background": "light"
     },
     "output_type": "display_data"
    }
   ],
   "source": [
    "import missingno as msno\n",
    "msno.matrix(machineDf)"
   ]
  },
  {
   "cell_type": "code",
   "execution_count": 11,
   "id": "02fcc526",
   "metadata": {
    "execution": {
     "iopub.execute_input": "2022-05-19T05:23:56.711035Z",
     "iopub.status.busy": "2022-05-19T05:23:56.710472Z",
     "iopub.status.idle": "2022-05-19T05:23:56.912804Z",
     "shell.execute_reply": "2022-05-19T05:23:56.912243Z"
    },
    "papermill": {
     "duration": 0.219831,
     "end_time": "2022-05-19T05:23:56.914291",
     "exception": false,
     "start_time": "2022-05-19T05:23:56.694460",
     "status": "completed"
    },
    "pycharm": {
     "name": "#%%\n"
    },
    "tags": []
   },
   "outputs": [
    {
     "data": {
      "text/plain": [
       "<AxesSubplot:>"
      ]
     },
     "execution_count": 11,
     "metadata": {},
     "output_type": "execute_result"
    },
    {
     "data": {
      "image/png": "[encoded data removed]",
      "text/plain": [
       "<Figure size 1440x864 with 2 Axes>"
      ]
     },
     "metadata": {
      "needs_background": "light"
     },
     "output_type": "display_data"
    }
   ],
   "source": [
    "msno.heatmap(machineDf)"
   ]
  },
  {
   "cell_type": "markdown",
   "id": "5d9ef82d",
   "metadata": {
    "papermill": {
     "duration": 0.015655,
     "end_time": "2022-05-19T05:23:56.946021",
     "exception": false,
     "start_time": "2022-05-19T05:23:56.930366",
     "status": "completed"
    },
    "pycharm": {
     "name": "#%% md\n"
    },
    "tags": []
   },
   "source": [
    "### Target Label"
   ]
  },
  {
   "cell_type": "code",
   "execution_count": 12,
   "id": "2a6f0332",
   "metadata": {
    "execution": {
     "iopub.execute_input": "2022-05-19T05:23:56.978850Z",
     "iopub.status.busy": "2022-05-19T05:23:56.978307Z",
     "iopub.status.idle": "2022-05-19T05:23:57.074736Z",
     "shell.execute_reply": "2022-05-19T05:23:57.074292Z"
    },
    "papermill": {
     "duration": 0.114081,
     "end_time": "2022-05-19T05:23:57.075938",
     "exception": false,
     "start_time": "2022-05-19T05:23:56.961857",
     "status": "completed"
    },
    "pycharm": {
     "name": "#%%\n"
    },
    "tags": []
   },
   "outputs": [
    {
     "data": {
      "text/plain": [
       "Text(0.5, 1.0, 'Distribution of target label')"
      ]
     },
     "execution_count": 12,
     "metadata": {},
     "output_type": "execute_result"
    },
    {
     "data": {
      "image/png": "[encoded data removed]",
      "text/plain": [
       "<Figure size 432x288 with 1 Axes>"
      ]
     },
     "metadata": {
      "needs_background": "light"
     },
     "output_type": "display_data"
    }
   ],
   "source": [
    "sns.countplot(data=machineDf,x='Machine Status').set_title(\"Distribution of target label\")"
   ]
  },
  {
   "cell_type": "markdown",
   "id": "45c7755d",
   "metadata": {
    "papermill": {
     "duration": 0.016633,
     "end_time": "2022-05-19T05:23:57.109169",
     "exception": false,
     "start_time": "2022-05-19T05:23:57.092536",
     "status": "completed"
    },
    "pycharm": {
     "name": "#%% md\n"
    },
    "tags": []
   },
   "source": [
    "### Qualitative Features"
   ]
  },
  {
   "cell_type": "code",
   "execution_count": 13,
   "id": "0f6f87f3",
   "metadata": {
    "execution": {
     "iopub.execute_input": "2022-05-19T05:23:57.142607Z",
     "iopub.status.busy": "2022-05-19T05:23:57.142012Z",
     "iopub.status.idle": "2022-05-19T05:23:57.145043Z",
     "shell.execute_reply": "2022-05-19T05:23:57.144630Z"
    },
    "papermill": {
     "duration": 0.021222,
     "end_time": "2022-05-19T05:23:57.146373",
     "exception": false,
     "start_time": "2022-05-19T05:23:57.125151",
     "status": "completed"
    },
    "pycharm": {
     "name": "#%%\n"
    },
    "tags": []
   },
   "outputs": [],
   "source": [
    "qualitativeVariable=['Product ID', 'Quality']"
   ]
  },
  {
   "cell_type": "markdown",
   "id": "272e0813",
   "metadata": {
    "papermill": {
     "duration": 0.016019,
     "end_time": "2022-05-19T05:23:57.178432",
     "exception": false,
     "start_time": "2022-05-19T05:23:57.162413",
     "status": "completed"
    },
    "pycharm": {
     "name": "#%% md\n"
    },
    "tags": []
   },
   "source": [
    "### Qualitative Features"
   ]
  },
  {
   "cell_type": "code",
   "execution_count": 14,
   "id": "eaaf1f10",
   "metadata": {
    "execution": {
     "iopub.execute_input": "2022-05-19T05:23:57.211977Z",
     "iopub.status.busy": "2022-05-19T05:23:57.211525Z",
     "iopub.status.idle": "2022-05-19T05:23:57.214555Z",
     "shell.execute_reply": "2022-05-19T05:23:57.214022Z"
    },
    "papermill": {
     "duration": 0.021256,
     "end_time": "2022-05-19T05:23:57.215852",
     "exception": false,
     "start_time": "2022-05-19T05:23:57.194596",
     "status": "completed"
    },
    "pycharm": {
     "name": "#%%\n"
    },
    "tags": []
   },
   "outputs": [],
   "source": [
    "quantitativeVariable=['Ambient T (C)', 'Process T (C)',\n",
    "       'Rotation Speed (rpm)', 'Torque (Nm)', 'Tool Wear (min)']"
   ]
  },
  {
   "cell_type": "markdown",
   "id": "6449ac3a",
   "metadata": {
    "papermill": {
     "duration": 0.016066,
     "end_time": "2022-05-19T05:23:57.248004",
     "exception": false,
     "start_time": "2022-05-19T05:23:57.231938",
     "status": "completed"
    },
    "pycharm": {
     "name": "#%% md\n"
    },
    "tags": []
   },
   "source": [
    "### Univariate Analysis"
   ]
  },
  {
   "cell_type": "code",
   "execution_count": 15,
   "id": "0b5bc336",
   "metadata": {
    "execution": {
     "iopub.execute_input": "2022-05-19T05:23:57.281680Z",
     "iopub.status.busy": "2022-05-19T05:23:57.281088Z",
     "iopub.status.idle": "2022-05-19T05:23:57.303845Z",
     "shell.execute_reply": "2022-05-19T05:23:57.303322Z"
    },
    "papermill": {
     "duration": 0.041242,
     "end_time": "2022-05-19T05:23:57.305321",
     "exception": false,
     "start_time": "2022-05-19T05:23:57.264079",
     "status": "completed"
    },
    "pycharm": {
     "name": "#%%\n"
    },
    "tags": []
   },
   "outputs": [
    {
     "data": {
      "text/html": [
       "<div>\n",
       "<style scoped>\n",
       "    .dataframe tbody tr th:only-of-type {\n",
       "        vertical-align: middle;\n",
       "    }\n",
       "\n",
       "    .dataframe tbody tr th {\n",
       "        vertical-align: top;\n",
       "    }\n",
       "\n",
       "    .dataframe thead th {\n",
       "        text-align: right;\n",
       "    }\n",
       "</style>\n",
       "<table border=\"1\" class=\"dataframe\">\n",
       "  <thead>\n",
       "    <tr style=\"text-align: right;\">\n",
       "      <th></th>\n",
       "      <th>Ambient T (C)</th>\n",
       "      <th>Process T (C)</th>\n",
       "      <th>Rotation Speed (rpm)</th>\n",
       "      <th>Torque (Nm)</th>\n",
       "      <th>Tool Wear (min)</th>\n",
       "    </tr>\n",
       "  </thead>\n",
       "  <tbody>\n",
       "    <tr>\n",
       "      <th>count</th>\n",
       "      <td>20000.000000</td>\n",
       "      <td>19600.000000</td>\n",
       "      <td>18812.000000</td>\n",
       "      <td>20000.000000</td>\n",
       "      <td>20000.000000</td>\n",
       "    </tr>\n",
       "    <tr>\n",
       "      <th>mean</th>\n",
       "      <td>26.904930</td>\n",
       "      <td>36.904291</td>\n",
       "      <td>1538.795397</td>\n",
       "      <td>39.986910</td>\n",
       "      <td>107.951000</td>\n",
       "    </tr>\n",
       "    <tr>\n",
       "      <th>std</th>\n",
       "      <td>2.000834</td>\n",
       "      <td>1.483647</td>\n",
       "      <td>178.674963</td>\n",
       "      <td>9.968684</td>\n",
       "      <td>63.652555</td>\n",
       "    </tr>\n",
       "    <tr>\n",
       "      <th>min</th>\n",
       "      <td>22.150000</td>\n",
       "      <td>32.550000</td>\n",
       "      <td>1168.000000</td>\n",
       "      <td>3.800000</td>\n",
       "      <td>0.000000</td>\n",
       "    </tr>\n",
       "    <tr>\n",
       "      <th>25%</th>\n",
       "      <td>25.250000</td>\n",
       "      <td>35.750000</td>\n",
       "      <td>1423.000000</td>\n",
       "      <td>33.200000</td>\n",
       "      <td>53.000000</td>\n",
       "    </tr>\n",
       "    <tr>\n",
       "      <th>50%</th>\n",
       "      <td>26.950000</td>\n",
       "      <td>36.950000</td>\n",
       "      <td>1503.000000</td>\n",
       "      <td>40.100000</td>\n",
       "      <td>108.000000</td>\n",
       "    </tr>\n",
       "    <tr>\n",
       "      <th>75%</th>\n",
       "      <td>28.450000</td>\n",
       "      <td>37.950000</td>\n",
       "      <td>1613.000000</td>\n",
       "      <td>46.800000</td>\n",
       "      <td>162.000000</td>\n",
       "    </tr>\n",
       "    <tr>\n",
       "      <th>max</th>\n",
       "      <td>31.450000</td>\n",
       "      <td>40.750000</td>\n",
       "      <td>2886.000000</td>\n",
       "      <td>76.600000</td>\n",
       "      <td>253.000000</td>\n",
       "    </tr>\n",
       "  </tbody>\n",
       "</table>\n",
       "</div>"
      ],
      "text/plain": [
       "       Ambient T (C)  Process T (C)  Rotation Speed (rpm)   Torque (Nm)  \\\n",
       "count   20000.000000   19600.000000          18812.000000  20000.000000   \n",
       "mean       26.904930      36.904291           1538.795397     39.986910   \n",
       "std         2.000834       1.483647            178.674963      9.968684   \n",
       "min        22.150000      32.550000           1168.000000      3.800000   \n",
       "25%        25.250000      35.750000           1423.000000     33.200000   \n",
       "50%        26.950000      36.950000           1503.000000     40.100000   \n",
       "75%        28.450000      37.950000           1613.000000     46.800000   \n",
       "max        31.450000      40.750000           2886.000000     76.600000   \n",
       "\n",
       "       Tool Wear (min)  \n",
       "count     20000.000000  \n",
       "mean        107.951000  \n",
       "std          63.652555  \n",
       "min           0.000000  \n",
       "25%          53.000000  \n",
       "50%         108.000000  \n",
       "75%         162.000000  \n",
       "max         253.000000  "
      ]
     },
     "execution_count": 15,
     "metadata": {},
     "output_type": "execute_result"
    }
   ],
   "source": [
    "machineDf[quantitativeVariable].describe()"
   ]
  },
  {
   "cell_type": "code",
   "execution_count": 16,
   "id": "13772700",
   "metadata": {
    "execution": {
     "iopub.execute_input": "2022-05-19T05:23:57.339370Z",
     "iopub.status.busy": "2022-05-19T05:23:57.338923Z",
     "iopub.status.idle": "2022-05-19T05:23:57.406301Z",
     "shell.execute_reply": "2022-05-19T05:23:57.405731Z"
    },
    "papermill": {
     "duration": 0.085835,
     "end_time": "2022-05-19T05:23:57.407634",
     "exception": false,
     "start_time": "2022-05-19T05:23:57.321799",
     "status": "completed"
    },
    "pycharm": {
     "name": "#%%\n"
    },
    "tags": []
   },
   "outputs": [
    {
     "data": {
      "text/html": [
       "<div>\n",
       "<style scoped>\n",
       "    .dataframe tbody tr th:only-of-type {\n",
       "        vertical-align: middle;\n",
       "    }\n",
       "\n",
       "    .dataframe tbody tr th {\n",
       "        vertical-align: top;\n",
       "    }\n",
       "\n",
       "    .dataframe thead th {\n",
       "        text-align: right;\n",
       "    }\n",
       "</style>\n",
       "<table border=\"1\" class=\"dataframe\">\n",
       "  <thead>\n",
       "    <tr style=\"text-align: right;\">\n",
       "      <th></th>\n",
       "      <th>count</th>\n",
       "      <th>unique</th>\n",
       "      <th>top</th>\n",
       "      <th>freq</th>\n",
       "      <th>Proportion of Most Frequent Value</th>\n",
       "    </tr>\n",
       "  </thead>\n",
       "  <tbody>\n",
       "    <tr>\n",
       "      <th>Machine Status</th>\n",
       "      <td>20000</td>\n",
       "      <td>2</td>\n",
       "      <td>0</td>\n",
       "      <td>19322</td>\n",
       "      <td>96.61</td>\n",
       "    </tr>\n",
       "    <tr>\n",
       "      <th>Quality</th>\n",
       "      <td>19009</td>\n",
       "      <td>3</td>\n",
       "      <td>L</td>\n",
       "      <td>11390</td>\n",
       "      <td>56.95</td>\n",
       "    </tr>\n",
       "    <tr>\n",
       "      <th>Process T (C)</th>\n",
       "      <td>19600.0</td>\n",
       "      <td>83.0</td>\n",
       "      <td>37.45</td>\n",
       "      <td>575.0</td>\n",
       "      <td>2.875</td>\n",
       "    </tr>\n",
       "    <tr>\n",
       "      <th>Ambient T (C)</th>\n",
       "      <td>20000.0</td>\n",
       "      <td>94.0</td>\n",
       "      <td>27.55</td>\n",
       "      <td>495.0</td>\n",
       "      <td>2.475</td>\n",
       "    </tr>\n",
       "    <tr>\n",
       "      <th>Tool Wear (min)</th>\n",
       "      <td>20000</td>\n",
       "      <td>246</td>\n",
       "      <td>0</td>\n",
       "      <td>240</td>\n",
       "      <td>1.2</td>\n",
       "    </tr>\n",
       "    <tr>\n",
       "      <th>Torque (Nm)</th>\n",
       "      <td>20000.0</td>\n",
       "      <td>577.0</td>\n",
       "      <td>40.2</td>\n",
       "      <td>104.0</td>\n",
       "      <td>0.52</td>\n",
       "    </tr>\n",
       "    <tr>\n",
       "      <th>Rotation Speed (rpm)</th>\n",
       "      <td>18812.0</td>\n",
       "      <td>941.0</td>\n",
       "      <td>1452.0</td>\n",
       "      <td>93.0</td>\n",
       "      <td>0.465</td>\n",
       "    </tr>\n",
       "    <tr>\n",
       "      <th>Product ID</th>\n",
       "      <td>20000</td>\n",
       "      <td>19408</td>\n",
       "      <td>K34631</td>\n",
       "      <td>3</td>\n",
       "      <td>0.015</td>\n",
       "    </tr>\n",
       "  </tbody>\n",
       "</table>\n",
       "</div>"
      ],
      "text/plain": [
       "                        count unique     top   freq  \\\n",
       "Machine Status          20000      2       0  19322   \n",
       "Quality                 19009      3       L  11390   \n",
       "Process T (C)         19600.0   83.0   37.45  575.0   \n",
       "Ambient T (C)         20000.0   94.0   27.55  495.0   \n",
       "Tool Wear (min)         20000    246       0    240   \n",
       "Torque (Nm)           20000.0  577.0    40.2  104.0   \n",
       "Rotation Speed (rpm)  18812.0  941.0  1452.0   93.0   \n",
       "Product ID              20000  19408  K34631      3   \n",
       "\n",
       "                     Proportion of Most Frequent Value  \n",
       "Machine Status                                   96.61  \n",
       "Quality                                          56.95  \n",
       "Process T (C)                                    2.875  \n",
       "Ambient T (C)                                    2.475  \n",
       "Tool Wear (min)                                    1.2  \n",
       "Torque (Nm)                                       0.52  \n",
       "Rotation Speed (rpm)                             0.465  \n",
       "Product ID                                       0.015  "
      ]
     },
     "execution_count": 16,
     "metadata": {},
     "output_type": "execute_result"
    }
   ],
   "source": [
    "descriptive_stats = machineDf.astype('category').describe().T\n",
    "descriptive_stats[\"Proportion of Most Frequent Value\"] = descriptive_stats[\"freq\"] / len(machineDf.astype('category')) * 100\n",
    "descriptive_stats.sort_values(\"Proportion of Most Frequent Value\", ascending=False)"
   ]
  },
  {
   "cell_type": "code",
   "execution_count": 17,
   "id": "825db628",
   "metadata": {
    "execution": {
     "iopub.execute_input": "2022-05-19T05:23:57.442164Z",
     "iopub.status.busy": "2022-05-19T05:23:57.441627Z",
     "iopub.status.idle": "2022-05-19T05:23:57.541366Z",
     "shell.execute_reply": "2022-05-19T05:23:57.540856Z"
    },
    "papermill": {
     "duration": 0.118554,
     "end_time": "2022-05-19T05:23:57.542859",
     "exception": false,
     "start_time": "2022-05-19T05:23:57.424305",
     "status": "completed"
    },
    "pycharm": {
     "name": "#%%\n"
    },
    "tags": []
   },
   "outputs": [
    {
     "data": {
      "text/plain": [
       "<AxesSubplot:xlabel='Quality', ylabel='count'>"
      ]
     },
     "execution_count": 17,
     "metadata": {},
     "output_type": "execute_result"
    },
    {
     "data": {
      "image/png": "[encoded data removed]",
      "text/plain": [
       "<Figure size 432x288 with 1 Axes>"
      ]
     },
     "metadata": {
      "needs_background": "light"
     },
     "output_type": "display_data"
    }
   ],
   "source": [
    "sns.countplot(x='Quality',data=machineDf,)"
   ]
  },
  {
   "cell_type": "code",
   "execution_count": 18,
   "id": "6707a1e8",
   "metadata": {
    "execution": {
     "iopub.execute_input": "2022-05-19T05:23:57.578683Z",
     "iopub.status.busy": "2022-05-19T05:23:57.578181Z",
     "iopub.status.idle": "2022-05-19T05:23:58.176976Z",
     "shell.execute_reply": "2022-05-19T05:23:58.176438Z"
    },
    "papermill": {
     "duration": 0.617935,
     "end_time": "2022-05-19T05:23:58.178384",
     "exception": false,
     "start_time": "2022-05-19T05:23:57.560449",
     "status": "completed"
    },
    "pycharm": {
     "name": "#%%\n"
    },
    "tags": []
   },
   "outputs": [
    {
     "data": {
      "text/plain": [
       "array([[<AxesSubplot:title={'center':'Ambient T (C)'}>,\n",
       "        <AxesSubplot:title={'center':'Process T (C)'}>],\n",
       "       [<AxesSubplot:title={'center':'Rotation Speed (rpm)'}>,\n",
       "        <AxesSubplot:title={'center':'Torque (Nm)'}>],\n",
       "       [<AxesSubplot:title={'center':'Tool Wear (min)'}>, <AxesSubplot:>]],\n",
       "      dtype=object)"
      ]
     },
     "execution_count": 18,
     "metadata": {},
     "output_type": "execute_result"
    },
    {
     "data": {
      "image/png": "[encoded data removed]",
      "text/plain": [
       "<Figure size 720x576 with 6 Axes>"
      ]
     },
     "metadata": {
      "needs_background": "light"
     },
     "output_type": "display_data"
    }
   ],
   "source": [
    "machineDf[quantitativeVariable].hist(figsize=(10,8))"
   ]
  },
  {
   "cell_type": "code",
   "execution_count": 19,
   "id": "e2a65fcd",
   "metadata": {
    "execution": {
     "iopub.execute_input": "2022-05-19T05:23:58.215307Z",
     "iopub.status.busy": "2022-05-19T05:23:58.214745Z",
     "iopub.status.idle": "2022-05-19T05:23:58.795989Z",
     "shell.execute_reply": "2022-05-19T05:23:58.794865Z"
    },
    "papermill": {
     "duration": 0.60115,
     "end_time": "2022-05-19T05:23:58.797422",
     "exception": false,
     "start_time": "2022-05-19T05:23:58.196272",
     "status": "completed"
    },
    "pycharm": {
     "name": "#%%\n"
    },
    "tags": []
   },
   "outputs": [
    {
     "data": {
      "image/png": "[encoded data removed]",
      "text/plain": [
       "<Figure size 576x1080 with 5 Axes>"
      ]
     },
     "metadata": {
      "needs_background": "light"
     },
     "output_type": "display_data"
    }
   ],
   "source": [
    "fig, ax = plt.subplots(len(quantitativeVariable), 1, figsize=(8, 15), tight_layout=True)\n",
    "for idx, feature in enumerate(quantitativeVariable):\n",
    "    sns.boxplot(data=machineDf, x=feature, ax = ax[idx])\n",
    "fig.show()"
   ]
  },
  {
   "cell_type": "code",
   "execution_count": 20,
   "id": "cad424e4",
   "metadata": {
    "execution": {
     "iopub.execute_input": "2022-05-19T05:23:58.834896Z",
     "iopub.status.busy": "2022-05-19T05:23:58.834444Z",
     "iopub.status.idle": "2022-05-19T05:23:58.856493Z",
     "shell.execute_reply": "2022-05-19T05:23:58.855955Z"
    },
    "papermill": {
     "duration": 0.042026,
     "end_time": "2022-05-19T05:23:58.857797",
     "exception": false,
     "start_time": "2022-05-19T05:23:58.815771",
     "status": "completed"
    },
    "pycharm": {
     "name": "#%%\n"
    },
    "tags": []
   },
   "outputs": [
    {
     "data": {
      "text/html": [
       "<div>\n",
       "<style scoped>\n",
       "    .dataframe tbody tr th:only-of-type {\n",
       "        vertical-align: middle;\n",
       "    }\n",
       "\n",
       "    .dataframe tbody tr th {\n",
       "        vertical-align: top;\n",
       "    }\n",
       "\n",
       "    .dataframe thead th {\n",
       "        text-align: right;\n",
       "    }\n",
       "</style>\n",
       "<table border=\"1\" class=\"dataframe\">\n",
       "  <thead>\n",
       "    <tr style=\"text-align: right;\">\n",
       "      <th></th>\n",
       "      <th>Ambient T (C)</th>\n",
       "      <th>Process T (C)</th>\n",
       "      <th>Rotation Speed (rpm)</th>\n",
       "      <th>Torque (Nm)</th>\n",
       "      <th>Tool Wear (min)</th>\n",
       "      <th>Machine Status</th>\n",
       "    </tr>\n",
       "  </thead>\n",
       "  <tbody>\n",
       "    <tr>\n",
       "      <th>count</th>\n",
       "      <td>771.000000</td>\n",
       "      <td>757.000000</td>\n",
       "      <td>771.000000</td>\n",
       "      <td>771.000000</td>\n",
       "      <td>771.000000</td>\n",
       "      <td>771.000000</td>\n",
       "    </tr>\n",
       "    <tr>\n",
       "      <th>mean</th>\n",
       "      <td>27.163230</td>\n",
       "      <td>37.031242</td>\n",
       "      <td>2103.333333</td>\n",
       "      <td>18.846174</td>\n",
       "      <td>107.712062</td>\n",
       "      <td>0.084306</td>\n",
       "    </tr>\n",
       "    <tr>\n",
       "      <th>std</th>\n",
       "      <td>2.062808</td>\n",
       "      <td>1.507887</td>\n",
       "      <td>216.956317</td>\n",
       "      <td>3.588364</td>\n",
       "      <td>65.390417</td>\n",
       "      <td>0.278027</td>\n",
       "    </tr>\n",
       "    <tr>\n",
       "      <th>min</th>\n",
       "      <td>22.450000</td>\n",
       "      <td>32.850000</td>\n",
       "      <td>1899.000000</td>\n",
       "      <td>3.800000</td>\n",
       "      <td>0.000000</td>\n",
       "      <td>0.000000</td>\n",
       "    </tr>\n",
       "    <tr>\n",
       "      <th>25%</th>\n",
       "      <td>25.350000</td>\n",
       "      <td>35.950000</td>\n",
       "      <td>1950.500000</td>\n",
       "      <td>16.800000</td>\n",
       "      <td>45.000000</td>\n",
       "      <td>0.000000</td>\n",
       "    </tr>\n",
       "    <tr>\n",
       "      <th>50%</th>\n",
       "      <td>27.450000</td>\n",
       "      <td>37.250000</td>\n",
       "      <td>2016.000000</td>\n",
       "      <td>19.700000</td>\n",
       "      <td>110.000000</td>\n",
       "      <td>0.000000</td>\n",
       "    </tr>\n",
       "    <tr>\n",
       "      <th>75%</th>\n",
       "      <td>28.750000</td>\n",
       "      <td>38.050000</td>\n",
       "      <td>2182.000000</td>\n",
       "      <td>21.500000</td>\n",
       "      <td>165.000000</td>\n",
       "      <td>0.000000</td>\n",
       "    </tr>\n",
       "    <tr>\n",
       "      <th>max</th>\n",
       "      <td>31.250000</td>\n",
       "      <td>40.650000</td>\n",
       "      <td>2886.000000</td>\n",
       "      <td>25.000000</td>\n",
       "      <td>244.000000</td>\n",
       "      <td>1.000000</td>\n",
       "    </tr>\n",
       "  </tbody>\n",
       "</table>\n",
       "</div>"
      ],
      "text/plain": [
       "       Ambient T (C)  Process T (C)  Rotation Speed (rpm)  Torque (Nm)  \\\n",
       "count     771.000000     757.000000            771.000000   771.000000   \n",
       "mean       27.163230      37.031242           2103.333333    18.846174   \n",
       "std         2.062808       1.507887            216.956317     3.588364   \n",
       "min        22.450000      32.850000           1899.000000     3.800000   \n",
       "25%        25.350000      35.950000           1950.500000    16.800000   \n",
       "50%        27.450000      37.250000           2016.000000    19.700000   \n",
       "75%        28.750000      38.050000           2182.000000    21.500000   \n",
       "max        31.250000      40.650000           2886.000000    25.000000   \n",
       "\n",
       "       Tool Wear (min)  Machine Status  \n",
       "count       771.000000      771.000000  \n",
       "mean        107.712062        0.084306  \n",
       "std          65.390417        0.278027  \n",
       "min           0.000000        0.000000  \n",
       "25%          45.000000        0.000000  \n",
       "50%         110.000000        0.000000  \n",
       "75%         165.000000        0.000000  \n",
       "max         244.000000        1.000000  "
      ]
     },
     "execution_count": 20,
     "metadata": {},
     "output_type": "execute_result"
    }
   ],
   "source": [
    "Q1 = machineDf['Rotation Speed (rpm)'].quantile(0.25)\n",
    "Q3 = machineDf['Rotation Speed (rpm)'].quantile(0.75)\n",
    "IQR = Q3 - Q1\n",
    "machineDf[machineDf['Rotation Speed (rpm)'] >Q3 + 1.5 * IQR].describe()"
   ]
  },
  {
   "cell_type": "code",
   "execution_count": 21,
   "id": "5c7ecef5",
   "metadata": {
    "execution": {
     "iopub.execute_input": "2022-05-19T05:23:58.895370Z",
     "iopub.status.busy": "2022-05-19T05:23:58.894831Z",
     "iopub.status.idle": "2022-05-19T05:23:59.138674Z",
     "shell.execute_reply": "2022-05-19T05:23:59.138151Z"
    },
    "papermill": {
     "duration": 0.264145,
     "end_time": "2022-05-19T05:23:59.140084",
     "exception": false,
     "start_time": "2022-05-19T05:23:58.875939",
     "status": "completed"
    },
    "pycharm": {
     "name": "#%%\n"
    },
    "tags": []
   },
   "outputs": [
    {
     "data": {
      "text/plain": [
       "Text(0.5, 1.0, 'Relationship between Torque and Rotation Speed')"
      ]
     },
     "execution_count": 21,
     "metadata": {},
     "output_type": "execute_result"
    },
    {
     "data": {
      "image/png": "[encoded data removed]",
      "text/plain": [
       "<Figure size 432x288 with 1 Axes>"
      ]
     },
     "metadata": {
      "needs_background": "light"
     },
     "output_type": "display_data"
    }
   ],
   "source": [
    "sns.scatterplot(x='Rotation Speed (rpm)',y='Torque (Nm)',data=machineDf).set_title('Relationship between Torque and Rotation Speed')"
   ]
  },
  {
   "cell_type": "markdown",
   "id": "f6c2b704",
   "metadata": {
    "papermill": {
     "duration": 0.018758,
     "end_time": "2022-05-19T05:23:59.178164",
     "exception": false,
     "start_time": "2022-05-19T05:23:59.159406",
     "status": "completed"
    },
    "pycharm": {
     "name": "#%% md\n"
    },
    "tags": []
   },
   "source": [
    "### Bivariate Analysis"
   ]
  },
  {
   "cell_type": "code",
   "execution_count": 22,
   "id": "b5d1afb3",
   "metadata": {
    "execution": {
     "iopub.execute_input": "2022-05-19T05:23:59.216690Z",
     "iopub.status.busy": "2022-05-19T05:23:59.216122Z",
     "iopub.status.idle": "2022-05-19T05:23:59.220080Z",
     "shell.execute_reply": "2022-05-19T05:23:59.219572Z"
    },
    "papermill": {
     "duration": 0.024742,
     "end_time": "2022-05-19T05:23:59.221476",
     "exception": false,
     "start_time": "2022-05-19T05:23:59.196734",
     "status": "completed"
    },
    "pycharm": {
     "name": "#%%\n"
    },
    "tags": []
   },
   "outputs": [],
   "source": [
    "# fig, ax = plt.subplots(len(quantitativeVariable), 1, figsize=(8, 15), tight_layout=True)\n",
    "# for idx, feature in enumerate(quantitativeVariable):\n",
    "\n",
    "#     sns.histplot(data=machineDf,common_norm = False,stat='density', x=feature, hue=\"Machine Status\",ax=ax[idx],kde=True)\n",
    "# fig.show()"
   ]
  },
  {
   "cell_type": "code",
   "execution_count": 23,
   "id": "d38b8259",
   "metadata": {
    "execution": {
     "iopub.execute_input": "2022-05-19T05:23:59.260069Z",
     "iopub.status.busy": "2022-05-19T05:23:59.259615Z",
     "iopub.status.idle": "2022-05-19T05:23:59.262515Z",
     "shell.execute_reply": "2022-05-19T05:23:59.261968Z"
    },
    "papermill": {
     "duration": 0.023787,
     "end_time": "2022-05-19T05:23:59.263854",
     "exception": false,
     "start_time": "2022-05-19T05:23:59.240067",
     "status": "completed"
    },
    "pycharm": {
     "name": "#%%\n"
    },
    "tags": []
   },
   "outputs": [],
   "source": [
    "\n",
    "# sns.histplot(data=machineDf,common_norm = False,stat='density', x='Quality', hue=\"Machine Status\")\n"
   ]
  },
  {
   "cell_type": "code",
   "execution_count": 24,
   "id": "76352b47",
   "metadata": {
    "execution": {
     "iopub.execute_input": "2022-05-19T05:23:59.302506Z",
     "iopub.status.busy": "2022-05-19T05:23:59.301986Z",
     "iopub.status.idle": "2022-05-19T05:23:59.388037Z",
     "shell.execute_reply": "2022-05-19T05:23:59.387529Z"
    },
    "papermill": {
     "duration": 0.106713,
     "end_time": "2022-05-19T05:23:59.389354",
     "exception": false,
     "start_time": "2022-05-19T05:23:59.282641",
     "status": "completed"
    },
    "pycharm": {
     "name": "#%%\n"
    },
    "tags": []
   },
   "outputs": [
    {
     "data": {
      "text/plain": [
       "<AxesSubplot:xlabel='Quality', ylabel='count'>"
      ]
     },
     "execution_count": 24,
     "metadata": {},
     "output_type": "execute_result"
    },
    {
     "data": {
      "image/png": "[encoded data removed]",
      "text/plain": [
       "<Figure size 432x288 with 1 Axes>"
      ]
     },
     "metadata": {
      "needs_background": "light"
     },
     "output_type": "display_data"
    }
   ],
   "source": [
    "sns.countplot(data=machineDf[machineDf['Machine Status']>0],x='Quality')"
   ]
  },
  {
   "cell_type": "code",
   "execution_count": 25,
   "id": "7698dad5",
   "metadata": {
    "execution": {
     "iopub.execute_input": "2022-05-19T05:23:59.428687Z",
     "iopub.status.busy": "2022-05-19T05:23:59.428344Z",
     "iopub.status.idle": "2022-05-19T05:23:59.431074Z",
     "shell.execute_reply": "2022-05-19T05:23:59.430567Z"
    },
    "papermill": {
     "duration": 0.023703,
     "end_time": "2022-05-19T05:23:59.432362",
     "exception": false,
     "start_time": "2022-05-19T05:23:59.408659",
     "status": "completed"
    },
    "pycharm": {
     "name": "#%%\n"
    },
    "tags": []
   },
   "outputs": [],
   "source": [
    "# sns.pairplot(machineDf, hue=\"Machine Status\")"
   ]
  },
  {
   "cell_type": "code",
   "execution_count": 26,
   "id": "f5854249",
   "metadata": {
    "execution": {
     "iopub.execute_input": "2022-05-19T05:23:59.471471Z",
     "iopub.status.busy": "2022-05-19T05:23:59.470945Z",
     "iopub.status.idle": "2022-05-19T05:24:11.703378Z",
     "shell.execute_reply": "2022-05-19T05:24:11.702712Z"
    },
    "papermill": {
     "duration": 12.253767,
     "end_time": "2022-05-19T05:24:11.705146",
     "exception": false,
     "start_time": "2022-05-19T05:23:59.451379",
     "status": "completed"
    },
    "pycharm": {
     "name": "#%%\n"
    },
    "tags": []
   },
   "outputs": [
    {
     "name": "stdout",
     "output_type": "stream",
     "text": [
      "interval columns not set, guessing: ['Ambient T (C)', 'Process T (C)', 'Rotation Speed (rpm)', 'Torque (Nm)', 'Tool Wear (min)', 'Machine Status']\n"
     ]
    },
    {
     "name": "stderr",
     "output_type": "stream",
     "text": [
      "/opt/hostedtoolcache/Python/3.8.12/x64/lib/python3.8/site-packages/phik/data_quality.py:59: UserWarning: The number of unique values of variable Product ID is large: 19408. Are you sure this is not an interval variable? Analysis for pairs of variables including Product ID can be slow.\n",
      "  warnings.warn(\n"
     ]
    },
    {
     "data": {
      "text/plain": [
       "Text(0.5, 1.0, 'Correlation Matrix')"
      ]
     },
     "execution_count": 26,
     "metadata": {},
     "output_type": "execute_result"
    },
    {
     "data": {
      "image/png": "[encoded data removed]",
      "text/plain": [
       "<Figure size 432x288 with 2 Axes>"
      ]
     },
     "metadata": {
      "needs_background": "light"
     },
     "output_type": "display_data"
    }
   ],
   "source": [
    "corr_matrix = machineDf.phik_matrix()\n",
    "\n",
    "sns.heatmap(corr_matrix, annot = True, linewidths=.5,center = 0).set_title('Correlation Matrix')"
   ]
  },
  {
   "cell_type": "code",
   "execution_count": 27,
   "id": "5b597d1f",
   "metadata": {
    "execution": {
     "iopub.execute_input": "2022-05-19T05:24:11.747133Z",
     "iopub.status.busy": "2022-05-19T05:24:11.746543Z",
     "iopub.status.idle": "2022-05-19T05:24:11.751067Z",
     "shell.execute_reply": "2022-05-19T05:24:11.750496Z"
    },
    "papermill": {
     "duration": 0.026834,
     "end_time": "2022-05-19T05:24:11.752405",
     "exception": false,
     "start_time": "2022-05-19T05:24:11.725571",
     "status": "completed"
    },
    "pycharm": {
     "name": "#%%\n"
    },
    "tags": []
   },
   "outputs": [],
   "source": [
    "machineDf=machineDf.drop(['Product ID','Rotation Speed (rpm)'],axis=1)"
   ]
  },
  {
   "cell_type": "markdown",
   "id": "d4f10052",
   "metadata": {
    "papermill": {
     "duration": 0.019803,
     "end_time": "2022-05-19T05:24:11.792020",
     "exception": false,
     "start_time": "2022-05-19T05:24:11.772217",
     "status": "completed"
    },
    "pycharm": {
     "name": "#%% md\n"
    },
    "tags": []
   },
   "source": [
    "## Data-Processing"
   ]
  },
  {
   "cell_type": "markdown",
   "id": "c99e1e29",
   "metadata": {
    "papermill": {
     "duration": 0.019797,
     "end_time": "2022-05-19T05:24:11.831805",
     "exception": false,
     "start_time": "2022-05-19T05:24:11.812008",
     "status": "completed"
    },
    "pycharm": {
     "name": "#%% md\n"
    },
    "tags": []
   },
   "source": []
  },
  {
   "cell_type": "markdown",
   "id": "de051152",
   "metadata": {
    "papermill": {
     "duration": 0.019803,
     "end_time": "2022-05-19T05:24:11.871709",
     "exception": false,
     "start_time": "2022-05-19T05:24:11.851906",
     "status": "completed"
    },
    "pycharm": {
     "name": "#%% md\n"
    },
    "tags": []
   },
   "source": [
    "### Missing data imputation"
   ]
  },
  {
   "cell_type": "markdown",
   "id": "d4cb5cff",
   "metadata": {
    "papermill": {
     "duration": 0.019714,
     "end_time": "2022-05-19T05:24:11.911226",
     "exception": false,
     "start_time": "2022-05-19T05:24:11.891512",
     "status": "completed"
    },
    "pycharm": {
     "name": "#%% md\n"
    },
    "tags": []
   },
   "source": [
    "## Training and testing data"
   ]
  },
  {
   "cell_type": "code",
   "execution_count": 28,
   "id": "c07e77d9",
   "metadata": {
    "execution": {
     "iopub.execute_input": "2022-05-19T05:24:11.953428Z",
     "iopub.status.busy": "2022-05-19T05:24:11.952417Z",
     "iopub.status.idle": "2022-05-19T05:24:11.974640Z",
     "shell.execute_reply": "2022-05-19T05:24:11.974086Z"
    },
    "papermill": {
     "duration": 0.045065,
     "end_time": "2022-05-19T05:24:11.976077",
     "exception": false,
     "start_time": "2022-05-19T05:24:11.931012",
     "status": "completed"
    },
    "pycharm": {
     "name": "#%%\n"
    },
    "tags": []
   },
   "outputs": [
    {
     "data": {
      "text/html": [
       "<div>\n",
       "<style scoped>\n",
       "    .dataframe tbody tr th:only-of-type {\n",
       "        vertical-align: middle;\n",
       "    }\n",
       "\n",
       "    .dataframe tbody tr th {\n",
       "        vertical-align: top;\n",
       "    }\n",
       "\n",
       "    .dataframe thead th {\n",
       "        text-align: right;\n",
       "    }\n",
       "</style>\n",
       "<table border=\"1\" class=\"dataframe\">\n",
       "  <thead>\n",
       "    <tr style=\"text-align: right;\">\n",
       "      <th></th>\n",
       "      <th>Quality</th>\n",
       "      <th>Ambient T (C)</th>\n",
       "      <th>Process T (C)</th>\n",
       "      <th>Torque (Nm)</th>\n",
       "      <th>Tool Wear (min)</th>\n",
       "    </tr>\n",
       "    <tr>\n",
       "      <th>Unique ID</th>\n",
       "      <th></th>\n",
       "      <th></th>\n",
       "      <th></th>\n",
       "      <th></th>\n",
       "      <th></th>\n",
       "    </tr>\n",
       "  </thead>\n",
       "  <tbody>\n",
       "    <tr>\n",
       "      <th>12792</th>\n",
       "      <td>H</td>\n",
       "      <td>27.35</td>\n",
       "      <td>36.55</td>\n",
       "      <td>43.3</td>\n",
       "      <td>66</td>\n",
       "    </tr>\n",
       "    <tr>\n",
       "      <th>6583</th>\n",
       "      <td>L</td>\n",
       "      <td>28.35</td>\n",
       "      <td>37.35</td>\n",
       "      <td>35.7</td>\n",
       "      <td>198</td>\n",
       "    </tr>\n",
       "    <tr>\n",
       "      <th>16874</th>\n",
       "      <td>L</td>\n",
       "      <td>27.95</td>\n",
       "      <td>38.35</td>\n",
       "      <td>39.5</td>\n",
       "      <td>75</td>\n",
       "    </tr>\n",
       "    <tr>\n",
       "      <th>11392</th>\n",
       "      <td>L</td>\n",
       "      <td>25.85</td>\n",
       "      <td>37.15</td>\n",
       "      <td>8.8</td>\n",
       "      <td>142</td>\n",
       "    </tr>\n",
       "    <tr>\n",
       "      <th>4411</th>\n",
       "      <td>L</td>\n",
       "      <td>29.35</td>\n",
       "      <td>37.05</td>\n",
       "      <td>32.2</td>\n",
       "      <td>64</td>\n",
       "    </tr>\n",
       "    <tr>\n",
       "      <th>...</th>\n",
       "      <td>...</td>\n",
       "      <td>...</td>\n",
       "      <td>...</td>\n",
       "      <td>...</td>\n",
       "      <td>...</td>\n",
       "    </tr>\n",
       "    <tr>\n",
       "      <th>5303</th>\n",
       "      <td>L</td>\n",
       "      <td>30.75</td>\n",
       "      <td>39.95</td>\n",
       "      <td>37.2</td>\n",
       "      <td>195</td>\n",
       "    </tr>\n",
       "    <tr>\n",
       "      <th>15452</th>\n",
       "      <td>L</td>\n",
       "      <td>29.95</td>\n",
       "      <td>39.65</td>\n",
       "      <td>48.8</td>\n",
       "      <td>120</td>\n",
       "    </tr>\n",
       "    <tr>\n",
       "      <th>18260</th>\n",
       "      <td>L</td>\n",
       "      <td>26.05</td>\n",
       "      <td>37.45</td>\n",
       "      <td>38.4</td>\n",
       "      <td>146</td>\n",
       "    </tr>\n",
       "    <tr>\n",
       "      <th>8028</th>\n",
       "      <td>L</td>\n",
       "      <td>27.45</td>\n",
       "      <td>38.75</td>\n",
       "      <td>44.9</td>\n",
       "      <td>224</td>\n",
       "    </tr>\n",
       "    <tr>\n",
       "      <th>10500</th>\n",
       "      <td>L</td>\n",
       "      <td>24.45</td>\n",
       "      <td>36.05</td>\n",
       "      <td>35.1</td>\n",
       "      <td>213</td>\n",
       "    </tr>\n",
       "  </tbody>\n",
       "</table>\n",
       "<p>16000 rows × 5 columns</p>\n",
       "</div>"
      ],
      "text/plain": [
       "          Quality  Ambient T (C)  Process T (C)  Torque (Nm)  Tool Wear (min)\n",
       "Unique ID                                                                    \n",
       "12792           H          27.35          36.55         43.3               66\n",
       "6583            L          28.35          37.35         35.7              198\n",
       "16874           L          27.95          38.35         39.5               75\n",
       "11392           L          25.85          37.15          8.8              142\n",
       "4411            L          29.35          37.05         32.2               64\n",
       "...           ...            ...            ...          ...              ...\n",
       "5303            L          30.75          39.95         37.2              195\n",
       "15452           L          29.95          39.65         48.8              120\n",
       "18260           L          26.05          37.45         38.4              146\n",
       "8028            L          27.45          38.75         44.9              224\n",
       "10500           L          24.45          36.05         35.1              213\n",
       "\n",
       "[16000 rows x 5 columns]"
      ]
     },
     "execution_count": 28,
     "metadata": {},
     "output_type": "execute_result"
    }
   ],
   "source": [
    "x_train, x_test, y_train, y_test = train_test_split(machineDf. loc[:, machineDf. columns != 'Machine Status'],machineDf['Machine Status'], random_state = 42, stratify=machineDf['Machine Status'], test_size = .20)\n",
    "x_train"
   ]
  },
  {
   "cell_type": "code",
   "execution_count": 29,
   "id": "0d5c69d6",
   "metadata": {
    "execution": {
     "iopub.execute_input": "2022-05-19T05:24:12.018194Z",
     "iopub.status.busy": "2022-05-19T05:24:12.017643Z",
     "iopub.status.idle": "2022-05-19T05:24:12.042432Z",
     "shell.execute_reply": "2022-05-19T05:24:12.041615Z"
    },
    "papermill": {
     "duration": 0.047347,
     "end_time": "2022-05-19T05:24:12.043751",
     "exception": false,
     "start_time": "2022-05-19T05:24:11.996404",
     "status": "completed"
    },
    "pycharm": {
     "name": "#%%\n"
    },
    "tags": []
   },
   "outputs": [],
   "source": [
    "from imblearn.pipeline import make_pipeline\n",
    "from sklearn.preprocessing import StandardScaler\n",
    "from imblearn.over_sampling import SMOTENC, SMOTE"
   ]
  },
  {
   "cell_type": "markdown",
   "id": "5bf84b36",
   "metadata": {
    "papermill": {
     "duration": 0.019913,
     "end_time": "2022-05-19T05:24:12.083608",
     "exception": false,
     "start_time": "2022-05-19T05:24:12.063695",
     "status": "completed"
    },
    "pycharm": {
     "name": "#%% md\n"
    },
    "tags": []
   },
   "source": [
    "## Feature Scaling"
   ]
  },
  {
   "cell_type": "code",
   "execution_count": 30,
   "id": "80e08164",
   "metadata": {
    "execution": {
     "iopub.execute_input": "2022-05-19T05:24:12.125062Z",
     "iopub.status.busy": "2022-05-19T05:24:12.124654Z",
     "iopub.status.idle": "2022-05-19T05:24:12.128858Z",
     "shell.execute_reply": "2022-05-19T05:24:12.128366Z"
    },
    "papermill": {
     "duration": 0.026461,
     "end_time": "2022-05-19T05:24:12.130139",
     "exception": false,
     "start_time": "2022-05-19T05:24:12.103678",
     "status": "completed"
    },
    "pycharm": {
     "name": "#%%\n"
    },
    "tags": []
   },
   "outputs": [],
   "source": [
    "quantitativeVariable=['Ambient T (C)', 'Process T (C)', 'Torque (Nm)', 'Tool Wear (min)']\n",
    "\n",
    "\n",
    "quantitativeTransformer=Pipeline([\n",
    "     ('Normaliser',MinMaxScaler())\n",
    "])\n",
    "categorical_transformers = Pipeline([\n",
    "    ('One Hot Encoder', OneHotEncoder(handle_unknown='ignore'))\n",
    "])\n",
    "data_preprocessing = ColumnTransformer([\n",
    "    ('Preprocess Numerical Features', quantitativeTransformer, [0,1,2,3]),\n",
    "       ('Preprocess Categorical Features', categorical_transformers, [4])\n",
    "])"
   ]
  },
  {
   "cell_type": "code",
   "execution_count": 31,
   "id": "233c8a94",
   "metadata": {
    "execution": {
     "iopub.execute_input": "2022-05-19T05:24:12.171157Z",
     "iopub.status.busy": "2022-05-19T05:24:12.170949Z",
     "iopub.status.idle": "2022-05-19T05:24:12.178402Z",
     "shell.execute_reply": "2022-05-19T05:24:12.177507Z"
    },
    "papermill": {
     "duration": 0.029479,
     "end_time": "2022-05-19T05:24:12.179703",
     "exception": false,
     "start_time": "2022-05-19T05:24:12.150224",
     "status": "completed"
    },
    "pycharm": {
     "name": "#%%\n"
    },
    "tags": []
   },
   "outputs": [],
   "source": [
    "from sklearn.base import BaseEstimator, TransformerMixin\n",
    "\n",
    "\n",
    "class ColumnSelector(BaseEstimator, TransformerMixin):\n",
    "\n",
    "    def __init__(self, dtype):\n",
    "        self.dtype = dtype\n",
    "\n",
    "    def fit(self, X, y=None):\n",
    "        \"\"\" Get either categorical or numerical columns on fit.\n",
    "        Store as attribute for future reference\"\"\"\n",
    "        X = X if isinstance(X, pd.DataFrame) else pd.DataFrame(X)\n",
    "        if self.dtype == 'numerical':\n",
    "            self.cols = X.select_dtypes(exclude='O').columns.tolist()\n",
    "        elif self.dtype == 'categorical':\n",
    "            self.cols = X.select_dtypes(include='O').columns.tolist()\n",
    "        self.col_idx = [machineDf.columns.get_loc(col) for col in self.cols]\n",
    "        return self\n",
    "\n",
    "    def transform(self, X):\n",
    "        \"\"\" Subset columns of chosen data type and return np.array\"\"\"\n",
    "        X = X.values if isinstance(X, pd.DataFrame) else X\n",
    "        return X[:, self.col_idx]"
   ]
  },
  {
   "cell_type": "code",
   "execution_count": 32,
   "id": "f74fb22e",
   "metadata": {
    "execution": {
     "iopub.execute_input": "2022-05-19T05:24:12.220838Z",
     "iopub.status.busy": "2022-05-19T05:24:12.220610Z",
     "iopub.status.idle": "2022-05-19T05:24:12.227722Z",
     "shell.execute_reply": "2022-05-19T05:24:12.227240Z"
    },
    "papermill": {
     "duration": 0.029256,
     "end_time": "2022-05-19T05:24:12.228999",
     "exception": false,
     "start_time": "2022-05-19T05:24:12.199743",
     "status": "completed"
    },
    "pycharm": {
     "name": "#%%\n"
    },
    "tags": []
   },
   "outputs": [],
   "source": [
    "from sklearn.pipeline import FeatureUnion\n",
    "from sklearn.preprocessing import LabelEncoder, OrdinalEncoder\n",
    "from sklearn.experimental import enable_iterative_imputer\n",
    "from sklearn.impute import IterativeImputer\n",
    "from sklearn.ensemble import RandomForestRegressor, RandomForestClassifier\n",
    "categorical = ['Quality']\n",
    "numerical = ['Ambient T (C)', 'Process T (C)', 'Torque (Nm)', 'Tool Wear (min)']\n",
    "\n",
    "\n",
    "\n",
    "num_imp=Pipeline([\n",
    " ('num_selector', ColumnSelector('numerical')),\n",
    " ('Imputation',IterativeImputer(estimator=RandomForestRegressor(n_jobs=-1),\n",
    "                           initial_strategy='mean',\n",
    "                           max_iter=3,skip_complete=True ,random_state=0)),\n",
    "])\n",
    "\n",
    "cat_imp=Pipeline([\n",
    "     ('cat_selector', ColumnSelector('categorical')),\n",
    "     ('One Hot Encoder1', OrdinalEncoder ()),\n",
    "     ('Imputation',IterativeImputer(estimator=RandomForestClassifier(n_jobs=-1),\n",
    "                           initial_strategy='most_frequent',\n",
    "                           max_iter=3,skip_complete=True,random_state=0)),\n",
    "])\n",
    "\n",
    "\n",
    "preproc = FeatureUnion([\n",
    "    ('num_pipe', num_imp),\n",
    "    ('cat_pipe', cat_imp)\n",
    "])"
   ]
  },
  {
   "cell_type": "markdown",
   "id": "5e692970",
   "metadata": {
    "papermill": {
     "duration": 0.020166,
     "end_time": "2022-05-19T05:24:12.269392",
     "exception": false,
     "start_time": "2022-05-19T05:24:12.249226",
     "status": "completed"
    },
    "pycharm": {
     "name": "#%% md\n"
    },
    "tags": []
   },
   "source": [
    "### Oversampling :SMOTE NC"
   ]
  },
  {
   "cell_type": "code",
   "execution_count": 33,
   "id": "9979c82d",
   "metadata": {
    "execution": {
     "iopub.execute_input": "2022-05-19T05:24:12.310858Z",
     "iopub.status.busy": "2022-05-19T05:24:12.310296Z",
     "iopub.status.idle": "2022-05-19T05:24:12.315308Z",
     "shell.execute_reply": "2022-05-19T05:24:12.314914Z"
    },
    "papermill": {
     "duration": 0.027094,
     "end_time": "2022-05-19T05:24:12.316584",
     "exception": false,
     "start_time": "2022-05-19T05:24:12.289490",
     "status": "completed"
    },
    "pycharm": {
     "name": "#%%\n"
    },
    "tags": []
   },
   "outputs": [],
   "source": [
    "from imblearn.pipeline import Pipeline as imbpipeline\n",
    "colselect=[col in qualitativeVariable for col in machineDf. loc[:, machineDf. columns != 'Machine Status'].columns]\n",
    "\n",
    "colselect.reverse()\n"
   ]
  },
  {
   "cell_type": "code",
   "execution_count": 34,
   "id": "cfcffe54",
   "metadata": {
    "execution": {
     "iopub.execute_input": "2022-05-19T05:24:12.357806Z",
     "iopub.status.busy": "2022-05-19T05:24:12.357398Z",
     "iopub.status.idle": "2022-05-19T05:24:12.361501Z",
     "shell.execute_reply": "2022-05-19T05:24:12.361013Z"
    },
    "papermill": {
     "duration": 0.026121,
     "end_time": "2022-05-19T05:24:12.362769",
     "exception": false,
     "start_time": "2022-05-19T05:24:12.336648",
     "status": "completed"
    },
    "tags": []
   },
   "outputs": [],
   "source": [
    "class DfConverter():\n",
    "    def __init__(self):\n",
    "        super().__init__()\n",
    "\n",
    "    def fit_transform(self, X, y=None):\n",
    "        return self.transform(X=X, y=y)\n",
    "\n",
    "    def transform(self, X, y=None):\n",
    "        df = pd.DataFrame(X)     \n",
    "        return df\n",
    "\n",
    "    def fit(self, X, y=None):\n",
    "        return self\n"
   ]
  },
  {
   "cell_type": "code",
   "execution_count": 35,
   "id": "70e94b43",
   "metadata": {
    "execution": {
     "iopub.execute_input": "2022-05-19T05:24:12.404163Z",
     "iopub.status.busy": "2022-05-19T05:24:12.403833Z",
     "iopub.status.idle": "2022-05-19T05:24:12.408149Z",
     "shell.execute_reply": "2022-05-19T05:24:12.407661Z"
    },
    "papermill": {
     "duration": 0.026275,
     "end_time": "2022-05-19T05:24:12.409332",
     "exception": false,
     "start_time": "2022-05-19T05:24:12.383057",
     "status": "completed"
    },
    "pycharm": {
     "name": "#%%\n"
    },
    "tags": []
   },
   "outputs": [],
   "source": [
    "class customSelector():\n",
    "    def __init__(self):\n",
    "        super().__init__()\n",
    "\n",
    "    def fit_transform(self, X, y=None):\n",
    "        return self.transform(X=X, y=y)\n",
    "\n",
    "    def transform(self, X, y=None):\n",
    "        return pd.DataFrame(X)[[0,1,2,3,4,5,6]]\n",
    "\n",
    "    def fit(self, X, y=None):\n",
    "        return self"
   ]
  },
  {
   "cell_type": "markdown",
   "id": "31e9edef",
   "metadata": {
    "papermill": {
     "duration": 0.020135,
     "end_time": "2022-05-19T05:24:12.449681",
     "exception": false,
     "start_time": "2022-05-19T05:24:12.429546",
     "status": "completed"
    },
    "pycharm": {
     "name": "#%% md\n"
    },
    "tags": []
   },
   "source": [
    "## Feature Selection"
   ]
  },
  {
   "cell_type": "code",
   "execution_count": 36,
   "id": "830aaa9c",
   "metadata": {
    "execution": {
     "iopub.execute_input": "2022-05-19T05:24:12.491410Z",
     "iopub.status.busy": "2022-05-19T05:24:12.490878Z",
     "iopub.status.idle": "2022-05-19T05:24:12.493859Z",
     "shell.execute_reply": "2022-05-19T05:24:12.493463Z"
    },
    "papermill": {
     "duration": 0.025342,
     "end_time": "2022-05-19T05:24:12.495211",
     "exception": false,
     "start_time": "2022-05-19T05:24:12.469869",
     "status": "completed"
    },
    "pycharm": {
     "name": "#%%\n"
    },
    "tags": []
   },
   "outputs": [],
   "source": [
    "# selectionRecord=pd.DataFrame({'no':[],'score':[]})\n",
    "# for i in range(1,8):\n",
    "#     Final = imbpipeline([\n",
    "#     ('Imputation',preproc),\n",
    "#     ('DF Converter',DfConverter()),\n",
    "#     ('SMOTE NC Oversampling',SMOTENC(categorical_features=colselect,n_jobs=-1)),\n",
    "#     ('DF Converter1',DfConverter()),\n",
    "#     ('Data Preprocessing', data_preprocessing),\n",
    "#     ('Kbest',SelectKBest(chi2,k=i)),\n",
    "#     ('Model',   xgb.XGBClassifier())\n",
    "# ])\n",
    "#     selectionRecord=pd.concat([selectionRecord,pd.DataFrame({'no':[i],'score':[cross_validate(Final,x_train,y_train,cv=StratifiedKFold(n_splits = 5, shuffle = True, random_state = 0,),scoring=['recall'],n_jobs=-1,return_estimator=True,return_train_score=True)['test_recall'].mean()]})],ignore_index=True)\n",
    "\n",
    "\n",
    "# sns.lineplot(x='no',y='score',data=selectionRecord).set_title('Number of feature selected')"
   ]
  },
  {
   "cell_type": "markdown",
   "id": "6a3319d0",
   "metadata": {
    "papermill": {
     "duration": 0.020157,
     "end_time": "2022-05-19T05:24:12.535805",
     "exception": false,
     "start_time": "2022-05-19T05:24:12.515648",
     "status": "completed"
    },
    "pycharm": {
     "name": "#%% md\n"
    },
    "tags": []
   },
   "source": [
    "## Evaluation Methodology"
   ]
  },
  {
   "cell_type": "code",
   "execution_count": 37,
   "id": "faabf751",
   "metadata": {
    "execution": {
     "iopub.execute_input": "2022-05-19T05:24:12.577714Z",
     "iopub.status.busy": "2022-05-19T05:24:12.577193Z",
     "iopub.status.idle": "2022-05-19T05:24:12.583976Z",
     "shell.execute_reply": "2022-05-19T05:24:12.583574Z"
    },
    "papermill": {
     "duration": 0.029181,
     "end_time": "2022-05-19T05:24:12.585281",
     "exception": false,
     "start_time": "2022-05-19T05:24:12.556100",
     "status": "completed"
    },
    "pycharm": {
     "name": "#%%\n"
    },
    "tags": []
   },
   "outputs": [],
   "source": [
    "def scoreModel(clf,x,y,algName=None,record=pd.DataFrame({'name':[],'train_accuracy':[],'test_accuracy':[],'test_recall':[],'train_recall':[]})):\n",
    "    '''\n",
    "    This function is used for model evaluation . This function use scikit-learn library to carry out cross validation using StratifiedKFold. The scoring metrics are accuracy and balanced accuracy\n",
    "\n",
    "    :param clf: Classifier 分类器\n",
    "    :param x:Train Data X(Data)  训练数据 （数据）\n",
    "    :param y:Train Data Y(Result)  训练数据（结果）\n",
    "    :param algName: Name of Algorithm used for recording 算法名字\n",
    "    :param record: History record dataframe 在历史记录上叠加结果\n",
    "    :return:\n",
    "    This function return 3 variable: 这个函数返回三个参数\n",
    "    record: Dataframe with current and past record(if there is any)\n",
    "    current: Dataframe with current record\n",
    "    lr: Learning curve\n",
    "    '''\n",
    "    score=cross_validate(clf,x,y,cv=StratifiedKFold(n_splits = 5,shuffle = True, random_state = 0),scoring=['accuracy','recall'],n_jobs=-1,return_estimator=True,return_train_score=True)\n",
    "    current=pd.DataFrame({'name':[algName],'train_accuracy':score['train_accuracy'].mean(),'test_accuracy':score['test_accuracy'].mean(),'test_recall':score['test_recall'].mean(),'train_recall':score['train_recall'].mean()})\n",
    "    record=pd.concat([record,current],ignore_index=True)\n",
    "    lr = learning_curve(clf, x, y, scoring = 'recall', cv = StratifiedKFold(n_splits = 5,shuffle = True, random_state = 0), n_jobs=-1)\n",
    "    return record,current,lr"
   ]
  },
  {
   "cell_type": "code",
   "execution_count": 38,
   "id": "4f6716e1",
   "metadata": {
    "execution": {
     "iopub.execute_input": "2022-05-19T05:24:12.627183Z",
     "iopub.status.busy": "2022-05-19T05:24:12.626674Z",
     "iopub.status.idle": "2022-05-19T05:25:32.319886Z",
     "shell.execute_reply": "2022-05-19T05:25:32.319459Z"
    },
    "papermill": {
     "duration": 79.732818,
     "end_time": "2022-05-19T05:25:32.338497",
     "exception": false,
     "start_time": "2022-05-19T05:24:12.605679",
     "status": "completed"
    },
    "pycharm": {
     "is_executing": true,
     "name": "#%%\n"
    },
    "tags": []
   },
   "outputs": [
    {
     "data": {
      "image/png": "[encoded data removed]",
      "text/plain": [
       "<Figure size 432x288 with 1 Axes>"
      ]
     },
     "metadata": {
      "needs_background": "light"
     },
     "output_type": "display_data"
    },
    {
     "data": {
      "text/html": [
       "<div>\n",
       "<style scoped>\n",
       "    .dataframe tbody tr th:only-of-type {\n",
       "        vertical-align: middle;\n",
       "    }\n",
       "\n",
       "    .dataframe tbody tr th {\n",
       "        vertical-align: top;\n",
       "    }\n",
       "\n",
       "    .dataframe thead th {\n",
       "        text-align: right;\n",
       "    }\n",
       "</style>\n",
       "<table border=\"1\" class=\"dataframe\">\n",
       "  <thead>\n",
       "    <tr style=\"text-align: right;\">\n",
       "      <th></th>\n",
       "      <th>name</th>\n",
       "      <th>train_accuracy</th>\n",
       "      <th>test_accuracy</th>\n",
       "      <th>test_recall</th>\n",
       "      <th>train_recall</th>\n",
       "    </tr>\n",
       "  </thead>\n",
       "  <tbody>\n",
       "    <tr>\n",
       "      <th>0</th>\n",
       "      <td>Dummy Baseline Classifier</td>\n",
       "      <td>0.966125</td>\n",
       "      <td>0.966125</td>\n",
       "      <td>0.0</td>\n",
       "      <td>0.0</td>\n",
       "    </tr>\n",
       "  </tbody>\n",
       "</table>\n",
       "</div>"
      ],
      "text/plain": [
       "                        name  train_accuracy  test_accuracy  test_recall  \\\n",
       "0  Dummy Baseline Classifier        0.966125       0.966125          0.0   \n",
       "\n",
       "   train_recall  \n",
       "0           0.0  "
      ]
     },
     "execution_count": 38,
     "metadata": {},
     "output_type": "execute_result"
    }
   ],
   "source": [
    "\n",
    "from imblearn.over_sampling import SMOTENC\n",
    "baseline = imbpipeline([\n",
    "\n",
    "('Imputation',preproc),\n",
    "    ('DF Converter',DfConverter()),\n",
    "    ('SMOTE NC Oversampling',SMOTENC(categorical_features=colselect,n_jobs=-1)),\n",
    "    ('DF Converter1',DfConverter()),\n",
    "    ('Data Preprocessing', data_preprocessing),\n",
    "    ('Model', DummyClassifier())\n",
    "])\n",
    "record,current,lr=scoreModel(baseline,x_train,y_train,\"Dummy Baseline Classifier\")\n",
    "current"
   ]
  },
  {
   "cell_type": "code",
   "execution_count": 39,
   "id": "a6c88598",
   "metadata": {
    "execution": {
     "iopub.execute_input": "2022-05-19T05:25:32.381579Z",
     "iopub.status.busy": "2022-05-19T05:25:32.381106Z",
     "iopub.status.idle": "2022-05-19T05:26:48.439900Z",
     "shell.execute_reply": "2022-05-19T05:26:48.439469Z"
    },
    "papermill": {
     "duration": 76.10227,
     "end_time": "2022-05-19T05:26:48.461703",
     "exception": false,
     "start_time": "2022-05-19T05:25:32.359433",
     "status": "completed"
    },
    "pycharm": {
     "is_executing": true,
     "name": "#%%\n"
    },
    "tags": []
   },
   "outputs": [
    {
     "data": {
      "image/png": "[encoded data removed]",
      "text/plain": [
       "<Figure size 432x288 with 1 Axes>"
      ]
     },
     "metadata": {
      "needs_background": "light"
     },
     "output_type": "display_data"
    },
    {
     "data": {
      "text/html": [
       "<div>\n",
       "<style scoped>\n",
       "    .dataframe tbody tr th:only-of-type {\n",
       "        vertical-align: middle;\n",
       "    }\n",
       "\n",
       "    .dataframe tbody tr th {\n",
       "        vertical-align: top;\n",
       "    }\n",
       "\n",
       "    .dataframe thead th {\n",
       "        text-align: right;\n",
       "    }\n",
       "</style>\n",
       "<table border=\"1\" class=\"dataframe\">\n",
       "  <thead>\n",
       "    <tr style=\"text-align: right;\">\n",
       "      <th></th>\n",
       "      <th>name</th>\n",
       "      <th>train_accuracy</th>\n",
       "      <th>test_accuracy</th>\n",
       "      <th>test_recall</th>\n",
       "      <th>train_recall</th>\n",
       "    </tr>\n",
       "  </thead>\n",
       "  <tbody>\n",
       "    <tr>\n",
       "      <th>0</th>\n",
       "      <td>Decision Tree Classifier</td>\n",
       "      <td>0.877969</td>\n",
       "      <td>0.876688</td>\n",
       "      <td>0.930003</td>\n",
       "      <td>0.942803</td>\n",
       "    </tr>\n",
       "  </tbody>\n",
       "</table>\n",
       "</div>"
      ],
      "text/plain": [
       "                       name  train_accuracy  test_accuracy  test_recall  \\\n",
       "0  Decision Tree Classifier        0.877969       0.876688     0.930003   \n",
       "\n",
       "   train_recall  \n",
       "0      0.942803  "
      ]
     },
     "execution_count": 39,
     "metadata": {},
     "output_type": "execute_result"
    }
   ],
   "source": [
    "\n",
    "DeciTree = imbpipeline([\n",
    "('Imputation',preproc),\n",
    "    ('DF Converter',DfConverter()),\n",
    "    ('SMOTE NC Oversampling',SMOTENC(categorical_features=colselect,n_jobs=-1)),\n",
    "    ('DF Converter1',DfConverter()),\n",
    "    ('Data Preprocessing', data_preprocessing),\n",
    "    ('model', DecisionTreeClassifier(max_depth=9,ccp_alpha=0.000224,max_leaf_nodes=13))\n",
    "])\n",
    "\n",
    "\n",
    "record,current,lr=scoreModel(DeciTree,x_train,y_train,\"Decision Tree Classifier\",record=record)\n",
    "current"
   ]
  },
  {
   "cell_type": "code",
   "execution_count": 40,
   "id": "62e0a690",
   "metadata": {
    "execution": {
     "iopub.execute_input": "2022-05-19T05:26:48.506573Z",
     "iopub.status.busy": "2022-05-19T05:26:48.506064Z",
     "iopub.status.idle": "2022-05-19T05:26:48.509833Z",
     "shell.execute_reply": "2022-05-19T05:26:48.509363Z"
    },
    "papermill": {
     "duration": 0.027755,
     "end_time": "2022-05-19T05:26:48.511141",
     "exception": false,
     "start_time": "2022-05-19T05:26:48.483386",
     "status": "completed"
    },
    "pycharm": {
     "is_executing": true,
     "name": "#%%\n"
    },
    "tags": []
   },
   "outputs": [],
   "source": [
    "# parameter={'model__max_depth':np.arange(1,10),'model__ccp_alpha':np.arange(0.00827,0.05,0.01)}\n",
    "# pd.DataFrame(GridSearchCV(DeciTree,param_grid=parameter,scoring='recall').fit(x_train,y_train).cv_results_)\n"
   ]
  },
  {
   "cell_type": "code",
   "execution_count": 41,
   "id": "8be032d3",
   "metadata": {
    "execution": {
     "iopub.execute_input": "2022-05-19T05:26:48.555418Z",
     "iopub.status.busy": "2022-05-19T05:26:48.554897Z",
     "iopub.status.idle": "2022-05-19T05:26:48.557829Z",
     "shell.execute_reply": "2022-05-19T05:26:48.557429Z"
    },
    "papermill": {
     "duration": 0.026549,
     "end_time": "2022-05-19T05:26:48.559172",
     "exception": false,
     "start_time": "2022-05-19T05:26:48.532623",
     "status": "completed"
    },
    "pycharm": {
     "is_executing": true,
     "name": "#%%\n"
    },
    "tags": []
   },
   "outputs": [],
   "source": [
    "\n",
    "\n",
    "# from sklearn.model_selection import validation_curve\n",
    "# pr=np.arange(5,20,1)\n",
    "# train_score,test_score = validation_curve(DeciTree,x_train,y_train,param_name='model__max_depth',param_range=pr,cv=StratifiedKFold(n_splits = 5, shuffle = True, random_state = 0,),scoring='recall')\n",
    "# train_score =  np.mean(train_score,axis=1)\n",
    "# test_score = np.mean(test_score,axis=1)\n",
    "# plt.plot(pr,train_score,'o-',color = 'r',label = 'training')\n",
    "# plt.plot(pr,test_score,'o-',color = 'g',label = 'testing')\n",
    "# plt.legend(loc='best')\n",
    "# plt.xlabel('number of tree')\n",
    "# plt.ylabel('accuracy')\n",
    "# plt.show()\n",
    "\n"
   ]
  },
  {
   "cell_type": "code",
   "execution_count": 42,
   "id": "c06f7e5d",
   "metadata": {
    "execution": {
     "iopub.execute_input": "2022-05-19T05:26:48.603355Z",
     "iopub.status.busy": "2022-05-19T05:26:48.602917Z",
     "iopub.status.idle": "2022-05-19T05:26:48.605575Z",
     "shell.execute_reply": "2022-05-19T05:26:48.605094Z"
    },
    "papermill": {
     "duration": 0.026265,
     "end_time": "2022-05-19T05:26:48.606844",
     "exception": false,
     "start_time": "2022-05-19T05:26:48.580579",
     "status": "completed"
    },
    "pycharm": {
     "is_executing": true,
     "name": "#%%\n"
    },
    "tags": []
   },
   "outputs": [],
   "source": [
    "# test_score"
   ]
  },
  {
   "cell_type": "code",
   "execution_count": 43,
   "id": "5bb8b3dd",
   "metadata": {
    "execution": {
     "iopub.execute_input": "2022-05-19T05:26:48.651302Z",
     "iopub.status.busy": "2022-05-19T05:26:48.650783Z",
     "iopub.status.idle": "2022-05-19T05:28:12.960117Z",
     "shell.execute_reply": "2022-05-19T05:28:12.959607Z"
    },
    "papermill": {
     "duration": 84.351758,
     "end_time": "2022-05-19T05:28:12.980201",
     "exception": false,
     "start_time": "2022-05-19T05:26:48.628443",
     "status": "completed"
    },
    "pycharm": {
     "is_executing": true,
     "name": "#%%\n"
    },
    "tags": []
   },
   "outputs": [
    {
     "name": "stderr",
     "output_type": "stream",
     "text": [
      "/opt/hostedtoolcache/Python/3.8.12/x64/lib/python3.8/site-packages/sklearn/impute/_iterative.py:699: ConvergenceWarning: [IterativeImputer] Early stopping criterion not reached.\n",
      "  warnings.warn(\n",
      "/opt/hostedtoolcache/Python/3.8.12/x64/lib/python3.8/site-packages/sklearn/impute/_iterative.py:699: ConvergenceWarning: [IterativeImputer] Early stopping criterion not reached.\n",
      "  warnings.warn(\n",
      "/opt/hostedtoolcache/Python/3.8.12/x64/lib/python3.8/site-packages/sklearn/impute/_iterative.py:699: ConvergenceWarning: [IterativeImputer] Early stopping criterion not reached.\n",
      "  warnings.warn(\n",
      "/opt/hostedtoolcache/Python/3.8.12/x64/lib/python3.8/site-packages/sklearn/impute/_iterative.py:699: ConvergenceWarning: [IterativeImputer] Early stopping criterion not reached.\n",
      "  warnings.warn(\n",
      "/opt/hostedtoolcache/Python/3.8.12/x64/lib/python3.8/site-packages/sklearn/impute/_iterative.py:699: ConvergenceWarning: [IterativeImputer] Early stopping criterion not reached.\n",
      "  warnings.warn(\n",
      "/opt/hostedtoolcache/Python/3.8.12/x64/lib/python3.8/site-packages/sklearn/impute/_iterative.py:699: ConvergenceWarning: [IterativeImputer] Early stopping criterion not reached.\n",
      "  warnings.warn(\n",
      "/opt/hostedtoolcache/Python/3.8.12/x64/lib/python3.8/site-packages/sklearn/impute/_iterative.py:699: ConvergenceWarning: [IterativeImputer] Early stopping criterion not reached.\n",
      "  warnings.warn(\n",
      "/opt/hostedtoolcache/Python/3.8.12/x64/lib/python3.8/site-packages/sklearn/impute/_iterative.py:699: ConvergenceWarning: [IterativeImputer] Early stopping criterion not reached.\n",
      "  warnings.warn(\n",
      "/opt/hostedtoolcache/Python/3.8.12/x64/lib/python3.8/site-packages/sklearn/impute/_iterative.py:699: ConvergenceWarning: [IterativeImputer] Early stopping criterion not reached.\n",
      "  warnings.warn(\n",
      "/opt/hostedtoolcache/Python/3.8.12/x64/lib/python3.8/site-packages/sklearn/impute/_iterative.py:699: ConvergenceWarning: [IterativeImputer] Early stopping criterion not reached.\n",
      "  warnings.warn(\n",
      "/opt/hostedtoolcache/Python/3.8.12/x64/lib/python3.8/site-packages/sklearn/impute/_iterative.py:699: ConvergenceWarning: [IterativeImputer] Early stopping criterion not reached.\n",
      "  warnings.warn(\n",
      "/opt/hostedtoolcache/Python/3.8.12/x64/lib/python3.8/site-packages/sklearn/impute/_iterative.py:699: ConvergenceWarning: [IterativeImputer] Early stopping criterion not reached.\n",
      "  warnings.warn(\n",
      "/opt/hostedtoolcache/Python/3.8.12/x64/lib/python3.8/site-packages/sklearn/impute/_iterative.py:699: ConvergenceWarning: [IterativeImputer] Early stopping criterion not reached.\n",
      "  warnings.warn(\n",
      "/opt/hostedtoolcache/Python/3.8.12/x64/lib/python3.8/site-packages/sklearn/impute/_iterative.py:699: ConvergenceWarning: [IterativeImputer] Early stopping criterion not reached.\n",
      "  warnings.warn(\n",
      "/opt/hostedtoolcache/Python/3.8.12/x64/lib/python3.8/site-packages/sklearn/impute/_iterative.py:699: ConvergenceWarning: [IterativeImputer] Early stopping criterion not reached.\n",
      "  warnings.warn(\n",
      "/opt/hostedtoolcache/Python/3.8.12/x64/lib/python3.8/site-packages/sklearn/impute/_iterative.py:699: ConvergenceWarning: [IterativeImputer] Early stopping criterion not reached.\n",
      "  warnings.warn(\n",
      "/opt/hostedtoolcache/Python/3.8.12/x64/lib/python3.8/site-packages/sklearn/impute/_iterative.py:699: ConvergenceWarning: [IterativeImputer] Early stopping criterion not reached.\n",
      "  warnings.warn(\n",
      "/opt/hostedtoolcache/Python/3.8.12/x64/lib/python3.8/site-packages/joblib/externals/loky/process_executor.py:702: UserWarning: A worker stopped while some jobs were given to the executor. This can be caused by a too short worker timeout or by a memory leak.\n",
      "  warnings.warn(\n"
     ]
    },
    {
     "data": {
      "image/png": "[encoded data removed]",
      "text/plain": [
       "<Figure size 432x288 with 1 Axes>"
      ]
     },
     "metadata": {
      "needs_background": "light"
     },
     "output_type": "display_data"
    },
    {
     "data": {
      "text/html": [
       "<div>\n",
       "<style scoped>\n",
       "    .dataframe tbody tr th:only-of-type {\n",
       "        vertical-align: middle;\n",
       "    }\n",
       "\n",
       "    .dataframe tbody tr th {\n",
       "        vertical-align: top;\n",
       "    }\n",
       "\n",
       "    .dataframe thead th {\n",
       "        text-align: right;\n",
       "    }\n",
       "</style>\n",
       "<table border=\"1\" class=\"dataframe\">\n",
       "  <thead>\n",
       "    <tr style=\"text-align: right;\">\n",
       "      <th></th>\n",
       "      <th>name</th>\n",
       "      <th>train_accuracy</th>\n",
       "      <th>test_accuracy</th>\n",
       "      <th>test_recall</th>\n",
       "      <th>train_recall</th>\n",
       "    </tr>\n",
       "  </thead>\n",
       "  <tbody>\n",
       "    <tr>\n",
       "      <th>0</th>\n",
       "      <td>Random Forest Classifier</td>\n",
       "      <td>0.937797</td>\n",
       "      <td>0.930063</td>\n",
       "      <td>0.859769</td>\n",
       "      <td>0.932656</td>\n",
       "    </tr>\n",
       "  </tbody>\n",
       "</table>\n",
       "</div>"
      ],
      "text/plain": [
       "                       name  train_accuracy  test_accuracy  test_recall  \\\n",
       "0  Random Forest Classifier        0.937797       0.930063     0.859769   \n",
       "\n",
       "   train_recall  \n",
       "0      0.932656  "
      ]
     },
     "execution_count": 43,
     "metadata": {},
     "output_type": "execute_result"
    }
   ],
   "source": [
    "randomFor = imbpipeline([\n",
    "    ('Imputation',preproc),\n",
    "    ('DF Converter',DfConverter()),\n",
    "    ('SMOTE NC Oversampling',SMOTENC(categorical_features=colselect,n_jobs=-1)),\n",
    "    ('DF Converter1',DfConverter()),\n",
    "    ('Data Preprocessing', data_preprocessing),\n",
    "    ('model', RandomForestClassifier(max_depth=9,ccp_alpha=0.000224,n_estimators=20,n_jobs=-1))\n",
    "])\n",
    "# parameter={'model__max_depth':np.arange(1,9),'model__ccp_alpha':np.arange(0.00827,0.03,0.001)}\n",
    "# pd.DataFrame(GridSearchCV(randomFor,param_grid=parameter,scoring='recall').fit(x_train,y_train).cv_results_)\n",
    "\n",
    "record,current,lr=scoreModel(randomFor,x_train,y_train,\"Random Forest Classifier\",record=record)\n",
    "current"
   ]
  },
  {
   "cell_type": "code",
   "execution_count": 44,
   "id": "2f40cc40",
   "metadata": {
    "execution": {
     "iopub.execute_input": "2022-05-19T05:28:13.026481Z",
     "iopub.status.busy": "2022-05-19T05:28:13.025880Z",
     "iopub.status.idle": "2022-05-19T05:28:13.028684Z",
     "shell.execute_reply": "2022-05-19T05:28:13.028283Z"
    },
    "papermill": {
     "duration": 0.027327,
     "end_time": "2022-05-19T05:28:13.030034",
     "exception": false,
     "start_time": "2022-05-19T05:28:13.002707",
     "status": "completed"
    },
    "pycharm": {
     "is_executing": true,
     "name": "#%%\n"
    },
    "tags": []
   },
   "outputs": [],
   "source": [
    "# parameter={'model__max_depth':np.arange(1,10),'model__ccp_alpha':np.arange(0.00827,0.05,0.01)}\n",
    "# pd.DataFrame(GridSearchCV(randomFor,param_grid=parameter,scoring='recall').fit(x_train,y_train).cv_results_)\n"
   ]
  },
  {
   "cell_type": "code",
   "execution_count": 45,
   "id": "efc83892",
   "metadata": {
    "execution": {
     "iopub.execute_input": "2022-05-19T05:28:13.076321Z",
     "iopub.status.busy": "2022-05-19T05:28:13.075848Z",
     "iopub.status.idle": "2022-05-19T05:31:08.784105Z",
     "shell.execute_reply": "2022-05-19T05:31:08.783588Z"
    },
    "papermill": {
     "duration": 175.755757,
     "end_time": "2022-05-19T05:31:08.808135",
     "exception": false,
     "start_time": "2022-05-19T05:28:13.052378",
     "status": "completed"
    },
    "pycharm": {
     "is_executing": true,
     "name": "#%%\n"
    },
    "tags": []
   },
   "outputs": [
    {
     "name": "stderr",
     "output_type": "stream",
     "text": [
      "/opt/hostedtoolcache/Python/3.8.12/x64/lib/python3.8/site-packages/sklearn/impute/_iterative.py:699: ConvergenceWarning: [IterativeImputer] Early stopping criterion not reached.\n",
      "  warnings.warn(\n",
      "/opt/hostedtoolcache/Python/3.8.12/x64/lib/python3.8/site-packages/sklearn/impute/_iterative.py:699: ConvergenceWarning: [IterativeImputer] Early stopping criterion not reached.\n",
      "  warnings.warn(\n",
      "/opt/hostedtoolcache/Python/3.8.12/x64/lib/python3.8/site-packages/sklearn/impute/_iterative.py:699: ConvergenceWarning: [IterativeImputer] Early stopping criterion not reached.\n",
      "  warnings.warn(\n",
      "/opt/hostedtoolcache/Python/3.8.12/x64/lib/python3.8/site-packages/sklearn/impute/_iterative.py:699: ConvergenceWarning: [IterativeImputer] Early stopping criterion not reached.\n",
      "  warnings.warn(\n",
      "/opt/hostedtoolcache/Python/3.8.12/x64/lib/python3.8/site-packages/sklearn/impute/_iterative.py:699: ConvergenceWarning: [IterativeImputer] Early stopping criterion not reached.\n",
      "  warnings.warn(\n",
      "/opt/hostedtoolcache/Python/3.8.12/x64/lib/python3.8/site-packages/sklearn/impute/_iterative.py:699: ConvergenceWarning: [IterativeImputer] Early stopping criterion not reached.\n",
      "  warnings.warn(\n",
      "/opt/hostedtoolcache/Python/3.8.12/x64/lib/python3.8/site-packages/sklearn/impute/_iterative.py:699: ConvergenceWarning: [IterativeImputer] Early stopping criterion not reached.\n",
      "  warnings.warn(\n",
      "/opt/hostedtoolcache/Python/3.8.12/x64/lib/python3.8/site-packages/sklearn/impute/_iterative.py:699: ConvergenceWarning: [IterativeImputer] Early stopping criterion not reached.\n",
      "  warnings.warn(\n",
      "/opt/hostedtoolcache/Python/3.8.12/x64/lib/python3.8/site-packages/sklearn/impute/_iterative.py:699: ConvergenceWarning: [IterativeImputer] Early stopping criterion not reached.\n",
      "  warnings.warn(\n"
     ]
    },
    {
     "data": {
      "image/png": "[encoded data removed]",
      "text/plain": [
       "<Figure size 432x288 with 1 Axes>"
      ]
     },
     "metadata": {
      "needs_background": "light"
     },
     "output_type": "display_data"
    },
    {
     "data": {
      "text/html": [
       "<div>\n",
       "<style scoped>\n",
       "    .dataframe tbody tr th:only-of-type {\n",
       "        vertical-align: middle;\n",
       "    }\n",
       "\n",
       "    .dataframe tbody tr th {\n",
       "        vertical-align: top;\n",
       "    }\n",
       "\n",
       "    .dataframe thead th {\n",
       "        text-align: right;\n",
       "    }\n",
       "</style>\n",
       "<table border=\"1\" class=\"dataframe\">\n",
       "  <thead>\n",
       "    <tr style=\"text-align: right;\">\n",
       "      <th></th>\n",
       "      <th>name</th>\n",
       "      <th>train_accuracy</th>\n",
       "      <th>test_accuracy</th>\n",
       "      <th>test_recall</th>\n",
       "      <th>train_recall</th>\n",
       "    </tr>\n",
       "  </thead>\n",
       "  <tbody>\n",
       "    <tr>\n",
       "      <th>0</th>\n",
       "      <td>SVM Classifier</td>\n",
       "      <td>0.895078</td>\n",
       "      <td>0.894875</td>\n",
       "      <td>0.880105</td>\n",
       "      <td>0.900365</td>\n",
       "    </tr>\n",
       "  </tbody>\n",
       "</table>\n",
       "</div>"
      ],
      "text/plain": [
       "             name  train_accuracy  test_accuracy  test_recall  train_recall\n",
       "0  SVM Classifier        0.895078       0.894875     0.880105      0.900365"
      ]
     },
     "execution_count": 45,
     "metadata": {},
     "output_type": "execute_result"
    }
   ],
   "source": [
    "svm = imbpipeline([\n",
    "    ('Imputation',preproc),\n",
    "    ('DF Converter',DfConverter()),\n",
    "    ('SMOTE NC Oversampling',SMOTENC(categorical_features=colselect,n_jobs=-1)),\n",
    "    ('DF Converter1',DfConverter()),\n",
    "    ('Data Preprocessing', data_preprocessing),\n",
    "    ('model', SVC(gamma=0.5,C=6))\n",
    "])\n",
    "# parameters = {'model__kernel':('linear', 'rbf'), 'model__C':np.arange(1,10),}\n",
    "# pd.DataFrame(GridSearchCV(svm,param_grid=parameters,scoring='recall',n_jobs=-1).fit(x_train,y_train).cv_results_)\n",
    "\n",
    "record,current,lr=scoreModel(svm,x_train,y_train,\"SVM Classifier\",record=record)\n",
    "current"
   ]
  },
  {
   "cell_type": "code",
   "execution_count": 46,
   "id": "58704273",
   "metadata": {
    "execution": {
     "iopub.execute_input": "2022-05-19T05:31:08.856438Z",
     "iopub.status.busy": "2022-05-19T05:31:08.855841Z",
     "iopub.status.idle": "2022-05-19T05:31:08.859862Z",
     "shell.execute_reply": "2022-05-19T05:31:08.859352Z"
    },
    "papermill": {
     "duration": 0.029941,
     "end_time": "2022-05-19T05:31:08.861437",
     "exception": false,
     "start_time": "2022-05-19T05:31:08.831496",
     "status": "completed"
    },
    "pycharm": {
     "is_executing": true,
     "name": "#%%\n"
    },
    "tags": []
   },
   "outputs": [],
   "source": [
    "# parameter={'model__C':np.arange(1,10),'model__gamma':np.arange(0.1,1,0.1)}\n",
    "# pd.DataFrame(GridSearchCV(svm,param_grid=parameter,scoring='recall').fit(x_train,y_train).cv_results_)"
   ]
  },
  {
   "cell_type": "code",
   "execution_count": 47,
   "id": "0aabe97c",
   "metadata": {
    "execution": {
     "iopub.execute_input": "2022-05-19T05:31:08.909434Z",
     "iopub.status.busy": "2022-05-19T05:31:08.908945Z",
     "iopub.status.idle": "2022-05-19T05:32:40.221210Z",
     "shell.execute_reply": "2022-05-19T05:32:40.220709Z"
    },
    "papermill": {
     "duration": 91.337795,
     "end_time": "2022-05-19T05:32:40.222574",
     "exception": false,
     "start_time": "2022-05-19T05:31:08.884779",
     "status": "completed"
    },
    "pycharm": {
     "is_executing": true,
     "name": "#%%\n"
    },
    "tags": []
   },
   "outputs": [
    {
     "name": "stderr",
     "output_type": "stream",
     "text": [
      "/opt/hostedtoolcache/Python/3.8.12/x64/lib/python3.8/site-packages/sklearn/impute/_iterative.py:699: ConvergenceWarning: [IterativeImputer] Early stopping criterion not reached.\n",
      "  warnings.warn(\n",
      "/opt/hostedtoolcache/Python/3.8.12/x64/lib/python3.8/site-packages/sklearn/impute/_iterative.py:699: ConvergenceWarning: [IterativeImputer] Early stopping criterion not reached.\n",
      "  warnings.warn(\n",
      "/opt/hostedtoolcache/Python/3.8.12/x64/lib/python3.8/site-packages/sklearn/impute/_iterative.py:699: ConvergenceWarning: [IterativeImputer] Early stopping criterion not reached.\n",
      "  warnings.warn(\n",
      "/opt/hostedtoolcache/Python/3.8.12/x64/lib/python3.8/site-packages/sklearn/impute/_iterative.py:699: ConvergenceWarning: [IterativeImputer] Early stopping criterion not reached.\n",
      "  warnings.warn(\n",
      "/opt/hostedtoolcache/Python/3.8.12/x64/lib/python3.8/site-packages/sklearn/impute/_iterative.py:699: ConvergenceWarning: [IterativeImputer] Early stopping criterion not reached.\n",
      "  warnings.warn(\n",
      "/opt/hostedtoolcache/Python/3.8.12/x64/lib/python3.8/site-packages/sklearn/impute/_iterative.py:699: ConvergenceWarning: [IterativeImputer] Early stopping criterion not reached.\n",
      "  warnings.warn(\n",
      "/opt/hostedtoolcache/Python/3.8.12/x64/lib/python3.8/site-packages/sklearn/impute/_iterative.py:699: ConvergenceWarning: [IterativeImputer] Early stopping criterion not reached.\n",
      "  warnings.warn(\n",
      "/opt/hostedtoolcache/Python/3.8.12/x64/lib/python3.8/site-packages/sklearn/impute/_iterative.py:699: ConvergenceWarning: [IterativeImputer] Early stopping criterion not reached.\n",
      "  warnings.warn(\n",
      "/opt/hostedtoolcache/Python/3.8.12/x64/lib/python3.8/site-packages/sklearn/impute/_iterative.py:699: ConvergenceWarning: [IterativeImputer] Early stopping criterion not reached.\n",
      "  warnings.warn(\n",
      "/opt/hostedtoolcache/Python/3.8.12/x64/lib/python3.8/site-packages/sklearn/impute/_iterative.py:699: ConvergenceWarning: [IterativeImputer] Early stopping criterion not reached.\n",
      "  warnings.warn(\n",
      "/opt/hostedtoolcache/Python/3.8.12/x64/lib/python3.8/site-packages/sklearn/impute/_iterative.py:699: ConvergenceWarning: [IterativeImputer] Early stopping criterion not reached.\n",
      "  warnings.warn(\n",
      "/opt/hostedtoolcache/Python/3.8.12/x64/lib/python3.8/site-packages/sklearn/impute/_iterative.py:699: ConvergenceWarning: [IterativeImputer] Early stopping criterion not reached.\n",
      "  warnings.warn(\n",
      "/opt/hostedtoolcache/Python/3.8.12/x64/lib/python3.8/site-packages/sklearn/impute/_iterative.py:699: ConvergenceWarning: [IterativeImputer] Early stopping criterion not reached.\n",
      "  warnings.warn(\n",
      "/opt/hostedtoolcache/Python/3.8.12/x64/lib/python3.8/site-packages/sklearn/impute/_iterative.py:699: ConvergenceWarning: [IterativeImputer] Early stopping criterion not reached.\n",
      "  warnings.warn(\n",
      "/opt/hostedtoolcache/Python/3.8.12/x64/lib/python3.8/site-packages/sklearn/impute/_iterative.py:699: ConvergenceWarning: [IterativeImputer] Early stopping criterion not reached.\n",
      "  warnings.warn(\n",
      "/opt/hostedtoolcache/Python/3.8.12/x64/lib/python3.8/site-packages/sklearn/impute/_iterative.py:699: ConvergenceWarning: [IterativeImputer] Early stopping criterion not reached.\n",
      "  warnings.warn(\n",
      "/opt/hostedtoolcache/Python/3.8.12/x64/lib/python3.8/site-packages/sklearn/impute/_iterative.py:699: ConvergenceWarning: [IterativeImputer] Early stopping criterion not reached.\n",
      "  warnings.warn(\n",
      "/opt/hostedtoolcache/Python/3.8.12/x64/lib/python3.8/site-packages/sklearn/impute/_iterative.py:699: ConvergenceWarning: [IterativeImputer] Early stopping criterion not reached.\n",
      "  warnings.warn(\n",
      "/opt/hostedtoolcache/Python/3.8.12/x64/lib/python3.8/site-packages/sklearn/impute/_iterative.py:699: ConvergenceWarning: [IterativeImputer] Early stopping criterion not reached.\n",
      "  warnings.warn(\n",
      "/opt/hostedtoolcache/Python/3.8.12/x64/lib/python3.8/site-packages/sklearn/impute/_iterative.py:699: ConvergenceWarning: [IterativeImputer] Early stopping criterion not reached.\n",
      "  warnings.warn(\n",
      "/opt/hostedtoolcache/Python/3.8.12/x64/lib/python3.8/site-packages/sklearn/impute/_iterative.py:699: ConvergenceWarning: [IterativeImputer] Early stopping criterion not reached.\n",
      "  warnings.warn(\n",
      "/opt/hostedtoolcache/Python/3.8.12/x64/lib/python3.8/site-packages/sklearn/impute/_iterative.py:699: ConvergenceWarning: [IterativeImputer] Early stopping criterion not reached.\n",
      "  warnings.warn(\n",
      "/opt/hostedtoolcache/Python/3.8.12/x64/lib/python3.8/site-packages/sklearn/impute/_iterative.py:699: ConvergenceWarning: [IterativeImputer] Early stopping criterion not reached.\n",
      "  warnings.warn(\n",
      "/opt/hostedtoolcache/Python/3.8.12/x64/lib/python3.8/site-packages/sklearn/impute/_iterative.py:699: ConvergenceWarning: [IterativeImputer] Early stopping criterion not reached.\n",
      "  warnings.warn(\n",
      "/opt/hostedtoolcache/Python/3.8.12/x64/lib/python3.8/site-packages/sklearn/impute/_iterative.py:699: ConvergenceWarning: [IterativeImputer] Early stopping criterion not reached.\n",
      "  warnings.warn(\n",
      "/opt/hostedtoolcache/Python/3.8.12/x64/lib/python3.8/site-packages/sklearn/impute/_iterative.py:699: ConvergenceWarning: [IterativeImputer] Early stopping criterion not reached.\n",
      "  warnings.warn(\n",
      "/opt/hostedtoolcache/Python/3.8.12/x64/lib/python3.8/site-packages/sklearn/impute/_iterative.py:699: ConvergenceWarning: [IterativeImputer] Early stopping criterion not reached.\n",
      "  warnings.warn(\n",
      "/opt/hostedtoolcache/Python/3.8.12/x64/lib/python3.8/site-packages/sklearn/impute/_iterative.py:699: ConvergenceWarning: [IterativeImputer] Early stopping criterion not reached.\n",
      "  warnings.warn(\n",
      "/opt/hostedtoolcache/Python/3.8.12/x64/lib/python3.8/site-packages/sklearn/impute/_iterative.py:699: ConvergenceWarning: [IterativeImputer] Early stopping criterion not reached.\n",
      "  warnings.warn(\n",
      "/opt/hostedtoolcache/Python/3.8.12/x64/lib/python3.8/site-packages/sklearn/impute/_iterative.py:699: ConvergenceWarning: [IterativeImputer] Early stopping criterion not reached.\n",
      "  warnings.warn(\n",
      "/opt/hostedtoolcache/Python/3.8.12/x64/lib/python3.8/site-packages/sklearn/impute/_iterative.py:699: ConvergenceWarning: [IterativeImputer] Early stopping criterion not reached.\n",
      "  warnings.warn(\n",
      "/opt/hostedtoolcache/Python/3.8.12/x64/lib/python3.8/site-packages/sklearn/impute/_iterative.py:699: ConvergenceWarning: [IterativeImputer] Early stopping criterion not reached.\n",
      "  warnings.warn(\n",
      "/opt/hostedtoolcache/Python/3.8.12/x64/lib/python3.8/site-packages/sklearn/impute/_iterative.py:699: ConvergenceWarning: [IterativeImputer] Early stopping criterion not reached.\n",
      "  warnings.warn(\n",
      "/opt/hostedtoolcache/Python/3.8.12/x64/lib/python3.8/site-packages/sklearn/impute/_iterative.py:699: ConvergenceWarning: [IterativeImputer] Early stopping criterion not reached.\n",
      "  warnings.warn(\n",
      "/opt/hostedtoolcache/Python/3.8.12/x64/lib/python3.8/site-packages/sklearn/impute/_iterative.py:699: ConvergenceWarning: [IterativeImputer] Early stopping criterion not reached.\n",
      "  warnings.warn(\n",
      "/opt/hostedtoolcache/Python/3.8.12/x64/lib/python3.8/site-packages/sklearn/impute/_iterative.py:699: ConvergenceWarning: [IterativeImputer] Early stopping criterion not reached.\n",
      "  warnings.warn(\n",
      "/opt/hostedtoolcache/Python/3.8.12/x64/lib/python3.8/site-packages/sklearn/impute/_iterative.py:699: ConvergenceWarning: [IterativeImputer] Early stopping criterion not reached.\n",
      "  warnings.warn(\n",
      "/opt/hostedtoolcache/Python/3.8.12/x64/lib/python3.8/site-packages/sklearn/impute/_iterative.py:699: ConvergenceWarning: [IterativeImputer] Early stopping criterion not reached.\n",
      "  warnings.warn(\n",
      "/opt/hostedtoolcache/Python/3.8.12/x64/lib/python3.8/site-packages/sklearn/impute/_iterative.py:699: ConvergenceWarning: [IterativeImputer] Early stopping criterion not reached.\n",
      "  warnings.warn(\n",
      "/opt/hostedtoolcache/Python/3.8.12/x64/lib/python3.8/site-packages/sklearn/impute/_iterative.py:699: ConvergenceWarning: [IterativeImputer] Early stopping criterion not reached.\n",
      "  warnings.warn(\n",
      "/opt/hostedtoolcache/Python/3.8.12/x64/lib/python3.8/site-packages/sklearn/impute/_iterative.py:699: ConvergenceWarning: [IterativeImputer] Early stopping criterion not reached.\n",
      "  warnings.warn(\n",
      "/opt/hostedtoolcache/Python/3.8.12/x64/lib/python3.8/site-packages/sklearn/impute/_iterative.py:699: ConvergenceWarning: [IterativeImputer] Early stopping criterion not reached.\n",
      "  warnings.warn(\n"
     ]
    },
    {
     "data": {
      "image/png": "[encoded data removed]",
      "text/plain": [
       "<Figure size 432x288 with 1 Axes>"
      ]
     },
     "metadata": {
      "needs_background": "light"
     },
     "output_type": "display_data"
    },
    {
     "data": {
      "text/html": [
       "<div>\n",
       "<style scoped>\n",
       "    .dataframe tbody tr th:only-of-type {\n",
       "        vertical-align: middle;\n",
       "    }\n",
       "\n",
       "    .dataframe tbody tr th {\n",
       "        vertical-align: top;\n",
       "    }\n",
       "\n",
       "    .dataframe thead th {\n",
       "        text-align: right;\n",
       "    }\n",
       "</style>\n",
       "<table border=\"1\" class=\"dataframe\">\n",
       "  <thead>\n",
       "    <tr style=\"text-align: right;\">\n",
       "      <th></th>\n",
       "      <th>name</th>\n",
       "      <th>train_accuracy</th>\n",
       "      <th>test_accuracy</th>\n",
       "      <th>test_recall</th>\n",
       "      <th>train_recall</th>\n",
       "    </tr>\n",
       "  </thead>\n",
       "  <tbody>\n",
       "    <tr>\n",
       "      <th>0</th>\n",
       "      <td>Adaptive Boosting Classifier</td>\n",
       "      <td>0.911453</td>\n",
       "      <td>0.910812</td>\n",
       "      <td>0.854213</td>\n",
       "      <td>0.880997</td>\n",
       "    </tr>\n",
       "  </tbody>\n",
       "</table>\n",
       "</div>"
      ],
      "text/plain": [
       "                           name  train_accuracy  test_accuracy  test_recall  \\\n",
       "0  Adaptive Boosting Classifier        0.911453       0.910812     0.854213   \n",
       "\n",
       "   train_recall  \n",
       "0      0.880997  "
      ]
     },
     "execution_count": 47,
     "metadata": {},
     "output_type": "execute_result"
    }
   ],
   "source": [
    "lgbmC = imbpipeline([\n",
    "    ('Imputation',preproc),\n",
    "    ('DF Converter',DfConverter()),\n",
    "    ('SMOTE NC Oversampling',SMOTENC(categorical_features=colselect,n_jobs=-1)),\n",
    "    ('DF Converter1',DfConverter()),\n",
    "    ('Data Preprocessing', data_preprocessing),\n",
    "\n",
    "    ('model', AdaBoostClassifier(learning_rate=0.8))\n",
    "])\n",
    "\n",
    "\n",
    "# parameter={'model__n_estimators':np.arange(1,13),'model__learning_rate':np.arange(0.1,2,0.01)}\n",
    "#\n",
    "# pd.DataFrame(GridSearchCV(lgbmC,param_grid=parameter,scoring='recall',n_jobs=-1).fit(x_train,y_train).cv_results_)\n",
    "\n",
    "record,current,lr=scoreModel(lgbmC,x_train,y_train,\"Adaptive Boosting Classifier\",record=record)\n",
    "current"
   ]
  },
  {
   "cell_type": "code",
   "execution_count": 48,
   "id": "5fce7a34",
   "metadata": {
    "execution": {
     "iopub.execute_input": "2022-05-19T05:32:40.272563Z",
     "iopub.status.busy": "2022-05-19T05:32:40.272043Z",
     "iopub.status.idle": "2022-05-19T05:34:02.306053Z",
     "shell.execute_reply": "2022-05-19T05:34:02.305509Z"
    },
    "papermill": {
     "duration": 82.063259,
     "end_time": "2022-05-19T05:34:02.310425",
     "exception": false,
     "start_time": "2022-05-19T05:32:40.247166",
     "status": "completed"
    },
    "pycharm": {
     "is_executing": true,
     "name": "#%%\n"
    },
    "tags": []
   },
   "outputs": [
    {
     "data": {
      "image/png": "[encoded data removed]",
      "text/plain": [
       "<Figure size 432x288 with 1 Axes>"
      ]
     },
     "metadata": {
      "needs_background": "light"
     },
     "output_type": "display_data"
    },
    {
     "data": {
      "text/html": [
       "<div>\n",
       "<style scoped>\n",
       "    .dataframe tbody tr th:only-of-type {\n",
       "        vertical-align: middle;\n",
       "    }\n",
       "\n",
       "    .dataframe tbody tr th {\n",
       "        vertical-align: top;\n",
       "    }\n",
       "\n",
       "    .dataframe thead th {\n",
       "        text-align: right;\n",
       "    }\n",
       "</style>\n",
       "<table border=\"1\" class=\"dataframe\">\n",
       "  <thead>\n",
       "    <tr style=\"text-align: right;\">\n",
       "      <th></th>\n",
       "      <th>name</th>\n",
       "      <th>train_accuracy</th>\n",
       "      <th>test_accuracy</th>\n",
       "      <th>test_recall</th>\n",
       "      <th>train_recall</th>\n",
       "    </tr>\n",
       "  </thead>\n",
       "  <tbody>\n",
       "    <tr>\n",
       "      <th>0</th>\n",
       "      <td>eXtreme Gradient Boosting Classifier</td>\n",
       "      <td>0.929094</td>\n",
       "      <td>0.926</td>\n",
       "      <td>0.885593</td>\n",
       "      <td>0.927584</td>\n",
       "    </tr>\n",
       "  </tbody>\n",
       "</table>\n",
       "</div>"
      ],
      "text/plain": [
       "                                   name  train_accuracy  test_accuracy  \\\n",
       "0  eXtreme Gradient Boosting Classifier        0.929094          0.926   \n",
       "\n",
       "   test_recall  train_recall  \n",
       "0     0.885593      0.927584  "
      ]
     },
     "execution_count": 48,
     "metadata": {},
     "output_type": "execute_result"
    }
   ],
   "source": [
    "\n",
    "xgboost = imbpipeline([\n",
    "    ('Imputation',preproc),\n",
    "    ('DF Converter',DfConverter()),\n",
    "    ('SMOTE NC Oversampling',SMOTENC(categorical_features=colselect,n_jobs=-1)),\n",
    "    ('DF Converter1',DfConverter()),\n",
    "    ('Data Preprocessing', data_preprocessing),\n",
    "\n",
    "    ('Model', xgb.XGBClassifier(tree_method='hist',max_depth=2))\n",
    "])\n",
    "record,current,lr=scoreModel(xgboost,x_train,y_train,\"eXtreme Gradient Boosting Classifier\",record)\n",
    "current"
   ]
  },
  {
   "cell_type": "code",
   "execution_count": 49,
   "id": "0293c1f8",
   "metadata": {
    "execution": {
     "iopub.execute_input": "2022-05-19T05:34:02.361171Z",
     "iopub.status.busy": "2022-05-19T05:34:02.360798Z",
     "iopub.status.idle": "2022-05-19T05:34:02.364518Z",
     "shell.execute_reply": "2022-05-19T05:34:02.364035Z"
    },
    "papermill": {
     "duration": 0.030617,
     "end_time": "2022-05-19T05:34:02.365854",
     "exception": false,
     "start_time": "2022-05-19T05:34:02.335237",
     "status": "completed"
    },
    "pycharm": {
     "is_executing": true,
     "name": "#%%\n"
    },
    "tags": []
   },
   "outputs": [],
   "source": [
    "# parameter={'Model__max_depth':np.arange(1,10),'Model__n_estimators':np.arange(1,16)}\n",
    "# pd.DataFrame(GridSearchCV(xgboost,param_grid=parameter,scoring='recall').fit(x_train,y_train).cv_results_)\n"
   ]
  },
  {
   "cell_type": "code",
   "execution_count": 50,
   "id": "bc477a78",
   "metadata": {
    "execution": {
     "iopub.execute_input": "2022-05-19T05:34:02.416205Z",
     "iopub.status.busy": "2022-05-19T05:34:02.415781Z",
     "iopub.status.idle": "2022-05-19T05:35:56.224134Z",
     "shell.execute_reply": "2022-05-19T05:35:56.223633Z"
    },
    "papermill": {
     "duration": 113.857414,
     "end_time": "2022-05-19T05:35:56.247821",
     "exception": false,
     "start_time": "2022-05-19T05:34:02.390407",
     "status": "completed"
    },
    "tags": []
   },
   "outputs": [
    {
     "name": "stderr",
     "output_type": "stream",
     "text": [
      "/opt/hostedtoolcache/Python/3.8.12/x64/lib/python3.8/site-packages/sklearn/impute/_iterative.py:699: ConvergenceWarning: [IterativeImputer] Early stopping criterion not reached.\n",
      "  warnings.warn(\n",
      "/opt/hostedtoolcache/Python/3.8.12/x64/lib/python3.8/site-packages/sklearn/impute/_iterative.py:699: ConvergenceWarning: [IterativeImputer] Early stopping criterion not reached.\n",
      "  warnings.warn(\n",
      "/opt/hostedtoolcache/Python/3.8.12/x64/lib/python3.8/site-packages/sklearn/impute/_iterative.py:699: ConvergenceWarning: [IterativeImputer] Early stopping criterion not reached.\n",
      "  warnings.warn(\n",
      "/opt/hostedtoolcache/Python/3.8.12/x64/lib/python3.8/site-packages/sklearn/impute/_iterative.py:699: ConvergenceWarning: [IterativeImputer] Early stopping criterion not reached.\n",
      "  warnings.warn(\n",
      "/opt/hostedtoolcache/Python/3.8.12/x64/lib/python3.8/site-packages/sklearn/impute/_iterative.py:699: ConvergenceWarning: [IterativeImputer] Early stopping criterion not reached.\n",
      "  warnings.warn(\n",
      "/opt/hostedtoolcache/Python/3.8.12/x64/lib/python3.8/site-packages/sklearn/impute/_iterative.py:699: ConvergenceWarning: [IterativeImputer] Early stopping criterion not reached.\n",
      "  warnings.warn(\n",
      "/opt/hostedtoolcache/Python/3.8.12/x64/lib/python3.8/site-packages/sklearn/impute/_iterative.py:699: ConvergenceWarning: [IterativeImputer] Early stopping criterion not reached.\n",
      "  warnings.warn(\n",
      "/opt/hostedtoolcache/Python/3.8.12/x64/lib/python3.8/site-packages/sklearn/impute/_iterative.py:699: ConvergenceWarning: [IterativeImputer] Early stopping criterion not reached.\n",
      "  warnings.warn(\n",
      "/opt/hostedtoolcache/Python/3.8.12/x64/lib/python3.8/site-packages/sklearn/impute/_iterative.py:699: ConvergenceWarning: [IterativeImputer] Early stopping criterion not reached.\n",
      "  warnings.warn(\n",
      "/opt/hostedtoolcache/Python/3.8.12/x64/lib/python3.8/site-packages/sklearn/impute/_iterative.py:699: ConvergenceWarning: [IterativeImputer] Early stopping criterion not reached.\n",
      "  warnings.warn(\n",
      "/opt/hostedtoolcache/Python/3.8.12/x64/lib/python3.8/site-packages/sklearn/impute/_iterative.py:699: ConvergenceWarning: [IterativeImputer] Early stopping criterion not reached.\n",
      "  warnings.warn(\n"
     ]
    },
    {
     "data": {
      "image/png": "[encoded data removed]",
      "text/plain": [
       "<Figure size 432x288 with 1 Axes>"
      ]
     },
     "metadata": {
      "needs_background": "light"
     },
     "output_type": "display_data"
    },
    {
     "data": {
      "text/html": [
       "<div>\n",
       "<style scoped>\n",
       "    .dataframe tbody tr th:only-of-type {\n",
       "        vertical-align: middle;\n",
       "    }\n",
       "\n",
       "    .dataframe tbody tr th {\n",
       "        vertical-align: top;\n",
       "    }\n",
       "\n",
       "    .dataframe thead th {\n",
       "        text-align: right;\n",
       "    }\n",
       "</style>\n",
       "<table border=\"1\" class=\"dataframe\">\n",
       "  <thead>\n",
       "    <tr style=\"text-align: right;\">\n",
       "      <th></th>\n",
       "      <th>name</th>\n",
       "      <th>train_accuracy</th>\n",
       "      <th>test_accuracy</th>\n",
       "      <th>test_recall</th>\n",
       "      <th>train_recall</th>\n",
       "    </tr>\n",
       "  </thead>\n",
       "  <tbody>\n",
       "    <tr>\n",
       "      <th>0</th>\n",
       "      <td>Gradient Boosting Classifier</td>\n",
       "      <td>0.925672</td>\n",
       "      <td>0.921875</td>\n",
       "      <td>0.893017</td>\n",
       "      <td>0.928041</td>\n",
       "    </tr>\n",
       "  </tbody>\n",
       "</table>\n",
       "</div>"
      ],
      "text/plain": [
       "                           name  train_accuracy  test_accuracy  test_recall  \\\n",
       "0  Gradient Boosting Classifier        0.925672       0.921875     0.893017   \n",
       "\n",
       "   train_recall  \n",
       "0      0.928041  "
      ]
     },
     "execution_count": 50,
     "metadata": {},
     "output_type": "execute_result"
    }
   ],
   "source": [
    "from sklearn.ensemble import GradientBoostingClassifier\n",
    "gboost = imbpipeline([\n",
    "    ('Imputation',preproc),\n",
    "    ('DF Converter',DfConverter()),\n",
    "    ('SMOTE NC Oversampling',SMOTENC(categorical_features=colselect,n_jobs=-1)),\n",
    "    ('DF Converter1',DfConverter()),\n",
    "    ('Data Preprocessing', data_preprocessing),\n",
    "\n",
    "    ('Model', GradientBoostingClassifier())\n",
    "])\n",
    "record,current,lr=scoreModel(gboost,x_train,y_train,\"Gradient Boosting Classifier\",record)\n",
    "current"
   ]
  },
  {
   "cell_type": "code",
   "execution_count": 51,
   "id": "ac027f3d",
   "metadata": {
    "execution": {
     "iopub.execute_input": "2022-05-19T05:35:56.300053Z",
     "iopub.status.busy": "2022-05-19T05:35:56.299540Z",
     "iopub.status.idle": "2022-05-19T05:41:03.644756Z",
     "shell.execute_reply": "2022-05-19T05:41:03.643766Z"
    },
    "papermill": {
     "duration": 307.372873,
     "end_time": "2022-05-19T05:41:03.646114",
     "exception": false,
     "start_time": "2022-05-19T05:35:56.273241",
     "status": "completed"
    },
    "tags": []
   },
   "outputs": [
    {
     "name": "stderr",
     "output_type": "stream",
     "text": [
      "/opt/hostedtoolcache/Python/3.8.12/x64/lib/python3.8/site-packages/sklearn/impute/_iterative.py:699: ConvergenceWarning: [IterativeImputer] Early stopping criterion not reached.\n",
      "  warnings.warn(\n"
     ]
    },
    {
     "name": "stderr",
     "output_type": "stream",
     "text": [
      "/opt/hostedtoolcache/Python/3.8.12/x64/lib/python3.8/site-packages/sklearn/impute/_iterative.py:699: ConvergenceWarning: [IterativeImputer] Early stopping criterion not reached.\n",
      "  warnings.warn(\n"
     ]
    },
    {
     "name": "stderr",
     "output_type": "stream",
     "text": [
      "/opt/hostedtoolcache/Python/3.8.12/x64/lib/python3.8/site-packages/sklearn/impute/_iterative.py:699: ConvergenceWarning: [IterativeImputer] Early stopping criterion not reached.\n",
      "  warnings.warn(\n"
     ]
    },
    {
     "name": "stderr",
     "output_type": "stream",
     "text": [
      "/opt/hostedtoolcache/Python/3.8.12/x64/lib/python3.8/site-packages/sklearn/impute/_iterative.py:699: ConvergenceWarning: [IterativeImputer] Early stopping criterion not reached.\n",
      "  warnings.warn(\n"
     ]
    },
    {
     "name": "stderr",
     "output_type": "stream",
     "text": [
      "/opt/hostedtoolcache/Python/3.8.12/x64/lib/python3.8/site-packages/sklearn/impute/_iterative.py:699: ConvergenceWarning: [IterativeImputer] Early stopping criterion not reached.\n",
      "  warnings.warn(\n"
     ]
    },
    {
     "name": "stderr",
     "output_type": "stream",
     "text": [
      "/opt/hostedtoolcache/Python/3.8.12/x64/lib/python3.8/site-packages/sklearn/impute/_iterative.py:699: ConvergenceWarning: [IterativeImputer] Early stopping criterion not reached.\n",
      "  warnings.warn(\n"
     ]
    },
    {
     "name": "stderr",
     "output_type": "stream",
     "text": [
      "/opt/hostedtoolcache/Python/3.8.12/x64/lib/python3.8/site-packages/sklearn/impute/_iterative.py:699: ConvergenceWarning: [IterativeImputer] Early stopping criterion not reached.\n",
      "  warnings.warn(\n"
     ]
    },
    {
     "name": "stderr",
     "output_type": "stream",
     "text": [
      "/opt/hostedtoolcache/Python/3.8.12/x64/lib/python3.8/site-packages/sklearn/impute/_iterative.py:699: ConvergenceWarning: [IterativeImputer] Early stopping criterion not reached.\n",
      "  warnings.warn(\n"
     ]
    },
    {
     "name": "stderr",
     "output_type": "stream",
     "text": [
      "/opt/hostedtoolcache/Python/3.8.12/x64/lib/python3.8/site-packages/sklearn/impute/_iterative.py:699: ConvergenceWarning: [IterativeImputer] Early stopping criterion not reached.\n",
      "  warnings.warn(\n"
     ]
    },
    {
     "name": "stderr",
     "output_type": "stream",
     "text": [
      "/opt/hostedtoolcache/Python/3.8.12/x64/lib/python3.8/site-packages/sklearn/impute/_iterative.py:699: ConvergenceWarning: [IterativeImputer] Early stopping criterion not reached.\n",
      "  warnings.warn(\n"
     ]
    },
    {
     "name": "stderr",
     "output_type": "stream",
     "text": [
      "/opt/hostedtoolcache/Python/3.8.12/x64/lib/python3.8/site-packages/sklearn/impute/_iterative.py:699: ConvergenceWarning: [IterativeImputer] Early stopping criterion not reached.\n",
      "  warnings.warn(\n"
     ]
    },
    {
     "name": "stderr",
     "output_type": "stream",
     "text": [
      "/opt/hostedtoolcache/Python/3.8.12/x64/lib/python3.8/site-packages/sklearn/impute/_iterative.py:699: ConvergenceWarning: [IterativeImputer] Early stopping criterion not reached.\n",
      "  warnings.warn(\n"
     ]
    },
    {
     "name": "stderr",
     "output_type": "stream",
     "text": [
      "/opt/hostedtoolcache/Python/3.8.12/x64/lib/python3.8/site-packages/sklearn/impute/_iterative.py:699: ConvergenceWarning: [IterativeImputer] Early stopping criterion not reached.\n",
      "  warnings.warn(\n"
     ]
    },
    {
     "name": "stderr",
     "output_type": "stream",
     "text": [
      "/opt/hostedtoolcache/Python/3.8.12/x64/lib/python3.8/site-packages/sklearn/impute/_iterative.py:699: ConvergenceWarning: [IterativeImputer] Early stopping criterion not reached.\n",
      "  warnings.warn(\n"
     ]
    },
    {
     "name": "stderr",
     "output_type": "stream",
     "text": [
      "/opt/hostedtoolcache/Python/3.8.12/x64/lib/python3.8/site-packages/sklearn/impute/_iterative.py:699: ConvergenceWarning: [IterativeImputer] Early stopping criterion not reached.\n",
      "  warnings.warn(\n"
     ]
    },
    {
     "name": "stderr",
     "output_type": "stream",
     "text": [
      "/opt/hostedtoolcache/Python/3.8.12/x64/lib/python3.8/site-packages/sklearn/impute/_iterative.py:699: ConvergenceWarning: [IterativeImputer] Early stopping criterion not reached.\n",
      "  warnings.warn(\n"
     ]
    },
    {
     "name": "stderr",
     "output_type": "stream",
     "text": [
      "/opt/hostedtoolcache/Python/3.8.12/x64/lib/python3.8/site-packages/sklearn/impute/_iterative.py:699: ConvergenceWarning: [IterativeImputer] Early stopping criterion not reached.\n",
      "  warnings.warn(\n"
     ]
    },
    {
     "name": "stderr",
     "output_type": "stream",
     "text": [
      "/opt/hostedtoolcache/Python/3.8.12/x64/lib/python3.8/site-packages/sklearn/impute/_iterative.py:699: ConvergenceWarning: [IterativeImputer] Early stopping criterion not reached.\n",
      "  warnings.warn(\n"
     ]
    },
    {
     "name": "stderr",
     "output_type": "stream",
     "text": [
      "/opt/hostedtoolcache/Python/3.8.12/x64/lib/python3.8/site-packages/sklearn/impute/_iterative.py:699: ConvergenceWarning: [IterativeImputer] Early stopping criterion not reached.\n",
      "  warnings.warn(\n"
     ]
    },
    {
     "name": "stderr",
     "output_type": "stream",
     "text": [
      "/opt/hostedtoolcache/Python/3.8.12/x64/lib/python3.8/site-packages/sklearn/impute/_iterative.py:699: ConvergenceWarning: [IterativeImputer] Early stopping criterion not reached.\n",
      "  warnings.warn(\n"
     ]
    },
    {
     "name": "stderr",
     "output_type": "stream",
     "text": [
      "/opt/hostedtoolcache/Python/3.8.12/x64/lib/python3.8/site-packages/sklearn/impute/_iterative.py:699: ConvergenceWarning: [IterativeImputer] Early stopping criterion not reached.\n",
      "  warnings.warn(\n"
     ]
    },
    {
     "name": "stderr",
     "output_type": "stream",
     "text": [
      "/opt/hostedtoolcache/Python/3.8.12/x64/lib/python3.8/site-packages/sklearn/impute/_iterative.py:699: ConvergenceWarning: [IterativeImputer] Early stopping criterion not reached.\n",
      "  warnings.warn(\n"
     ]
    },
    {
     "name": "stderr",
     "output_type": "stream",
     "text": [
      "/opt/hostedtoolcache/Python/3.8.12/x64/lib/python3.8/site-packages/sklearn/impute/_iterative.py:699: ConvergenceWarning: [IterativeImputer] Early stopping criterion not reached.\n",
      "  warnings.warn(\n"
     ]
    },
    {
     "name": "stderr",
     "output_type": "stream",
     "text": [
      "/opt/hostedtoolcache/Python/3.8.12/x64/lib/python3.8/site-packages/sklearn/impute/_iterative.py:699: ConvergenceWarning: [IterativeImputer] Early stopping criterion not reached.\n",
      "  warnings.warn(\n"
     ]
    },
    {
     "name": "stderr",
     "output_type": "stream",
     "text": [
      "/opt/hostedtoolcache/Python/3.8.12/x64/lib/python3.8/site-packages/sklearn/impute/_iterative.py:699: ConvergenceWarning: [IterativeImputer] Early stopping criterion not reached.\n",
      "  warnings.warn(\n"
     ]
    },
    {
     "name": "stderr",
     "output_type": "stream",
     "text": [
      "/opt/hostedtoolcache/Python/3.8.12/x64/lib/python3.8/site-packages/sklearn/impute/_iterative.py:699: ConvergenceWarning: [IterativeImputer] Early stopping criterion not reached.\n",
      "  warnings.warn(\n"
     ]
    },
    {
     "name": "stderr",
     "output_type": "stream",
     "text": [
      "/opt/hostedtoolcache/Python/3.8.12/x64/lib/python3.8/site-packages/sklearn/impute/_iterative.py:699: ConvergenceWarning: [IterativeImputer] Early stopping criterion not reached.\n",
      "  warnings.warn(\n"
     ]
    },
    {
     "name": "stderr",
     "output_type": "stream",
     "text": [
      "/opt/hostedtoolcache/Python/3.8.12/x64/lib/python3.8/site-packages/sklearn/impute/_iterative.py:699: ConvergenceWarning: [IterativeImputer] Early stopping criterion not reached.\n",
      "  warnings.warn(\n"
     ]
    },
    {
     "name": "stderr",
     "output_type": "stream",
     "text": [
      "/opt/hostedtoolcache/Python/3.8.12/x64/lib/python3.8/site-packages/sklearn/impute/_iterative.py:699: ConvergenceWarning: [IterativeImputer] Early stopping criterion not reached.\n",
      "  warnings.warn(\n"
     ]
    },
    {
     "name": "stderr",
     "output_type": "stream",
     "text": [
      "/opt/hostedtoolcache/Python/3.8.12/x64/lib/python3.8/site-packages/sklearn/impute/_iterative.py:699: ConvergenceWarning: [IterativeImputer] Early stopping criterion not reached.\n",
      "  warnings.warn(\n"
     ]
    },
    {
     "name": "stderr",
     "output_type": "stream",
     "text": [
      "/opt/hostedtoolcache/Python/3.8.12/x64/lib/python3.8/site-packages/sklearn/impute/_iterative.py:699: ConvergenceWarning: [IterativeImputer] Early stopping criterion not reached.\n",
      "  warnings.warn(\n"
     ]
    },
    {
     "name": "stderr",
     "output_type": "stream",
     "text": [
      "/opt/hostedtoolcache/Python/3.8.12/x64/lib/python3.8/site-packages/sklearn/impute/_iterative.py:699: ConvergenceWarning: [IterativeImputer] Early stopping criterion not reached.\n",
      "  warnings.warn(\n"
     ]
    },
    {
     "data": {
      "text/html": [
       "<div>\n",
       "<style scoped>\n",
       "    .dataframe tbody tr th:only-of-type {\n",
       "        vertical-align: middle;\n",
       "    }\n",
       "\n",
       "    .dataframe tbody tr th {\n",
       "        vertical-align: top;\n",
       "    }\n",
       "\n",
       "    .dataframe thead th {\n",
       "        text-align: right;\n",
       "    }\n",
       "</style>\n",
       "<table border=\"1\" class=\"dataframe\">\n",
       "  <thead>\n",
       "    <tr style=\"text-align: right;\">\n",
       "      <th></th>\n",
       "      <th>mean_fit_time</th>\n",
       "      <th>std_fit_time</th>\n",
       "      <th>mean_score_time</th>\n",
       "      <th>std_score_time</th>\n",
       "      <th>param_Model__max_depth</th>\n",
       "      <th>params</th>\n",
       "      <th>split0_test_score</th>\n",
       "      <th>split1_test_score</th>\n",
       "      <th>split2_test_score</th>\n",
       "      <th>split3_test_score</th>\n",
       "      <th>split4_test_score</th>\n",
       "      <th>mean_test_score</th>\n",
       "      <th>std_test_score</th>\n",
       "      <th>rank_test_score</th>\n",
       "    </tr>\n",
       "  </thead>\n",
       "  <tbody>\n",
       "    <tr>\n",
       "      <th>0</th>\n",
       "      <td>5.883915</td>\n",
       "      <td>0.084778</td>\n",
       "      <td>0.052476</td>\n",
       "      <td>0.000564</td>\n",
       "      <td>1</td>\n",
       "      <td>{'Model__max_depth': 1}</td>\n",
       "      <td>0.879630</td>\n",
       "      <td>0.870370</td>\n",
       "      <td>0.916667</td>\n",
       "      <td>0.889908</td>\n",
       "      <td>0.908257</td>\n",
       "      <td>0.892966</td>\n",
       "      <td>0.017282</td>\n",
       "      <td>2</td>\n",
       "    </tr>\n",
       "    <tr>\n",
       "      <th>1</th>\n",
       "      <td>6.718180</td>\n",
       "      <td>0.026784</td>\n",
       "      <td>0.053613</td>\n",
       "      <td>0.000482</td>\n",
       "      <td>2</td>\n",
       "      <td>{'Model__max_depth': 2}</td>\n",
       "      <td>0.898148</td>\n",
       "      <td>0.870370</td>\n",
       "      <td>0.888889</td>\n",
       "      <td>0.935780</td>\n",
       "      <td>0.917431</td>\n",
       "      <td>0.902124</td>\n",
       "      <td>0.022655</td>\n",
       "      <td>1</td>\n",
       "    </tr>\n",
       "    <tr>\n",
       "      <th>2</th>\n",
       "      <td>7.642917</td>\n",
       "      <td>0.048107</td>\n",
       "      <td>0.055707</td>\n",
       "      <td>0.000393</td>\n",
       "      <td>3</td>\n",
       "      <td>{'Model__max_depth': 3}</td>\n",
       "      <td>0.898148</td>\n",
       "      <td>0.805556</td>\n",
       "      <td>0.898148</td>\n",
       "      <td>0.880734</td>\n",
       "      <td>0.889908</td>\n",
       "      <td>0.874499</td>\n",
       "      <td>0.035066</td>\n",
       "      <td>3</td>\n",
       "    </tr>\n",
       "    <tr>\n",
       "      <th>3</th>\n",
       "      <td>8.237979</td>\n",
       "      <td>0.575153</td>\n",
       "      <td>0.054736</td>\n",
       "      <td>0.005952</td>\n",
       "      <td>4</td>\n",
       "      <td>{'Model__max_depth': 4}</td>\n",
       "      <td>0.888889</td>\n",
       "      <td>0.796296</td>\n",
       "      <td>0.851852</td>\n",
       "      <td>0.889908</td>\n",
       "      <td>0.880734</td>\n",
       "      <td>0.861536</td>\n",
       "      <td>0.035417</td>\n",
       "      <td>4</td>\n",
       "    </tr>\n",
       "    <tr>\n",
       "      <th>4</th>\n",
       "      <td>9.155437</td>\n",
       "      <td>0.571846</td>\n",
       "      <td>0.055188</td>\n",
       "      <td>0.005240</td>\n",
       "      <td>5</td>\n",
       "      <td>{'Model__max_depth': 5}</td>\n",
       "      <td>0.851852</td>\n",
       "      <td>0.777778</td>\n",
       "      <td>0.842593</td>\n",
       "      <td>0.825688</td>\n",
       "      <td>0.844037</td>\n",
       "      <td>0.828389</td>\n",
       "      <td>0.026705</td>\n",
       "      <td>5</td>\n",
       "    </tr>\n",
       "    <tr>\n",
       "      <th>5</th>\n",
       "      <td>10.408559</td>\n",
       "      <td>0.124544</td>\n",
       "      <td>0.059470</td>\n",
       "      <td>0.000529</td>\n",
       "      <td>6</td>\n",
       "      <td>{'Model__max_depth': 6}</td>\n",
       "      <td>0.842593</td>\n",
       "      <td>0.759259</td>\n",
       "      <td>0.824074</td>\n",
       "      <td>0.825688</td>\n",
       "      <td>0.844037</td>\n",
       "      <td>0.819130</td>\n",
       "      <td>0.031057</td>\n",
       "      <td>6</td>\n",
       "    </tr>\n",
       "    <tr>\n",
       "      <th>6</th>\n",
       "      <td>11.317260</td>\n",
       "      <td>0.042334</td>\n",
       "      <td>0.060641</td>\n",
       "      <td>0.000835</td>\n",
       "      <td>7</td>\n",
       "      <td>{'Model__max_depth': 7}</td>\n",
       "      <td>0.833333</td>\n",
       "      <td>0.712963</td>\n",
       "      <td>0.851852</td>\n",
       "      <td>0.816514</td>\n",
       "      <td>0.862385</td>\n",
       "      <td>0.815409</td>\n",
       "      <td>0.053577</td>\n",
       "      <td>7</td>\n",
       "    </tr>\n",
       "  </tbody>\n",
       "</table>\n",
       "</div>"
      ],
      "text/plain": [
       "   mean_fit_time  std_fit_time  mean_score_time  std_score_time  \\\n",
       "0       5.883915      0.084778         0.052476        0.000564   \n",
       "1       6.718180      0.026784         0.053613        0.000482   \n",
       "2       7.642917      0.048107         0.055707        0.000393   \n",
       "3       8.237979      0.575153         0.054736        0.005952   \n",
       "4       9.155437      0.571846         0.055188        0.005240   \n",
       "5      10.408559      0.124544         0.059470        0.000529   \n",
       "6      11.317260      0.042334         0.060641        0.000835   \n",
       "\n",
       "  param_Model__max_depth                   params  split0_test_score  \\\n",
       "0                      1  {'Model__max_depth': 1}           0.879630   \n",
       "1                      2  {'Model__max_depth': 2}           0.898148   \n",
       "2                      3  {'Model__max_depth': 3}           0.898148   \n",
       "3                      4  {'Model__max_depth': 4}           0.888889   \n",
       "4                      5  {'Model__max_depth': 5}           0.851852   \n",
       "5                      6  {'Model__max_depth': 6}           0.842593   \n",
       "6                      7  {'Model__max_depth': 7}           0.833333   \n",
       "\n",
       "   split1_test_score  split2_test_score  split3_test_score  split4_test_score  \\\n",
       "0           0.870370           0.916667           0.889908           0.908257   \n",
       "1           0.870370           0.888889           0.935780           0.917431   \n",
       "2           0.805556           0.898148           0.880734           0.889908   \n",
       "3           0.796296           0.851852           0.889908           0.880734   \n",
       "4           0.777778           0.842593           0.825688           0.844037   \n",
       "5           0.759259           0.824074           0.825688           0.844037   \n",
       "6           0.712963           0.851852           0.816514           0.862385   \n",
       "\n",
       "   mean_test_score  std_test_score  rank_test_score  \n",
       "0         0.892966        0.017282                2  \n",
       "1         0.902124        0.022655                1  \n",
       "2         0.874499        0.035066                3  \n",
       "3         0.861536        0.035417                4  \n",
       "4         0.828389        0.026705                5  \n",
       "5         0.819130        0.031057                6  \n",
       "6         0.815409        0.053577                7  "
      ]
     },
     "execution_count": 51,
     "metadata": {},
     "output_type": "execute_result"
    }
   ],
   "source": [
    "parameter={'Model__max_depth':np.arange(1,8)}\n",
    "pd.DataFrame(GridSearchCV(gboost,param_grid=parameter,scoring='recall').fit(x_train,y_train).cv_results_)\n"
   ]
  },
  {
   "cell_type": "code",
   "execution_count": 52,
   "id": "a5547f31",
   "metadata": {
    "execution": {
     "iopub.execute_input": "2022-05-19T05:41:03.702731Z",
     "iopub.status.busy": "2022-05-19T05:41:03.702128Z",
     "iopub.status.idle": "2022-05-19T05:42:23.975844Z",
     "shell.execute_reply": "2022-05-19T05:42:23.975413Z"
    },
    "papermill": {
     "duration": 80.328074,
     "end_time": "2022-05-19T05:42:24.001969",
     "exception": false,
     "start_time": "2022-05-19T05:41:03.673895",
     "status": "completed"
    },
    "tags": []
   },
   "outputs": [
    {
     "name": "stderr",
     "output_type": "stream",
     "text": [
      "/opt/hostedtoolcache/Python/3.8.12/x64/lib/python3.8/site-packages/sklearn/impute/_iterative.py:699: ConvergenceWarning: [IterativeImputer] Early stopping criterion not reached.\n",
      "  warnings.warn(\n",
      "/opt/hostedtoolcache/Python/3.8.12/x64/lib/python3.8/site-packages/sklearn/impute/_iterative.py:699: ConvergenceWarning: [IterativeImputer] Early stopping criterion not reached.\n",
      "  warnings.warn(\n",
      "/opt/hostedtoolcache/Python/3.8.12/x64/lib/python3.8/site-packages/sklearn/impute/_iterative.py:699: ConvergenceWarning: [IterativeImputer] Early stopping criterion not reached.\n",
      "  warnings.warn(\n",
      "/opt/hostedtoolcache/Python/3.8.12/x64/lib/python3.8/site-packages/sklearn/impute/_iterative.py:699: ConvergenceWarning: [IterativeImputer] Early stopping criterion not reached.\n",
      "  warnings.warn(\n",
      "/opt/hostedtoolcache/Python/3.8.12/x64/lib/python3.8/site-packages/sklearn/impute/_iterative.py:699: ConvergenceWarning: [IterativeImputer] Early stopping criterion not reached.\n",
      "  warnings.warn(\n",
      "/opt/hostedtoolcache/Python/3.8.12/x64/lib/python3.8/site-packages/sklearn/impute/_iterative.py:699: ConvergenceWarning: [IterativeImputer] Early stopping criterion not reached.\n",
      "  warnings.warn(\n",
      "/opt/hostedtoolcache/Python/3.8.12/x64/lib/python3.8/site-packages/sklearn/impute/_iterative.py:699: ConvergenceWarning: [IterativeImputer] Early stopping criterion not reached.\n",
      "  warnings.warn(\n",
      "/opt/hostedtoolcache/Python/3.8.12/x64/lib/python3.8/site-packages/sklearn/impute/_iterative.py:699: ConvergenceWarning: [IterativeImputer] Early stopping criterion not reached.\n",
      "  warnings.warn(\n",
      "/opt/hostedtoolcache/Python/3.8.12/x64/lib/python3.8/site-packages/sklearn/impute/_iterative.py:699: ConvergenceWarning: [IterativeImputer] Early stopping criterion not reached.\n",
      "  warnings.warn(\n",
      "/opt/hostedtoolcache/Python/3.8.12/x64/lib/python3.8/site-packages/sklearn/impute/_iterative.py:699: ConvergenceWarning: [IterativeImputer] Early stopping criterion not reached.\n",
      "  warnings.warn(\n",
      "/opt/hostedtoolcache/Python/3.8.12/x64/lib/python3.8/site-packages/sklearn/impute/_iterative.py:699: ConvergenceWarning: [IterativeImputer] Early stopping criterion not reached.\n",
      "  warnings.warn(\n",
      "/opt/hostedtoolcache/Python/3.8.12/x64/lib/python3.8/site-packages/sklearn/impute/_iterative.py:699: ConvergenceWarning: [IterativeImputer] Early stopping criterion not reached.\n",
      "  warnings.warn(\n",
      "/opt/hostedtoolcache/Python/3.8.12/x64/lib/python3.8/site-packages/sklearn/impute/_iterative.py:699: ConvergenceWarning: [IterativeImputer] Early stopping criterion not reached.\n",
      "  warnings.warn(\n",
      "/opt/hostedtoolcache/Python/3.8.12/x64/lib/python3.8/site-packages/sklearn/impute/_iterative.py:699: ConvergenceWarning: [IterativeImputer] Early stopping criterion not reached.\n",
      "  warnings.warn(\n",
      "/opt/hostedtoolcache/Python/3.8.12/x64/lib/python3.8/site-packages/sklearn/impute/_iterative.py:699: ConvergenceWarning: [IterativeImputer] Early stopping criterion not reached.\n",
      "  warnings.warn(\n",
      "/opt/hostedtoolcache/Python/3.8.12/x64/lib/python3.8/site-packages/sklearn/impute/_iterative.py:699: ConvergenceWarning: [IterativeImputer] Early stopping criterion not reached.\n",
      "  warnings.warn(\n",
      "/opt/hostedtoolcache/Python/3.8.12/x64/lib/python3.8/site-packages/sklearn/impute/_iterative.py:699: ConvergenceWarning: [IterativeImputer] Early stopping criterion not reached.\n",
      "  warnings.warn(\n",
      "/opt/hostedtoolcache/Python/3.8.12/x64/lib/python3.8/site-packages/sklearn/impute/_iterative.py:699: ConvergenceWarning: [IterativeImputer] Early stopping criterion not reached.\n",
      "  warnings.warn(\n",
      "/opt/hostedtoolcache/Python/3.8.12/x64/lib/python3.8/site-packages/sklearn/impute/_iterative.py:699: ConvergenceWarning: [IterativeImputer] Early stopping criterion not reached.\n",
      "  warnings.warn(\n",
      "/opt/hostedtoolcache/Python/3.8.12/x64/lib/python3.8/site-packages/sklearn/impute/_iterative.py:699: ConvergenceWarning: [IterativeImputer] Early stopping criterion not reached.\n",
      "  warnings.warn(\n",
      "/opt/hostedtoolcache/Python/3.8.12/x64/lib/python3.8/site-packages/sklearn/impute/_iterative.py:699: ConvergenceWarning: [IterativeImputer] Early stopping criterion not reached.\n",
      "  warnings.warn(\n",
      "/opt/hostedtoolcache/Python/3.8.12/x64/lib/python3.8/site-packages/sklearn/impute/_iterative.py:699: ConvergenceWarning: [IterativeImputer] Early stopping criterion not reached.\n",
      "  warnings.warn(\n",
      "/opt/hostedtoolcache/Python/3.8.12/x64/lib/python3.8/site-packages/sklearn/impute/_iterative.py:699: ConvergenceWarning: [IterativeImputer] Early stopping criterion not reached.\n",
      "  warnings.warn(\n",
      "/opt/hostedtoolcache/Python/3.8.12/x64/lib/python3.8/site-packages/sklearn/impute/_iterative.py:699: ConvergenceWarning: [IterativeImputer] Early stopping criterion not reached.\n",
      "  warnings.warn(\n",
      "/opt/hostedtoolcache/Python/3.8.12/x64/lib/python3.8/site-packages/sklearn/impute/_iterative.py:699: ConvergenceWarning: [IterativeImputer] Early stopping criterion not reached.\n",
      "  warnings.warn(\n",
      "/opt/hostedtoolcache/Python/3.8.12/x64/lib/python3.8/site-packages/sklearn/impute/_iterative.py:699: ConvergenceWarning: [IterativeImputer] Early stopping criterion not reached.\n",
      "  warnings.warn(\n",
      "/opt/hostedtoolcache/Python/3.8.12/x64/lib/python3.8/site-packages/sklearn/impute/_iterative.py:699: ConvergenceWarning: [IterativeImputer] Early stopping criterion not reached.\n",
      "  warnings.warn(\n",
      "/opt/hostedtoolcache/Python/3.8.12/x64/lib/python3.8/site-packages/sklearn/impute/_iterative.py:699: ConvergenceWarning: [IterativeImputer] Early stopping criterion not reached.\n",
      "  warnings.warn(\n",
      "/opt/hostedtoolcache/Python/3.8.12/x64/lib/python3.8/site-packages/sklearn/impute/_iterative.py:699: ConvergenceWarning: [IterativeImputer] Early stopping criterion not reached.\n",
      "  warnings.warn(\n",
      "/opt/hostedtoolcache/Python/3.8.12/x64/lib/python3.8/site-packages/sklearn/impute/_iterative.py:699: ConvergenceWarning: [IterativeImputer] Early stopping criterion not reached.\n",
      "  warnings.warn(\n",
      "/opt/hostedtoolcache/Python/3.8.12/x64/lib/python3.8/site-packages/sklearn/impute/_iterative.py:699: ConvergenceWarning: [IterativeImputer] Early stopping criterion not reached.\n",
      "  warnings.warn(\n",
      "/opt/hostedtoolcache/Python/3.8.12/x64/lib/python3.8/site-packages/sklearn/impute/_iterative.py:699: ConvergenceWarning: [IterativeImputer] Early stopping criterion not reached.\n",
      "  warnings.warn(\n",
      "/opt/hostedtoolcache/Python/3.8.12/x64/lib/python3.8/site-packages/sklearn/impute/_iterative.py:699: ConvergenceWarning: [IterativeImputer] Early stopping criterion not reached.\n",
      "  warnings.warn(\n",
      "/opt/hostedtoolcache/Python/3.8.12/x64/lib/python3.8/site-packages/sklearn/impute/_iterative.py:699: ConvergenceWarning: [IterativeImputer] Early stopping criterion not reached.\n",
      "  warnings.warn(\n",
      "/opt/hostedtoolcache/Python/3.8.12/x64/lib/python3.8/site-packages/sklearn/impute/_iterative.py:699: ConvergenceWarning: [IterativeImputer] Early stopping criterion not reached.\n",
      "  warnings.warn(\n",
      "/opt/hostedtoolcache/Python/3.8.12/x64/lib/python3.8/site-packages/sklearn/impute/_iterative.py:699: ConvergenceWarning: [IterativeImputer] Early stopping criterion not reached.\n",
      "  warnings.warn(\n",
      "/opt/hostedtoolcache/Python/3.8.12/x64/lib/python3.8/site-packages/sklearn/impute/_iterative.py:699: ConvergenceWarning: [IterativeImputer] Early stopping criterion not reached.\n",
      "  warnings.warn(\n",
      "/opt/hostedtoolcache/Python/3.8.12/x64/lib/python3.8/site-packages/sklearn/impute/_iterative.py:699: ConvergenceWarning: [IterativeImputer] Early stopping criterion not reached.\n",
      "  warnings.warn(\n",
      "/opt/hostedtoolcache/Python/3.8.12/x64/lib/python3.8/site-packages/sklearn/impute/_iterative.py:699: ConvergenceWarning: [IterativeImputer] Early stopping criterion not reached.\n",
      "  warnings.warn(\n",
      "/opt/hostedtoolcache/Python/3.8.12/x64/lib/python3.8/site-packages/sklearn/impute/_iterative.py:699: ConvergenceWarning: [IterativeImputer] Early stopping criterion not reached.\n",
      "  warnings.warn(\n",
      "/opt/hostedtoolcache/Python/3.8.12/x64/lib/python3.8/site-packages/sklearn/impute/_iterative.py:699: ConvergenceWarning: [IterativeImputer] Early stopping criterion not reached.\n",
      "  warnings.warn(\n",
      "/opt/hostedtoolcache/Python/3.8.12/x64/lib/python3.8/site-packages/sklearn/impute/_iterative.py:699: ConvergenceWarning: [IterativeImputer] Early stopping criterion not reached.\n",
      "  warnings.warn(\n"
     ]
    },
    {
     "data": {
      "image/png": "[encoded data removed]",
      "text/plain": [
       "<Figure size 432x288 with 1 Axes>"
      ]
     },
     "metadata": {
      "needs_background": "light"
     },
     "output_type": "display_data"
    },
    {
     "data": {
      "text/html": [
       "<div>\n",
       "<style scoped>\n",
       "    .dataframe tbody tr th:only-of-type {\n",
       "        vertical-align: middle;\n",
       "    }\n",
       "\n",
       "    .dataframe tbody tr th {\n",
       "        vertical-align: top;\n",
       "    }\n",
       "\n",
       "    .dataframe thead th {\n",
       "        text-align: right;\n",
       "    }\n",
       "</style>\n",
       "<table border=\"1\" class=\"dataframe\">\n",
       "  <thead>\n",
       "    <tr style=\"text-align: right;\">\n",
       "      <th></th>\n",
       "      <th>name</th>\n",
       "      <th>train_accuracy</th>\n",
       "      <th>test_accuracy</th>\n",
       "      <th>test_recall</th>\n",
       "      <th>train_recall</th>\n",
       "    </tr>\n",
       "  </thead>\n",
       "  <tbody>\n",
       "    <tr>\n",
       "      <th>0</th>\n",
       "      <td>Hist Gradiet Boosting Tree</td>\n",
       "      <td>0.904516</td>\n",
       "      <td>0.901625</td>\n",
       "      <td>0.896704</td>\n",
       "      <td>0.922052</td>\n",
       "    </tr>\n",
       "  </tbody>\n",
       "</table>\n",
       "</div>"
      ],
      "text/plain": [
       "                         name  train_accuracy  test_accuracy  test_recall  \\\n",
       "0  Hist Gradiet Boosting Tree        0.904516       0.901625     0.896704   \n",
       "\n",
       "   train_recall  \n",
       "0      0.922052  "
      ]
     },
     "execution_count": 52,
     "metadata": {},
     "output_type": "execute_result"
    }
   ],
   "source": [
    "from sklearn.ensemble import HistGradientBoostingClassifier\n",
    "histboost = imbpipeline([\n",
    "    ('Imputation',preproc),\n",
    "    ('DF Converter',DfConverter()),\n",
    "    ('SMOTE NC Oversampling',SMOTENC(categorical_features=colselect,n_jobs=-1)),\n",
    "    ('DF Converter1',DfConverter()),\n",
    "    ('Data Preprocessing', data_preprocessing),\n",
    "\n",
    "    ('Model', HistGradientBoostingClassifier(max_depth=2))\n",
    "])\n",
    "record,current,lr=scoreModel(histboost,x_train,y_train,\"Hist Gradiet Boosting Tree\",record)\n",
    "current"
   ]
  },
  {
   "cell_type": "code",
   "execution_count": 53,
   "id": "60919ab0",
   "metadata": {
    "execution": {
     "iopub.execute_input": "2022-05-19T05:42:24.059202Z",
     "iopub.status.busy": "2022-05-19T05:42:24.058939Z",
     "iopub.status.idle": "2022-05-19T05:45:27.039417Z",
     "shell.execute_reply": "2022-05-19T05:45:27.038822Z"
    },
    "papermill": {
     "duration": 183.010741,
     "end_time": "2022-05-19T05:45:27.040773",
     "exception": false,
     "start_time": "2022-05-19T05:42:24.030032",
     "status": "completed"
    },
    "tags": []
   },
   "outputs": [
    {
     "name": "stderr",
     "output_type": "stream",
     "text": [
      "/opt/hostedtoolcache/Python/3.8.12/x64/lib/python3.8/site-packages/sklearn/impute/_iterative.py:699: ConvergenceWarning: [IterativeImputer] Early stopping criterion not reached.\n",
      "  warnings.warn(\n"
     ]
    },
    {
     "name": "stderr",
     "output_type": "stream",
     "text": [
      "/opt/hostedtoolcache/Python/3.8.12/x64/lib/python3.8/site-packages/sklearn/impute/_iterative.py:699: ConvergenceWarning: [IterativeImputer] Early stopping criterion not reached.\n",
      "  warnings.warn(\n"
     ]
    },
    {
     "name": "stderr",
     "output_type": "stream",
     "text": [
      "/opt/hostedtoolcache/Python/3.8.12/x64/lib/python3.8/site-packages/sklearn/impute/_iterative.py:699: ConvergenceWarning: [IterativeImputer] Early stopping criterion not reached.\n",
      "  warnings.warn(\n"
     ]
    },
    {
     "name": "stderr",
     "output_type": "stream",
     "text": [
      "/opt/hostedtoolcache/Python/3.8.12/x64/lib/python3.8/site-packages/sklearn/impute/_iterative.py:699: ConvergenceWarning: [IterativeImputer] Early stopping criterion not reached.\n",
      "  warnings.warn(\n"
     ]
    },
    {
     "name": "stderr",
     "output_type": "stream",
     "text": [
      "/opt/hostedtoolcache/Python/3.8.12/x64/lib/python3.8/site-packages/sklearn/impute/_iterative.py:699: ConvergenceWarning: [IterativeImputer] Early stopping criterion not reached.\n",
      "  warnings.warn(\n"
     ]
    },
    {
     "name": "stderr",
     "output_type": "stream",
     "text": [
      "/opt/hostedtoolcache/Python/3.8.12/x64/lib/python3.8/site-packages/sklearn/impute/_iterative.py:699: ConvergenceWarning: [IterativeImputer] Early stopping criterion not reached.\n",
      "  warnings.warn(\n"
     ]
    },
    {
     "name": "stderr",
     "output_type": "stream",
     "text": [
      "/opt/hostedtoolcache/Python/3.8.12/x64/lib/python3.8/site-packages/sklearn/impute/_iterative.py:699: ConvergenceWarning: [IterativeImputer] Early stopping criterion not reached.\n",
      "  warnings.warn(\n"
     ]
    },
    {
     "name": "stderr",
     "output_type": "stream",
     "text": [
      "/opt/hostedtoolcache/Python/3.8.12/x64/lib/python3.8/site-packages/sklearn/impute/_iterative.py:699: ConvergenceWarning: [IterativeImputer] Early stopping criterion not reached.\n",
      "  warnings.warn(\n"
     ]
    },
    {
     "name": "stderr",
     "output_type": "stream",
     "text": [
      "/opt/hostedtoolcache/Python/3.8.12/x64/lib/python3.8/site-packages/sklearn/impute/_iterative.py:699: ConvergenceWarning: [IterativeImputer] Early stopping criterion not reached.\n",
      "  warnings.warn(\n"
     ]
    },
    {
     "name": "stderr",
     "output_type": "stream",
     "text": [
      "/opt/hostedtoolcache/Python/3.8.12/x64/lib/python3.8/site-packages/sklearn/impute/_iterative.py:699: ConvergenceWarning: [IterativeImputer] Early stopping criterion not reached.\n",
      "  warnings.warn(\n"
     ]
    },
    {
     "name": "stderr",
     "output_type": "stream",
     "text": [
      "/opt/hostedtoolcache/Python/3.8.12/x64/lib/python3.8/site-packages/sklearn/impute/_iterative.py:699: ConvergenceWarning: [IterativeImputer] Early stopping criterion not reached.\n",
      "  warnings.warn(\n"
     ]
    },
    {
     "name": "stderr",
     "output_type": "stream",
     "text": [
      "/opt/hostedtoolcache/Python/3.8.12/x64/lib/python3.8/site-packages/sklearn/impute/_iterative.py:699: ConvergenceWarning: [IterativeImputer] Early stopping criterion not reached.\n",
      "  warnings.warn(\n"
     ]
    },
    {
     "name": "stderr",
     "output_type": "stream",
     "text": [
      "/opt/hostedtoolcache/Python/3.8.12/x64/lib/python3.8/site-packages/sklearn/impute/_iterative.py:699: ConvergenceWarning: [IterativeImputer] Early stopping criterion not reached.\n",
      "  warnings.warn(\n"
     ]
    },
    {
     "name": "stderr",
     "output_type": "stream",
     "text": [
      "/opt/hostedtoolcache/Python/3.8.12/x64/lib/python3.8/site-packages/sklearn/impute/_iterative.py:699: ConvergenceWarning: [IterativeImputer] Early stopping criterion not reached.\n",
      "  warnings.warn(\n"
     ]
    },
    {
     "name": "stderr",
     "output_type": "stream",
     "text": [
      "/opt/hostedtoolcache/Python/3.8.12/x64/lib/python3.8/site-packages/sklearn/impute/_iterative.py:699: ConvergenceWarning: [IterativeImputer] Early stopping criterion not reached.\n",
      "  warnings.warn(\n"
     ]
    },
    {
     "name": "stderr",
     "output_type": "stream",
     "text": [
      "/opt/hostedtoolcache/Python/3.8.12/x64/lib/python3.8/site-packages/sklearn/impute/_iterative.py:699: ConvergenceWarning: [IterativeImputer] Early stopping criterion not reached.\n",
      "  warnings.warn(\n"
     ]
    },
    {
     "name": "stderr",
     "output_type": "stream",
     "text": [
      "/opt/hostedtoolcache/Python/3.8.12/x64/lib/python3.8/site-packages/sklearn/impute/_iterative.py:699: ConvergenceWarning: [IterativeImputer] Early stopping criterion not reached.\n",
      "  warnings.warn(\n"
     ]
    },
    {
     "name": "stderr",
     "output_type": "stream",
     "text": [
      "/opt/hostedtoolcache/Python/3.8.12/x64/lib/python3.8/site-packages/sklearn/impute/_iterative.py:699: ConvergenceWarning: [IterativeImputer] Early stopping criterion not reached.\n",
      "  warnings.warn(\n"
     ]
    },
    {
     "name": "stderr",
     "output_type": "stream",
     "text": [
      "/opt/hostedtoolcache/Python/3.8.12/x64/lib/python3.8/site-packages/sklearn/impute/_iterative.py:699: ConvergenceWarning: [IterativeImputer] Early stopping criterion not reached.\n",
      "  warnings.warn(\n"
     ]
    },
    {
     "name": "stderr",
     "output_type": "stream",
     "text": [
      "/opt/hostedtoolcache/Python/3.8.12/x64/lib/python3.8/site-packages/sklearn/impute/_iterative.py:699: ConvergenceWarning: [IterativeImputer] Early stopping criterion not reached.\n",
      "  warnings.warn(\n"
     ]
    },
    {
     "name": "stderr",
     "output_type": "stream",
     "text": [
      "/opt/hostedtoolcache/Python/3.8.12/x64/lib/python3.8/site-packages/sklearn/impute/_iterative.py:699: ConvergenceWarning: [IterativeImputer] Early stopping criterion not reached.\n",
      "  warnings.warn(\n"
     ]
    },
    {
     "name": "stderr",
     "output_type": "stream",
     "text": [
      "/opt/hostedtoolcache/Python/3.8.12/x64/lib/python3.8/site-packages/sklearn/impute/_iterative.py:699: ConvergenceWarning: [IterativeImputer] Early stopping criterion not reached.\n",
      "  warnings.warn(\n"
     ]
    },
    {
     "name": "stderr",
     "output_type": "stream",
     "text": [
      "/opt/hostedtoolcache/Python/3.8.12/x64/lib/python3.8/site-packages/sklearn/impute/_iterative.py:699: ConvergenceWarning: [IterativeImputer] Early stopping criterion not reached.\n",
      "  warnings.warn(\n"
     ]
    },
    {
     "name": "stderr",
     "output_type": "stream",
     "text": [
      "/opt/hostedtoolcache/Python/3.8.12/x64/lib/python3.8/site-packages/sklearn/impute/_iterative.py:699: ConvergenceWarning: [IterativeImputer] Early stopping criterion not reached.\n",
      "  warnings.warn(\n"
     ]
    },
    {
     "name": "stderr",
     "output_type": "stream",
     "text": [
      "/opt/hostedtoolcache/Python/3.8.12/x64/lib/python3.8/site-packages/sklearn/impute/_iterative.py:699: ConvergenceWarning: [IterativeImputer] Early stopping criterion not reached.\n",
      "  warnings.warn(\n"
     ]
    },
    {
     "name": "stderr",
     "output_type": "stream",
     "text": [
      "/opt/hostedtoolcache/Python/3.8.12/x64/lib/python3.8/site-packages/sklearn/impute/_iterative.py:699: ConvergenceWarning: [IterativeImputer] Early stopping criterion not reached.\n",
      "  warnings.warn(\n"
     ]
    },
    {
     "name": "stderr",
     "output_type": "stream",
     "text": [
      "/opt/hostedtoolcache/Python/3.8.12/x64/lib/python3.8/site-packages/sklearn/impute/_iterative.py:699: ConvergenceWarning: [IterativeImputer] Early stopping criterion not reached.\n",
      "  warnings.warn(\n"
     ]
    },
    {
     "name": "stderr",
     "output_type": "stream",
     "text": [
      "/opt/hostedtoolcache/Python/3.8.12/x64/lib/python3.8/site-packages/sklearn/impute/_iterative.py:699: ConvergenceWarning: [IterativeImputer] Early stopping criterion not reached.\n",
      "  warnings.warn(\n"
     ]
    },
    {
     "data": {
      "text/html": [
       "<div>\n",
       "<style scoped>\n",
       "    .dataframe tbody tr th:only-of-type {\n",
       "        vertical-align: middle;\n",
       "    }\n",
       "\n",
       "    .dataframe tbody tr th {\n",
       "        vertical-align: top;\n",
       "    }\n",
       "\n",
       "    .dataframe thead th {\n",
       "        text-align: right;\n",
       "    }\n",
       "</style>\n",
       "<table border=\"1\" class=\"dataframe\">\n",
       "  <thead>\n",
       "    <tr style=\"text-align: right;\">\n",
       "      <th></th>\n",
       "      <th>mean_fit_time</th>\n",
       "      <th>std_fit_time</th>\n",
       "      <th>mean_score_time</th>\n",
       "      <th>std_score_time</th>\n",
       "      <th>param_Model__max_depth</th>\n",
       "      <th>params</th>\n",
       "      <th>split0_test_score</th>\n",
       "      <th>split1_test_score</th>\n",
       "      <th>split2_test_score</th>\n",
       "      <th>split3_test_score</th>\n",
       "      <th>split4_test_score</th>\n",
       "      <th>mean_test_score</th>\n",
       "      <th>std_test_score</th>\n",
       "      <th>rank_test_score</th>\n",
       "    </tr>\n",
       "  </thead>\n",
       "  <tbody>\n",
       "    <tr>\n",
       "      <th>0</th>\n",
       "      <td>4.249658</td>\n",
       "      <td>0.696642</td>\n",
       "      <td>0.054396</td>\n",
       "      <td>0.006912</td>\n",
       "      <td>1</td>\n",
       "      <td>{'Model__max_depth': 1}</td>\n",
       "      <td>0.898148</td>\n",
       "      <td>0.888889</td>\n",
       "      <td>0.898148</td>\n",
       "      <td>0.880734</td>\n",
       "      <td>0.917431</td>\n",
       "      <td>0.896670</td>\n",
       "      <td>0.012247</td>\n",
       "      <td>1</td>\n",
       "    </tr>\n",
       "    <tr>\n",
       "      <th>1</th>\n",
       "      <td>4.600049</td>\n",
       "      <td>0.558443</td>\n",
       "      <td>0.058542</td>\n",
       "      <td>0.005534</td>\n",
       "      <td>2</td>\n",
       "      <td>{'Model__max_depth': 2}</td>\n",
       "      <td>0.851852</td>\n",
       "      <td>0.888889</td>\n",
       "      <td>0.898148</td>\n",
       "      <td>0.917431</td>\n",
       "      <td>0.917431</td>\n",
       "      <td>0.894750</td>\n",
       "      <td>0.024145</td>\n",
       "      <td>3</td>\n",
       "    </tr>\n",
       "    <tr>\n",
       "      <th>2</th>\n",
       "      <td>4.673747</td>\n",
       "      <td>0.554724</td>\n",
       "      <td>0.059083</td>\n",
       "      <td>0.005184</td>\n",
       "      <td>3</td>\n",
       "      <td>{'Model__max_depth': 3}</td>\n",
       "      <td>0.916667</td>\n",
       "      <td>0.861111</td>\n",
       "      <td>0.907407</td>\n",
       "      <td>0.908257</td>\n",
       "      <td>0.880734</td>\n",
       "      <td>0.894835</td>\n",
       "      <td>0.020741</td>\n",
       "      <td>2</td>\n",
       "    </tr>\n",
       "    <tr>\n",
       "      <th>3</th>\n",
       "      <td>5.146155</td>\n",
       "      <td>0.034998</td>\n",
       "      <td>0.063814</td>\n",
       "      <td>0.000456</td>\n",
       "      <td>4</td>\n",
       "      <td>{'Model__max_depth': 4}</td>\n",
       "      <td>0.870370</td>\n",
       "      <td>0.824074</td>\n",
       "      <td>0.870370</td>\n",
       "      <td>0.889908</td>\n",
       "      <td>0.889908</td>\n",
       "      <td>0.868926</td>\n",
       "      <td>0.024068</td>\n",
       "      <td>4</td>\n",
       "    </tr>\n",
       "    <tr>\n",
       "      <th>4</th>\n",
       "      <td>5.486242</td>\n",
       "      <td>0.042216</td>\n",
       "      <td>0.066425</td>\n",
       "      <td>0.000754</td>\n",
       "      <td>5</td>\n",
       "      <td>{'Model__max_depth': 5}</td>\n",
       "      <td>0.870370</td>\n",
       "      <td>0.805556</td>\n",
       "      <td>0.851852</td>\n",
       "      <td>0.871560</td>\n",
       "      <td>0.871560</td>\n",
       "      <td>0.854179</td>\n",
       "      <td>0.025440</td>\n",
       "      <td>5</td>\n",
       "    </tr>\n",
       "    <tr>\n",
       "      <th>5</th>\n",
       "      <td>5.361738</td>\n",
       "      <td>0.559844</td>\n",
       "      <td>0.064729</td>\n",
       "      <td>0.005557</td>\n",
       "      <td>6</td>\n",
       "      <td>{'Model__max_depth': 6}</td>\n",
       "      <td>0.851852</td>\n",
       "      <td>0.759259</td>\n",
       "      <td>0.861111</td>\n",
       "      <td>0.862385</td>\n",
       "      <td>0.844037</td>\n",
       "      <td>0.835729</td>\n",
       "      <td>0.038811</td>\n",
       "      <td>7</td>\n",
       "    </tr>\n",
       "    <tr>\n",
       "      <th>6</th>\n",
       "      <td>5.415480</td>\n",
       "      <td>0.563137</td>\n",
       "      <td>0.067311</td>\n",
       "      <td>0.005791</td>\n",
       "      <td>7</td>\n",
       "      <td>{'Model__max_depth': 7}</td>\n",
       "      <td>0.842593</td>\n",
       "      <td>0.787037</td>\n",
       "      <td>0.851852</td>\n",
       "      <td>0.862385</td>\n",
       "      <td>0.880734</td>\n",
       "      <td>0.844920</td>\n",
       "      <td>0.031596</td>\n",
       "      <td>6</td>\n",
       "    </tr>\n",
       "  </tbody>\n",
       "</table>\n",
       "</div>"
      ],
      "text/plain": [
       "   mean_fit_time  std_fit_time  mean_score_time  std_score_time  \\\n",
       "0       4.249658      0.696642         0.054396        0.006912   \n",
       "1       4.600049      0.558443         0.058542        0.005534   \n",
       "2       4.673747      0.554724         0.059083        0.005184   \n",
       "3       5.146155      0.034998         0.063814        0.000456   \n",
       "4       5.486242      0.042216         0.066425        0.000754   \n",
       "5       5.361738      0.559844         0.064729        0.005557   \n",
       "6       5.415480      0.563137         0.067311        0.005791   \n",
       "\n",
       "  param_Model__max_depth                   params  split0_test_score  \\\n",
       "0                      1  {'Model__max_depth': 1}           0.898148   \n",
       "1                      2  {'Model__max_depth': 2}           0.851852   \n",
       "2                      3  {'Model__max_depth': 3}           0.916667   \n",
       "3                      4  {'Model__max_depth': 4}           0.870370   \n",
       "4                      5  {'Model__max_depth': 5}           0.870370   \n",
       "5                      6  {'Model__max_depth': 6}           0.851852   \n",
       "6                      7  {'Model__max_depth': 7}           0.842593   \n",
       "\n",
       "   split1_test_score  split2_test_score  split3_test_score  split4_test_score  \\\n",
       "0           0.888889           0.898148           0.880734           0.917431   \n",
       "1           0.888889           0.898148           0.917431           0.917431   \n",
       "2           0.861111           0.907407           0.908257           0.880734   \n",
       "3           0.824074           0.870370           0.889908           0.889908   \n",
       "4           0.805556           0.851852           0.871560           0.871560   \n",
       "5           0.759259           0.861111           0.862385           0.844037   \n",
       "6           0.787037           0.851852           0.862385           0.880734   \n",
       "\n",
       "   mean_test_score  std_test_score  rank_test_score  \n",
       "0         0.896670        0.012247                1  \n",
       "1         0.894750        0.024145                3  \n",
       "2         0.894835        0.020741                2  \n",
       "3         0.868926        0.024068                4  \n",
       "4         0.854179        0.025440                5  \n",
       "5         0.835729        0.038811                7  \n",
       "6         0.844920        0.031596                6  "
      ]
     },
     "execution_count": 53,
     "metadata": {},
     "output_type": "execute_result"
    }
   ],
   "source": [
    "parameter={'Model__max_depth':np.arange(1,8)}\n",
    "pd.DataFrame(GridSearchCV(histboost,param_grid=parameter,scoring='recall').fit(x_train,y_train).cv_results_)\n"
   ]
  },
  {
   "cell_type": "code",
   "execution_count": 54,
   "id": "ddff7804",
   "metadata": {
    "execution": {
     "iopub.execute_input": "2022-05-19T05:45:27.102099Z",
     "iopub.status.busy": "2022-05-19T05:45:27.101516Z",
     "iopub.status.idle": "2022-05-19T05:48:27.692924Z",
     "shell.execute_reply": "2022-05-19T05:48:27.692405Z"
    },
    "papermill": {
     "duration": 180.623275,
     "end_time": "2022-05-19T05:48:27.694279",
     "exception": false,
     "start_time": "2022-05-19T05:45:27.071004",
     "status": "completed"
    },
    "tags": []
   },
   "outputs": [
    {
     "name": "stderr",
     "output_type": "stream",
     "text": [
      "/opt/hostedtoolcache/Python/3.8.12/x64/lib/python3.8/site-packages/sklearn/impute/_iterative.py:699: ConvergenceWarning: [IterativeImputer] Early stopping criterion not reached.\n",
      "  warnings.warn(\n"
     ]
    },
    {
     "name": "stderr",
     "output_type": "stream",
     "text": [
      "/opt/hostedtoolcache/Python/3.8.12/x64/lib/python3.8/site-packages/sklearn/impute/_iterative.py:699: ConvergenceWarning: [IterativeImputer] Early stopping criterion not reached.\n",
      "  warnings.warn(\n"
     ]
    },
    {
     "name": "stderr",
     "output_type": "stream",
     "text": [
      "/opt/hostedtoolcache/Python/3.8.12/x64/lib/python3.8/site-packages/sklearn/impute/_iterative.py:699: ConvergenceWarning: [IterativeImputer] Early stopping criterion not reached.\n",
      "  warnings.warn(\n"
     ]
    },
    {
     "name": "stderr",
     "output_type": "stream",
     "text": [
      "/opt/hostedtoolcache/Python/3.8.12/x64/lib/python3.8/site-packages/sklearn/impute/_iterative.py:699: ConvergenceWarning: [IterativeImputer] Early stopping criterion not reached.\n",
      "  warnings.warn(\n"
     ]
    },
    {
     "name": "stderr",
     "output_type": "stream",
     "text": [
      "/opt/hostedtoolcache/Python/3.8.12/x64/lib/python3.8/site-packages/sklearn/impute/_iterative.py:699: ConvergenceWarning: [IterativeImputer] Early stopping criterion not reached.\n",
      "  warnings.warn(\n"
     ]
    },
    {
     "name": "stderr",
     "output_type": "stream",
     "text": [
      "/opt/hostedtoolcache/Python/3.8.12/x64/lib/python3.8/site-packages/sklearn/impute/_iterative.py:699: ConvergenceWarning: [IterativeImputer] Early stopping criterion not reached.\n",
      "  warnings.warn(\n"
     ]
    },
    {
     "name": "stderr",
     "output_type": "stream",
     "text": [
      "/opt/hostedtoolcache/Python/3.8.12/x64/lib/python3.8/site-packages/sklearn/impute/_iterative.py:699: ConvergenceWarning: [IterativeImputer] Early stopping criterion not reached.\n",
      "  warnings.warn(\n"
     ]
    },
    {
     "name": "stderr",
     "output_type": "stream",
     "text": [
      "/opt/hostedtoolcache/Python/3.8.12/x64/lib/python3.8/site-packages/sklearn/impute/_iterative.py:699: ConvergenceWarning: [IterativeImputer] Early stopping criterion not reached.\n",
      "  warnings.warn(\n"
     ]
    },
    {
     "name": "stderr",
     "output_type": "stream",
     "text": [
      "/opt/hostedtoolcache/Python/3.8.12/x64/lib/python3.8/site-packages/sklearn/impute/_iterative.py:699: ConvergenceWarning: [IterativeImputer] Early stopping criterion not reached.\n",
      "  warnings.warn(\n"
     ]
    },
    {
     "name": "stderr",
     "output_type": "stream",
     "text": [
      "/opt/hostedtoolcache/Python/3.8.12/x64/lib/python3.8/site-packages/sklearn/impute/_iterative.py:699: ConvergenceWarning: [IterativeImputer] Early stopping criterion not reached.\n",
      "  warnings.warn(\n"
     ]
    },
    {
     "name": "stderr",
     "output_type": "stream",
     "text": [
      "/opt/hostedtoolcache/Python/3.8.12/x64/lib/python3.8/site-packages/sklearn/impute/_iterative.py:699: ConvergenceWarning: [IterativeImputer] Early stopping criterion not reached.\n",
      "  warnings.warn(\n"
     ]
    },
    {
     "name": "stderr",
     "output_type": "stream",
     "text": [
      "/opt/hostedtoolcache/Python/3.8.12/x64/lib/python3.8/site-packages/sklearn/impute/_iterative.py:699: ConvergenceWarning: [IterativeImputer] Early stopping criterion not reached.\n",
      "  warnings.warn(\n"
     ]
    },
    {
     "name": "stderr",
     "output_type": "stream",
     "text": [
      "/opt/hostedtoolcache/Python/3.8.12/x64/lib/python3.8/site-packages/sklearn/impute/_iterative.py:699: ConvergenceWarning: [IterativeImputer] Early stopping criterion not reached.\n",
      "  warnings.warn(\n"
     ]
    },
    {
     "name": "stderr",
     "output_type": "stream",
     "text": [
      "/opt/hostedtoolcache/Python/3.8.12/x64/lib/python3.8/site-packages/sklearn/impute/_iterative.py:699: ConvergenceWarning: [IterativeImputer] Early stopping criterion not reached.\n",
      "  warnings.warn(\n"
     ]
    },
    {
     "name": "stderr",
     "output_type": "stream",
     "text": [
      "/opt/hostedtoolcache/Python/3.8.12/x64/lib/python3.8/site-packages/sklearn/impute/_iterative.py:699: ConvergenceWarning: [IterativeImputer] Early stopping criterion not reached.\n",
      "  warnings.warn(\n"
     ]
    },
    {
     "name": "stderr",
     "output_type": "stream",
     "text": [
      "/opt/hostedtoolcache/Python/3.8.12/x64/lib/python3.8/site-packages/sklearn/impute/_iterative.py:699: ConvergenceWarning: [IterativeImputer] Early stopping criterion not reached.\n",
      "  warnings.warn(\n"
     ]
    },
    {
     "name": "stderr",
     "output_type": "stream",
     "text": [
      "/opt/hostedtoolcache/Python/3.8.12/x64/lib/python3.8/site-packages/sklearn/impute/_iterative.py:699: ConvergenceWarning: [IterativeImputer] Early stopping criterion not reached.\n",
      "  warnings.warn(\n"
     ]
    },
    {
     "name": "stderr",
     "output_type": "stream",
     "text": [
      "/opt/hostedtoolcache/Python/3.8.12/x64/lib/python3.8/site-packages/sklearn/impute/_iterative.py:699: ConvergenceWarning: [IterativeImputer] Early stopping criterion not reached.\n",
      "  warnings.warn(\n"
     ]
    },
    {
     "name": "stderr",
     "output_type": "stream",
     "text": [
      "/opt/hostedtoolcache/Python/3.8.12/x64/lib/python3.8/site-packages/sklearn/impute/_iterative.py:699: ConvergenceWarning: [IterativeImputer] Early stopping criterion not reached.\n",
      "  warnings.warn(\n"
     ]
    },
    {
     "name": "stderr",
     "output_type": "stream",
     "text": [
      "/opt/hostedtoolcache/Python/3.8.12/x64/lib/python3.8/site-packages/sklearn/impute/_iterative.py:699: ConvergenceWarning: [IterativeImputer] Early stopping criterion not reached.\n",
      "  warnings.warn(\n"
     ]
    },
    {
     "name": "stderr",
     "output_type": "stream",
     "text": [
      "/opt/hostedtoolcache/Python/3.8.12/x64/lib/python3.8/site-packages/sklearn/impute/_iterative.py:699: ConvergenceWarning: [IterativeImputer] Early stopping criterion not reached.\n",
      "  warnings.warn(\n"
     ]
    },
    {
     "name": "stderr",
     "output_type": "stream",
     "text": [
      "/opt/hostedtoolcache/Python/3.8.12/x64/lib/python3.8/site-packages/sklearn/impute/_iterative.py:699: ConvergenceWarning: [IterativeImputer] Early stopping criterion not reached.\n",
      "  warnings.warn(\n"
     ]
    },
    {
     "name": "stderr",
     "output_type": "stream",
     "text": [
      "/opt/hostedtoolcache/Python/3.8.12/x64/lib/python3.8/site-packages/sklearn/impute/_iterative.py:699: ConvergenceWarning: [IterativeImputer] Early stopping criterion not reached.\n",
      "  warnings.warn(\n"
     ]
    },
    {
     "name": "stderr",
     "output_type": "stream",
     "text": [
      "/opt/hostedtoolcache/Python/3.8.12/x64/lib/python3.8/site-packages/sklearn/impute/_iterative.py:699: ConvergenceWarning: [IterativeImputer] Early stopping criterion not reached.\n",
      "  warnings.warn(\n"
     ]
    },
    {
     "name": "stderr",
     "output_type": "stream",
     "text": [
      "/opt/hostedtoolcache/Python/3.8.12/x64/lib/python3.8/site-packages/sklearn/impute/_iterative.py:699: ConvergenceWarning: [IterativeImputer] Early stopping criterion not reached.\n",
      "  warnings.warn(\n"
     ]
    },
    {
     "name": "stderr",
     "output_type": "stream",
     "text": [
      "/opt/hostedtoolcache/Python/3.8.12/x64/lib/python3.8/site-packages/sklearn/impute/_iterative.py:699: ConvergenceWarning: [IterativeImputer] Early stopping criterion not reached.\n",
      "  warnings.warn(\n"
     ]
    },
    {
     "name": "stderr",
     "output_type": "stream",
     "text": [
      "/opt/hostedtoolcache/Python/3.8.12/x64/lib/python3.8/site-packages/sklearn/impute/_iterative.py:699: ConvergenceWarning: [IterativeImputer] Early stopping criterion not reached.\n",
      "  warnings.warn(\n"
     ]
    },
    {
     "data": {
      "image/png": "[encoded data removed]",
      "text/plain": [
       "<Figure size 432x288 with 1 Axes>"
      ]
     },
     "metadata": {
      "needs_background": "light"
     },
     "output_type": "display_data"
    }
   ],
   "source": [
    "\n",
    "\n",
    "from sklearn.model_selection import validation_curve\n",
    "pr=np.arange(1,8)\n",
    "train_score,test_score = validation_curve(histboost,x_train,y_train,param_name='Model__max_depth',param_range=pr,cv=StratifiedKFold(n_splits = 5, shuffle = True, random_state = 0,),scoring='recall')\n",
    "train_score =  np.mean(train_score,axis=1)\n",
    "test_score = np.mean(test_score,axis=1)\n",
    "plt.plot(pr,train_score,'o-',color = 'r',label = 'training')\n",
    "plt.plot(pr,test_score,'o-',color = 'g',label = 'testing')\n",
    "plt.legend(loc='best')\n",
    "plt.xlabel('depth')\n",
    "plt.ylabel('recall')\n",
    "plt.show()\n"
   ]
  },
  {
   "cell_type": "code",
   "execution_count": 55,
   "id": "ed910813",
   "metadata": {
    "execution": {
     "iopub.execute_input": "2022-05-19T05:48:27.759209Z",
     "iopub.status.busy": "2022-05-19T05:48:27.758305Z",
     "iopub.status.idle": "2022-05-19T05:49:53.191863Z",
     "shell.execute_reply": "2022-05-19T05:49:53.191433Z"
    },
    "papermill": {
     "duration": 85.518832,
     "end_time": "2022-05-19T05:49:53.244790",
     "exception": false,
     "start_time": "2022-05-19T05:48:27.725958",
     "status": "completed"
    },
    "pycharm": {
     "is_executing": true,
     "name": "#%%\n"
    },
    "tags": []
   },
   "outputs": [
    {
     "data": {
      "image/png": "[encoded data removed]",
      "text/plain": [
       "<Figure size 432x288 with 1 Axes>"
      ]
     },
     "metadata": {
      "needs_background": "light"
     },
     "output_type": "display_data"
    },
    {
     "data": {
      "text/html": [
       "<div>\n",
       "<style scoped>\n",
       "    .dataframe tbody tr th:only-of-type {\n",
       "        vertical-align: middle;\n",
       "    }\n",
       "\n",
       "    .dataframe tbody tr th {\n",
       "        vertical-align: top;\n",
       "    }\n",
       "\n",
       "    .dataframe thead th {\n",
       "        text-align: right;\n",
       "    }\n",
       "</style>\n",
       "<table border=\"1\" class=\"dataframe\">\n",
       "  <thead>\n",
       "    <tr style=\"text-align: right;\">\n",
       "      <th></th>\n",
       "      <th>name</th>\n",
       "      <th>train_accuracy</th>\n",
       "      <th>test_accuracy</th>\n",
       "      <th>test_recall</th>\n",
       "      <th>train_recall</th>\n",
       "    </tr>\n",
       "  </thead>\n",
       "  <tbody>\n",
       "    <tr>\n",
       "      <th>0</th>\n",
       "      <td>K-Nearest Neighbour Classifier</td>\n",
       "      <td>0.962234</td>\n",
       "      <td>0.944</td>\n",
       "      <td>0.791369</td>\n",
       "      <td>0.940035</td>\n",
       "    </tr>\n",
       "  </tbody>\n",
       "</table>\n",
       "</div>"
      ],
      "text/plain": [
       "                             name  train_accuracy  test_accuracy  test_recall  \\\n",
       "0  K-Nearest Neighbour Classifier        0.962234          0.944     0.791369   \n",
       "\n",
       "   train_recall  \n",
       "0      0.940035  "
      ]
     },
     "execution_count": 55,
     "metadata": {},
     "output_type": "execute_result"
    }
   ],
   "source": [
    "knnClassifier = imbpipeline([\n",
    "    ('Imputation',preproc),\n",
    "    ('DF Converter',DfConverter()),\n",
    "    ('SMOTE NC Oversampling',SMOTENC(categorical_features=colselect,n_jobs=-1)),\n",
    "    ('DF Converter1',DfConverter()),\n",
    "    ('Data Preprocessing', data_preprocessing),\n",
    "    ('Model', KNeighborsClassifier(n_neighbors=5))\n",
    "])\n",
    "record,current,lr=scoreModel(knnClassifier,x_train,y_train,\"K-Nearest Neighbour Classifier\",record=record)\n",
    "current"
   ]
  },
  {
   "cell_type": "code",
   "execution_count": 56,
   "id": "3ecccc4e",
   "metadata": {
    "execution": {
     "iopub.execute_input": "2022-05-19T05:49:53.309918Z",
     "iopub.status.busy": "2022-05-19T05:49:53.309468Z",
     "iopub.status.idle": "2022-05-19T05:49:53.313598Z",
     "shell.execute_reply": "2022-05-19T05:49:53.313091Z"
    },
    "papermill": {
     "duration": 0.038395,
     "end_time": "2022-05-19T05:49:53.315049",
     "exception": false,
     "start_time": "2022-05-19T05:49:53.276654",
     "status": "completed"
    },
    "pycharm": {
     "is_executing": true,
     "name": "#%%\n"
    },
    "tags": []
   },
   "outputs": [],
   "source": [
    "# parameter={'Model__n_neighbors':np.arange(1,20)}\n",
    "# pd.DataFrame(GridSearchCV(knnClassifier,param_grid=parameter,scoring='recall').fit(x_train,y_train).cv_results_)\n"
   ]
  },
  {
   "cell_type": "markdown",
   "id": "852914de",
   "metadata": {
    "papermill": {
     "duration": 0.031514,
     "end_time": "2022-05-19T05:49:53.378227",
     "exception": false,
     "start_time": "2022-05-19T05:49:53.346713",
     "status": "completed"
    },
    "tags": []
   },
   "source": [
    "## Results"
   ]
  },
  {
   "cell_type": "code",
   "execution_count": 57,
   "id": "07f5223b",
   "metadata": {
    "execution": {
     "iopub.execute_input": "2022-05-19T05:49:53.442746Z",
     "iopub.status.busy": "2022-05-19T05:49:53.442489Z",
     "iopub.status.idle": "2022-05-19T05:49:53.451042Z",
     "shell.execute_reply": "2022-05-19T05:49:53.450507Z"
    },
    "papermill": {
     "duration": 0.043004,
     "end_time": "2022-05-19T05:49:53.452888",
     "exception": false,
     "start_time": "2022-05-19T05:49:53.409884",
     "status": "completed"
    },
    "pycharm": {
     "is_executing": true,
     "name": "#%%\n"
    },
    "tags": []
   },
   "outputs": [
    {
     "data": {
      "text/html": [
       "<div>\n",
       "<style scoped>\n",
       "    .dataframe tbody tr th:only-of-type {\n",
       "        vertical-align: middle;\n",
       "    }\n",
       "\n",
       "    .dataframe tbody tr th {\n",
       "        vertical-align: top;\n",
       "    }\n",
       "\n",
       "    .dataframe thead th {\n",
       "        text-align: right;\n",
       "    }\n",
       "</style>\n",
       "<table border=\"1\" class=\"dataframe\">\n",
       "  <thead>\n",
       "    <tr style=\"text-align: right;\">\n",
       "      <th></th>\n",
       "      <th>name</th>\n",
       "      <th>train_accuracy</th>\n",
       "      <th>test_accuracy</th>\n",
       "      <th>test_recall</th>\n",
       "      <th>train_recall</th>\n",
       "    </tr>\n",
       "  </thead>\n",
       "  <tbody>\n",
       "    <tr>\n",
       "      <th>0</th>\n",
       "      <td>Dummy Baseline Classifier</td>\n",
       "      <td>0.966125</td>\n",
       "      <td>0.966125</td>\n",
       "      <td>0.000000</td>\n",
       "      <td>0.000000</td>\n",
       "    </tr>\n",
       "    <tr>\n",
       "      <th>1</th>\n",
       "      <td>Decision Tree Classifier</td>\n",
       "      <td>0.877969</td>\n",
       "      <td>0.876688</td>\n",
       "      <td>0.930003</td>\n",
       "      <td>0.942803</td>\n",
       "    </tr>\n",
       "    <tr>\n",
       "      <th>2</th>\n",
       "      <td>Random Forest Classifier</td>\n",
       "      <td>0.937797</td>\n",
       "      <td>0.930063</td>\n",
       "      <td>0.859769</td>\n",
       "      <td>0.932656</td>\n",
       "    </tr>\n",
       "    <tr>\n",
       "      <th>3</th>\n",
       "      <td>SVM Classifier</td>\n",
       "      <td>0.895078</td>\n",
       "      <td>0.894875</td>\n",
       "      <td>0.880105</td>\n",
       "      <td>0.900365</td>\n",
       "    </tr>\n",
       "    <tr>\n",
       "      <th>4</th>\n",
       "      <td>Adaptive Boosting Classifier</td>\n",
       "      <td>0.911453</td>\n",
       "      <td>0.910812</td>\n",
       "      <td>0.854213</td>\n",
       "      <td>0.880997</td>\n",
       "    </tr>\n",
       "    <tr>\n",
       "      <th>5</th>\n",
       "      <td>eXtreme Gradient Boosting Classifier</td>\n",
       "      <td>0.929094</td>\n",
       "      <td>0.926000</td>\n",
       "      <td>0.885593</td>\n",
       "      <td>0.927584</td>\n",
       "    </tr>\n",
       "    <tr>\n",
       "      <th>6</th>\n",
       "      <td>Gradient Boosting Classifier</td>\n",
       "      <td>0.925672</td>\n",
       "      <td>0.921875</td>\n",
       "      <td>0.893017</td>\n",
       "      <td>0.928041</td>\n",
       "    </tr>\n",
       "    <tr>\n",
       "      <th>7</th>\n",
       "      <td>Hist Gradiet Boosting Tree</td>\n",
       "      <td>0.904516</td>\n",
       "      <td>0.901625</td>\n",
       "      <td>0.896704</td>\n",
       "      <td>0.922052</td>\n",
       "    </tr>\n",
       "    <tr>\n",
       "      <th>8</th>\n",
       "      <td>K-Nearest Neighbour Classifier</td>\n",
       "      <td>0.962234</td>\n",
       "      <td>0.944000</td>\n",
       "      <td>0.791369</td>\n",
       "      <td>0.940035</td>\n",
       "    </tr>\n",
       "  </tbody>\n",
       "</table>\n",
       "</div>"
      ],
      "text/plain": [
       "                                   name  train_accuracy  test_accuracy  \\\n",
       "0             Dummy Baseline Classifier        0.966125       0.966125   \n",
       "1              Decision Tree Classifier        0.877969       0.876688   \n",
       "2              Random Forest Classifier        0.937797       0.930063   \n",
       "3                        SVM Classifier        0.895078       0.894875   \n",
       "4          Adaptive Boosting Classifier        0.911453       0.910812   \n",
       "5  eXtreme Gradient Boosting Classifier        0.929094       0.926000   \n",
       "6          Gradient Boosting Classifier        0.925672       0.921875   \n",
       "7            Hist Gradiet Boosting Tree        0.904516       0.901625   \n",
       "8        K-Nearest Neighbour Classifier        0.962234       0.944000   \n",
       "\n",
       "   test_recall  train_recall  \n",
       "0     0.000000      0.000000  \n",
       "1     0.930003      0.942803  \n",
       "2     0.859769      0.932656  \n",
       "3     0.880105      0.900365  \n",
       "4     0.854213      0.880997  \n",
       "5     0.885593      0.927584  \n",
       "6     0.893017      0.928041  \n",
       "7     0.896704      0.922052  \n",
       "8     0.791369      0.940035  "
      ]
     },
     "execution_count": 57,
     "metadata": {},
     "output_type": "execute_result"
    }
   ],
   "source": [
    "record"
   ]
  },
  {
   "cell_type": "markdown",
   "id": "8cba7207",
   "metadata": {
    "papermill": {
     "duration": 0.031861,
     "end_time": "2022-05-19T05:49:53.516846",
     "exception": false,
     "start_time": "2022-05-19T05:49:53.484985",
     "status": "completed"
    },
    "tags": []
   },
   "source": [
    "### Recall Score"
   ]
  },
  {
   "cell_type": "code",
   "execution_count": 58,
   "id": "d1c07e0c",
   "metadata": {
    "execution": {
     "iopub.execute_input": "2022-05-19T05:49:53.582248Z",
     "iopub.status.busy": "2022-05-19T05:49:53.581644Z",
     "iopub.status.idle": "2022-05-19T05:49:59.805736Z",
     "shell.execute_reply": "2022-05-19T05:49:59.804856Z"
    },
    "papermill": {
     "duration": 6.258162,
     "end_time": "2022-05-19T05:49:59.807113",
     "exception": false,
     "start_time": "2022-05-19T05:49:53.548951",
     "status": "completed"
    },
    "tags": []
   },
   "outputs": [
    {
     "name": "stderr",
     "output_type": "stream",
     "text": [
      "/opt/hostedtoolcache/Python/3.8.12/x64/lib/python3.8/site-packages/sklearn/impute/_iterative.py:699: ConvergenceWarning: [IterativeImputer] Early stopping criterion not reached.\n",
      "  warnings.warn(\n"
     ]
    },
    {
     "data": {
      "text/plain": [
       "0.9044117647058824"
      ]
     },
     "execution_count": 58,
     "metadata": {},
     "output_type": "execute_result"
    }
   ],
   "source": [
    "Final = imbpipeline([\n",
    "    ('Imputation',preproc),\n",
    "    ('DF Converter',DfConverter()),\n",
    "    ('SMOTE NC Oversampling',SMOTENC(categorical_features=colselect,n_jobs=-1)),\n",
    "    ('DF Converter1',DfConverter()),\n",
    "    ('Data Preprocessing', data_preprocessing),\n",
    "\n",
    "    ('Model', HistGradientBoostingClassifier(max_depth=2))\n",
    "])\n",
    "Final.fit(x_train,y_train)\n",
    "\n",
    "\n",
    "y_pred=Final.predict(x_test)\n",
    "\n",
    "recall_score(y_test,y_pred)"
   ]
  },
  {
   "cell_type": "markdown",
   "id": "0874d3b7",
   "metadata": {
    "papermill": {
     "duration": 0.03221,
     "end_time": "2022-05-19T05:49:59.871948",
     "exception": false,
     "start_time": "2022-05-19T05:49:59.839738",
     "status": "completed"
    },
    "tags": []
   },
   "source": [
    "### Feature Importance"
   ]
  },
  {
   "cell_type": "code",
   "execution_count": 59,
   "id": "6de6f7b1",
   "metadata": {
    "execution": {
     "iopub.execute_input": "2022-05-19T05:49:59.937885Z",
     "iopub.status.busy": "2022-05-19T05:49:59.937219Z",
     "iopub.status.idle": "2022-05-19T05:50:01.528309Z",
     "shell.execute_reply": "2022-05-19T05:50:01.527577Z"
    },
    "papermill": {
     "duration": 1.625863,
     "end_time": "2022-05-19T05:50:01.529980",
     "exception": false,
     "start_time": "2022-05-19T05:49:59.904117",
     "status": "completed"
    },
    "tags": []
   },
   "outputs": [
    {
     "name": "stdout",
     "output_type": "stream",
     "text": [
      "Torque (Nm)0.032 +/- 0.003\n",
      "Ambient T (C)0.029 +/- 0.003\n",
      "Process T (C)0.014 +/- 0.002\n",
      "Tool Wear (min)0.007 +/- 0.001\n",
      "[-0.0029   0.0293   0.01435  0.0321   0.00695]\n"
     ]
    }
   ],
   "source": [
    "imps = permutation_importance(Final, x_test, y_test)\n",
    "for i in imps.importances_mean.argsort()[::-1]:\n",
    "     if imps.importances_mean[i] - 2 * imps.importances_std[i] > 0:\n",
    "         print(f\"{x_train.columns[i]:<8}\"\n",
    "               f\"{imps.importances_mean[i]:.3f}\"\n",
    "               f\" +/- {imps.importances_std[i]:.3f}\")\n",
    "print(imps.importances_mean)"
   ]
  },
  {
   "cell_type": "markdown",
   "id": "39d17628",
   "metadata": {
    "papermill": {
     "duration": 0.032176,
     "end_time": "2022-05-19T05:50:01.594833",
     "exception": false,
     "start_time": "2022-05-19T05:50:01.562657",
     "status": "completed"
    },
    "tags": []
   },
   "source": [
    "### Classification Report"
   ]
  },
  {
   "cell_type": "code",
   "execution_count": 60,
   "id": "979705af",
   "metadata": {
    "execution": {
     "iopub.execute_input": "2022-05-19T05:50:01.660451Z",
     "iopub.status.busy": "2022-05-19T05:50:01.660094Z",
     "iopub.status.idle": "2022-05-19T05:50:01.669780Z",
     "shell.execute_reply": "2022-05-19T05:50:01.669222Z"
    },
    "papermill": {
     "duration": 0.043969,
     "end_time": "2022-05-19T05:50:01.671078",
     "exception": false,
     "start_time": "2022-05-19T05:50:01.627109",
     "status": "completed"
    },
    "tags": []
   },
   "outputs": [
    {
     "name": "stdout",
     "output_type": "stream",
     "text": [
      "              precision    recall  f1-score   support\n",
      "\n",
      "           0       1.00      0.90      0.94      3864\n",
      "           1       0.23      0.90      0.37       136\n",
      "\n",
      "    accuracy                           0.90      4000\n",
      "   macro avg       0.61      0.90      0.66      4000\n",
      "weighted avg       0.97      0.90      0.92      4000\n",
      "\n"
     ]
    }
   ],
   "source": [
    "print(classification_report(y_test,y_pred))"
   ]
  },
  {
   "cell_type": "markdown",
   "id": "468fc9b6",
   "metadata": {
    "papermill": {
     "duration": 0.03237,
     "end_time": "2022-05-19T05:50:01.735751",
     "exception": false,
     "start_time": "2022-05-19T05:50:01.703381",
     "status": "completed"
    },
    "tags": []
   },
   "source": [
    "### ROC Curve"
   ]
  },
  {
   "cell_type": "code",
   "execution_count": 61,
   "id": "43fc0123",
   "metadata": {
    "execution": {
     "iopub.execute_input": "2022-05-19T05:50:01.801635Z",
     "iopub.status.busy": "2022-05-19T05:50:01.801141Z",
     "iopub.status.idle": "2022-05-19T05:50:01.999728Z",
     "shell.execute_reply": "2022-05-19T05:50:01.998854Z"
    },
    "papermill": {
     "duration": 0.233218,
     "end_time": "2022-05-19T05:50:02.001265",
     "exception": false,
     "start_time": "2022-05-19T05:50:01.768047",
     "status": "completed"
    },
    "scrolled": true,
    "tags": []
   },
   "outputs": [
    {
     "name": "stderr",
     "output_type": "stream",
     "text": [
      "/opt/hostedtoolcache/Python/3.8.12/x64/lib/python3.8/site-packages/sklearn/utils/deprecation.py:87: FutureWarning: Function plot_roc_curve is deprecated; Function :func:`plot_roc_curve` is deprecated in 1.0 and will be removed in 1.2. Use one of the class methods: :meth:`sklearn.metric.RocCurveDisplay.from_predictions` or :meth:`sklearn.metric.RocCurveDisplay.from_estimator`.\n",
      "  warnings.warn(msg, category=FutureWarning)\n"
     ]
    },
    {
     "data": {
      "text/plain": [
       "<sklearn.metrics._plot.roc_curve.RocCurveDisplay at 0x7f228ca5b1f0>"
      ]
     },
     "execution_count": 61,
     "metadata": {},
     "output_type": "execute_result"
    },
    {
     "data": {
      "image/png": "[encoded data removed]",
      "text/plain": [
       "<Figure size 432x288 with 1 Axes>"
      ]
     },
     "metadata": {
      "needs_background": "light"
     },
     "output_type": "display_data"
    }
   ],
   "source": [
    "plot_roc_curve(Final,x_test,y_test)"
   ]
  },
  {
   "cell_type": "markdown",
   "id": "ad23bb6c",
   "metadata": {
    "papermill": {
     "duration": 0.033053,
     "end_time": "2022-05-19T05:50:02.067677",
     "exception": false,
     "start_time": "2022-05-19T05:50:02.034624",
     "status": "completed"
    },
    "tags": []
   },
   "source": [
    "### Confusion Matrix"
   ]
  },
  {
   "cell_type": "code",
   "execution_count": 62,
   "id": "06d14e6b",
   "metadata": {
    "execution": {
     "iopub.execute_input": "2022-05-19T05:50:02.134774Z",
     "iopub.status.busy": "2022-05-19T05:50:02.134224Z",
     "iopub.status.idle": "2022-05-19T05:50:02.142804Z",
     "shell.execute_reply": "2022-05-19T05:50:02.142266Z"
    },
    "papermill": {
     "duration": 0.043687,
     "end_time": "2022-05-19T05:50:02.144259",
     "exception": false,
     "start_time": "2022-05-19T05:50:02.100572",
     "status": "completed"
    },
    "tags": []
   },
   "outputs": [
    {
     "data": {
      "text/html": [
       "<div>\n",
       "<style scoped>\n",
       "    .dataframe tbody tr th:only-of-type {\n",
       "        vertical-align: middle;\n",
       "    }\n",
       "\n",
       "    .dataframe tbody tr th {\n",
       "        vertical-align: top;\n",
       "    }\n",
       "\n",
       "    .dataframe thead th {\n",
       "        text-align: right;\n",
       "    }\n",
       "</style>\n",
       "<table border=\"1\" class=\"dataframe\">\n",
       "  <thead>\n",
       "    <tr style=\"text-align: right;\">\n",
       "      <th></th>\n",
       "      <th>1</th>\n",
       "      <th>0</th>\n",
       "    </tr>\n",
       "  </thead>\n",
       "  <tbody>\n",
       "    <tr>\n",
       "      <th>1</th>\n",
       "      <td>123</td>\n",
       "      <td>13</td>\n",
       "    </tr>\n",
       "    <tr>\n",
       "      <th>0</th>\n",
       "      <td>405</td>\n",
       "      <td>3459</td>\n",
       "    </tr>\n",
       "  </tbody>\n",
       "</table>\n",
       "</div>"
      ],
      "text/plain": [
       "     1     0\n",
       "1  123    13\n",
       "0  405  3459"
      ]
     },
     "execution_count": 62,
     "metadata": {},
     "output_type": "execute_result"
    }
   ],
   "source": [
    "cm=pd.DataFrame(confusion_matrix(y_test,y_pred)).reindex([1,0])[[1,0]]\n",
    "cm"
   ]
  },
  {
   "cell_type": "code",
   "execution_count": 63,
   "id": "720091d7",
   "metadata": {
    "execution": {
     "iopub.execute_input": "2022-05-19T05:50:02.212218Z",
     "iopub.status.busy": "2022-05-19T05:50:02.211516Z",
     "iopub.status.idle": "2022-05-19T05:50:02.332547Z",
     "shell.execute_reply": "2022-05-19T05:50:02.332004Z"
    },
    "papermill": {
     "duration": 0.156383,
     "end_time": "2022-05-19T05:50:02.333910",
     "exception": false,
     "start_time": "2022-05-19T05:50:02.177527",
     "status": "completed"
    },
    "tags": []
   },
   "outputs": [
    {
     "data": {
      "image/png": "[encoded data removed]",
      "text/plain": [
       "<Figure size 432x288 with 2 Axes>"
      ]
     },
     "metadata": {
      "needs_background": "light"
     },
     "output_type": "display_data"
    }
   ],
   "source": [
    "from sklearn.metrics import ConfusionMatrixDisplay\n",
    "cmg=ConfusionMatrixDisplay(cm.to_numpy(),display_labels=[1,0])\n",
    "cmg.plot()\n",
    "plt.show()"
   ]
  },
  {
   "cell_type": "code",
   "execution_count": null,
   "id": "277e0b48",
   "metadata": {
    "papermill": {
     "duration": 0.033286,
     "end_time": "2022-05-19T05:50:02.401044",
     "exception": false,
     "start_time": "2022-05-19T05:50:02.367758",
     "status": "completed"
    },
    "tags": []
   },
   "outputs": [],
   "source": []
  }
 ],
 "metadata": {
  "kernelspec": {
   "display_name": "Python 3 (ipykernel)",
   "language": "python",
   "name": "python3"
  },
  "language_info": {
   "codemirror_mode": {
    "name": "ipython",
    "version": 3
   },
   "file_extension": ".py",
   "mimetype": "text/x-python",
   "name": "python",
   "nbconvert_exporter": "python",
   "pygments_lexer": "ipython3",
   "version": "3.8.12"
  },
  "papermill": {
   "default_parameters": {},
   "duration": 1574.656426,
   "end_time": "2022-05-19T05:50:05.054849",
   "environment_variables": {},
   "exception": null,
   "input_path": "Machine_Classification.ipynb",
   "output_path": "Machine_Classification.ipynb",
   "parameters": {},
   "start_time": "2022-05-19T05:23:50.398423",
   "version": "2.3.4"
  }
 },
 "nbformat": 4,
 "nbformat_minor": 5
}