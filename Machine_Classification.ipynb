{
 "cells": [
  {
   "cell_type": "markdown",
   "id": "f21ad0f5",
   "metadata": {
    "papermill": {
     "duration": 0.016172,
     "end_time": "2022-05-19T23:21:55.417173",
     "exception": false,
     "start_time": "2022-05-19T23:21:55.401001",
     "status": "completed"
    },
    "pycharm": {
     "name": "#%% md\n"
    },
    "tags": []
   },
   "source": [
    "## Machine Failure Prediction using Machine Learning\n",
    "Author: Chen ZhuoFan (P2100746) | Singapore Polytechnic\n",
    "\n",
    "Globalisation is the process of interaction and integration among people,companies and governments worldwide.It has accelerated since the 18th century and have enabled the trade of goods and services at a bigger scale.\n",
    "\n",
    "The production of goods need to be done more effectively.In today's world, many goods are manufacturing by machines in a pipeline to ensure high efficiency and precision at the same time. However,machines may malfunction with time.These malfunctioning machines may result in defects in goods which is not favourable. Manual checking can be time-consuming and cost-inefficient.\n",
    "\n",
    "Machine Learning is defined by Mitchell (1997) as the study of computer algorithms that improve automatically through experience. [3] Machine learning comes to our sight in the recent decades with its ease and high performance. It has the capacity to learn and identify patterns from data and make decision.\n",
    "\n",
    "In this experiment ,we will make use of machine learning model to assist us in predicting malfunctioning machines so that repairs or replacements can be done in time to reduce disruption and loss.\n"
   ]
  },
  {
   "cell_type": "markdown",
   "id": "56bb6c75",
   "metadata": {
    "papermill": {
     "duration": 0.015781,
     "end_time": "2022-05-19T23:21:55.447489",
     "exception": false,
     "start_time": "2022-05-19T23:21:55.431708",
     "status": "completed"
    },
    "pycharm": {
     "name": "#%% md\n"
    },
    "tags": []
   },
   "source": [
    "## Problem Statement\n",
    "\n",
    "How can we make use of machine learning to predict malfunctioning machines in the factories?"
   ]
  },
  {
   "cell_type": "markdown",
   "id": "291729b7",
   "metadata": {
    "papermill": {
     "duration": 0.01422,
     "end_time": "2022-05-19T23:21:55.475901",
     "exception": false,
     "start_time": "2022-05-19T23:21:55.461681",
     "status": "completed"
    },
    "pycharm": {
     "name": "#%% md\n"
    },
    "tags": []
   },
   "source": [
    "## Importing Libraries"
   ]
  },
  {
   "cell_type": "code",
   "execution_count": 1,
   "id": "f55fb142",
   "metadata": {
    "execution": {
     "iopub.execute_input": "2022-05-19T23:21:55.506559Z",
     "iopub.status.busy": "2022-05-19T23:21:55.505854Z",
     "iopub.status.idle": "2022-05-19T23:21:57.435139Z",
     "shell.execute_reply": "2022-05-19T23:21:57.434001Z"
    },
    "papermill": {
     "duration": 1.947443,
     "end_time": "2022-05-19T23:21:57.437544",
     "exception": false,
     "start_time": "2022-05-19T23:21:55.490101",
     "status": "completed"
    },
    "pycharm": {
     "name": "#%%\n"
    },
    "tags": []
   },
   "outputs": [
    {
     "name": "stdout",
     "output_type": "stream",
     "text": [
      "Requirement already satisfied: numpy in /opt/hostedtoolcache/Python/3.8.12/x64/lib/python3.8/site-packages (1.22.3)\r\n",
      "Requirement already satisfied: matplotlib in /opt/hostedtoolcache/Python/3.8.12/x64/lib/python3.8/site-packages (3.5.2)\r\n",
      "Requirement already satisfied: pandas in /opt/hostedtoolcache/Python/3.8.12/x64/lib/python3.8/site-packages (1.4.2)\r\n",
      "Requirement already satisfied: seaborn in /opt/hostedtoolcache/Python/3.8.12/x64/lib/python3.8/site-packages (0.11.2)\r\n",
      "Requirement already satisfied: scikit-learn==1.0.2 in /opt/hostedtoolcache/Python/3.8.12/x64/lib/python3.8/site-packages (1.0.2)\r\n",
      "Requirement already satisfied: yellowbrick in /opt/hostedtoolcache/Python/3.8.12/x64/lib/python3.8/site-packages (1.4)\r\n",
      "Requirement already satisfied: phik in /opt/hostedtoolcache/Python/3.8.12/x64/lib/python3.8/site-packages (0.12.2)\r\n",
      "Requirement already satisfied: statsmodels in /opt/hostedtoolcache/Python/3.8.12/x64/lib/python3.8/site-packages (0.13.2)\r\n",
      "Requirement already satisfied: pyampute in /opt/hostedtoolcache/Python/3.8.12/x64/lib/python3.8/site-packages (0.0.2)\r\n",
      "Requirement already satisfied: xgboost in /opt/hostedtoolcache/Python/3.8.12/x64/lib/python3.8/site-packages (1.6.1)\r\n",
      "Requirement already satisfied: imblearn in /opt/hostedtoolcache/Python/3.8.12/x64/lib/python3.8/site-packages (0.0)\r\n",
      "Requirement already satisfied: missingno in /opt/hostedtoolcache/Python/3.8.12/x64/lib/python3.8/site-packages (0.5.1)\r\n"
     ]
    },
    {
     "name": "stdout",
     "output_type": "stream",
     "text": [
      "Collecting mlxtend\r\n"
     ]
    },
    {
     "name": "stdout",
     "output_type": "stream",
     "text": [
      "  Downloading mlxtend-0.19.0-py2.py3-none-any.whl (1.3 MB)\r\n",
      "\u001b[?25l     \u001b[90m━━━━━━━━━━━━━━━━━━━━━━━━━━━━━━━━━━━━━━━━\u001b[0m \u001b[32m0.0/1.3 MB\u001b[0m \u001b[31m?\u001b[0m eta \u001b[36m-:--:--\u001b[0m\r",
      "\u001b[2K     \u001b[91m━━━━━━━━━━━━━━━━━━━━━━━━━\u001b[0m\u001b[91m╸\u001b[0m\u001b[90m━━━━━━━━━━━━━━\u001b[0m \u001b[32m0.9/1.3 MB\u001b[0m \u001b[31m25.6 MB/s\u001b[0m eta \u001b[36m0:00:01\u001b[0m"
     ]
    },
    {
     "name": "stdout",
     "output_type": "stream",
     "text": [
      "\r",
      "\u001b[2K     \u001b[90m━━━━━━━━━━━━━━━━━━━━━━━━━━━━━━━━━━━━━━━━\u001b[0m \u001b[32m1.3/1.3 MB\u001b[0m \u001b[31m29.1 MB/s\u001b[0m eta \u001b[36m0:00:00\u001b[0m\r\n",
      "\u001b[?25hRequirement already satisfied: scipy>=1.1.0 in /opt/hostedtoolcache/Python/3.8.12/x64/lib/python3.8/site-packages (from scikit-learn==1.0.2) (1.8.1)\r\n",
      "Requirement already satisfied: threadpoolctl>=2.0.0 in /opt/hostedtoolcache/Python/3.8.12/x64/lib/python3.8/site-packages (from scikit-learn==1.0.2) (3.1.0)\r\n",
      "Requirement already satisfied: joblib>=0.11 in /opt/hostedtoolcache/Python/3.8.12/x64/lib/python3.8/site-packages (from scikit-learn==1.0.2) (1.1.0)\r\n",
      "Requirement already satisfied: cycler>=0.10 in /opt/hostedtoolcache/Python/3.8.12/x64/lib/python3.8/site-packages (from matplotlib) (0.11.0)\r\n",
      "Requirement already satisfied: fonttools>=4.22.0 in /opt/hostedtoolcache/Python/3.8.12/x64/lib/python3.8/site-packages (from matplotlib) (4.33.3)\r\n",
      "Requirement already satisfied: kiwisolver>=1.0.1 in /opt/hostedtoolcache/Python/3.8.12/x64/lib/python3.8/site-packages (from matplotlib) (1.4.2)\r\n",
      "Requirement already satisfied: packaging>=20.0 in /opt/hostedtoolcache/Python/3.8.12/x64/lib/python3.8/site-packages (from matplotlib) (21.3)\r\n",
      "Requirement already satisfied: pillow>=6.2.0 in /opt/hostedtoolcache/Python/3.8.12/x64/lib/python3.8/site-packages (from matplotlib) (9.1.1)\r\n"
     ]
    },
    {
     "name": "stdout",
     "output_type": "stream",
     "text": [
      "Requirement already satisfied: python-dateutil>=2.7 in /opt/hostedtoolcache/Python/3.8.12/x64/lib/python3.8/site-packages (from matplotlib) (2.8.2)\r\n",
      "Requirement already satisfied: pyparsing>=2.2.1 in /opt/hostedtoolcache/Python/3.8.12/x64/lib/python3.8/site-packages (from matplotlib) (3.0.9)\r\n",
      "Requirement already satisfied: pytz>=2020.1 in /opt/hostedtoolcache/Python/3.8.12/x64/lib/python3.8/site-packages (from pandas) (2022.1)\r\n",
      "Requirement already satisfied: patsy>=0.5.2 in /opt/hostedtoolcache/Python/3.8.12/x64/lib/python3.8/site-packages (from statsmodels) (0.5.2)\r\n"
     ]
    },
    {
     "name": "stdout",
     "output_type": "stream",
     "text": [
      "Requirement already satisfied: imbalanced-learn in /opt/hostedtoolcache/Python/3.8.12/x64/lib/python3.8/site-packages (from imblearn) (0.9.0)\r\n",
      "Requirement already satisfied: setuptools in /opt/hostedtoolcache/Python/3.8.12/x64/lib/python3.8/site-packages (from mlxtend) (56.0.0)\r\n"
     ]
    },
    {
     "name": "stdout",
     "output_type": "stream",
     "text": [
      "Requirement already satisfied: six in /opt/hostedtoolcache/Python/3.8.12/x64/lib/python3.8/site-packages (from patsy>=0.5.2->statsmodels) (1.16.0)\r\n"
     ]
    },
    {
     "name": "stdout",
     "output_type": "stream",
     "text": [
      "Installing collected packages: mlxtend\r\n"
     ]
    },
    {
     "name": "stdout",
     "output_type": "stream",
     "text": [
      "Successfully installed mlxtend-0.19.0\r\n"
     ]
    }
   ],
   "source": [
    "!pip install numpy matplotlib pandas seaborn scikit-learn==1.0.2 yellowbrick phik statsmodels pyampute xgboost imblearn missingno mlxtend --user "
   ]
  },
  {
   "cell_type": "code",
   "execution_count": 2,
   "id": "7f67b533",
   "metadata": {
    "execution": {
     "iopub.execute_input": "2022-05-19T23:21:57.470478Z",
     "iopub.status.busy": "2022-05-19T23:21:57.469934Z",
     "iopub.status.idle": "2022-05-19T23:21:59.883641Z",
     "shell.execute_reply": "2022-05-19T23:21:59.882826Z"
    },
    "papermill": {
     "duration": 2.432258,
     "end_time": "2022-05-19T23:21:59.885682",
     "exception": false,
     "start_time": "2022-05-19T23:21:57.453424",
     "status": "completed"
    },
    "pycharm": {
     "name": "#%%\n"
    },
    "tags": []
   },
   "outputs": [],
   "source": [
    "import numpy as np\n",
    "import matplotlib.pyplot as plt\n",
    "import pandas as pd\n",
    "import seaborn as sns\n",
    "\n",
    "sns.set_style(\"whitegrid\")\n",
    "\n",
    "\n",
    "\n",
    "# Model Evaluation\n",
    "from sklearn.model_selection import train_test_split, cross_validate, StratifiedKFold\n",
    "from sklearn.metrics import classification_report, plot_precision_recall_curve, plot_roc_curve, confusion_matrix\n",
    "from yellowbrick.model_selection import learning_curve\n",
    "\n",
    "# Missing Value\n",
    "from pyampute.exploration.mcar_statistical_tests import MCARTest\n",
    "from sklearn.impute import KNNImputer\n",
    "\n",
    "\n",
    "\n",
    "# Data Preprocessing\n",
    "import phik\n",
    "from sklearn.pipeline import Pipeline\n",
    "from sklearn.compose import ColumnTransformer\n",
    "from sklearn.preprocessing import  OneHotEncoder,QuantileTransformer\n",
    "from sklearn.preprocessing import  MinMaxScaler\n",
    "\n",
    "\n",
    "# Models\n",
    "from sklearn.dummy import DummyClassifier\n",
    "from sklearn.neighbors import KNeighborsClassifier\n",
    "from sklearn.linear_model import LogisticRegression\n",
    "from sklearn.svm import SVC\n",
    "from sklearn.tree import DecisionTreeClassifier\n",
    "from sklearn.ensemble import RandomForestClassifier, GradientBoostingClassifier, AdaBoostClassifier\n",
    "from sklearn.naive_bayes import GaussianNB\n",
    "import xgboost as xgb\n",
    "\n",
    "\n",
    "# Feature Importance\n",
    "from sklearn.inspection import permutation_importance\n",
    "\n",
    "# Hyperparameter Tuning\n",
    "from sklearn.model_selection import  GridSearchCV\n",
    "from sklearn.metrics import recall_score\n",
    "\n",
    "# Feature Selection\n",
    "from sklearn.feature_selection import SequentialFeatureSelector\n",
    "from sklearn.feature_selection import SelectFromModel, RFE, SelectKBest,chi2\n",
    "\n",
    "import joblib\n",
    "# Random State\n",
    "random_state = 0"
   ]
  },
  {
   "cell_type": "code",
   "execution_count": 3,
   "id": "af441b51",
   "metadata": {
    "execution": {
     "iopub.execute_input": "2022-05-19T23:21:59.955019Z",
     "iopub.status.busy": "2022-05-19T23:21:59.954222Z",
     "iopub.status.idle": "2022-05-19T23:21:59.959571Z",
     "shell.execute_reply": "2022-05-19T23:21:59.958888Z"
    },
    "papermill": {
     "duration": 0.023131,
     "end_time": "2022-05-19T23:21:59.961218",
     "exception": false,
     "start_time": "2022-05-19T23:21:59.938087",
     "status": "completed"
    },
    "tags": []
   },
   "outputs": [],
   "source": [
    "from sklearn.utils._testing import ignore_warnings\n",
    "from sklearn.exceptions import ConvergenceWarning"
   ]
  },
  {
   "cell_type": "markdown",
   "id": "b866318e",
   "metadata": {
    "papermill": {
     "duration": 0.014577,
     "end_time": "2022-05-19T23:21:59.990600",
     "exception": false,
     "start_time": "2022-05-19T23:21:59.976023",
     "status": "completed"
    },
    "pycharm": {
     "name": "#%% md\n"
    },
    "tags": []
   },
   "source": [
    "## Data Ingestion"
   ]
  },
  {
   "cell_type": "code",
   "execution_count": 4,
   "id": "b6c8a6da",
   "metadata": {
    "execution": {
     "iopub.execute_input": "2022-05-19T23:22:00.022733Z",
     "iopub.status.busy": "2022-05-19T23:22:00.022204Z",
     "iopub.status.idle": "2022-05-19T23:22:00.065374Z",
     "shell.execute_reply": "2022-05-19T23:22:00.064547Z"
    },
    "papermill": {
     "duration": 0.062719,
     "end_time": "2022-05-19T23:22:00.067960",
     "exception": false,
     "start_time": "2022-05-19T23:22:00.005241",
     "status": "completed"
    },
    "pycharm": {
     "name": "#%%\n"
    },
    "tags": []
   },
   "outputs": [
    {
     "data": {
      "text/html": [
       "<div>\n",
       "<style scoped>\n",
       "    .dataframe tbody tr th:only-of-type {\n",
       "        vertical-align: middle;\n",
       "    }\n",
       "\n",
       "    .dataframe tbody tr th {\n",
       "        vertical-align: top;\n",
       "    }\n",
       "\n",
       "    .dataframe thead th {\n",
       "        text-align: right;\n",
       "    }\n",
       "</style>\n",
       "<table border=\"1\" class=\"dataframe\">\n",
       "  <thead>\n",
       "    <tr style=\"text-align: right;\">\n",
       "      <th></th>\n",
       "      <th>Product ID</th>\n",
       "      <th>Quality</th>\n",
       "      <th>Ambient T (C)</th>\n",
       "      <th>Process T (C)</th>\n",
       "      <th>Rotation Speed (rpm)</th>\n",
       "      <th>Torque (Nm)</th>\n",
       "      <th>Tool Wear (min)</th>\n",
       "      <th>Machine Status</th>\n",
       "    </tr>\n",
       "    <tr>\n",
       "      <th>Unique ID</th>\n",
       "      <th></th>\n",
       "      <th></th>\n",
       "      <th></th>\n",
       "      <th></th>\n",
       "      <th></th>\n",
       "      <th></th>\n",
       "      <th></th>\n",
       "      <th></th>\n",
       "    </tr>\n",
       "  </thead>\n",
       "  <tbody>\n",
       "    <tr>\n",
       "      <th>1</th>\n",
       "      <td>K12965</td>\n",
       "      <td>M</td>\n",
       "      <td>24.95</td>\n",
       "      <td>35.45</td>\n",
       "      <td>1551.0</td>\n",
       "      <td>42.8</td>\n",
       "      <td>0</td>\n",
       "      <td>0</td>\n",
       "    </tr>\n",
       "    <tr>\n",
       "      <th>2</th>\n",
       "      <td>Z62710</td>\n",
       "      <td>L</td>\n",
       "      <td>25.05</td>\n",
       "      <td>35.55</td>\n",
       "      <td>1408.0</td>\n",
       "      <td>46.3</td>\n",
       "      <td>3</td>\n",
       "      <td>0</td>\n",
       "    </tr>\n",
       "    <tr>\n",
       "      <th>3</th>\n",
       "      <td>T20224</td>\n",
       "      <td>L</td>\n",
       "      <td>24.95</td>\n",
       "      <td>35.35</td>\n",
       "      <td>1498.0</td>\n",
       "      <td>49.4</td>\n",
       "      <td>5</td>\n",
       "      <td>0</td>\n",
       "    </tr>\n",
       "    <tr>\n",
       "      <th>4</th>\n",
       "      <td>Z33024</td>\n",
       "      <td>L</td>\n",
       "      <td>25.05</td>\n",
       "      <td>35.45</td>\n",
       "      <td>1433.0</td>\n",
       "      <td>39.5</td>\n",
       "      <td>7</td>\n",
       "      <td>0</td>\n",
       "    </tr>\n",
       "    <tr>\n",
       "      <th>5</th>\n",
       "      <td>Z52839</td>\n",
       "      <td>L</td>\n",
       "      <td>25.05</td>\n",
       "      <td>35.55</td>\n",
       "      <td>1408.0</td>\n",
       "      <td>40.0</td>\n",
       "      <td>9</td>\n",
       "      <td>0</td>\n",
       "    </tr>\n",
       "    <tr>\n",
       "      <th>...</th>\n",
       "      <td>...</td>\n",
       "      <td>...</td>\n",
       "      <td>...</td>\n",
       "      <td>...</td>\n",
       "      <td>...</td>\n",
       "      <td>...</td>\n",
       "      <td>...</td>\n",
       "      <td>...</td>\n",
       "    </tr>\n",
       "    <tr>\n",
       "      <th>19996</th>\n",
       "      <td>T87335</td>\n",
       "      <td>M</td>\n",
       "      <td>25.75</td>\n",
       "      <td>35.35</td>\n",
       "      <td>NaN</td>\n",
       "      <td>29.5</td>\n",
       "      <td>14</td>\n",
       "      <td>0</td>\n",
       "    </tr>\n",
       "    <tr>\n",
       "      <th>19997</th>\n",
       "      <td>Z59525</td>\n",
       "      <td>H</td>\n",
       "      <td>25.85</td>\n",
       "      <td>35.35</td>\n",
       "      <td>1632.0</td>\n",
       "      <td>31.8</td>\n",
       "      <td>17</td>\n",
       "      <td>0</td>\n",
       "    </tr>\n",
       "    <tr>\n",
       "      <th>19998</th>\n",
       "      <td>T83921</td>\n",
       "      <td>M</td>\n",
       "      <td>25.95</td>\n",
       "      <td>NaN</td>\n",
       "      <td>NaN</td>\n",
       "      <td>33.4</td>\n",
       "      <td>22</td>\n",
       "      <td>0</td>\n",
       "    </tr>\n",
       "    <tr>\n",
       "      <th>19999</th>\n",
       "      <td>K42424</td>\n",
       "      <td>H</td>\n",
       "      <td>25.95</td>\n",
       "      <td>35.65</td>\n",
       "      <td>1408.0</td>\n",
       "      <td>48.5</td>\n",
       "      <td>25</td>\n",
       "      <td>0</td>\n",
       "    </tr>\n",
       "    <tr>\n",
       "      <th>20000</th>\n",
       "      <td>Z10048</td>\n",
       "      <td>M</td>\n",
       "      <td>25.95</td>\n",
       "      <td>35.65</td>\n",
       "      <td>1500.0</td>\n",
       "      <td>40.2</td>\n",
       "      <td>30</td>\n",
       "      <td>0</td>\n",
       "    </tr>\n",
       "  </tbody>\n",
       "</table>\n",
       "<p>20000 rows × 8 columns</p>\n",
       "</div>"
      ],
      "text/plain": [
       "          Product ID Quality  Ambient T (C)  Process T (C)  \\\n",
       "Unique ID                                                    \n",
       "1             K12965       M          24.95          35.45   \n",
       "2             Z62710       L          25.05          35.55   \n",
       "3             T20224       L          24.95          35.35   \n",
       "4             Z33024       L          25.05          35.45   \n",
       "5             Z52839       L          25.05          35.55   \n",
       "...              ...     ...            ...            ...   \n",
       "19996         T87335       M          25.75          35.35   \n",
       "19997         Z59525       H          25.85          35.35   \n",
       "19998         T83921       M          25.95            NaN   \n",
       "19999         K42424       H          25.95          35.65   \n",
       "20000         Z10048       M          25.95          35.65   \n",
       "\n",
       "           Rotation Speed (rpm)  Torque (Nm)  Tool Wear (min)  Machine Status  \n",
       "Unique ID                                                                      \n",
       "1                        1551.0         42.8                0               0  \n",
       "2                        1408.0         46.3                3               0  \n",
       "3                        1498.0         49.4                5               0  \n",
       "4                        1433.0         39.5                7               0  \n",
       "5                        1408.0         40.0                9               0  \n",
       "...                         ...          ...              ...             ...  \n",
       "19996                       NaN         29.5               14               0  \n",
       "19997                    1632.0         31.8               17               0  \n",
       "19998                       NaN         33.4               22               0  \n",
       "19999                    1408.0         48.5               25               0  \n",
       "20000                    1500.0         40.2               30               0  \n",
       "\n",
       "[20000 rows x 8 columns]"
      ]
     },
     "execution_count": 4,
     "metadata": {},
     "output_type": "execute_result"
    }
   ],
   "source": [
    "machineDf=pd.read_csv(\"./factory_data (classification).csv\",index_col='Unique ID')\n",
    "machineDf"
   ]
  },
  {
   "cell_type": "markdown",
   "id": "45c0525e",
   "metadata": {
    "papermill": {
     "duration": 0.015733,
     "end_time": "2022-05-19T23:22:00.100577",
     "exception": false,
     "start_time": "2022-05-19T23:22:00.084844",
     "status": "completed"
    },
    "pycharm": {
     "name": "#%% md\n"
    },
    "tags": []
   },
   "source": [
    "## Data Exploration\n",
    "\n",
    "### Data Structure"
   ]
  },
  {
   "cell_type": "code",
   "execution_count": 5,
   "id": "652959ef",
   "metadata": {
    "execution": {
     "iopub.execute_input": "2022-05-19T23:22:00.133050Z",
     "iopub.status.busy": "2022-05-19T23:22:00.132488Z",
     "iopub.status.idle": "2022-05-19T23:22:00.149073Z",
     "shell.execute_reply": "2022-05-19T23:22:00.148283Z"
    },
    "papermill": {
     "duration": 0.034841,
     "end_time": "2022-05-19T23:22:00.150650",
     "exception": false,
     "start_time": "2022-05-19T23:22:00.115809",
     "status": "completed"
    },
    "pycharm": {
     "name": "#%%\n"
    },
    "tags": []
   },
   "outputs": [
    {
     "name": "stdout",
     "output_type": "stream",
     "text": [
      "<class 'pandas.core.frame.DataFrame'>\n",
      "Int64Index: 20000 entries, 1 to 20000\n",
      "Data columns (total 8 columns):\n",
      " #   Column                Non-Null Count  Dtype  \n",
      "---  ------                --------------  -----  \n",
      " 0   Product ID            20000 non-null  object \n",
      " 1   Quality               19009 non-null  object \n",
      " 2   Ambient T (C)         20000 non-null  float64\n",
      " 3   Process T (C)         19600 non-null  float64\n",
      " 4   Rotation Speed (rpm)  18812 non-null  float64\n",
      " 5   Torque (Nm)           20000 non-null  float64\n",
      " 6   Tool Wear (min)       20000 non-null  int64  \n",
      " 7   Machine Status        20000 non-null  int64  \n",
      "dtypes: float64(4), int64(2), object(2)\n",
      "memory usage: 1.4+ MB\n"
     ]
    }
   ],
   "source": [
    "machineDf.info()"
   ]
  },
  {
   "cell_type": "markdown",
   "id": "726177bc",
   "metadata": {
    "papermill": {
     "duration": 0.0151,
     "end_time": "2022-05-19T23:22:00.181159",
     "exception": false,
     "start_time": "2022-05-19T23:22:00.166059",
     "status": "completed"
    },
    "pycharm": {
     "name": "#%% md\n"
    },
    "tags": []
   },
   "source": [
    "### Managing Missing Data"
   ]
  },
  {
   "cell_type": "markdown",
   "id": "4e588419",
   "metadata": {
    "papermill": {
     "duration": 0.015914,
     "end_time": "2022-05-19T23:22:00.212251",
     "exception": false,
     "start_time": "2022-05-19T23:22:00.196337",
     "status": "completed"
    },
    "pycharm": {
     "name": "#%% md\n"
    },
    "tags": []
   },
   "source": []
  },
  {
   "cell_type": "code",
   "execution_count": 6,
   "id": "991302fb",
   "metadata": {
    "execution": {
     "iopub.execute_input": "2022-05-19T23:22:00.244263Z",
     "iopub.status.busy": "2022-05-19T23:22:00.243723Z",
     "iopub.status.idle": "2022-05-19T23:22:00.259460Z",
     "shell.execute_reply": "2022-05-19T23:22:00.258685Z"
    },
    "papermill": {
     "duration": 0.033952,
     "end_time": "2022-05-19T23:22:00.261226",
     "exception": false,
     "start_time": "2022-05-19T23:22:00.227274",
     "status": "completed"
    },
    "pycharm": {
     "name": "#%%\n"
    },
    "tags": []
   },
   "outputs": [
    {
     "data": {
      "text/html": [
       "<div>\n",
       "<style scoped>\n",
       "    .dataframe tbody tr th:only-of-type {\n",
       "        vertical-align: middle;\n",
       "    }\n",
       "\n",
       "    .dataframe tbody tr th {\n",
       "        vertical-align: top;\n",
       "    }\n",
       "\n",
       "    .dataframe thead th {\n",
       "        text-align: right;\n",
       "    }\n",
       "</style>\n",
       "<table border=\"1\" class=\"dataframe\">\n",
       "  <thead>\n",
       "    <tr style=\"text-align: right;\">\n",
       "      <th></th>\n",
       "      <th>0</th>\n",
       "    </tr>\n",
       "  </thead>\n",
       "  <tbody>\n",
       "    <tr>\n",
       "      <th>Rotation Speed (rpm)</th>\n",
       "      <td>1188</td>\n",
       "    </tr>\n",
       "    <tr>\n",
       "      <th>Quality</th>\n",
       "      <td>991</td>\n",
       "    </tr>\n",
       "    <tr>\n",
       "      <th>Process T (C)</th>\n",
       "      <td>400</td>\n",
       "    </tr>\n",
       "    <tr>\n",
       "      <th>Product ID</th>\n",
       "      <td>0</td>\n",
       "    </tr>\n",
       "    <tr>\n",
       "      <th>Ambient T (C)</th>\n",
       "      <td>0</td>\n",
       "    </tr>\n",
       "    <tr>\n",
       "      <th>Torque (Nm)</th>\n",
       "      <td>0</td>\n",
       "    </tr>\n",
       "    <tr>\n",
       "      <th>Tool Wear (min)</th>\n",
       "      <td>0</td>\n",
       "    </tr>\n",
       "    <tr>\n",
       "      <th>Machine Status</th>\n",
       "      <td>0</td>\n",
       "    </tr>\n",
       "  </tbody>\n",
       "</table>\n",
       "</div>"
      ],
      "text/plain": [
       "                         0\n",
       "Rotation Speed (rpm)  1188\n",
       "Quality                991\n",
       "Process T (C)          400\n",
       "Product ID               0\n",
       "Ambient T (C)            0\n",
       "Torque (Nm)              0\n",
       "Tool Wear (min)          0\n",
       "Machine Status           0"
      ]
     },
     "execution_count": 6,
     "metadata": {},
     "output_type": "execute_result"
    }
   ],
   "source": [
    "pd.DataFrame(machineDf.isna().sum().sort_values(ascending=False))"
   ]
  },
  {
   "cell_type": "code",
   "execution_count": 7,
   "id": "ab1d7b2a",
   "metadata": {
    "execution": {
     "iopub.execute_input": "2022-05-19T23:22:00.293493Z",
     "iopub.status.busy": "2022-05-19T23:22:00.292943Z",
     "iopub.status.idle": "2022-05-19T23:22:00.314499Z",
     "shell.execute_reply": "2022-05-19T23:22:00.313751Z"
    },
    "papermill": {
     "duration": 0.039555,
     "end_time": "2022-05-19T23:22:00.316067",
     "exception": false,
     "start_time": "2022-05-19T23:22:00.276512",
     "status": "completed"
    },
    "pycharm": {
     "name": "#%%\n"
    },
    "tags": []
   },
   "outputs": [
    {
     "data": {
      "text/html": [
       "<div>\n",
       "<style scoped>\n",
       "    .dataframe tbody tr th:only-of-type {\n",
       "        vertical-align: middle;\n",
       "    }\n",
       "\n",
       "    .dataframe tbody tr th {\n",
       "        vertical-align: top;\n",
       "    }\n",
       "\n",
       "    .dataframe thead th {\n",
       "        text-align: right;\n",
       "    }\n",
       "</style>\n",
       "<table border=\"1\" class=\"dataframe\">\n",
       "  <thead>\n",
       "    <tr style=\"text-align: right;\">\n",
       "      <th></th>\n",
       "      <th>Product ID</th>\n",
       "      <th>Quality</th>\n",
       "      <th>Ambient T (C)</th>\n",
       "      <th>Process T (C)</th>\n",
       "      <th>Rotation Speed (rpm)</th>\n",
       "      <th>Torque (Nm)</th>\n",
       "      <th>Tool Wear (min)</th>\n",
       "      <th>Machine Status</th>\n",
       "    </tr>\n",
       "    <tr>\n",
       "      <th>Unique ID</th>\n",
       "      <th></th>\n",
       "      <th></th>\n",
       "      <th></th>\n",
       "      <th></th>\n",
       "      <th></th>\n",
       "      <th></th>\n",
       "      <th></th>\n",
       "      <th></th>\n",
       "    </tr>\n",
       "  </thead>\n",
       "  <tbody>\n",
       "    <tr>\n",
       "      <th>7</th>\n",
       "      <td>K40563</td>\n",
       "      <td>L</td>\n",
       "      <td>24.95</td>\n",
       "      <td>NaN</td>\n",
       "      <td>NaN</td>\n",
       "      <td>42.4</td>\n",
       "      <td>14</td>\n",
       "      <td>0</td>\n",
       "    </tr>\n",
       "    <tr>\n",
       "      <th>11</th>\n",
       "      <td>K30974</td>\n",
       "      <td>NaN</td>\n",
       "      <td>25.25</td>\n",
       "      <td>35.75</td>\n",
       "      <td>1782.0</td>\n",
       "      <td>23.9</td>\n",
       "      <td>24</td>\n",
       "      <td>0</td>\n",
       "    </tr>\n",
       "    <tr>\n",
       "      <th>15</th>\n",
       "      <td>T39889</td>\n",
       "      <td>NaN</td>\n",
       "      <td>25.45</td>\n",
       "      <td>36.05</td>\n",
       "      <td>2035.0</td>\n",
       "      <td>19.6</td>\n",
       "      <td>40</td>\n",
       "      <td>0</td>\n",
       "    </tr>\n",
       "    <tr>\n",
       "      <th>20</th>\n",
       "      <td>T81915</td>\n",
       "      <td>M</td>\n",
       "      <td>25.75</td>\n",
       "      <td>NaN</td>\n",
       "      <td>1632.0</td>\n",
       "      <td>32.5</td>\n",
       "      <td>55</td>\n",
       "      <td>0</td>\n",
       "    </tr>\n",
       "    <tr>\n",
       "      <th>21</th>\n",
       "      <td>S64787</td>\n",
       "      <td>H</td>\n",
       "      <td>25.75</td>\n",
       "      <td>36.15</td>\n",
       "      <td>NaN</td>\n",
       "      <td>42.7</td>\n",
       "      <td>58</td>\n",
       "      <td>0</td>\n",
       "    </tr>\n",
       "    <tr>\n",
       "      <th>...</th>\n",
       "      <td>...</td>\n",
       "      <td>...</td>\n",
       "      <td>...</td>\n",
       "      <td>...</td>\n",
       "      <td>...</td>\n",
       "      <td>...</td>\n",
       "      <td>...</td>\n",
       "      <td>...</td>\n",
       "    </tr>\n",
       "    <tr>\n",
       "      <th>19982</th>\n",
       "      <td>Z53954</td>\n",
       "      <td>L</td>\n",
       "      <td>25.65</td>\n",
       "      <td>NaN</td>\n",
       "      <td>1353.0</td>\n",
       "      <td>47.0</td>\n",
       "      <td>190</td>\n",
       "      <td>0</td>\n",
       "    </tr>\n",
       "    <tr>\n",
       "      <th>19987</th>\n",
       "      <td>S13645</td>\n",
       "      <td>M</td>\n",
       "      <td>25.75</td>\n",
       "      <td>35.55</td>\n",
       "      <td>NaN</td>\n",
       "      <td>42.3</td>\n",
       "      <td>207</td>\n",
       "      <td>0</td>\n",
       "    </tr>\n",
       "    <tr>\n",
       "      <th>19992</th>\n",
       "      <td>T72209</td>\n",
       "      <td>M</td>\n",
       "      <td>25.85</td>\n",
       "      <td>35.35</td>\n",
       "      <td>NaN</td>\n",
       "      <td>26.1</td>\n",
       "      <td>5</td>\n",
       "      <td>0</td>\n",
       "    </tr>\n",
       "    <tr>\n",
       "      <th>19996</th>\n",
       "      <td>T87335</td>\n",
       "      <td>M</td>\n",
       "      <td>25.75</td>\n",
       "      <td>35.35</td>\n",
       "      <td>NaN</td>\n",
       "      <td>29.5</td>\n",
       "      <td>14</td>\n",
       "      <td>0</td>\n",
       "    </tr>\n",
       "    <tr>\n",
       "      <th>19998</th>\n",
       "      <td>T83921</td>\n",
       "      <td>M</td>\n",
       "      <td>25.95</td>\n",
       "      <td>NaN</td>\n",
       "      <td>NaN</td>\n",
       "      <td>33.4</td>\n",
       "      <td>22</td>\n",
       "      <td>0</td>\n",
       "    </tr>\n",
       "  </tbody>\n",
       "</table>\n",
       "<p>2471 rows × 8 columns</p>\n",
       "</div>"
      ],
      "text/plain": [
       "          Product ID Quality  Ambient T (C)  Process T (C)  \\\n",
       "Unique ID                                                    \n",
       "7             K40563       L          24.95            NaN   \n",
       "11            K30974     NaN          25.25          35.75   \n",
       "15            T39889     NaN          25.45          36.05   \n",
       "20            T81915       M          25.75            NaN   \n",
       "21            S64787       H          25.75          36.15   \n",
       "...              ...     ...            ...            ...   \n",
       "19982         Z53954       L          25.65            NaN   \n",
       "19987         S13645       M          25.75          35.55   \n",
       "19992         T72209       M          25.85          35.35   \n",
       "19996         T87335       M          25.75          35.35   \n",
       "19998         T83921       M          25.95            NaN   \n",
       "\n",
       "           Rotation Speed (rpm)  Torque (Nm)  Tool Wear (min)  Machine Status  \n",
       "Unique ID                                                                      \n",
       "7                           NaN         42.4               14               0  \n",
       "11                       1782.0         23.9               24               0  \n",
       "15                       2035.0         19.6               40               0  \n",
       "20                       1632.0         32.5               55               0  \n",
       "21                          NaN         42.7               58               0  \n",
       "...                         ...          ...              ...             ...  \n",
       "19982                    1353.0         47.0              190               0  \n",
       "19987                       NaN         42.3              207               0  \n",
       "19992                       NaN         26.1                5               0  \n",
       "19996                       NaN         29.5               14               0  \n",
       "19998                       NaN         33.4               22               0  \n",
       "\n",
       "[2471 rows x 8 columns]"
      ]
     },
     "execution_count": 7,
     "metadata": {},
     "output_type": "execute_result"
    }
   ],
   "source": [
    "machineDf[machineDf.isnull().any(axis=1)]"
   ]
  },
  {
   "cell_type": "code",
   "execution_count": 8,
   "id": "ef584e68",
   "metadata": {
    "execution": {
     "iopub.execute_input": "2022-05-19T23:22:00.348905Z",
     "iopub.status.busy": "2022-05-19T23:22:00.348358Z",
     "iopub.status.idle": "2022-05-19T23:22:00.607071Z",
     "shell.execute_reply": "2022-05-19T23:22:00.606333Z"
    },
    "papermill": {
     "duration": 0.276982,
     "end_time": "2022-05-19T23:22:00.608803",
     "exception": false,
     "start_time": "2022-05-19T23:22:00.331821",
     "status": "completed"
    },
    "pycharm": {
     "name": "#%%\n"
    },
    "tags": []
   },
   "outputs": [
    {
     "data": {
      "text/plain": [
       "<AxesSubplot:title={'center':'Number of missing value in features'}>"
      ]
     },
     "execution_count": 8,
     "metadata": {},
     "output_type": "execute_result"
    },
    {
     "data": {
      "image/png": "[encoded data removed]",
      "text/plain": [
       "<Figure size 432x288 with 1 Axes>"
      ]
     },
     "metadata": {
      "needs_background": "light"
     },
     "output_type": "display_data"
    }
   ],
   "source": [
    "machineDf.isna().sum().sort_values().plot.barh(title='Number of missing value in features')"
   ]
  },
  {
   "cell_type": "code",
   "execution_count": 9,
   "id": "d341b660",
   "metadata": {
    "execution": {
     "iopub.execute_input": "2022-05-19T23:22:00.642449Z",
     "iopub.status.busy": "2022-05-19T23:22:00.641813Z",
     "iopub.status.idle": "2022-05-19T23:22:00.968450Z",
     "shell.execute_reply": "2022-05-19T23:22:00.967585Z"
    },
    "papermill": {
     "duration": 0.345399,
     "end_time": "2022-05-19T23:22:00.970244",
     "exception": false,
     "start_time": "2022-05-19T23:22:00.624845",
     "status": "completed"
    },
    "pycharm": {
     "name": "#%%\n"
    },
    "tags": []
   },
   "outputs": [
    {
     "data": {
      "image/png": "[encoded data removed]",
      "text/plain": [
       "<Figure size 432x288 with 1 Axes>"
      ]
     },
     "metadata": {
      "needs_background": "light"
     },
     "output_type": "display_data"
    }
   ],
   "source": [
    "import seaborn as sns\n",
    "sns.heatmap(machineDf.isnull(), cbar=False)\n",
    "plt.show()"
   ]
  },
  {
   "cell_type": "code",
   "execution_count": 10,
   "id": "9a77455d",
   "metadata": {
    "execution": {
     "iopub.execute_input": "2022-05-19T23:22:01.005106Z",
     "iopub.status.busy": "2022-05-19T23:22:01.004351Z",
     "iopub.status.idle": "2022-05-19T23:22:01.303634Z",
     "shell.execute_reply": "2022-05-19T23:22:01.302862Z"
    },
    "papermill": {
     "duration": 0.318485,
     "end_time": "2022-05-19T23:22:01.305412",
     "exception": false,
     "start_time": "2022-05-19T23:22:00.986927",
     "status": "completed"
    },
    "pycharm": {
     "name": "#%%\n"
    },
    "tags": []
   },
   "outputs": [
    {
     "data": {
      "text/plain": [
       "<AxesSubplot:>"
      ]
     },
     "execution_count": 10,
     "metadata": {},
     "output_type": "execute_result"
    },
    {
     "data": {
      "image/png": "[encoded data removed]",
      "text/plain": [
       "<Figure size 1800x720 with 2 Axes>"
      ]
     },
     "metadata": {
      "needs_background": "light"
     },
     "output_type": "display_data"
    }
   ],
   "source": [
    "import missingno as msno\n",
    "msno.matrix(machineDf)"
   ]
  },
  {
   "cell_type": "code",
   "execution_count": 11,
   "id": "02fcc526",
   "metadata": {
    "execution": {
     "iopub.execute_input": "2022-05-19T23:22:01.341151Z",
     "iopub.status.busy": "2022-05-19T23:22:01.340606Z",
     "iopub.status.idle": "2022-05-19T23:22:01.552309Z",
     "shell.execute_reply": "2022-05-19T23:22:01.551425Z"
    },
    "papermill": {
     "duration": 0.231994,
     "end_time": "2022-05-19T23:22:01.554495",
     "exception": false,
     "start_time": "2022-05-19T23:22:01.322501",
     "status": "completed"
    },
    "pycharm": {
     "name": "#%%\n"
    },
    "tags": []
   },
   "outputs": [
    {
     "data": {
      "text/plain": [
       "<AxesSubplot:>"
      ]
     },
     "execution_count": 11,
     "metadata": {},
     "output_type": "execute_result"
    },
    {
     "data": {
      "image/png": "[encoded data removed]",
      "text/plain": [
       "<Figure size 1440x864 with 2 Axes>"
      ]
     },
     "metadata": {
      "needs_background": "light"
     },
     "output_type": "display_data"
    }
   ],
   "source": [
    "msno.heatmap(machineDf)"
   ]
  },
  {
   "cell_type": "markdown",
   "id": "5d9ef82d",
   "metadata": {
    "papermill": {
     "duration": 0.017295,
     "end_time": "2022-05-19T23:22:01.589458",
     "exception": false,
     "start_time": "2022-05-19T23:22:01.572163",
     "status": "completed"
    },
    "pycharm": {
     "name": "#%% md\n"
    },
    "tags": []
   },
   "source": [
    "### Target Label"
   ]
  },
  {
   "cell_type": "code",
   "execution_count": 12,
   "id": "2a6f0332",
   "metadata": {
    "execution": {
     "iopub.execute_input": "2022-05-19T23:22:01.625960Z",
     "iopub.status.busy": "2022-05-19T23:22:01.625321Z",
     "iopub.status.idle": "2022-05-19T23:22:01.728063Z",
     "shell.execute_reply": "2022-05-19T23:22:01.727451Z"
    },
    "papermill": {
     "duration": 0.122916,
     "end_time": "2022-05-19T23:22:01.729565",
     "exception": false,
     "start_time": "2022-05-19T23:22:01.606649",
     "status": "completed"
    },
    "pycharm": {
     "name": "#%%\n"
    },
    "tags": []
   },
   "outputs": [
    {
     "data": {
      "text/plain": [
       "Text(0.5, 1.0, 'Distribution of target label')"
      ]
     },
     "execution_count": 12,
     "metadata": {},
     "output_type": "execute_result"
    },
    {
     "data": {
      "image/png": "[encoded data removed]",
      "text/plain": [
       "<Figure size 432x288 with 1 Axes>"
      ]
     },
     "metadata": {
      "needs_background": "light"
     },
     "output_type": "display_data"
    }
   ],
   "source": [
    "sns.countplot(data=machineDf,x='Machine Status').set_title(\"Distribution of target label\")"
   ]
  },
  {
   "cell_type": "markdown",
   "id": "45c7755d",
   "metadata": {
    "papermill": {
     "duration": 0.01756,
     "end_time": "2022-05-19T23:22:01.765088",
     "exception": false,
     "start_time": "2022-05-19T23:22:01.747528",
     "status": "completed"
    },
    "pycharm": {
     "name": "#%% md\n"
    },
    "tags": []
   },
   "source": [
    "### Qualitative Features"
   ]
  },
  {
   "cell_type": "code",
   "execution_count": 13,
   "id": "0f6f87f3",
   "metadata": {
    "execution": {
     "iopub.execute_input": "2022-05-19T23:22:01.802558Z",
     "iopub.status.busy": "2022-05-19T23:22:01.801781Z",
     "iopub.status.idle": "2022-05-19T23:22:01.805542Z",
     "shell.execute_reply": "2022-05-19T23:22:01.804976Z"
    },
    "papermill": {
     "duration": 0.024431,
     "end_time": "2022-05-19T23:22:01.807219",
     "exception": false,
     "start_time": "2022-05-19T23:22:01.782788",
     "status": "completed"
    },
    "pycharm": {
     "name": "#%%\n"
    },
    "tags": []
   },
   "outputs": [],
   "source": [
    "qualitativeVariable=['Product ID', 'Quality']"
   ]
  },
  {
   "cell_type": "markdown",
   "id": "272e0813",
   "metadata": {
    "papermill": {
     "duration": 0.017603,
     "end_time": "2022-05-19T23:22:01.842348",
     "exception": false,
     "start_time": "2022-05-19T23:22:01.824745",
     "status": "completed"
    },
    "pycharm": {
     "name": "#%% md\n"
    },
    "tags": []
   },
   "source": [
    "### Qualitative Features"
   ]
  },
  {
   "cell_type": "code",
   "execution_count": 14,
   "id": "eaaf1f10",
   "metadata": {
    "execution": {
     "iopub.execute_input": "2022-05-19T23:22:01.879696Z",
     "iopub.status.busy": "2022-05-19T23:22:01.879327Z",
     "iopub.status.idle": "2022-05-19T23:22:01.882803Z",
     "shell.execute_reply": "2022-05-19T23:22:01.882238Z"
    },
    "papermill": {
     "duration": 0.02427,
     "end_time": "2022-05-19T23:22:01.884464",
     "exception": false,
     "start_time": "2022-05-19T23:22:01.860194",
     "status": "completed"
    },
    "pycharm": {
     "name": "#%%\n"
    },
    "tags": []
   },
   "outputs": [],
   "source": [
    "quantitativeVariable=['Ambient T (C)', 'Process T (C)',\n",
    "       'Rotation Speed (rpm)', 'Torque (Nm)', 'Tool Wear (min)']"
   ]
  },
  {
   "cell_type": "markdown",
   "id": "6449ac3a",
   "metadata": {
    "papermill": {
     "duration": 0.017521,
     "end_time": "2022-05-19T23:22:01.919498",
     "exception": false,
     "start_time": "2022-05-19T23:22:01.901977",
     "status": "completed"
    },
    "pycharm": {
     "name": "#%% md\n"
    },
    "tags": []
   },
   "source": [
    "### Univariate Analysis"
   ]
  },
  {
   "cell_type": "code",
   "execution_count": 15,
   "id": "0b5bc336",
   "metadata": {
    "execution": {
     "iopub.execute_input": "2022-05-19T23:22:01.956539Z",
     "iopub.status.busy": "2022-05-19T23:22:01.955878Z",
     "iopub.status.idle": "2022-05-19T23:22:01.980165Z",
     "shell.execute_reply": "2022-05-19T23:22:01.979583Z"
    },
    "papermill": {
     "duration": 0.045093,
     "end_time": "2022-05-19T23:22:01.981963",
     "exception": false,
     "start_time": "2022-05-19T23:22:01.936870",
     "status": "completed"
    },
    "pycharm": {
     "name": "#%%\n"
    },
    "tags": []
   },
   "outputs": [
    {
     "data": {
      "text/html": [
       "<div>\n",
       "<style scoped>\n",
       "    .dataframe tbody tr th:only-of-type {\n",
       "        vertical-align: middle;\n",
       "    }\n",
       "\n",
       "    .dataframe tbody tr th {\n",
       "        vertical-align: top;\n",
       "    }\n",
       "\n",
       "    .dataframe thead th {\n",
       "        text-align: right;\n",
       "    }\n",
       "</style>\n",
       "<table border=\"1\" class=\"dataframe\">\n",
       "  <thead>\n",
       "    <tr style=\"text-align: right;\">\n",
       "      <th></th>\n",
       "      <th>Ambient T (C)</th>\n",
       "      <th>Process T (C)</th>\n",
       "      <th>Rotation Speed (rpm)</th>\n",
       "      <th>Torque (Nm)</th>\n",
       "      <th>Tool Wear (min)</th>\n",
       "    </tr>\n",
       "  </thead>\n",
       "  <tbody>\n",
       "    <tr>\n",
       "      <th>count</th>\n",
       "      <td>20000.000000</td>\n",
       "      <td>19600.000000</td>\n",
       "      <td>18812.000000</td>\n",
       "      <td>20000.000000</td>\n",
       "      <td>20000.000000</td>\n",
       "    </tr>\n",
       "    <tr>\n",
       "      <th>mean</th>\n",
       "      <td>26.904930</td>\n",
       "      <td>36.904291</td>\n",
       "      <td>1538.795397</td>\n",
       "      <td>39.986910</td>\n",
       "      <td>107.951000</td>\n",
       "    </tr>\n",
       "    <tr>\n",
       "      <th>std</th>\n",
       "      <td>2.000834</td>\n",
       "      <td>1.483647</td>\n",
       "      <td>178.674963</td>\n",
       "      <td>9.968684</td>\n",
       "      <td>63.652555</td>\n",
       "    </tr>\n",
       "    <tr>\n",
       "      <th>min</th>\n",
       "      <td>22.150000</td>\n",
       "      <td>32.550000</td>\n",
       "      <td>1168.000000</td>\n",
       "      <td>3.800000</td>\n",
       "      <td>0.000000</td>\n",
       "    </tr>\n",
       "    <tr>\n",
       "      <th>25%</th>\n",
       "      <td>25.250000</td>\n",
       "      <td>35.750000</td>\n",
       "      <td>1423.000000</td>\n",
       "      <td>33.200000</td>\n",
       "      <td>53.000000</td>\n",
       "    </tr>\n",
       "    <tr>\n",
       "      <th>50%</th>\n",
       "      <td>26.950000</td>\n",
       "      <td>36.950000</td>\n",
       "      <td>1503.000000</td>\n",
       "      <td>40.100000</td>\n",
       "      <td>108.000000</td>\n",
       "    </tr>\n",
       "    <tr>\n",
       "      <th>75%</th>\n",
       "      <td>28.450000</td>\n",
       "      <td>37.950000</td>\n",
       "      <td>1613.000000</td>\n",
       "      <td>46.800000</td>\n",
       "      <td>162.000000</td>\n",
       "    </tr>\n",
       "    <tr>\n",
       "      <th>max</th>\n",
       "      <td>31.450000</td>\n",
       "      <td>40.750000</td>\n",
       "      <td>2886.000000</td>\n",
       "      <td>76.600000</td>\n",
       "      <td>253.000000</td>\n",
       "    </tr>\n",
       "  </tbody>\n",
       "</table>\n",
       "</div>"
      ],
      "text/plain": [
       "       Ambient T (C)  Process T (C)  Rotation Speed (rpm)   Torque (Nm)  \\\n",
       "count   20000.000000   19600.000000          18812.000000  20000.000000   \n",
       "mean       26.904930      36.904291           1538.795397     39.986910   \n",
       "std         2.000834       1.483647            178.674963      9.968684   \n",
       "min        22.150000      32.550000           1168.000000      3.800000   \n",
       "25%        25.250000      35.750000           1423.000000     33.200000   \n",
       "50%        26.950000      36.950000           1503.000000     40.100000   \n",
       "75%        28.450000      37.950000           1613.000000     46.800000   \n",
       "max        31.450000      40.750000           2886.000000     76.600000   \n",
       "\n",
       "       Tool Wear (min)  \n",
       "count     20000.000000  \n",
       "mean        107.951000  \n",
       "std          63.652555  \n",
       "min           0.000000  \n",
       "25%          53.000000  \n",
       "50%         108.000000  \n",
       "75%         162.000000  \n",
       "max         253.000000  "
      ]
     },
     "execution_count": 15,
     "metadata": {},
     "output_type": "execute_result"
    }
   ],
   "source": [
    "machineDf[quantitativeVariable].describe()"
   ]
  },
  {
   "cell_type": "code",
   "execution_count": 16,
   "id": "13772700",
   "metadata": {
    "execution": {
     "iopub.execute_input": "2022-05-19T23:22:02.020556Z",
     "iopub.status.busy": "2022-05-19T23:22:02.020020Z",
     "iopub.status.idle": "2022-05-19T23:22:02.094672Z",
     "shell.execute_reply": "2022-05-19T23:22:02.093850Z"
    },
    "papermill": {
     "duration": 0.096138,
     "end_time": "2022-05-19T23:22:02.096944",
     "exception": false,
     "start_time": "2022-05-19T23:22:02.000806",
     "status": "completed"
    },
    "pycharm": {
     "name": "#%%\n"
    },
    "tags": []
   },
   "outputs": [
    {
     "data": {
      "text/html": [
       "<div>\n",
       "<style scoped>\n",
       "    .dataframe tbody tr th:only-of-type {\n",
       "        vertical-align: middle;\n",
       "    }\n",
       "\n",
       "    .dataframe tbody tr th {\n",
       "        vertical-align: top;\n",
       "    }\n",
       "\n",
       "    .dataframe thead th {\n",
       "        text-align: right;\n",
       "    }\n",
       "</style>\n",
       "<table border=\"1\" class=\"dataframe\">\n",
       "  <thead>\n",
       "    <tr style=\"text-align: right;\">\n",
       "      <th></th>\n",
       "      <th>count</th>\n",
       "      <th>unique</th>\n",
       "      <th>top</th>\n",
       "      <th>freq</th>\n",
       "      <th>Proportion of Most Frequent Value</th>\n",
       "    </tr>\n",
       "  </thead>\n",
       "  <tbody>\n",
       "    <tr>\n",
       "      <th>Machine Status</th>\n",
       "      <td>20000</td>\n",
       "      <td>2</td>\n",
       "      <td>0</td>\n",
       "      <td>19322</td>\n",
       "      <td>96.61</td>\n",
       "    </tr>\n",
       "    <tr>\n",
       "      <th>Quality</th>\n",
       "      <td>19009</td>\n",
       "      <td>3</td>\n",
       "      <td>L</td>\n",
       "      <td>11390</td>\n",
       "      <td>56.95</td>\n",
       "    </tr>\n",
       "    <tr>\n",
       "      <th>Process T (C)</th>\n",
       "      <td>19600.0</td>\n",
       "      <td>83.0</td>\n",
       "      <td>37.45</td>\n",
       "      <td>575.0</td>\n",
       "      <td>2.875</td>\n",
       "    </tr>\n",
       "    <tr>\n",
       "      <th>Ambient T (C)</th>\n",
       "      <td>20000.0</td>\n",
       "      <td>94.0</td>\n",
       "      <td>27.55</td>\n",
       "      <td>495.0</td>\n",
       "      <td>2.475</td>\n",
       "    </tr>\n",
       "    <tr>\n",
       "      <th>Tool Wear (min)</th>\n",
       "      <td>20000</td>\n",
       "      <td>246</td>\n",
       "      <td>0</td>\n",
       "      <td>240</td>\n",
       "      <td>1.2</td>\n",
       "    </tr>\n",
       "    <tr>\n",
       "      <th>Torque (Nm)</th>\n",
       "      <td>20000.0</td>\n",
       "      <td>577.0</td>\n",
       "      <td>40.2</td>\n",
       "      <td>104.0</td>\n",
       "      <td>0.52</td>\n",
       "    </tr>\n",
       "    <tr>\n",
       "      <th>Rotation Speed (rpm)</th>\n",
       "      <td>18812.0</td>\n",
       "      <td>941.0</td>\n",
       "      <td>1452.0</td>\n",
       "      <td>93.0</td>\n",
       "      <td>0.465</td>\n",
       "    </tr>\n",
       "    <tr>\n",
       "      <th>Product ID</th>\n",
       "      <td>20000</td>\n",
       "      <td>19408</td>\n",
       "      <td>K34631</td>\n",
       "      <td>3</td>\n",
       "      <td>0.015</td>\n",
       "    </tr>\n",
       "  </tbody>\n",
       "</table>\n",
       "</div>"
      ],
      "text/plain": [
       "                        count unique     top   freq  \\\n",
       "Machine Status          20000      2       0  19322   \n",
       "Quality                 19009      3       L  11390   \n",
       "Process T (C)         19600.0   83.0   37.45  575.0   \n",
       "Ambient T (C)         20000.0   94.0   27.55  495.0   \n",
       "Tool Wear (min)         20000    246       0    240   \n",
       "Torque (Nm)           20000.0  577.0    40.2  104.0   \n",
       "Rotation Speed (rpm)  18812.0  941.0  1452.0   93.0   \n",
       "Product ID              20000  19408  K34631      3   \n",
       "\n",
       "                     Proportion of Most Frequent Value  \n",
       "Machine Status                                   96.61  \n",
       "Quality                                          56.95  \n",
       "Process T (C)                                    2.875  \n",
       "Ambient T (C)                                    2.475  \n",
       "Tool Wear (min)                                    1.2  \n",
       "Torque (Nm)                                       0.52  \n",
       "Rotation Speed (rpm)                             0.465  \n",
       "Product ID                                       0.015  "
      ]
     },
     "execution_count": 16,
     "metadata": {},
     "output_type": "execute_result"
    }
   ],
   "source": [
    "descriptive_stats = machineDf.astype('category').describe().T\n",
    "descriptive_stats[\"Proportion of Most Frequent Value\"] = descriptive_stats[\"freq\"] / len(machineDf.astype('category')) * 100\n",
    "descriptive_stats.sort_values(\"Proportion of Most Frequent Value\", ascending=False)"
   ]
  },
  {
   "cell_type": "code",
   "execution_count": 17,
   "id": "825db628",
   "metadata": {
    "execution": {
     "iopub.execute_input": "2022-05-19T23:22:02.135729Z",
     "iopub.status.busy": "2022-05-19T23:22:02.134826Z",
     "iopub.status.idle": "2022-05-19T23:22:02.240044Z",
     "shell.execute_reply": "2022-05-19T23:22:02.239387Z"
    },
    "papermill": {
     "duration": 0.126271,
     "end_time": "2022-05-19T23:22:02.241871",
     "exception": false,
     "start_time": "2022-05-19T23:22:02.115600",
     "status": "completed"
    },
    "pycharm": {
     "name": "#%%\n"
    },
    "tags": []
   },
   "outputs": [
    {
     "data": {
      "text/plain": [
       "<AxesSubplot:xlabel='Quality', ylabel='count'>"
      ]
     },
     "execution_count": 17,
     "metadata": {},
     "output_type": "execute_result"
    },
    {
     "data": {
      "image/png": "[encoded data removed]",
      "text/plain": [
       "<Figure size 432x288 with 1 Axes>"
      ]
     },
     "metadata": {
      "needs_background": "light"
     },
     "output_type": "display_data"
    }
   ],
   "source": [
    "sns.countplot(x='Quality',data=machineDf,)"
   ]
  },
  {
   "cell_type": "code",
   "execution_count": 18,
   "id": "6707a1e8",
   "metadata": {
    "execution": {
     "iopub.execute_input": "2022-05-19T23:22:02.281483Z",
     "iopub.status.busy": "2022-05-19T23:22:02.280714Z",
     "iopub.status.idle": "2022-05-19T23:22:02.922967Z",
     "shell.execute_reply": "2022-05-19T23:22:02.922091Z"
    },
    "papermill": {
     "duration": 0.664017,
     "end_time": "2022-05-19T23:22:02.924969",
     "exception": false,
     "start_time": "2022-05-19T23:22:02.260952",
     "status": "completed"
    },
    "pycharm": {
     "name": "#%%\n"
    },
    "tags": []
   },
   "outputs": [
    {
     "data": {
      "text/plain": [
       "array([[<AxesSubplot:title={'center':'Ambient T (C)'}>,\n",
       "        <AxesSubplot:title={'center':'Process T (C)'}>],\n",
       "       [<AxesSubplot:title={'center':'Rotation Speed (rpm)'}>,\n",
       "        <AxesSubplot:title={'center':'Torque (Nm)'}>],\n",
       "       [<AxesSubplot:title={'center':'Tool Wear (min)'}>, <AxesSubplot:>]],\n",
       "      dtype=object)"
      ]
     },
     "execution_count": 18,
     "metadata": {},
     "output_type": "execute_result"
    },
    {
     "data": {
      "image/png": "[encoded data removed]",
      "text/plain": [
       "<Figure size 720x576 with 6 Axes>"
      ]
     },
     "metadata": {
      "needs_background": "light"
     },
     "output_type": "display_data"
    }
   ],
   "source": [
    "machineDf[quantitativeVariable].hist(figsize=(10,8))"
   ]
  },
  {
   "cell_type": "code",
   "execution_count": 19,
   "id": "e2a65fcd",
   "metadata": {
    "execution": {
     "iopub.execute_input": "2022-05-19T23:22:02.965149Z",
     "iopub.status.busy": "2022-05-19T23:22:02.964346Z",
     "iopub.status.idle": "2022-05-19T23:22:03.568436Z",
     "shell.execute_reply": "2022-05-19T23:22:03.567620Z"
    },
    "papermill": {
     "duration": 0.626104,
     "end_time": "2022-05-19T23:22:03.570170",
     "exception": false,
     "start_time": "2022-05-19T23:22:02.944066",
     "status": "completed"
    },
    "pycharm": {
     "name": "#%%\n"
    },
    "tags": []
   },
   "outputs": [
    {
     "data": {
      "image/png": "[encoded data removed]",
      "text/plain": [
       "<Figure size 576x1080 with 5 Axes>"
      ]
     },
     "metadata": {
      "needs_background": "light"
     },
     "output_type": "display_data"
    }
   ],
   "source": [
    "fig, ax = plt.subplots(len(quantitativeVariable), 1, figsize=(8, 15), tight_layout=True)\n",
    "for idx, feature in enumerate(quantitativeVariable):\n",
    "    sns.boxplot(data=machineDf, x=feature, ax = ax[idx])\n",
    "fig.show()"
   ]
  },
  {
   "cell_type": "code",
   "execution_count": 20,
   "id": "cad424e4",
   "metadata": {
    "execution": {
     "iopub.execute_input": "2022-05-19T23:22:03.610803Z",
     "iopub.status.busy": "2022-05-19T23:22:03.610147Z",
     "iopub.status.idle": "2022-05-19T23:22:03.635340Z",
     "shell.execute_reply": "2022-05-19T23:22:03.634542Z"
    },
    "papermill": {
     "duration": 0.047551,
     "end_time": "2022-05-19T23:22:03.637297",
     "exception": false,
     "start_time": "2022-05-19T23:22:03.589746",
     "status": "completed"
    },
    "pycharm": {
     "name": "#%%\n"
    },
    "tags": []
   },
   "outputs": [
    {
     "data": {
      "text/html": [
       "<div>\n",
       "<style scoped>\n",
       "    .dataframe tbody tr th:only-of-type {\n",
       "        vertical-align: middle;\n",
       "    }\n",
       "\n",
       "    .dataframe tbody tr th {\n",
       "        vertical-align: top;\n",
       "    }\n",
       "\n",
       "    .dataframe thead th {\n",
       "        text-align: right;\n",
       "    }\n",
       "</style>\n",
       "<table border=\"1\" class=\"dataframe\">\n",
       "  <thead>\n",
       "    <tr style=\"text-align: right;\">\n",
       "      <th></th>\n",
       "      <th>Ambient T (C)</th>\n",
       "      <th>Process T (C)</th>\n",
       "      <th>Rotation Speed (rpm)</th>\n",
       "      <th>Torque (Nm)</th>\n",
       "      <th>Tool Wear (min)</th>\n",
       "      <th>Machine Status</th>\n",
       "    </tr>\n",
       "  </thead>\n",
       "  <tbody>\n",
       "    <tr>\n",
       "      <th>count</th>\n",
       "      <td>771.000000</td>\n",
       "      <td>757.000000</td>\n",
       "      <td>771.000000</td>\n",
       "      <td>771.000000</td>\n",
       "      <td>771.000000</td>\n",
       "      <td>771.000000</td>\n",
       "    </tr>\n",
       "    <tr>\n",
       "      <th>mean</th>\n",
       "      <td>27.163230</td>\n",
       "      <td>37.031242</td>\n",
       "      <td>2103.333333</td>\n",
       "      <td>18.846174</td>\n",
       "      <td>107.712062</td>\n",
       "      <td>0.084306</td>\n",
       "    </tr>\n",
       "    <tr>\n",
       "      <th>std</th>\n",
       "      <td>2.062808</td>\n",
       "      <td>1.507887</td>\n",
       "      <td>216.956317</td>\n",
       "      <td>3.588364</td>\n",
       "      <td>65.390417</td>\n",
       "      <td>0.278027</td>\n",
       "    </tr>\n",
       "    <tr>\n",
       "      <th>min</th>\n",
       "      <td>22.450000</td>\n",
       "      <td>32.850000</td>\n",
       "      <td>1899.000000</td>\n",
       "      <td>3.800000</td>\n",
       "      <td>0.000000</td>\n",
       "      <td>0.000000</td>\n",
       "    </tr>\n",
       "    <tr>\n",
       "      <th>25%</th>\n",
       "      <td>25.350000</td>\n",
       "      <td>35.950000</td>\n",
       "      <td>1950.500000</td>\n",
       "      <td>16.800000</td>\n",
       "      <td>45.000000</td>\n",
       "      <td>0.000000</td>\n",
       "    </tr>\n",
       "    <tr>\n",
       "      <th>50%</th>\n",
       "      <td>27.450000</td>\n",
       "      <td>37.250000</td>\n",
       "      <td>2016.000000</td>\n",
       "      <td>19.700000</td>\n",
       "      <td>110.000000</td>\n",
       "      <td>0.000000</td>\n",
       "    </tr>\n",
       "    <tr>\n",
       "      <th>75%</th>\n",
       "      <td>28.750000</td>\n",
       "      <td>38.050000</td>\n",
       "      <td>2182.000000</td>\n",
       "      <td>21.500000</td>\n",
       "      <td>165.000000</td>\n",
       "      <td>0.000000</td>\n",
       "    </tr>\n",
       "    <tr>\n",
       "      <th>max</th>\n",
       "      <td>31.250000</td>\n",
       "      <td>40.650000</td>\n",
       "      <td>2886.000000</td>\n",
       "      <td>25.000000</td>\n",
       "      <td>244.000000</td>\n",
       "      <td>1.000000</td>\n",
       "    </tr>\n",
       "  </tbody>\n",
       "</table>\n",
       "</div>"
      ],
      "text/plain": [
       "       Ambient T (C)  Process T (C)  Rotation Speed (rpm)  Torque (Nm)  \\\n",
       "count     771.000000     757.000000            771.000000   771.000000   \n",
       "mean       27.163230      37.031242           2103.333333    18.846174   \n",
       "std         2.062808       1.507887            216.956317     3.588364   \n",
       "min        22.450000      32.850000           1899.000000     3.800000   \n",
       "25%        25.350000      35.950000           1950.500000    16.800000   \n",
       "50%        27.450000      37.250000           2016.000000    19.700000   \n",
       "75%        28.750000      38.050000           2182.000000    21.500000   \n",
       "max        31.250000      40.650000           2886.000000    25.000000   \n",
       "\n",
       "       Tool Wear (min)  Machine Status  \n",
       "count       771.000000      771.000000  \n",
       "mean        107.712062        0.084306  \n",
       "std          65.390417        0.278027  \n",
       "min           0.000000        0.000000  \n",
       "25%          45.000000        0.000000  \n",
       "50%         110.000000        0.000000  \n",
       "75%         165.000000        0.000000  \n",
       "max         244.000000        1.000000  "
      ]
     },
     "execution_count": 20,
     "metadata": {},
     "output_type": "execute_result"
    }
   ],
   "source": [
    "Q1 = machineDf['Rotation Speed (rpm)'].quantile(0.25)\n",
    "Q3 = machineDf['Rotation Speed (rpm)'].quantile(0.75)\n",
    "IQR = Q3 - Q1\n",
    "machineDf[machineDf['Rotation Speed (rpm)'] >Q3 + 1.5 * IQR].describe()"
   ]
  },
  {
   "cell_type": "code",
   "execution_count": 21,
   "id": "5c7ecef5",
   "metadata": {
    "execution": {
     "iopub.execute_input": "2022-05-19T23:22:03.678702Z",
     "iopub.status.busy": "2022-05-19T23:22:03.677957Z",
     "iopub.status.idle": "2022-05-19T23:22:03.978273Z",
     "shell.execute_reply": "2022-05-19T23:22:03.977572Z"
    },
    "papermill": {
     "duration": 0.322594,
     "end_time": "2022-05-19T23:22:03.979941",
     "exception": false,
     "start_time": "2022-05-19T23:22:03.657347",
     "status": "completed"
    },
    "pycharm": {
     "name": "#%%\n"
    },
    "tags": []
   },
   "outputs": [
    {
     "data": {
      "text/plain": [
       "Text(0.5, 1.0, 'Relationship between Torque and Rotation Speed')"
      ]
     },
     "execution_count": 21,
     "metadata": {},
     "output_type": "execute_result"
    },
    {
     "data": {
      "image/png": "[encoded data removed]",
      "text/plain": [
       "<Figure size 432x288 with 1 Axes>"
      ]
     },
     "metadata": {
      "needs_background": "light"
     },
     "output_type": "display_data"
    }
   ],
   "source": [
    "sns.scatterplot(x='Rotation Speed (rpm)',y='Torque (Nm)',data=machineDf).set_title('Relationship between Torque and Rotation Speed')"
   ]
  },
  {
   "cell_type": "markdown",
   "id": "f6c2b704",
   "metadata": {
    "papermill": {
     "duration": 0.020164,
     "end_time": "2022-05-19T23:22:04.020631",
     "exception": false,
     "start_time": "2022-05-19T23:22:04.000467",
     "status": "completed"
    },
    "pycharm": {
     "name": "#%% md\n"
    },
    "tags": []
   },
   "source": [
    "### Bivariate Analysis"
   ]
  },
  {
   "cell_type": "code",
   "execution_count": 22,
   "id": "b5d1afb3",
   "metadata": {
    "execution": {
     "iopub.execute_input": "2022-05-19T23:22:04.062764Z",
     "iopub.status.busy": "2022-05-19T23:22:04.061894Z",
     "iopub.status.idle": "2022-05-19T23:22:04.065843Z",
     "shell.execute_reply": "2022-05-19T23:22:04.065078Z"
    },
    "papermill": {
     "duration": 0.027185,
     "end_time": "2022-05-19T23:22:04.067667",
     "exception": false,
     "start_time": "2022-05-19T23:22:04.040482",
     "status": "completed"
    },
    "pycharm": {
     "name": "#%%\n"
    },
    "tags": []
   },
   "outputs": [],
   "source": [
    "# fig, ax = plt.subplots(len(quantitativeVariable), 1, figsize=(8, 15), tight_layout=True)\n",
    "# for idx, feature in enumerate(quantitativeVariable):\n",
    "\n",
    "#     sns.histplot(data=machineDf,common_norm = False,stat='density', x=feature, hue=\"Machine Status\",ax=ax[idx],kde=True)\n",
    "# fig.show()"
   ]
  },
  {
   "cell_type": "code",
   "execution_count": 23,
   "id": "d38b8259",
   "metadata": {
    "execution": {
     "iopub.execute_input": "2022-05-19T23:22:04.110346Z",
     "iopub.status.busy": "2022-05-19T23:22:04.109511Z",
     "iopub.status.idle": "2022-05-19T23:22:04.114801Z",
     "shell.execute_reply": "2022-05-19T23:22:04.113926Z"
    },
    "papermill": {
     "duration": 0.028754,
     "end_time": "2022-05-19T23:22:04.116586",
     "exception": false,
     "start_time": "2022-05-19T23:22:04.087832",
     "status": "completed"
    },
    "pycharm": {
     "name": "#%%\n"
    },
    "tags": []
   },
   "outputs": [],
   "source": [
    "\n",
    "# sns.histplot(data=machineDf,common_norm = False,stat='density', x='Quality', hue=\"Machine Status\")\n"
   ]
  },
  {
   "cell_type": "code",
   "execution_count": 24,
   "id": "76352b47",
   "metadata": {
    "execution": {
     "iopub.execute_input": "2022-05-19T23:22:04.158560Z",
     "iopub.status.busy": "2022-05-19T23:22:04.158006Z",
     "iopub.status.idle": "2022-05-19T23:22:04.251218Z",
     "shell.execute_reply": "2022-05-19T23:22:04.250471Z"
    },
    "papermill": {
     "duration": 0.116287,
     "end_time": "2022-05-19T23:22:04.252884",
     "exception": false,
     "start_time": "2022-05-19T23:22:04.136597",
     "status": "completed"
    },
    "pycharm": {
     "name": "#%%\n"
    },
    "tags": []
   },
   "outputs": [
    {
     "data": {
      "text/plain": [
       "<AxesSubplot:xlabel='Quality', ylabel='count'>"
      ]
     },
     "execution_count": 24,
     "metadata": {},
     "output_type": "execute_result"
    },
    {
     "data": {
      "image/png": "[encoded data removed]",
      "text/plain": [
       "<Figure size 432x288 with 1 Axes>"
      ]
     },
     "metadata": {
      "needs_background": "light"
     },
     "output_type": "display_data"
    }
   ],
   "source": [
    "sns.countplot(data=machineDf[machineDf['Machine Status']>0],x='Quality')"
   ]
  },
  {
   "cell_type": "code",
   "execution_count": 25,
   "id": "7698dad5",
   "metadata": {
    "execution": {
     "iopub.execute_input": "2022-05-19T23:22:04.295802Z",
     "iopub.status.busy": "2022-05-19T23:22:04.295348Z",
     "iopub.status.idle": "2022-05-19T23:22:04.298747Z",
     "shell.execute_reply": "2022-05-19T23:22:04.298185Z"
    },
    "papermill": {
     "duration": 0.026962,
     "end_time": "2022-05-19T23:22:04.300549",
     "exception": false,
     "start_time": "2022-05-19T23:22:04.273587",
     "status": "completed"
    },
    "pycharm": {
     "name": "#%%\n"
    },
    "tags": []
   },
   "outputs": [],
   "source": [
    "# sns.pairplot(machineDf, hue=\"Machine Status\")"
   ]
  },
  {
   "cell_type": "code",
   "execution_count": 26,
   "id": "f5854249",
   "metadata": {
    "execution": {
     "iopub.execute_input": "2022-05-19T23:22:04.343415Z",
     "iopub.status.busy": "2022-05-19T23:22:04.342603Z",
     "iopub.status.idle": "2022-05-19T23:22:17.690821Z",
     "shell.execute_reply": "2022-05-19T23:22:17.689883Z"
    },
    "papermill": {
     "duration": 13.371625,
     "end_time": "2022-05-19T23:22:17.692669",
     "exception": false,
     "start_time": "2022-05-19T23:22:04.321044",
     "status": "completed"
    },
    "pycharm": {
     "name": "#%%\n"
    },
    "tags": []
   },
   "outputs": [
    {
     "name": "stdout",
     "output_type": "stream",
     "text": [
      "interval columns not set, guessing: ['Ambient T (C)', 'Process T (C)', 'Rotation Speed (rpm)', 'Torque (Nm)', 'Tool Wear (min)', 'Machine Status']\n"
     ]
    },
    {
     "name": "stderr",
     "output_type": "stream",
     "text": [
      "/opt/hostedtoolcache/Python/3.8.12/x64/lib/python3.8/site-packages/phik/data_quality.py:59: UserWarning: The number of unique values of variable Product ID is large: 19408. Are you sure this is not an interval variable? Analysis for pairs of variables including Product ID can be slow.\n",
      "  warnings.warn(\n"
     ]
    },
    {
     "data": {
      "text/plain": [
       "Text(0.5, 1.0, 'Correlation Matrix')"
      ]
     },
     "execution_count": 26,
     "metadata": {},
     "output_type": "execute_result"
    },
    {
     "data": {
      "image/png": "[encoded data removed]",
      "text/plain": [
       "<Figure size 432x288 with 2 Axes>"
      ]
     },
     "metadata": {
      "needs_background": "light"
     },
     "output_type": "display_data"
    }
   ],
   "source": [
    "corr_matrix = machineDf.phik_matrix()\n",
    "\n",
    "sns.heatmap(corr_matrix, annot = True, linewidths=.5,center = 0).set_title('Correlation Matrix')"
   ]
  },
  {
   "cell_type": "code",
   "execution_count": 27,
   "id": "5b597d1f",
   "metadata": {
    "execution": {
     "iopub.execute_input": "2022-05-19T23:22:17.737900Z",
     "iopub.status.busy": "2022-05-19T23:22:17.737192Z",
     "iopub.status.idle": "2022-05-19T23:22:17.742878Z",
     "shell.execute_reply": "2022-05-19T23:22:17.742220Z"
    },
    "papermill": {
     "duration": 0.030366,
     "end_time": "2022-05-19T23:22:17.744625",
     "exception": false,
     "start_time": "2022-05-19T23:22:17.714259",
     "status": "completed"
    },
    "pycharm": {
     "name": "#%%\n"
    },
    "tags": []
   },
   "outputs": [],
   "source": [
    "machineDf=machineDf.drop(['Product ID','Rotation Speed (rpm)'],axis=1)"
   ]
  },
  {
   "cell_type": "markdown",
   "id": "d4f10052",
   "metadata": {
    "papermill": {
     "duration": 0.022259,
     "end_time": "2022-05-19T23:22:17.788270",
     "exception": false,
     "start_time": "2022-05-19T23:22:17.766011",
     "status": "completed"
    },
    "pycharm": {
     "name": "#%% md\n"
    },
    "tags": []
   },
   "source": [
    "## Data-Processing"
   ]
  },
  {
   "cell_type": "markdown",
   "id": "c99e1e29",
   "metadata": {
    "papermill": {
     "duration": 0.022414,
     "end_time": "2022-05-19T23:22:17.832842",
     "exception": false,
     "start_time": "2022-05-19T23:22:17.810428",
     "status": "completed"
    },
    "pycharm": {
     "name": "#%% md\n"
    },
    "tags": []
   },
   "source": []
  },
  {
   "cell_type": "markdown",
   "id": "de051152",
   "metadata": {
    "papermill": {
     "duration": 0.02179,
     "end_time": "2022-05-19T23:22:17.877360",
     "exception": false,
     "start_time": "2022-05-19T23:22:17.855570",
     "status": "completed"
    },
    "pycharm": {
     "name": "#%% md\n"
    },
    "tags": []
   },
   "source": [
    "### Missing data imputation"
   ]
  },
  {
   "cell_type": "markdown",
   "id": "d4cb5cff",
   "metadata": {
    "papermill": {
     "duration": 0.021108,
     "end_time": "2022-05-19T23:22:17.919661",
     "exception": false,
     "start_time": "2022-05-19T23:22:17.898553",
     "status": "completed"
    },
    "pycharm": {
     "name": "#%% md\n"
    },
    "tags": []
   },
   "source": [
    "## Training and testing data"
   ]
  },
  {
   "cell_type": "code",
   "execution_count": 28,
   "id": "c07e77d9",
   "metadata": {
    "execution": {
     "iopub.execute_input": "2022-05-19T23:22:17.964312Z",
     "iopub.status.busy": "2022-05-19T23:22:17.963511Z",
     "iopub.status.idle": "2022-05-19T23:22:17.986530Z",
     "shell.execute_reply": "2022-05-19T23:22:17.985784Z"
    },
    "papermill": {
     "duration": 0.047397,
     "end_time": "2022-05-19T23:22:17.988239",
     "exception": false,
     "start_time": "2022-05-19T23:22:17.940842",
     "status": "completed"
    },
    "pycharm": {
     "name": "#%%\n"
    },
    "tags": []
   },
   "outputs": [
    {
     "data": {
      "text/html": [
       "<div>\n",
       "<style scoped>\n",
       "    .dataframe tbody tr th:only-of-type {\n",
       "        vertical-align: middle;\n",
       "    }\n",
       "\n",
       "    .dataframe tbody tr th {\n",
       "        vertical-align: top;\n",
       "    }\n",
       "\n",
       "    .dataframe thead th {\n",
       "        text-align: right;\n",
       "    }\n",
       "</style>\n",
       "<table border=\"1\" class=\"dataframe\">\n",
       "  <thead>\n",
       "    <tr style=\"text-align: right;\">\n",
       "      <th></th>\n",
       "      <th>Quality</th>\n",
       "      <th>Ambient T (C)</th>\n",
       "      <th>Process T (C)</th>\n",
       "      <th>Torque (Nm)</th>\n",
       "      <th>Tool Wear (min)</th>\n",
       "    </tr>\n",
       "    <tr>\n",
       "      <th>Unique ID</th>\n",
       "      <th></th>\n",
       "      <th></th>\n",
       "      <th></th>\n",
       "      <th></th>\n",
       "      <th></th>\n",
       "    </tr>\n",
       "  </thead>\n",
       "  <tbody>\n",
       "    <tr>\n",
       "      <th>12792</th>\n",
       "      <td>H</td>\n",
       "      <td>27.35</td>\n",
       "      <td>36.55</td>\n",
       "      <td>43.3</td>\n",
       "      <td>66</td>\n",
       "    </tr>\n",
       "    <tr>\n",
       "      <th>6583</th>\n",
       "      <td>L</td>\n",
       "      <td>28.35</td>\n",
       "      <td>37.35</td>\n",
       "      <td>35.7</td>\n",
       "      <td>198</td>\n",
       "    </tr>\n",
       "    <tr>\n",
       "      <th>16874</th>\n",
       "      <td>L</td>\n",
       "      <td>27.95</td>\n",
       "      <td>38.35</td>\n",
       "      <td>39.5</td>\n",
       "      <td>75</td>\n",
       "    </tr>\n",
       "    <tr>\n",
       "      <th>11392</th>\n",
       "      <td>L</td>\n",
       "      <td>25.85</td>\n",
       "      <td>37.15</td>\n",
       "      <td>8.8</td>\n",
       "      <td>142</td>\n",
       "    </tr>\n",
       "    <tr>\n",
       "      <th>4411</th>\n",
       "      <td>L</td>\n",
       "      <td>29.35</td>\n",
       "      <td>37.05</td>\n",
       "      <td>32.2</td>\n",
       "      <td>64</td>\n",
       "    </tr>\n",
       "    <tr>\n",
       "      <th>...</th>\n",
       "      <td>...</td>\n",
       "      <td>...</td>\n",
       "      <td>...</td>\n",
       "      <td>...</td>\n",
       "      <td>...</td>\n",
       "    </tr>\n",
       "    <tr>\n",
       "      <th>5303</th>\n",
       "      <td>L</td>\n",
       "      <td>30.75</td>\n",
       "      <td>39.95</td>\n",
       "      <td>37.2</td>\n",
       "      <td>195</td>\n",
       "    </tr>\n",
       "    <tr>\n",
       "      <th>15452</th>\n",
       "      <td>L</td>\n",
       "      <td>29.95</td>\n",
       "      <td>39.65</td>\n",
       "      <td>48.8</td>\n",
       "      <td>120</td>\n",
       "    </tr>\n",
       "    <tr>\n",
       "      <th>18260</th>\n",
       "      <td>L</td>\n",
       "      <td>26.05</td>\n",
       "      <td>37.45</td>\n",
       "      <td>38.4</td>\n",
       "      <td>146</td>\n",
       "    </tr>\n",
       "    <tr>\n",
       "      <th>8028</th>\n",
       "      <td>L</td>\n",
       "      <td>27.45</td>\n",
       "      <td>38.75</td>\n",
       "      <td>44.9</td>\n",
       "      <td>224</td>\n",
       "    </tr>\n",
       "    <tr>\n",
       "      <th>10500</th>\n",
       "      <td>L</td>\n",
       "      <td>24.45</td>\n",
       "      <td>36.05</td>\n",
       "      <td>35.1</td>\n",
       "      <td>213</td>\n",
       "    </tr>\n",
       "  </tbody>\n",
       "</table>\n",
       "<p>16000 rows × 5 columns</p>\n",
       "</div>"
      ],
      "text/plain": [
       "          Quality  Ambient T (C)  Process T (C)  Torque (Nm)  Tool Wear (min)\n",
       "Unique ID                                                                    \n",
       "12792           H          27.35          36.55         43.3               66\n",
       "6583            L          28.35          37.35         35.7              198\n",
       "16874           L          27.95          38.35         39.5               75\n",
       "11392           L          25.85          37.15          8.8              142\n",
       "4411            L          29.35          37.05         32.2               64\n",
       "...           ...            ...            ...          ...              ...\n",
       "5303            L          30.75          39.95         37.2              195\n",
       "15452           L          29.95          39.65         48.8              120\n",
       "18260           L          26.05          37.45         38.4              146\n",
       "8028            L          27.45          38.75         44.9              224\n",
       "10500           L          24.45          36.05         35.1              213\n",
       "\n",
       "[16000 rows x 5 columns]"
      ]
     },
     "execution_count": 28,
     "metadata": {},
     "output_type": "execute_result"
    }
   ],
   "source": [
    "x_train, x_test, y_train, y_test = train_test_split(machineDf. loc[:, machineDf. columns != 'Machine Status'],machineDf['Machine Status'], random_state = 42, stratify=machineDf['Machine Status'], test_size = .20)\n",
    "x_train"
   ]
  },
  {
   "cell_type": "code",
   "execution_count": 29,
   "id": "0d5c69d6",
   "metadata": {
    "execution": {
     "iopub.execute_input": "2022-05-19T23:22:18.033440Z",
     "iopub.status.busy": "2022-05-19T23:22:18.032875Z",
     "iopub.status.idle": "2022-05-19T23:22:18.063462Z",
     "shell.execute_reply": "2022-05-19T23:22:18.062578Z"
    },
    "papermill": {
     "duration": 0.05577,
     "end_time": "2022-05-19T23:22:18.065691",
     "exception": false,
     "start_time": "2022-05-19T23:22:18.009921",
     "status": "completed"
    },
    "pycharm": {
     "name": "#%%\n"
    },
    "tags": []
   },
   "outputs": [],
   "source": [
    "from imblearn.pipeline import make_pipeline\n",
    "from sklearn.preprocessing import StandardScaler\n",
    "from imblearn.over_sampling import SMOTENC, SMOTE"
   ]
  },
  {
   "cell_type": "markdown",
   "id": "5bf84b36",
   "metadata": {
    "papermill": {
     "duration": 0.021149,
     "end_time": "2022-05-19T23:22:18.108785",
     "exception": false,
     "start_time": "2022-05-19T23:22:18.087636",
     "status": "completed"
    },
    "pycharm": {
     "name": "#%% md\n"
    },
    "tags": []
   },
   "source": [
    "## Feature Scaling"
   ]
  },
  {
   "cell_type": "code",
   "execution_count": 30,
   "id": "80e08164",
   "metadata": {
    "execution": {
     "iopub.execute_input": "2022-05-19T23:22:18.153628Z",
     "iopub.status.busy": "2022-05-19T23:22:18.152814Z",
     "iopub.status.idle": "2022-05-19T23:22:18.158377Z",
     "shell.execute_reply": "2022-05-19T23:22:18.157748Z"
    },
    "papermill": {
     "duration": 0.029994,
     "end_time": "2022-05-19T23:22:18.160029",
     "exception": false,
     "start_time": "2022-05-19T23:22:18.130035",
     "status": "completed"
    },
    "pycharm": {
     "name": "#%%\n"
    },
    "tags": []
   },
   "outputs": [],
   "source": [
    "quantitativeVariable=['Ambient T (C)', 'Process T (C)', 'Torque (Nm)', 'Tool Wear (min)']\n",
    "\n",
    "\n",
    "quantitativeTransformer=Pipeline([\n",
    "     ('Normaliser',MinMaxScaler())\n",
    "])\n",
    "categorical_transformers = Pipeline([\n",
    "    ('One Hot Encoder', OneHotEncoder(handle_unknown='ignore'))\n",
    "])\n",
    "data_preprocessing = ColumnTransformer([\n",
    "    ('Preprocess Numerical Features', quantitativeTransformer, [0,1,2,3]),\n",
    "       ('Preprocess Categorical Features', categorical_transformers, [4])\n",
    "])"
   ]
  },
  {
   "cell_type": "code",
   "execution_count": 31,
   "id": "233c8a94",
   "metadata": {
    "execution": {
     "iopub.execute_input": "2022-05-19T23:22:18.204681Z",
     "iopub.status.busy": "2022-05-19T23:22:18.204090Z",
     "iopub.status.idle": "2022-05-19T23:22:18.212441Z",
     "shell.execute_reply": "2022-05-19T23:22:18.211655Z"
    },
    "papermill": {
     "duration": 0.03277,
     "end_time": "2022-05-19T23:22:18.214052",
     "exception": false,
     "start_time": "2022-05-19T23:22:18.181282",
     "status": "completed"
    },
    "pycharm": {
     "name": "#%%\n"
    },
    "tags": []
   },
   "outputs": [],
   "source": [
    "from sklearn.base import BaseEstimator, TransformerMixin\n",
    "\n",
    "\n",
    "class ColumnSelector(BaseEstimator, TransformerMixin):\n",
    "\n",
    "    def __init__(self, dtype):\n",
    "        self.dtype = dtype\n",
    "\n",
    "    def fit(self, X, y=None):\n",
    "        \"\"\" Get either categorical or numerical columns on fit.\n",
    "        Store as attribute for future reference\"\"\"\n",
    "        X = X if isinstance(X, pd.DataFrame) else pd.DataFrame(X)\n",
    "        if self.dtype == 'numerical':\n",
    "            self.cols = X.select_dtypes(exclude='O').columns.tolist()\n",
    "        elif self.dtype == 'categorical':\n",
    "            self.cols = X.select_dtypes(include='O').columns.tolist()\n",
    "        self.col_idx = [machineDf.columns.get_loc(col) for col in self.cols]\n",
    "        return self\n",
    "\n",
    "    def transform(self, X):\n",
    "        \"\"\" Subset columns of chosen data type and return np.array\"\"\"\n",
    "        X = X.values if isinstance(X, pd.DataFrame) else X\n",
    "        return X[:, self.col_idx]"
   ]
  },
  {
   "cell_type": "code",
   "execution_count": 32,
   "id": "f74fb22e",
   "metadata": {
    "execution": {
     "iopub.execute_input": "2022-05-19T23:22:18.259614Z",
     "iopub.status.busy": "2022-05-19T23:22:18.258796Z",
     "iopub.status.idle": "2022-05-19T23:22:18.267397Z",
     "shell.execute_reply": "2022-05-19T23:22:18.266756Z"
    },
    "papermill": {
     "duration": 0.033102,
     "end_time": "2022-05-19T23:22:18.268999",
     "exception": false,
     "start_time": "2022-05-19T23:22:18.235897",
     "status": "completed"
    },
    "pycharm": {
     "name": "#%%\n"
    },
    "tags": []
   },
   "outputs": [],
   "source": [
    "from sklearn.pipeline import FeatureUnion\n",
    "from sklearn.preprocessing import LabelEncoder, OrdinalEncoder\n",
    "from sklearn.experimental import enable_iterative_imputer\n",
    "from sklearn.impute import IterativeImputer\n",
    "from sklearn.ensemble import RandomForestRegressor, RandomForestClassifier\n",
    "categorical = ['Quality']\n",
    "numerical = ['Ambient T (C)', 'Process T (C)', 'Torque (Nm)', 'Tool Wear (min)']\n",
    "\n",
    "\n",
    "\n",
    "num_imp=Pipeline([\n",
    " ('num_selector', ColumnSelector('numerical')),\n",
    " ('Imputation',IterativeImputer(estimator=RandomForestRegressor(n_jobs=-1),\n",
    "                           initial_strategy='mean',\n",
    "                           max_iter=3,skip_complete=True ,random_state=0)),\n",
    "])\n",
    "\n",
    "cat_imp=Pipeline([\n",
    "     ('cat_selector', ColumnSelector('categorical')),\n",
    "     ('One Hot Encoder1', OrdinalEncoder ()),\n",
    "     ('Imputation',IterativeImputer(estimator=RandomForestClassifier(n_jobs=-1),\n",
    "                           initial_strategy='most_frequent',\n",
    "                           max_iter=3,skip_complete=True,random_state=0)),\n",
    "])\n",
    "\n",
    "\n",
    "preproc = FeatureUnion([\n",
    "    ('num_pipe', num_imp),\n",
    "    ('cat_pipe', cat_imp)\n",
    "])"
   ]
  },
  {
   "cell_type": "markdown",
   "id": "5e692970",
   "metadata": {
    "papermill": {
     "duration": 0.021099,
     "end_time": "2022-05-19T23:22:18.311416",
     "exception": false,
     "start_time": "2022-05-19T23:22:18.290317",
     "status": "completed"
    },
    "pycharm": {
     "name": "#%% md\n"
    },
    "tags": []
   },
   "source": [
    "### Oversampling :SMOTE NC"
   ]
  },
  {
   "cell_type": "code",
   "execution_count": 33,
   "id": "9979c82d",
   "metadata": {
    "execution": {
     "iopub.execute_input": "2022-05-19T23:22:18.356161Z",
     "iopub.status.busy": "2022-05-19T23:22:18.355393Z",
     "iopub.status.idle": "2022-05-19T23:22:18.360797Z",
     "shell.execute_reply": "2022-05-19T23:22:18.360233Z"
    },
    "papermill": {
     "duration": 0.029837,
     "end_time": "2022-05-19T23:22:18.362523",
     "exception": false,
     "start_time": "2022-05-19T23:22:18.332686",
     "status": "completed"
    },
    "pycharm": {
     "name": "#%%\n"
    },
    "tags": []
   },
   "outputs": [],
   "source": [
    "from imblearn.pipeline import Pipeline as imbpipeline\n",
    "colselect=[col in qualitativeVariable for col in machineDf. loc[:, machineDf. columns != 'Machine Status'].columns]\n",
    "\n",
    "colselect.reverse()\n"
   ]
  },
  {
   "cell_type": "code",
   "execution_count": 34,
   "id": "cfcffe54",
   "metadata": {
    "execution": {
     "iopub.execute_input": "2022-05-19T23:22:18.407531Z",
     "iopub.status.busy": "2022-05-19T23:22:18.406801Z",
     "iopub.status.idle": "2022-05-19T23:22:18.412422Z",
     "shell.execute_reply": "2022-05-19T23:22:18.411763Z"
    },
    "papermill": {
     "duration": 0.030213,
     "end_time": "2022-05-19T23:22:18.414200",
     "exception": false,
     "start_time": "2022-05-19T23:22:18.383987",
     "status": "completed"
    },
    "tags": []
   },
   "outputs": [],
   "source": [
    "class DfConverter():\n",
    "    def __init__(self):\n",
    "        super().__init__()\n",
    "\n",
    "    def fit_transform(self, X, y=None):\n",
    "        return self.transform(X=X, y=y)\n",
    "\n",
    "    def transform(self, X, y=None):\n",
    "        df = pd.DataFrame(X)     \n",
    "        return df\n",
    "\n",
    "    def fit(self, X, y=None):\n",
    "        return self\n"
   ]
  },
  {
   "cell_type": "code",
   "execution_count": 35,
   "id": "70e94b43",
   "metadata": {
    "execution": {
     "iopub.execute_input": "2022-05-19T23:22:18.459070Z",
     "iopub.status.busy": "2022-05-19T23:22:18.458687Z",
     "iopub.status.idle": "2022-05-19T23:22:18.463994Z",
     "shell.execute_reply": "2022-05-19T23:22:18.463381Z"
    },
    "papermill": {
     "duration": 0.029966,
     "end_time": "2022-05-19T23:22:18.465637",
     "exception": false,
     "start_time": "2022-05-19T23:22:18.435671",
     "status": "completed"
    },
    "pycharm": {
     "name": "#%%\n"
    },
    "tags": []
   },
   "outputs": [],
   "source": [
    "class customSelector():\n",
    "    def __init__(self):\n",
    "        super().__init__()\n",
    "\n",
    "    def fit_transform(self, X, y=None):\n",
    "        return self.transform(X=X, y=y)\n",
    "\n",
    "    def transform(self, X, y=None):\n",
    "        return pd.DataFrame(X)[[0,1,2,3,4,5,6]]\n",
    "\n",
    "    def fit(self, X, y=None):\n",
    "        return self"
   ]
  },
  {
   "cell_type": "markdown",
   "id": "31e9edef",
   "metadata": {
    "papermill": {
     "duration": 0.021548,
     "end_time": "2022-05-19T23:22:18.509043",
     "exception": false,
     "start_time": "2022-05-19T23:22:18.487495",
     "status": "completed"
    },
    "pycharm": {
     "name": "#%% md\n"
    },
    "tags": []
   },
   "source": [
    "## Feature Selection"
   ]
  },
  {
   "cell_type": "code",
   "execution_count": 36,
   "id": "830aaa9c",
   "metadata": {
    "execution": {
     "iopub.execute_input": "2022-05-19T23:22:18.554037Z",
     "iopub.status.busy": "2022-05-19T23:22:18.553475Z",
     "iopub.status.idle": "2022-05-19T23:22:18.557546Z",
     "shell.execute_reply": "2022-05-19T23:22:18.556968Z"
    },
    "papermill": {
     "duration": 0.028694,
     "end_time": "2022-05-19T23:22:18.559108",
     "exception": false,
     "start_time": "2022-05-19T23:22:18.530414",
     "status": "completed"
    },
    "pycharm": {
     "name": "#%%\n"
    },
    "tags": []
   },
   "outputs": [],
   "source": [
    "# selectionRecord=pd.DataFrame({'no':[],'score':[]})\n",
    "# for i in range(1,8):\n",
    "#     Final = imbpipeline([\n",
    "#     ('Imputation',preproc),\n",
    "#     ('DF Converter',DfConverter()),\n",
    "#     ('SMOTE NC Oversampling',SMOTENC(categorical_features=colselect,n_jobs=-1)),\n",
    "#     ('DF Converter1',DfConverter()),\n",
    "#     ('Data Preprocessing', data_preprocessing),\n",
    "#     ('Kbest',SelectKBest(chi2,k=i)),\n",
    "#     ('Model',   xgb.XGBClassifier())\n",
    "# ])\n",
    "#     selectionRecord=pd.concat([selectionRecord,pd.DataFrame({'no':[i],'score':[cross_validate(Final,x_train,y_train,cv=StratifiedKFold(n_splits = 5, shuffle = True, random_state = 0,),scoring=['recall'],n_jobs=-1,return_estimator=True,return_train_score=True)['test_recall'].mean()]})],ignore_index=True)\n",
    "\n",
    "\n",
    "# sns.lineplot(x='no',y='score',data=selectionRecord).set_title('Number of feature selected')"
   ]
  },
  {
   "cell_type": "markdown",
   "id": "6a3319d0",
   "metadata": {
    "papermill": {
     "duration": 0.02144,
     "end_time": "2022-05-19T23:22:18.602018",
     "exception": false,
     "start_time": "2022-05-19T23:22:18.580578",
     "status": "completed"
    },
    "pycharm": {
     "name": "#%% md\n"
    },
    "tags": []
   },
   "source": [
    "## Evaluation Methodology"
   ]
  },
  {
   "cell_type": "code",
   "execution_count": 37,
   "id": "faabf751",
   "metadata": {
    "execution": {
     "iopub.execute_input": "2022-05-19T23:22:18.647300Z",
     "iopub.status.busy": "2022-05-19T23:22:18.646718Z",
     "iopub.status.idle": "2022-05-19T23:22:18.654867Z",
     "shell.execute_reply": "2022-05-19T23:22:18.654144Z"
    },
    "papermill": {
     "duration": 0.03272,
     "end_time": "2022-05-19T23:22:18.656544",
     "exception": false,
     "start_time": "2022-05-19T23:22:18.623824",
     "status": "completed"
    },
    "pycharm": {
     "name": "#%%\n"
    },
    "tags": []
   },
   "outputs": [],
   "source": [
    "def scoreModel(clf,x,y,algName=None,record=pd.DataFrame({'name':[],'train_accuracy':[],'test_accuracy':[],'test_recall':[],'train_recall':[]})):\n",
    "    '''\n",
    "    This function is used for model evaluation . This function use scikit-learn library to carry out cross validation using StratifiedKFold. The scoring metrics are accuracy and balanced accuracy\n",
    "\n",
    "    :param clf: Classifier 分类器\n",
    "    :param x:Train Data X(Data)  训练数据 （数据）\n",
    "    :param y:Train Data Y(Result)  训练数据（结果）\n",
    "    :param algName: Name of Algorithm used for recording 算法名字\n",
    "    :param record: History record dataframe 在历史记录上叠加结果\n",
    "    :return:\n",
    "    This function return 3 variable: 这个函数返回三个参数\n",
    "    record: Dataframe with current and past record(if there is any)\n",
    "    current: Dataframe with current record\n",
    "    lr: Learning curve\n",
    "    '''\n",
    "    score=cross_validate(clf,x,y,cv=StratifiedKFold(n_splits = 5,shuffle = True, random_state = 0),scoring=['accuracy','recall'],n_jobs=-1,return_estimator=True,return_train_score=True)\n",
    "    current=pd.DataFrame({'name':[algName],'train_accuracy':score['train_accuracy'].mean(),'test_accuracy':score['test_accuracy'].mean(),'test_recall':score['test_recall'].mean(),'train_recall':score['train_recall'].mean()})\n",
    "    record=pd.concat([record,current],ignore_index=True)\n",
    "    lr = learning_curve(clf, x, y, scoring = 'recall', cv = StratifiedKFold(n_splits = 5,shuffle = True, random_state = 0), n_jobs=-1)\n",
    "    return record,current,lr"
   ]
  },
  {
   "cell_type": "code",
   "execution_count": 38,
   "id": "4f6716e1",
   "metadata": {
    "execution": {
     "iopub.execute_input": "2022-05-19T23:22:18.701164Z",
     "iopub.status.busy": "2022-05-19T23:22:18.700525Z",
     "iopub.status.idle": "2022-05-19T23:23:34.261388Z",
     "shell.execute_reply": "2022-05-19T23:23:34.260787Z"
    },
    "papermill": {
     "duration": 75.603987,
     "end_time": "2022-05-19T23:23:34.281957",
     "exception": false,
     "start_time": "2022-05-19T23:22:18.677970",
     "status": "completed"
    },
    "pycharm": {
     "is_executing": true,
     "name": "#%%\n"
    },
    "tags": []
   },
   "outputs": [
    {
     "data": {
      "image/png": "[encoded data removed]",
      "text/plain": [
       "<Figure size 432x288 with 1 Axes>"
      ]
     },
     "metadata": {
      "needs_background": "light"
     },
     "output_type": "display_data"
    },
    {
     "data": {
      "text/html": [
       "<div>\n",
       "<style scoped>\n",
       "    .dataframe tbody tr th:only-of-type {\n",
       "        vertical-align: middle;\n",
       "    }\n",
       "\n",
       "    .dataframe tbody tr th {\n",
       "        vertical-align: top;\n",
       "    }\n",
       "\n",
       "    .dataframe thead th {\n",
       "        text-align: right;\n",
       "    }\n",
       "</style>\n",
       "<table border=\"1\" class=\"dataframe\">\n",
       "  <thead>\n",
       "    <tr style=\"text-align: right;\">\n",
       "      <th></th>\n",
       "      <th>name</th>\n",
       "      <th>train_accuracy</th>\n",
       "      <th>test_accuracy</th>\n",
       "      <th>test_recall</th>\n",
       "      <th>train_recall</th>\n",
       "    </tr>\n",
       "  </thead>\n",
       "  <tbody>\n",
       "    <tr>\n",
       "      <th>0</th>\n",
       "      <td>Dummy Baseline Classifier</td>\n",
       "      <td>0.966125</td>\n",
       "      <td>0.966125</td>\n",
       "      <td>0.0</td>\n",
       "      <td>0.0</td>\n",
       "    </tr>\n",
       "  </tbody>\n",
       "</table>\n",
       "</div>"
      ],
      "text/plain": [
       "                        name  train_accuracy  test_accuracy  test_recall  \\\n",
       "0  Dummy Baseline Classifier        0.966125       0.966125          0.0   \n",
       "\n",
       "   train_recall  \n",
       "0           0.0  "
      ]
     },
     "execution_count": 38,
     "metadata": {},
     "output_type": "execute_result"
    }
   ],
   "source": [
    "\n",
    "from imblearn.over_sampling import SMOTENC\n",
    "baseline = imbpipeline([\n",
    "\n",
    "('Imputation',preproc),\n",
    "    ('DF Converter',DfConverter()),\n",
    "    ('SMOTE NC Oversampling',SMOTENC(categorical_features=colselect,n_jobs=-1)),\n",
    "    ('DF Converter1',DfConverter()),\n",
    "    ('Data Preprocessing', data_preprocessing),\n",
    "    ('Model', DummyClassifier())\n",
    "])\n",
    "record,current,lr=scoreModel(baseline,x_train,y_train,\"Dummy Baseline Classifier\")\n",
    "current"
   ]
  },
  {
   "cell_type": "code",
   "execution_count": 39,
   "id": "a6c88598",
   "metadata": {
    "execution": {
     "iopub.execute_input": "2022-05-19T23:23:34.327759Z",
     "iopub.status.busy": "2022-05-19T23:23:34.327104Z",
     "iopub.status.idle": "2022-05-19T23:24:50.649161Z",
     "shell.execute_reply": "2022-05-19T23:24:50.648579Z"
    },
    "papermill": {
     "duration": 76.368434,
     "end_time": "2022-05-19T23:24:50.672227",
     "exception": false,
     "start_time": "2022-05-19T23:23:34.303793",
     "status": "completed"
    },
    "pycharm": {
     "is_executing": true,
     "name": "#%%\n"
    },
    "tags": []
   },
   "outputs": [
    {
     "data": {
      "image/png": "[encoded data removed]",
      "text/plain": [
       "<Figure size 432x288 with 1 Axes>"
      ]
     },
     "metadata": {
      "needs_background": "light"
     },
     "output_type": "display_data"
    },
    {
     "data": {
      "text/html": [
       "<div>\n",
       "<style scoped>\n",
       "    .dataframe tbody tr th:only-of-type {\n",
       "        vertical-align: middle;\n",
       "    }\n",
       "\n",
       "    .dataframe tbody tr th {\n",
       "        vertical-align: top;\n",
       "    }\n",
       "\n",
       "    .dataframe thead th {\n",
       "        text-align: right;\n",
       "    }\n",
       "</style>\n",
       "<table border=\"1\" class=\"dataframe\">\n",
       "  <thead>\n",
       "    <tr style=\"text-align: right;\">\n",
       "      <th></th>\n",
       "      <th>name</th>\n",
       "      <th>train_accuracy</th>\n",
       "      <th>test_accuracy</th>\n",
       "      <th>test_recall</th>\n",
       "      <th>train_recall</th>\n",
       "    </tr>\n",
       "  </thead>\n",
       "  <tbody>\n",
       "    <tr>\n",
       "      <th>0</th>\n",
       "      <td>Decision Tree Classifier</td>\n",
       "      <td>0.880094</td>\n",
       "      <td>0.877625</td>\n",
       "      <td>0.930054</td>\n",
       "      <td>0.941883</td>\n",
       "    </tr>\n",
       "  </tbody>\n",
       "</table>\n",
       "</div>"
      ],
      "text/plain": [
       "                       name  train_accuracy  test_accuracy  test_recall  \\\n",
       "0  Decision Tree Classifier        0.880094       0.877625     0.930054   \n",
       "\n",
       "   train_recall  \n",
       "0      0.941883  "
      ]
     },
     "execution_count": 39,
     "metadata": {},
     "output_type": "execute_result"
    }
   ],
   "source": [
    "\n",
    "DeciTree = imbpipeline([\n",
    "('Imputation',preproc),\n",
    "    ('DF Converter',DfConverter()),\n",
    "    ('SMOTE NC Oversampling',SMOTENC(categorical_features=colselect,n_jobs=-1)),\n",
    "    ('DF Converter1',DfConverter()),\n",
    "    ('Data Preprocessing', data_preprocessing),\n",
    "    ('model', DecisionTreeClassifier(max_depth=9,ccp_alpha=0.000224,max_leaf_nodes=13))\n",
    "])\n",
    "\n",
    "\n",
    "record,current,lr=scoreModel(DeciTree,x_train,y_train,\"Decision Tree Classifier\",record=record)\n",
    "current"
   ]
  },
  {
   "cell_type": "code",
   "execution_count": 40,
   "id": "62e0a690",
   "metadata": {
    "execution": {
     "iopub.execute_input": "2022-05-19T23:24:50.718014Z",
     "iopub.status.busy": "2022-05-19T23:24:50.717218Z",
     "iopub.status.idle": "2022-05-19T23:24:50.721080Z",
     "shell.execute_reply": "2022-05-19T23:24:50.720346Z"
    },
    "papermill": {
     "duration": 0.028489,
     "end_time": "2022-05-19T23:24:50.722636",
     "exception": false,
     "start_time": "2022-05-19T23:24:50.694147",
     "status": "completed"
    },
    "pycharm": {
     "is_executing": true,
     "name": "#%%\n"
    },
    "tags": []
   },
   "outputs": [],
   "source": [
    "# parameter={'model__max_depth':np.arange(1,10),'model__ccp_alpha':np.arange(0.00827,0.05,0.01)}\n",
    "# pd.DataFrame(GridSearchCV(DeciTree,param_grid=parameter,scoring='recall').fit(x_train,y_train).cv_results_)\n"
   ]
  },
  {
   "cell_type": "code",
   "execution_count": 41,
   "id": "8be032d3",
   "metadata": {
    "execution": {
     "iopub.execute_input": "2022-05-19T23:24:50.768861Z",
     "iopub.status.busy": "2022-05-19T23:24:50.768193Z",
     "iopub.status.idle": "2022-05-19T23:24:50.772267Z",
     "shell.execute_reply": "2022-05-19T23:24:50.771558Z"
    },
    "papermill": {
     "duration": 0.029261,
     "end_time": "2022-05-19T23:24:50.773859",
     "exception": false,
     "start_time": "2022-05-19T23:24:50.744598",
     "status": "completed"
    },
    "pycharm": {
     "is_executing": true,
     "name": "#%%\n"
    },
    "tags": []
   },
   "outputs": [],
   "source": [
    "\n",
    "\n",
    "# from sklearn.model_selection import validation_curve\n",
    "# pr=np.arange(5,20,1)\n",
    "# train_score,test_score = validation_curve(DeciTree,x_train,y_train,param_name='model__max_depth',param_range=pr,cv=StratifiedKFold(n_splits = 5, shuffle = True, random_state = 0,),scoring='recall')\n",
    "# train_score =  np.mean(train_score,axis=1)\n",
    "# test_score = np.mean(test_score,axis=1)\n",
    "# plt.plot(pr,train_score,'o-',color = 'r',label = 'training')\n",
    "# plt.plot(pr,test_score,'o-',color = 'g',label = 'testing')\n",
    "# plt.legend(loc='best')\n",
    "# plt.xlabel('number of tree')\n",
    "# plt.ylabel('accuracy')\n",
    "# plt.show()\n",
    "\n"
   ]
  },
  {
   "cell_type": "code",
   "execution_count": 42,
   "id": "c06f7e5d",
   "metadata": {
    "execution": {
     "iopub.execute_input": "2022-05-19T23:24:50.819180Z",
     "iopub.status.busy": "2022-05-19T23:24:50.818780Z",
     "iopub.status.idle": "2022-05-19T23:24:50.822477Z",
     "shell.execute_reply": "2022-05-19T23:24:50.821783Z"
    },
    "papermill": {
     "duration": 0.028231,
     "end_time": "2022-05-19T23:24:50.824061",
     "exception": false,
     "start_time": "2022-05-19T23:24:50.795830",
     "status": "completed"
    },
    "pycharm": {
     "is_executing": true,
     "name": "#%%\n"
    },
    "tags": []
   },
   "outputs": [],
   "source": [
    "# test_score"
   ]
  },
  {
   "cell_type": "code",
   "execution_count": 43,
   "id": "5bb8b3dd",
   "metadata": {
    "execution": {
     "iopub.execute_input": "2022-05-19T23:24:50.869699Z",
     "iopub.status.busy": "2022-05-19T23:24:50.869166Z",
     "iopub.status.idle": "2022-05-19T23:26:13.302188Z",
     "shell.execute_reply": "2022-05-19T23:26:13.301372Z"
    },
    "papermill": {
     "duration": 82.457941,
     "end_time": "2022-05-19T23:26:13.303913",
     "exception": false,
     "start_time": "2022-05-19T23:24:50.845972",
     "status": "completed"
    },
    "pycharm": {
     "is_executing": true,
     "name": "#%%\n"
    },
    "tags": []
   },
   "outputs": [
    {
     "name": "stderr",
     "output_type": "stream",
     "text": [
      "/opt/hostedtoolcache/Python/3.8.12/x64/lib/python3.8/site-packages/sklearn/impute/_iterative.py:699: ConvergenceWarning: [IterativeImputer] Early stopping criterion not reached.\n",
      "  warnings.warn(\n",
      "/opt/hostedtoolcache/Python/3.8.12/x64/lib/python3.8/site-packages/sklearn/impute/_iterative.py:699: ConvergenceWarning: [IterativeImputer] Early stopping criterion not reached.\n",
      "  warnings.warn(\n",
      "/opt/hostedtoolcache/Python/3.8.12/x64/lib/python3.8/site-packages/sklearn/impute/_iterative.py:699: ConvergenceWarning: [IterativeImputer] Early stopping criterion not reached.\n",
      "  warnings.warn(\n",
      "/opt/hostedtoolcache/Python/3.8.12/x64/lib/python3.8/site-packages/sklearn/impute/_iterative.py:699: ConvergenceWarning: [IterativeImputer] Early stopping criterion not reached.\n",
      "  warnings.warn(\n",
      "/opt/hostedtoolcache/Python/3.8.12/x64/lib/python3.8/site-packages/sklearn/impute/_iterative.py:699: ConvergenceWarning: [IterativeImputer] Early stopping criterion not reached.\n",
      "  warnings.warn(\n",
      "/opt/hostedtoolcache/Python/3.8.12/x64/lib/python3.8/site-packages/sklearn/impute/_iterative.py:699: ConvergenceWarning: [IterativeImputer] Early stopping criterion not reached.\n",
      "  warnings.warn(\n",
      "/opt/hostedtoolcache/Python/3.8.12/x64/lib/python3.8/site-packages/sklearn/impute/_iterative.py:699: ConvergenceWarning: [IterativeImputer] Early stopping criterion not reached.\n",
      "  warnings.warn(\n",
      "/opt/hostedtoolcache/Python/3.8.12/x64/lib/python3.8/site-packages/sklearn/impute/_iterative.py:699: ConvergenceWarning: [IterativeImputer] Early stopping criterion not reached.\n",
      "  warnings.warn(\n",
      "/opt/hostedtoolcache/Python/3.8.12/x64/lib/python3.8/site-packages/sklearn/impute/_iterative.py:699: ConvergenceWarning: [IterativeImputer] Early stopping criterion not reached.\n",
      "  warnings.warn(\n",
      "/opt/hostedtoolcache/Python/3.8.12/x64/lib/python3.8/site-packages/sklearn/impute/_iterative.py:699: ConvergenceWarning: [IterativeImputer] Early stopping criterion not reached.\n",
      "  warnings.warn(\n",
      "/opt/hostedtoolcache/Python/3.8.12/x64/lib/python3.8/site-packages/sklearn/impute/_iterative.py:699: ConvergenceWarning: [IterativeImputer] Early stopping criterion not reached.\n",
      "  warnings.warn(\n",
      "/opt/hostedtoolcache/Python/3.8.12/x64/lib/python3.8/site-packages/sklearn/impute/_iterative.py:699: ConvergenceWarning: [IterativeImputer] Early stopping criterion not reached.\n",
      "  warnings.warn(\n",
      "/opt/hostedtoolcache/Python/3.8.12/x64/lib/python3.8/site-packages/sklearn/impute/_iterative.py:699: ConvergenceWarning: [IterativeImputer] Early stopping criterion not reached.\n",
      "  warnings.warn(\n",
      "/opt/hostedtoolcache/Python/3.8.12/x64/lib/python3.8/site-packages/sklearn/impute/_iterative.py:699: ConvergenceWarning: [IterativeImputer] Early stopping criterion not reached.\n",
      "  warnings.warn(\n",
      "/opt/hostedtoolcache/Python/3.8.12/x64/lib/python3.8/site-packages/sklearn/impute/_iterative.py:699: ConvergenceWarning: [IterativeImputer] Early stopping criterion not reached.\n",
      "  warnings.warn(\n",
      "/opt/hostedtoolcache/Python/3.8.12/x64/lib/python3.8/site-packages/sklearn/impute/_iterative.py:699: ConvergenceWarning: [IterativeImputer] Early stopping criterion not reached.\n",
      "  warnings.warn(\n",
      "/opt/hostedtoolcache/Python/3.8.12/x64/lib/python3.8/site-packages/sklearn/impute/_iterative.py:699: ConvergenceWarning: [IterativeImputer] Early stopping criterion not reached.\n",
      "  warnings.warn(\n",
      "/opt/hostedtoolcache/Python/3.8.12/x64/lib/python3.8/site-packages/sklearn/impute/_iterative.py:699: ConvergenceWarning: [IterativeImputer] Early stopping criterion not reached.\n",
      "  warnings.warn(\n",
      "/opt/hostedtoolcache/Python/3.8.12/x64/lib/python3.8/site-packages/joblib/externals/loky/process_executor.py:702: UserWarning: A worker stopped while some jobs were given to the executor. This can be caused by a too short worker timeout or by a memory leak.\n",
      "  warnings.warn(\n"
     ]
    },
    {
     "name": "stderr",
     "output_type": "stream",
     "text": [
      "/opt/hostedtoolcache/Python/3.8.12/x64/lib/python3.8/site-packages/sklearn/impute/_iterative.py:699: ConvergenceWarning: [IterativeImputer] Early stopping criterion not reached.\n",
      "  warnings.warn(\n",
      "/opt/hostedtoolcache/Python/3.8.12/x64/lib/python3.8/site-packages/sklearn/impute/_iterative.py:699: ConvergenceWarning: [IterativeImputer] Early stopping criterion not reached.\n",
      "  warnings.warn(\n",
      "/opt/hostedtoolcache/Python/3.8.12/x64/lib/python3.8/site-packages/sklearn/impute/_iterative.py:699: ConvergenceWarning: [IterativeImputer] Early stopping criterion not reached.\n",
      "  warnings.warn(\n",
      "/opt/hostedtoolcache/Python/3.8.12/x64/lib/python3.8/site-packages/sklearn/impute/_iterative.py:699: ConvergenceWarning: [IterativeImputer] Early stopping criterion not reached.\n",
      "  warnings.warn(\n",
      "/opt/hostedtoolcache/Python/3.8.12/x64/lib/python3.8/site-packages/sklearn/impute/_iterative.py:699: ConvergenceWarning: [IterativeImputer] Early stopping criterion not reached.\n",
      "  warnings.warn(\n",
      "/opt/hostedtoolcache/Python/3.8.12/x64/lib/python3.8/site-packages/sklearn/impute/_iterative.py:699: ConvergenceWarning: [IterativeImputer] Early stopping criterion not reached.\n",
      "  warnings.warn(\n",
      "/opt/hostedtoolcache/Python/3.8.12/x64/lib/python3.8/site-packages/sklearn/impute/_iterative.py:699: ConvergenceWarning: [IterativeImputer] Early stopping criterion not reached.\n",
      "  warnings.warn(\n",
      "/opt/hostedtoolcache/Python/3.8.12/x64/lib/python3.8/site-packages/sklearn/impute/_iterative.py:699: ConvergenceWarning: [IterativeImputer] Early stopping criterion not reached.\n",
      "  warnings.warn(\n",
      "/opt/hostedtoolcache/Python/3.8.12/x64/lib/python3.8/site-packages/sklearn/impute/_iterative.py:699: ConvergenceWarning: [IterativeImputer] Early stopping criterion not reached.\n",
      "  warnings.warn(\n",
      "/opt/hostedtoolcache/Python/3.8.12/x64/lib/python3.8/site-packages/sklearn/impute/_iterative.py:699: ConvergenceWarning: [IterativeImputer] Early stopping criterion not reached.\n",
      "  warnings.warn(\n",
      "/opt/hostedtoolcache/Python/3.8.12/x64/lib/python3.8/site-packages/sklearn/impute/_iterative.py:699: ConvergenceWarning: [IterativeImputer] Early stopping criterion not reached.\n",
      "  warnings.warn(\n",
      "/opt/hostedtoolcache/Python/3.8.12/x64/lib/python3.8/site-packages/sklearn/impute/_iterative.py:699: ConvergenceWarning: [IterativeImputer] Early stopping criterion not reached.\n",
      "  warnings.warn(\n",
      "/opt/hostedtoolcache/Python/3.8.12/x64/lib/python3.8/site-packages/sklearn/impute/_iterative.py:699: ConvergenceWarning: [IterativeImputer] Early stopping criterion not reached.\n",
      "  warnings.warn(\n",
      "/opt/hostedtoolcache/Python/3.8.12/x64/lib/python3.8/site-packages/sklearn/impute/_iterative.py:699: ConvergenceWarning: [IterativeImputer] Early stopping criterion not reached.\n",
      "  warnings.warn(\n",
      "/opt/hostedtoolcache/Python/3.8.12/x64/lib/python3.8/site-packages/sklearn/impute/_iterative.py:699: ConvergenceWarning: [IterativeImputer] Early stopping criterion not reached.\n",
      "  warnings.warn(\n",
      "/opt/hostedtoolcache/Python/3.8.12/x64/lib/python3.8/site-packages/sklearn/impute/_iterative.py:699: ConvergenceWarning: [IterativeImputer] Early stopping criterion not reached.\n",
      "  warnings.warn(\n",
      "/opt/hostedtoolcache/Python/3.8.12/x64/lib/python3.8/site-packages/sklearn/impute/_iterative.py:699: ConvergenceWarning: [IterativeImputer] Early stopping criterion not reached.\n",
      "  warnings.warn(\n",
      "/opt/hostedtoolcache/Python/3.8.12/x64/lib/python3.8/site-packages/sklearn/impute/_iterative.py:699: ConvergenceWarning: [IterativeImputer] Early stopping criterion not reached.\n",
      "  warnings.warn(\n",
      "/opt/hostedtoolcache/Python/3.8.12/x64/lib/python3.8/site-packages/sklearn/impute/_iterative.py:699: ConvergenceWarning: [IterativeImputer] Early stopping criterion not reached.\n",
      "  warnings.warn(\n",
      "/opt/hostedtoolcache/Python/3.8.12/x64/lib/python3.8/site-packages/sklearn/impute/_iterative.py:699: ConvergenceWarning: [IterativeImputer] Early stopping criterion not reached.\n",
      "  warnings.warn(\n",
      "/opt/hostedtoolcache/Python/3.8.12/x64/lib/python3.8/site-packages/sklearn/impute/_iterative.py:699: ConvergenceWarning: [IterativeImputer] Early stopping criterion not reached.\n",
      "  warnings.warn(\n",
      "/opt/hostedtoolcache/Python/3.8.12/x64/lib/python3.8/site-packages/sklearn/impute/_iterative.py:699: ConvergenceWarning: [IterativeImputer] Early stopping criterion not reached.\n",
      "  warnings.warn(\n",
      "/opt/hostedtoolcache/Python/3.8.12/x64/lib/python3.8/site-packages/joblib/externals/loky/process_executor.py:702: UserWarning: A worker stopped while some jobs were given to the executor. This can be caused by a too short worker timeout or by a memory leak.\n",
      "  warnings.warn(\n"
     ]
    },
    {
     "data": {
      "image/png": "[encoded data removed]",
      "text/plain": [
       "<Figure size 432x288 with 1 Axes>"
      ]
     },
     "metadata": {
      "needs_background": "light"
     },
     "output_type": "display_data"
    },
    {
     "data": {
      "text/html": [
       "<div>\n",
       "<style scoped>\n",
       "    .dataframe tbody tr th:only-of-type {\n",
       "        vertical-align: middle;\n",
       "    }\n",
       "\n",
       "    .dataframe tbody tr th {\n",
       "        vertical-align: top;\n",
       "    }\n",
       "\n",
       "    .dataframe thead th {\n",
       "        text-align: right;\n",
       "    }\n",
       "</style>\n",
       "<table border=\"1\" class=\"dataframe\">\n",
       "  <thead>\n",
       "    <tr style=\"text-align: right;\">\n",
       "      <th></th>\n",
       "      <th>name</th>\n",
       "      <th>train_accuracy</th>\n",
       "      <th>test_accuracy</th>\n",
       "      <th>test_recall</th>\n",
       "      <th>train_recall</th>\n",
       "    </tr>\n",
       "  </thead>\n",
       "  <tbody>\n",
       "    <tr>\n",
       "      <th>0</th>\n",
       "      <td>Random Forest Classifier</td>\n",
       "      <td>0.935437</td>\n",
       "      <td>0.926562</td>\n",
       "      <td>0.861604</td>\n",
       "      <td>0.938192</td>\n",
       "    </tr>\n",
       "  </tbody>\n",
       "</table>\n",
       "</div>"
      ],
      "text/plain": [
       "                       name  train_accuracy  test_accuracy  test_recall  \\\n",
       "0  Random Forest Classifier        0.935437       0.926562     0.861604   \n",
       "\n",
       "   train_recall  \n",
       "0      0.938192  "
      ]
     },
     "execution_count": 43,
     "metadata": {},
     "output_type": "execute_result"
    }
   ],
   "source": [
    "randomFor = imbpipeline([\n",
    "    ('Imputation',preproc),\n",
    "    ('DF Converter',DfConverter()),\n",
    "    ('SMOTE NC Oversampling',SMOTENC(categorical_features=colselect,n_jobs=-1)),\n",
    "    ('DF Converter1',DfConverter()),\n",
    "    ('Data Preprocessing', data_preprocessing),\n",
    "    ('model', RandomForestClassifier(max_depth=9,ccp_alpha=0.000224,n_estimators=20,n_jobs=-1))\n",
    "])\n",
    "# parameter={'model__max_depth':np.arange(1,9),'model__ccp_alpha':np.arange(0.00827,0.03,0.001)}\n",
    "# pd.DataFrame(GridSearchCV(randomFor,param_grid=parameter,scoring='recall').fit(x_train,y_train).cv_results_)\n",
    "\n",
    "record,current,lr=scoreModel(randomFor,x_train,y_train,\"Random Forest Classifier\",record=record)\n",
    "current"
   ]
  },
  {
   "cell_type": "code",
   "execution_count": 44,
   "id": "2f40cc40",
   "metadata": {
    "execution": {
     "iopub.execute_input": "2022-05-19T23:26:13.353764Z",
     "iopub.status.busy": "2022-05-19T23:26:13.352812Z",
     "iopub.status.idle": "2022-05-19T23:26:13.357898Z",
     "shell.execute_reply": "2022-05-19T23:26:13.357163Z"
    },
    "papermill": {
     "duration": 0.031965,
     "end_time": "2022-05-19T23:26:13.359649",
     "exception": false,
     "start_time": "2022-05-19T23:26:13.327684",
     "status": "completed"
    },
    "pycharm": {
     "is_executing": true,
     "name": "#%%\n"
    },
    "tags": []
   },
   "outputs": [],
   "source": [
    "# parameter={'model__max_depth':np.arange(1,10),'model__ccp_alpha':np.arange(0.00827,0.05,0.01)}\n",
    "# pd.DataFrame(GridSearchCV(randomFor,param_grid=parameter,scoring='recall').fit(x_train,y_train).cv_results_)\n"
   ]
  },
  {
   "cell_type": "code",
   "execution_count": 45,
   "id": "efc83892",
   "metadata": {
    "execution": {
     "iopub.execute_input": "2022-05-19T23:26:13.408171Z",
     "iopub.status.busy": "2022-05-19T23:26:13.407613Z",
     "iopub.status.idle": "2022-05-19T23:29:19.245269Z",
     "shell.execute_reply": "2022-05-19T23:29:19.244619Z"
    },
    "papermill": {
     "duration": 185.8881,
     "end_time": "2022-05-19T23:29:19.271096",
     "exception": false,
     "start_time": "2022-05-19T23:26:13.382996",
     "status": "completed"
    },
    "pycharm": {
     "is_executing": true,
     "name": "#%%\n"
    },
    "tags": []
   },
   "outputs": [
    {
     "data": {
      "image/png": "[encoded data removed]",
      "text/plain": [
       "<Figure size 432x288 with 1 Axes>"
      ]
     },
     "metadata": {
      "needs_background": "light"
     },
     "output_type": "display_data"
    },
    {
     "data": {
      "text/html": [
       "<div>\n",
       "<style scoped>\n",
       "    .dataframe tbody tr th:only-of-type {\n",
       "        vertical-align: middle;\n",
       "    }\n",
       "\n",
       "    .dataframe tbody tr th {\n",
       "        vertical-align: top;\n",
       "    }\n",
       "\n",
       "    .dataframe thead th {\n",
       "        text-align: right;\n",
       "    }\n",
       "</style>\n",
       "<table border=\"1\" class=\"dataframe\">\n",
       "  <thead>\n",
       "    <tr style=\"text-align: right;\">\n",
       "      <th></th>\n",
       "      <th>name</th>\n",
       "      <th>train_accuracy</th>\n",
       "      <th>test_accuracy</th>\n",
       "      <th>test_recall</th>\n",
       "      <th>train_recall</th>\n",
       "    </tr>\n",
       "  </thead>\n",
       "  <tbody>\n",
       "    <tr>\n",
       "      <th>0</th>\n",
       "      <td>SVM Classifier</td>\n",
       "      <td>0.894109</td>\n",
       "      <td>0.89425</td>\n",
       "      <td>0.883792</td>\n",
       "      <td>0.904053</td>\n",
       "    </tr>\n",
       "  </tbody>\n",
       "</table>\n",
       "</div>"
      ],
      "text/plain": [
       "             name  train_accuracy  test_accuracy  test_recall  train_recall\n",
       "0  SVM Classifier        0.894109        0.89425     0.883792      0.904053"
      ]
     },
     "execution_count": 45,
     "metadata": {},
     "output_type": "execute_result"
    }
   ],
   "source": [
    "svm = imbpipeline([\n",
    "    ('Imputation',preproc),\n",
    "    ('DF Converter',DfConverter()),\n",
    "    ('SMOTE NC Oversampling',SMOTENC(categorical_features=colselect,n_jobs=-1)),\n",
    "    ('DF Converter1',DfConverter()),\n",
    "    ('Data Preprocessing', data_preprocessing),\n",
    "    ('model', SVC(gamma=0.5,C=6))\n",
    "])\n",
    "# parameters = {'model__kernel':('linear', 'rbf'), 'model__C':np.arange(1,10),}\n",
    "# pd.DataFrame(GridSearchCV(svm,param_grid=parameters,scoring='recall',n_jobs=-1).fit(x_train,y_train).cv_results_)\n",
    "\n",
    "record,current,lr=scoreModel(svm,x_train,y_train,\"SVM Classifier\",record=record)\n",
    "current"
   ]
  },
  {
   "cell_type": "code",
   "execution_count": 46,
   "id": "58704273",
   "metadata": {
    "execution": {
     "iopub.execute_input": "2022-05-19T23:29:19.320648Z",
     "iopub.status.busy": "2022-05-19T23:29:19.320078Z",
     "iopub.status.idle": "2022-05-19T23:29:19.323631Z",
     "shell.execute_reply": "2022-05-19T23:29:19.323082Z"
    },
    "papermill": {
     "duration": 0.029942,
     "end_time": "2022-05-19T23:29:19.325205",
     "exception": false,
     "start_time": "2022-05-19T23:29:19.295263",
     "status": "completed"
    },
    "pycharm": {
     "is_executing": true,
     "name": "#%%\n"
    },
    "tags": []
   },
   "outputs": [],
   "source": [
    "# parameter={'model__C':np.arange(1,10),'model__gamma':np.arange(0.1,1,0.1)}\n",
    "# pd.DataFrame(GridSearchCV(svm,param_grid=parameter,scoring='recall').fit(x_train,y_train).cv_results_)"
   ]
  },
  {
   "cell_type": "code",
   "execution_count": 47,
   "id": "0aabe97c",
   "metadata": {
    "execution": {
     "iopub.execute_input": "2022-05-19T23:29:19.374546Z",
     "iopub.status.busy": "2022-05-19T23:29:19.373775Z",
     "iopub.status.idle": "2022-05-19T23:30:44.657217Z",
     "shell.execute_reply": "2022-05-19T23:30:44.656516Z"
    },
    "papermill": {
     "duration": 85.334327,
     "end_time": "2022-05-19T23:30:44.682754",
     "exception": false,
     "start_time": "2022-05-19T23:29:19.348427",
     "status": "completed"
    },
    "pycharm": {
     "is_executing": true,
     "name": "#%%\n"
    },
    "tags": []
   },
   "outputs": [
    {
     "data": {
      "image/png": "[encoded data removed]",
      "text/plain": [
       "<Figure size 432x288 with 1 Axes>"
      ]
     },
     "metadata": {
      "needs_background": "light"
     },
     "output_type": "display_data"
    },
    {
     "data": {
      "text/html": [
       "<div>\n",
       "<style scoped>\n",
       "    .dataframe tbody tr th:only-of-type {\n",
       "        vertical-align: middle;\n",
       "    }\n",
       "\n",
       "    .dataframe tbody tr th {\n",
       "        vertical-align: top;\n",
       "    }\n",
       "\n",
       "    .dataframe thead th {\n",
       "        text-align: right;\n",
       "    }\n",
       "</style>\n",
       "<table border=\"1\" class=\"dataframe\">\n",
       "  <thead>\n",
       "    <tr style=\"text-align: right;\">\n",
       "      <th></th>\n",
       "      <th>name</th>\n",
       "      <th>train_accuracy</th>\n",
       "      <th>test_accuracy</th>\n",
       "      <th>test_recall</th>\n",
       "      <th>train_recall</th>\n",
       "    </tr>\n",
       "  </thead>\n",
       "  <tbody>\n",
       "    <tr>\n",
       "      <th>0</th>\n",
       "      <td>Adaptive Boosting Classifier</td>\n",
       "      <td>0.911734</td>\n",
       "      <td>0.909562</td>\n",
       "      <td>0.848658</td>\n",
       "      <td>0.870849</td>\n",
       "    </tr>\n",
       "  </tbody>\n",
       "</table>\n",
       "</div>"
      ],
      "text/plain": [
       "                           name  train_accuracy  test_accuracy  test_recall  \\\n",
       "0  Adaptive Boosting Classifier        0.911734       0.909562     0.848658   \n",
       "\n",
       "   train_recall  \n",
       "0      0.870849  "
      ]
     },
     "execution_count": 47,
     "metadata": {},
     "output_type": "execute_result"
    }
   ],
   "source": [
    "lgbmC = imbpipeline([\n",
    "    ('Imputation',preproc),\n",
    "    ('DF Converter',DfConverter()),\n",
    "    ('SMOTE NC Oversampling',SMOTENC(categorical_features=colselect,n_jobs=-1)),\n",
    "    ('DF Converter1',DfConverter()),\n",
    "    ('Data Preprocessing', data_preprocessing),\n",
    "\n",
    "    ('model', AdaBoostClassifier(learning_rate=0.8))\n",
    "])\n",
    "\n",
    "\n",
    "# parameter={'model__n_estimators':np.arange(1,13),'model__learning_rate':np.arange(0.1,2,0.01)}\n",
    "#\n",
    "# pd.DataFrame(GridSearchCV(lgbmC,param_grid=parameter,scoring='recall',n_jobs=-1).fit(x_train,y_train).cv_results_)\n",
    "\n",
    "record,current,lr=scoreModel(lgbmC,x_train,y_train,\"Adaptive Boosting Classifier\",record=record)\n",
    "current"
   ]
  },
  {
   "cell_type": "code",
   "execution_count": 48,
   "id": "5fce7a34",
   "metadata": {
    "execution": {
     "iopub.execute_input": "2022-05-19T23:30:44.733806Z",
     "iopub.status.busy": "2022-05-19T23:30:44.732849Z",
     "iopub.status.idle": "2022-05-19T23:32:03.892994Z",
     "shell.execute_reply": "2022-05-19T23:32:03.892399Z"
    },
    "papermill": {
     "duration": 79.193042,
     "end_time": "2022-05-19T23:32:03.900227",
     "exception": false,
     "start_time": "2022-05-19T23:30:44.707185",
     "status": "completed"
    },
    "pycharm": {
     "is_executing": true,
     "name": "#%%\n"
    },
    "tags": []
   },
   "outputs": [
    {
     "data": {
      "image/png": "[encoded data removed]",
      "text/plain": [
       "<Figure size 432x288 with 1 Axes>"
      ]
     },
     "metadata": {
      "needs_background": "light"
     },
     "output_type": "display_data"
    },
    {
     "data": {
      "text/html": [
       "<div>\n",
       "<style scoped>\n",
       "    .dataframe tbody tr th:only-of-type {\n",
       "        vertical-align: middle;\n",
       "    }\n",
       "\n",
       "    .dataframe tbody tr th {\n",
       "        vertical-align: top;\n",
       "    }\n",
       "\n",
       "    .dataframe thead th {\n",
       "        text-align: right;\n",
       "    }\n",
       "</style>\n",
       "<table border=\"1\" class=\"dataframe\">\n",
       "  <thead>\n",
       "    <tr style=\"text-align: right;\">\n",
       "      <th></th>\n",
       "      <th>name</th>\n",
       "      <th>train_accuracy</th>\n",
       "      <th>test_accuracy</th>\n",
       "      <th>test_recall</th>\n",
       "      <th>train_recall</th>\n",
       "    </tr>\n",
       "  </thead>\n",
       "  <tbody>\n",
       "    <tr>\n",
       "      <th>0</th>\n",
       "      <td>eXtreme Gradient Boosting Classifier</td>\n",
       "      <td>0.929359</td>\n",
       "      <td>0.924188</td>\n",
       "      <td>0.88561</td>\n",
       "      <td>0.924818</td>\n",
       "    </tr>\n",
       "  </tbody>\n",
       "</table>\n",
       "</div>"
      ],
      "text/plain": [
       "                                   name  train_accuracy  test_accuracy  \\\n",
       "0  eXtreme Gradient Boosting Classifier        0.929359       0.924188   \n",
       "\n",
       "   test_recall  train_recall  \n",
       "0      0.88561      0.924818  "
      ]
     },
     "execution_count": 48,
     "metadata": {},
     "output_type": "execute_result"
    }
   ],
   "source": [
    "\n",
    "xgboost = imbpipeline([\n",
    "    ('Imputation',preproc),\n",
    "    ('DF Converter',DfConverter()),\n",
    "    ('SMOTE NC Oversampling',SMOTENC(categorical_features=colselect,n_jobs=-1)),\n",
    "    ('DF Converter1',DfConverter()),\n",
    "    ('Data Preprocessing', data_preprocessing),\n",
    "\n",
    "    ('Model', xgb.XGBClassifier(tree_method='hist',max_depth=2))\n",
    "])\n",
    "record,current,lr=scoreModel(xgboost,x_train,y_train,\"eXtreme Gradient Boosting Classifier\",record)\n",
    "current"
   ]
  },
  {
   "cell_type": "code",
   "execution_count": 49,
   "id": "0293c1f8",
   "metadata": {
    "execution": {
     "iopub.execute_input": "2022-05-19T23:32:03.951248Z",
     "iopub.status.busy": "2022-05-19T23:32:03.950448Z",
     "iopub.status.idle": "2022-05-19T23:32:03.954296Z",
     "shell.execute_reply": "2022-05-19T23:32:03.953561Z"
    },
    "papermill": {
     "duration": 0.031102,
     "end_time": "2022-05-19T23:32:03.955845",
     "exception": false,
     "start_time": "2022-05-19T23:32:03.924743",
     "status": "completed"
    },
    "pycharm": {
     "is_executing": true,
     "name": "#%%\n"
    },
    "tags": []
   },
   "outputs": [],
   "source": [
    "# parameter={'Model__max_depth':np.arange(1,10),'Model__n_estimators':np.arange(1,16)}\n",
    "# pd.DataFrame(GridSearchCV(xgboost,param_grid=parameter,scoring='recall').fit(x_train,y_train).cv_results_)\n"
   ]
  },
  {
   "cell_type": "code",
   "execution_count": 50,
   "id": "bc477a78",
   "metadata": {
    "execution": {
     "iopub.execute_input": "2022-05-19T23:32:04.006451Z",
     "iopub.status.busy": "2022-05-19T23:32:04.005887Z",
     "iopub.status.idle": "2022-05-19T23:33:52.494167Z",
     "shell.execute_reply": "2022-05-19T23:33:52.493469Z"
    },
    "papermill": {
     "duration": 108.515642,
     "end_time": "2022-05-19T23:33:52.496039",
     "exception": false,
     "start_time": "2022-05-19T23:32:03.980397",
     "status": "completed"
    },
    "tags": []
   },
   "outputs": [
    {
     "name": "stderr",
     "output_type": "stream",
     "text": [
      "/opt/hostedtoolcache/Python/3.8.12/x64/lib/python3.8/site-packages/sklearn/impute/_iterative.py:699: ConvergenceWarning: [IterativeImputer] Early stopping criterion not reached.\n",
      "  warnings.warn(\n",
      "/opt/hostedtoolcache/Python/3.8.12/x64/lib/python3.8/site-packages/sklearn/impute/_iterative.py:699: ConvergenceWarning: [IterativeImputer] Early stopping criterion not reached.\n",
      "  warnings.warn(\n",
      "/opt/hostedtoolcache/Python/3.8.12/x64/lib/python3.8/site-packages/sklearn/impute/_iterative.py:699: ConvergenceWarning: [IterativeImputer] Early stopping criterion not reached.\n",
      "  warnings.warn(\n",
      "/opt/hostedtoolcache/Python/3.8.12/x64/lib/python3.8/site-packages/sklearn/impute/_iterative.py:699: ConvergenceWarning: [IterativeImputer] Early stopping criterion not reached.\n",
      "  warnings.warn(\n",
      "/opt/hostedtoolcache/Python/3.8.12/x64/lib/python3.8/site-packages/sklearn/impute/_iterative.py:699: ConvergenceWarning: [IterativeImputer] Early stopping criterion not reached.\n",
      "  warnings.warn(\n",
      "/opt/hostedtoolcache/Python/3.8.12/x64/lib/python3.8/site-packages/sklearn/impute/_iterative.py:699: ConvergenceWarning: [IterativeImputer] Early stopping criterion not reached.\n",
      "  warnings.warn(\n",
      "/opt/hostedtoolcache/Python/3.8.12/x64/lib/python3.8/site-packages/sklearn/impute/_iterative.py:699: ConvergenceWarning: [IterativeImputer] Early stopping criterion not reached.\n",
      "  warnings.warn(\n",
      "/opt/hostedtoolcache/Python/3.8.12/x64/lib/python3.8/site-packages/sklearn/impute/_iterative.py:699: ConvergenceWarning: [IterativeImputer] Early stopping criterion not reached.\n",
      "  warnings.warn(\n",
      "/opt/hostedtoolcache/Python/3.8.12/x64/lib/python3.8/site-packages/sklearn/impute/_iterative.py:699: ConvergenceWarning: [IterativeImputer] Early stopping criterion not reached.\n",
      "  warnings.warn(\n",
      "/opt/hostedtoolcache/Python/3.8.12/x64/lib/python3.8/site-packages/sklearn/impute/_iterative.py:699: ConvergenceWarning: [IterativeImputer] Early stopping criterion not reached.\n",
      "  warnings.warn(\n",
      "/opt/hostedtoolcache/Python/3.8.12/x64/lib/python3.8/site-packages/sklearn/impute/_iterative.py:699: ConvergenceWarning: [IterativeImputer] Early stopping criterion not reached.\n",
      "  warnings.warn(\n",
      "/opt/hostedtoolcache/Python/3.8.12/x64/lib/python3.8/site-packages/sklearn/impute/_iterative.py:699: ConvergenceWarning: [IterativeImputer] Early stopping criterion not reached.\n",
      "  warnings.warn(\n",
      "/opt/hostedtoolcache/Python/3.8.12/x64/lib/python3.8/site-packages/sklearn/impute/_iterative.py:699: ConvergenceWarning: [IterativeImputer] Early stopping criterion not reached.\n",
      "  warnings.warn(\n",
      "/opt/hostedtoolcache/Python/3.8.12/x64/lib/python3.8/site-packages/sklearn/impute/_iterative.py:699: ConvergenceWarning: [IterativeImputer] Early stopping criterion not reached.\n",
      "  warnings.warn(\n",
      "/opt/hostedtoolcache/Python/3.8.12/x64/lib/python3.8/site-packages/sklearn/impute/_iterative.py:699: ConvergenceWarning: [IterativeImputer] Early stopping criterion not reached.\n",
      "  warnings.warn(\n",
      "/opt/hostedtoolcache/Python/3.8.12/x64/lib/python3.8/site-packages/sklearn/impute/_iterative.py:699: ConvergenceWarning: [IterativeImputer] Early stopping criterion not reached.\n",
      "  warnings.warn(\n",
      "/opt/hostedtoolcache/Python/3.8.12/x64/lib/python3.8/site-packages/sklearn/impute/_iterative.py:699: ConvergenceWarning: [IterativeImputer] Early stopping criterion not reached.\n",
      "  warnings.warn(\n",
      "/opt/hostedtoolcache/Python/3.8.12/x64/lib/python3.8/site-packages/sklearn/impute/_iterative.py:699: ConvergenceWarning: [IterativeImputer] Early stopping criterion not reached.\n",
      "  warnings.warn(\n",
      "/opt/hostedtoolcache/Python/3.8.12/x64/lib/python3.8/site-packages/sklearn/impute/_iterative.py:699: ConvergenceWarning: [IterativeImputer] Early stopping criterion not reached.\n",
      "  warnings.warn(\n",
      "/opt/hostedtoolcache/Python/3.8.12/x64/lib/python3.8/site-packages/sklearn/impute/_iterative.py:699: ConvergenceWarning: [IterativeImputer] Early stopping criterion not reached.\n",
      "  warnings.warn(\n",
      "/opt/hostedtoolcache/Python/3.8.12/x64/lib/python3.8/site-packages/sklearn/impute/_iterative.py:699: ConvergenceWarning: [IterativeImputer] Early stopping criterion not reached.\n",
      "  warnings.warn(\n",
      "/opt/hostedtoolcache/Python/3.8.12/x64/lib/python3.8/site-packages/sklearn/impute/_iterative.py:699: ConvergenceWarning: [IterativeImputer] Early stopping criterion not reached.\n",
      "  warnings.warn(\n",
      "/opt/hostedtoolcache/Python/3.8.12/x64/lib/python3.8/site-packages/sklearn/impute/_iterative.py:699: ConvergenceWarning: [IterativeImputer] Early stopping criterion not reached.\n",
      "  warnings.warn(\n",
      "/opt/hostedtoolcache/Python/3.8.12/x64/lib/python3.8/site-packages/sklearn/impute/_iterative.py:699: ConvergenceWarning: [IterativeImputer] Early stopping criterion not reached.\n",
      "  warnings.warn(\n",
      "/opt/hostedtoolcache/Python/3.8.12/x64/lib/python3.8/site-packages/sklearn/impute/_iterative.py:699: ConvergenceWarning: [IterativeImputer] Early stopping criterion not reached.\n",
      "  warnings.warn(\n",
      "/opt/hostedtoolcache/Python/3.8.12/x64/lib/python3.8/site-packages/sklearn/impute/_iterative.py:699: ConvergenceWarning: [IterativeImputer] Early stopping criterion not reached.\n",
      "  warnings.warn(\n",
      "/opt/hostedtoolcache/Python/3.8.12/x64/lib/python3.8/site-packages/sklearn/impute/_iterative.py:699: ConvergenceWarning: [IterativeImputer] Early stopping criterion not reached.\n",
      "  warnings.warn(\n",
      "/opt/hostedtoolcache/Python/3.8.12/x64/lib/python3.8/site-packages/sklearn/impute/_iterative.py:699: ConvergenceWarning: [IterativeImputer] Early stopping criterion not reached.\n",
      "  warnings.warn(\n",
      "/opt/hostedtoolcache/Python/3.8.12/x64/lib/python3.8/site-packages/sklearn/impute/_iterative.py:699: ConvergenceWarning: [IterativeImputer] Early stopping criterion not reached.\n",
      "  warnings.warn(\n",
      "/opt/hostedtoolcache/Python/3.8.12/x64/lib/python3.8/site-packages/sklearn/impute/_iterative.py:699: ConvergenceWarning: [IterativeImputer] Early stopping criterion not reached.\n",
      "  warnings.warn(\n",
      "/opt/hostedtoolcache/Python/3.8.12/x64/lib/python3.8/site-packages/sklearn/impute/_iterative.py:699: ConvergenceWarning: [IterativeImputer] Early stopping criterion not reached.\n",
      "  warnings.warn(\n",
      "/opt/hostedtoolcache/Python/3.8.12/x64/lib/python3.8/site-packages/sklearn/impute/_iterative.py:699: ConvergenceWarning: [IterativeImputer] Early stopping criterion not reached.\n",
      "  warnings.warn(\n",
      "/opt/hostedtoolcache/Python/3.8.12/x64/lib/python3.8/site-packages/sklearn/impute/_iterative.py:699: ConvergenceWarning: [IterativeImputer] Early stopping criterion not reached.\n",
      "  warnings.warn(\n",
      "/opt/hostedtoolcache/Python/3.8.12/x64/lib/python3.8/site-packages/sklearn/impute/_iterative.py:699: ConvergenceWarning: [IterativeImputer] Early stopping criterion not reached.\n",
      "  warnings.warn(\n",
      "/opt/hostedtoolcache/Python/3.8.12/x64/lib/python3.8/site-packages/sklearn/impute/_iterative.py:699: ConvergenceWarning: [IterativeImputer] Early stopping criterion not reached.\n",
      "  warnings.warn(\n",
      "/opt/hostedtoolcache/Python/3.8.12/x64/lib/python3.8/site-packages/sklearn/impute/_iterative.py:699: ConvergenceWarning: [IterativeImputer] Early stopping criterion not reached.\n",
      "  warnings.warn(\n",
      "/opt/hostedtoolcache/Python/3.8.12/x64/lib/python3.8/site-packages/sklearn/impute/_iterative.py:699: ConvergenceWarning: [IterativeImputer] Early stopping criterion not reached.\n",
      "  warnings.warn(\n",
      "/opt/hostedtoolcache/Python/3.8.12/x64/lib/python3.8/site-packages/sklearn/impute/_iterative.py:699: ConvergenceWarning: [IterativeImputer] Early stopping criterion not reached.\n",
      "  warnings.warn(\n",
      "/opt/hostedtoolcache/Python/3.8.12/x64/lib/python3.8/site-packages/sklearn/impute/_iterative.py:699: ConvergenceWarning: [IterativeImputer] Early stopping criterion not reached.\n",
      "  warnings.warn(\n",
      "/opt/hostedtoolcache/Python/3.8.12/x64/lib/python3.8/site-packages/sklearn/impute/_iterative.py:699: ConvergenceWarning: [IterativeImputer] Early stopping criterion not reached.\n",
      "  warnings.warn(\n",
      "/opt/hostedtoolcache/Python/3.8.12/x64/lib/python3.8/site-packages/sklearn/impute/_iterative.py:699: ConvergenceWarning: [IterativeImputer] Early stopping criterion not reached.\n",
      "  warnings.warn(\n",
      "/opt/hostedtoolcache/Python/3.8.12/x64/lib/python3.8/site-packages/sklearn/impute/_iterative.py:699: ConvergenceWarning: [IterativeImputer] Early stopping criterion not reached.\n",
      "  warnings.warn(\n"
     ]
    },
    {
     "data": {
      "image/png": "[encoded data removed]",
      "text/plain": [
       "<Figure size 432x288 with 1 Axes>"
      ]
     },
     "metadata": {
      "needs_background": "light"
     },
     "output_type": "display_data"
    },
    {
     "data": {
      "text/html": [
       "<div>\n",
       "<style scoped>\n",
       "    .dataframe tbody tr th:only-of-type {\n",
       "        vertical-align: middle;\n",
       "    }\n",
       "\n",
       "    .dataframe tbody tr th {\n",
       "        vertical-align: top;\n",
       "    }\n",
       "\n",
       "    .dataframe thead th {\n",
       "        text-align: right;\n",
       "    }\n",
       "</style>\n",
       "<table border=\"1\" class=\"dataframe\">\n",
       "  <thead>\n",
       "    <tr style=\"text-align: right;\">\n",
       "      <th></th>\n",
       "      <th>name</th>\n",
       "      <th>train_accuracy</th>\n",
       "      <th>test_accuracy</th>\n",
       "      <th>test_recall</th>\n",
       "      <th>train_recall</th>\n",
       "    </tr>\n",
       "  </thead>\n",
       "  <tbody>\n",
       "    <tr>\n",
       "      <th>0</th>\n",
       "      <td>Gradient Boosting Classifier</td>\n",
       "      <td>0.926453</td>\n",
       "      <td>0.92225</td>\n",
       "      <td>0.885593</td>\n",
       "      <td>0.931273</td>\n",
       "    </tr>\n",
       "  </tbody>\n",
       "</table>\n",
       "</div>"
      ],
      "text/plain": [
       "                           name  train_accuracy  test_accuracy  test_recall  \\\n",
       "0  Gradient Boosting Classifier        0.926453        0.92225     0.885593   \n",
       "\n",
       "   train_recall  \n",
       "0      0.931273  "
      ]
     },
     "execution_count": 50,
     "metadata": {},
     "output_type": "execute_result"
    }
   ],
   "source": [
    "from sklearn.ensemble import GradientBoostingClassifier\n",
    "gboost = imbpipeline([\n",
    "    ('Imputation',preproc),\n",
    "    ('DF Converter',DfConverter()),\n",
    "    ('SMOTE NC Oversampling',SMOTENC(categorical_features=colselect,n_jobs=-1)),\n",
    "    ('DF Converter1',DfConverter()),\n",
    "    ('Data Preprocessing', data_preprocessing),\n",
    "\n",
    "    ('Model', GradientBoostingClassifier())\n",
    "])\n",
    "record,current,lr=scoreModel(gboost,x_train,y_train,\"Gradient Boosting Classifier\",record)\n",
    "current"
   ]
  },
  {
   "cell_type": "code",
   "execution_count": 51,
   "id": "ac027f3d",
   "metadata": {
    "execution": {
     "iopub.execute_input": "2022-05-19T23:33:52.550403Z",
     "iopub.status.busy": "2022-05-19T23:33:52.549761Z",
     "iopub.status.idle": "2022-05-19T23:38:43.419311Z",
     "shell.execute_reply": "2022-05-19T23:38:43.418438Z"
    },
    "papermill": {
     "duration": 290.898616,
     "end_time": "2022-05-19T23:38:43.421460",
     "exception": false,
     "start_time": "2022-05-19T23:33:52.522844",
     "status": "completed"
    },
    "tags": []
   },
   "outputs": [
    {
     "name": "stderr",
     "output_type": "stream",
     "text": [
      "/opt/hostedtoolcache/Python/3.8.12/x64/lib/python3.8/site-packages/sklearn/impute/_iterative.py:699: ConvergenceWarning: [IterativeImputer] Early stopping criterion not reached.\n",
      "  warnings.warn(\n"
     ]
    },
    {
     "name": "stderr",
     "output_type": "stream",
     "text": [
      "/opt/hostedtoolcache/Python/3.8.12/x64/lib/python3.8/site-packages/sklearn/impute/_iterative.py:699: ConvergenceWarning: [IterativeImputer] Early stopping criterion not reached.\n",
      "  warnings.warn(\n"
     ]
    },
    {
     "name": "stderr",
     "output_type": "stream",
     "text": [
      "/opt/hostedtoolcache/Python/3.8.12/x64/lib/python3.8/site-packages/sklearn/impute/_iterative.py:699: ConvergenceWarning: [IterativeImputer] Early stopping criterion not reached.\n",
      "  warnings.warn(\n"
     ]
    },
    {
     "name": "stderr",
     "output_type": "stream",
     "text": [
      "/opt/hostedtoolcache/Python/3.8.12/x64/lib/python3.8/site-packages/sklearn/impute/_iterative.py:699: ConvergenceWarning: [IterativeImputer] Early stopping criterion not reached.\n",
      "  warnings.warn(\n"
     ]
    },
    {
     "name": "stderr",
     "output_type": "stream",
     "text": [
      "/opt/hostedtoolcache/Python/3.8.12/x64/lib/python3.8/site-packages/sklearn/impute/_iterative.py:699: ConvergenceWarning: [IterativeImputer] Early stopping criterion not reached.\n",
      "  warnings.warn(\n"
     ]
    },
    {
     "name": "stderr",
     "output_type": "stream",
     "text": [
      "/opt/hostedtoolcache/Python/3.8.12/x64/lib/python3.8/site-packages/sklearn/impute/_iterative.py:699: ConvergenceWarning: [IterativeImputer] Early stopping criterion not reached.\n",
      "  warnings.warn(\n"
     ]
    },
    {
     "name": "stderr",
     "output_type": "stream",
     "text": [
      "/opt/hostedtoolcache/Python/3.8.12/x64/lib/python3.8/site-packages/sklearn/impute/_iterative.py:699: ConvergenceWarning: [IterativeImputer] Early stopping criterion not reached.\n",
      "  warnings.warn(\n"
     ]
    },
    {
     "name": "stderr",
     "output_type": "stream",
     "text": [
      "/opt/hostedtoolcache/Python/3.8.12/x64/lib/python3.8/site-packages/sklearn/impute/_iterative.py:699: ConvergenceWarning: [IterativeImputer] Early stopping criterion not reached.\n",
      "  warnings.warn(\n"
     ]
    },
    {
     "name": "stderr",
     "output_type": "stream",
     "text": [
      "/opt/hostedtoolcache/Python/3.8.12/x64/lib/python3.8/site-packages/sklearn/impute/_iterative.py:699: ConvergenceWarning: [IterativeImputer] Early stopping criterion not reached.\n",
      "  warnings.warn(\n"
     ]
    },
    {
     "name": "stderr",
     "output_type": "stream",
     "text": [
      "/opt/hostedtoolcache/Python/3.8.12/x64/lib/python3.8/site-packages/sklearn/impute/_iterative.py:699: ConvergenceWarning: [IterativeImputer] Early stopping criterion not reached.\n",
      "  warnings.warn(\n"
     ]
    },
    {
     "name": "stderr",
     "output_type": "stream",
     "text": [
      "/opt/hostedtoolcache/Python/3.8.12/x64/lib/python3.8/site-packages/sklearn/impute/_iterative.py:699: ConvergenceWarning: [IterativeImputer] Early stopping criterion not reached.\n",
      "  warnings.warn(\n"
     ]
    },
    {
     "name": "stderr",
     "output_type": "stream",
     "text": [
      "/opt/hostedtoolcache/Python/3.8.12/x64/lib/python3.8/site-packages/sklearn/impute/_iterative.py:699: ConvergenceWarning: [IterativeImputer] Early stopping criterion not reached.\n",
      "  warnings.warn(\n"
     ]
    },
    {
     "name": "stderr",
     "output_type": "stream",
     "text": [
      "/opt/hostedtoolcache/Python/3.8.12/x64/lib/python3.8/site-packages/sklearn/impute/_iterative.py:699: ConvergenceWarning: [IterativeImputer] Early stopping criterion not reached.\n",
      "  warnings.warn(\n"
     ]
    },
    {
     "name": "stderr",
     "output_type": "stream",
     "text": [
      "/opt/hostedtoolcache/Python/3.8.12/x64/lib/python3.8/site-packages/sklearn/impute/_iterative.py:699: ConvergenceWarning: [IterativeImputer] Early stopping criterion not reached.\n",
      "  warnings.warn(\n"
     ]
    },
    {
     "name": "stderr",
     "output_type": "stream",
     "text": [
      "/opt/hostedtoolcache/Python/3.8.12/x64/lib/python3.8/site-packages/sklearn/impute/_iterative.py:699: ConvergenceWarning: [IterativeImputer] Early stopping criterion not reached.\n",
      "  warnings.warn(\n"
     ]
    },
    {
     "name": "stderr",
     "output_type": "stream",
     "text": [
      "/opt/hostedtoolcache/Python/3.8.12/x64/lib/python3.8/site-packages/sklearn/impute/_iterative.py:699: ConvergenceWarning: [IterativeImputer] Early stopping criterion not reached.\n",
      "  warnings.warn(\n"
     ]
    },
    {
     "name": "stderr",
     "output_type": "stream",
     "text": [
      "/opt/hostedtoolcache/Python/3.8.12/x64/lib/python3.8/site-packages/sklearn/impute/_iterative.py:699: ConvergenceWarning: [IterativeImputer] Early stopping criterion not reached.\n",
      "  warnings.warn(\n"
     ]
    },
    {
     "name": "stderr",
     "output_type": "stream",
     "text": [
      "/opt/hostedtoolcache/Python/3.8.12/x64/lib/python3.8/site-packages/sklearn/impute/_iterative.py:699: ConvergenceWarning: [IterativeImputer] Early stopping criterion not reached.\n",
      "  warnings.warn(\n"
     ]
    },
    {
     "name": "stderr",
     "output_type": "stream",
     "text": [
      "/opt/hostedtoolcache/Python/3.8.12/x64/lib/python3.8/site-packages/sklearn/impute/_iterative.py:699: ConvergenceWarning: [IterativeImputer] Early stopping criterion not reached.\n",
      "  warnings.warn(\n"
     ]
    },
    {
     "name": "stderr",
     "output_type": "stream",
     "text": [
      "/opt/hostedtoolcache/Python/3.8.12/x64/lib/python3.8/site-packages/sklearn/impute/_iterative.py:699: ConvergenceWarning: [IterativeImputer] Early stopping criterion not reached.\n",
      "  warnings.warn(\n"
     ]
    },
    {
     "name": "stderr",
     "output_type": "stream",
     "text": [
      "/opt/hostedtoolcache/Python/3.8.12/x64/lib/python3.8/site-packages/sklearn/impute/_iterative.py:699: ConvergenceWarning: [IterativeImputer] Early stopping criterion not reached.\n",
      "  warnings.warn(\n"
     ]
    },
    {
     "name": "stderr",
     "output_type": "stream",
     "text": [
      "/opt/hostedtoolcache/Python/3.8.12/x64/lib/python3.8/site-packages/sklearn/impute/_iterative.py:699: ConvergenceWarning: [IterativeImputer] Early stopping criterion not reached.\n",
      "  warnings.warn(\n"
     ]
    },
    {
     "name": "stderr",
     "output_type": "stream",
     "text": [
      "/opt/hostedtoolcache/Python/3.8.12/x64/lib/python3.8/site-packages/sklearn/impute/_iterative.py:699: ConvergenceWarning: [IterativeImputer] Early stopping criterion not reached.\n",
      "  warnings.warn(\n"
     ]
    },
    {
     "name": "stderr",
     "output_type": "stream",
     "text": [
      "/opt/hostedtoolcache/Python/3.8.12/x64/lib/python3.8/site-packages/sklearn/impute/_iterative.py:699: ConvergenceWarning: [IterativeImputer] Early stopping criterion not reached.\n",
      "  warnings.warn(\n"
     ]
    },
    {
     "name": "stderr",
     "output_type": "stream",
     "text": [
      "/opt/hostedtoolcache/Python/3.8.12/x64/lib/python3.8/site-packages/sklearn/impute/_iterative.py:699: ConvergenceWarning: [IterativeImputer] Early stopping criterion not reached.\n",
      "  warnings.warn(\n"
     ]
    },
    {
     "name": "stderr",
     "output_type": "stream",
     "text": [
      "/opt/hostedtoolcache/Python/3.8.12/x64/lib/python3.8/site-packages/sklearn/impute/_iterative.py:699: ConvergenceWarning: [IterativeImputer] Early stopping criterion not reached.\n",
      "  warnings.warn(\n"
     ]
    },
    {
     "name": "stderr",
     "output_type": "stream",
     "text": [
      "/opt/hostedtoolcache/Python/3.8.12/x64/lib/python3.8/site-packages/sklearn/impute/_iterative.py:699: ConvergenceWarning: [IterativeImputer] Early stopping criterion not reached.\n",
      "  warnings.warn(\n"
     ]
    },
    {
     "name": "stderr",
     "output_type": "stream",
     "text": [
      "/opt/hostedtoolcache/Python/3.8.12/x64/lib/python3.8/site-packages/sklearn/impute/_iterative.py:699: ConvergenceWarning: [IterativeImputer] Early stopping criterion not reached.\n",
      "  warnings.warn(\n"
     ]
    },
    {
     "name": "stderr",
     "output_type": "stream",
     "text": [
      "/opt/hostedtoolcache/Python/3.8.12/x64/lib/python3.8/site-packages/sklearn/impute/_iterative.py:699: ConvergenceWarning: [IterativeImputer] Early stopping criterion not reached.\n",
      "  warnings.warn(\n"
     ]
    },
    {
     "name": "stderr",
     "output_type": "stream",
     "text": [
      "/opt/hostedtoolcache/Python/3.8.12/x64/lib/python3.8/site-packages/sklearn/impute/_iterative.py:699: ConvergenceWarning: [IterativeImputer] Early stopping criterion not reached.\n",
      "  warnings.warn(\n"
     ]
    },
    {
     "data": {
      "text/html": [
       "<div>\n",
       "<style scoped>\n",
       "    .dataframe tbody tr th:only-of-type {\n",
       "        vertical-align: middle;\n",
       "    }\n",
       "\n",
       "    .dataframe tbody tr th {\n",
       "        vertical-align: top;\n",
       "    }\n",
       "\n",
       "    .dataframe thead th {\n",
       "        text-align: right;\n",
       "    }\n",
       "</style>\n",
       "<table border=\"1\" class=\"dataframe\">\n",
       "  <thead>\n",
       "    <tr style=\"text-align: right;\">\n",
       "      <th></th>\n",
       "      <th>mean_fit_time</th>\n",
       "      <th>std_fit_time</th>\n",
       "      <th>mean_score_time</th>\n",
       "      <th>std_score_time</th>\n",
       "      <th>param_Model__max_depth</th>\n",
       "      <th>params</th>\n",
       "      <th>split0_test_score</th>\n",
       "      <th>split1_test_score</th>\n",
       "      <th>split2_test_score</th>\n",
       "      <th>split3_test_score</th>\n",
       "      <th>split4_test_score</th>\n",
       "      <th>mean_test_score</th>\n",
       "      <th>std_test_score</th>\n",
       "      <th>rank_test_score</th>\n",
       "    </tr>\n",
       "  </thead>\n",
       "  <tbody>\n",
       "    <tr>\n",
       "      <th>0</th>\n",
       "      <td>5.338757</td>\n",
       "      <td>0.573114</td>\n",
       "      <td>0.058571</td>\n",
       "      <td>0.006150</td>\n",
       "      <td>1</td>\n",
       "      <td>{'Model__max_depth': 1}</td>\n",
       "      <td>0.888889</td>\n",
       "      <td>0.879630</td>\n",
       "      <td>0.898148</td>\n",
       "      <td>0.880734</td>\n",
       "      <td>0.908257</td>\n",
       "      <td>0.891131</td>\n",
       "      <td>0.010844</td>\n",
       "      <td>2</td>\n",
       "    </tr>\n",
       "    <tr>\n",
       "      <th>1</th>\n",
       "      <td>6.535041</td>\n",
       "      <td>0.065785</td>\n",
       "      <td>0.063209</td>\n",
       "      <td>0.002009</td>\n",
       "      <td>2</td>\n",
       "      <td>{'Model__max_depth': 2}</td>\n",
       "      <td>0.898148</td>\n",
       "      <td>0.861111</td>\n",
       "      <td>0.898148</td>\n",
       "      <td>0.935780</td>\n",
       "      <td>0.917431</td>\n",
       "      <td>0.902124</td>\n",
       "      <td>0.024822</td>\n",
       "      <td>1</td>\n",
       "    </tr>\n",
       "    <tr>\n",
       "      <th>2</th>\n",
       "      <td>7.006199</td>\n",
       "      <td>0.570707</td>\n",
       "      <td>0.060947</td>\n",
       "      <td>0.006800</td>\n",
       "      <td>3</td>\n",
       "      <td>{'Model__max_depth': 3}</td>\n",
       "      <td>0.888889</td>\n",
       "      <td>0.824074</td>\n",
       "      <td>0.898148</td>\n",
       "      <td>0.862385</td>\n",
       "      <td>0.908257</td>\n",
       "      <td>0.876351</td>\n",
       "      <td>0.030260</td>\n",
       "      <td>3</td>\n",
       "    </tr>\n",
       "    <tr>\n",
       "      <th>3</th>\n",
       "      <td>8.128330</td>\n",
       "      <td>0.029163</td>\n",
       "      <td>0.065106</td>\n",
       "      <td>0.001006</td>\n",
       "      <td>4</td>\n",
       "      <td>{'Model__max_depth': 4}</td>\n",
       "      <td>0.888889</td>\n",
       "      <td>0.777778</td>\n",
       "      <td>0.861111</td>\n",
       "      <td>0.871560</td>\n",
       "      <td>0.880734</td>\n",
       "      <td>0.856014</td>\n",
       "      <td>0.040200</td>\n",
       "      <td>4</td>\n",
       "    </tr>\n",
       "    <tr>\n",
       "      <th>4</th>\n",
       "      <td>8.968624</td>\n",
       "      <td>0.053378</td>\n",
       "      <td>0.066987</td>\n",
       "      <td>0.000758</td>\n",
       "      <td>5</td>\n",
       "      <td>{'Model__max_depth': 5}</td>\n",
       "      <td>0.851852</td>\n",
       "      <td>0.768519</td>\n",
       "      <td>0.842593</td>\n",
       "      <td>0.844037</td>\n",
       "      <td>0.825688</td>\n",
       "      <td>0.826538</td>\n",
       "      <td>0.030238</td>\n",
       "      <td>6</td>\n",
       "    </tr>\n",
       "    <tr>\n",
       "      <th>5</th>\n",
       "      <td>9.728919</td>\n",
       "      <td>0.055821</td>\n",
       "      <td>0.068252</td>\n",
       "      <td>0.002409</td>\n",
       "      <td>6</td>\n",
       "      <td>{'Model__max_depth': 6}</td>\n",
       "      <td>0.824074</td>\n",
       "      <td>0.759259</td>\n",
       "      <td>0.842593</td>\n",
       "      <td>0.853211</td>\n",
       "      <td>0.844037</td>\n",
       "      <td>0.824635</td>\n",
       "      <td>0.034029</td>\n",
       "      <td>7</td>\n",
       "    </tr>\n",
       "    <tr>\n",
       "      <th>6</th>\n",
       "      <td>10.345015</td>\n",
       "      <td>0.552784</td>\n",
       "      <td>0.066830</td>\n",
       "      <td>0.007299</td>\n",
       "      <td>7</td>\n",
       "      <td>{'Model__max_depth': 7}</td>\n",
       "      <td>0.805556</td>\n",
       "      <td>0.796296</td>\n",
       "      <td>0.842593</td>\n",
       "      <td>0.834862</td>\n",
       "      <td>0.862385</td>\n",
       "      <td>0.828338</td>\n",
       "      <td>0.024293</td>\n",
       "      <td>5</td>\n",
       "    </tr>\n",
       "  </tbody>\n",
       "</table>\n",
       "</div>"
      ],
      "text/plain": [
       "   mean_fit_time  std_fit_time  mean_score_time  std_score_time  \\\n",
       "0       5.338757      0.573114         0.058571        0.006150   \n",
       "1       6.535041      0.065785         0.063209        0.002009   \n",
       "2       7.006199      0.570707         0.060947        0.006800   \n",
       "3       8.128330      0.029163         0.065106        0.001006   \n",
       "4       8.968624      0.053378         0.066987        0.000758   \n",
       "5       9.728919      0.055821         0.068252        0.002409   \n",
       "6      10.345015      0.552784         0.066830        0.007299   \n",
       "\n",
       "  param_Model__max_depth                   params  split0_test_score  \\\n",
       "0                      1  {'Model__max_depth': 1}           0.888889   \n",
       "1                      2  {'Model__max_depth': 2}           0.898148   \n",
       "2                      3  {'Model__max_depth': 3}           0.888889   \n",
       "3                      4  {'Model__max_depth': 4}           0.888889   \n",
       "4                      5  {'Model__max_depth': 5}           0.851852   \n",
       "5                      6  {'Model__max_depth': 6}           0.824074   \n",
       "6                      7  {'Model__max_depth': 7}           0.805556   \n",
       "\n",
       "   split1_test_score  split2_test_score  split3_test_score  split4_test_score  \\\n",
       "0           0.879630           0.898148           0.880734           0.908257   \n",
       "1           0.861111           0.898148           0.935780           0.917431   \n",
       "2           0.824074           0.898148           0.862385           0.908257   \n",
       "3           0.777778           0.861111           0.871560           0.880734   \n",
       "4           0.768519           0.842593           0.844037           0.825688   \n",
       "5           0.759259           0.842593           0.853211           0.844037   \n",
       "6           0.796296           0.842593           0.834862           0.862385   \n",
       "\n",
       "   mean_test_score  std_test_score  rank_test_score  \n",
       "0         0.891131        0.010844                2  \n",
       "1         0.902124        0.024822                1  \n",
       "2         0.876351        0.030260                3  \n",
       "3         0.856014        0.040200                4  \n",
       "4         0.826538        0.030238                6  \n",
       "5         0.824635        0.034029                7  \n",
       "6         0.828338        0.024293                5  "
      ]
     },
     "execution_count": 51,
     "metadata": {},
     "output_type": "execute_result"
    }
   ],
   "source": [
    "parameter={'Model__max_depth':np.arange(1,8)}\n",
    "pd.DataFrame(GridSearchCV(gboost,param_grid=parameter,scoring='recall').fit(x_train,y_train).cv_results_)\n"
   ]
  },
  {
   "cell_type": "code",
   "execution_count": 52,
   "id": "a5547f31",
   "metadata": {
    "execution": {
     "iopub.execute_input": "2022-05-19T23:38:43.478506Z",
     "iopub.status.busy": "2022-05-19T23:38:43.477886Z",
     "iopub.status.idle": "2022-05-19T23:40:02.833170Z",
     "shell.execute_reply": "2022-05-19T23:40:02.832536Z"
    },
    "papermill": {
     "duration": 79.412826,
     "end_time": "2022-05-19T23:40:02.862297",
     "exception": false,
     "start_time": "2022-05-19T23:38:43.449471",
     "status": "completed"
    },
    "tags": []
   },
   "outputs": [
    {
     "name": "stderr",
     "output_type": "stream",
     "text": [
      "/opt/hostedtoolcache/Python/3.8.12/x64/lib/python3.8/site-packages/sklearn/impute/_iterative.py:699: ConvergenceWarning: [IterativeImputer] Early stopping criterion not reached.\n",
      "  warnings.warn(\n",
      "/opt/hostedtoolcache/Python/3.8.12/x64/lib/python3.8/site-packages/sklearn/impute/_iterative.py:699: ConvergenceWarning: [IterativeImputer] Early stopping criterion not reached.\n",
      "  warnings.warn(\n",
      "/opt/hostedtoolcache/Python/3.8.12/x64/lib/python3.8/site-packages/sklearn/impute/_iterative.py:699: ConvergenceWarning: [IterativeImputer] Early stopping criterion not reached.\n",
      "  warnings.warn(\n",
      "/opt/hostedtoolcache/Python/3.8.12/x64/lib/python3.8/site-packages/sklearn/impute/_iterative.py:699: ConvergenceWarning: [IterativeImputer] Early stopping criterion not reached.\n",
      "  warnings.warn(\n",
      "/opt/hostedtoolcache/Python/3.8.12/x64/lib/python3.8/site-packages/sklearn/impute/_iterative.py:699: ConvergenceWarning: [IterativeImputer] Early stopping criterion not reached.\n",
      "  warnings.warn(\n",
      "/opt/hostedtoolcache/Python/3.8.12/x64/lib/python3.8/site-packages/sklearn/impute/_iterative.py:699: ConvergenceWarning: [IterativeImputer] Early stopping criterion not reached.\n",
      "  warnings.warn(\n",
      "/opt/hostedtoolcache/Python/3.8.12/x64/lib/python3.8/site-packages/sklearn/impute/_iterative.py:699: ConvergenceWarning: [IterativeImputer] Early stopping criterion not reached.\n",
      "  warnings.warn(\n",
      "/opt/hostedtoolcache/Python/3.8.12/x64/lib/python3.8/site-packages/sklearn/impute/_iterative.py:699: ConvergenceWarning: [IterativeImputer] Early stopping criterion not reached.\n",
      "  warnings.warn(\n",
      "/opt/hostedtoolcache/Python/3.8.12/x64/lib/python3.8/site-packages/sklearn/impute/_iterative.py:699: ConvergenceWarning: [IterativeImputer] Early stopping criterion not reached.\n",
      "  warnings.warn(\n",
      "/opt/hostedtoolcache/Python/3.8.12/x64/lib/python3.8/site-packages/sklearn/impute/_iterative.py:699: ConvergenceWarning: [IterativeImputer] Early stopping criterion not reached.\n",
      "  warnings.warn(\n",
      "/opt/hostedtoolcache/Python/3.8.12/x64/lib/python3.8/site-packages/sklearn/impute/_iterative.py:699: ConvergenceWarning: [IterativeImputer] Early stopping criterion not reached.\n",
      "  warnings.warn(\n",
      "/opt/hostedtoolcache/Python/3.8.12/x64/lib/python3.8/site-packages/sklearn/impute/_iterative.py:699: ConvergenceWarning: [IterativeImputer] Early stopping criterion not reached.\n",
      "  warnings.warn(\n",
      "/opt/hostedtoolcache/Python/3.8.12/x64/lib/python3.8/site-packages/sklearn/impute/_iterative.py:699: ConvergenceWarning: [IterativeImputer] Early stopping criterion not reached.\n",
      "  warnings.warn(\n",
      "/opt/hostedtoolcache/Python/3.8.12/x64/lib/python3.8/site-packages/sklearn/impute/_iterative.py:699: ConvergenceWarning: [IterativeImputer] Early stopping criterion not reached.\n",
      "  warnings.warn(\n",
      "/opt/hostedtoolcache/Python/3.8.12/x64/lib/python3.8/site-packages/sklearn/impute/_iterative.py:699: ConvergenceWarning: [IterativeImputer] Early stopping criterion not reached.\n",
      "  warnings.warn(\n",
      "/opt/hostedtoolcache/Python/3.8.12/x64/lib/python3.8/site-packages/sklearn/impute/_iterative.py:699: ConvergenceWarning: [IterativeImputer] Early stopping criterion not reached.\n",
      "  warnings.warn(\n",
      "/opt/hostedtoolcache/Python/3.8.12/x64/lib/python3.8/site-packages/sklearn/impute/_iterative.py:699: ConvergenceWarning: [IterativeImputer] Early stopping criterion not reached.\n",
      "  warnings.warn(\n",
      "/opt/hostedtoolcache/Python/3.8.12/x64/lib/python3.8/site-packages/sklearn/impute/_iterative.py:699: ConvergenceWarning: [IterativeImputer] Early stopping criterion not reached.\n",
      "  warnings.warn(\n",
      "/opt/hostedtoolcache/Python/3.8.12/x64/lib/python3.8/site-packages/sklearn/impute/_iterative.py:699: ConvergenceWarning: [IterativeImputer] Early stopping criterion not reached.\n",
      "  warnings.warn(\n",
      "/opt/hostedtoolcache/Python/3.8.12/x64/lib/python3.8/site-packages/sklearn/impute/_iterative.py:699: ConvergenceWarning: [IterativeImputer] Early stopping criterion not reached.\n",
      "  warnings.warn(\n",
      "/opt/hostedtoolcache/Python/3.8.12/x64/lib/python3.8/site-packages/sklearn/impute/_iterative.py:699: ConvergenceWarning: [IterativeImputer] Early stopping criterion not reached.\n",
      "  warnings.warn(\n",
      "/opt/hostedtoolcache/Python/3.8.12/x64/lib/python3.8/site-packages/sklearn/impute/_iterative.py:699: ConvergenceWarning: [IterativeImputer] Early stopping criterion not reached.\n",
      "  warnings.warn(\n",
      "/opt/hostedtoolcache/Python/3.8.12/x64/lib/python3.8/site-packages/sklearn/impute/_iterative.py:699: ConvergenceWarning: [IterativeImputer] Early stopping criterion not reached.\n",
      "  warnings.warn(\n",
      "/opt/hostedtoolcache/Python/3.8.12/x64/lib/python3.8/site-packages/sklearn/impute/_iterative.py:699: ConvergenceWarning: [IterativeImputer] Early stopping criterion not reached.\n",
      "  warnings.warn(\n",
      "/opt/hostedtoolcache/Python/3.8.12/x64/lib/python3.8/site-packages/sklearn/impute/_iterative.py:699: ConvergenceWarning: [IterativeImputer] Early stopping criterion not reached.\n",
      "  warnings.warn(\n",
      "/opt/hostedtoolcache/Python/3.8.12/x64/lib/python3.8/site-packages/sklearn/impute/_iterative.py:699: ConvergenceWarning: [IterativeImputer] Early stopping criterion not reached.\n",
      "  warnings.warn(\n",
      "/opt/hostedtoolcache/Python/3.8.12/x64/lib/python3.8/site-packages/sklearn/impute/_iterative.py:699: ConvergenceWarning: [IterativeImputer] Early stopping criterion not reached.\n",
      "  warnings.warn(\n",
      "/opt/hostedtoolcache/Python/3.8.12/x64/lib/python3.8/site-packages/sklearn/impute/_iterative.py:699: ConvergenceWarning: [IterativeImputer] Early stopping criterion not reached.\n",
      "  warnings.warn(\n",
      "/opt/hostedtoolcache/Python/3.8.12/x64/lib/python3.8/site-packages/sklearn/impute/_iterative.py:699: ConvergenceWarning: [IterativeImputer] Early stopping criterion not reached.\n",
      "  warnings.warn(\n",
      "/opt/hostedtoolcache/Python/3.8.12/x64/lib/python3.8/site-packages/sklearn/impute/_iterative.py:699: ConvergenceWarning: [IterativeImputer] Early stopping criterion not reached.\n",
      "  warnings.warn(\n",
      "/opt/hostedtoolcache/Python/3.8.12/x64/lib/python3.8/site-packages/sklearn/impute/_iterative.py:699: ConvergenceWarning: [IterativeImputer] Early stopping criterion not reached.\n",
      "  warnings.warn(\n",
      "/opt/hostedtoolcache/Python/3.8.12/x64/lib/python3.8/site-packages/sklearn/impute/_iterative.py:699: ConvergenceWarning: [IterativeImputer] Early stopping criterion not reached.\n",
      "  warnings.warn(\n",
      "/opt/hostedtoolcache/Python/3.8.12/x64/lib/python3.8/site-packages/sklearn/impute/_iterative.py:699: ConvergenceWarning: [IterativeImputer] Early stopping criterion not reached.\n",
      "  warnings.warn(\n",
      "/opt/hostedtoolcache/Python/3.8.12/x64/lib/python3.8/site-packages/sklearn/impute/_iterative.py:699: ConvergenceWarning: [IterativeImputer] Early stopping criterion not reached.\n",
      "  warnings.warn(\n",
      "/opt/hostedtoolcache/Python/3.8.12/x64/lib/python3.8/site-packages/sklearn/impute/_iterative.py:699: ConvergenceWarning: [IterativeImputer] Early stopping criterion not reached.\n",
      "  warnings.warn(\n",
      "/opt/hostedtoolcache/Python/3.8.12/x64/lib/python3.8/site-packages/sklearn/impute/_iterative.py:699: ConvergenceWarning: [IterativeImputer] Early stopping criterion not reached.\n",
      "  warnings.warn(\n",
      "/opt/hostedtoolcache/Python/3.8.12/x64/lib/python3.8/site-packages/sklearn/impute/_iterative.py:699: ConvergenceWarning: [IterativeImputer] Early stopping criterion not reached.\n",
      "  warnings.warn(\n",
      "/opt/hostedtoolcache/Python/3.8.12/x64/lib/python3.8/site-packages/sklearn/impute/_iterative.py:699: ConvergenceWarning: [IterativeImputer] Early stopping criterion not reached.\n",
      "  warnings.warn(\n",
      "/opt/hostedtoolcache/Python/3.8.12/x64/lib/python3.8/site-packages/sklearn/impute/_iterative.py:699: ConvergenceWarning: [IterativeImputer] Early stopping criterion not reached.\n",
      "  warnings.warn(\n",
      "/opt/hostedtoolcache/Python/3.8.12/x64/lib/python3.8/site-packages/sklearn/impute/_iterative.py:699: ConvergenceWarning: [IterativeImputer] Early stopping criterion not reached.\n",
      "  warnings.warn(\n",
      "/opt/hostedtoolcache/Python/3.8.12/x64/lib/python3.8/site-packages/sklearn/impute/_iterative.py:699: ConvergenceWarning: [IterativeImputer] Early stopping criterion not reached.\n",
      "  warnings.warn(\n",
      "/opt/hostedtoolcache/Python/3.8.12/x64/lib/python3.8/site-packages/sklearn/impute/_iterative.py:699: ConvergenceWarning: [IterativeImputer] Early stopping criterion not reached.\n",
      "  warnings.warn(\n"
     ]
    },
    {
     "data": {
      "image/png": "[encoded data removed]",
      "text/plain": [
       "<Figure size 432x288 with 1 Axes>"
      ]
     },
     "metadata": {
      "needs_background": "light"
     },
     "output_type": "display_data"
    },
    {
     "data": {
      "text/html": [
       "<div>\n",
       "<style scoped>\n",
       "    .dataframe tbody tr th:only-of-type {\n",
       "        vertical-align: middle;\n",
       "    }\n",
       "\n",
       "    .dataframe tbody tr th {\n",
       "        vertical-align: top;\n",
       "    }\n",
       "\n",
       "    .dataframe thead th {\n",
       "        text-align: right;\n",
       "    }\n",
       "</style>\n",
       "<table border=\"1\" class=\"dataframe\">\n",
       "  <thead>\n",
       "    <tr style=\"text-align: right;\">\n",
       "      <th></th>\n",
       "      <th>name</th>\n",
       "      <th>train_accuracy</th>\n",
       "      <th>test_accuracy</th>\n",
       "      <th>test_recall</th>\n",
       "      <th>train_recall</th>\n",
       "    </tr>\n",
       "  </thead>\n",
       "  <tbody>\n",
       "    <tr>\n",
       "      <th>0</th>\n",
       "      <td>Hist Gradiet Boosting Tree</td>\n",
       "      <td>0.905484</td>\n",
       "      <td>0.902187</td>\n",
       "      <td>0.905946</td>\n",
       "      <td>0.922049</td>\n",
       "    </tr>\n",
       "  </tbody>\n",
       "</table>\n",
       "</div>"
      ],
      "text/plain": [
       "                         name  train_accuracy  test_accuracy  test_recall  \\\n",
       "0  Hist Gradiet Boosting Tree        0.905484       0.902187     0.905946   \n",
       "\n",
       "   train_recall  \n",
       "0      0.922049  "
      ]
     },
     "execution_count": 52,
     "metadata": {},
     "output_type": "execute_result"
    }
   ],
   "source": [
    "from sklearn.ensemble import HistGradientBoostingClassifier\n",
    "histboost = imbpipeline([\n",
    "    ('Imputation',preproc),\n",
    "    ('DF Converter',DfConverter()),\n",
    "    ('SMOTE NC Oversampling',SMOTENC(categorical_features=colselect,n_jobs=-1)),\n",
    "    ('DF Converter1',DfConverter()),\n",
    "    ('Data Preprocessing', data_preprocessing),\n",
    "\n",
    "    ('Model', HistGradientBoostingClassifier(max_depth=2))\n",
    "])\n",
    "record,current,lr=scoreModel(histboost,x_train,y_train,\"Hist Gradiet Boosting Tree\",record)\n",
    "current"
   ]
  },
  {
   "cell_type": "code",
   "execution_count": 53,
   "id": "60919ab0",
   "metadata": {
    "execution": {
     "iopub.execute_input": "2022-05-19T23:40:02.920190Z",
     "iopub.status.busy": "2022-05-19T23:40:02.919819Z",
     "iopub.status.idle": "2022-05-19T23:43:09.759218Z",
     "shell.execute_reply": "2022-05-19T23:43:09.757942Z"
    },
    "papermill": {
     "duration": 186.870637,
     "end_time": "2022-05-19T23:43:09.760923",
     "exception": false,
     "start_time": "2022-05-19T23:40:02.890286",
     "status": "completed"
    },
    "tags": []
   },
   "outputs": [
    {
     "name": "stderr",
     "output_type": "stream",
     "text": [
      "/opt/hostedtoolcache/Python/3.8.12/x64/lib/python3.8/site-packages/sklearn/impute/_iterative.py:699: ConvergenceWarning: [IterativeImputer] Early stopping criterion not reached.\n",
      "  warnings.warn(\n"
     ]
    },
    {
     "name": "stderr",
     "output_type": "stream",
     "text": [
      "/opt/hostedtoolcache/Python/3.8.12/x64/lib/python3.8/site-packages/sklearn/impute/_iterative.py:699: ConvergenceWarning: [IterativeImputer] Early stopping criterion not reached.\n",
      "  warnings.warn(\n"
     ]
    },
    {
     "name": "stderr",
     "output_type": "stream",
     "text": [
      "/opt/hostedtoolcache/Python/3.8.12/x64/lib/python3.8/site-packages/sklearn/impute/_iterative.py:699: ConvergenceWarning: [IterativeImputer] Early stopping criterion not reached.\n",
      "  warnings.warn(\n"
     ]
    },
    {
     "name": "stderr",
     "output_type": "stream",
     "text": [
      "/opt/hostedtoolcache/Python/3.8.12/x64/lib/python3.8/site-packages/sklearn/impute/_iterative.py:699: ConvergenceWarning: [IterativeImputer] Early stopping criterion not reached.\n",
      "  warnings.warn(\n"
     ]
    },
    {
     "name": "stderr",
     "output_type": "stream",
     "text": [
      "/opt/hostedtoolcache/Python/3.8.12/x64/lib/python3.8/site-packages/sklearn/impute/_iterative.py:699: ConvergenceWarning: [IterativeImputer] Early stopping criterion not reached.\n",
      "  warnings.warn(\n"
     ]
    },
    {
     "name": "stderr",
     "output_type": "stream",
     "text": [
      "/opt/hostedtoolcache/Python/3.8.12/x64/lib/python3.8/site-packages/sklearn/impute/_iterative.py:699: ConvergenceWarning: [IterativeImputer] Early stopping criterion not reached.\n",
      "  warnings.warn(\n"
     ]
    },
    {
     "name": "stderr",
     "output_type": "stream",
     "text": [
      "/opt/hostedtoolcache/Python/3.8.12/x64/lib/python3.8/site-packages/sklearn/impute/_iterative.py:699: ConvergenceWarning: [IterativeImputer] Early stopping criterion not reached.\n",
      "  warnings.warn(\n"
     ]
    },
    {
     "name": "stderr",
     "output_type": "stream",
     "text": [
      "/opt/hostedtoolcache/Python/3.8.12/x64/lib/python3.8/site-packages/sklearn/impute/_iterative.py:699: ConvergenceWarning: [IterativeImputer] Early stopping criterion not reached.\n",
      "  warnings.warn(\n"
     ]
    },
    {
     "name": "stderr",
     "output_type": "stream",
     "text": [
      "/opt/hostedtoolcache/Python/3.8.12/x64/lib/python3.8/site-packages/sklearn/impute/_iterative.py:699: ConvergenceWarning: [IterativeImputer] Early stopping criterion not reached.\n",
      "  warnings.warn(\n"
     ]
    },
    {
     "name": "stderr",
     "output_type": "stream",
     "text": [
      "/opt/hostedtoolcache/Python/3.8.12/x64/lib/python3.8/site-packages/sklearn/impute/_iterative.py:699: ConvergenceWarning: [IterativeImputer] Early stopping criterion not reached.\n",
      "  warnings.warn(\n"
     ]
    },
    {
     "name": "stderr",
     "output_type": "stream",
     "text": [
      "/opt/hostedtoolcache/Python/3.8.12/x64/lib/python3.8/site-packages/sklearn/impute/_iterative.py:699: ConvergenceWarning: [IterativeImputer] Early stopping criterion not reached.\n",
      "  warnings.warn(\n"
     ]
    },
    {
     "name": "stderr",
     "output_type": "stream",
     "text": [
      "/opt/hostedtoolcache/Python/3.8.12/x64/lib/python3.8/site-packages/sklearn/impute/_iterative.py:699: ConvergenceWarning: [IterativeImputer] Early stopping criterion not reached.\n",
      "  warnings.warn(\n"
     ]
    },
    {
     "name": "stderr",
     "output_type": "stream",
     "text": [
      "/opt/hostedtoolcache/Python/3.8.12/x64/lib/python3.8/site-packages/sklearn/impute/_iterative.py:699: ConvergenceWarning: [IterativeImputer] Early stopping criterion not reached.\n",
      "  warnings.warn(\n"
     ]
    },
    {
     "name": "stderr",
     "output_type": "stream",
     "text": [
      "/opt/hostedtoolcache/Python/3.8.12/x64/lib/python3.8/site-packages/sklearn/impute/_iterative.py:699: ConvergenceWarning: [IterativeImputer] Early stopping criterion not reached.\n",
      "  warnings.warn(\n"
     ]
    },
    {
     "name": "stderr",
     "output_type": "stream",
     "text": [
      "/opt/hostedtoolcache/Python/3.8.12/x64/lib/python3.8/site-packages/sklearn/impute/_iterative.py:699: ConvergenceWarning: [IterativeImputer] Early stopping criterion not reached.\n",
      "  warnings.warn(\n"
     ]
    },
    {
     "name": "stderr",
     "output_type": "stream",
     "text": [
      "/opt/hostedtoolcache/Python/3.8.12/x64/lib/python3.8/site-packages/sklearn/impute/_iterative.py:699: ConvergenceWarning: [IterativeImputer] Early stopping criterion not reached.\n",
      "  warnings.warn(\n"
     ]
    },
    {
     "name": "stderr",
     "output_type": "stream",
     "text": [
      "/opt/hostedtoolcache/Python/3.8.12/x64/lib/python3.8/site-packages/sklearn/impute/_iterative.py:699: ConvergenceWarning: [IterativeImputer] Early stopping criterion not reached.\n",
      "  warnings.warn(\n"
     ]
    },
    {
     "name": "stderr",
     "output_type": "stream",
     "text": [
      "/opt/hostedtoolcache/Python/3.8.12/x64/lib/python3.8/site-packages/sklearn/impute/_iterative.py:699: ConvergenceWarning: [IterativeImputer] Early stopping criterion not reached.\n",
      "  warnings.warn(\n"
     ]
    },
    {
     "name": "stderr",
     "output_type": "stream",
     "text": [
      "/opt/hostedtoolcache/Python/3.8.12/x64/lib/python3.8/site-packages/sklearn/impute/_iterative.py:699: ConvergenceWarning: [IterativeImputer] Early stopping criterion not reached.\n",
      "  warnings.warn(\n"
     ]
    },
    {
     "name": "stderr",
     "output_type": "stream",
     "text": [
      "/opt/hostedtoolcache/Python/3.8.12/x64/lib/python3.8/site-packages/sklearn/impute/_iterative.py:699: ConvergenceWarning: [IterativeImputer] Early stopping criterion not reached.\n",
      "  warnings.warn(\n"
     ]
    },
    {
     "name": "stderr",
     "output_type": "stream",
     "text": [
      "/opt/hostedtoolcache/Python/3.8.12/x64/lib/python3.8/site-packages/sklearn/impute/_iterative.py:699: ConvergenceWarning: [IterativeImputer] Early stopping criterion not reached.\n",
      "  warnings.warn(\n"
     ]
    },
    {
     "name": "stderr",
     "output_type": "stream",
     "text": [
      "/opt/hostedtoolcache/Python/3.8.12/x64/lib/python3.8/site-packages/sklearn/impute/_iterative.py:699: ConvergenceWarning: [IterativeImputer] Early stopping criterion not reached.\n",
      "  warnings.warn(\n"
     ]
    },
    {
     "name": "stderr",
     "output_type": "stream",
     "text": [
      "/opt/hostedtoolcache/Python/3.8.12/x64/lib/python3.8/site-packages/sklearn/impute/_iterative.py:699: ConvergenceWarning: [IterativeImputer] Early stopping criterion not reached.\n",
      "  warnings.warn(\n"
     ]
    },
    {
     "name": "stderr",
     "output_type": "stream",
     "text": [
      "/opt/hostedtoolcache/Python/3.8.12/x64/lib/python3.8/site-packages/sklearn/impute/_iterative.py:699: ConvergenceWarning: [IterativeImputer] Early stopping criterion not reached.\n",
      "  warnings.warn(\n"
     ]
    },
    {
     "name": "stderr",
     "output_type": "stream",
     "text": [
      "/opt/hostedtoolcache/Python/3.8.12/x64/lib/python3.8/site-packages/sklearn/impute/_iterative.py:699: ConvergenceWarning: [IterativeImputer] Early stopping criterion not reached.\n",
      "  warnings.warn(\n"
     ]
    },
    {
     "name": "stderr",
     "output_type": "stream",
     "text": [
      "/opt/hostedtoolcache/Python/3.8.12/x64/lib/python3.8/site-packages/sklearn/impute/_iterative.py:699: ConvergenceWarning: [IterativeImputer] Early stopping criterion not reached.\n",
      "  warnings.warn(\n"
     ]
    },
    {
     "name": "stderr",
     "output_type": "stream",
     "text": [
      "/opt/hostedtoolcache/Python/3.8.12/x64/lib/python3.8/site-packages/sklearn/impute/_iterative.py:699: ConvergenceWarning: [IterativeImputer] Early stopping criterion not reached.\n",
      "  warnings.warn(\n"
     ]
    },
    {
     "name": "stderr",
     "output_type": "stream",
     "text": [
      "/opt/hostedtoolcache/Python/3.8.12/x64/lib/python3.8/site-packages/sklearn/impute/_iterative.py:699: ConvergenceWarning: [IterativeImputer] Early stopping criterion not reached.\n",
      "  warnings.warn(\n"
     ]
    },
    {
     "name": "stderr",
     "output_type": "stream",
     "text": [
      "/opt/hostedtoolcache/Python/3.8.12/x64/lib/python3.8/site-packages/sklearn/impute/_iterative.py:699: ConvergenceWarning: [IterativeImputer] Early stopping criterion not reached.\n",
      "  warnings.warn(\n"
     ]
    },
    {
     "name": "stderr",
     "output_type": "stream",
     "text": [
      "/opt/hostedtoolcache/Python/3.8.12/x64/lib/python3.8/site-packages/sklearn/impute/_iterative.py:699: ConvergenceWarning: [IterativeImputer] Early stopping criterion not reached.\n",
      "  warnings.warn(\n"
     ]
    },
    {
     "name": "stderr",
     "output_type": "stream",
     "text": [
      "/opt/hostedtoolcache/Python/3.8.12/x64/lib/python3.8/site-packages/sklearn/impute/_iterative.py:699: ConvergenceWarning: [IterativeImputer] Early stopping criterion not reached.\n",
      "  warnings.warn(\n"
     ]
    },
    {
     "data": {
      "text/html": [
       "<div>\n",
       "<style scoped>\n",
       "    .dataframe tbody tr th:only-of-type {\n",
       "        vertical-align: middle;\n",
       "    }\n",
       "\n",
       "    .dataframe tbody tr th {\n",
       "        vertical-align: top;\n",
       "    }\n",
       "\n",
       "    .dataframe thead th {\n",
       "        text-align: right;\n",
       "    }\n",
       "</style>\n",
       "<table border=\"1\" class=\"dataframe\">\n",
       "  <thead>\n",
       "    <tr style=\"text-align: right;\">\n",
       "      <th></th>\n",
       "      <th>mean_fit_time</th>\n",
       "      <th>std_fit_time</th>\n",
       "      <th>mean_score_time</th>\n",
       "      <th>std_score_time</th>\n",
       "      <th>param_Model__max_depth</th>\n",
       "      <th>params</th>\n",
       "      <th>split0_test_score</th>\n",
       "      <th>split1_test_score</th>\n",
       "      <th>split2_test_score</th>\n",
       "      <th>split3_test_score</th>\n",
       "      <th>split4_test_score</th>\n",
       "      <th>mean_test_score</th>\n",
       "      <th>std_test_score</th>\n",
       "      <th>rank_test_score</th>\n",
       "    </tr>\n",
       "  </thead>\n",
       "  <tbody>\n",
       "    <tr>\n",
       "      <th>0</th>\n",
       "      <td>4.763349</td>\n",
       "      <td>0.047482</td>\n",
       "      <td>0.070026</td>\n",
       "      <td>0.001465</td>\n",
       "      <td>1</td>\n",
       "      <td>{'Model__max_depth': 1}</td>\n",
       "      <td>0.879630</td>\n",
       "      <td>0.879630</td>\n",
       "      <td>0.898148</td>\n",
       "      <td>0.889908</td>\n",
       "      <td>0.917431</td>\n",
       "      <td>0.892949</td>\n",
       "      <td>0.014075</td>\n",
       "      <td>1</td>\n",
       "    </tr>\n",
       "    <tr>\n",
       "      <th>1</th>\n",
       "      <td>4.587012</td>\n",
       "      <td>0.597845</td>\n",
       "      <td>0.067335</td>\n",
       "      <td>0.006340</td>\n",
       "      <td>2</td>\n",
       "      <td>{'Model__max_depth': 2}</td>\n",
       "      <td>0.861111</td>\n",
       "      <td>0.870370</td>\n",
       "      <td>0.898148</td>\n",
       "      <td>0.917431</td>\n",
       "      <td>0.917431</td>\n",
       "      <td>0.892898</td>\n",
       "      <td>0.023449</td>\n",
       "      <td>2</td>\n",
       "    </tr>\n",
       "    <tr>\n",
       "      <th>2</th>\n",
       "      <td>4.911262</td>\n",
       "      <td>0.029174</td>\n",
       "      <td>0.071669</td>\n",
       "      <td>0.002819</td>\n",
       "      <td>3</td>\n",
       "      <td>{'Model__max_depth': 3}</td>\n",
       "      <td>0.888889</td>\n",
       "      <td>0.851852</td>\n",
       "      <td>0.888889</td>\n",
       "      <td>0.889908</td>\n",
       "      <td>0.899083</td>\n",
       "      <td>0.883724</td>\n",
       "      <td>0.016391</td>\n",
       "      <td>3</td>\n",
       "    </tr>\n",
       "    <tr>\n",
       "      <th>3</th>\n",
       "      <td>5.069565</td>\n",
       "      <td>0.049969</td>\n",
       "      <td>0.072605</td>\n",
       "      <td>0.001498</td>\n",
       "      <td>4</td>\n",
       "      <td>{'Model__max_depth': 4}</td>\n",
       "      <td>0.861111</td>\n",
       "      <td>0.851852</td>\n",
       "      <td>0.879630</td>\n",
       "      <td>0.880734</td>\n",
       "      <td>0.880734</td>\n",
       "      <td>0.870812</td>\n",
       "      <td>0.012068</td>\n",
       "      <td>4</td>\n",
       "    </tr>\n",
       "    <tr>\n",
       "      <th>4</th>\n",
       "      <td>5.152837</td>\n",
       "      <td>0.586180</td>\n",
       "      <td>0.072772</td>\n",
       "      <td>0.007948</td>\n",
       "      <td>5</td>\n",
       "      <td>{'Model__max_depth': 5}</td>\n",
       "      <td>0.870370</td>\n",
       "      <td>0.805556</td>\n",
       "      <td>0.870370</td>\n",
       "      <td>0.853211</td>\n",
       "      <td>0.862385</td>\n",
       "      <td>0.852379</td>\n",
       "      <td>0.024251</td>\n",
       "      <td>5</td>\n",
       "    </tr>\n",
       "    <tr>\n",
       "      <th>5</th>\n",
       "      <td>5.534897</td>\n",
       "      <td>0.042834</td>\n",
       "      <td>0.075935</td>\n",
       "      <td>0.001067</td>\n",
       "      <td>6</td>\n",
       "      <td>{'Model__max_depth': 6}</td>\n",
       "      <td>0.833333</td>\n",
       "      <td>0.814815</td>\n",
       "      <td>0.851852</td>\n",
       "      <td>0.844037</td>\n",
       "      <td>0.871560</td>\n",
       "      <td>0.843119</td>\n",
       "      <td>0.018883</td>\n",
       "      <td>6</td>\n",
       "    </tr>\n",
       "    <tr>\n",
       "      <th>6</th>\n",
       "      <td>5.613728</td>\n",
       "      <td>0.053006</td>\n",
       "      <td>0.076925</td>\n",
       "      <td>0.000946</td>\n",
       "      <td>7</td>\n",
       "      <td>{'Model__max_depth': 7}</td>\n",
       "      <td>0.842593</td>\n",
       "      <td>0.787037</td>\n",
       "      <td>0.833333</td>\n",
       "      <td>0.844037</td>\n",
       "      <td>0.871560</td>\n",
       "      <td>0.835712</td>\n",
       "      <td>0.027483</td>\n",
       "      <td>7</td>\n",
       "    </tr>\n",
       "  </tbody>\n",
       "</table>\n",
       "</div>"
      ],
      "text/plain": [
       "   mean_fit_time  std_fit_time  mean_score_time  std_score_time  \\\n",
       "0       4.763349      0.047482         0.070026        0.001465   \n",
       "1       4.587012      0.597845         0.067335        0.006340   \n",
       "2       4.911262      0.029174         0.071669        0.002819   \n",
       "3       5.069565      0.049969         0.072605        0.001498   \n",
       "4       5.152837      0.586180         0.072772        0.007948   \n",
       "5       5.534897      0.042834         0.075935        0.001067   \n",
       "6       5.613728      0.053006         0.076925        0.000946   \n",
       "\n",
       "  param_Model__max_depth                   params  split0_test_score  \\\n",
       "0                      1  {'Model__max_depth': 1}           0.879630   \n",
       "1                      2  {'Model__max_depth': 2}           0.861111   \n",
       "2                      3  {'Model__max_depth': 3}           0.888889   \n",
       "3                      4  {'Model__max_depth': 4}           0.861111   \n",
       "4                      5  {'Model__max_depth': 5}           0.870370   \n",
       "5                      6  {'Model__max_depth': 6}           0.833333   \n",
       "6                      7  {'Model__max_depth': 7}           0.842593   \n",
       "\n",
       "   split1_test_score  split2_test_score  split3_test_score  split4_test_score  \\\n",
       "0           0.879630           0.898148           0.889908           0.917431   \n",
       "1           0.870370           0.898148           0.917431           0.917431   \n",
       "2           0.851852           0.888889           0.889908           0.899083   \n",
       "3           0.851852           0.879630           0.880734           0.880734   \n",
       "4           0.805556           0.870370           0.853211           0.862385   \n",
       "5           0.814815           0.851852           0.844037           0.871560   \n",
       "6           0.787037           0.833333           0.844037           0.871560   \n",
       "\n",
       "   mean_test_score  std_test_score  rank_test_score  \n",
       "0         0.892949        0.014075                1  \n",
       "1         0.892898        0.023449                2  \n",
       "2         0.883724        0.016391                3  \n",
       "3         0.870812        0.012068                4  \n",
       "4         0.852379        0.024251                5  \n",
       "5         0.843119        0.018883                6  \n",
       "6         0.835712        0.027483                7  "
      ]
     },
     "execution_count": 53,
     "metadata": {},
     "output_type": "execute_result"
    }
   ],
   "source": [
    "parameter={'Model__max_depth':np.arange(1,8)}\n",
    "pd.DataFrame(GridSearchCV(histboost,param_grid=parameter,scoring='recall').fit(x_train,y_train).cv_results_)\n"
   ]
  },
  {
   "cell_type": "code",
   "execution_count": 54,
   "id": "ddff7804",
   "metadata": {
    "execution": {
     "iopub.execute_input": "2022-05-19T23:43:09.822915Z",
     "iopub.status.busy": "2022-05-19T23:43:09.822269Z",
     "iopub.status.idle": "2022-05-19T23:46:10.573388Z",
     "shell.execute_reply": "2022-05-19T23:46:10.572687Z"
    },
    "papermill": {
     "duration": 180.784102,
     "end_time": "2022-05-19T23:46:10.575157",
     "exception": false,
     "start_time": "2022-05-19T23:43:09.791055",
     "status": "completed"
    },
    "tags": []
   },
   "outputs": [
    {
     "name": "stderr",
     "output_type": "stream",
     "text": [
      "/opt/hostedtoolcache/Python/3.8.12/x64/lib/python3.8/site-packages/sklearn/impute/_iterative.py:699: ConvergenceWarning: [IterativeImputer] Early stopping criterion not reached.\n",
      "  warnings.warn(\n"
     ]
    },
    {
     "name": "stderr",
     "output_type": "stream",
     "text": [
      "/opt/hostedtoolcache/Python/3.8.12/x64/lib/python3.8/site-packages/sklearn/impute/_iterative.py:699: ConvergenceWarning: [IterativeImputer] Early stopping criterion not reached.\n",
      "  warnings.warn(\n"
     ]
    },
    {
     "name": "stderr",
     "output_type": "stream",
     "text": [
      "/opt/hostedtoolcache/Python/3.8.12/x64/lib/python3.8/site-packages/sklearn/impute/_iterative.py:699: ConvergenceWarning: [IterativeImputer] Early stopping criterion not reached.\n",
      "  warnings.warn(\n"
     ]
    },
    {
     "name": "stderr",
     "output_type": "stream",
     "text": [
      "/opt/hostedtoolcache/Python/3.8.12/x64/lib/python3.8/site-packages/sklearn/impute/_iterative.py:699: ConvergenceWarning: [IterativeImputer] Early stopping criterion not reached.\n",
      "  warnings.warn(\n"
     ]
    },
    {
     "name": "stderr",
     "output_type": "stream",
     "text": [
      "/opt/hostedtoolcache/Python/3.8.12/x64/lib/python3.8/site-packages/sklearn/impute/_iterative.py:699: ConvergenceWarning: [IterativeImputer] Early stopping criterion not reached.\n",
      "  warnings.warn(\n"
     ]
    },
    {
     "name": "stderr",
     "output_type": "stream",
     "text": [
      "/opt/hostedtoolcache/Python/3.8.12/x64/lib/python3.8/site-packages/sklearn/impute/_iterative.py:699: ConvergenceWarning: [IterativeImputer] Early stopping criterion not reached.\n",
      "  warnings.warn(\n"
     ]
    },
    {
     "name": "stderr",
     "output_type": "stream",
     "text": [
      "/opt/hostedtoolcache/Python/3.8.12/x64/lib/python3.8/site-packages/sklearn/impute/_iterative.py:699: ConvergenceWarning: [IterativeImputer] Early stopping criterion not reached.\n",
      "  warnings.warn(\n"
     ]
    },
    {
     "name": "stderr",
     "output_type": "stream",
     "text": [
      "/opt/hostedtoolcache/Python/3.8.12/x64/lib/python3.8/site-packages/sklearn/impute/_iterative.py:699: ConvergenceWarning: [IterativeImputer] Early stopping criterion not reached.\n",
      "  warnings.warn(\n"
     ]
    },
    {
     "name": "stderr",
     "output_type": "stream",
     "text": [
      "/opt/hostedtoolcache/Python/3.8.12/x64/lib/python3.8/site-packages/sklearn/impute/_iterative.py:699: ConvergenceWarning: [IterativeImputer] Early stopping criterion not reached.\n",
      "  warnings.warn(\n"
     ]
    },
    {
     "name": "stderr",
     "output_type": "stream",
     "text": [
      "/opt/hostedtoolcache/Python/3.8.12/x64/lib/python3.8/site-packages/sklearn/impute/_iterative.py:699: ConvergenceWarning: [IterativeImputer] Early stopping criterion not reached.\n",
      "  warnings.warn(\n"
     ]
    },
    {
     "name": "stderr",
     "output_type": "stream",
     "text": [
      "/opt/hostedtoolcache/Python/3.8.12/x64/lib/python3.8/site-packages/sklearn/impute/_iterative.py:699: ConvergenceWarning: [IterativeImputer] Early stopping criterion not reached.\n",
      "  warnings.warn(\n"
     ]
    },
    {
     "name": "stderr",
     "output_type": "stream",
     "text": [
      "/opt/hostedtoolcache/Python/3.8.12/x64/lib/python3.8/site-packages/sklearn/impute/_iterative.py:699: ConvergenceWarning: [IterativeImputer] Early stopping criterion not reached.\n",
      "  warnings.warn(\n"
     ]
    },
    {
     "name": "stderr",
     "output_type": "stream",
     "text": [
      "/opt/hostedtoolcache/Python/3.8.12/x64/lib/python3.8/site-packages/sklearn/impute/_iterative.py:699: ConvergenceWarning: [IterativeImputer] Early stopping criterion not reached.\n",
      "  warnings.warn(\n"
     ]
    },
    {
     "name": "stderr",
     "output_type": "stream",
     "text": [
      "/opt/hostedtoolcache/Python/3.8.12/x64/lib/python3.8/site-packages/sklearn/impute/_iterative.py:699: ConvergenceWarning: [IterativeImputer] Early stopping criterion not reached.\n",
      "  warnings.warn(\n"
     ]
    },
    {
     "name": "stderr",
     "output_type": "stream",
     "text": [
      "/opt/hostedtoolcache/Python/3.8.12/x64/lib/python3.8/site-packages/sklearn/impute/_iterative.py:699: ConvergenceWarning: [IterativeImputer] Early stopping criterion not reached.\n",
      "  warnings.warn(\n"
     ]
    },
    {
     "name": "stderr",
     "output_type": "stream",
     "text": [
      "/opt/hostedtoolcache/Python/3.8.12/x64/lib/python3.8/site-packages/sklearn/impute/_iterative.py:699: ConvergenceWarning: [IterativeImputer] Early stopping criterion not reached.\n",
      "  warnings.warn(\n"
     ]
    },
    {
     "name": "stderr",
     "output_type": "stream",
     "text": [
      "/opt/hostedtoolcache/Python/3.8.12/x64/lib/python3.8/site-packages/sklearn/impute/_iterative.py:699: ConvergenceWarning: [IterativeImputer] Early stopping criterion not reached.\n",
      "  warnings.warn(\n"
     ]
    },
    {
     "name": "stderr",
     "output_type": "stream",
     "text": [
      "/opt/hostedtoolcache/Python/3.8.12/x64/lib/python3.8/site-packages/sklearn/impute/_iterative.py:699: ConvergenceWarning: [IterativeImputer] Early stopping criterion not reached.\n",
      "  warnings.warn(\n"
     ]
    },
    {
     "name": "stderr",
     "output_type": "stream",
     "text": [
      "/opt/hostedtoolcache/Python/3.8.12/x64/lib/python3.8/site-packages/sklearn/impute/_iterative.py:699: ConvergenceWarning: [IterativeImputer] Early stopping criterion not reached.\n",
      "  warnings.warn(\n"
     ]
    },
    {
     "name": "stderr",
     "output_type": "stream",
     "text": [
      "/opt/hostedtoolcache/Python/3.8.12/x64/lib/python3.8/site-packages/sklearn/impute/_iterative.py:699: ConvergenceWarning: [IterativeImputer] Early stopping criterion not reached.\n",
      "  warnings.warn(\n"
     ]
    },
    {
     "name": "stderr",
     "output_type": "stream",
     "text": [
      "/opt/hostedtoolcache/Python/3.8.12/x64/lib/python3.8/site-packages/sklearn/impute/_iterative.py:699: ConvergenceWarning: [IterativeImputer] Early stopping criterion not reached.\n",
      "  warnings.warn(\n"
     ]
    },
    {
     "name": "stderr",
     "output_type": "stream",
     "text": [
      "/opt/hostedtoolcache/Python/3.8.12/x64/lib/python3.8/site-packages/sklearn/impute/_iterative.py:699: ConvergenceWarning: [IterativeImputer] Early stopping criterion not reached.\n",
      "  warnings.warn(\n"
     ]
    },
    {
     "name": "stderr",
     "output_type": "stream",
     "text": [
      "/opt/hostedtoolcache/Python/3.8.12/x64/lib/python3.8/site-packages/sklearn/impute/_iterative.py:699: ConvergenceWarning: [IterativeImputer] Early stopping criterion not reached.\n",
      "  warnings.warn(\n"
     ]
    },
    {
     "name": "stderr",
     "output_type": "stream",
     "text": [
      "/opt/hostedtoolcache/Python/3.8.12/x64/lib/python3.8/site-packages/sklearn/impute/_iterative.py:699: ConvergenceWarning: [IterativeImputer] Early stopping criterion not reached.\n",
      "  warnings.warn(\n"
     ]
    },
    {
     "name": "stderr",
     "output_type": "stream",
     "text": [
      "/opt/hostedtoolcache/Python/3.8.12/x64/lib/python3.8/site-packages/sklearn/impute/_iterative.py:699: ConvergenceWarning: [IterativeImputer] Early stopping criterion not reached.\n",
      "  warnings.warn(\n"
     ]
    },
    {
     "name": "stderr",
     "output_type": "stream",
     "text": [
      "/opt/hostedtoolcache/Python/3.8.12/x64/lib/python3.8/site-packages/sklearn/impute/_iterative.py:699: ConvergenceWarning: [IterativeImputer] Early stopping criterion not reached.\n",
      "  warnings.warn(\n"
     ]
    },
    {
     "name": "stderr",
     "output_type": "stream",
     "text": [
      "/opt/hostedtoolcache/Python/3.8.12/x64/lib/python3.8/site-packages/sklearn/impute/_iterative.py:699: ConvergenceWarning: [IterativeImputer] Early stopping criterion not reached.\n",
      "  warnings.warn(\n"
     ]
    },
    {
     "name": "stderr",
     "output_type": "stream",
     "text": [
      "/opt/hostedtoolcache/Python/3.8.12/x64/lib/python3.8/site-packages/sklearn/impute/_iterative.py:699: ConvergenceWarning: [IterativeImputer] Early stopping criterion not reached.\n",
      "  warnings.warn(\n"
     ]
    },
    {
     "data": {
      "image/png": "[encoded data removed]",
      "text/plain": [
       "<Figure size 432x288 with 1 Axes>"
      ]
     },
     "metadata": {
      "needs_background": "light"
     },
     "output_type": "display_data"
    }
   ],
   "source": [
    "\n",
    "\n",
    "from sklearn.model_selection import validation_curve\n",
    "pr=np.arange(1,8)\n",
    "train_score,test_score = validation_curve(histboost,x_train,y_train,param_name='Model__max_depth',param_range=pr,cv=StratifiedKFold(n_splits = 5, shuffle = True, random_state = 0,),scoring='recall')\n",
    "train_score =  np.mean(train_score,axis=1)\n",
    "test_score = np.mean(test_score,axis=1)\n",
    "plt.plot(pr,train_score,'o-',color = 'r',label = 'training')\n",
    "plt.plot(pr,test_score,'o-',color = 'g',label = 'testing')\n",
    "plt.legend(loc='best')\n",
    "plt.xlabel('depth')\n",
    "plt.ylabel('recall')\n",
    "plt.show()\n"
   ]
  },
  {
   "cell_type": "code",
   "execution_count": 55,
   "id": "ed910813",
   "metadata": {
    "execution": {
     "iopub.execute_input": "2022-05-19T23:46:10.678247Z",
     "iopub.status.busy": "2022-05-19T23:46:10.677684Z",
     "iopub.status.idle": "2022-05-19T23:47:34.077329Z",
     "shell.execute_reply": "2022-05-19T23:47:34.076709Z"
    },
    "papermill": {
     "duration": 83.502432,
     "end_time": "2022-05-19T23:47:34.109669",
     "exception": false,
     "start_time": "2022-05-19T23:46:10.607237",
     "status": "completed"
    },
    "pycharm": {
     "is_executing": true,
     "name": "#%%\n"
    },
    "tags": []
   },
   "outputs": [
    {
     "data": {
      "image/png": "[encoded data removed]",
      "text/plain": [
       "<Figure size 432x288 with 1 Axes>"
      ]
     },
     "metadata": {
      "needs_background": "light"
     },
     "output_type": "display_data"
    },
    {
     "data": {
      "text/html": [
       "<div>\n",
       "<style scoped>\n",
       "    .dataframe tbody tr th:only-of-type {\n",
       "        vertical-align: middle;\n",
       "    }\n",
       "\n",
       "    .dataframe tbody tr th {\n",
       "        vertical-align: top;\n",
       "    }\n",
       "\n",
       "    .dataframe thead th {\n",
       "        text-align: right;\n",
       "    }\n",
       "</style>\n",
       "<table border=\"1\" class=\"dataframe\">\n",
       "  <thead>\n",
       "    <tr style=\"text-align: right;\">\n",
       "      <th></th>\n",
       "      <th>name</th>\n",
       "      <th>train_accuracy</th>\n",
       "      <th>test_accuracy</th>\n",
       "      <th>test_recall</th>\n",
       "      <th>train_recall</th>\n",
       "    </tr>\n",
       "  </thead>\n",
       "  <tbody>\n",
       "    <tr>\n",
       "      <th>0</th>\n",
       "      <td>K-Nearest Neighbour Classifier</td>\n",
       "      <td>0.962391</td>\n",
       "      <td>0.943875</td>\n",
       "      <td>0.789568</td>\n",
       "      <td>0.943723</td>\n",
       "    </tr>\n",
       "  </tbody>\n",
       "</table>\n",
       "</div>"
      ],
      "text/plain": [
       "                             name  train_accuracy  test_accuracy  test_recall  \\\n",
       "0  K-Nearest Neighbour Classifier        0.962391       0.943875     0.789568   \n",
       "\n",
       "   train_recall  \n",
       "0      0.943723  "
      ]
     },
     "execution_count": 55,
     "metadata": {},
     "output_type": "execute_result"
    }
   ],
   "source": [
    "knnClassifier = imbpipeline([\n",
    "    ('Imputation',preproc),\n",
    "    ('DF Converter',DfConverter()),\n",
    "    ('SMOTE NC Oversampling',SMOTENC(categorical_features=colselect,n_jobs=-1)),\n",
    "    ('DF Converter1',DfConverter()),\n",
    "    ('Data Preprocessing', data_preprocessing),\n",
    "    ('Model', KNeighborsClassifier(n_neighbors=5))\n",
    "])\n",
    "record,current,lr=scoreModel(knnClassifier,x_train,y_train,\"K-Nearest Neighbour Classifier\",record=record)\n",
    "current"
   ]
  },
  {
   "cell_type": "code",
   "execution_count": 56,
   "id": "3ecccc4e",
   "metadata": {
    "execution": {
     "iopub.execute_input": "2022-05-19T23:47:34.175893Z",
     "iopub.status.busy": "2022-05-19T23:47:34.175333Z",
     "iopub.status.idle": "2022-05-19T23:47:34.179099Z",
     "shell.execute_reply": "2022-05-19T23:47:34.178302Z"
    },
    "papermill": {
     "duration": 0.039258,
     "end_time": "2022-05-19T23:47:34.180893",
     "exception": false,
     "start_time": "2022-05-19T23:47:34.141635",
     "status": "completed"
    },
    "pycharm": {
     "is_executing": true,
     "name": "#%%\n"
    },
    "tags": []
   },
   "outputs": [],
   "source": [
    "# parameter={'Model__n_neighbors':np.arange(1,20)}\n",
    "# pd.DataFrame(GridSearchCV(knnClassifier,param_grid=parameter,scoring='recall').fit(x_train,y_train).cv_results_)\n"
   ]
  },
  {
   "cell_type": "markdown",
   "id": "852914de",
   "metadata": {
    "papermill": {
     "duration": 0.031897,
     "end_time": "2022-05-19T23:47:34.244840",
     "exception": false,
     "start_time": "2022-05-19T23:47:34.212943",
     "status": "completed"
    },
    "tags": []
   },
   "source": [
    "## Results"
   ]
  },
  {
   "cell_type": "code",
   "execution_count": 57,
   "id": "07f5223b",
   "metadata": {
    "execution": {
     "iopub.execute_input": "2022-05-19T23:47:34.311191Z",
     "iopub.status.busy": "2022-05-19T23:47:34.310708Z",
     "iopub.status.idle": "2022-05-19T23:47:34.320745Z",
     "shell.execute_reply": "2022-05-19T23:47:34.320180Z"
    },
    "papermill": {
     "duration": 0.045206,
     "end_time": "2022-05-19T23:47:34.322252",
     "exception": false,
     "start_time": "2022-05-19T23:47:34.277046",
     "status": "completed"
    },
    "pycharm": {
     "is_executing": true,
     "name": "#%%\n"
    },
    "tags": []
   },
   "outputs": [
    {
     "data": {
      "text/html": [
       "<div>\n",
       "<style scoped>\n",
       "    .dataframe tbody tr th:only-of-type {\n",
       "        vertical-align: middle;\n",
       "    }\n",
       "\n",
       "    .dataframe tbody tr th {\n",
       "        vertical-align: top;\n",
       "    }\n",
       "\n",
       "    .dataframe thead th {\n",
       "        text-align: right;\n",
       "    }\n",
       "</style>\n",
       "<table border=\"1\" class=\"dataframe\">\n",
       "  <thead>\n",
       "    <tr style=\"text-align: right;\">\n",
       "      <th></th>\n",
       "      <th>name</th>\n",
       "      <th>train_accuracy</th>\n",
       "      <th>test_accuracy</th>\n",
       "      <th>test_recall</th>\n",
       "      <th>train_recall</th>\n",
       "    </tr>\n",
       "  </thead>\n",
       "  <tbody>\n",
       "    <tr>\n",
       "      <th>0</th>\n",
       "      <td>Dummy Baseline Classifier</td>\n",
       "      <td>0.966125</td>\n",
       "      <td>0.966125</td>\n",
       "      <td>0.000000</td>\n",
       "      <td>0.000000</td>\n",
       "    </tr>\n",
       "    <tr>\n",
       "      <th>1</th>\n",
       "      <td>Decision Tree Classifier</td>\n",
       "      <td>0.880094</td>\n",
       "      <td>0.877625</td>\n",
       "      <td>0.930054</td>\n",
       "      <td>0.941883</td>\n",
       "    </tr>\n",
       "    <tr>\n",
       "      <th>2</th>\n",
       "      <td>Random Forest Classifier</td>\n",
       "      <td>0.935437</td>\n",
       "      <td>0.926562</td>\n",
       "      <td>0.861604</td>\n",
       "      <td>0.938192</td>\n",
       "    </tr>\n",
       "    <tr>\n",
       "      <th>3</th>\n",
       "      <td>SVM Classifier</td>\n",
       "      <td>0.894109</td>\n",
       "      <td>0.894250</td>\n",
       "      <td>0.883792</td>\n",
       "      <td>0.904053</td>\n",
       "    </tr>\n",
       "    <tr>\n",
       "      <th>4</th>\n",
       "      <td>Adaptive Boosting Classifier</td>\n",
       "      <td>0.911734</td>\n",
       "      <td>0.909562</td>\n",
       "      <td>0.848658</td>\n",
       "      <td>0.870849</td>\n",
       "    </tr>\n",
       "    <tr>\n",
       "      <th>5</th>\n",
       "      <td>eXtreme Gradient Boosting Classifier</td>\n",
       "      <td>0.929359</td>\n",
       "      <td>0.924188</td>\n",
       "      <td>0.885610</td>\n",
       "      <td>0.924818</td>\n",
       "    </tr>\n",
       "    <tr>\n",
       "      <th>6</th>\n",
       "      <td>Gradient Boosting Classifier</td>\n",
       "      <td>0.926453</td>\n",
       "      <td>0.922250</td>\n",
       "      <td>0.885593</td>\n",
       "      <td>0.931273</td>\n",
       "    </tr>\n",
       "    <tr>\n",
       "      <th>7</th>\n",
       "      <td>Hist Gradiet Boosting Tree</td>\n",
       "      <td>0.905484</td>\n",
       "      <td>0.902187</td>\n",
       "      <td>0.905946</td>\n",
       "      <td>0.922049</td>\n",
       "    </tr>\n",
       "    <tr>\n",
       "      <th>8</th>\n",
       "      <td>K-Nearest Neighbour Classifier</td>\n",
       "      <td>0.962391</td>\n",
       "      <td>0.943875</td>\n",
       "      <td>0.789568</td>\n",
       "      <td>0.943723</td>\n",
       "    </tr>\n",
       "  </tbody>\n",
       "</table>\n",
       "</div>"
      ],
      "text/plain": [
       "                                   name  train_accuracy  test_accuracy  \\\n",
       "0             Dummy Baseline Classifier        0.966125       0.966125   \n",
       "1              Decision Tree Classifier        0.880094       0.877625   \n",
       "2              Random Forest Classifier        0.935437       0.926562   \n",
       "3                        SVM Classifier        0.894109       0.894250   \n",
       "4          Adaptive Boosting Classifier        0.911734       0.909562   \n",
       "5  eXtreme Gradient Boosting Classifier        0.929359       0.924188   \n",
       "6          Gradient Boosting Classifier        0.926453       0.922250   \n",
       "7            Hist Gradiet Boosting Tree        0.905484       0.902187   \n",
       "8        K-Nearest Neighbour Classifier        0.962391       0.943875   \n",
       "\n",
       "   test_recall  train_recall  \n",
       "0     0.000000      0.000000  \n",
       "1     0.930054      0.941883  \n",
       "2     0.861604      0.938192  \n",
       "3     0.883792      0.904053  \n",
       "4     0.848658      0.870849  \n",
       "5     0.885610      0.924818  \n",
       "6     0.885593      0.931273  \n",
       "7     0.905946      0.922049  \n",
       "8     0.789568      0.943723  "
      ]
     },
     "execution_count": 57,
     "metadata": {},
     "output_type": "execute_result"
    }
   ],
   "source": [
    "record"
   ]
  },
  {
   "cell_type": "markdown",
   "id": "8cba7207",
   "metadata": {
    "papermill": {
     "duration": 0.032,
     "end_time": "2022-05-19T23:47:34.386735",
     "exception": false,
     "start_time": "2022-05-19T23:47:34.354735",
     "status": "completed"
    },
    "tags": []
   },
   "source": [
    "### Recall Score"
   ]
  },
  {
   "cell_type": "code",
   "execution_count": 58,
   "id": "d1c07e0c",
   "metadata": {
    "execution": {
     "iopub.execute_input": "2022-05-19T23:47:34.452999Z",
     "iopub.status.busy": "2022-05-19T23:47:34.452328Z",
     "iopub.status.idle": "2022-05-19T23:47:40.766359Z",
     "shell.execute_reply": "2022-05-19T23:47:40.765678Z"
    },
    "papermill": {
     "duration": 6.349588,
     "end_time": "2022-05-19T23:47:40.768275",
     "exception": false,
     "start_time": "2022-05-19T23:47:34.418687",
     "status": "completed"
    },
    "tags": []
   },
   "outputs": [
    {
     "name": "stderr",
     "output_type": "stream",
     "text": [
      "/opt/hostedtoolcache/Python/3.8.12/x64/lib/python3.8/site-packages/sklearn/impute/_iterative.py:699: ConvergenceWarning: [IterativeImputer] Early stopping criterion not reached.\n",
      "  warnings.warn(\n"
     ]
    },
    {
     "data": {
      "text/plain": [
       "0.9117647058823529"
      ]
     },
     "execution_count": 58,
     "metadata": {},
     "output_type": "execute_result"
    }
   ],
   "source": [
    "Final = imbpipeline([\n",
    "    ('Imputation',preproc),\n",
    "    ('DF Converter',DfConverter()),\n",
    "    ('SMOTE NC Oversampling',SMOTENC(categorical_features=colselect,n_jobs=-1)),\n",
    "    ('DF Converter1',DfConverter()),\n",
    "    ('Data Preprocessing', data_preprocessing),\n",
    "\n",
    "    ('Model', HistGradientBoostingClassifier(max_depth=2))\n",
    "])\n",
    "Final.fit(x_train,y_train)\n",
    "\n",
    "\n",
    "y_pred=Final.predict(x_test)\n",
    "\n",
    "recall_score(y_test,y_pred)"
   ]
  },
  {
   "cell_type": "markdown",
   "id": "0874d3b7",
   "metadata": {
    "papermill": {
     "duration": 0.031708,
     "end_time": "2022-05-19T23:47:40.832411",
     "exception": false,
     "start_time": "2022-05-19T23:47:40.800703",
     "status": "completed"
    },
    "tags": []
   },
   "source": [
    "### Feature Importance"
   ]
  },
  {
   "cell_type": "code",
   "execution_count": 59,
   "id": "6de6f7b1",
   "metadata": {
    "execution": {
     "iopub.execute_input": "2022-05-19T23:47:40.898304Z",
     "iopub.status.busy": "2022-05-19T23:47:40.897699Z",
     "iopub.status.idle": "2022-05-19T23:47:42.708889Z",
     "shell.execute_reply": "2022-05-19T23:47:42.708275Z"
    },
    "papermill": {
     "duration": 1.846386,
     "end_time": "2022-05-19T23:47:42.710583",
     "exception": false,
     "start_time": "2022-05-19T23:47:40.864197",
     "status": "completed"
    },
    "tags": []
   },
   "outputs": [
    {
     "name": "stdout",
     "output_type": "stream",
     "text": [
      "Torque (Nm)0.033 +/- 0.003\n",
      "Ambient T (C)0.024 +/- 0.004\n",
      "Process T (C)0.014 +/- 0.001\n",
      "Tool Wear (min)0.007 +/- 0.002\n",
      "[-0.00125  0.0236   0.01435  0.03325  0.0069 ]\n"
     ]
    }
   ],
   "source": [
    "imps = permutation_importance(Final, x_test, y_test)\n",
    "for i in imps.importances_mean.argsort()[::-1]:\n",
    "     if imps.importances_mean[i] - 2 * imps.importances_std[i] > 0:\n",
    "         print(f\"{x_train.columns[i]:<8}\"\n",
    "               f\"{imps.importances_mean[i]:.3f}\"\n",
    "               f\" +/- {imps.importances_std[i]:.3f}\")\n",
    "print(imps.importances_mean)"
   ]
  },
  {
   "cell_type": "markdown",
   "id": "39d17628",
   "metadata": {
    "papermill": {
     "duration": 0.031989,
     "end_time": "2022-05-19T23:47:42.775093",
     "exception": false,
     "start_time": "2022-05-19T23:47:42.743104",
     "status": "completed"
    },
    "tags": []
   },
   "source": [
    "### Classification Report"
   ]
  },
  {
   "cell_type": "code",
   "execution_count": 60,
   "id": "979705af",
   "metadata": {
    "execution": {
     "iopub.execute_input": "2022-05-19T23:47:42.840569Z",
     "iopub.status.busy": "2022-05-19T23:47:42.839996Z",
     "iopub.status.idle": "2022-05-19T23:47:42.852859Z",
     "shell.execute_reply": "2022-05-19T23:47:42.852133Z"
    },
    "papermill": {
     "duration": 0.047718,
     "end_time": "2022-05-19T23:47:42.854604",
     "exception": false,
     "start_time": "2022-05-19T23:47:42.806886",
     "status": "completed"
    },
    "tags": []
   },
   "outputs": [
    {
     "name": "stdout",
     "output_type": "stream",
     "text": [
      "              precision    recall  f1-score   support\n",
      "\n",
      "           0       1.00      0.89      0.94      3864\n",
      "           1       0.23      0.91      0.37       136\n",
      "\n",
      "    accuracy                           0.89      4000\n",
      "   macro avg       0.61      0.90      0.65      4000\n",
      "weighted avg       0.97      0.89      0.92      4000\n",
      "\n"
     ]
    }
   ],
   "source": [
    "print(classification_report(y_test,y_pred))"
   ]
  },
  {
   "cell_type": "markdown",
   "id": "468fc9b6",
   "metadata": {
    "papermill": {
     "duration": 0.031684,
     "end_time": "2022-05-19T23:47:42.917979",
     "exception": false,
     "start_time": "2022-05-19T23:47:42.886295",
     "status": "completed"
    },
    "tags": []
   },
   "source": [
    "### ROC Curve"
   ]
  },
  {
   "cell_type": "code",
   "execution_count": 61,
   "id": "43fc0123",
   "metadata": {
    "execution": {
     "iopub.execute_input": "2022-05-19T23:47:42.983220Z",
     "iopub.status.busy": "2022-05-19T23:47:42.982514Z",
     "iopub.status.idle": "2022-05-19T23:47:43.197680Z",
     "shell.execute_reply": "2022-05-19T23:47:43.196995Z"
    },
    "papermill": {
     "duration": 0.250156,
     "end_time": "2022-05-19T23:47:43.199759",
     "exception": false,
     "start_time": "2022-05-19T23:47:42.949603",
     "status": "completed"
    },
    "scrolled": true,
    "tags": []
   },
   "outputs": [
    {
     "name": "stderr",
     "output_type": "stream",
     "text": [
      "/opt/hostedtoolcache/Python/3.8.12/x64/lib/python3.8/site-packages/sklearn/utils/deprecation.py:87: FutureWarning: Function plot_roc_curve is deprecated; Function :func:`plot_roc_curve` is deprecated in 1.0 and will be removed in 1.2. Use one of the class methods: :meth:`sklearn.metric.RocCurveDisplay.from_predictions` or :meth:`sklearn.metric.RocCurveDisplay.from_estimator`.\n",
      "  warnings.warn(msg, category=FutureWarning)\n"
     ]
    },
    {
     "data": {
      "text/plain": [
       "<sklearn.metrics._plot.roc_curve.RocCurveDisplay at 0x7f1ffea48280>"
      ]
     },
     "execution_count": 61,
     "metadata": {},
     "output_type": "execute_result"
    },
    {
     "data": {
      "image/png": "[encoded data removed]",
      "text/plain": [
       "<Figure size 432x288 with 1 Axes>"
      ]
     },
     "metadata": {
      "needs_background": "light"
     },
     "output_type": "display_data"
    }
   ],
   "source": [
    "plot_roc_curve(Final,x_test,y_test)"
   ]
  },
  {
   "cell_type": "markdown",
   "id": "ad23bb6c",
   "metadata": {
    "papermill": {
     "duration": 0.033054,
     "end_time": "2022-05-19T23:47:43.265966",
     "exception": false,
     "start_time": "2022-05-19T23:47:43.232912",
     "status": "completed"
    },
    "tags": []
   },
   "source": [
    "### Confusion Matrix"
   ]
  },
  {
   "cell_type": "code",
   "execution_count": 62,
   "id": "06d14e6b",
   "metadata": {
    "execution": {
     "iopub.execute_input": "2022-05-19T23:47:43.334510Z",
     "iopub.status.busy": "2022-05-19T23:47:43.333672Z",
     "iopub.status.idle": "2022-05-19T23:47:43.345352Z",
     "shell.execute_reply": "2022-05-19T23:47:43.344643Z"
    },
    "papermill": {
     "duration": 0.047518,
     "end_time": "2022-05-19T23:47:43.346890",
     "exception": false,
     "start_time": "2022-05-19T23:47:43.299372",
     "status": "completed"
    },
    "tags": []
   },
   "outputs": [
    {
     "data": {
      "text/html": [
       "<div>\n",
       "<style scoped>\n",
       "    .dataframe tbody tr th:only-of-type {\n",
       "        vertical-align: middle;\n",
       "    }\n",
       "\n",
       "    .dataframe tbody tr th {\n",
       "        vertical-align: top;\n",
       "    }\n",
       "\n",
       "    .dataframe thead th {\n",
       "        text-align: right;\n",
       "    }\n",
       "</style>\n",
       "<table border=\"1\" class=\"dataframe\">\n",
       "  <thead>\n",
       "    <tr style=\"text-align: right;\">\n",
       "      <th></th>\n",
       "      <th>1</th>\n",
       "      <th>0</th>\n",
       "    </tr>\n",
       "  </thead>\n",
       "  <tbody>\n",
       "    <tr>\n",
       "      <th>1</th>\n",
       "      <td>124</td>\n",
       "      <td>12</td>\n",
       "    </tr>\n",
       "    <tr>\n",
       "      <th>0</th>\n",
       "      <td>417</td>\n",
       "      <td>3447</td>\n",
       "    </tr>\n",
       "  </tbody>\n",
       "</table>\n",
       "</div>"
      ],
      "text/plain": [
       "     1     0\n",
       "1  124    12\n",
       "0  417  3447"
      ]
     },
     "execution_count": 62,
     "metadata": {},
     "output_type": "execute_result"
    }
   ],
   "source": [
    "cm=pd.DataFrame(confusion_matrix(y_test,y_pred)).reindex([1,0])[[1,0]]\n",
    "cm"
   ]
  },
  {
   "cell_type": "code",
   "execution_count": 63,
   "id": "720091d7",
   "metadata": {
    "execution": {
     "iopub.execute_input": "2022-05-19T23:47:43.415673Z",
     "iopub.status.busy": "2022-05-19T23:47:43.414865Z",
     "iopub.status.idle": "2022-05-19T23:47:43.542883Z",
     "shell.execute_reply": "2022-05-19T23:47:43.542178Z"
    },
    "papermill": {
     "duration": 0.164501,
     "end_time": "2022-05-19T23:47:43.544624",
     "exception": false,
     "start_time": "2022-05-19T23:47:43.380123",
     "status": "completed"
    },
    "tags": []
   },
   "outputs": [
    {
     "data": {
      "image/png": "[encoded data removed]",
      "text/plain": [
       "<Figure size 432x288 with 2 Axes>"
      ]
     },
     "metadata": {
      "needs_background": "light"
     },
     "output_type": "display_data"
    }
   ],
   "source": [
    "from sklearn.metrics import ConfusionMatrixDisplay\n",
    "cmg=ConfusionMatrixDisplay(cm.to_numpy(),display_labels=[1,0])\n",
    "cmg.plot()\n",
    "plt.show()"
   ]
  },
  {
   "cell_type": "code",
   "execution_count": null,
   "id": "277e0b48",
   "metadata": {
    "papermill": {
     "duration": 0.033474,
     "end_time": "2022-05-19T23:47:43.611924",
     "exception": false,
     "start_time": "2022-05-19T23:47:43.578450",
     "status": "completed"
    },
    "tags": []
   },
   "outputs": [],
   "source": []
  }
 ],
 "metadata": {
  "kernelspec": {
   "display_name": "Python 3 (ipykernel)",
   "language": "python",
   "name": "python3"
  },
  "language_info": {
   "codemirror_mode": {
    "name": "ipython",
    "version": 3
   },
   "file_extension": ".py",
   "mimetype": "text/x-python",
   "name": "python",
   "nbconvert_exporter": "python",
   "pygments_lexer": "ipython3",
   "version": "3.8.12"
  },
  "papermill": {
   "default_parameters": {},
   "duration": 1552.6396,
   "end_time": "2022-05-19T23:47:46.370303",
   "environment_variables": {},
   "exception": null,
   "input_path": "Machine_Classification.ipynb",
   "output_path": "Machine_Classification.ipynb",
   "parameters": {},
   "start_time": "2022-05-19T23:21:53.730703",
   "version": "2.3.4"
  }
 },
 "nbformat": 4,
 "nbformat_minor": 5
}